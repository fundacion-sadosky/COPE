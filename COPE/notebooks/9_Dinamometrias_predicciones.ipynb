{
 "cells": [
  {
   "cell_type": "markdown",
   "id": "a8fb220c",
   "metadata": {},
   "source": [
    "<div style=\"background-color:#00000\">\n",
    "    <img src=\"https://fundacionsadosky.org.ar/wp-content/uploads/2022/08/logo.png\" />\n",
    "</div>\n",
    "<div style=\"background-color:#03030a; margin:20px 45%\">\n",
    "    <img src=\"https://www.rfindustrial.com/wp-content/uploads/2023/04/cropped-1080x1080_Mesa-de-trabajo-1.png\" />\n",
    "</div>\n",
    "<div style=\"background-color:#00000;\">\n",
    "    <img src=\"https://sinc.unl.edu.ar/wp-content/themes/sinci/img/sinc-logo.png\" />\n",
    "</div>\n",
    "\n",
    "<p style=\"font-size: 30px\">\n",
    "    <strong>COPE - “Sistema inteligente de medición de nivel y control de velocidad de bombeo para pozos petrolíferos\"</strong>\n",
    "</p>\n",
    "\n",
    "<p style=\"font-size: 20px\">\n",
    "    Objetivo del análisis: Realizar una experimentación para predecir el comportamiento del pozo.\n",
    "</p>\n",
    "\n",
    "25/09/2023"
   ]
  },
  {
   "cell_type": "markdown",
   "id": "5d6a2871",
   "metadata": {},
   "source": [
    "# Imports generales"
   ]
  },
  {
   "cell_type": "code",
   "execution_count": 1,
   "id": "af99bf9f",
   "metadata": {
    "ExecuteTime": {
     "end_time": "2023-11-14T17:34:15.383580Z",
     "start_time": "2023-11-14T17:34:08.977341Z"
    }
   },
   "outputs": [
    {
     "data": {
      "text/html": [
       "<style>.container { width:95% !important; }</style>"
      ],
      "text/plain": [
       "<IPython.core.display.HTML object>"
      ]
     },
     "metadata": {},
     "output_type": "display_data"
    },
    {
     "data": {
      "text/html": [
       "        <script type=\"text/javascript\">\n",
       "        window.PlotlyConfig = {MathJaxConfig: 'local'};\n",
       "        if (window.MathJax && window.MathJax.Hub && window.MathJax.Hub.Config) {window.MathJax.Hub.Config({SVG: {font: \"STIX-Web\"}});}\n",
       "        if (typeof require !== 'undefined') {\n",
       "        require.undef(\"plotly\");\n",
       "        requirejs.config({\n",
       "            paths: {\n",
       "                'plotly': ['https://cdn.plot.ly/plotly-2.18.2.min']\n",
       "            }\n",
       "        });\n",
       "        require(['plotly'], function(Plotly) {\n",
       "            window._Plotly = Plotly;\n",
       "        });\n",
       "        }\n",
       "        </script>\n",
       "        "
      ]
     },
     "metadata": {},
     "output_type": "display_data"
    }
   ],
   "source": [
    "from IPython.display import display, HTML\n",
    "display(HTML(\"<style>.container { width:95% !important; }</style>\"))\n",
    "\n",
    "import sys\n",
    "sys.path.append(\"../\") # go to parent dir\n",
    "\n",
    "import numpy as np\n",
    "import pandas as pd\n",
    "pd.set_option('display.max_columns', 500)\n",
    "\n",
    "import plotly.offline as pyo\n",
    "import plotly.express as px\n",
    "import plotly.graph_objects as go\n",
    "from plotly.subplots import make_subplots\n",
    "import seaborn as sns\n",
    "# Set notebook mode to work in offline\n",
    "pyo.init_notebook_mode(connected=True)\n",
    "\n",
    "from src.data import utils\n",
    "from src.methods import utils\n",
    "from src.methods import base as base_methods\n",
    "\n",
    "from sklearn.model_selection import KFold\n",
    "from sklearn.pipeline import Pipeline, make_pipeline\n",
    "from sklearn_pandas import DataFrameMapper\n",
    "from sklearn import preprocessing\n",
    "\n",
    "from sklearn.tree import DecisionTreeRegressor\n",
    "from sklearn.ensemble import AdaBoostRegressor, GradientBoostingRegressor\n",
    "from sklearn.neural_network import MLPRegressor\n",
    "from sklearn.base import BaseEstimator\n",
    "\n",
    "from sklearn.model_selection import cross_val_score, cross_validate, GridSearchCV\n",
    "from sklearn.metrics import mean_absolute_error\n",
    "\n",
    "import copy\n",
    "\n",
    "class SameValueEstimator(BaseEstimator):\n",
    "    def fit(self, X, y):\n",
    "        return self\n",
    "    \n",
    "    def predict(self, X):\n",
    "        return np.zeros(len(X))\n",
    "\n",
    "RANDOM_SEED = 24\n",
    "np.random.seed(RANDOM_SEED)"
   ]
  },
  {
   "cell_type": "markdown",
   "id": "121e32c6",
   "metadata": {},
   "source": [
    "# Carga de datos"
   ]
  },
  {
   "cell_type": "code",
   "execution_count": 2,
   "id": "d8f43655",
   "metadata": {
    "ExecuteTime": {
     "end_time": "2023-11-07T12:33:58.873064Z",
     "start_time": "2023-11-07T12:33:58.841565Z"
    }
   },
   "outputs": [],
   "source": [
    "df = pd.read_csv('../data/raw/dinamometrias.csv')"
   ]
  },
  {
   "cell_type": "code",
   "execution_count": 3,
   "id": "d1dd1822",
   "metadata": {
    "ExecuteTime": {
     "end_time": "2023-11-07T12:33:58.900012Z",
     "start_time": "2023-11-07T12:33:58.875101Z"
    }
   },
   "outputs": [
    {
     "data": {
      "text/html": [
       "<div>\n",
       "<style scoped>\n",
       "    .dataframe tbody tr th:only-of-type {\n",
       "        vertical-align: middle;\n",
       "    }\n",
       "\n",
       "    .dataframe tbody tr th {\n",
       "        vertical-align: top;\n",
       "    }\n",
       "\n",
       "    .dataframe thead th {\n",
       "        text-align: right;\n",
       "    }\n",
       "</style>\n",
       "<table border=\"1\" class=\"dataframe\">\n",
       "  <thead>\n",
       "    <tr style=\"text-align: right;\">\n",
       "      <th></th>\n",
       "      <th>fecha</th>\n",
       "      <th>pozo</th>\n",
       "      <th>porcentaje agua</th>\n",
       "      <th>presion casing</th>\n",
       "      <th>presion boca pozo</th>\n",
       "      <th>yacimiento</th>\n",
       "      <th>zona</th>\n",
       "      <th>carrera</th>\n",
       "      <th>gpm</th>\n",
       "      <th>tv</th>\n",
       "      <th>sv</th>\n",
       "      <th>cbe</th>\n",
       "      <th>tmax</th>\n",
       "      <th>vpmax</th>\n",
       "      <th>carga max fondo</th>\n",
       "      <th>carga min fondo</th>\n",
       "      <th>sobre recorrido</th>\n",
       "      <th>estiramiento</th>\n",
       "      <th>profundidad bomba</th>\n",
       "      <th>cuplas</th>\n",
       "      <th>produccion petroleo</th>\n",
       "      <th>profundidad gas</th>\n",
       "      <th>profundidad niveles</th>\n",
       "      <th>velocidad sonido</th>\n",
       "      <th>sumergencia efectiva</th>\n",
       "      <th>presion dinamica</th>\n",
       "      <th>presion interface</th>\n",
       "    </tr>\n",
       "  </thead>\n",
       "  <tbody>\n",
       "    <tr>\n",
       "      <th>0</th>\n",
       "      <td>2022-10-14</td>\n",
       "      <td>F 281</td>\n",
       "      <td>98.45</td>\n",
       "      <td>0.5</td>\n",
       "      <td>4.5</td>\n",
       "      <td>DIADEMA</td>\n",
       "      <td>ZONA 2</td>\n",
       "      <td>167.99</td>\n",
       "      <td>7.94</td>\n",
       "      <td>15541</td>\n",
       "      <td>11275</td>\n",
       "      <td>15725</td>\n",
       "      <td>499222</td>\n",
       "      <td>1.1</td>\n",
       "      <td>5320</td>\n",
       "      <td>-3108</td>\n",
       "      <td>8.68</td>\n",
       "      <td>23.69</td>\n",
       "      <td>1925.74</td>\n",
       "      <td>18.2</td>\n",
       "      <td>0.1</td>\n",
       "      <td>171</td>\n",
       "      <td>1598</td>\n",
       "      <td>363</td>\n",
       "      <td>328</td>\n",
       "      <td>436</td>\n",
       "      <td>8</td>\n",
       "    </tr>\n",
       "    <tr>\n",
       "      <th>1</th>\n",
       "      <td>2022-10-20</td>\n",
       "      <td>H 129</td>\n",
       "      <td>92.85</td>\n",
       "      <td>0.0</td>\n",
       "      <td>6.5</td>\n",
       "      <td>DIADEMA</td>\n",
       "      <td>ZONA 4</td>\n",
       "      <td>168.77</td>\n",
       "      <td>5.04</td>\n",
       "      <td>18647</td>\n",
       "      <td>9080</td>\n",
       "      <td>16040</td>\n",
       "      <td>720122</td>\n",
       "      <td>0.7</td>\n",
       "      <td>10573</td>\n",
       "      <td>-2792</td>\n",
       "      <td>3.31</td>\n",
       "      <td>29.56</td>\n",
       "      <td>1454.49</td>\n",
       "      <td>142.6</td>\n",
       "      <td>6.1</td>\n",
       "      <td>1341</td>\n",
       "      <td>1367</td>\n",
       "      <td>388</td>\n",
       "      <td>88</td>\n",
       "      <td>117</td>\n",
       "      <td>2</td>\n",
       "    </tr>\n",
       "  </tbody>\n",
       "</table>\n",
       "</div>"
      ],
      "text/plain": [
       "        fecha   pozo porcentaje agua  presion casing  presion boca pozo  \\\n",
       "0  2022-10-14  F 281           98.45             0.5                4.5   \n",
       "1  2022-10-20  H 129           92.85             0.0                6.5   \n",
       "\n",
       "  yacimiento    zona  carrera   gpm     tv     sv    cbe    tmax  vpmax  \\\n",
       "0    DIADEMA  ZONA 2   167.99  7.94  15541  11275  15725  499222    1.1   \n",
       "1    DIADEMA  ZONA 4   168.77  5.04  18647   9080  16040  720122    0.7   \n",
       "\n",
       "   carga max fondo  carga min fondo  sobre recorrido  estiramiento  \\\n",
       "0             5320            -3108             8.68         23.69   \n",
       "1            10573            -2792             3.31         29.56   \n",
       "\n",
       "   profundidad bomba  cuplas  produccion petroleo  profundidad gas  \\\n",
       "0            1925.74    18.2                  0.1              171   \n",
       "1            1454.49   142.6                  6.1             1341   \n",
       "\n",
       "   profundidad niveles  velocidad sonido  sumergencia efectiva  \\\n",
       "0                 1598               363                   328   \n",
       "1                 1367               388                    88   \n",
       "\n",
       "   presion dinamica  presion interface  \n",
       "0               436                  8  \n",
       "1               117                  2  "
      ]
     },
     "execution_count": 3,
     "metadata": {},
     "output_type": "execute_result"
    }
   ],
   "source": [
    "df.head(2)"
   ]
  },
  {
   "cell_type": "code",
   "execution_count": 4,
   "id": "fbc34b9b",
   "metadata": {
    "ExecuteTime": {
     "end_time": "2023-11-07T12:33:58.968530Z",
     "start_time": "2023-11-07T12:33:58.904108Z"
    }
   },
   "outputs": [
    {
     "data": {
      "text/html": [
       "<div>\n",
       "<style scoped>\n",
       "    .dataframe tbody tr th:only-of-type {\n",
       "        vertical-align: middle;\n",
       "    }\n",
       "\n",
       "    .dataframe tbody tr th {\n",
       "        vertical-align: top;\n",
       "    }\n",
       "\n",
       "    .dataframe thead th {\n",
       "        text-align: right;\n",
       "    }\n",
       "</style>\n",
       "<table border=\"1\" class=\"dataframe\">\n",
       "  <thead>\n",
       "    <tr style=\"text-align: right;\">\n",
       "      <th></th>\n",
       "      <th>presion casing</th>\n",
       "      <th>presion boca pozo</th>\n",
       "      <th>carrera</th>\n",
       "      <th>gpm</th>\n",
       "      <th>tv</th>\n",
       "      <th>sv</th>\n",
       "      <th>cbe</th>\n",
       "      <th>tmax</th>\n",
       "      <th>vpmax</th>\n",
       "      <th>carga max fondo</th>\n",
       "      <th>carga min fondo</th>\n",
       "      <th>sobre recorrido</th>\n",
       "      <th>estiramiento</th>\n",
       "      <th>profundidad bomba</th>\n",
       "      <th>cuplas</th>\n",
       "      <th>produccion petroleo</th>\n",
       "      <th>profundidad gas</th>\n",
       "      <th>profundidad niveles</th>\n",
       "      <th>velocidad sonido</th>\n",
       "      <th>sumergencia efectiva</th>\n",
       "      <th>presion dinamica</th>\n",
       "      <th>presion interface</th>\n",
       "    </tr>\n",
       "  </thead>\n",
       "  <tbody>\n",
       "    <tr>\n",
       "      <th>count</th>\n",
       "      <td>2273.000000</td>\n",
       "      <td>2273.000000</td>\n",
       "      <td>2273.000000</td>\n",
       "      <td>2273.000000</td>\n",
       "      <td>2273.000000</td>\n",
       "      <td>2273.000000</td>\n",
       "      <td>2273.000000</td>\n",
       "      <td>2273.000000</td>\n",
       "      <td>2273.000000</td>\n",
       "      <td>2273.000000</td>\n",
       "      <td>2273.000000</td>\n",
       "      <td>2273.000000</td>\n",
       "      <td>2273.000000</td>\n",
       "      <td>2273.000000</td>\n",
       "      <td>2273.000000</td>\n",
       "      <td>2273.000000</td>\n",
       "      <td>2273.000000</td>\n",
       "      <td>2273.000000</td>\n",
       "      <td>2273.000000</td>\n",
       "      <td>2273.000000</td>\n",
       "      <td>2273.000000</td>\n",
       "      <td>2273.000000</td>\n",
       "    </tr>\n",
       "    <tr>\n",
       "      <th>mean</th>\n",
       "      <td>2.836252</td>\n",
       "      <td>11.040255</td>\n",
       "      <td>152.085631</td>\n",
       "      <td>5.665913</td>\n",
       "      <td>15125.555653</td>\n",
       "      <td>9613.488781</td>\n",
       "      <td>14959.559173</td>\n",
       "      <td>525910.671359</td>\n",
       "      <td>0.638583</td>\n",
       "      <td>6258.824901</td>\n",
       "      <td>-2798.278927</td>\n",
       "      <td>5.439534</td>\n",
       "      <td>24.658812</td>\n",
       "      <td>1626.684611</td>\n",
       "      <td>130.886450</td>\n",
       "      <td>5.942895</td>\n",
       "      <td>1230.312802</td>\n",
       "      <td>1354.754070</td>\n",
       "      <td>364.327761</td>\n",
       "      <td>271.737791</td>\n",
       "      <td>402.556973</td>\n",
       "      <td>47.991201</td>\n",
       "    </tr>\n",
       "    <tr>\n",
       "      <th>std</th>\n",
       "      <td>4.582152</td>\n",
       "      <td>7.396871</td>\n",
       "      <td>29.968334</td>\n",
       "      <td>1.872075</td>\n",
       "      <td>3683.317522</td>\n",
       "      <td>2564.983998</td>\n",
       "      <td>3317.775167</td>\n",
       "      <td>191646.861505</td>\n",
       "      <td>0.326733</td>\n",
       "      <td>2578.630607</td>\n",
       "      <td>1294.194567</td>\n",
       "      <td>3.784793</td>\n",
       "      <td>9.951332</td>\n",
       "      <td>361.211442</td>\n",
       "      <td>44.208121</td>\n",
       "      <td>8.279344</td>\n",
       "      <td>415.825745</td>\n",
       "      <td>386.975344</td>\n",
       "      <td>277.335485</td>\n",
       "      <td>287.542077</td>\n",
       "      <td>364.172842</td>\n",
       "      <td>74.407779</td>\n",
       "    </tr>\n",
       "    <tr>\n",
       "      <th>min</th>\n",
       "      <td>0.000000</td>\n",
       "      <td>0.000000</td>\n",
       "      <td>17.250000</td>\n",
       "      <td>1.700000</td>\n",
       "      <td>1805.000000</td>\n",
       "      <td>646.000000</td>\n",
       "      <td>0.000000</td>\n",
       "      <td>0.000000</td>\n",
       "      <td>0.100000</td>\n",
       "      <td>11.000000</td>\n",
       "      <td>-9577.000000</td>\n",
       "      <td>0.000000</td>\n",
       "      <td>0.970000</td>\n",
       "      <td>134.580000</td>\n",
       "      <td>8.500000</td>\n",
       "      <td>-11.400000</td>\n",
       "      <td>80.000000</td>\n",
       "      <td>82.000000</td>\n",
       "      <td>183.000000</td>\n",
       "      <td>1.000000</td>\n",
       "      <td>18.000000</td>\n",
       "      <td>0.000000</td>\n",
       "    </tr>\n",
       "    <tr>\n",
       "      <th>25%</th>\n",
       "      <td>0.000000</td>\n",
       "      <td>6.000000</td>\n",
       "      <td>143.780000</td>\n",
       "      <td>4.070000</td>\n",
       "      <td>12815.000000</td>\n",
       "      <td>8160.000000</td>\n",
       "      <td>13449.000000</td>\n",
       "      <td>397473.000000</td>\n",
       "      <td>0.400000</td>\n",
       "      <td>4399.000000</td>\n",
       "      <td>-3466.000000</td>\n",
       "      <td>2.570000</td>\n",
       "      <td>17.370000</td>\n",
       "      <td>1404.420000</td>\n",
       "      <td>103.700000</td>\n",
       "      <td>2.200000</td>\n",
       "      <td>973.000000</td>\n",
       "      <td>1101.000000</td>\n",
       "      <td>310.000000</td>\n",
       "      <td>65.000000</td>\n",
       "      <td>150.000000</td>\n",
       "      <td>2.000000</td>\n",
       "    </tr>\n",
       "    <tr>\n",
       "      <th>50%</th>\n",
       "      <td>0.100000</td>\n",
       "      <td>10.000000</td>\n",
       "      <td>167.560000</td>\n",
       "      <td>5.320000</td>\n",
       "      <td>15523.000000</td>\n",
       "      <td>9558.000000</td>\n",
       "      <td>15634.000000</td>\n",
       "      <td>550713.000000</td>\n",
       "      <td>0.600000</td>\n",
       "      <td>5951.000000</td>\n",
       "      <td>-2705.000000</td>\n",
       "      <td>4.690000</td>\n",
       "      <td>23.450000</td>\n",
       "      <td>1574.660000</td>\n",
       "      <td>127.000000</td>\n",
       "      <td>3.700000</td>\n",
       "      <td>1194.000000</td>\n",
       "      <td>1317.000000</td>\n",
       "      <td>355.000000</td>\n",
       "      <td>159.000000</td>\n",
       "      <td>277.000000</td>\n",
       "      <td>4.000000</td>\n",
       "    </tr>\n",
       "    <tr>\n",
       "      <th>75%</th>\n",
       "      <td>4.500000</td>\n",
       "      <td>15.000000</td>\n",
       "      <td>168.500000</td>\n",
       "      <td>7.090000</td>\n",
       "      <td>17983.000000</td>\n",
       "      <td>11549.000000</td>\n",
       "      <td>16565.000000</td>\n",
       "      <td>660738.000000</td>\n",
       "      <td>0.900000</td>\n",
       "      <td>7796.000000</td>\n",
       "      <td>-2003.000000</td>\n",
       "      <td>7.990000</td>\n",
       "      <td>31.310000</td>\n",
       "      <td>1932.900000</td>\n",
       "      <td>156.000000</td>\n",
       "      <td>6.800000</td>\n",
       "      <td>1468.000000</td>\n",
       "      <td>1665.000000</td>\n",
       "      <td>390.000000</td>\n",
       "      <td>368.000000</td>\n",
       "      <td>541.000000</td>\n",
       "      <td>76.000000</td>\n",
       "    </tr>\n",
       "    <tr>\n",
       "      <th>max</th>\n",
       "      <td>24.400000</td>\n",
       "      <td>56.000000</td>\n",
       "      <td>194.630000</td>\n",
       "      <td>11.680000</td>\n",
       "      <td>25081.000000</td>\n",
       "      <td>16983.000000</td>\n",
       "      <td>23083.000000</td>\n",
       "      <td>988476.000000</td>\n",
       "      <td>1.600000</td>\n",
       "      <td>16914.000000</td>\n",
       "      <td>7467.000000</td>\n",
       "      <td>23.090000</td>\n",
       "      <td>76.230000</td>\n",
       "      <td>2648.000000</td>\n",
       "      <td>269.400000</td>\n",
       "      <td>241.000000</td>\n",
       "      <td>2533.000000</td>\n",
       "      <td>2578.000000</td>\n",
       "      <td>7825.000000</td>\n",
       "      <td>1616.000000</td>\n",
       "      <td>2112.000000</td>\n",
       "      <td>391.000000</td>\n",
       "    </tr>\n",
       "  </tbody>\n",
       "</table>\n",
       "</div>"
      ],
      "text/plain": [
       "       presion casing  presion boca pozo      carrera          gpm  \\\n",
       "count     2273.000000        2273.000000  2273.000000  2273.000000   \n",
       "mean         2.836252          11.040255   152.085631     5.665913   \n",
       "std          4.582152           7.396871    29.968334     1.872075   \n",
       "min          0.000000           0.000000    17.250000     1.700000   \n",
       "25%          0.000000           6.000000   143.780000     4.070000   \n",
       "50%          0.100000          10.000000   167.560000     5.320000   \n",
       "75%          4.500000          15.000000   168.500000     7.090000   \n",
       "max         24.400000          56.000000   194.630000    11.680000   \n",
       "\n",
       "                 tv            sv           cbe           tmax        vpmax  \\\n",
       "count   2273.000000   2273.000000   2273.000000    2273.000000  2273.000000   \n",
       "mean   15125.555653   9613.488781  14959.559173  525910.671359     0.638583   \n",
       "std     3683.317522   2564.983998   3317.775167  191646.861505     0.326733   \n",
       "min     1805.000000    646.000000      0.000000       0.000000     0.100000   \n",
       "25%    12815.000000   8160.000000  13449.000000  397473.000000     0.400000   \n",
       "50%    15523.000000   9558.000000  15634.000000  550713.000000     0.600000   \n",
       "75%    17983.000000  11549.000000  16565.000000  660738.000000     0.900000   \n",
       "max    25081.000000  16983.000000  23083.000000  988476.000000     1.600000   \n",
       "\n",
       "       carga max fondo  carga min fondo  sobre recorrido  estiramiento  \\\n",
       "count      2273.000000      2273.000000      2273.000000   2273.000000   \n",
       "mean       6258.824901     -2798.278927         5.439534     24.658812   \n",
       "std        2578.630607      1294.194567         3.784793      9.951332   \n",
       "min          11.000000     -9577.000000         0.000000      0.970000   \n",
       "25%        4399.000000     -3466.000000         2.570000     17.370000   \n",
       "50%        5951.000000     -2705.000000         4.690000     23.450000   \n",
       "75%        7796.000000     -2003.000000         7.990000     31.310000   \n",
       "max       16914.000000      7467.000000        23.090000     76.230000   \n",
       "\n",
       "       profundidad bomba       cuplas  produccion petroleo  profundidad gas  \\\n",
       "count        2273.000000  2273.000000          2273.000000      2273.000000   \n",
       "mean         1626.684611   130.886450             5.942895      1230.312802   \n",
       "std           361.211442    44.208121             8.279344       415.825745   \n",
       "min           134.580000     8.500000           -11.400000        80.000000   \n",
       "25%          1404.420000   103.700000             2.200000       973.000000   \n",
       "50%          1574.660000   127.000000             3.700000      1194.000000   \n",
       "75%          1932.900000   156.000000             6.800000      1468.000000   \n",
       "max          2648.000000   269.400000           241.000000      2533.000000   \n",
       "\n",
       "       profundidad niveles  velocidad sonido  sumergencia efectiva  \\\n",
       "count          2273.000000       2273.000000           2273.000000   \n",
       "mean           1354.754070        364.327761            271.737791   \n",
       "std             386.975344        277.335485            287.542077   \n",
       "min              82.000000        183.000000              1.000000   \n",
       "25%            1101.000000        310.000000             65.000000   \n",
       "50%            1317.000000        355.000000            159.000000   \n",
       "75%            1665.000000        390.000000            368.000000   \n",
       "max            2578.000000       7825.000000           1616.000000   \n",
       "\n",
       "       presion dinamica  presion interface  \n",
       "count       2273.000000        2273.000000  \n",
       "mean         402.556973          47.991201  \n",
       "std          364.172842          74.407779  \n",
       "min           18.000000           0.000000  \n",
       "25%          150.000000           2.000000  \n",
       "50%          277.000000           4.000000  \n",
       "75%          541.000000          76.000000  \n",
       "max         2112.000000         391.000000  "
      ]
     },
     "execution_count": 4,
     "metadata": {},
     "output_type": "execute_result"
    }
   ],
   "source": [
    "df.describe()"
   ]
  },
  {
   "cell_type": "code",
   "execution_count": 5,
   "id": "c1af090e",
   "metadata": {
    "ExecuteTime": {
     "end_time": "2023-11-07T12:33:59.005220Z",
     "start_time": "2023-11-07T12:33:58.971568Z"
    }
   },
   "outputs": [],
   "source": [
    "df['fecha'] = pd.to_datetime(df.fecha)\n",
    "df = df.sort_values(by=['pozo', 'fecha'])\n",
    "df.columns = [c.lower().replace(' ', '_') for c in df.columns]\n",
    "df['porcentaje_agua'] = pd.to_numeric(df.porcentaje_agua, errors='coerce')"
   ]
  },
  {
   "cell_type": "markdown",
   "id": "965537ee",
   "metadata": {},
   "source": [
    "# Define useful things"
   ]
  },
  {
   "cell_type": "code",
   "execution_count": 6,
   "id": "a4aea2b6",
   "metadata": {
    "ExecuteTime": {
     "end_time": "2023-11-07T12:33:59.018473Z",
     "start_time": "2023-11-07T12:33:59.008043Z"
    }
   },
   "outputs": [],
   "source": [
    "def add_time_stamps_and_other_features(_df,\n",
    "                                       cols_to_include,\n",
    "                                       n=1,\n",
    "                                       relative_diffs=True):\n",
    "    _df = _df.sort_values(['pozo', 'fecha'])\n",
    "    \n",
    "    if n > 0:\n",
    "        for i in range(n):\n",
    "            shift = i + 1\n",
    "            \n",
    "            # Add diff in days to previous columns\n",
    "            dias_column = f'dias_estudio_previo_{shift}'\n",
    "            _df[dias_column] = _df.shift(shift - 1).fecha - _df.shift(shift).fecha\n",
    "\n",
    "            # Add well previous study and filter mismatches.\n",
    "            pozo_column = f'pozo_estudio_previo_{shift}'\n",
    "            _df[pozo_column] = _df.shift(shift).pozo\n",
    "            _df = _df[_df[pozo_column] == _df['pozo']].copy()\n",
    "\n",
    "            for c in cols_to_include:\n",
    "                if relative_diffs:\n",
    "                    _df[f'diff_{c}_{shift}'] = (_df.shift(shift - 1)[c] - _df.shift(shift)[c]) / _df[c]\n",
    "                else:\n",
    "                    _df[f'diff_{c}_{shift}'] = (_df.shift(shift - 1)[c] - _df.shift(shift)[c])     \n",
    "\n",
    "            _df[f'diff_fecha_{shift}'] = (_df.shift(shift)['fecha'] - _df.shift(shift - 1)['fecha']).dt.days\n",
    "\n",
    "    _df['fecha_mes'] = _df.fecha.dt.month\n",
    "    _df['zona_pozo'] = _df.pozo.str.replace(r'(\\d+[.\\d]*)', '', regex=True)\n",
    "    _df.replace([np.inf], 100, inplace=True)\n",
    "    _df.replace([-np.inf], -100, inplace=True)\n",
    "    \n",
    "    return _df\n",
    "\n",
    "def add_label(_df, relative_diff=True):\n",
    "    if relative_diff:\n",
    "        _df['target'] = (_df.shift(-1).porcentaje_agua - _df.porcentaje_agua) / _df.porcentaje_agua\n",
    "    else:\n",
    "        _df['target'] = (_df.shift(-1).porcentaje_agua - _df.porcentaje_agua)\n",
    "\n",
    "    _df['pozo_estudio_siguiente'] = _df.shift(-1).pozo\n",
    "    _df['dias_estudio_proximo'] = (_df.shift(-1).fecha - _df.fecha).dt.days\n",
    "\n",
    "    df_filtered = _df[_df.pozo == _df.pozo_estudio_siguiente].copy()\n",
    "\n",
    "    df_filtered = df_filtered[df_filtered.target.abs() < 100]\n",
    "    \n",
    "    return df_filtered"
   ]
  },
  {
   "cell_type": "code",
   "execution_count": 7,
   "id": "198dd310",
   "metadata": {
    "ExecuteTime": {
     "end_time": "2023-11-07T12:33:59.024365Z",
     "start_time": "2023-11-07T12:33:59.020974Z"
    }
   },
   "outputs": [],
   "source": [
    "cols_to_include = ['porcentaje_agua', 'presion_casing', 'presion_boca_pozo',\n",
    "                   'tv', 'sv', 'cbe', 'tmax', 'vpmax', 'carga_max_fondo', 'carga_min_fondo',\n",
    "                   'sobre_recorrido', 'estiramiento',\n",
    "                   'profundidad_bomba', 'cuplas',\n",
    "                   'produccion_petroleo', 'profundidad_gas', 'profundidad_niveles',\n",
    "                   'velocidad_sonido', 'sumergencia_efectiva', 'presion_dinamica',\n",
    "                   'presion_interface', 'gpm', 'carrera']"
   ]
  },
  {
   "cell_type": "code",
   "execution_count": 8,
   "id": "68acafc3",
   "metadata": {
    "ExecuteTime": {
     "end_time": "2023-11-07T12:33:59.032840Z",
     "start_time": "2023-11-07T12:33:59.026845Z"
    }
   },
   "outputs": [],
   "source": [
    "df = df[df.porcentaje_agua.notnull()]"
   ]
  },
  {
   "cell_type": "code",
   "execution_count": 9,
   "id": "1172a354",
   "metadata": {
    "ExecuteTime": {
     "end_time": "2023-11-07T12:33:59.040413Z",
     "start_time": "2023-11-07T12:33:59.035540Z"
    }
   },
   "outputs": [],
   "source": [
    "model_instances = [\n",
    "    ('DT', DecisionTreeRegressor(max_depth=2,\n",
    "                                 min_samples_leaf=10,\n",
    "                                 random_state=RANDOM_SEED)),\n",
    "    ('Adaboost', AdaBoostRegressor(n_estimators=10,\n",
    "                                   random_state=RANDOM_SEED)),\n",
    "    ('GradientBoosting', GradientBoostingRegressor(n_estimators=10,\n",
    "                                                   random_state=RANDOM_SEED)),\n",
    "    ('MLP', MLPRegressor(hidden_layer_sizes=(100, 100),\n",
    "                         max_iter=10000,\n",
    "                         random_state=RANDOM_SEED)),\n",
    "    ('SameValue', SameValueEstimator())\n",
    "]"
   ]
  },
  {
   "cell_type": "code",
   "execution_count": 10,
   "id": "48b596f1",
   "metadata": {
    "ExecuteTime": {
     "end_time": "2023-11-07T12:33:59.050356Z",
     "start_time": "2023-11-07T12:33:59.044911Z"
    }
   },
   "outputs": [],
   "source": [
    "def run_experiment(_df, models, mapper):\n",
    "    X = _df.copy()\n",
    "    y = _df.target\n",
    "\n",
    "    df_results = pd.DataFrame()\n",
    "\n",
    "    for model_name, base_model_instance in models:\n",
    "        model = copy.deepcopy(base_model_instance)\n",
    "\n",
    "        pipe = Pipeline([\n",
    "            ('mapper', mapper),\n",
    "            ('model', model)])\n",
    "\n",
    "        results = cross_validate(pipe, \n",
    "                                 X, y,\n",
    "                                 cv=5,\n",
    "                                 scoring='neg_mean_absolute_error',\n",
    "                                 return_train_score=True)\n",
    "        \n",
    "        df_partial_results = pd.DataFrame(results, columns=results.keys())\n",
    "        df_partial_results['method'] = model_name\n",
    "        \n",
    "        df_results = pd.concat([df_results, df_partial_results])\n",
    "    \n",
    "    print(df_results)\n",
    "    \n",
    "    print(df_results.groupby('method').test_score.mean())"
   ]
  },
  {
   "cell_type": "markdown",
   "id": "b21c814d",
   "metadata": {},
   "source": [
    "# Evaluate results using n=1 (n is the number of previous studies to include as input features)"
   ]
  },
  {
   "cell_type": "code",
   "execution_count": 13,
   "id": "ae91bcf7",
   "metadata": {
    "ExecuteTime": {
     "end_time": "2023-10-31T10:38:40.546176Z",
     "start_time": "2023-10-31T10:38:40.404216Z"
    }
   },
   "outputs": [
    {
     "name": "stdout",
     "output_type": "stream",
     "text": [
      "(2270, 27)\n",
      "(2130, 55)\n",
      "(2005, 58)\n"
     ]
    }
   ],
   "source": [
    "print(df.shape)\n",
    "df_full = add_time_stamps_and_other_features(df.copy(), cols_to_include)\n",
    "print(df_full.shape)\n",
    "df_full = add_label(df_full)\n",
    "print(df_full.shape)\n",
    "\n",
    "for c in df_full.columns:\n",
    "    if df_full[c].isnull().sum():\n",
    "        df_full[c] = df_full[c].fillna(0)"
   ]
  },
  {
   "cell_type": "code",
   "execution_count": 14,
   "id": "7f27b1c7",
   "metadata": {
    "ExecuteTime": {
     "end_time": "2023-10-31T10:38:40.554775Z",
     "start_time": "2023-10-31T10:38:40.549247Z"
    }
   },
   "outputs": [],
   "source": [
    "one_hot_features = ['zona_pozo']\n",
    "numerical_features = ['porcentaje_agua',\n",
    "                      'presion_casing',\n",
    "                      'presion_boca_pozo',\n",
    "                      'profundidad_bomba',\n",
    "                      'cuplas',\n",
    "                      'produccion_petroleo',\n",
    "                      'gpm',\n",
    "                      'tv',\n",
    "                      'sv',\n",
    "                      'cbe',\n",
    "                      'tmax',\n",
    "                      'carga_max_fondo',\n",
    "                      'carga_min_fondo',\n",
    "                      'sobre_recorrido',\n",
    "                      'estiramiento',\n",
    "                      'carrera',\n",
    "                      'profundidad_gas',\n",
    "                      'profundidad_niveles',\n",
    "                      'velocidad_sonido',\n",
    "                      'sumergencia_efectiva',\n",
    "                      'presion_dinamica',\n",
    "                      'presion_interface',\n",
    "                      'diff_fecha', \n",
    "                      'fecha_mes',\n",
    "                      'dias_estudio_proximo']\n",
    "\n",
    "mapper_inputs = []\n",
    "numerical_preprocessing = preprocessing.MinMaxScaler\n",
    "\n",
    "for c_base in numerical_features:\n",
    "    related_cols = [c for c in df_full.columns if c_base in c]\n",
    "    \n",
    "    for c in related_cols:\n",
    "        mapper_inputs.append(([c], numerical_preprocessing()))\n",
    "\n",
    "for c in one_hot_features:\n",
    "    mapper_inputs.append(([c], preprocessing.OneHotEncoder(handle_unknown='ignore')))\n",
    "\n",
    "mapper = DataFrameMapper(mapper_inputs)"
   ]
  },
  {
   "cell_type": "code",
   "execution_count": 15,
   "id": "b8b21532",
   "metadata": {
    "ExecuteTime": {
     "end_time": "2023-10-31T10:38:52.654832Z",
     "start_time": "2023-10-31T10:38:40.557925Z"
    }
   },
   "outputs": [
    {
     "name": "stdout",
     "output_type": "stream",
     "text": [
      "   fit_time  score_time  test_score  train_score            method\n",
      "0  0.096423    0.047557   -0.192730    -0.170048                DT\n",
      "1  0.081519    0.048734   -0.258897    -0.163311                DT\n",
      "2  0.066130    0.033591   -0.310450    -0.166555                DT\n",
      "3  0.060016    0.035776   -0.060038    -0.211328                DT\n",
      "4  0.058897    0.029476   -0.149556    -0.193868                DT\n",
      "0  0.180567    0.036220   -0.214709    -0.132568          Adaboost\n",
      "1  0.185080    0.037313   -0.234063    -0.092586          Adaboost\n",
      "2  0.203101    0.037154   -0.324284    -0.107114          Adaboost\n",
      "3  0.185027    0.035222   -0.089547    -0.156143          Adaboost\n",
      "4  0.180178    0.030461   -0.100767    -0.129050          Adaboost\n",
      "0  0.258702    0.035556   -0.229609    -0.138260  GradientBoosting\n",
      "1  0.261765    0.036274   -0.267557    -0.121446  GradientBoosting\n",
      "2  0.238003    0.034622   -0.315082    -0.124835  GradientBoosting\n",
      "3  0.261251    0.033886   -0.084480    -0.162907  GradientBoosting\n",
      "4  0.283951    0.028785   -0.135700    -0.152540  GradientBoosting\n",
      "0  0.561830    0.032363   -0.291463    -0.246250               MLP\n",
      "1  1.071650    0.033047   -0.759033    -0.234201               MLP\n",
      "2  1.915452    0.036496   -0.496630    -0.195641               MLP\n",
      "3  1.813806    0.039816   -0.282502    -0.300054               MLP\n",
      "4  1.809631    0.039943   -0.296378    -0.211773               MLP\n",
      "0  0.061241    0.038344   -0.196466    -0.148497         SameValue\n",
      "1  0.056696    0.043939   -0.229279    -0.140293         SameValue\n",
      "2  0.053239    0.035093   -0.216340    -0.143528         SameValue\n",
      "3  0.054909    0.034473   -0.058808    -0.182911         SameValue\n",
      "4  0.051358    0.034989   -0.089559    -0.175223         SameValue\n",
      "method\n",
      "Adaboost           -0.192674\n",
      "DT                 -0.194334\n",
      "GradientBoosting   -0.206485\n",
      "MLP                -0.425201\n",
      "SameValue          -0.158091\n",
      "Name: test_score, dtype: float64\n"
     ]
    }
   ],
   "source": [
    "run_experiment(df_full, model_instances, mapper)"
   ]
  },
  {
   "cell_type": "markdown",
   "id": "dd067cf0",
   "metadata": {},
   "source": [
    "## Evaluate without relative diff in targets"
   ]
  },
  {
   "cell_type": "code",
   "execution_count": 19,
   "id": "24007140",
   "metadata": {
    "ExecuteTime": {
     "end_time": "2023-10-23T19:59:02.396214Z",
     "start_time": "2023-10-23T19:59:02.283511Z"
    }
   },
   "outputs": [
    {
     "name": "stdout",
     "output_type": "stream",
     "text": [
      "(2270, 27)\n",
      "(2130, 55)\n",
      "(2005, 58)\n"
     ]
    }
   ],
   "source": [
    "print(df.shape)\n",
    "df_full = add_time_stamps_and_other_features(df.copy(), cols_to_include)\n",
    "print(df_full.shape)\n",
    "df_full = add_label(df_full, relative_diff=False)\n",
    "print(df_full.shape)\n",
    "\n",
    "for c in df_full.columns:\n",
    "    if df_full[c].isnull().sum():\n",
    "        df_full[c] = df_full[c].fillna(0)"
   ]
  },
  {
   "cell_type": "code",
   "execution_count": 20,
   "id": "7094c202",
   "metadata": {
    "ExecuteTime": {
     "end_time": "2023-10-23T19:59:02.403892Z",
     "start_time": "2023-10-23T19:59:02.398507Z"
    }
   },
   "outputs": [],
   "source": [
    "one_hot_features = ['zona_pozo']\n",
    "numerical_features = ['porcentaje_agua',\n",
    "                      'presion_casing',\n",
    "                      'presion_boca_pozo',\n",
    "                      'profundidad_bomba',\n",
    "                      'cuplas',\n",
    "                      'produccion_petroleo',\n",
    "                      'gpm',\n",
    "                      'tv',\n",
    "                      'sv',\n",
    "                      'cbe',\n",
    "                      'tmax',\n",
    "                      'carga_max_fondo',\n",
    "                      'carga_min_fondo',\n",
    "                      'sobre_recorrido',\n",
    "                      'estiramiento',\n",
    "                      'carrera',\n",
    "                      'profundidad_gas',\n",
    "                      'profundidad_niveles',\n",
    "                      'velocidad_sonido',\n",
    "                      'sumergencia_efectiva',\n",
    "                      'presion_dinamica',\n",
    "                      'presion_interface',\n",
    "                      'diff_fecha', \n",
    "                      'fecha_mes',\n",
    "                      'dias_estudio_proximo']\n",
    "\n",
    "mapper_inputs = []\n",
    "numerical_preprocessing = preprocessing.MinMaxScaler\n",
    "\n",
    "for c_base in numerical_features:\n",
    "    related_cols = [c for c in df_full.columns if c_base in c]\n",
    "    \n",
    "    for c in related_cols:\n",
    "        mapper_inputs.append(([c], numerical_preprocessing()))\n",
    "\n",
    "for c in one_hot_features:\n",
    "    mapper_inputs.append(([c], preprocessing.OneHotEncoder(handle_unknown='ignore')))\n",
    "\n",
    "mapper = DataFrameMapper(mapper_inputs)"
   ]
  },
  {
   "cell_type": "code",
   "execution_count": 23,
   "id": "f159fe41",
   "metadata": {
    "ExecuteTime": {
     "end_time": "2023-10-23T19:59:11.983761Z",
     "start_time": "2023-10-23T19:59:02.527058Z"
    }
   },
   "outputs": [
    {
     "name": "stdout",
     "output_type": "stream",
     "text": [
      "   fit_time  score_time  test_score  train_score            method\n",
      "0  0.072904    0.032734   -5.143360    -4.648292                DT\n",
      "1  0.059818    0.034055   -7.047176    -4.293600                DT\n",
      "2  0.061432    0.029184   -6.030764    -4.616590                DT\n",
      "3  0.058394    0.030282   -3.946780    -5.213867                DT\n",
      "4  0.055885    0.030376   -3.262234    -5.478209                DT\n",
      "0  0.185094    0.031926   -5.374761    -4.666327          Adaboost\n",
      "1  0.215958    0.030765   -6.796564    -4.184929          Adaboost\n",
      "2  0.183117    0.031026   -7.121191    -5.368072          Adaboost\n",
      "3  0.175133    0.030248   -3.990321    -4.900794          Adaboost\n",
      "4  0.182579    0.034544   -3.675442    -5.528410          Adaboost\n",
      "0  0.229591    0.029837   -5.183317    -4.347338  GradientBoosting\n",
      "1  0.243941    0.029596   -7.104416    -4.006488  GradientBoosting\n",
      "2  0.239519    0.031913   -5.820475    -4.285502  GradientBoosting\n",
      "3  0.241948    0.029393   -3.929475    -4.714486  GradientBoosting\n",
      "4  0.232368    0.029553   -2.795745    -4.990467  GradientBoosting\n",
      "0  0.588590    0.030842   -5.196874    -4.751223               MLP\n",
      "1  0.622874    0.031747   -7.071363    -4.472245               MLP\n",
      "2  1.112944    0.031024   -6.803087    -4.832637               MLP\n",
      "3  1.785938    0.031326   -4.782331    -5.311426               MLP\n",
      "4  0.926056    0.032626   -3.222635    -5.505519               MLP\n",
      "0  0.049158    0.030849   -4.970025    -4.465910         SameValue\n",
      "1  0.045292    0.034652   -6.300723    -4.133236         SameValue\n",
      "2  0.046804    0.029335   -5.377157    -4.364127         SameValue\n",
      "3  0.045736    0.032367   -3.620524    -4.803286         SameValue\n",
      "4  0.045247    0.029169   -2.565237    -5.067107         SameValue\n",
      "method\n",
      "Adaboost           -5.391656\n",
      "DT                 -5.086063\n",
      "GradientBoosting   -4.966685\n",
      "MLP                -5.415258\n",
      "SameValue          -4.566733\n",
      "Name: test_score, dtype: float64\n"
     ]
    }
   ],
   "source": [
    "run_experiment(df_full, model_instances, mapper)"
   ]
  },
  {
   "cell_type": "markdown",
   "id": "0714b587",
   "metadata": {},
   "source": [
    "# Evaluate results using n=2"
   ]
  },
  {
   "cell_type": "code",
   "execution_count": 24,
   "id": "b9955fe7",
   "metadata": {
    "ExecuteTime": {
     "end_time": "2023-10-23T19:59:12.159136Z",
     "start_time": "2023-10-23T19:59:11.986593Z"
    }
   },
   "outputs": [
    {
     "name": "stdout",
     "output_type": "stream",
     "text": [
      "(2270, 27)\n",
      "(1884, 81)\n",
      "(1766, 84)\n"
     ]
    }
   ],
   "source": [
    "print(df.shape)\n",
    "df_full = add_time_stamps_and_other_features(df.copy(), cols_to_include, n=2)\n",
    "print(df_full.shape)\n",
    "df_full = add_label(df_full)\n",
    "print(df_full.shape)\n",
    "\n",
    "for c in df_full.columns:\n",
    "    if df_full[c].isnull().sum():\n",
    "        df_full[c] = df_full[c].fillna(0)"
   ]
  },
  {
   "cell_type": "code",
   "execution_count": 25,
   "id": "0ac12fcd",
   "metadata": {
    "ExecuteTime": {
     "end_time": "2023-10-23T19:59:12.168013Z",
     "start_time": "2023-10-23T19:59:12.161955Z"
    }
   },
   "outputs": [],
   "source": [
    "one_hot_features = ['zona_pozo']\n",
    "numerical_features = ['porcentaje_agua',\n",
    "                      'presion_casing',\n",
    "                      'presion_boca_pozo',\n",
    "                      'profundidad_bomba',\n",
    "                      'cuplas',\n",
    "                      'produccion_petroleo',\n",
    "                      'gpm',\n",
    "                      'tv',\n",
    "                      'sv',\n",
    "                      'cbe',\n",
    "                      'tmax',\n",
    "                      'carga_max_fondo',\n",
    "                      'carga_min_fondo',\n",
    "                      'sobre_recorrido',\n",
    "                      'estiramiento',\n",
    "                      'carrera',\n",
    "                      'profundidad_gas',\n",
    "                      'profundidad_niveles',\n",
    "                      'velocidad_sonido',\n",
    "                      'sumergencia_efectiva',\n",
    "                      'presion_dinamica',\n",
    "                      'presion_interface',\n",
    "                      'diff_fecha', \n",
    "                      'fecha_mes',\n",
    "                      'dias_estudio_proximo']\n",
    "\n",
    "mapper_inputs = []\n",
    "numerical_preprocessing = preprocessing.MinMaxScaler\n",
    "\n",
    "for c_base in numerical_features:\n",
    "    related_cols = [c for c in df_full.columns if c_base in c]\n",
    "    \n",
    "    for c in related_cols:\n",
    "        mapper_inputs.append(([c], numerical_preprocessing()))\n",
    "\n",
    "for c in one_hot_features:\n",
    "    mapper_inputs.append(([c], preprocessing.OneHotEncoder(handle_unknown='ignore')))\n",
    "\n",
    "mapper = DataFrameMapper(mapper_inputs)"
   ]
  },
  {
   "cell_type": "code",
   "execution_count": 26,
   "id": "c3691e02",
   "metadata": {
    "ExecuteTime": {
     "end_time": "2023-10-23T19:59:28.140520Z",
     "start_time": "2023-10-23T19:59:12.170756Z"
    }
   },
   "outputs": [
    {
     "name": "stdout",
     "output_type": "stream",
     "text": [
      "   fit_time  score_time  test_score  train_score            method\n",
      "0  0.095913    0.044919   -0.218543    -0.155417                DT\n",
      "1  0.082586    0.046795   -0.255151    -0.162612                DT\n",
      "2  0.081654    0.042305   -0.313264    -0.168850                DT\n",
      "3  0.083953    0.047306   -0.058680    -0.210761                DT\n",
      "4  0.080567    0.043020   -0.152800    -0.192458                DT\n",
      "0  0.234732    0.045974   -0.213960    -0.138050          Adaboost\n",
      "1  0.221121    0.043335   -0.251712    -0.116266          Adaboost\n",
      "2  0.229225    0.044383   -0.224675    -0.118530          Adaboost\n",
      "3  0.227557    0.049603   -0.092597    -0.159714          Adaboost\n",
      "4  0.234115    0.043730   -0.105769    -0.130997          Adaboost\n",
      "0  0.320792    0.042577   -0.226160    -0.136612  GradientBoosting\n",
      "1  0.326404    0.048688   -0.261155    -0.129178  GradientBoosting\n",
      "2  0.315753    0.042463   -0.270461    -0.125828  GradientBoosting\n",
      "3  0.322010    0.047109   -0.075254    -0.160947  GradientBoosting\n",
      "4  0.331684    0.043712   -0.169551    -0.149110  GradientBoosting\n",
      "0  1.018618    0.045948   -0.244907    -0.185753               MLP\n",
      "1  1.784086    0.045873   -0.471397    -0.116853               MLP\n",
      "2  2.613595    0.044935   -0.786776    -0.128001               MLP\n",
      "3  1.718347    0.045160   -0.190031    -0.171922               MLP\n",
      "4  2.822204    0.048722   -0.705594    -0.212286               MLP\n",
      "0  0.073833    0.047640   -0.209570    -0.143937         SameValue\n",
      "1  0.068808    0.045151   -0.227815    -0.139425         SameValue\n",
      "2  0.072265    0.045000   -0.199642    -0.146464         SameValue\n",
      "3  0.069281    0.042739   -0.056851    -0.182136         SameValue\n",
      "4  0.066165    0.042409   -0.091439    -0.173495         SameValue\n",
      "method\n",
      "Adaboost           -0.177743\n",
      "DT                 -0.199688\n",
      "GradientBoosting   -0.200516\n",
      "MLP                -0.479741\n",
      "SameValue          -0.157064\n",
      "Name: test_score, dtype: float64\n"
     ]
    }
   ],
   "source": [
    "run_experiment(df_full, model_instances, mapper)"
   ]
  },
  {
   "cell_type": "markdown",
   "id": "7c473227",
   "metadata": {},
   "source": [
    "# Evaluate results using n=3"
   ]
  },
  {
   "cell_type": "code",
   "execution_count": 27,
   "id": "bd110de3",
   "metadata": {
    "ExecuteTime": {
     "end_time": "2023-10-23T19:59:28.390075Z",
     "start_time": "2023-10-23T19:59:28.143229Z"
    }
   },
   "outputs": [
    {
     "name": "stdout",
     "output_type": "stream",
     "text": [
      "(2270, 27)\n",
      "(1541, 107)\n",
      "(1437, 110)\n"
     ]
    }
   ],
   "source": [
    "print(df.shape)\n",
    "df_full = add_time_stamps_and_other_features(df.copy(), cols_to_include, n=3)\n",
    "print(df_full.shape)\n",
    "df_full = add_label(df_full)\n",
    "print(df_full.shape)\n",
    "\n",
    "for c in df_full.columns:\n",
    "    if df_full[c].isnull().sum():\n",
    "        df_full[c] = df_full[c].fillna(0)"
   ]
  },
  {
   "cell_type": "code",
   "execution_count": 28,
   "id": "e00a59f4",
   "metadata": {
    "ExecuteTime": {
     "end_time": "2023-10-23T19:59:28.404597Z",
     "start_time": "2023-10-23T19:59:28.398511Z"
    }
   },
   "outputs": [],
   "source": [
    "one_hot_features = ['zona_pozo']\n",
    "numerical_features = ['porcentaje_agua',\n",
    "                      'presion_casing',\n",
    "                      'presion_boca_pozo',\n",
    "                      'profundidad_bomba',\n",
    "                      'cuplas',\n",
    "                      'produccion_petroleo',\n",
    "                      'gpm',\n",
    "                      'tv',\n",
    "                      'sv',\n",
    "                      'cbe',\n",
    "                      'tmax',\n",
    "                      'carga_max_fondo',\n",
    "                      'carga_min_fondo',\n",
    "                      'sobre_recorrido',\n",
    "                      'estiramiento',\n",
    "                      'carrera',\n",
    "                      'profundidad_gas',\n",
    "                      'profundidad_niveles',\n",
    "                      'velocidad_sonido',\n",
    "                      'sumergencia_efectiva',\n",
    "                      'presion_dinamica',\n",
    "                      'presion_interface',\n",
    "                      'diff_fecha', \n",
    "                      'fecha_mes',\n",
    "                      'dias_estudio_proximo']\n",
    "\n",
    "mapper_inputs = []\n",
    "numerical_preprocessing = preprocessing.MinMaxScaler\n",
    "\n",
    "for c_base in numerical_features:\n",
    "    related_cols = [c for c in df_full.columns if c_base in c]\n",
    "    \n",
    "    for c in related_cols:\n",
    "        mapper_inputs.append(([c], numerical_preprocessing()))\n",
    "\n",
    "for c in one_hot_features:\n",
    "    mapper_inputs.append(([c], preprocessing.OneHotEncoder(handle_unknown='ignore')))\n",
    "\n",
    "mapper = DataFrameMapper(mapper_inputs)"
   ]
  },
  {
   "cell_type": "code",
   "execution_count": 29,
   "id": "cf386fc1",
   "metadata": {
    "ExecuteTime": {
     "end_time": "2023-10-23T19:59:43.442649Z",
     "start_time": "2023-10-23T19:59:28.406764Z"
    }
   },
   "outputs": [
    {
     "name": "stdout",
     "output_type": "stream",
     "text": [
      "   fit_time  score_time  test_score  train_score            method\n",
      "0  0.114722    0.061577   -0.223209    -0.160832                DT\n",
      "1  0.112792    0.064944   -0.250797    -0.171863                DT\n",
      "2  0.099847    0.055633   -0.385204    -0.171374                DT\n",
      "3  0.112263    0.061079   -0.040208    -0.222499                DT\n",
      "4  0.106713    0.056478   -0.170521    -0.197893                DT\n",
      "0  0.261696    0.058233   -0.238293    -0.125589          Adaboost\n",
      "1  0.253331    0.059831   -0.269939    -0.132546          Adaboost\n",
      "2  0.251761    0.056809   -0.274338    -0.152238          Adaboost\n",
      "3  0.264746    0.057369   -0.133595    -0.191811          Adaboost\n",
      "4  0.243811    0.067829   -0.130698    -0.136221          Adaboost\n",
      "0  0.358358    0.060188   -0.239988    -0.142599  GradientBoosting\n",
      "1  0.385785    0.060496   -0.267654    -0.130670  GradientBoosting\n",
      "2  0.356460    0.055500   -0.294857    -0.119643  GradientBoosting\n",
      "3  0.363940    0.057879   -0.066239    -0.161537  GradientBoosting\n",
      "4  0.370377    0.056120   -0.203877    -0.147972  GradientBoosting\n",
      "0  1.090557    0.060198   -0.245059    -0.118448               MLP\n",
      "1  1.979660    0.058667   -0.605527    -0.085458               MLP\n",
      "2  1.642498    0.058717   -0.669832    -0.119438               MLP\n",
      "3  1.476475    0.058246   -0.281293    -0.178025               MLP\n",
      "4  1.515496    0.064046   -0.385071    -0.143265               MLP\n",
      "0  0.098430    0.062886   -0.224346    -0.146267         SameValue\n",
      "1  0.091185    0.060053   -0.226002    -0.145852         SameValue\n",
      "2  0.090171    0.061621   -0.213738    -0.148982         SameValue\n",
      "3  0.084460    0.056439   -0.046977    -0.190600         SameValue\n",
      "4  0.082937    0.059202   -0.098072    -0.177848         SameValue\n",
      "method\n",
      "Adaboost           -0.209373\n",
      "DT                 -0.213988\n",
      "GradientBoosting   -0.214523\n",
      "MLP                -0.437356\n",
      "SameValue          -0.161827\n",
      "Name: test_score, dtype: float64\n"
     ]
    }
   ],
   "source": [
    "run_experiment(df_full, model_instances, mapper)"
   ]
  },
  {
   "cell_type": "markdown",
   "id": "ffe54675",
   "metadata": {},
   "source": [
    "### Testing not using feature calculation normalization for specific samples"
   ]
  },
  {
   "cell_type": "code",
   "execution_count": 30,
   "id": "4ab73c74",
   "metadata": {
    "ExecuteTime": {
     "end_time": "2023-10-23T19:59:43.670558Z",
     "start_time": "2023-10-23T19:59:43.445270Z"
    }
   },
   "outputs": [
    {
     "name": "stdout",
     "output_type": "stream",
     "text": [
      "(2270, 27)\n",
      "(1541, 107)\n",
      "(1437, 110)\n"
     ]
    }
   ],
   "source": [
    "print(df.shape)\n",
    "df_full = add_time_stamps_and_other_features(df.copy(), cols_to_include, n=3, relative_diffs=False)\n",
    "print(df_full.shape)\n",
    "df_full = add_label(df_full)\n",
    "print(df_full.shape)\n",
    "\n",
    "for c in df_full.columns:\n",
    "    if df_full[c].isnull().sum():\n",
    "        df_full[c] = df_full[c].fillna(0)"
   ]
  },
  {
   "cell_type": "code",
   "execution_count": 31,
   "id": "f341be85",
   "metadata": {
    "ExecuteTime": {
     "end_time": "2023-10-23T19:59:43.678499Z",
     "start_time": "2023-10-23T19:59:43.672945Z"
    }
   },
   "outputs": [],
   "source": [
    "one_hot_features = ['zona_pozo']\n",
    "numerical_features = ['porcentaje_agua',\n",
    "                      'presion_casing',\n",
    "                      'presion_boca_pozo',\n",
    "                      'profundidad_bomba',\n",
    "                      'cuplas',\n",
    "                      'produccion_petroleo',\n",
    "                      'gpm',\n",
    "                      'tv',\n",
    "                      'sv',\n",
    "                      'cbe',\n",
    "                      'tmax',\n",
    "                      'carga_max_fondo',\n",
    "                      'carga_min_fondo',\n",
    "                      'sobre_recorrido',\n",
    "                      'estiramiento',\n",
    "                      'carrera',\n",
    "                      'profundidad_gas',\n",
    "                      'profundidad_niveles',\n",
    "                      'velocidad_sonido',\n",
    "                      'sumergencia_efectiva',\n",
    "                      'presion_dinamica',\n",
    "                      'presion_interface',\n",
    "                      'diff_fecha', \n",
    "                      'fecha_mes',\n",
    "                      'dias_estudio_proximo']\n",
    "\n",
    "mapper_inputs = []\n",
    "numerical_preprocessing = preprocessing.MinMaxScaler\n",
    "\n",
    "for c_base in numerical_features:\n",
    "    related_cols = [c for c in df_full.columns if c_base in c]\n",
    "    \n",
    "    for c in related_cols:\n",
    "        mapper_inputs.append(([c], numerical_preprocessing()))\n",
    "\n",
    "for c in one_hot_features:\n",
    "    mapper_inputs.append(([c], preprocessing.OneHotEncoder(handle_unknown='ignore')))\n",
    "\n",
    "mapper = DataFrameMapper(mapper_inputs)"
   ]
  },
  {
   "cell_type": "code",
   "execution_count": 32,
   "id": "2c837cf3",
   "metadata": {
    "ExecuteTime": {
     "end_time": "2023-10-23T19:59:57.187069Z",
     "start_time": "2023-10-23T19:59:43.682029Z"
    }
   },
   "outputs": [
    {
     "name": "stdout",
     "output_type": "stream",
     "text": [
      "   fit_time  score_time  test_score  train_score            method\n",
      "0  0.105080    0.064743   -0.231433    -0.153820                DT\n",
      "1  0.108655    0.059929   -0.250797    -0.171863                DT\n",
      "2  0.095612    0.055813   -0.385204    -0.171374                DT\n",
      "3  0.098736    0.056762   -0.040208    -0.222499                DT\n",
      "4  0.101308    0.058342   -0.167884    -0.197737                DT\n",
      "0  0.244943    0.059683   -0.259586    -0.155694          Adaboost\n",
      "1  0.233533    0.056784   -0.267263    -0.139818          Adaboost\n",
      "2  0.218908    0.066142   -0.245702    -0.120472          Adaboost\n",
      "3  0.227907    0.067787   -0.072219    -0.137197          Adaboost\n",
      "4  0.219973    0.056998   -0.116926    -0.125122          Adaboost\n",
      "0  0.302388    0.055265   -0.243645    -0.133044  GradientBoosting\n",
      "1  0.299734    0.059094   -0.249500    -0.129485  GradientBoosting\n",
      "2  0.286459    0.056415   -0.314952    -0.120380  GradientBoosting\n",
      "3  0.287158    0.056012   -0.091056    -0.162325  GradientBoosting\n",
      "4  0.306054    0.056914   -0.200173    -0.144984  GradientBoosting\n",
      "0  1.150203    0.059603   -0.227600    -0.124804               MLP\n",
      "1  1.196226    0.058841   -0.341791    -0.105255               MLP\n",
      "2  1.183368    0.062812   -0.651402    -0.099650               MLP\n",
      "3  1.437799    0.059928   -0.164880    -0.135533               MLP\n",
      "4  1.615368    0.087484   -0.235948    -0.155147               MLP\n",
      "0  0.105518    0.061623   -0.224346    -0.146267         SameValue\n",
      "1  0.093032    0.064454   -0.226002    -0.145852         SameValue\n",
      "2  0.095474    0.063211   -0.213738    -0.148982         SameValue\n",
      "3  0.087775    0.061108   -0.046977    -0.190600         SameValue\n",
      "4  0.099575    0.063618   -0.098072    -0.177848         SameValue\n",
      "method\n",
      "Adaboost           -0.192339\n",
      "DT                 -0.215105\n",
      "GradientBoosting   -0.219865\n",
      "MLP                -0.324324\n",
      "SameValue          -0.161827\n",
      "Name: test_score, dtype: float64\n"
     ]
    }
   ],
   "source": [
    "run_experiment(df_full, model_instances, mapper)"
   ]
  },
  {
   "cell_type": "markdown",
   "id": "ebde3f48",
   "metadata": {},
   "source": [
    "# Partial conclusions\n",
    "\n",
    "Adaboost with n=1 and relative diffs is the best configuration."
   ]
  },
  {
   "cell_type": "markdown",
   "id": "dbb6d7fc",
   "metadata": {},
   "source": [
    "# Evaluate filtering some noisy examples"
   ]
  },
  {
   "cell_type": "code",
   "execution_count": 33,
   "id": "2b9dce0c",
   "metadata": {
    "ExecuteTime": {
     "end_time": "2023-10-23T19:59:57.196654Z",
     "start_time": "2023-10-23T19:59:57.189718Z"
    }
   },
   "outputs": [
    {
     "data": {
      "text/plain": [
       "count    1437.000000\n",
       "mean       34.631872\n",
       "std        30.313592\n",
       "min         0.000000\n",
       "25%        28.000000\n",
       "50%        30.000000\n",
       "75%        35.000000\n",
       "max       749.000000\n",
       "Name: dias_estudio_proximo, dtype: float64"
      ]
     },
     "execution_count": 33,
     "metadata": {},
     "output_type": "execute_result"
    }
   ],
   "source": [
    "df_full.dias_estudio_proximo.describe()"
   ]
  },
  {
   "cell_type": "code",
   "execution_count": 34,
   "id": "e2c2d044",
   "metadata": {
    "ExecuteTime": {
     "end_time": "2023-10-23T20:00:09.261034Z",
     "start_time": "2023-10-23T19:59:57.198442Z"
    }
   },
   "outputs": [
    {
     "name": "stdout",
     "output_type": "stream",
     "text": [
      "(1151, 110)\n",
      "   fit_time  score_time  test_score  train_score            method\n",
      "0  0.121896    0.071274   -0.247113    -0.176348                DT\n",
      "1  0.103689    0.065631   -0.286110    -0.183879                DT\n",
      "2  0.103839    0.060581   -0.419149    -0.195287                DT\n",
      "3  0.114388    0.064120   -0.055895    -0.239830                DT\n",
      "4  0.098035    0.063400   -0.134941    -0.220458                DT\n",
      "0  0.201773    0.060722   -0.259520    -0.123848          Adaboost\n",
      "1  0.201895    0.056492   -0.272869    -0.113224          Adaboost\n",
      "2  0.227194    0.066940   -0.349987    -0.183707          Adaboost\n",
      "3  0.198758    0.058117   -0.090978    -0.139117          Adaboost\n",
      "4  0.201962    0.068801   -0.157092    -0.145660          Adaboost\n",
      "0  0.277550    0.062278   -0.276380    -0.142038  GradientBoosting\n",
      "1  0.272356    0.066982   -0.290751    -0.132294  GradientBoosting\n",
      "2  0.268389    0.060912   -0.265556    -0.134846  GradientBoosting\n",
      "3  0.272805    0.061910   -0.116387    -0.174108  GradientBoosting\n",
      "4  0.271873    0.061382   -0.136588    -0.156500  GradientBoosting\n",
      "0  0.967839    0.058771   -0.378753    -0.195889               MLP\n",
      "1  1.047199    0.061449   -0.564764    -0.093626               MLP\n",
      "2  1.389051    0.059272   -0.587180    -0.093546               MLP\n",
      "3  0.963425    0.058232   -0.345756    -0.167561               MLP\n",
      "4  1.044612    0.065047   -0.208751    -0.150289               MLP\n",
      "0  0.088834    0.059660   -0.259953    -0.158578         SameValue\n",
      "1  0.083565    0.056480   -0.256292    -0.159602         SameValue\n",
      "2  0.081657    0.058726   -0.209790    -0.171215         SameValue\n",
      "3  0.088432    0.055181   -0.059554    -0.208733         SameValue\n",
      "4  0.081583    0.057054   -0.108674    -0.196466         SameValue\n",
      "method\n",
      "Adaboost           -0.226089\n",
      "DT                 -0.228642\n",
      "GradientBoosting   -0.217132\n",
      "MLP                -0.417040\n",
      "SameValue          -0.178853\n",
      "Name: test_score, dtype: float64\n"
     ]
    }
   ],
   "source": [
    "df_filtered = df_full[df_full.dias_estudio_proximo <= 35]\n",
    "print(df_filtered.shape)\n",
    "run_experiment(df_filtered, model_instances, mapper)"
   ]
  },
  {
   "cell_type": "code",
   "execution_count": 98,
   "id": "8e810caf",
   "metadata": {
    "ExecuteTime": {
     "end_time": "2023-10-24T18:16:08.176806Z",
     "start_time": "2023-10-24T18:16:01.572078Z"
    }
   },
   "outputs": [
    {
     "name": "stdout",
     "output_type": "stream",
     "text": [
      "(538, 58)\n",
      "   fit_time  score_time  test_score  train_score            method\n",
      "0  0.088847    0.064563   -0.100483    -0.090252                DT\n",
      "1  0.063091    0.037339   -0.210286    -0.068753                DT\n",
      "2  0.061038    0.036376   -0.064924    -0.096855                DT\n",
      "3  0.059660    0.042438   -0.100028    -0.092973                DT\n",
      "4  0.057627    0.040512   -0.023677    -0.104846                DT\n",
      "0  0.101645    0.036987   -0.098801    -0.061307          Adaboost\n",
      "1  0.107612    0.040405   -0.199487    -0.054127          Adaboost\n",
      "2  0.117027    0.038421   -0.069745    -0.077579          Adaboost\n",
      "3  0.100299    0.039405   -0.104867    -0.074680          Adaboost\n",
      "4  0.101406    0.043500   -0.026366    -0.086558          Adaboost\n",
      "0  0.115829    0.044118   -0.117921    -0.075278  GradientBoosting\n",
      "1  0.117134    0.036939   -0.207681    -0.058646  GradientBoosting\n",
      "2  0.116565    0.037292   -0.063279    -0.087112  GradientBoosting\n",
      "3  0.109109    0.034927   -0.095039    -0.082329  GradientBoosting\n",
      "4  0.112746    0.038798   -0.031451    -0.092635  GradientBoosting\n",
      "0  0.568137    0.040047   -0.176672    -0.081751               MLP\n",
      "1  0.560638    0.036990   -0.241719    -0.063558               MLP\n",
      "2  0.468594    0.038927   -0.100790    -0.104946               MLP\n",
      "3  0.582480    0.034138   -0.126699    -0.093301               MLP\n",
      "4  0.511780    0.038996   -0.063938    -0.111678               MLP\n",
      "0  0.062122    0.051836   -0.107980    -0.093791         SameValue\n",
      "1  0.052106    0.038850   -0.197009    -0.071430         SameValue\n",
      "2  0.063353    0.043222   -0.065089    -0.104564         SameValue\n",
      "3  0.061421    0.033002   -0.088736    -0.098602         SameValue\n",
      "4  0.052254    0.040707   -0.023633    -0.114764         SameValue\n",
      "method\n",
      "Adaboost           -0.099853\n",
      "DT                 -0.099880\n",
      "GradientBoosting   -0.103074\n",
      "MLP                -0.141964\n",
      "SameValue          -0.096490\n",
      "Name: test_score, dtype: float64\n"
     ]
    }
   ],
   "source": [
    "df_filtered = df_full[df_full.dias_estudio_proximo >= 35]\n",
    "print(df_filtered.shape)\n",
    "run_experiment(df_filtered, model_instances, mapper)"
   ]
  },
  {
   "cell_type": "markdown",
   "id": "50495113",
   "metadata": {},
   "source": [
    "# Evaluate using some control variables in future as inputs"
   ]
  },
  {
   "cell_type": "code",
   "execution_count": 55,
   "id": "9ba737ed",
   "metadata": {
    "ExecuteTime": {
     "end_time": "2023-10-23T22:06:49.614659Z",
     "start_time": "2023-10-23T22:06:49.498928Z"
    }
   },
   "outputs": [],
   "source": [
    "df_exp = add_time_stamps_and_other_features(df.copy(), cols_to_include)\n",
    "df_exp['profundidad_bomba_nuevo_momento'] = df_exp.shift(-1).profundidad_bomba\n",
    "df_exp = add_label(df_exp)\n",
    "\n",
    "for c in df_exp.columns:\n",
    "    if df_exp[c].isnull().sum():\n",
    "        df_exp[c] = df_exp[c].fillna(0)"
   ]
  },
  {
   "cell_type": "code",
   "execution_count": 56,
   "id": "cf1f84fd",
   "metadata": {
    "ExecuteTime": {
     "end_time": "2023-10-23T22:06:49.734291Z",
     "start_time": "2023-10-23T22:06:49.727862Z"
    }
   },
   "outputs": [],
   "source": [
    "one_hot_features = ['zona_pozo']\n",
    "numerical_features = ['porcentaje_agua',\n",
    "                      'presion_casing',\n",
    "                      'presion_boca_pozo',\n",
    "                      'profundidad_bomba',\n",
    "                      'cuplas',\n",
    "                      'produccion_petroleo',\n",
    "                      'gpm',\n",
    "                      'tv',\n",
    "                      'sv',\n",
    "                      'cbe',\n",
    "                      'tmax',\n",
    "                      'carga_max_fondo',\n",
    "                      'carga_min_fondo',\n",
    "                      'sobre_recorrido',\n",
    "                      'estiramiento',\n",
    "                      'carrera',\n",
    "                      'profundidad_gas',\n",
    "                      'profundidad_niveles',\n",
    "                      'velocidad_sonido',\n",
    "                      'sumergencia_efectiva',\n",
    "                      'presion_dinamica',\n",
    "                      'presion_interface',\n",
    "                      'diff_fecha', \n",
    "                      'fecha_mes',\n",
    "                      'dias_estudio_proximo',\n",
    "                      'profundidad_bomba_nuevo_momento']\n",
    "\n",
    "mapper_inputs = []\n",
    "numerical_preprocessing = preprocessing.MinMaxScaler\n",
    "\n",
    "for c_base in numerical_features:\n",
    "    related_cols = [c for c in df_exp.columns if c_base in c]\n",
    "    \n",
    "    for c in related_cols:\n",
    "        mapper_inputs.append(([c], numerical_preprocessing()))\n",
    "\n",
    "for c in one_hot_features:\n",
    "    mapper_inputs.append(([c], preprocessing.OneHotEncoder(handle_unknown='ignore')))\n",
    "\n",
    "mapper = DataFrameMapper(mapper_inputs)"
   ]
  },
  {
   "cell_type": "code",
   "execution_count": 57,
   "id": "47188dba",
   "metadata": {
    "ExecuteTime": {
     "end_time": "2023-10-23T22:07:00.213796Z",
     "start_time": "2023-10-23T22:06:50.621799Z"
    }
   },
   "outputs": [
    {
     "name": "stdout",
     "output_type": "stream",
     "text": [
      "   fit_time  score_time  test_score  train_score            method\n",
      "0  0.072663    0.039898   -0.192730    -0.170048                DT\n",
      "1  0.066296    0.032051   -0.258897    -0.163311                DT\n",
      "2  0.071558    0.031995   -0.310450    -0.166555                DT\n",
      "3  0.062669    0.030904   -0.060038    -0.211328                DT\n",
      "4  0.068507    0.033687   -0.149556    -0.193868                DT\n",
      "0  0.182845    0.032770   -0.202588    -0.119684          Adaboost\n",
      "1  0.193399    0.038861   -0.257590    -0.091697          Adaboost\n",
      "2  0.181904    0.039871   -0.270804    -0.111015          Adaboost\n",
      "3  0.176937    0.033907   -0.084763    -0.147542          Adaboost\n",
      "4  0.187670    0.033492   -0.121263    -0.140095          Adaboost\n",
      "0  0.251423    0.030845   -0.224040    -0.138260  GradientBoosting\n",
      "1  0.252254    0.031772   -0.271997    -0.121446  GradientBoosting\n",
      "2  0.255700    0.038162   -0.317218    -0.124835  GradientBoosting\n",
      "3  0.263772    0.036239   -0.082062    -0.162907  GradientBoosting\n",
      "4  0.259731    0.032073   -0.130489    -0.152540  GradientBoosting\n",
      "0  0.456070    0.038102   -0.225865    -0.179433               MLP\n",
      "1  0.777336    0.032504   -0.497765    -0.174685               MLP\n",
      "2  0.944384    0.036859   -0.591054    -0.234972               MLP\n",
      "3  1.343643    0.033137   -0.217889    -0.188728               MLP\n",
      "4  1.348498    0.032333   -0.376563    -0.246302               MLP\n",
      "0  0.051788    0.032378   -0.196466    -0.148497         SameValue\n",
      "1  0.048987    0.032519   -0.229279    -0.140293         SameValue\n",
      "2  0.056531    0.036010   -0.216340    -0.143528         SameValue\n",
      "3  0.058993    0.034141   -0.058808    -0.182911         SameValue\n",
      "4  0.052202    0.032155   -0.089559    -0.175223         SameValue\n",
      "method\n",
      "Adaboost           -0.187401\n",
      "DT                 -0.194334\n",
      "GradientBoosting   -0.205161\n",
      "MLP                -0.381827\n",
      "SameValue          -0.158091\n",
      "Name: test_score, dtype: float64\n"
     ]
    }
   ],
   "source": [
    "run_experiment(df_exp, model_instances, mapper)"
   ]
  },
  {
   "cell_type": "markdown",
   "id": "47a435f7",
   "metadata": {},
   "source": [
    "# Add stacking model (using baseline and Adaboost)"
   ]
  },
  {
   "cell_type": "code",
   "execution_count": 64,
   "id": "a16e1b8d",
   "metadata": {
    "ExecuteTime": {
     "end_time": "2023-10-24T17:56:41.179238Z",
     "start_time": "2023-10-24T17:56:41.176103Z"
    }
   },
   "outputs": [],
   "source": [
    "from sklearn.ensemble import StackingRegressor, RandomForestRegressor"
   ]
  },
  {
   "cell_type": "code",
   "execution_count": 82,
   "id": "cf794bb0",
   "metadata": {
    "ExecuteTime": {
     "end_time": "2023-10-24T18:04:04.358258Z",
     "start_time": "2023-10-24T18:04:04.346615Z"
    }
   },
   "outputs": [],
   "source": [
    "from sklearn.base import RegressorMixin"
   ]
  },
  {
   "cell_type": "code",
   "execution_count": 83,
   "id": "3a999c8c",
   "metadata": {
    "ExecuteTime": {
     "end_time": "2023-10-24T18:04:06.562096Z",
     "start_time": "2023-10-24T18:04:06.554323Z"
    }
   },
   "outputs": [],
   "source": [
    "class SameValueEstimator(BaseEstimator, RegressorMixin):\n",
    "    def fit(self, X, y):\n",
    "        return self\n",
    "    \n",
    "    def predict(self, X):\n",
    "        return np.zeros(len(X))"
   ]
  },
  {
   "cell_type": "code",
   "execution_count": 92,
   "id": "063f9c2f",
   "metadata": {
    "ExecuteTime": {
     "end_time": "2023-10-24T18:05:42.239806Z",
     "start_time": "2023-10-24T18:05:42.234067Z"
    }
   },
   "outputs": [],
   "source": [
    "base_estimators = [\n",
    "    ('Adaboost', AdaBoostRegressor(n_estimators=10,\n",
    "                                   random_state=RANDOM_SEED)),\n",
    "    ('DT', DecisionTreeRegressor(max_depth=2,\n",
    "                                 min_samples_leaf=10,\n",
    "                                 random_state=RANDOM_SEED)),\n",
    "    ('MLP', MLPRegressor(hidden_layer_sizes=(100, 100),\n",
    "                         max_iter=10000,\n",
    "                         random_state=RANDOM_SEED))\n",
    "]"
   ]
  },
  {
   "cell_type": "code",
   "execution_count": 93,
   "id": "ccf82dc7",
   "metadata": {
    "ExecuteTime": {
     "end_time": "2023-10-24T18:05:42.445940Z",
     "start_time": "2023-10-24T18:05:42.442630Z"
    }
   },
   "outputs": [],
   "source": [
    "reg = StackingRegressor(\n",
    "    estimators=base_estimators,\n",
    "    final_estimator=RandomForestRegressor(n_estimators=10,\n",
    "                                          random_state=RANDOM_SEED)\n",
    ")"
   ]
  },
  {
   "cell_type": "code",
   "execution_count": 94,
   "id": "af77801c",
   "metadata": {
    "ExecuteTime": {
     "end_time": "2023-10-24T18:05:42.629873Z",
     "start_time": "2023-10-24T18:05:42.625759Z"
    }
   },
   "outputs": [],
   "source": [
    "model_instances_with_stacked = [\n",
    "    ('DT', DecisionTreeRegressor(max_depth=2,\n",
    "                                 min_samples_leaf=10,\n",
    "                                 random_state=RANDOM_SEED)),\n",
    "    ('Adaboost', AdaBoostRegressor(n_estimators=10,\n",
    "                                   random_state=RANDOM_SEED)),\n",
    "    ('GradientBoosting', GradientBoostingRegressor(n_estimators=10,\n",
    "                                                   random_state=RANDOM_SEED)),\n",
    "    ('MLP', MLPRegressor(hidden_layer_sizes=(100, 100),\n",
    "                         max_iter=10000,\n",
    "                         random_state=RANDOM_SEED)),\n",
    "    ('SameValue', SameValueEstimator()),\n",
    "    ('Stacked', reg)\n",
    "]"
   ]
  },
  {
   "cell_type": "code",
   "execution_count": 95,
   "id": "ed784a36",
   "metadata": {
    "ExecuteTime": {
     "end_time": "2023-10-24T18:05:43.376646Z",
     "start_time": "2023-10-24T18:05:43.214652Z"
    }
   },
   "outputs": [
    {
     "name": "stdout",
     "output_type": "stream",
     "text": [
      "(2270, 27)\n",
      "(2130, 55)\n",
      "(2005, 58)\n"
     ]
    }
   ],
   "source": [
    "print(df.shape)\n",
    "df_full = add_time_stamps_and_other_features(df.copy(), cols_to_include)\n",
    "print(df_full.shape)\n",
    "df_full = add_label(df_full)\n",
    "print(df_full.shape)\n",
    "\n",
    "for c in df_full.columns:\n",
    "    if df_full[c].isnull().sum():\n",
    "        df_full[c] = df_full[c].fillna(0)"
   ]
  },
  {
   "cell_type": "code",
   "execution_count": 96,
   "id": "9cf3c6c2",
   "metadata": {
    "ExecuteTime": {
     "end_time": "2023-10-24T18:05:44.129086Z",
     "start_time": "2023-10-24T18:05:44.123237Z"
    }
   },
   "outputs": [],
   "source": [
    "one_hot_features = ['zona_pozo']\n",
    "numerical_features = ['porcentaje_agua',\n",
    "                      'presion_casing',\n",
    "                      'presion_boca_pozo',\n",
    "                      'profundidad_bomba',\n",
    "                      'cuplas',\n",
    "                      'produccion_petroleo',\n",
    "                      'gpm',\n",
    "                      'tv',\n",
    "                      'sv',\n",
    "                      'cbe',\n",
    "                      'tmax',\n",
    "                      'carga_max_fondo',\n",
    "                      'carga_min_fondo',\n",
    "                      'sobre_recorrido',\n",
    "                      'estiramiento',\n",
    "                      'carrera',\n",
    "                      'profundidad_gas',\n",
    "                      'profundidad_niveles',\n",
    "                      'velocidad_sonido',\n",
    "                      'sumergencia_efectiva',\n",
    "                      'presion_dinamica',\n",
    "                      'presion_interface',\n",
    "                      'diff_fecha', \n",
    "                      'fecha_mes',\n",
    "                      'dias_estudio_proximo']\n",
    "\n",
    "mapper_inputs = []\n",
    "numerical_preprocessing = preprocessing.MinMaxScaler\n",
    "\n",
    "for c_base in numerical_features:\n",
    "    related_cols = [c for c in df_full.columns if c_base in c]\n",
    "    \n",
    "    for c in related_cols:\n",
    "        mapper_inputs.append(([c], numerical_preprocessing()))\n",
    "\n",
    "for c in one_hot_features:\n",
    "    mapper_inputs.append(([c], preprocessing.OneHotEncoder(handle_unknown='ignore')))\n",
    "\n",
    "mapper = DataFrameMapper(mapper_inputs)"
   ]
  },
  {
   "cell_type": "code",
   "execution_count": 97,
   "id": "e3c15e39",
   "metadata": {
    "ExecuteTime": {
     "end_time": "2023-10-24T18:07:45.912781Z",
     "start_time": "2023-10-24T18:05:44.856143Z"
    }
   },
   "outputs": [
    {
     "name": "stdout",
     "output_type": "stream",
     "text": [
      "    fit_time  score_time  test_score  train_score            method\n",
      "0   0.078570    0.037554   -0.192730    -0.170048                DT\n",
      "1   0.067706    0.034073   -0.258897    -0.163311                DT\n",
      "2   0.070266    0.034860   -0.310450    -0.166555                DT\n",
      "3   0.071270    0.036568   -0.060038    -0.211328                DT\n",
      "4   0.083221    0.037470   -0.149556    -0.193868                DT\n",
      "0   0.194511    0.039685   -0.214709    -0.132568          Adaboost\n",
      "1   0.213566    0.044247   -0.234063    -0.092586          Adaboost\n",
      "2   0.203035    0.036940   -0.324284    -0.107114          Adaboost\n",
      "3   0.197429    0.040136   -0.089547    -0.156143          Adaboost\n",
      "4   0.189813    0.039476   -0.100767    -0.129050          Adaboost\n",
      "0   0.273312    0.040700   -0.229609    -0.138260  GradientBoosting\n",
      "1   0.278035    0.038792   -0.267557    -0.121446  GradientBoosting\n",
      "2   0.268221    0.035476   -0.315082    -0.124835  GradientBoosting\n",
      "3   0.278432    0.036903   -0.084480    -0.162907  GradientBoosting\n",
      "4   0.283397    0.037407   -0.135700    -0.152540  GradientBoosting\n",
      "0   0.668873    0.042673   -0.291463    -0.246250               MLP\n",
      "1   1.790455    0.051934   -0.759033    -0.234201               MLP\n",
      "2   3.876189    0.070692   -0.496630    -0.195641               MLP\n",
      "3   3.271969    0.065094   -0.282502    -0.300054               MLP\n",
      "4   3.218431    0.067131   -0.296378    -0.211773               MLP\n",
      "0   0.106606    0.055655   -0.196466    -0.148497         SameValue\n",
      "1   0.095976    0.071730   -0.229279    -0.140293         SameValue\n",
      "2   0.096689    0.064304   -0.216340    -0.143528         SameValue\n",
      "3   0.106728    0.061181   -0.058808    -0.182911         SameValue\n",
      "4   0.102087    0.064138   -0.089559    -0.175223         SameValue\n",
      "0  17.107573    0.056119   -0.232760    -0.204940           Stacked\n",
      "1  23.765754    0.063248   -0.259162    -0.154204           Stacked\n",
      "2  19.972871    0.061132   -0.537913    -0.212103           Stacked\n",
      "3  21.632461    0.059383   -0.091575    -0.229559           Stacked\n",
      "4  19.033381    0.059707   -0.136806    -0.189414           Stacked\n",
      "method\n",
      "Adaboost           -0.192674\n",
      "DT                 -0.194334\n",
      "GradientBoosting   -0.206485\n",
      "MLP                -0.425201\n",
      "SameValue          -0.158091\n",
      "Stacked            -0.251643\n",
      "Name: test_score, dtype: float64\n"
     ]
    }
   ],
   "source": [
    "run_experiment(df_full, model_instances_with_stacked, mapper)"
   ]
  },
  {
   "cell_type": "markdown",
   "id": "ae3eebe2",
   "metadata": {},
   "source": [
    "# Create one model per zone"
   ]
  },
  {
   "cell_type": "code",
   "execution_count": 18,
   "id": "b04ad0e8",
   "metadata": {
    "ExecuteTime": {
     "end_time": "2023-10-31T10:39:53.702388Z",
     "start_time": "2023-10-31T10:39:53.599823Z"
    }
   },
   "outputs": [
    {
     "name": "stdout",
     "output_type": "stream",
     "text": [
      "(2270, 27)\n",
      "(2130, 55)\n",
      "(2005, 58)\n"
     ]
    }
   ],
   "source": [
    "print(df.shape)\n",
    "df_full = add_time_stamps_and_other_features(df.copy(), cols_to_include)\n",
    "print(df_full.shape)\n",
    "df_full = add_label(df_full)\n",
    "print(df_full.shape)\n",
    "\n",
    "for c in df_full.columns:\n",
    "    if df_full[c].isnull().sum():\n",
    "        df_full[c] = df_full[c].fillna(0)"
   ]
  },
  {
   "cell_type": "code",
   "execution_count": 28,
   "id": "1ea4e6d4",
   "metadata": {
    "ExecuteTime": {
     "end_time": "2023-10-31T10:45:18.967287Z",
     "start_time": "2023-10-31T10:45:18.844600Z"
    }
   },
   "outputs": [],
   "source": [
    "df_full['zona'] = df_full.zona.str.replace('-', ' ').str.replace('  ', ' ').str.upper()"
   ]
  },
  {
   "cell_type": "code",
   "execution_count": 31,
   "id": "4eb3e978",
   "metadata": {
    "ExecuteTime": {
     "end_time": "2023-10-31T10:45:54.394152Z",
     "start_time": "2023-10-31T10:45:54.345178Z"
    }
   },
   "outputs": [],
   "source": [
    "numerical_features = ['porcentaje_agua',\n",
    "                      'presion_casing',\n",
    "                      'presion_boca_pozo',\n",
    "                      'profundidad_bomba',\n",
    "                      'cuplas',\n",
    "                      'produccion_petroleo',\n",
    "                      'gpm',\n",
    "                      'tv',\n",
    "                      'sv',\n",
    "                      'cbe',\n",
    "                      'tmax',\n",
    "                      'carga_max_fondo',\n",
    "                      'carga_min_fondo',\n",
    "                      'sobre_recorrido',\n",
    "                      'estiramiento',\n",
    "                      'carrera',\n",
    "                      'profundidad_gas',\n",
    "                      'profundidad_niveles',\n",
    "                      'velocidad_sonido',\n",
    "                      'sumergencia_efectiva',\n",
    "                      'presion_dinamica',\n",
    "                      'presion_interface',\n",
    "                      'diff_fecha', \n",
    "                      'fecha_mes',\n",
    "                      'dias_estudio_proximo']\n",
    "\n",
    "mapper_inputs = []\n",
    "numerical_preprocessing = preprocessing.MinMaxScaler\n",
    "\n",
    "for c_base in numerical_features:\n",
    "    related_cols = [c for c in df_full.columns if c_base in c]\n",
    "    \n",
    "    for c in related_cols:\n",
    "        mapper_inputs.append(([c], numerical_preprocessing()))\n",
    "\n",
    "mapper = DataFrameMapper(mapper_inputs)"
   ]
  },
  {
   "cell_type": "code",
   "execution_count": 37,
   "id": "8e3ad884",
   "metadata": {
    "ExecuteTime": {
     "end_time": "2023-10-31T10:50:35.049901Z",
     "start_time": "2023-10-31T10:50:04.753992Z"
    }
   },
   "outputs": [
    {
     "name": "stdout",
     "output_type": "stream",
     "text": [
      "    fit_time  score_time  test_score  train_score     method    zone\n",
      "0   0.070922    0.044851   -0.182140    -0.291836         DT  ZONA 6\n",
      "1   0.054231    0.032724   -0.194012    -0.294203         DT  ZONA 6\n",
      "2   0.061381    0.033965   -0.307458    -0.269590         DT  ZONA 6\n",
      "3   0.051377    0.030504   -0.360978    -0.249772         DT  ZONA 6\n",
      "4   0.050096    0.032245   -0.665586    -0.264400         DT  ZONA 6\n",
      "..       ...         ...         ...          ...        ...     ...\n",
      "0   0.047306    0.027512   -0.071935    -0.017123  SameValue  ZONA 7\n",
      "1   0.043624    0.027401   -0.016883    -0.030886  SameValue  ZONA 7\n",
      "2   0.043715    0.026842   -0.024103    -0.029081  SameValue  ZONA 7\n",
      "3   0.053611    0.028184   -0.013463    -0.031741  SameValue  ZONA 7\n",
      "4   0.056106    0.027197   -0.014043    -0.031596  SameValue  ZONA 7\n",
      "\n",
      "[150 rows x 6 columns]\n",
      "method\n",
      "Adaboost           -0.161300\n",
      "DT                 -0.171981\n",
      "GradientBoosting   -0.176766\n",
      "MLP                -0.325165\n",
      "SameValue          -0.122158\n",
      "Name: test_score, dtype: float64\n"
     ]
    }
   ],
   "source": [
    "zones = [z for z in df_full.zona.unique() if 'ZONA' in z]\n",
    "\n",
    "df_results = pd.DataFrame()\n",
    "\n",
    "for zone in zones:\n",
    "    X = df_full[df_full.zona == zone].copy()\n",
    "    y = df_full[df_full.zona == zone].target.copy()\n",
    "\n",
    "    for model_name, base_model_instance in model_instances:\n",
    "        model = copy.deepcopy(base_model_instance)\n",
    "\n",
    "        pipe = Pipeline([\n",
    "            ('mapper', mapper),\n",
    "            ('model', model)])\n",
    "\n",
    "        results = cross_validate(pipe, \n",
    "                                 X, y,\n",
    "                                 cv=5,\n",
    "                                 scoring='neg_mean_absolute_error',\n",
    "                                 return_train_score=True)\n",
    "\n",
    "        df_partial_results = pd.DataFrame(results, columns=results.keys())\n",
    "        df_partial_results['method'] = model_name\n",
    "        df_partial_results['zone'] = zone\n",
    "\n",
    "        df_results = pd.concat([df_results, df_partial_results])\n",
    "\n",
    "print(df_results)\n",
    "\n",
    "print(df_results.groupby('method').test_score.mean())"
   ]
  },
  {
   "cell_type": "markdown",
   "id": "320e5eeb",
   "metadata": {},
   "source": [
    "# Add near well features"
   ]
  },
  {
   "cell_type": "code",
   "execution_count": 11,
   "id": "e37b378f",
   "metadata": {
    "ExecuteTime": {
     "end_time": "2023-11-07T13:30:18.448385Z",
     "start_time": "2023-11-07T13:30:18.156469Z"
    }
   },
   "outputs": [
    {
     "name": "stdout",
     "output_type": "stream",
     "text": [
      "(2270, 27)\n",
      "(2130, 55)\n",
      "(2005, 58)\n"
     ]
    }
   ],
   "source": [
    "print(df.shape)\n",
    "df_full = add_time_stamps_and_other_features(df.copy(), cols_to_include)\n",
    "print(df_full.shape)\n",
    "df_full = add_label(df_full)\n",
    "print(df_full.shape)\n",
    "\n",
    "for c in df_full.columns:\n",
    "    if df_full[c].isnull().sum():\n",
    "        df_full[c] = df_full[c].fillna(0)"
   ]
  },
  {
   "cell_type": "code",
   "execution_count": 12,
   "id": "def28ab7",
   "metadata": {
    "ExecuteTime": {
     "end_time": "2023-11-07T13:30:35.916608Z",
     "start_time": "2023-11-07T13:30:35.887646Z"
    }
   },
   "outputs": [],
   "source": [
    "df_well_locations = pd.read_csv('../data/external/well_locations.csv')"
   ]
  },
  {
   "cell_type": "code",
   "execution_count": 104,
   "id": "cfb4cb24",
   "metadata": {
    "ExecuteTime": {
     "end_time": "2023-11-07T17:09:46.374251Z",
     "start_time": "2023-11-07T17:09:46.358448Z"
    }
   },
   "outputs": [],
   "source": [
    "def get_nearest_well(well_id, df_wells, valid_wells):\n",
    "    _df = df_wells[df_wells.well_id.str.replace('-', ' ') == well_id]\n",
    "    \n",
    "    if len(_df) > 0:\n",
    "        well_x = _df.coor_x.abs().values[0]\n",
    "        well_y = _df.coor_y.abs().values[0]\n",
    "        mask = df_wells.well_id.str.replace('-', ' ').isin(valid_wells)\n",
    "        df_wells['distance'] = np.sqrt((df_wells[mask].coor_x.abs() - well_x) ** 2 + (df_wells[mask].coor_y.abs() - well_y) ** 2)\n",
    "        \n",
    "        return df_wells.sort_values('distance').well_id.values[1]\n",
    "\n",
    "    return None"
   ]
  },
  {
   "cell_type": "code",
   "execution_count": 129,
   "id": "b0a950b9",
   "metadata": {
    "ExecuteTime": {
     "end_time": "2023-11-07T17:25:42.515591Z",
     "start_time": "2023-11-07T17:25:42.493726Z"
    }
   },
   "outputs": [],
   "source": [
    "def add_value_from_nearest_well(df, column):\n",
    "    new_column_name = f'{column}_pozo_cercano'\n",
    "    df[new_column_name] = None\n",
    "\n",
    "    for well in df.pozo.unique():\n",
    "        _df = df[df.pozo == well]\n",
    "        near_well = get_nearest_well(well, df_well_locations, df.pozo.unique())\n",
    "        if near_well:\n",
    "            near_well = near_well.replace('-', ' ')\n",
    "        \n",
    "        for index, r in _df.iterrows():\n",
    "            _df2 = df[df.pozo == near_well].copy()\n",
    "            _df2['date_distance'] = r['fecha'] - _df2.fecha\n",
    "            _df2 = _df2[_df2.date_distance.dt.days > 0].sort_values('date_distance')[column]\n",
    "            if len(_df2) > 0:\n",
    "                most_recent_value = _df2.values[0]\n",
    "            else:\n",
    "                most_recent_value = None\n",
    "            \n",
    "            mask1 = df.pozo == r['pozo']\n",
    "            mask2 = df.fecha == r['fecha']\n",
    "            df.loc[mask1 & mask2, f'{column}_pozo_cercano'] = most_recent_value\n",
    "    \n",
    "    return df"
   ]
  },
  {
   "cell_type": "markdown",
   "id": "528e6537",
   "metadata": {},
   "source": [
    "## Test only adding porcentaje_agua from nearest well"
   ]
  },
  {
   "cell_type": "code",
   "execution_count": 130,
   "id": "ac065415",
   "metadata": {
    "ExecuteTime": {
     "end_time": "2023-11-07T17:26:06.094706Z",
     "start_time": "2023-11-07T17:25:46.228505Z"
    }
   },
   "outputs": [],
   "source": [
    "_df_full = add_value_from_nearest_well(df_full, 'porcentaje_agua')"
   ]
  },
  {
   "cell_type": "code",
   "execution_count": 131,
   "id": "98cac69d",
   "metadata": {
    "ExecuteTime": {
     "end_time": "2023-11-07T17:26:06.106832Z",
     "start_time": "2023-11-07T17:26:06.097991Z"
    },
    "scrolled": true
   },
   "outputs": [
    {
     "data": {
      "text/plain": [
       "(816, 59)"
      ]
     },
     "execution_count": 131,
     "metadata": {},
     "output_type": "execute_result"
    }
   ],
   "source": [
    "_df_full[_df_full.porcentaje_agua_pozo_cercano.notnull()].shape"
   ]
  },
  {
   "cell_type": "code",
   "execution_count": 132,
   "id": "dd59cf92",
   "metadata": {
    "ExecuteTime": {
     "end_time": "2023-11-07T17:26:06.119416Z",
     "start_time": "2023-11-07T17:26:06.108903Z"
    }
   },
   "outputs": [],
   "source": [
    "one_hot_features = ['zona_pozo']\n",
    "numerical_features = ['porcentaje_agua',\n",
    "                      'presion_casing',\n",
    "                      'presion_boca_pozo',\n",
    "                      'profundidad_bomba',\n",
    "                      'cuplas',\n",
    "                      'produccion_petroleo',\n",
    "                      'gpm',\n",
    "                      'tv',\n",
    "                      'sv',\n",
    "                      'cbe',\n",
    "                      'tmax',\n",
    "                      'carga_max_fondo',\n",
    "                      'carga_min_fondo',\n",
    "                      'sobre_recorrido',\n",
    "                      'estiramiento',\n",
    "                      'carrera',\n",
    "                      'profundidad_gas',\n",
    "                      'profundidad_niveles',\n",
    "                      'velocidad_sonido',\n",
    "                      'sumergencia_efectiva',\n",
    "                      'presion_dinamica',\n",
    "                      'presion_interface',\n",
    "                      'diff_fecha', \n",
    "                      'fecha_mes',\n",
    "                      'dias_estudio_proximo']\n",
    "\n",
    "mapper_inputs = []\n",
    "numerical_preprocessing = preprocessing.MinMaxScaler\n",
    "\n",
    "for c_base in numerical_features:\n",
    "    related_cols = [c for c in df_full.columns if c_base in c]\n",
    "    \n",
    "    for c in related_cols:\n",
    "        mapper_inputs.append(([c], numerical_preprocessing()))\n",
    "\n",
    "for c in one_hot_features:\n",
    "    mapper_inputs.append(([c], preprocessing.OneHotEncoder(handle_unknown='ignore')))\n",
    "\n",
    "mapper = DataFrameMapper(mapper_inputs)"
   ]
  },
  {
   "cell_type": "code",
   "execution_count": 134,
   "id": "9d20b0ab",
   "metadata": {
    "ExecuteTime": {
     "end_time": "2023-11-07T17:26:06.136214Z",
     "start_time": "2023-11-07T17:26:06.132884Z"
    }
   },
   "outputs": [],
   "source": [
    "_df_full.porcentaje_agua_pozo_cercano.fillna(-1, inplace=True)"
   ]
  },
  {
   "cell_type": "code",
   "execution_count": 135,
   "id": "586eb77c",
   "metadata": {
    "ExecuteTime": {
     "end_time": "2023-11-07T17:26:16.923033Z",
     "start_time": "2023-11-07T17:26:06.140603Z"
    }
   },
   "outputs": [
    {
     "name": "stdout",
     "output_type": "stream",
     "text": [
      "   fit_time  score_time  test_score  train_score            method\n",
      "0  0.081622    0.038659   -0.192730    -0.170048                DT\n",
      "1  0.069850    0.034776   -0.258897    -0.163311                DT\n",
      "2  0.070741    0.035094   -0.310450    -0.166555                DT\n",
      "3  0.064961    0.032558   -0.060038    -0.211328                DT\n",
      "4  0.061966    0.032674   -0.149556    -0.193868                DT\n",
      "0  0.186217    0.035099   -0.203183    -0.118286          Adaboost\n",
      "1  0.185023    0.033571   -0.288692    -0.124671          Adaboost\n",
      "2  0.182009    0.035485   -0.279264    -0.107175          Adaboost\n",
      "3  0.174165    0.034201   -0.087973    -0.156208          Adaboost\n",
      "4  0.170174    0.034875   -0.123235    -0.144914          Adaboost\n",
      "0  0.261930    0.032577   -0.224611    -0.138260  GradientBoosting\n",
      "1  0.266898    0.035227   -0.269990    -0.121446  GradientBoosting\n",
      "2  0.270760    0.033993   -0.312089    -0.124835  GradientBoosting\n",
      "3  0.265841    0.032312   -0.082062    -0.162907  GradientBoosting\n",
      "4  0.263634    0.034955   -0.135700    -0.152540  GradientBoosting\n",
      "0  0.467544    0.036698   -0.230520    -0.201435               MLP\n",
      "1  2.011055    0.033000   -0.626948    -0.105001               MLP\n",
      "2  1.846157    0.035348   -0.564165    -0.191749               MLP\n",
      "3  0.930950    0.032971   -0.164397    -0.226592               MLP\n",
      "4  0.744191    0.039901   -0.253990    -0.394729               MLP\n",
      "0  0.054184    0.033368   -0.196466    -0.148497         SameValue\n",
      "1  0.055890    0.034125   -0.229279    -0.140293         SameValue\n",
      "2  0.053959    0.035495   -0.216340    -0.143528         SameValue\n",
      "3  0.053842    0.036193   -0.058808    -0.182911         SameValue\n",
      "4  0.049756    0.032647   -0.089559    -0.175223         SameValue\n",
      "method\n",
      "Adaboost           -0.196469\n",
      "DT                 -0.194334\n",
      "GradientBoosting   -0.204890\n",
      "MLP                -0.368004\n",
      "SameValue          -0.158091\n",
      "Name: test_score, dtype: float64\n"
     ]
    }
   ],
   "source": [
    "run_experiment(_df_full, model_instances, mapper)"
   ]
  },
  {
   "cell_type": "markdown",
   "id": "9f53e0fc",
   "metadata": {},
   "source": [
    "## Add all variables"
   ]
  },
  {
   "cell_type": "code",
   "execution_count": 140,
   "id": "04534a76",
   "metadata": {
    "ExecuteTime": {
     "end_time": "2023-11-07T17:37:33.786694Z",
     "start_time": "2023-11-07T17:37:33.780813Z"
    }
   },
   "outputs": [
    {
     "data": {
      "text/plain": [
       "['porcentaje_agua',\n",
       " 'presion_casing',\n",
       " 'presion_boca_pozo',\n",
       " 'profundidad_bomba',\n",
       " 'cuplas',\n",
       " 'produccion_petroleo',\n",
       " 'gpm',\n",
       " 'tv',\n",
       " 'sv',\n",
       " 'cbe',\n",
       " 'tmax',\n",
       " 'carga_max_fondo',\n",
       " 'carga_min_fondo',\n",
       " 'sobre_recorrido',\n",
       " 'estiramiento',\n",
       " 'carrera',\n",
       " 'profundidad_gas',\n",
       " 'profundidad_niveles',\n",
       " 'velocidad_sonido',\n",
       " 'sumergencia_efectiva',\n",
       " 'presion_dinamica',\n",
       " 'presion_interface',\n",
       " 'diff_fecha',\n",
       " 'fecha_mes',\n",
       " 'dias_estudio_proximo']"
      ]
     },
     "execution_count": 140,
     "metadata": {},
     "output_type": "execute_result"
    }
   ],
   "source": [
    "numerical_features"
   ]
  },
  {
   "cell_type": "code",
   "execution_count": null,
   "id": "ca72c6de",
   "metadata": {
    "ExecuteTime": {
     "end_time": "2023-11-07T17:34:09.741655Z",
     "start_time": "2023-11-07T17:27:00.131408Z"
    }
   },
   "outputs": [],
   "source": [
    "df_exp = df_full.copy()\n",
    "\n",
    "cols_to_extract = ['porcentaje_agua',\n",
    " 'presion_casing',\n",
    " 'presion_boca_pozo',\n",
    " 'profundidad_bomba',\n",
    " 'cuplas',\n",
    " 'produccion_petroleo',\n",
    " 'gpm',\n",
    " 'tv',\n",
    " 'sv',\n",
    " 'cbe',\n",
    " 'tmax',\n",
    " 'carga_max_fondo',\n",
    " 'carga_min_fondo',\n",
    " 'sobre_recorrido',\n",
    " 'estiramiento',\n",
    " 'carrera',\n",
    " 'profundidad_gas',\n",
    " 'profundidad_niveles',\n",
    " 'velocidad_sonido',\n",
    " 'sumergencia_efectiva',\n",
    " 'presion_dinamica',\n",
    " 'presion_interface']\n",
    "\n",
    "for c in cols_to_extract:\n",
    "    df_exp = add_value_from_nearest_well(df_exp, c)"
   ]
  },
  {
   "cell_type": "code",
   "execution_count": null,
   "id": "c6a334c3",
   "metadata": {
    "ExecuteTime": {
     "end_time": "2023-11-07T17:39:39.186240Z",
     "start_time": "2023-11-07T17:39:39.063547Z"
    },
    "scrolled": true
   },
   "outputs": [],
   "source": [
    "df_exp.fillna(-100, inplace=True)"
   ]
  },
  {
   "cell_type": "code",
   "execution_count": 154,
   "id": "93d7628a",
   "metadata": {
    "ExecuteTime": {
     "end_time": "2023-11-07T17:41:18.205038Z",
     "start_time": "2023-11-07T17:41:18.197799Z"
    }
   },
   "outputs": [],
   "source": [
    "one_hot_features = ['zona_pozo']\n",
    "numerical_features = ['porcentaje_agua',\n",
    "                      'presion_casing',\n",
    "                      'presion_boca_pozo',\n",
    "                      'profundidad_bomba',\n",
    "                      'cuplas',\n",
    "                      'produccion_petroleo',\n",
    "                      'gpm',\n",
    "                      'tv',\n",
    "                      'sv',\n",
    "                      'cbe',\n",
    "                      'tmax',\n",
    "                      'carga_max_fondo',\n",
    "                      'carga_min_fondo',\n",
    "                      'sobre_recorrido',\n",
    "                      'estiramiento',\n",
    "                      'carrera',\n",
    "                      'profundidad_gas',\n",
    "                      'profundidad_niveles',\n",
    "                      'velocidad_sonido',\n",
    "                      'sumergencia_efectiva',\n",
    "                      'presion_dinamica',\n",
    "                      'presion_interface',\n",
    "                      'diff_fecha', \n",
    "                      'fecha_mes',\n",
    "                      'dias_estudio_proximo']\n",
    "\n",
    "mapper_inputs = []\n",
    "numerical_preprocessing = preprocessing.MinMaxScaler\n",
    "\n",
    "for c_base in numerical_features:\n",
    "    related_cols = [c for c in df_exp.columns if c_base in c]\n",
    "    \n",
    "    for c in related_cols:\n",
    "        mapper_inputs.append(([c], numerical_preprocessing()))\n",
    "\n",
    "for c in one_hot_features:\n",
    "    mapper_inputs.append(([c], preprocessing.OneHotEncoder(handle_unknown='ignore')))\n",
    "\n",
    "mapper = DataFrameMapper(mapper_inputs)"
   ]
  },
  {
   "cell_type": "code",
   "execution_count": 156,
   "id": "4163be35",
   "metadata": {
    "ExecuteTime": {
     "end_time": "2023-11-07T17:41:43.843799Z",
     "start_time": "2023-11-07T17:41:29.716701Z"
    }
   },
   "outputs": [
    {
     "name": "stdout",
     "output_type": "stream",
     "text": [
      "   fit_time  score_time  test_score  train_score            method\n",
      "0  0.119614    0.053640   -0.192730    -0.170048                DT\n",
      "1  0.094937    0.045754   -0.258897    -0.163311                DT\n",
      "2  0.091695    0.050770   -0.310450    -0.166555                DT\n",
      "3  0.095129    0.050264   -0.060038    -0.211328                DT\n",
      "4  0.095631    0.049182   -0.149556    -0.193868                DT\n",
      "0  0.243345    0.048627   -0.199135    -0.123988          Adaboost\n",
      "1  0.213233    0.048727   -0.260773    -0.089212          Adaboost\n",
      "2  0.223391    0.047813   -0.290654    -0.111478          Adaboost\n",
      "3  0.222834    0.052933   -0.092666    -0.165160          Adaboost\n",
      "4  0.218532    0.047735   -0.126363    -0.147023          Adaboost\n",
      "0  0.292730    0.048441   -0.223911    -0.138370  GradientBoosting\n",
      "1  0.302299    0.045928   -0.269102    -0.121446  GradientBoosting\n",
      "2  0.309858    0.046269   -0.293034    -0.124835  GradientBoosting\n",
      "3  0.307172    0.051820   -0.082062    -0.162907  GradientBoosting\n",
      "4  0.303225    0.047461   -0.136192    -0.152602  GradientBoosting\n",
      "0  1.493464    0.063238   -0.278835    -0.147804               MLP\n",
      "1  1.653271    0.049736   -0.315036    -0.240784               MLP\n",
      "2  2.245340    0.049298   -0.613108    -0.136211               MLP\n",
      "3  0.854101    0.045130   -0.160692    -0.257298               MLP\n",
      "4  1.650420    0.046753   -0.221699    -0.146107               MLP\n",
      "0  0.076744    0.047390   -0.196466    -0.148497         SameValue\n",
      "1  0.074135    0.043968   -0.229279    -0.140293         SameValue\n",
      "2  0.074467    0.049763   -0.216340    -0.143528         SameValue\n",
      "3  0.072803    0.046539   -0.058808    -0.182911         SameValue\n",
      "4  0.071513    0.047618   -0.089559    -0.175223         SameValue\n",
      "method\n",
      "Adaboost           -0.193918\n",
      "DT                 -0.194334\n",
      "GradientBoosting   -0.200860\n",
      "MLP                -0.317874\n",
      "SameValue          -0.158091\n",
      "Name: test_score, dtype: float64\n"
     ]
    }
   ],
   "source": [
    "run_experiment(df_exp, model_instances, mapper)"
   ]
  }
 ],
 "metadata": {
  "hide_input": false,
  "kernelspec": {
   "display_name": "Python 3 (ipykernel)",
   "language": "python",
   "name": "python3"
  },
  "language_info": {
   "codemirror_mode": {
    "name": "ipython",
    "version": 3
   },
   "file_extension": ".py",
   "mimetype": "text/x-python",
   "name": "python",
   "nbconvert_exporter": "python",
   "pygments_lexer": "ipython3",
   "version": "3.10.4"
  },
  "toc": {
   "base_numbering": 1,
   "nav_menu": {},
   "number_sections": true,
   "sideBar": true,
   "skip_h1_title": false,
   "title_cell": "Table of Contents",
   "title_sidebar": "Contents",
   "toc_cell": false,
   "toc_position": {},
   "toc_section_display": true,
   "toc_window_display": false
  }
 },
 "nbformat": 4,
 "nbformat_minor": 5
}
