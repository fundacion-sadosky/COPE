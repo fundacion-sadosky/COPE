{
 "cells": [
  {
   "cell_type": "markdown",
   "id": "a8fb220c",
   "metadata": {},
   "source": [
    "<div style=\"background-color:#00000\">\n",
    "    <img src=\"https://fundacionsadosky.org.ar/wp-content/uploads/2022/08/logo.png\" />\n",
    "</div>\n",
    "<div style=\"background-color:#03030a; margin:20px 45%\">\n",
    "    <img src=\"https://www.rfindustrial.com/wp-content/uploads/2023/04/cropped-1080x1080_Mesa-de-trabajo-1.png\" />\n",
    "</div>\n",
    "<div style=\"background-color:#00000;\">\n",
    "    <img src=\"https://sinc.unl.edu.ar/wp-content/themes/sinci/img/sinc-logo.png\" />\n",
    "</div>\n",
    "\n",
    "<p style=\"font-size: 30px\">\n",
    "    <strong>COPE - “Sistema inteligente de medición de nivel y control de velocidad de bombeo para pozos petrolíferos\"</strong>\n",
    "</p>\n",
    "\n",
    "<p style=\"font-size: 20px\">\n",
    "    Objetivo del análisis: Comprender el comportamiento de los distintos pozos a lo largo del tiempo respecto a variables del mismo.\n",
    "</p>\n",
    "\n",
    "12/09/2023"
   ]
  },
  {
   "cell_type": "markdown",
   "id": "5d6a2871",
   "metadata": {},
   "source": [
    "# Imports generales"
   ]
  },
  {
   "cell_type": "code",
   "execution_count": 1,
   "id": "af99bf9f",
   "metadata": {
    "ExecuteTime": {
     "end_time": "2023-10-23T19:45:48.482774Z",
     "start_time": "2023-10-23T19:45:46.160034Z"
    }
   },
   "outputs": [
    {
     "data": {
      "text/html": [
       "<style>.container { width:95% !important; }</style>"
      ],
      "text/plain": [
       "<IPython.core.display.HTML object>"
      ]
     },
     "metadata": {},
     "output_type": "display_data"
    },
    {
     "data": {
      "text/html": [
       "        <script type=\"text/javascript\">\n",
       "        window.PlotlyConfig = {MathJaxConfig: 'local'};\n",
       "        if (window.MathJax && window.MathJax.Hub && window.MathJax.Hub.Config) {window.MathJax.Hub.Config({SVG: {font: \"STIX-Web\"}});}\n",
       "        if (typeof require !== 'undefined') {\n",
       "        require.undef(\"plotly\");\n",
       "        requirejs.config({\n",
       "            paths: {\n",
       "                'plotly': ['https://cdn.plot.ly/plotly-2.18.2.min']\n",
       "            }\n",
       "        });\n",
       "        require(['plotly'], function(Plotly) {\n",
       "            window._Plotly = Plotly;\n",
       "        });\n",
       "        }\n",
       "        </script>\n",
       "        "
      ]
     },
     "metadata": {},
     "output_type": "display_data"
    }
   ],
   "source": [
    "from IPython.display import display, HTML\n",
    "display(HTML(\"<style>.container { width:95% !important; }</style>\"))\n",
    "\n",
    "import sys\n",
    "sys.path.append(\"../\") # go to parent dir\n",
    "\n",
    "import pandas as pd\n",
    "import plotly.offline as pyo\n",
    "import plotly.express as px\n",
    "import plotly.graph_objects as go\n",
    "import plotly.figure_factory as ff\n",
    "from plotly.subplots import make_subplots\n",
    "import seaborn as sns\n",
    "# Set notebook mode to work in offline\n",
    "pyo.init_notebook_mode(connected=True)\n",
    "\n",
    "from src.data import utils\n",
    "from src.methods import utils\n",
    "from src.methods import base as base_methods"
   ]
  },
  {
   "cell_type": "markdown",
   "id": "121e32c6",
   "metadata": {},
   "source": [
    "# Carga de datos"
   ]
  },
  {
   "cell_type": "code",
   "execution_count": 2,
   "id": "d8f43655",
   "metadata": {
    "ExecuteTime": {
     "end_time": "2023-10-23T19:45:48.513648Z",
     "start_time": "2023-10-23T19:45:48.487459Z"
    }
   },
   "outputs": [],
   "source": [
    "df = pd.read_csv('../data/raw/dinamometrias.csv')"
   ]
  },
  {
   "cell_type": "code",
   "execution_count": 3,
   "id": "d1dd1822",
   "metadata": {
    "ExecuteTime": {
     "end_time": "2023-10-23T19:45:48.563786Z",
     "start_time": "2023-10-23T19:45:48.532551Z"
    }
   },
   "outputs": [
    {
     "data": {
      "text/html": [
       "<div>\n",
       "<style scoped>\n",
       "    .dataframe tbody tr th:only-of-type {\n",
       "        vertical-align: middle;\n",
       "    }\n",
       "\n",
       "    .dataframe tbody tr th {\n",
       "        vertical-align: top;\n",
       "    }\n",
       "\n",
       "    .dataframe thead th {\n",
       "        text-align: right;\n",
       "    }\n",
       "</style>\n",
       "<table border=\"1\" class=\"dataframe\">\n",
       "  <thead>\n",
       "    <tr style=\"text-align: right;\">\n",
       "      <th></th>\n",
       "      <th>fecha</th>\n",
       "      <th>pozo</th>\n",
       "      <th>porcentaje agua</th>\n",
       "      <th>presion casing</th>\n",
       "      <th>presion boca pozo</th>\n",
       "      <th>yacimiento</th>\n",
       "      <th>zona</th>\n",
       "      <th>carrera</th>\n",
       "      <th>gpm</th>\n",
       "      <th>tv</th>\n",
       "      <th>...</th>\n",
       "      <th>estiramiento</th>\n",
       "      <th>profundidad bomba</th>\n",
       "      <th>cuplas</th>\n",
       "      <th>produccion petroleo</th>\n",
       "      <th>profundidad gas</th>\n",
       "      <th>profundidad niveles</th>\n",
       "      <th>velocidad sonido</th>\n",
       "      <th>sumergencia efectiva</th>\n",
       "      <th>presion dinamica</th>\n",
       "      <th>presion interface</th>\n",
       "    </tr>\n",
       "  </thead>\n",
       "  <tbody>\n",
       "    <tr>\n",
       "      <th>0</th>\n",
       "      <td>2022-10-14</td>\n",
       "      <td>F 281</td>\n",
       "      <td>98.45</td>\n",
       "      <td>0.5</td>\n",
       "      <td>4.5</td>\n",
       "      <td>DIADEMA</td>\n",
       "      <td>ZONA 2</td>\n",
       "      <td>167.99</td>\n",
       "      <td>7.94</td>\n",
       "      <td>15541</td>\n",
       "      <td>...</td>\n",
       "      <td>23.69</td>\n",
       "      <td>1925.74</td>\n",
       "      <td>18.2</td>\n",
       "      <td>0.1</td>\n",
       "      <td>171</td>\n",
       "      <td>1598</td>\n",
       "      <td>363</td>\n",
       "      <td>328</td>\n",
       "      <td>436</td>\n",
       "      <td>8</td>\n",
       "    </tr>\n",
       "    <tr>\n",
       "      <th>1</th>\n",
       "      <td>2022-10-20</td>\n",
       "      <td>H 129</td>\n",
       "      <td>92.85</td>\n",
       "      <td>0.0</td>\n",
       "      <td>6.5</td>\n",
       "      <td>DIADEMA</td>\n",
       "      <td>ZONA 4</td>\n",
       "      <td>168.77</td>\n",
       "      <td>5.04</td>\n",
       "      <td>18647</td>\n",
       "      <td>...</td>\n",
       "      <td>29.56</td>\n",
       "      <td>1454.49</td>\n",
       "      <td>142.6</td>\n",
       "      <td>6.1</td>\n",
       "      <td>1341</td>\n",
       "      <td>1367</td>\n",
       "      <td>388</td>\n",
       "      <td>88</td>\n",
       "      <td>117</td>\n",
       "      <td>2</td>\n",
       "    </tr>\n",
       "  </tbody>\n",
       "</table>\n",
       "<p>2 rows × 27 columns</p>\n",
       "</div>"
      ],
      "text/plain": [
       "        fecha   pozo porcentaje agua  presion casing  presion boca pozo  \\\n",
       "0  2022-10-14  F 281           98.45             0.5                4.5   \n",
       "1  2022-10-20  H 129           92.85             0.0                6.5   \n",
       "\n",
       "  yacimiento    zona  carrera   gpm     tv  ...  estiramiento  \\\n",
       "0    DIADEMA  ZONA 2   167.99  7.94  15541  ...         23.69   \n",
       "1    DIADEMA  ZONA 4   168.77  5.04  18647  ...         29.56   \n",
       "\n",
       "   profundidad bomba  cuplas  produccion petroleo  profundidad gas  \\\n",
       "0            1925.74    18.2                  0.1              171   \n",
       "1            1454.49   142.6                  6.1             1341   \n",
       "\n",
       "   profundidad niveles  velocidad sonido  sumergencia efectiva  \\\n",
       "0                 1598               363                   328   \n",
       "1                 1367               388                    88   \n",
       "\n",
       "   presion dinamica  presion interface  \n",
       "0               436                  8  \n",
       "1               117                  2  \n",
       "\n",
       "[2 rows x 27 columns]"
      ]
     },
     "execution_count": 3,
     "metadata": {},
     "output_type": "execute_result"
    }
   ],
   "source": [
    "df.head(2)"
   ]
  },
  {
   "cell_type": "code",
   "execution_count": 4,
   "id": "fbc34b9b",
   "metadata": {
    "ExecuteTime": {
     "end_time": "2023-10-23T19:45:48.637166Z",
     "start_time": "2023-10-23T19:45:48.567888Z"
    }
   },
   "outputs": [
    {
     "data": {
      "text/html": [
       "<div>\n",
       "<style scoped>\n",
       "    .dataframe tbody tr th:only-of-type {\n",
       "        vertical-align: middle;\n",
       "    }\n",
       "\n",
       "    .dataframe tbody tr th {\n",
       "        vertical-align: top;\n",
       "    }\n",
       "\n",
       "    .dataframe thead th {\n",
       "        text-align: right;\n",
       "    }\n",
       "</style>\n",
       "<table border=\"1\" class=\"dataframe\">\n",
       "  <thead>\n",
       "    <tr style=\"text-align: right;\">\n",
       "      <th></th>\n",
       "      <th>presion casing</th>\n",
       "      <th>presion boca pozo</th>\n",
       "      <th>carrera</th>\n",
       "      <th>gpm</th>\n",
       "      <th>tv</th>\n",
       "      <th>sv</th>\n",
       "      <th>cbe</th>\n",
       "      <th>tmax</th>\n",
       "      <th>vpmax</th>\n",
       "      <th>carga max fondo</th>\n",
       "      <th>...</th>\n",
       "      <th>estiramiento</th>\n",
       "      <th>profundidad bomba</th>\n",
       "      <th>cuplas</th>\n",
       "      <th>produccion petroleo</th>\n",
       "      <th>profundidad gas</th>\n",
       "      <th>profundidad niveles</th>\n",
       "      <th>velocidad sonido</th>\n",
       "      <th>sumergencia efectiva</th>\n",
       "      <th>presion dinamica</th>\n",
       "      <th>presion interface</th>\n",
       "    </tr>\n",
       "  </thead>\n",
       "  <tbody>\n",
       "    <tr>\n",
       "      <th>count</th>\n",
       "      <td>2273.000000</td>\n",
       "      <td>2273.000000</td>\n",
       "      <td>2273.000000</td>\n",
       "      <td>2273.000000</td>\n",
       "      <td>2273.000000</td>\n",
       "      <td>2273.000000</td>\n",
       "      <td>2273.000000</td>\n",
       "      <td>2273.000000</td>\n",
       "      <td>2273.000000</td>\n",
       "      <td>2273.000000</td>\n",
       "      <td>...</td>\n",
       "      <td>2273.000000</td>\n",
       "      <td>2273.000000</td>\n",
       "      <td>2273.000000</td>\n",
       "      <td>2273.000000</td>\n",
       "      <td>2273.000000</td>\n",
       "      <td>2273.000000</td>\n",
       "      <td>2273.000000</td>\n",
       "      <td>2273.000000</td>\n",
       "      <td>2273.000000</td>\n",
       "      <td>2273.000000</td>\n",
       "    </tr>\n",
       "    <tr>\n",
       "      <th>mean</th>\n",
       "      <td>2.836252</td>\n",
       "      <td>11.040255</td>\n",
       "      <td>152.085631</td>\n",
       "      <td>5.665913</td>\n",
       "      <td>15125.555653</td>\n",
       "      <td>9613.488781</td>\n",
       "      <td>14959.559173</td>\n",
       "      <td>525910.671359</td>\n",
       "      <td>0.638583</td>\n",
       "      <td>6258.824901</td>\n",
       "      <td>...</td>\n",
       "      <td>24.658812</td>\n",
       "      <td>1626.684611</td>\n",
       "      <td>130.886450</td>\n",
       "      <td>5.942895</td>\n",
       "      <td>1230.312802</td>\n",
       "      <td>1354.754070</td>\n",
       "      <td>364.327761</td>\n",
       "      <td>271.737791</td>\n",
       "      <td>402.556973</td>\n",
       "      <td>47.991201</td>\n",
       "    </tr>\n",
       "    <tr>\n",
       "      <th>std</th>\n",
       "      <td>4.582152</td>\n",
       "      <td>7.396871</td>\n",
       "      <td>29.968334</td>\n",
       "      <td>1.872075</td>\n",
       "      <td>3683.317522</td>\n",
       "      <td>2564.983998</td>\n",
       "      <td>3317.775167</td>\n",
       "      <td>191646.861505</td>\n",
       "      <td>0.326733</td>\n",
       "      <td>2578.630607</td>\n",
       "      <td>...</td>\n",
       "      <td>9.951332</td>\n",
       "      <td>361.211442</td>\n",
       "      <td>44.208121</td>\n",
       "      <td>8.279344</td>\n",
       "      <td>415.825745</td>\n",
       "      <td>386.975344</td>\n",
       "      <td>277.335485</td>\n",
       "      <td>287.542077</td>\n",
       "      <td>364.172842</td>\n",
       "      <td>74.407779</td>\n",
       "    </tr>\n",
       "    <tr>\n",
       "      <th>min</th>\n",
       "      <td>0.000000</td>\n",
       "      <td>0.000000</td>\n",
       "      <td>17.250000</td>\n",
       "      <td>1.700000</td>\n",
       "      <td>1805.000000</td>\n",
       "      <td>646.000000</td>\n",
       "      <td>0.000000</td>\n",
       "      <td>0.000000</td>\n",
       "      <td>0.100000</td>\n",
       "      <td>11.000000</td>\n",
       "      <td>...</td>\n",
       "      <td>0.970000</td>\n",
       "      <td>134.580000</td>\n",
       "      <td>8.500000</td>\n",
       "      <td>-11.400000</td>\n",
       "      <td>80.000000</td>\n",
       "      <td>82.000000</td>\n",
       "      <td>183.000000</td>\n",
       "      <td>1.000000</td>\n",
       "      <td>18.000000</td>\n",
       "      <td>0.000000</td>\n",
       "    </tr>\n",
       "    <tr>\n",
       "      <th>25%</th>\n",
       "      <td>0.000000</td>\n",
       "      <td>6.000000</td>\n",
       "      <td>143.780000</td>\n",
       "      <td>4.070000</td>\n",
       "      <td>12815.000000</td>\n",
       "      <td>8160.000000</td>\n",
       "      <td>13449.000000</td>\n",
       "      <td>397473.000000</td>\n",
       "      <td>0.400000</td>\n",
       "      <td>4399.000000</td>\n",
       "      <td>...</td>\n",
       "      <td>17.370000</td>\n",
       "      <td>1404.420000</td>\n",
       "      <td>103.700000</td>\n",
       "      <td>2.200000</td>\n",
       "      <td>973.000000</td>\n",
       "      <td>1101.000000</td>\n",
       "      <td>310.000000</td>\n",
       "      <td>65.000000</td>\n",
       "      <td>150.000000</td>\n",
       "      <td>2.000000</td>\n",
       "    </tr>\n",
       "    <tr>\n",
       "      <th>50%</th>\n",
       "      <td>0.100000</td>\n",
       "      <td>10.000000</td>\n",
       "      <td>167.560000</td>\n",
       "      <td>5.320000</td>\n",
       "      <td>15523.000000</td>\n",
       "      <td>9558.000000</td>\n",
       "      <td>15634.000000</td>\n",
       "      <td>550713.000000</td>\n",
       "      <td>0.600000</td>\n",
       "      <td>5951.000000</td>\n",
       "      <td>...</td>\n",
       "      <td>23.450000</td>\n",
       "      <td>1574.660000</td>\n",
       "      <td>127.000000</td>\n",
       "      <td>3.700000</td>\n",
       "      <td>1194.000000</td>\n",
       "      <td>1317.000000</td>\n",
       "      <td>355.000000</td>\n",
       "      <td>159.000000</td>\n",
       "      <td>277.000000</td>\n",
       "      <td>4.000000</td>\n",
       "    </tr>\n",
       "    <tr>\n",
       "      <th>75%</th>\n",
       "      <td>4.500000</td>\n",
       "      <td>15.000000</td>\n",
       "      <td>168.500000</td>\n",
       "      <td>7.090000</td>\n",
       "      <td>17983.000000</td>\n",
       "      <td>11549.000000</td>\n",
       "      <td>16565.000000</td>\n",
       "      <td>660738.000000</td>\n",
       "      <td>0.900000</td>\n",
       "      <td>7796.000000</td>\n",
       "      <td>...</td>\n",
       "      <td>31.310000</td>\n",
       "      <td>1932.900000</td>\n",
       "      <td>156.000000</td>\n",
       "      <td>6.800000</td>\n",
       "      <td>1468.000000</td>\n",
       "      <td>1665.000000</td>\n",
       "      <td>390.000000</td>\n",
       "      <td>368.000000</td>\n",
       "      <td>541.000000</td>\n",
       "      <td>76.000000</td>\n",
       "    </tr>\n",
       "    <tr>\n",
       "      <th>max</th>\n",
       "      <td>24.400000</td>\n",
       "      <td>56.000000</td>\n",
       "      <td>194.630000</td>\n",
       "      <td>11.680000</td>\n",
       "      <td>25081.000000</td>\n",
       "      <td>16983.000000</td>\n",
       "      <td>23083.000000</td>\n",
       "      <td>988476.000000</td>\n",
       "      <td>1.600000</td>\n",
       "      <td>16914.000000</td>\n",
       "      <td>...</td>\n",
       "      <td>76.230000</td>\n",
       "      <td>2648.000000</td>\n",
       "      <td>269.400000</td>\n",
       "      <td>241.000000</td>\n",
       "      <td>2533.000000</td>\n",
       "      <td>2578.000000</td>\n",
       "      <td>7825.000000</td>\n",
       "      <td>1616.000000</td>\n",
       "      <td>2112.000000</td>\n",
       "      <td>391.000000</td>\n",
       "    </tr>\n",
       "  </tbody>\n",
       "</table>\n",
       "<p>8 rows × 22 columns</p>\n",
       "</div>"
      ],
      "text/plain": [
       "       presion casing  presion boca pozo      carrera          gpm  \\\n",
       "count     2273.000000        2273.000000  2273.000000  2273.000000   \n",
       "mean         2.836252          11.040255   152.085631     5.665913   \n",
       "std          4.582152           7.396871    29.968334     1.872075   \n",
       "min          0.000000           0.000000    17.250000     1.700000   \n",
       "25%          0.000000           6.000000   143.780000     4.070000   \n",
       "50%          0.100000          10.000000   167.560000     5.320000   \n",
       "75%          4.500000          15.000000   168.500000     7.090000   \n",
       "max         24.400000          56.000000   194.630000    11.680000   \n",
       "\n",
       "                 tv            sv           cbe           tmax        vpmax  \\\n",
       "count   2273.000000   2273.000000   2273.000000    2273.000000  2273.000000   \n",
       "mean   15125.555653   9613.488781  14959.559173  525910.671359     0.638583   \n",
       "std     3683.317522   2564.983998   3317.775167  191646.861505     0.326733   \n",
       "min     1805.000000    646.000000      0.000000       0.000000     0.100000   \n",
       "25%    12815.000000   8160.000000  13449.000000  397473.000000     0.400000   \n",
       "50%    15523.000000   9558.000000  15634.000000  550713.000000     0.600000   \n",
       "75%    17983.000000  11549.000000  16565.000000  660738.000000     0.900000   \n",
       "max    25081.000000  16983.000000  23083.000000  988476.000000     1.600000   \n",
       "\n",
       "       carga max fondo  ...  estiramiento  profundidad bomba       cuplas  \\\n",
       "count      2273.000000  ...   2273.000000        2273.000000  2273.000000   \n",
       "mean       6258.824901  ...     24.658812        1626.684611   130.886450   \n",
       "std        2578.630607  ...      9.951332         361.211442    44.208121   \n",
       "min          11.000000  ...      0.970000         134.580000     8.500000   \n",
       "25%        4399.000000  ...     17.370000        1404.420000   103.700000   \n",
       "50%        5951.000000  ...     23.450000        1574.660000   127.000000   \n",
       "75%        7796.000000  ...     31.310000        1932.900000   156.000000   \n",
       "max       16914.000000  ...     76.230000        2648.000000   269.400000   \n",
       "\n",
       "       produccion petroleo  profundidad gas  profundidad niveles  \\\n",
       "count          2273.000000      2273.000000          2273.000000   \n",
       "mean              5.942895      1230.312802          1354.754070   \n",
       "std               8.279344       415.825745           386.975344   \n",
       "min             -11.400000        80.000000            82.000000   \n",
       "25%               2.200000       973.000000          1101.000000   \n",
       "50%               3.700000      1194.000000          1317.000000   \n",
       "75%               6.800000      1468.000000          1665.000000   \n",
       "max             241.000000      2533.000000          2578.000000   \n",
       "\n",
       "       velocidad sonido  sumergencia efectiva  presion dinamica  \\\n",
       "count       2273.000000           2273.000000       2273.000000   \n",
       "mean         364.327761            271.737791        402.556973   \n",
       "std          277.335485            287.542077        364.172842   \n",
       "min          183.000000              1.000000         18.000000   \n",
       "25%          310.000000             65.000000        150.000000   \n",
       "50%          355.000000            159.000000        277.000000   \n",
       "75%          390.000000            368.000000        541.000000   \n",
       "max         7825.000000           1616.000000       2112.000000   \n",
       "\n",
       "       presion interface  \n",
       "count        2273.000000  \n",
       "mean           47.991201  \n",
       "std            74.407779  \n",
       "min             0.000000  \n",
       "25%             2.000000  \n",
       "50%             4.000000  \n",
       "75%            76.000000  \n",
       "max           391.000000  \n",
       "\n",
       "[8 rows x 22 columns]"
      ]
     },
     "execution_count": 4,
     "metadata": {},
     "output_type": "execute_result"
    }
   ],
   "source": [
    "df.describe()"
   ]
  },
  {
   "cell_type": "code",
   "execution_count": 5,
   "id": "81002d9d",
   "metadata": {
    "ExecuteTime": {
     "end_time": "2023-10-23T19:45:48.935280Z",
     "start_time": "2023-10-23T19:45:48.639332Z"
    }
   },
   "outputs": [
    {
     "data": {
      "text/plain": [
       "<Axes: ylabel='Frequency'>"
      ]
     },
     "execution_count": 5,
     "metadata": {},
     "output_type": "execute_result"
    },
    {
     "data": {
      "image/png": "[encoded data removed]",
      "text/plain": [
       "<Figure size 640x480 with 1 Axes>"
      ]
     },
     "metadata": {},
     "output_type": "display_data"
    }
   ],
   "source": [
    "df['profundidad niveles'].plot.hist(bins=50)"
   ]
  },
  {
   "cell_type": "code",
   "execution_count": 6,
   "id": "45749895",
   "metadata": {
    "ExecuteTime": {
     "end_time": "2023-10-23T19:45:48.942593Z",
     "start_time": "2023-10-23T19:45:48.937165Z"
    }
   },
   "outputs": [
    {
     "data": {
      "text/plain": [
       "1551     82\n",
       "1598    172\n",
       "469     332\n",
       "173     338\n",
       "334     347\n",
       "827     353\n",
       "284     358\n",
       "125     377\n",
       "1614    395\n",
       "339     398\n",
       "Name: profundidad niveles, dtype: int64"
      ]
     },
     "execution_count": 6,
     "metadata": {},
     "output_type": "execute_result"
    }
   ],
   "source": [
    "df['profundidad niveles'].sort_values().head(10)"
   ]
  },
  {
   "cell_type": "code",
   "execution_count": 7,
   "id": "3f0e1957",
   "metadata": {
    "ExecuteTime": {
     "end_time": "2023-10-23T19:45:48.957164Z",
     "start_time": "2023-10-23T19:45:48.944456Z"
    }
   },
   "outputs": [],
   "source": [
    "df['fecha'] = pd.to_datetime(df.fecha)\n",
    "df = df.sort_values(by=['pozo', 'fecha'])\n",
    "df.columns = [c.lower().replace(' ', '_') for c in df.columns]\n",
    "df['porcentaje_agua'] = pd.to_numeric(df.porcentaje_agua, errors='coerce')"
   ]
  },
  {
   "cell_type": "code",
   "execution_count": 8,
   "id": "cfa63400",
   "metadata": {
    "ExecuteTime": {
     "end_time": "2023-10-23T19:45:48.964286Z",
     "start_time": "2023-10-23T19:45:48.958685Z"
    }
   },
   "outputs": [
    {
     "data": {
      "text/plain": [
       "E 184       35\n",
       "E 180       34\n",
       "EAS 2003    34\n",
       "E 175       34\n",
       "E 153       33\n",
       "E 198       33\n",
       "E 191       33\n",
       "E 151       33\n",
       "H 129       32\n",
       "L 109       32\n",
       "E 186       32\n",
       "E 202       32\n",
       "H 125       31\n",
       "L 98        31\n",
       "E 131       31\n",
       "Name: pozo, dtype: int64"
      ]
     },
     "execution_count": 8,
     "metadata": {},
     "output_type": "execute_result"
    }
   ],
   "source": [
    "df.pozo.value_counts().head(15)"
   ]
  },
  {
   "cell_type": "markdown",
   "id": "a36dc46d",
   "metadata": {},
   "source": [
    "# Análisis general de la información"
   ]
  },
  {
   "cell_type": "code",
   "execution_count": 9,
   "id": "ff3ec5e8",
   "metadata": {
    "ExecuteTime": {
     "end_time": "2023-10-23T19:45:49.020096Z",
     "start_time": "2023-10-23T19:45:48.966438Z"
    }
   },
   "outputs": [
    {
     "data": {
      "text/html": [
       "<div>\n",
       "<style scoped>\n",
       "    .dataframe tbody tr th:only-of-type {\n",
       "        vertical-align: middle;\n",
       "    }\n",
       "\n",
       "    .dataframe tbody tr th {\n",
       "        vertical-align: top;\n",
       "    }\n",
       "\n",
       "    .dataframe thead th {\n",
       "        text-align: right;\n",
       "    }\n",
       "</style>\n",
       "<table border=\"1\" class=\"dataframe\">\n",
       "  <thead>\n",
       "    <tr style=\"text-align: right;\">\n",
       "      <th></th>\n",
       "      <th>porcentaje_agua</th>\n",
       "      <th>presion_casing</th>\n",
       "      <th>presion_boca_pozo</th>\n",
       "      <th>carrera</th>\n",
       "      <th>gpm</th>\n",
       "      <th>tv</th>\n",
       "      <th>sv</th>\n",
       "      <th>cbe</th>\n",
       "      <th>tmax</th>\n",
       "      <th>vpmax</th>\n",
       "      <th>...</th>\n",
       "      <th>estiramiento</th>\n",
       "      <th>profundidad_bomba</th>\n",
       "      <th>cuplas</th>\n",
       "      <th>produccion_petroleo</th>\n",
       "      <th>profundidad_gas</th>\n",
       "      <th>profundidad_niveles</th>\n",
       "      <th>velocidad_sonido</th>\n",
       "      <th>sumergencia_efectiva</th>\n",
       "      <th>presion_dinamica</th>\n",
       "      <th>presion_interface</th>\n",
       "    </tr>\n",
       "  </thead>\n",
       "  <tbody>\n",
       "    <tr>\n",
       "      <th>count</th>\n",
       "      <td>2270.000000</td>\n",
       "      <td>2273.000000</td>\n",
       "      <td>2273.000000</td>\n",
       "      <td>2273.000000</td>\n",
       "      <td>2273.000000</td>\n",
       "      <td>2273.000000</td>\n",
       "      <td>2273.000000</td>\n",
       "      <td>2273.000000</td>\n",
       "      <td>2273.000000</td>\n",
       "      <td>2273.000000</td>\n",
       "      <td>...</td>\n",
       "      <td>2273.000000</td>\n",
       "      <td>2273.000000</td>\n",
       "      <td>2273.000000</td>\n",
       "      <td>2273.000000</td>\n",
       "      <td>2273.000000</td>\n",
       "      <td>2273.000000</td>\n",
       "      <td>2273.000000</td>\n",
       "      <td>2273.000000</td>\n",
       "      <td>2273.000000</td>\n",
       "      <td>2273.000000</td>\n",
       "    </tr>\n",
       "    <tr>\n",
       "      <th>mean</th>\n",
       "      <td>76.927242</td>\n",
       "      <td>2.836252</td>\n",
       "      <td>11.040255</td>\n",
       "      <td>152.085631</td>\n",
       "      <td>5.665913</td>\n",
       "      <td>15125.555653</td>\n",
       "      <td>9613.488781</td>\n",
       "      <td>14959.559173</td>\n",
       "      <td>525910.671359</td>\n",
       "      <td>0.638583</td>\n",
       "      <td>...</td>\n",
       "      <td>24.658812</td>\n",
       "      <td>1626.684611</td>\n",
       "      <td>130.886450</td>\n",
       "      <td>5.942895</td>\n",
       "      <td>1230.312802</td>\n",
       "      <td>1354.754070</td>\n",
       "      <td>364.327761</td>\n",
       "      <td>271.737791</td>\n",
       "      <td>402.556973</td>\n",
       "      <td>47.991201</td>\n",
       "    </tr>\n",
       "    <tr>\n",
       "      <th>std</th>\n",
       "      <td>24.238659</td>\n",
       "      <td>4.582152</td>\n",
       "      <td>7.396871</td>\n",
       "      <td>29.968334</td>\n",
       "      <td>1.872075</td>\n",
       "      <td>3683.317522</td>\n",
       "      <td>2564.983998</td>\n",
       "      <td>3317.775167</td>\n",
       "      <td>191646.861505</td>\n",
       "      <td>0.326733</td>\n",
       "      <td>...</td>\n",
       "      <td>9.951332</td>\n",
       "      <td>361.211442</td>\n",
       "      <td>44.208121</td>\n",
       "      <td>8.279344</td>\n",
       "      <td>415.825745</td>\n",
       "      <td>386.975344</td>\n",
       "      <td>277.335485</td>\n",
       "      <td>287.542077</td>\n",
       "      <td>364.172842</td>\n",
       "      <td>74.407779</td>\n",
       "    </tr>\n",
       "    <tr>\n",
       "      <th>min</th>\n",
       "      <td>2.730000</td>\n",
       "      <td>0.000000</td>\n",
       "      <td>0.000000</td>\n",
       "      <td>17.250000</td>\n",
       "      <td>1.700000</td>\n",
       "      <td>1805.000000</td>\n",
       "      <td>646.000000</td>\n",
       "      <td>0.000000</td>\n",
       "      <td>0.000000</td>\n",
       "      <td>0.100000</td>\n",
       "      <td>...</td>\n",
       "      <td>0.970000</td>\n",
       "      <td>134.580000</td>\n",
       "      <td>8.500000</td>\n",
       "      <td>-11.400000</td>\n",
       "      <td>80.000000</td>\n",
       "      <td>82.000000</td>\n",
       "      <td>183.000000</td>\n",
       "      <td>1.000000</td>\n",
       "      <td>18.000000</td>\n",
       "      <td>0.000000</td>\n",
       "    </tr>\n",
       "    <tr>\n",
       "      <th>25%</th>\n",
       "      <td>66.037500</td>\n",
       "      <td>0.000000</td>\n",
       "      <td>6.000000</td>\n",
       "      <td>143.780000</td>\n",
       "      <td>4.070000</td>\n",
       "      <td>12815.000000</td>\n",
       "      <td>8160.000000</td>\n",
       "      <td>13449.000000</td>\n",
       "      <td>397473.000000</td>\n",
       "      <td>0.400000</td>\n",
       "      <td>...</td>\n",
       "      <td>17.370000</td>\n",
       "      <td>1404.420000</td>\n",
       "      <td>103.700000</td>\n",
       "      <td>2.200000</td>\n",
       "      <td>973.000000</td>\n",
       "      <td>1101.000000</td>\n",
       "      <td>310.000000</td>\n",
       "      <td>65.000000</td>\n",
       "      <td>150.000000</td>\n",
       "      <td>2.000000</td>\n",
       "    </tr>\n",
       "    <tr>\n",
       "      <th>50%</th>\n",
       "      <td>87.590000</td>\n",
       "      <td>0.100000</td>\n",
       "      <td>10.000000</td>\n",
       "      <td>167.560000</td>\n",
       "      <td>5.320000</td>\n",
       "      <td>15523.000000</td>\n",
       "      <td>9558.000000</td>\n",
       "      <td>15634.000000</td>\n",
       "      <td>550713.000000</td>\n",
       "      <td>0.600000</td>\n",
       "      <td>...</td>\n",
       "      <td>23.450000</td>\n",
       "      <td>1574.660000</td>\n",
       "      <td>127.000000</td>\n",
       "      <td>3.700000</td>\n",
       "      <td>1194.000000</td>\n",
       "      <td>1317.000000</td>\n",
       "      <td>355.000000</td>\n",
       "      <td>159.000000</td>\n",
       "      <td>277.000000</td>\n",
       "      <td>4.000000</td>\n",
       "    </tr>\n",
       "    <tr>\n",
       "      <th>75%</th>\n",
       "      <td>94.215000</td>\n",
       "      <td>4.500000</td>\n",
       "      <td>15.000000</td>\n",
       "      <td>168.500000</td>\n",
       "      <td>7.090000</td>\n",
       "      <td>17983.000000</td>\n",
       "      <td>11549.000000</td>\n",
       "      <td>16565.000000</td>\n",
       "      <td>660738.000000</td>\n",
       "      <td>0.900000</td>\n",
       "      <td>...</td>\n",
       "      <td>31.310000</td>\n",
       "      <td>1932.900000</td>\n",
       "      <td>156.000000</td>\n",
       "      <td>6.800000</td>\n",
       "      <td>1468.000000</td>\n",
       "      <td>1665.000000</td>\n",
       "      <td>390.000000</td>\n",
       "      <td>368.000000</td>\n",
       "      <td>541.000000</td>\n",
       "      <td>76.000000</td>\n",
       "    </tr>\n",
       "    <tr>\n",
       "      <th>max</th>\n",
       "      <td>99.960000</td>\n",
       "      <td>24.400000</td>\n",
       "      <td>56.000000</td>\n",
       "      <td>194.630000</td>\n",
       "      <td>11.680000</td>\n",
       "      <td>25081.000000</td>\n",
       "      <td>16983.000000</td>\n",
       "      <td>23083.000000</td>\n",
       "      <td>988476.000000</td>\n",
       "      <td>1.600000</td>\n",
       "      <td>...</td>\n",
       "      <td>76.230000</td>\n",
       "      <td>2648.000000</td>\n",
       "      <td>269.400000</td>\n",
       "      <td>241.000000</td>\n",
       "      <td>2533.000000</td>\n",
       "      <td>2578.000000</td>\n",
       "      <td>7825.000000</td>\n",
       "      <td>1616.000000</td>\n",
       "      <td>2112.000000</td>\n",
       "      <td>391.000000</td>\n",
       "    </tr>\n",
       "  </tbody>\n",
       "</table>\n",
       "<p>8 rows × 23 columns</p>\n",
       "</div>"
      ],
      "text/plain": [
       "       porcentaje_agua  presion_casing  presion_boca_pozo      carrera  \\\n",
       "count      2270.000000     2273.000000        2273.000000  2273.000000   \n",
       "mean         76.927242        2.836252          11.040255   152.085631   \n",
       "std          24.238659        4.582152           7.396871    29.968334   \n",
       "min           2.730000        0.000000           0.000000    17.250000   \n",
       "25%          66.037500        0.000000           6.000000   143.780000   \n",
       "50%          87.590000        0.100000          10.000000   167.560000   \n",
       "75%          94.215000        4.500000          15.000000   168.500000   \n",
       "max          99.960000       24.400000          56.000000   194.630000   \n",
       "\n",
       "               gpm            tv            sv           cbe           tmax  \\\n",
       "count  2273.000000   2273.000000   2273.000000   2273.000000    2273.000000   \n",
       "mean      5.665913  15125.555653   9613.488781  14959.559173  525910.671359   \n",
       "std       1.872075   3683.317522   2564.983998   3317.775167  191646.861505   \n",
       "min       1.700000   1805.000000    646.000000      0.000000       0.000000   \n",
       "25%       4.070000  12815.000000   8160.000000  13449.000000  397473.000000   \n",
       "50%       5.320000  15523.000000   9558.000000  15634.000000  550713.000000   \n",
       "75%       7.090000  17983.000000  11549.000000  16565.000000  660738.000000   \n",
       "max      11.680000  25081.000000  16983.000000  23083.000000  988476.000000   \n",
       "\n",
       "             vpmax  ...  estiramiento  profundidad_bomba       cuplas  \\\n",
       "count  2273.000000  ...   2273.000000        2273.000000  2273.000000   \n",
       "mean      0.638583  ...     24.658812        1626.684611   130.886450   \n",
       "std       0.326733  ...      9.951332         361.211442    44.208121   \n",
       "min       0.100000  ...      0.970000         134.580000     8.500000   \n",
       "25%       0.400000  ...     17.370000        1404.420000   103.700000   \n",
       "50%       0.600000  ...     23.450000        1574.660000   127.000000   \n",
       "75%       0.900000  ...     31.310000        1932.900000   156.000000   \n",
       "max       1.600000  ...     76.230000        2648.000000   269.400000   \n",
       "\n",
       "       produccion_petroleo  profundidad_gas  profundidad_niveles  \\\n",
       "count          2273.000000      2273.000000          2273.000000   \n",
       "mean              5.942895      1230.312802          1354.754070   \n",
       "std               8.279344       415.825745           386.975344   \n",
       "min             -11.400000        80.000000            82.000000   \n",
       "25%               2.200000       973.000000          1101.000000   \n",
       "50%               3.700000      1194.000000          1317.000000   \n",
       "75%               6.800000      1468.000000          1665.000000   \n",
       "max             241.000000      2533.000000          2578.000000   \n",
       "\n",
       "       velocidad_sonido  sumergencia_efectiva  presion_dinamica  \\\n",
       "count       2273.000000           2273.000000       2273.000000   \n",
       "mean         364.327761            271.737791        402.556973   \n",
       "std          277.335485            287.542077        364.172842   \n",
       "min          183.000000              1.000000         18.000000   \n",
       "25%          310.000000             65.000000        150.000000   \n",
       "50%          355.000000            159.000000        277.000000   \n",
       "75%          390.000000            368.000000        541.000000   \n",
       "max         7825.000000           1616.000000       2112.000000   \n",
       "\n",
       "       presion_interface  \n",
       "count        2273.000000  \n",
       "mean           47.991201  \n",
       "std            74.407779  \n",
       "min             0.000000  \n",
       "25%             2.000000  \n",
       "50%             4.000000  \n",
       "75%            76.000000  \n",
       "max           391.000000  \n",
       "\n",
       "[8 rows x 23 columns]"
      ]
     },
     "execution_count": 9,
     "metadata": {},
     "output_type": "execute_result"
    }
   ],
   "source": [
    "df.describe()"
   ]
  },
  {
   "cell_type": "markdown",
   "id": "95c88107",
   "metadata": {},
   "source": [
    "# Análisis de correlaciones"
   ]
  },
  {
   "cell_type": "code",
   "execution_count": 10,
   "id": "47a8afbf",
   "metadata": {
    "ExecuteTime": {
     "end_time": "2023-10-23T19:45:49.646515Z",
     "start_time": "2023-10-23T19:45:49.025454Z"
    }
   },
   "outputs": [
    {
     "data": {
      "application/vnd.plotly.v1+json": {
       "config": {
        "plotlyServerURL": "https://plot.ly"
       },
       "data": [
        {
         "coloraxis": "coloraxis",
         "hovertemplate": "x: %{x}<br>y: %{y}<br>color: %{z}<extra></extra>",
         "name": "0",
         "texttemplate": "%{z}",
         "type": "heatmap",
         "x": [
          "porcentaje_agua",
          "presion_casing",
          "presion_boca_pozo",
          "carrera",
          "gpm",
          "tv",
          "sv",
          "cbe",
          "tmax",
          "vpmax",
          "carga_max_fondo",
          "carga_min_fondo",
          "sobre_recorrido",
          "estiramiento",
          "profundidad_bomba",
          "cuplas",
          "produccion_petroleo",
          "profundidad_gas",
          "profundidad_niveles",
          "velocidad_sonido",
          "sumergencia_efectiva",
          "presion_dinamica",
          "presion_interface"
         ],
         "xaxis": "x",
         "y": [
          "porcentaje_agua",
          "presion_casing",
          "presion_boca_pozo",
          "carrera",
          "gpm",
          "tv",
          "sv",
          "cbe",
          "tmax",
          "vpmax",
          "carga_max_fondo",
          "carga_min_fondo",
          "sobre_recorrido",
          "estiramiento",
          "profundidad_bomba",
          "cuplas",
          "produccion_petroleo",
          "profundidad_gas",
          "profundidad_niveles",
          "velocidad_sonido",
          "sumergencia_efectiva",
          "presion_dinamica",
          "presion_interface"
         ],
         "yaxis": "y",
         "z": [
          [
           1,
           -0.20932870580836063,
           -0.2516630196781976,
           0.20377066027728966,
           0.485834942034018,
           -0.0235972346879482,
           0.035582791493427544,
           -0.027921573888013366,
           0.13093502115645092,
           0.4206590038447164,
           0.1606353335256245,
           -0.019506700696548814,
           0.05419759769477878,
           -0.12944873835303536,
           -0.14166255603778843,
           -0.3329065910100672,
           -0.32280026268821405,
           -0.3330783418795643,
           -0.2892047390763973,
           0.06640041782788278,
           0.2108761116650324,
           0.17243353461940092,
           -0.22597087771397542
          ],
          [
           -0.20932870580836063,
           1,
           0.23745174812969555,
           -0.055095681669973154,
           -0.2718937004085811,
           -0.08940486763300189,
           -0.053330794409348306,
           -0.028467044214613168,
           -0.13919971262203007,
           -0.24067277962224123,
           -0.22344837894608283,
           0.16466362155466566,
           0.05901653126069778,
           -0.022650764023161556,
           -0.022467239736575842,
           0.06338186521439627,
           -0.04251714355811422,
           0.06371467272749587,
           0.14883589294683824,
           -0.028469590637588357,
           -0.22865912435965938,
           -0.032739428331741156,
           0.9981847824091671
          ],
          [
           -0.2516630196781976,
           0.23745174812969555,
           1,
           -0.1189103784769457,
           -0.122622483055399,
           -9.995432562962706e-05,
           -0.10246348091322433,
           -0.062100760136815515,
           -0.01961550088549692,
           -0.11167786443241043,
           0.04758848034597961,
           -0.010060687383979876,
           -0.04885751543778401,
           0.06625682506626103,
           -0.004232879837008411,
           0.03570315771654025,
           0.12168006599624301,
           0.03541243816715516,
           0.041408601601825204,
           -0.04451663836730345,
           -0.061088625633834825,
           -0.014766235519986152,
           0.2362278429615967
          ],
          [
           0.20377066027728966,
           -0.055095681669973154,
           -0.1189103784769457,
           1,
           0.24151035974032548,
           0.5437573209117619,
           0.5397228368228767,
           0.5476346246073628,
           0.7889766028869621,
           0.6215641272351954,
           0.41158507034941816,
           -0.4853644082604469,
           0.2398321365074958,
           0.4340822798103482,
           0.5640641264876348,
           0.18608368986739315,
           0.1479396684792148,
           0.186549302350796,
           0.28436741765888895,
           0.06692120922711331,
           0.32592649314456223,
           0.3253128622813351,
           -0.05137684577892389
          ],
          [
           0.485834942034018,
           -0.2718937004085811,
           -0.122622483055399,
           0.24151035974032548,
           1,
           0.07523712812962269,
           0.16387938695850796,
           0.09704848001126733,
           0.3016124906861577,
           0.8343506083981811,
           0.33324288285984116,
           -0.3107264873194756,
           0.14348647518566648,
           -0.0028544326836886353,
           0.07699061391278433,
           -0.3705511941582753,
           0.12438670186019737,
           -0.37027639607857543,
           -0.2533205220687467,
           0.0998780624587997,
           0.43779536474281344,
           0.3940732556821188,
           -0.28687010824487036
          ],
          [
           -0.0235972346879482,
           -0.08940486763300189,
           -9.995432562962706e-05,
           0.5437573209117619,
           0.07523712812962269,
           1,
           0.795340886321725,
           0.7861312051183342,
           0.7247483595443396,
           0.400120248586469,
           0.7343928200274121,
           -0.4428818465065531,
           0.2990665718425433,
           0.8249982628789674,
           0.7551107537427592,
           0.5643112407905014,
           0.10427087199837472,
           0.5648998972461969,
           0.6568125409796727,
           0.042417731786791,
           0.06457464643515515,
           0.05165860001599645,
           -0.06954364722473647
          ],
          [
           0.035582791493427544,
           -0.053330794409348306,
           -0.10246348091322433,
           0.5397228368228767,
           0.16387938695850796,
           0.795340886321725,
           1,
           0.7681684151084821,
           0.5711528932974802,
           0.4543592879318045,
           0.41186159343084855,
           -0.27783608127372095,
           0.5839078465578447,
           0.6277507845267416,
           0.7870111811649605,
           0.39354378686839414,
           0.10781507092352811,
           0.3944560680993432,
           0.5249911459486177,
           0.0421175606834558,
           0.2820488135044357,
           0.2817626461851371,
           -0.04066005294063502
          ],
          [
           -0.027921573888013366,
           -0.028467044214613168,
           -0.062100760136815515,
           0.5476346246073628,
           0.09704848001126733,
           0.7861312051183342,
           0.7681684151084821,
           1,
           0.6886919897691628,
           0.38128502249063195,
           0.5137836680925911,
           -0.4026299181947002,
           0.3607071063148591,
           0.6492777981223529,
           0.7278510321714313,
           0.4054812904599246,
           0.11745309880020303,
           0.40618060259390604,
           0.4797464240006836,
           0.033555663995763894,
           0.2687213879591039,
           0.2716779308980354,
           -0.015855296633586865
          ],
          [
           0.13093502115645092,
           -0.13919971262203007,
           -0.01961550088549692,
           0.7889766028869621,
           0.3016124906861577,
           0.7247483595443396,
           0.5711528932974802,
           0.6886919897691628,
           1,
           0.6071443323752923,
           0.6873374388398974,
           -0.5833445293329126,
           0.1727155724223286,
           0.6254713336615719,
           0.616775706734159,
           0.28216022590131506,
           0.15048835145067455,
           0.28263653813055456,
           0.37354859990866146,
           0.06402815096758428,
           0.27209051786387756,
           0.25234116477312657,
           -0.13078688247820405
          ],
          [
           0.4206590038447164,
           -0.24067277962224123,
           -0.11167786443241043,
           0.6215641272351954,
           0.8343506083981811,
           0.400120248586469,
           0.4543592879318045,
           0.38128502249063195,
           0.6071443323752923,
           1,
           0.49130869487668827,
           -0.4891888576332393,
           0.2874307961955996,
           0.29012472964587216,
           0.39715496266728784,
           -0.1262552228473188,
           0.172671075680816,
           -0.12575854210999732,
           0.02705735831313616,
           0.10305328921383153,
           0.4625709839780119,
           0.42699121120704603,
           -0.24876540157017418
          ],
          [
           0.1606353335256245,
           -0.22344837894608283,
           0.04758848034597961,
           0.41158507034941816,
           0.33324288285984116,
           0.7343928200274121,
           0.41186159343084855,
           0.5137836680925911,
           0.6873374388398974,
           0.49130869487668827,
           1,
           -0.38192004268001123,
           -0.06748675867054274,
           0.5281442581563162,
           0.29410044055065065,
           0.23469723264833298,
           0.08297406116683274,
           0.23484452425179053,
           0.2521828816972813,
           0.05061315058436349,
           0.030026288483596245,
           -0.012241025337510848,
           -0.21259548059093664
          ],
          [
           -0.019506700696548814,
           0.16466362155466566,
           -0.010060687383979876,
           -0.4853644082604469,
           -0.3107264873194756,
           -0.4428818465065531,
           -0.27783608127372095,
           -0.4026299181947002,
           -0.5833445293329126,
           -0.4891888576332393,
           -0.38192004268001123,
           1,
           -0.09377789360139294,
           -0.45332485871029116,
           -0.5318825214588132,
           -0.17208040701032964,
           -0.19872504683982456,
           -0.17259175667384363,
           -0.2846414708646485,
           -0.05654716292202451,
           -0.2852572845142189,
           -0.2625178133802585,
           0.15944342143878293
          ],
          [
           0.05419759769477878,
           0.05901653126069778,
           -0.04885751543778401,
           0.2398321365074958,
           0.14348647518566648,
           0.2990665718425433,
           0.5839078465578447,
           0.3607071063148591,
           0.1727155724223286,
           0.2874307961955996,
           -0.06748675867054274,
           -0.09377789360139294,
           1,
           0.29304760789982665,
           0.5073121184966045,
           0.09990263097912906,
           0.03634340808872407,
           0.10041459258255957,
           0.22947223409780695,
           0.013779405904533564,
           0.3282959933913846,
           0.3494455525679183,
           0.05749402555826473
          ],
          [
           -0.12944873835303536,
           -0.022650764023161556,
           0.06625682506626103,
           0.4340822798103482,
           -0.0028544326836886353,
           0.8249982628789674,
           0.6277507845267416,
           0.6492777981223529,
           0.6254713336615719,
           0.29012472964587216,
           0.5281442581563162,
           -0.45332485871029116,
           0.29304760789982665,
           1,
           0.8474150334630384,
           0.6724994347295719,
           0.11374571582022792,
           0.6729623658398645,
           0.7773530872867711,
           0.01727545948079967,
           0.018362610221040812,
           0.018247947179640796,
           -0.0004705734257382012
          ],
          [
           -0.14166255603778843,
           -0.022467239736575842,
           -0.004232879837008411,
           0.5640641264876348,
           0.07699061391278433,
           0.7551107537427592,
           0.7870111811649605,
           0.7278510321714313,
           0.616775706734159,
           0.39715496266728784,
           0.29410044055065065,
           -0.5318825214588132,
           0.5073121184966045,
           0.8474150334630384,
           1,
           0.5555083605604593,
           0.18586470214112807,
           0.5563461815923879,
           0.7066951008045264,
           0.028282861239416927,
           0.30519224371089265,
           0.3128346317888295,
           -0.006193375774154763
          ],
          [
           -0.3329065910100672,
           0.06338186521439627,
           0.03570315771654025,
           0.18608368986739315,
           -0.3705511941582753,
           0.5643112407905014,
           0.39354378686839414,
           0.4054812904599246,
           0.28216022590131506,
           -0.1262552228473188,
           0.23469723264833298,
           -0.17208040701032964,
           0.09990263097912906,
           0.6724994347295719,
           0.5555083605604593,
           1,
           0.020326371093138024,
           0.9999821854657142,
           0.8453526561550436,
           0.0016689011003354157,
           -0.43983192050412445,
           -0.4322850004231565,
           0.10177882285632005
          ],
          [
           -0.32280026268821405,
           -0.04251714355811422,
           0.12168006599624301,
           0.1479396684792148,
           0.12438670186019737,
           0.10427087199837472,
           0.10781507092352811,
           0.11745309880020303,
           0.15048835145067455,
           0.172671075680816,
           0.08297406116683274,
           -0.19872504683982456,
           0.03634340808872407,
           0.11374571582022792,
           0.18586470214112807,
           0.020326371093138024,
           1,
           0.020538841420226068,
           0.07409140650807193,
           0.013946638615699626,
           0.13382423231443105,
           0.12963768095660455,
           -0.04345972544772536
          ],
          [
           -0.3330783418795643,
           0.06371467272749587,
           0.03541243816715516,
           0.186549302350796,
           -0.37027639607857543,
           0.5648998972461969,
           0.3944560680993432,
           0.40618060259390604,
           0.28263653813055456,
           -0.12575854210999732,
           0.23484452425179053,
           -0.17259175667384363,
           0.10041459258255957,
           0.6729623658398645,
           0.5563461815923879,
           0.9999821854657142,
           0.020538841420226068,
           1,
           0.8455674116551309,
           0.0017242295856387214,
           -0.4390681068093012,
           -0.4314232924137226,
           0.10213271683030074
          ],
          [
           -0.2892047390763973,
           0.14883589294683824,
           0.041408601601825204,
           0.28436741765888895,
           -0.2533205220687467,
           0.6568125409796727,
           0.5249911459486177,
           0.4797464240006836,
           0.37354859990866146,
           0.02705735831313616,
           0.2521828816972813,
           -0.2846414708646485,
           0.22947223409780695,
           0.7773530872867711,
           0.7066951008045264,
           0.8453526561550436,
           0.07409140650807193,
           0.8455674116551309,
           1,
           0.004229806212138534,
           -0.4580837982890172,
           -0.43633801795574906,
           0.17302369525790387
          ],
          [
           0.06640041782788278,
           -0.028469590637588357,
           -0.04451663836730345,
           0.06692120922711331,
           0.0998780624587997,
           0.042417731786791,
           0.0421175606834558,
           0.033555663995763894,
           0.06402815096758428,
           0.10305328921383153,
           0.05061315058436349,
           -0.05654716292202451,
           0.013779405904533564,
           0.01727545948079967,
           0.028282861239416927,
           0.0016689011003354157,
           0.013946638615699626,
           0.0017242295856387214,
           0.004229806212138534,
           1,
           0.029850629713346018,
           0.025055915161990086,
           -0.028650550302092265
          ],
          [
           0.2108761116650324,
           -0.22865912435965938,
           -0.061088625633834825,
           0.32592649314456223,
           0.43779536474281344,
           0.06457464643515515,
           0.2820488135044357,
           0.2687213879591039,
           0.27209051786387756,
           0.4625709839780119,
           0.030026288483596245,
           -0.2852572845142189,
           0.3282959933913846,
           0.018362610221040812,
           0.30519224371089265,
           -0.43983192050412445,
           0.13382423231443105,
           -0.4390681068093012,
           -0.4580837982890172,
           0.029850629713346018,
           1,
           0.9803119142281043,
           -0.24076482582449069
          ],
          [
           0.17243353461940092,
           -0.032739428331741156,
           -0.014766235519986152,
           0.3253128622813351,
           0.3940732556821188,
           0.05165860001599645,
           0.2817626461851371,
           0.2716779308980354,
           0.25234116477312657,
           0.42699121120704603,
           -0.012241025337510848,
           -0.2625178133802585,
           0.3494455525679183,
           0.018247947179640796,
           0.3128346317888295,
           -0.4322850004231565,
           0.12963768095660455,
           -0.4314232924137226,
           -0.43633801795574906,
           0.025055915161990086,
           0.9803119142281043,
           1,
           -0.04483990437286437
          ],
          [
           -0.22597087771397542,
           0.9981847824091671,
           0.2362278429615967,
           -0.05137684577892389,
           -0.28687010824487036,
           -0.06954364722473647,
           -0.04066005294063502,
           -0.015855296633586865,
           -0.13078688247820405,
           -0.24876540157017418,
           -0.21259548059093664,
           0.15944342143878293,
           0.05749402555826473,
           -0.0004705734257382012,
           -0.006193375774154763,
           0.10177882285632005,
           -0.04345972544772536,
           0.10213271683030074,
           0.17302369525790387,
           -0.028650550302092265,
           -0.24076482582449069,
           -0.04483990437286437,
           1
          ]
         ]
        }
       ],
       "layout": {
        "coloraxis": {
         "colorscale": [
          [
           0,
           "#0d0887"
          ],
          [
           0.1111111111111111,
           "#46039f"
          ],
          [
           0.2222222222222222,
           "#7201a8"
          ],
          [
           0.3333333333333333,
           "#9c179e"
          ],
          [
           0.4444444444444444,
           "#bd3786"
          ],
          [
           0.5555555555555556,
           "#d8576b"
          ],
          [
           0.6666666666666666,
           "#ed7953"
          ],
          [
           0.7777777777777778,
           "#fb9f3a"
          ],
          [
           0.8888888888888888,
           "#fdca26"
          ],
          [
           1,
           "#f0f921"
          ]
         ]
        },
        "margin": {
         "t": 60
        },
        "template": {
         "data": {
          "bar": [
           {
            "error_x": {
             "color": "#2a3f5f"
            },
            "error_y": {
             "color": "#2a3f5f"
            },
            "marker": {
             "line": {
              "color": "#E5ECF6",
              "width": 0.5
             },
             "pattern": {
              "fillmode": "overlay",
              "size": 10,
              "solidity": 0.2
             }
            },
            "type": "bar"
           }
          ],
          "barpolar": [
           {
            "marker": {
             "line": {
              "color": "#E5ECF6",
              "width": 0.5
             },
             "pattern": {
              "fillmode": "overlay",
              "size": 10,
              "solidity": 0.2
             }
            },
            "type": "barpolar"
           }
          ],
          "carpet": [
           {
            "aaxis": {
             "endlinecolor": "#2a3f5f",
             "gridcolor": "white",
             "linecolor": "white",
             "minorgridcolor": "white",
             "startlinecolor": "#2a3f5f"
            },
            "baxis": {
             "endlinecolor": "#2a3f5f",
             "gridcolor": "white",
             "linecolor": "white",
             "minorgridcolor": "white",
             "startlinecolor": "#2a3f5f"
            },
            "type": "carpet"
           }
          ],
          "choropleth": [
           {
            "colorbar": {
             "outlinewidth": 0,
             "ticks": ""
            },
            "type": "choropleth"
           }
          ],
          "contour": [
           {
            "colorbar": {
             "outlinewidth": 0,
             "ticks": ""
            },
            "colorscale": [
             [
              0,
              "#0d0887"
             ],
             [
              0.1111111111111111,
              "#46039f"
             ],
             [
              0.2222222222222222,
              "#7201a8"
             ],
             [
              0.3333333333333333,
              "#9c179e"
             ],
             [
              0.4444444444444444,
              "#bd3786"
             ],
             [
              0.5555555555555556,
              "#d8576b"
             ],
             [
              0.6666666666666666,
              "#ed7953"
             ],
             [
              0.7777777777777778,
              "#fb9f3a"
             ],
             [
              0.8888888888888888,
              "#fdca26"
             ],
             [
              1,
              "#f0f921"
             ]
            ],
            "type": "contour"
           }
          ],
          "contourcarpet": [
           {
            "colorbar": {
             "outlinewidth": 0,
             "ticks": ""
            },
            "type": "contourcarpet"
           }
          ],
          "heatmap": [
           {
            "colorbar": {
             "outlinewidth": 0,
             "ticks": ""
            },
            "colorscale": [
             [
              0,
              "#0d0887"
             ],
             [
              0.1111111111111111,
              "#46039f"
             ],
             [
              0.2222222222222222,
              "#7201a8"
             ],
             [
              0.3333333333333333,
              "#9c179e"
             ],
             [
              0.4444444444444444,
              "#bd3786"
             ],
             [
              0.5555555555555556,
              "#d8576b"
             ],
             [
              0.6666666666666666,
              "#ed7953"
             ],
             [
              0.7777777777777778,
              "#fb9f3a"
             ],
             [
              0.8888888888888888,
              "#fdca26"
             ],
             [
              1,
              "#f0f921"
             ]
            ],
            "type": "heatmap"
           }
          ],
          "heatmapgl": [
           {
            "colorbar": {
             "outlinewidth": 0,
             "ticks": ""
            },
            "colorscale": [
             [
              0,
              "#0d0887"
             ],
             [
              0.1111111111111111,
              "#46039f"
             ],
             [
              0.2222222222222222,
              "#7201a8"
             ],
             [
              0.3333333333333333,
              "#9c179e"
             ],
             [
              0.4444444444444444,
              "#bd3786"
             ],
             [
              0.5555555555555556,
              "#d8576b"
             ],
             [
              0.6666666666666666,
              "#ed7953"
             ],
             [
              0.7777777777777778,
              "#fb9f3a"
             ],
             [
              0.8888888888888888,
              "#fdca26"
             ],
             [
              1,
              "#f0f921"
             ]
            ],
            "type": "heatmapgl"
           }
          ],
          "histogram": [
           {
            "marker": {
             "pattern": {
              "fillmode": "overlay",
              "size": 10,
              "solidity": 0.2
             }
            },
            "type": "histogram"
           }
          ],
          "histogram2d": [
           {
            "colorbar": {
             "outlinewidth": 0,
             "ticks": ""
            },
            "colorscale": [
             [
              0,
              "#0d0887"
             ],
             [
              0.1111111111111111,
              "#46039f"
             ],
             [
              0.2222222222222222,
              "#7201a8"
             ],
             [
              0.3333333333333333,
              "#9c179e"
             ],
             [
              0.4444444444444444,
              "#bd3786"
             ],
             [
              0.5555555555555556,
              "#d8576b"
             ],
             [
              0.6666666666666666,
              "#ed7953"
             ],
             [
              0.7777777777777778,
              "#fb9f3a"
             ],
             [
              0.8888888888888888,
              "#fdca26"
             ],
             [
              1,
              "#f0f921"
             ]
            ],
            "type": "histogram2d"
           }
          ],
          "histogram2dcontour": [
           {
            "colorbar": {
             "outlinewidth": 0,
             "ticks": ""
            },
            "colorscale": [
             [
              0,
              "#0d0887"
             ],
             [
              0.1111111111111111,
              "#46039f"
             ],
             [
              0.2222222222222222,
              "#7201a8"
             ],
             [
              0.3333333333333333,
              "#9c179e"
             ],
             [
              0.4444444444444444,
              "#bd3786"
             ],
             [
              0.5555555555555556,
              "#d8576b"
             ],
             [
              0.6666666666666666,
              "#ed7953"
             ],
             [
              0.7777777777777778,
              "#fb9f3a"
             ],
             [
              0.8888888888888888,
              "#fdca26"
             ],
             [
              1,
              "#f0f921"
             ]
            ],
            "type": "histogram2dcontour"
           }
          ],
          "mesh3d": [
           {
            "colorbar": {
             "outlinewidth": 0,
             "ticks": ""
            },
            "type": "mesh3d"
           }
          ],
          "parcoords": [
           {
            "line": {
             "colorbar": {
              "outlinewidth": 0,
              "ticks": ""
             }
            },
            "type": "parcoords"
           }
          ],
          "pie": [
           {
            "automargin": true,
            "type": "pie"
           }
          ],
          "scatter": [
           {
            "fillpattern": {
             "fillmode": "overlay",
             "size": 10,
             "solidity": 0.2
            },
            "type": "scatter"
           }
          ],
          "scatter3d": [
           {
            "line": {
             "colorbar": {
              "outlinewidth": 0,
              "ticks": ""
             }
            },
            "marker": {
             "colorbar": {
              "outlinewidth": 0,
              "ticks": ""
             }
            },
            "type": "scatter3d"
           }
          ],
          "scattercarpet": [
           {
            "marker": {
             "colorbar": {
              "outlinewidth": 0,
              "ticks": ""
             }
            },
            "type": "scattercarpet"
           }
          ],
          "scattergeo": [
           {
            "marker": {
             "colorbar": {
              "outlinewidth": 0,
              "ticks": ""
             }
            },
            "type": "scattergeo"
           }
          ],
          "scattergl": [
           {
            "marker": {
             "colorbar": {
              "outlinewidth": 0,
              "ticks": ""
             }
            },
            "type": "scattergl"
           }
          ],
          "scattermapbox": [
           {
            "marker": {
             "colorbar": {
              "outlinewidth": 0,
              "ticks": ""
             }
            },
            "type": "scattermapbox"
           }
          ],
          "scatterpolar": [
           {
            "marker": {
             "colorbar": {
              "outlinewidth": 0,
              "ticks": ""
             }
            },
            "type": "scatterpolar"
           }
          ],
          "scatterpolargl": [
           {
            "marker": {
             "colorbar": {
              "outlinewidth": 0,
              "ticks": ""
             }
            },
            "type": "scatterpolargl"
           }
          ],
          "scatterternary": [
           {
            "marker": {
             "colorbar": {
              "outlinewidth": 0,
              "ticks": ""
             }
            },
            "type": "scatterternary"
           }
          ],
          "surface": [
           {
            "colorbar": {
             "outlinewidth": 0,
             "ticks": ""
            },
            "colorscale": [
             [
              0,
              "#0d0887"
             ],
             [
              0.1111111111111111,
              "#46039f"
             ],
             [
              0.2222222222222222,
              "#7201a8"
             ],
             [
              0.3333333333333333,
              "#9c179e"
             ],
             [
              0.4444444444444444,
              "#bd3786"
             ],
             [
              0.5555555555555556,
              "#d8576b"
             ],
             [
              0.6666666666666666,
              "#ed7953"
             ],
             [
              0.7777777777777778,
              "#fb9f3a"
             ],
             [
              0.8888888888888888,
              "#fdca26"
             ],
             [
              1,
              "#f0f921"
             ]
            ],
            "type": "surface"
           }
          ],
          "table": [
           {
            "cells": {
             "fill": {
              "color": "#EBF0F8"
             },
             "line": {
              "color": "white"
             }
            },
            "header": {
             "fill": {
              "color": "#C8D4E3"
             },
             "line": {
              "color": "white"
             }
            },
            "type": "table"
           }
          ]
         },
         "layout": {
          "annotationdefaults": {
           "arrowcolor": "#2a3f5f",
           "arrowhead": 0,
           "arrowwidth": 1
          },
          "autotypenumbers": "strict",
          "coloraxis": {
           "colorbar": {
            "outlinewidth": 0,
            "ticks": ""
           }
          },
          "colorscale": {
           "diverging": [
            [
             0,
             "#8e0152"
            ],
            [
             0.1,
             "#c51b7d"
            ],
            [
             0.2,
             "#de77ae"
            ],
            [
             0.3,
             "#f1b6da"
            ],
            [
             0.4,
             "#fde0ef"
            ],
            [
             0.5,
             "#f7f7f7"
            ],
            [
             0.6,
             "#e6f5d0"
            ],
            [
             0.7,
             "#b8e186"
            ],
            [
             0.8,
             "#7fbc41"
            ],
            [
             0.9,
             "#4d9221"
            ],
            [
             1,
             "#276419"
            ]
           ],
           "sequential": [
            [
             0,
             "#0d0887"
            ],
            [
             0.1111111111111111,
             "#46039f"
            ],
            [
             0.2222222222222222,
             "#7201a8"
            ],
            [
             0.3333333333333333,
             "#9c179e"
            ],
            [
             0.4444444444444444,
             "#bd3786"
            ],
            [
             0.5555555555555556,
             "#d8576b"
            ],
            [
             0.6666666666666666,
             "#ed7953"
            ],
            [
             0.7777777777777778,
             "#fb9f3a"
            ],
            [
             0.8888888888888888,
             "#fdca26"
            ],
            [
             1,
             "#f0f921"
            ]
           ],
           "sequentialminus": [
            [
             0,
             "#0d0887"
            ],
            [
             0.1111111111111111,
             "#46039f"
            ],
            [
             0.2222222222222222,
             "#7201a8"
            ],
            [
             0.3333333333333333,
             "#9c179e"
            ],
            [
             0.4444444444444444,
             "#bd3786"
            ],
            [
             0.5555555555555556,
             "#d8576b"
            ],
            [
             0.6666666666666666,
             "#ed7953"
            ],
            [
             0.7777777777777778,
             "#fb9f3a"
            ],
            [
             0.8888888888888888,
             "#fdca26"
            ],
            [
             1,
             "#f0f921"
            ]
           ]
          },
          "colorway": [
           "#636efa",
           "#EF553B",
           "#00cc96",
           "#ab63fa",
           "#FFA15A",
           "#19d3f3",
           "#FF6692",
           "#B6E880",
           "#FF97FF",
           "#FECB52"
          ],
          "font": {
           "color": "#2a3f5f"
          },
          "geo": {
           "bgcolor": "white",
           "lakecolor": "white",
           "landcolor": "#E5ECF6",
           "showlakes": true,
           "showland": true,
           "subunitcolor": "white"
          },
          "hoverlabel": {
           "align": "left"
          },
          "hovermode": "closest",
          "mapbox": {
           "style": "light"
          },
          "paper_bgcolor": "white",
          "plot_bgcolor": "#E5ECF6",
          "polar": {
           "angularaxis": {
            "gridcolor": "white",
            "linecolor": "white",
            "ticks": ""
           },
           "bgcolor": "#E5ECF6",
           "radialaxis": {
            "gridcolor": "white",
            "linecolor": "white",
            "ticks": ""
           }
          },
          "scene": {
           "xaxis": {
            "backgroundcolor": "#E5ECF6",
            "gridcolor": "white",
            "gridwidth": 2,
            "linecolor": "white",
            "showbackground": true,
            "ticks": "",
            "zerolinecolor": "white"
           },
           "yaxis": {
            "backgroundcolor": "#E5ECF6",
            "gridcolor": "white",
            "gridwidth": 2,
            "linecolor": "white",
            "showbackground": true,
            "ticks": "",
            "zerolinecolor": "white"
           },
           "zaxis": {
            "backgroundcolor": "#E5ECF6",
            "gridcolor": "white",
            "gridwidth": 2,
            "linecolor": "white",
            "showbackground": true,
            "ticks": "",
            "zerolinecolor": "white"
           }
          },
          "shapedefaults": {
           "line": {
            "color": "#2a3f5f"
           }
          },
          "ternary": {
           "aaxis": {
            "gridcolor": "white",
            "linecolor": "white",
            "ticks": ""
           },
           "baxis": {
            "gridcolor": "white",
            "linecolor": "white",
            "ticks": ""
           },
           "bgcolor": "#E5ECF6",
           "caxis": {
            "gridcolor": "white",
            "linecolor": "white",
            "ticks": ""
           }
          },
          "title": {
           "x": 0.05
          },
          "xaxis": {
           "automargin": true,
           "gridcolor": "white",
           "linecolor": "white",
           "ticks": "",
           "title": {
            "standoff": 15
           },
           "zerolinecolor": "white",
           "zerolinewidth": 2
          },
          "yaxis": {
           "automargin": true,
           "gridcolor": "white",
           "linecolor": "white",
           "ticks": "",
           "title": {
            "standoff": 15
           },
           "zerolinecolor": "white",
           "zerolinewidth": 2
          }
         }
        },
        "xaxis": {
         "anchor": "y",
         "domain": [
          0,
          1
         ]
        },
        "yaxis": {
         "anchor": "x",
         "autorange": "reversed",
         "domain": [
          0,
          1
         ]
        }
       }
      },
      "text/html": [
       "<div>                            <div id=\"1a2dc012-0bde-425a-882c-833a747ed3f4\" class=\"plotly-graph-div\" style=\"height:525px; width:100%;\"></div>            <script type=\"text/javascript\">                require([\"plotly\"], function(Plotly) {                    window.PLOTLYENV=window.PLOTLYENV || {};                                    if (document.getElementById(\"1a2dc012-0bde-425a-882c-833a747ed3f4\")) {                    Plotly.newPlot(                        \"1a2dc012-0bde-425a-882c-833a747ed3f4\",                        [{\"coloraxis\":\"coloraxis\",\"name\":\"0\",\"texttemplate\":\"%{z}\",\"x\":[\"porcentaje_agua\",\"presion_casing\",\"presion_boca_pozo\",\"carrera\",\"gpm\",\"tv\",\"sv\",\"cbe\",\"tmax\",\"vpmax\",\"carga_max_fondo\",\"carga_min_fondo\",\"sobre_recorrido\",\"estiramiento\",\"profundidad_bomba\",\"cuplas\",\"produccion_petroleo\",\"profundidad_gas\",\"profundidad_niveles\",\"velocidad_sonido\",\"sumergencia_efectiva\",\"presion_dinamica\",\"presion_interface\"],\"y\":[\"porcentaje_agua\",\"presion_casing\",\"presion_boca_pozo\",\"carrera\",\"gpm\",\"tv\",\"sv\",\"cbe\",\"tmax\",\"vpmax\",\"carga_max_fondo\",\"carga_min_fondo\",\"sobre_recorrido\",\"estiramiento\",\"profundidad_bomba\",\"cuplas\",\"produccion_petroleo\",\"profundidad_gas\",\"profundidad_niveles\",\"velocidad_sonido\",\"sumergencia_efectiva\",\"presion_dinamica\",\"presion_interface\"],\"z\":[[1.0,-0.20932870580836063,-0.2516630196781976,0.20377066027728966,0.485834942034018,-0.0235972346879482,0.035582791493427544,-0.027921573888013366,0.13093502115645092,0.4206590038447164,0.1606353335256245,-0.019506700696548814,0.05419759769477878,-0.12944873835303536,-0.14166255603778843,-0.3329065910100672,-0.32280026268821405,-0.3330783418795643,-0.2892047390763973,0.06640041782788278,0.2108761116650324,0.17243353461940092,-0.22597087771397542],[-0.20932870580836063,1.0,0.23745174812969555,-0.055095681669973154,-0.2718937004085811,-0.08940486763300189,-0.053330794409348306,-0.028467044214613168,-0.13919971262203007,-0.24067277962224123,-0.22344837894608283,0.16466362155466566,0.05901653126069778,-0.022650764023161556,-0.022467239736575842,0.06338186521439627,-0.04251714355811422,0.06371467272749587,0.14883589294683824,-0.028469590637588357,-0.22865912435965938,-0.032739428331741156,0.9981847824091671],[-0.2516630196781976,0.23745174812969555,1.0,-0.1189103784769457,-0.122622483055399,-9.995432562962706e-05,-0.10246348091322433,-0.062100760136815515,-0.01961550088549692,-0.11167786443241043,0.04758848034597961,-0.010060687383979876,-0.04885751543778401,0.06625682506626103,-0.004232879837008411,0.03570315771654025,0.12168006599624301,0.03541243816715516,0.041408601601825204,-0.04451663836730345,-0.061088625633834825,-0.014766235519986152,0.2362278429615967],[0.20377066027728966,-0.055095681669973154,-0.1189103784769457,1.0,0.24151035974032548,0.5437573209117619,0.5397228368228767,0.5476346246073628,0.7889766028869621,0.6215641272351954,0.41158507034941816,-0.4853644082604469,0.2398321365074958,0.4340822798103482,0.5640641264876348,0.18608368986739315,0.1479396684792148,0.186549302350796,0.28436741765888895,0.06692120922711331,0.32592649314456223,0.3253128622813351,-0.05137684577892389],[0.485834942034018,-0.2718937004085811,-0.122622483055399,0.24151035974032548,1.0,0.07523712812962269,0.16387938695850796,0.09704848001126733,0.3016124906861577,0.8343506083981811,0.33324288285984116,-0.3107264873194756,0.14348647518566648,-0.0028544326836886353,0.07699061391278433,-0.3705511941582753,0.12438670186019737,-0.37027639607857543,-0.2533205220687467,0.0998780624587997,0.43779536474281344,0.3940732556821188,-0.28687010824487036],[-0.0235972346879482,-0.08940486763300189,-9.995432562962706e-05,0.5437573209117619,0.07523712812962269,1.0,0.795340886321725,0.7861312051183342,0.7247483595443396,0.400120248586469,0.7343928200274121,-0.4428818465065531,0.2990665718425433,0.8249982628789674,0.7551107537427592,0.5643112407905014,0.10427087199837472,0.5648998972461969,0.6568125409796727,0.042417731786791,0.06457464643515515,0.05165860001599645,-0.06954364722473647],[0.035582791493427544,-0.053330794409348306,-0.10246348091322433,0.5397228368228767,0.16387938695850796,0.795340886321725,1.0,0.7681684151084821,0.5711528932974802,0.4543592879318045,0.41186159343084855,-0.27783608127372095,0.5839078465578447,0.6277507845267416,0.7870111811649605,0.39354378686839414,0.10781507092352811,0.3944560680993432,0.5249911459486177,0.0421175606834558,0.2820488135044357,0.2817626461851371,-0.04066005294063502],[-0.027921573888013366,-0.028467044214613168,-0.062100760136815515,0.5476346246073628,0.09704848001126733,0.7861312051183342,0.7681684151084821,1.0,0.6886919897691628,0.38128502249063195,0.5137836680925911,-0.4026299181947002,0.3607071063148591,0.6492777981223529,0.7278510321714313,0.4054812904599246,0.11745309880020303,0.40618060259390604,0.4797464240006836,0.033555663995763894,0.2687213879591039,0.2716779308980354,-0.015855296633586865],[0.13093502115645092,-0.13919971262203007,-0.01961550088549692,0.7889766028869621,0.3016124906861577,0.7247483595443396,0.5711528932974802,0.6886919897691628,1.0,0.6071443323752923,0.6873374388398974,-0.5833445293329126,0.1727155724223286,0.6254713336615719,0.616775706734159,0.28216022590131506,0.15048835145067455,0.28263653813055456,0.37354859990866146,0.06402815096758428,0.27209051786387756,0.25234116477312657,-0.13078688247820405],[0.4206590038447164,-0.24067277962224123,-0.11167786443241043,0.6215641272351954,0.8343506083981811,0.400120248586469,0.4543592879318045,0.38128502249063195,0.6071443323752923,1.0,0.49130869487668827,-0.4891888576332393,0.2874307961955996,0.29012472964587216,0.39715496266728784,-0.1262552228473188,0.172671075680816,-0.12575854210999732,0.02705735831313616,0.10305328921383153,0.4625709839780119,0.42699121120704603,-0.24876540157017418],[0.1606353335256245,-0.22344837894608283,0.04758848034597961,0.41158507034941816,0.33324288285984116,0.7343928200274121,0.41186159343084855,0.5137836680925911,0.6873374388398974,0.49130869487668827,1.0,-0.38192004268001123,-0.06748675867054274,0.5281442581563162,0.29410044055065065,0.23469723264833298,0.08297406116683274,0.23484452425179053,0.2521828816972813,0.05061315058436349,0.030026288483596245,-0.012241025337510848,-0.21259548059093664],[-0.019506700696548814,0.16466362155466566,-0.010060687383979876,-0.4853644082604469,-0.3107264873194756,-0.4428818465065531,-0.27783608127372095,-0.4026299181947002,-0.5833445293329126,-0.4891888576332393,-0.38192004268001123,1.0,-0.09377789360139294,-0.45332485871029116,-0.5318825214588132,-0.17208040701032964,-0.19872504683982456,-0.17259175667384363,-0.2846414708646485,-0.05654716292202451,-0.2852572845142189,-0.2625178133802585,0.15944342143878293],[0.05419759769477878,0.05901653126069778,-0.04885751543778401,0.2398321365074958,0.14348647518566648,0.2990665718425433,0.5839078465578447,0.3607071063148591,0.1727155724223286,0.2874307961955996,-0.06748675867054274,-0.09377789360139294,1.0,0.29304760789982665,0.5073121184966045,0.09990263097912906,0.03634340808872407,0.10041459258255957,0.22947223409780695,0.013779405904533564,0.3282959933913846,0.3494455525679183,0.05749402555826473],[-0.12944873835303536,-0.022650764023161556,0.06625682506626103,0.4340822798103482,-0.0028544326836886353,0.8249982628789674,0.6277507845267416,0.6492777981223529,0.6254713336615719,0.29012472964587216,0.5281442581563162,-0.45332485871029116,0.29304760789982665,1.0,0.8474150334630384,0.6724994347295719,0.11374571582022792,0.6729623658398645,0.7773530872867711,0.01727545948079967,0.018362610221040812,0.018247947179640796,-0.0004705734257382012],[-0.14166255603778843,-0.022467239736575842,-0.004232879837008411,0.5640641264876348,0.07699061391278433,0.7551107537427592,0.7870111811649605,0.7278510321714313,0.616775706734159,0.39715496266728784,0.29410044055065065,-0.5318825214588132,0.5073121184966045,0.8474150334630384,1.0,0.5555083605604593,0.18586470214112807,0.5563461815923879,0.7066951008045264,0.028282861239416927,0.30519224371089265,0.3128346317888295,-0.006193375774154763],[-0.3329065910100672,0.06338186521439627,0.03570315771654025,0.18608368986739315,-0.3705511941582753,0.5643112407905014,0.39354378686839414,0.4054812904599246,0.28216022590131506,-0.1262552228473188,0.23469723264833298,-0.17208040701032964,0.09990263097912906,0.6724994347295719,0.5555083605604593,1.0,0.020326371093138024,0.9999821854657142,0.8453526561550436,0.0016689011003354157,-0.43983192050412445,-0.4322850004231565,0.10177882285632005],[-0.32280026268821405,-0.04251714355811422,0.12168006599624301,0.1479396684792148,0.12438670186019737,0.10427087199837472,0.10781507092352811,0.11745309880020303,0.15048835145067455,0.172671075680816,0.08297406116683274,-0.19872504683982456,0.03634340808872407,0.11374571582022792,0.18586470214112807,0.020326371093138024,1.0,0.020538841420226068,0.07409140650807193,0.013946638615699626,0.13382423231443105,0.12963768095660455,-0.04345972544772536],[-0.3330783418795643,0.06371467272749587,0.03541243816715516,0.186549302350796,-0.37027639607857543,0.5648998972461969,0.3944560680993432,0.40618060259390604,0.28263653813055456,-0.12575854210999732,0.23484452425179053,-0.17259175667384363,0.10041459258255957,0.6729623658398645,0.5563461815923879,0.9999821854657142,0.020538841420226068,1.0,0.8455674116551309,0.0017242295856387214,-0.4390681068093012,-0.4314232924137226,0.10213271683030074],[-0.2892047390763973,0.14883589294683824,0.041408601601825204,0.28436741765888895,-0.2533205220687467,0.6568125409796727,0.5249911459486177,0.4797464240006836,0.37354859990866146,0.02705735831313616,0.2521828816972813,-0.2846414708646485,0.22947223409780695,0.7773530872867711,0.7066951008045264,0.8453526561550436,0.07409140650807193,0.8455674116551309,1.0,0.004229806212138534,-0.4580837982890172,-0.43633801795574906,0.17302369525790387],[0.06640041782788278,-0.028469590637588357,-0.04451663836730345,0.06692120922711331,0.0998780624587997,0.042417731786791,0.0421175606834558,0.033555663995763894,0.06402815096758428,0.10305328921383153,0.05061315058436349,-0.05654716292202451,0.013779405904533564,0.01727545948079967,0.028282861239416927,0.0016689011003354157,0.013946638615699626,0.0017242295856387214,0.004229806212138534,1.0,0.029850629713346018,0.025055915161990086,-0.028650550302092265],[0.2108761116650324,-0.22865912435965938,-0.061088625633834825,0.32592649314456223,0.43779536474281344,0.06457464643515515,0.2820488135044357,0.2687213879591039,0.27209051786387756,0.4625709839780119,0.030026288483596245,-0.2852572845142189,0.3282959933913846,0.018362610221040812,0.30519224371089265,-0.43983192050412445,0.13382423231443105,-0.4390681068093012,-0.4580837982890172,0.029850629713346018,1.0,0.9803119142281043,-0.24076482582449069],[0.17243353461940092,-0.032739428331741156,-0.014766235519986152,0.3253128622813351,0.3940732556821188,0.05165860001599645,0.2817626461851371,0.2716779308980354,0.25234116477312657,0.42699121120704603,-0.012241025337510848,-0.2625178133802585,0.3494455525679183,0.018247947179640796,0.3128346317888295,-0.4322850004231565,0.12963768095660455,-0.4314232924137226,-0.43633801795574906,0.025055915161990086,0.9803119142281043,1.0,-0.04483990437286437],[-0.22597087771397542,0.9981847824091671,0.2362278429615967,-0.05137684577892389,-0.28687010824487036,-0.06954364722473647,-0.04066005294063502,-0.015855296633586865,-0.13078688247820405,-0.24876540157017418,-0.21259548059093664,0.15944342143878293,0.05749402555826473,-0.0004705734257382012,-0.006193375774154763,0.10177882285632005,-0.04345972544772536,0.10213271683030074,0.17302369525790387,-0.028650550302092265,-0.24076482582449069,-0.04483990437286437,1.0]],\"type\":\"heatmap\",\"xaxis\":\"x\",\"yaxis\":\"y\",\"hovertemplate\":\"x: %{x}<br>y: %{y}<br>color: %{z}<extra></extra>\"}],                        {\"template\":{\"data\":{\"histogram2dcontour\":[{\"type\":\"histogram2dcontour\",\"colorbar\":{\"outlinewidth\":0,\"ticks\":\"\"},\"colorscale\":[[0.0,\"#0d0887\"],[0.1111111111111111,\"#46039f\"],[0.2222222222222222,\"#7201a8\"],[0.3333333333333333,\"#9c179e\"],[0.4444444444444444,\"#bd3786\"],[0.5555555555555556,\"#d8576b\"],[0.6666666666666666,\"#ed7953\"],[0.7777777777777778,\"#fb9f3a\"],[0.8888888888888888,\"#fdca26\"],[1.0,\"#f0f921\"]]}],\"choropleth\":[{\"type\":\"choropleth\",\"colorbar\":{\"outlinewidth\":0,\"ticks\":\"\"}}],\"histogram2d\":[{\"type\":\"histogram2d\",\"colorbar\":{\"outlinewidth\":0,\"ticks\":\"\"},\"colorscale\":[[0.0,\"#0d0887\"],[0.1111111111111111,\"#46039f\"],[0.2222222222222222,\"#7201a8\"],[0.3333333333333333,\"#9c179e\"],[0.4444444444444444,\"#bd3786\"],[0.5555555555555556,\"#d8576b\"],[0.6666666666666666,\"#ed7953\"],[0.7777777777777778,\"#fb9f3a\"],[0.8888888888888888,\"#fdca26\"],[1.0,\"#f0f921\"]]}],\"heatmap\":[{\"type\":\"heatmap\",\"colorbar\":{\"outlinewidth\":0,\"ticks\":\"\"},\"colorscale\":[[0.0,\"#0d0887\"],[0.1111111111111111,\"#46039f\"],[0.2222222222222222,\"#7201a8\"],[0.3333333333333333,\"#9c179e\"],[0.4444444444444444,\"#bd3786\"],[0.5555555555555556,\"#d8576b\"],[0.6666666666666666,\"#ed7953\"],[0.7777777777777778,\"#fb9f3a\"],[0.8888888888888888,\"#fdca26\"],[1.0,\"#f0f921\"]]}],\"heatmapgl\":[{\"type\":\"heatmapgl\",\"colorbar\":{\"outlinewidth\":0,\"ticks\":\"\"},\"colorscale\":[[0.0,\"#0d0887\"],[0.1111111111111111,\"#46039f\"],[0.2222222222222222,\"#7201a8\"],[0.3333333333333333,\"#9c179e\"],[0.4444444444444444,\"#bd3786\"],[0.5555555555555556,\"#d8576b\"],[0.6666666666666666,\"#ed7953\"],[0.7777777777777778,\"#fb9f3a\"],[0.8888888888888888,\"#fdca26\"],[1.0,\"#f0f921\"]]}],\"contourcarpet\":[{\"type\":\"contourcarpet\",\"colorbar\":{\"outlinewidth\":0,\"ticks\":\"\"}}],\"contour\":[{\"type\":\"contour\",\"colorbar\":{\"outlinewidth\":0,\"ticks\":\"\"},\"colorscale\":[[0.0,\"#0d0887\"],[0.1111111111111111,\"#46039f\"],[0.2222222222222222,\"#7201a8\"],[0.3333333333333333,\"#9c179e\"],[0.4444444444444444,\"#bd3786\"],[0.5555555555555556,\"#d8576b\"],[0.6666666666666666,\"#ed7953\"],[0.7777777777777778,\"#fb9f3a\"],[0.8888888888888888,\"#fdca26\"],[1.0,\"#f0f921\"]]}],\"surface\":[{\"type\":\"surface\",\"colorbar\":{\"outlinewidth\":0,\"ticks\":\"\"},\"colorscale\":[[0.0,\"#0d0887\"],[0.1111111111111111,\"#46039f\"],[0.2222222222222222,\"#7201a8\"],[0.3333333333333333,\"#9c179e\"],[0.4444444444444444,\"#bd3786\"],[0.5555555555555556,\"#d8576b\"],[0.6666666666666666,\"#ed7953\"],[0.7777777777777778,\"#fb9f3a\"],[0.8888888888888888,\"#fdca26\"],[1.0,\"#f0f921\"]]}],\"mesh3d\":[{\"type\":\"mesh3d\",\"colorbar\":{\"outlinewidth\":0,\"ticks\":\"\"}}],\"scatter\":[{\"fillpattern\":{\"fillmode\":\"overlay\",\"size\":10,\"solidity\":0.2},\"type\":\"scatter\"}],\"parcoords\":[{\"type\":\"parcoords\",\"line\":{\"colorbar\":{\"outlinewidth\":0,\"ticks\":\"\"}}}],\"scatterpolargl\":[{\"type\":\"scatterpolargl\",\"marker\":{\"colorbar\":{\"outlinewidth\":0,\"ticks\":\"\"}}}],\"bar\":[{\"error_x\":{\"color\":\"#2a3f5f\"},\"error_y\":{\"color\":\"#2a3f5f\"},\"marker\":{\"line\":{\"color\":\"#E5ECF6\",\"width\":0.5},\"pattern\":{\"fillmode\":\"overlay\",\"size\":10,\"solidity\":0.2}},\"type\":\"bar\"}],\"scattergeo\":[{\"type\":\"scattergeo\",\"marker\":{\"colorbar\":{\"outlinewidth\":0,\"ticks\":\"\"}}}],\"scatterpolar\":[{\"type\":\"scatterpolar\",\"marker\":{\"colorbar\":{\"outlinewidth\":0,\"ticks\":\"\"}}}],\"histogram\":[{\"marker\":{\"pattern\":{\"fillmode\":\"overlay\",\"size\":10,\"solidity\":0.2}},\"type\":\"histogram\"}],\"scattergl\":[{\"type\":\"scattergl\",\"marker\":{\"colorbar\":{\"outlinewidth\":0,\"ticks\":\"\"}}}],\"scatter3d\":[{\"type\":\"scatter3d\",\"line\":{\"colorbar\":{\"outlinewidth\":0,\"ticks\":\"\"}},\"marker\":{\"colorbar\":{\"outlinewidth\":0,\"ticks\":\"\"}}}],\"scattermapbox\":[{\"type\":\"scattermapbox\",\"marker\":{\"colorbar\":{\"outlinewidth\":0,\"ticks\":\"\"}}}],\"scatterternary\":[{\"type\":\"scatterternary\",\"marker\":{\"colorbar\":{\"outlinewidth\":0,\"ticks\":\"\"}}}],\"scattercarpet\":[{\"type\":\"scattercarpet\",\"marker\":{\"colorbar\":{\"outlinewidth\":0,\"ticks\":\"\"}}}],\"carpet\":[{\"aaxis\":{\"endlinecolor\":\"#2a3f5f\",\"gridcolor\":\"white\",\"linecolor\":\"white\",\"minorgridcolor\":\"white\",\"startlinecolor\":\"#2a3f5f\"},\"baxis\":{\"endlinecolor\":\"#2a3f5f\",\"gridcolor\":\"white\",\"linecolor\":\"white\",\"minorgridcolor\":\"white\",\"startlinecolor\":\"#2a3f5f\"},\"type\":\"carpet\"}],\"table\":[{\"cells\":{\"fill\":{\"color\":\"#EBF0F8\"},\"line\":{\"color\":\"white\"}},\"header\":{\"fill\":{\"color\":\"#C8D4E3\"},\"line\":{\"color\":\"white\"}},\"type\":\"table\"}],\"barpolar\":[{\"marker\":{\"line\":{\"color\":\"#E5ECF6\",\"width\":0.5},\"pattern\":{\"fillmode\":\"overlay\",\"size\":10,\"solidity\":0.2}},\"type\":\"barpolar\"}],\"pie\":[{\"automargin\":true,\"type\":\"pie\"}]},\"layout\":{\"autotypenumbers\":\"strict\",\"colorway\":[\"#636efa\",\"#EF553B\",\"#00cc96\",\"#ab63fa\",\"#FFA15A\",\"#19d3f3\",\"#FF6692\",\"#B6E880\",\"#FF97FF\",\"#FECB52\"],\"font\":{\"color\":\"#2a3f5f\"},\"hovermode\":\"closest\",\"hoverlabel\":{\"align\":\"left\"},\"paper_bgcolor\":\"white\",\"plot_bgcolor\":\"#E5ECF6\",\"polar\":{\"bgcolor\":\"#E5ECF6\",\"angularaxis\":{\"gridcolor\":\"white\",\"linecolor\":\"white\",\"ticks\":\"\"},\"radialaxis\":{\"gridcolor\":\"white\",\"linecolor\":\"white\",\"ticks\":\"\"}},\"ternary\":{\"bgcolor\":\"#E5ECF6\",\"aaxis\":{\"gridcolor\":\"white\",\"linecolor\":\"white\",\"ticks\":\"\"},\"baxis\":{\"gridcolor\":\"white\",\"linecolor\":\"white\",\"ticks\":\"\"},\"caxis\":{\"gridcolor\":\"white\",\"linecolor\":\"white\",\"ticks\":\"\"}},\"coloraxis\":{\"colorbar\":{\"outlinewidth\":0,\"ticks\":\"\"}},\"colorscale\":{\"sequential\":[[0.0,\"#0d0887\"],[0.1111111111111111,\"#46039f\"],[0.2222222222222222,\"#7201a8\"],[0.3333333333333333,\"#9c179e\"],[0.4444444444444444,\"#bd3786\"],[0.5555555555555556,\"#d8576b\"],[0.6666666666666666,\"#ed7953\"],[0.7777777777777778,\"#fb9f3a\"],[0.8888888888888888,\"#fdca26\"],[1.0,\"#f0f921\"]],\"sequentialminus\":[[0.0,\"#0d0887\"],[0.1111111111111111,\"#46039f\"],[0.2222222222222222,\"#7201a8\"],[0.3333333333333333,\"#9c179e\"],[0.4444444444444444,\"#bd3786\"],[0.5555555555555556,\"#d8576b\"],[0.6666666666666666,\"#ed7953\"],[0.7777777777777778,\"#fb9f3a\"],[0.8888888888888888,\"#fdca26\"],[1.0,\"#f0f921\"]],\"diverging\":[[0,\"#8e0152\"],[0.1,\"#c51b7d\"],[0.2,\"#de77ae\"],[0.3,\"#f1b6da\"],[0.4,\"#fde0ef\"],[0.5,\"#f7f7f7\"],[0.6,\"#e6f5d0\"],[0.7,\"#b8e186\"],[0.8,\"#7fbc41\"],[0.9,\"#4d9221\"],[1,\"#276419\"]]},\"xaxis\":{\"gridcolor\":\"white\",\"linecolor\":\"white\",\"ticks\":\"\",\"title\":{\"standoff\":15},\"zerolinecolor\":\"white\",\"automargin\":true,\"zerolinewidth\":2},\"yaxis\":{\"gridcolor\":\"white\",\"linecolor\":\"white\",\"ticks\":\"\",\"title\":{\"standoff\":15},\"zerolinecolor\":\"white\",\"automargin\":true,\"zerolinewidth\":2},\"scene\":{\"xaxis\":{\"backgroundcolor\":\"#E5ECF6\",\"gridcolor\":\"white\",\"linecolor\":\"white\",\"showbackground\":true,\"ticks\":\"\",\"zerolinecolor\":\"white\",\"gridwidth\":2},\"yaxis\":{\"backgroundcolor\":\"#E5ECF6\",\"gridcolor\":\"white\",\"linecolor\":\"white\",\"showbackground\":true,\"ticks\":\"\",\"zerolinecolor\":\"white\",\"gridwidth\":2},\"zaxis\":{\"backgroundcolor\":\"#E5ECF6\",\"gridcolor\":\"white\",\"linecolor\":\"white\",\"showbackground\":true,\"ticks\":\"\",\"zerolinecolor\":\"white\",\"gridwidth\":2}},\"shapedefaults\":{\"line\":{\"color\":\"#2a3f5f\"}},\"annotationdefaults\":{\"arrowcolor\":\"#2a3f5f\",\"arrowhead\":0,\"arrowwidth\":1},\"geo\":{\"bgcolor\":\"white\",\"landcolor\":\"#E5ECF6\",\"subunitcolor\":\"white\",\"showland\":true,\"showlakes\":true,\"lakecolor\":\"white\"},\"title\":{\"x\":0.05},\"mapbox\":{\"style\":\"light\"}}},\"xaxis\":{\"anchor\":\"y\",\"domain\":[0.0,1.0]},\"yaxis\":{\"anchor\":\"x\",\"domain\":[0.0,1.0],\"autorange\":\"reversed\"},\"coloraxis\":{\"colorscale\":[[0.0,\"#0d0887\"],[0.1111111111111111,\"#46039f\"],[0.2222222222222222,\"#7201a8\"],[0.3333333333333333,\"#9c179e\"],[0.4444444444444444,\"#bd3786\"],[0.5555555555555556,\"#d8576b\"],[0.6666666666666666,\"#ed7953\"],[0.7777777777777778,\"#fb9f3a\"],[0.8888888888888888,\"#fdca26\"],[1.0,\"#f0f921\"]]},\"margin\":{\"t\":60}},                        {\"responsive\": true}                    ).then(function(){\n",
       "                            \n",
       "var gd = document.getElementById('1a2dc012-0bde-425a-882c-833a747ed3f4');\n",
       "var x = new MutationObserver(function (mutations, observer) {{\n",
       "        var display = window.getComputedStyle(gd).display;\n",
       "        if (!display || display === 'none') {{\n",
       "            console.log([gd, 'removed!']);\n",
       "            Plotly.purge(gd);\n",
       "            observer.disconnect();\n",
       "        }}\n",
       "}});\n",
       "\n",
       "// Listen for the removal of the full notebook cells\n",
       "var notebookContainer = gd.closest('#notebook-container');\n",
       "if (notebookContainer) {{\n",
       "    x.observe(notebookContainer, {childList: true});\n",
       "}}\n",
       "\n",
       "// Listen for the clearing of the current output cell\n",
       "var outputEl = gd.closest('.output');\n",
       "if (outputEl) {{\n",
       "    x.observe(outputEl, {childList: true});\n",
       "}}\n",
       "\n",
       "                        })                };                });            </script>        </div>"
      ]
     },
     "metadata": {},
     "output_type": "display_data"
    }
   ],
   "source": [
    "col_types = df.dtypes\n",
    "\n",
    "numeric_cols = []\n",
    "for i, v in zip(col_types.index, col_types.values):\n",
    "    if v != 'object' and v != 'datetime64[ns]':\n",
    "        numeric_cols.append(i)\n",
    "\n",
    "fig = px.imshow(df[numeric_cols].corr(), text_auto=True, aspect=\"auto\")\n",
    "fig.show()"
   ]
  },
  {
   "cell_type": "code",
   "execution_count": 11,
   "id": "ae8537a5",
   "metadata": {
    "ExecuteTime": {
     "end_time": "2023-10-23T19:45:49.658046Z",
     "start_time": "2023-10-23T19:45:49.648478Z"
    }
   },
   "outputs": [],
   "source": [
    "def plot_well_behaviour(well_id, df):\n",
    "    _df = df[df.pozo == well_id]\n",
    "    \n",
    "    # Create figure with secondary y-axis\n",
    "    fig = make_subplots(specs=[[{\"secondary_y\": True}]])\n",
    "\n",
    "    # Add traces\n",
    "    fig.add_trace(\n",
    "        go.Scatter(x=_df.fecha, y=_df.profundidad_gas, name=\"Profundidad gas\"),\n",
    "        secondary_y=False,\n",
    "    )\n",
    "\n",
    "    fig.add_trace(\n",
    "        go.Scatter(x=_df.fecha, y=_df.profundidad_niveles, name=\"Profundidad niveles\"),\n",
    "        secondary_y=False,\n",
    "    )\n",
    "\n",
    "    fig.add_trace(\n",
    "        go.Scatter(x=_df.fecha, y=_df.profundidad_bomba, name=\"Profundidad bomba\"),\n",
    "        secondary_y=False,\n",
    "    )\n",
    "\n",
    "    fig.add_trace(\n",
    "        go.Scatter(x=_df.fecha, y=_df.velocidad_sonido, name=\"Velocidad del sonido\"),\n",
    "        secondary_y=True,\n",
    "    )\n",
    "\n",
    "    # Add figure title\n",
    "    fig.update_layout(\n",
    "        title_text=\"Análisis de la evolución de diferentes variables del pozo \" + well_id\n",
    "    )\n",
    "\n",
    "    # Set x-axis title\n",
    "    fig.update_xaxes(title_text=\"Fecha\")\n",
    "\n",
    "    # Set y-axes titles\n",
    "    fig.update_yaxes(title_text=\"Profundidad\", secondary_y=False)\n",
    "    fig.update_yaxes(title_text=\"Velocidad\", secondary_y=True)\n",
    "\n",
    "    fig.show()\n",
    "    \n",
    "    # Create figure with secondary y-axis\n",
    "    fig = make_subplots(specs=[[{\"secondary_y\": True}]])\n",
    "\n",
    "    fig.add_trace(\n",
    "        go.Scatter(x=_df.fecha, y=_df.profundidad_bomba, name=\"Profundidad bomba\"),\n",
    "        secondary_y=False,\n",
    "    )\n",
    "\n",
    "    fig.add_trace(\n",
    "        go.Scatter(x=_df.fecha, y=_df.produccion_petroleo, name=\"Producción petroleo\"),\n",
    "        secondary_y=True,\n",
    "    )\n",
    "\n",
    "    # Set x-axis title\n",
    "    fig.update_xaxes(title_text=\"Fecha\")\n",
    "\n",
    "    # Set y-axes titles\n",
    "    fig.update_yaxes(title_text=\"Profundidad\", secondary_y=False)\n",
    "    fig.update_yaxes(title_text=\"Producción\", secondary_y=True)\n",
    "\n",
    "    fig.show()\n",
    "    \n",
    "    \n",
    "    # Create figure with secondary y-axis\n",
    "    fig = make_subplots(specs=[[{\"secondary_y\": True}]])\n",
    "\n",
    "    fig.add_trace(\n",
    "        go.Scatter(x=_df.fecha, y=_df.presion_dinamica, name=\"Presión dinámica\"),\n",
    "        secondary_y=False,\n",
    "    )\n",
    "    \n",
    "    fig.add_trace(\n",
    "        go.Scatter(x=_df.fecha, y=_df.presion_interface, name=\"Presión interface\"),\n",
    "        secondary_y=False,\n",
    "    )\n",
    "\n",
    "    fig.add_trace(\n",
    "        go.Scatter(x=_df.fecha, y=_df.velocidad_sonido, name=\"Velocidad del sonido\"),\n",
    "        secondary_y=True,\n",
    "    )\n",
    "\n",
    "    # Set x-axis title\n",
    "    fig.update_xaxes(title_text=\"Fecha\")\n",
    "\n",
    "    # Set y-axes titles\n",
    "    fig.update_yaxes(title_text=\"Presión\", secondary_y=False)\n",
    "    fig.update_yaxes(title_text=\"Velocidad\", secondary_y=True)\n",
    "\n",
    "    fig.show()"
   ]
  },
  {
   "cell_type": "code",
   "execution_count": 12,
   "id": "2bf6850d",
   "metadata": {
    "ExecuteTime": {
     "end_time": "2023-10-23T19:45:49.748315Z",
     "start_time": "2023-10-23T19:45:49.660190Z"
    }
   },
   "outputs": [
    {
     "data": {
      "application/vnd.plotly.v1+json": {
       "config": {
        "plotlyServerURL": "https://plot.ly"
       },
       "data": [
        {
         "name": "Profundidad gas",
         "type": "scatter",
         "x": [
          "2021-03-23T00:00:00",
          "2021-06-08T00:00:00",
          "2021-07-07T00:00:00",
          "2021-08-04T00:00:00",
          "2021-09-07T00:00:00",
          "2021-09-23T00:00:00",
          "2021-10-06T00:00:00",
          "2022-02-10T00:00:00",
          "2022-03-08T00:00:00",
          "2022-04-08T00:00:00",
          "2022-05-12T00:00:00",
          "2022-06-07T00:00:00",
          "2022-07-13T00:00:00",
          "2022-08-09T00:00:00",
          "2022-08-23T00:00:00",
          "2022-09-08T00:00:00",
          "2022-10-12T00:00:00",
          "2022-11-08T00:00:00",
          "2022-12-16T00:00:00",
          "2023-01-13T00:00:00",
          "2023-04-18T00:00:00"
         ],
         "xaxis": "x",
         "y": [
          1006,
          726,
          692,
          697,
          715,
          741,
          750,
          836,
          849,
          868,
          860,
          896,
          923,
          847,
          869,
          883,
          899,
          929,
          935,
          972,
          955
         ],
         "yaxis": "y"
        },
        {
         "name": "Profundidad niveles",
         "type": "scatter",
         "x": [
          "2021-03-23T00:00:00",
          "2021-06-08T00:00:00",
          "2021-07-07T00:00:00",
          "2021-08-04T00:00:00",
          "2021-09-07T00:00:00",
          "2021-09-23T00:00:00",
          "2021-10-06T00:00:00",
          "2022-02-10T00:00:00",
          "2022-03-08T00:00:00",
          "2022-04-08T00:00:00",
          "2022-05-12T00:00:00",
          "2022-06-07T00:00:00",
          "2022-07-13T00:00:00",
          "2022-08-09T00:00:00",
          "2022-08-23T00:00:00",
          "2022-09-08T00:00:00",
          "2022-10-12T00:00:00",
          "2022-11-08T00:00:00",
          "2022-12-16T00:00:00",
          "2023-01-13T00:00:00",
          "2023-04-18T00:00:00"
         ],
         "xaxis": "x",
         "y": [
          1933,
          726,
          691,
          871,
          715,
          948,
          910,
          954,
          966,
          1070,
          1278,
          1308,
          1183,
          846,
          868,
          882,
          899,
          929,
          935,
          1250,
          955
         ],
         "yaxis": "y"
        },
        {
         "name": "Profundidad bomba",
         "type": "scatter",
         "x": [
          "2021-03-23T00:00:00",
          "2021-06-08T00:00:00",
          "2021-07-07T00:00:00",
          "2021-08-04T00:00:00",
          "2021-09-07T00:00:00",
          "2021-09-23T00:00:00",
          "2021-10-06T00:00:00",
          "2022-02-10T00:00:00",
          "2022-03-08T00:00:00",
          "2022-04-08T00:00:00",
          "2022-05-12T00:00:00",
          "2022-06-07T00:00:00",
          "2022-07-13T00:00:00",
          "2022-08-09T00:00:00",
          "2022-08-23T00:00:00",
          "2022-09-08T00:00:00",
          "2022-10-12T00:00:00",
          "2022-11-08T00:00:00",
          "2022-12-16T00:00:00",
          "2023-01-13T00:00:00",
          "2023-04-18T00:00:00"
         ],
         "xaxis": "x",
         "y": [
          2231.04,
          1509,
          1509.75,
          1500.34,
          1500.34,
          1500.34,
          1500.34,
          1500.34,
          1505.7,
          1505.7,
          1505.7,
          1505.7,
          1505.7,
          1505.7,
          1505.7,
          1505.7,
          1505.7,
          1505.7,
          1505.7,
          1505.07,
          1505.07
         ],
         "yaxis": "y"
        },
        {
         "name": "Velocidad del sonido",
         "type": "scatter",
         "x": [
          "2021-03-23T00:00:00",
          "2021-06-08T00:00:00",
          "2021-07-07T00:00:00",
          "2021-08-04T00:00:00",
          "2021-09-07T00:00:00",
          "2021-09-23T00:00:00",
          "2021-10-06T00:00:00",
          "2022-02-10T00:00:00",
          "2022-03-08T00:00:00",
          "2022-04-08T00:00:00",
          "2022-05-12T00:00:00",
          "2022-06-07T00:00:00",
          "2022-07-13T00:00:00",
          "2022-08-09T00:00:00",
          "2022-08-23T00:00:00",
          "2022-09-08T00:00:00",
          "2022-10-12T00:00:00",
          "2022-11-08T00:00:00",
          "2022-12-16T00:00:00",
          "2023-01-13T00:00:00",
          "2023-04-18T00:00:00"
         ],
         "xaxis": "x",
         "y": [
          372,
          340,
          373,
          399,
          393,
          397,
          401,
          399,
          389,
          386,
          377,
          387,
          376,
          386,
          393,
          396,
          392,
          390,
          378,
          365,
          374
         ],
         "yaxis": "y2"
        }
       ],
       "layout": {
        "template": {
         "data": {
          "bar": [
           {
            "error_x": {
             "color": "#2a3f5f"
            },
            "error_y": {
             "color": "#2a3f5f"
            },
            "marker": {
             "line": {
              "color": "#E5ECF6",
              "width": 0.5
             },
             "pattern": {
              "fillmode": "overlay",
              "size": 10,
              "solidity": 0.2
             }
            },
            "type": "bar"
           }
          ],
          "barpolar": [
           {
            "marker": {
             "line": {
              "color": "#E5ECF6",
              "width": 0.5
             },
             "pattern": {
              "fillmode": "overlay",
              "size": 10,
              "solidity": 0.2
             }
            },
            "type": "barpolar"
           }
          ],
          "carpet": [
           {
            "aaxis": {
             "endlinecolor": "#2a3f5f",
             "gridcolor": "white",
             "linecolor": "white",
             "minorgridcolor": "white",
             "startlinecolor": "#2a3f5f"
            },
            "baxis": {
             "endlinecolor": "#2a3f5f",
             "gridcolor": "white",
             "linecolor": "white",
             "minorgridcolor": "white",
             "startlinecolor": "#2a3f5f"
            },
            "type": "carpet"
           }
          ],
          "choropleth": [
           {
            "colorbar": {
             "outlinewidth": 0,
             "ticks": ""
            },
            "type": "choropleth"
           }
          ],
          "contour": [
           {
            "colorbar": {
             "outlinewidth": 0,
             "ticks": ""
            },
            "colorscale": [
             [
              0,
              "#0d0887"
             ],
             [
              0.1111111111111111,
              "#46039f"
             ],
             [
              0.2222222222222222,
              "#7201a8"
             ],
             [
              0.3333333333333333,
              "#9c179e"
             ],
             [
              0.4444444444444444,
              "#bd3786"
             ],
             [
              0.5555555555555556,
              "#d8576b"
             ],
             [
              0.6666666666666666,
              "#ed7953"
             ],
             [
              0.7777777777777778,
              "#fb9f3a"
             ],
             [
              0.8888888888888888,
              "#fdca26"
             ],
             [
              1,
              "#f0f921"
             ]
            ],
            "type": "contour"
           }
          ],
          "contourcarpet": [
           {
            "colorbar": {
             "outlinewidth": 0,
             "ticks": ""
            },
            "type": "contourcarpet"
           }
          ],
          "heatmap": [
           {
            "colorbar": {
             "outlinewidth": 0,
             "ticks": ""
            },
            "colorscale": [
             [
              0,
              "#0d0887"
             ],
             [
              0.1111111111111111,
              "#46039f"
             ],
             [
              0.2222222222222222,
              "#7201a8"
             ],
             [
              0.3333333333333333,
              "#9c179e"
             ],
             [
              0.4444444444444444,
              "#bd3786"
             ],
             [
              0.5555555555555556,
              "#d8576b"
             ],
             [
              0.6666666666666666,
              "#ed7953"
             ],
             [
              0.7777777777777778,
              "#fb9f3a"
             ],
             [
              0.8888888888888888,
              "#fdca26"
             ],
             [
              1,
              "#f0f921"
             ]
            ],
            "type": "heatmap"
           }
          ],
          "heatmapgl": [
           {
            "colorbar": {
             "outlinewidth": 0,
             "ticks": ""
            },
            "colorscale": [
             [
              0,
              "#0d0887"
             ],
             [
              0.1111111111111111,
              "#46039f"
             ],
             [
              0.2222222222222222,
              "#7201a8"
             ],
             [
              0.3333333333333333,
              "#9c179e"
             ],
             [
              0.4444444444444444,
              "#bd3786"
             ],
             [
              0.5555555555555556,
              "#d8576b"
             ],
             [
              0.6666666666666666,
              "#ed7953"
             ],
             [
              0.7777777777777778,
              "#fb9f3a"
             ],
             [
              0.8888888888888888,
              "#fdca26"
             ],
             [
              1,
              "#f0f921"
             ]
            ],
            "type": "heatmapgl"
           }
          ],
          "histogram": [
           {
            "marker": {
             "pattern": {
              "fillmode": "overlay",
              "size": 10,
              "solidity": 0.2
             }
            },
            "type": "histogram"
           }
          ],
          "histogram2d": [
           {
            "colorbar": {
             "outlinewidth": 0,
             "ticks": ""
            },
            "colorscale": [
             [
              0,
              "#0d0887"
             ],
             [
              0.1111111111111111,
              "#46039f"
             ],
             [
              0.2222222222222222,
              "#7201a8"
             ],
             [
              0.3333333333333333,
              "#9c179e"
             ],
             [
              0.4444444444444444,
              "#bd3786"
             ],
             [
              0.5555555555555556,
              "#d8576b"
             ],
             [
              0.6666666666666666,
              "#ed7953"
             ],
             [
              0.7777777777777778,
              "#fb9f3a"
             ],
             [
              0.8888888888888888,
              "#fdca26"
             ],
             [
              1,
              "#f0f921"
             ]
            ],
            "type": "histogram2d"
           }
          ],
          "histogram2dcontour": [
           {
            "colorbar": {
             "outlinewidth": 0,
             "ticks": ""
            },
            "colorscale": [
             [
              0,
              "#0d0887"
             ],
             [
              0.1111111111111111,
              "#46039f"
             ],
             [
              0.2222222222222222,
              "#7201a8"
             ],
             [
              0.3333333333333333,
              "#9c179e"
             ],
             [
              0.4444444444444444,
              "#bd3786"
             ],
             [
              0.5555555555555556,
              "#d8576b"
             ],
             [
              0.6666666666666666,
              "#ed7953"
             ],
             [
              0.7777777777777778,
              "#fb9f3a"
             ],
             [
              0.8888888888888888,
              "#fdca26"
             ],
             [
              1,
              "#f0f921"
             ]
            ],
            "type": "histogram2dcontour"
           }
          ],
          "mesh3d": [
           {
            "colorbar": {
             "outlinewidth": 0,
             "ticks": ""
            },
            "type": "mesh3d"
           }
          ],
          "parcoords": [
           {
            "line": {
             "colorbar": {
              "outlinewidth": 0,
              "ticks": ""
             }
            },
            "type": "parcoords"
           }
          ],
          "pie": [
           {
            "automargin": true,
            "type": "pie"
           }
          ],
          "scatter": [
           {
            "fillpattern": {
             "fillmode": "overlay",
             "size": 10,
             "solidity": 0.2
            },
            "type": "scatter"
           }
          ],
          "scatter3d": [
           {
            "line": {
             "colorbar": {
              "outlinewidth": 0,
              "ticks": ""
             }
            },
            "marker": {
             "colorbar": {
              "outlinewidth": 0,
              "ticks": ""
             }
            },
            "type": "scatter3d"
           }
          ],
          "scattercarpet": [
           {
            "marker": {
             "colorbar": {
              "outlinewidth": 0,
              "ticks": ""
             }
            },
            "type": "scattercarpet"
           }
          ],
          "scattergeo": [
           {
            "marker": {
             "colorbar": {
              "outlinewidth": 0,
              "ticks": ""
             }
            },
            "type": "scattergeo"
           }
          ],
          "scattergl": [
           {
            "marker": {
             "colorbar": {
              "outlinewidth": 0,
              "ticks": ""
             }
            },
            "type": "scattergl"
           }
          ],
          "scattermapbox": [
           {
            "marker": {
             "colorbar": {
              "outlinewidth": 0,
              "ticks": ""
             }
            },
            "type": "scattermapbox"
           }
          ],
          "scatterpolar": [
           {
            "marker": {
             "colorbar": {
              "outlinewidth": 0,
              "ticks": ""
             }
            },
            "type": "scatterpolar"
           }
          ],
          "scatterpolargl": [
           {
            "marker": {
             "colorbar": {
              "outlinewidth": 0,
              "ticks": ""
             }
            },
            "type": "scatterpolargl"
           }
          ],
          "scatterternary": [
           {
            "marker": {
             "colorbar": {
              "outlinewidth": 0,
              "ticks": ""
             }
            },
            "type": "scatterternary"
           }
          ],
          "surface": [
           {
            "colorbar": {
             "outlinewidth": 0,
             "ticks": ""
            },
            "colorscale": [
             [
              0,
              "#0d0887"
             ],
             [
              0.1111111111111111,
              "#46039f"
             ],
             [
              0.2222222222222222,
              "#7201a8"
             ],
             [
              0.3333333333333333,
              "#9c179e"
             ],
             [
              0.4444444444444444,
              "#bd3786"
             ],
             [
              0.5555555555555556,
              "#d8576b"
             ],
             [
              0.6666666666666666,
              "#ed7953"
             ],
             [
              0.7777777777777778,
              "#fb9f3a"
             ],
             [
              0.8888888888888888,
              "#fdca26"
             ],
             [
              1,
              "#f0f921"
             ]
            ],
            "type": "surface"
           }
          ],
          "table": [
           {
            "cells": {
             "fill": {
              "color": "#EBF0F8"
             },
             "line": {
              "color": "white"
             }
            },
            "header": {
             "fill": {
              "color": "#C8D4E3"
             },
             "line": {
              "color": "white"
             }
            },
            "type": "table"
           }
          ]
         },
         "layout": {
          "annotationdefaults": {
           "arrowcolor": "#2a3f5f",
           "arrowhead": 0,
           "arrowwidth": 1
          },
          "autotypenumbers": "strict",
          "coloraxis": {
           "colorbar": {
            "outlinewidth": 0,
            "ticks": ""
           }
          },
          "colorscale": {
           "diverging": [
            [
             0,
             "#8e0152"
            ],
            [
             0.1,
             "#c51b7d"
            ],
            [
             0.2,
             "#de77ae"
            ],
            [
             0.3,
             "#f1b6da"
            ],
            [
             0.4,
             "#fde0ef"
            ],
            [
             0.5,
             "#f7f7f7"
            ],
            [
             0.6,
             "#e6f5d0"
            ],
            [
             0.7,
             "#b8e186"
            ],
            [
             0.8,
             "#7fbc41"
            ],
            [
             0.9,
             "#4d9221"
            ],
            [
             1,
             "#276419"
            ]
           ],
           "sequential": [
            [
             0,
             "#0d0887"
            ],
            [
             0.1111111111111111,
             "#46039f"
            ],
            [
             0.2222222222222222,
             "#7201a8"
            ],
            [
             0.3333333333333333,
             "#9c179e"
            ],
            [
             0.4444444444444444,
             "#bd3786"
            ],
            [
             0.5555555555555556,
             "#d8576b"
            ],
            [
             0.6666666666666666,
             "#ed7953"
            ],
            [
             0.7777777777777778,
             "#fb9f3a"
            ],
            [
             0.8888888888888888,
             "#fdca26"
            ],
            [
             1,
             "#f0f921"
            ]
           ],
           "sequentialminus": [
            [
             0,
             "#0d0887"
            ],
            [
             0.1111111111111111,
             "#46039f"
            ],
            [
             0.2222222222222222,
             "#7201a8"
            ],
            [
             0.3333333333333333,
             "#9c179e"
            ],
            [
             0.4444444444444444,
             "#bd3786"
            ],
            [
             0.5555555555555556,
             "#d8576b"
            ],
            [
             0.6666666666666666,
             "#ed7953"
            ],
            [
             0.7777777777777778,
             "#fb9f3a"
            ],
            [
             0.8888888888888888,
             "#fdca26"
            ],
            [
             1,
             "#f0f921"
            ]
           ]
          },
          "colorway": [
           "#636efa",
           "#EF553B",
           "#00cc96",
           "#ab63fa",
           "#FFA15A",
           "#19d3f3",
           "#FF6692",
           "#B6E880",
           "#FF97FF",
           "#FECB52"
          ],
          "font": {
           "color": "#2a3f5f"
          },
          "geo": {
           "bgcolor": "white",
           "lakecolor": "white",
           "landcolor": "#E5ECF6",
           "showlakes": true,
           "showland": true,
           "subunitcolor": "white"
          },
          "hoverlabel": {
           "align": "left"
          },
          "hovermode": "closest",
          "mapbox": {
           "style": "light"
          },
          "paper_bgcolor": "white",
          "plot_bgcolor": "#E5ECF6",
          "polar": {
           "angularaxis": {
            "gridcolor": "white",
            "linecolor": "white",
            "ticks": ""
           },
           "bgcolor": "#E5ECF6",
           "radialaxis": {
            "gridcolor": "white",
            "linecolor": "white",
            "ticks": ""
           }
          },
          "scene": {
           "xaxis": {
            "backgroundcolor": "#E5ECF6",
            "gridcolor": "white",
            "gridwidth": 2,
            "linecolor": "white",
            "showbackground": true,
            "ticks": "",
            "zerolinecolor": "white"
           },
           "yaxis": {
            "backgroundcolor": "#E5ECF6",
            "gridcolor": "white",
            "gridwidth": 2,
            "linecolor": "white",
            "showbackground": true,
            "ticks": "",
            "zerolinecolor": "white"
           },
           "zaxis": {
            "backgroundcolor": "#E5ECF6",
            "gridcolor": "white",
            "gridwidth": 2,
            "linecolor": "white",
            "showbackground": true,
            "ticks": "",
            "zerolinecolor": "white"
           }
          },
          "shapedefaults": {
           "line": {
            "color": "#2a3f5f"
           }
          },
          "ternary": {
           "aaxis": {
            "gridcolor": "white",
            "linecolor": "white",
            "ticks": ""
           },
           "baxis": {
            "gridcolor": "white",
            "linecolor": "white",
            "ticks": ""
           },
           "bgcolor": "#E5ECF6",
           "caxis": {
            "gridcolor": "white",
            "linecolor": "white",
            "ticks": ""
           }
          },
          "title": {
           "x": 0.05
          },
          "xaxis": {
           "automargin": true,
           "gridcolor": "white",
           "linecolor": "white",
           "ticks": "",
           "title": {
            "standoff": 15
           },
           "zerolinecolor": "white",
           "zerolinewidth": 2
          },
          "yaxis": {
           "automargin": true,
           "gridcolor": "white",
           "linecolor": "white",
           "ticks": "",
           "title": {
            "standoff": 15
           },
           "zerolinecolor": "white",
           "zerolinewidth": 2
          }
         }
        },
        "title": {
         "text": "Análisis de la evolución de diferentes variables del pozo F 275"
        },
        "xaxis": {
         "anchor": "y",
         "domain": [
          0,
          0.94
         ],
         "title": {
          "text": "Fecha"
         }
        },
        "yaxis": {
         "anchor": "x",
         "domain": [
          0,
          1
         ],
         "title": {
          "text": "Profundidad"
         }
        },
        "yaxis2": {
         "anchor": "x",
         "overlaying": "y",
         "side": "right",
         "title": {
          "text": "Velocidad"
         }
        }
       }
      },
      "text/html": [
       "<div>                            <div id=\"4d55a575-713e-49c6-9af4-59eeb943efbb\" class=\"plotly-graph-div\" style=\"height:525px; width:100%;\"></div>            <script type=\"text/javascript\">                require([\"plotly\"], function(Plotly) {                    window.PLOTLYENV=window.PLOTLYENV || {};                                    if (document.getElementById(\"4d55a575-713e-49c6-9af4-59eeb943efbb\")) {                    Plotly.newPlot(                        \"4d55a575-713e-49c6-9af4-59eeb943efbb\",                        [{\"name\":\"Profundidad gas\",\"x\":[\"2021-03-23T00:00:00\",\"2021-06-08T00:00:00\",\"2021-07-07T00:00:00\",\"2021-08-04T00:00:00\",\"2021-09-07T00:00:00\",\"2021-09-23T00:00:00\",\"2021-10-06T00:00:00\",\"2022-02-10T00:00:00\",\"2022-03-08T00:00:00\",\"2022-04-08T00:00:00\",\"2022-05-12T00:00:00\",\"2022-06-07T00:00:00\",\"2022-07-13T00:00:00\",\"2022-08-09T00:00:00\",\"2022-08-23T00:00:00\",\"2022-09-08T00:00:00\",\"2022-10-12T00:00:00\",\"2022-11-08T00:00:00\",\"2022-12-16T00:00:00\",\"2023-01-13T00:00:00\",\"2023-04-18T00:00:00\"],\"y\":[1006,726,692,697,715,741,750,836,849,868,860,896,923,847,869,883,899,929,935,972,955],\"type\":\"scatter\",\"xaxis\":\"x\",\"yaxis\":\"y\"},{\"name\":\"Profundidad niveles\",\"x\":[\"2021-03-23T00:00:00\",\"2021-06-08T00:00:00\",\"2021-07-07T00:00:00\",\"2021-08-04T00:00:00\",\"2021-09-07T00:00:00\",\"2021-09-23T00:00:00\",\"2021-10-06T00:00:00\",\"2022-02-10T00:00:00\",\"2022-03-08T00:00:00\",\"2022-04-08T00:00:00\",\"2022-05-12T00:00:00\",\"2022-06-07T00:00:00\",\"2022-07-13T00:00:00\",\"2022-08-09T00:00:00\",\"2022-08-23T00:00:00\",\"2022-09-08T00:00:00\",\"2022-10-12T00:00:00\",\"2022-11-08T00:00:00\",\"2022-12-16T00:00:00\",\"2023-01-13T00:00:00\",\"2023-04-18T00:00:00\"],\"y\":[1933,726,691,871,715,948,910,954,966,1070,1278,1308,1183,846,868,882,899,929,935,1250,955],\"type\":\"scatter\",\"xaxis\":\"x\",\"yaxis\":\"y\"},{\"name\":\"Profundidad bomba\",\"x\":[\"2021-03-23T00:00:00\",\"2021-06-08T00:00:00\",\"2021-07-07T00:00:00\",\"2021-08-04T00:00:00\",\"2021-09-07T00:00:00\",\"2021-09-23T00:00:00\",\"2021-10-06T00:00:00\",\"2022-02-10T00:00:00\",\"2022-03-08T00:00:00\",\"2022-04-08T00:00:00\",\"2022-05-12T00:00:00\",\"2022-06-07T00:00:00\",\"2022-07-13T00:00:00\",\"2022-08-09T00:00:00\",\"2022-08-23T00:00:00\",\"2022-09-08T00:00:00\",\"2022-10-12T00:00:00\",\"2022-11-08T00:00:00\",\"2022-12-16T00:00:00\",\"2023-01-13T00:00:00\",\"2023-04-18T00:00:00\"],\"y\":[2231.04,1509.0,1509.75,1500.34,1500.34,1500.34,1500.34,1500.34,1505.7,1505.7,1505.7,1505.7,1505.7,1505.7,1505.7,1505.7,1505.7,1505.7,1505.7,1505.07,1505.07],\"type\":\"scatter\",\"xaxis\":\"x\",\"yaxis\":\"y\"},{\"name\":\"Velocidad del sonido\",\"x\":[\"2021-03-23T00:00:00\",\"2021-06-08T00:00:00\",\"2021-07-07T00:00:00\",\"2021-08-04T00:00:00\",\"2021-09-07T00:00:00\",\"2021-09-23T00:00:00\",\"2021-10-06T00:00:00\",\"2022-02-10T00:00:00\",\"2022-03-08T00:00:00\",\"2022-04-08T00:00:00\",\"2022-05-12T00:00:00\",\"2022-06-07T00:00:00\",\"2022-07-13T00:00:00\",\"2022-08-09T00:00:00\",\"2022-08-23T00:00:00\",\"2022-09-08T00:00:00\",\"2022-10-12T00:00:00\",\"2022-11-08T00:00:00\",\"2022-12-16T00:00:00\",\"2023-01-13T00:00:00\",\"2023-04-18T00:00:00\"],\"y\":[372,340,373,399,393,397,401,399,389,386,377,387,376,386,393,396,392,390,378,365,374],\"type\":\"scatter\",\"xaxis\":\"x\",\"yaxis\":\"y2\"}],                        {\"template\":{\"data\":{\"histogram2dcontour\":[{\"type\":\"histogram2dcontour\",\"colorbar\":{\"outlinewidth\":0,\"ticks\":\"\"},\"colorscale\":[[0.0,\"#0d0887\"],[0.1111111111111111,\"#46039f\"],[0.2222222222222222,\"#7201a8\"],[0.3333333333333333,\"#9c179e\"],[0.4444444444444444,\"#bd3786\"],[0.5555555555555556,\"#d8576b\"],[0.6666666666666666,\"#ed7953\"],[0.7777777777777778,\"#fb9f3a\"],[0.8888888888888888,\"#fdca26\"],[1.0,\"#f0f921\"]]}],\"choropleth\":[{\"type\":\"choropleth\",\"colorbar\":{\"outlinewidth\":0,\"ticks\":\"\"}}],\"histogram2d\":[{\"type\":\"histogram2d\",\"colorbar\":{\"outlinewidth\":0,\"ticks\":\"\"},\"colorscale\":[[0.0,\"#0d0887\"],[0.1111111111111111,\"#46039f\"],[0.2222222222222222,\"#7201a8\"],[0.3333333333333333,\"#9c179e\"],[0.4444444444444444,\"#bd3786\"],[0.5555555555555556,\"#d8576b\"],[0.6666666666666666,\"#ed7953\"],[0.7777777777777778,\"#fb9f3a\"],[0.8888888888888888,\"#fdca26\"],[1.0,\"#f0f921\"]]}],\"heatmap\":[{\"type\":\"heatmap\",\"colorbar\":{\"outlinewidth\":0,\"ticks\":\"\"},\"colorscale\":[[0.0,\"#0d0887\"],[0.1111111111111111,\"#46039f\"],[0.2222222222222222,\"#7201a8\"],[0.3333333333333333,\"#9c179e\"],[0.4444444444444444,\"#bd3786\"],[0.5555555555555556,\"#d8576b\"],[0.6666666666666666,\"#ed7953\"],[0.7777777777777778,\"#fb9f3a\"],[0.8888888888888888,\"#fdca26\"],[1.0,\"#f0f921\"]]}],\"heatmapgl\":[{\"type\":\"heatmapgl\",\"colorbar\":{\"outlinewidth\":0,\"ticks\":\"\"},\"colorscale\":[[0.0,\"#0d0887\"],[0.1111111111111111,\"#46039f\"],[0.2222222222222222,\"#7201a8\"],[0.3333333333333333,\"#9c179e\"],[0.4444444444444444,\"#bd3786\"],[0.5555555555555556,\"#d8576b\"],[0.6666666666666666,\"#ed7953\"],[0.7777777777777778,\"#fb9f3a\"],[0.8888888888888888,\"#fdca26\"],[1.0,\"#f0f921\"]]}],\"contourcarpet\":[{\"type\":\"contourcarpet\",\"colorbar\":{\"outlinewidth\":0,\"ticks\":\"\"}}],\"contour\":[{\"type\":\"contour\",\"colorbar\":{\"outlinewidth\":0,\"ticks\":\"\"},\"colorscale\":[[0.0,\"#0d0887\"],[0.1111111111111111,\"#46039f\"],[0.2222222222222222,\"#7201a8\"],[0.3333333333333333,\"#9c179e\"],[0.4444444444444444,\"#bd3786\"],[0.5555555555555556,\"#d8576b\"],[0.6666666666666666,\"#ed7953\"],[0.7777777777777778,\"#fb9f3a\"],[0.8888888888888888,\"#fdca26\"],[1.0,\"#f0f921\"]]}],\"surface\":[{\"type\":\"surface\",\"colorbar\":{\"outlinewidth\":0,\"ticks\":\"\"},\"colorscale\":[[0.0,\"#0d0887\"],[0.1111111111111111,\"#46039f\"],[0.2222222222222222,\"#7201a8\"],[0.3333333333333333,\"#9c179e\"],[0.4444444444444444,\"#bd3786\"],[0.5555555555555556,\"#d8576b\"],[0.6666666666666666,\"#ed7953\"],[0.7777777777777778,\"#fb9f3a\"],[0.8888888888888888,\"#fdca26\"],[1.0,\"#f0f921\"]]}],\"mesh3d\":[{\"type\":\"mesh3d\",\"colorbar\":{\"outlinewidth\":0,\"ticks\":\"\"}}],\"scatter\":[{\"fillpattern\":{\"fillmode\":\"overlay\",\"size\":10,\"solidity\":0.2},\"type\":\"scatter\"}],\"parcoords\":[{\"type\":\"parcoords\",\"line\":{\"colorbar\":{\"outlinewidth\":0,\"ticks\":\"\"}}}],\"scatterpolargl\":[{\"type\":\"scatterpolargl\",\"marker\":{\"colorbar\":{\"outlinewidth\":0,\"ticks\":\"\"}}}],\"bar\":[{\"error_x\":{\"color\":\"#2a3f5f\"},\"error_y\":{\"color\":\"#2a3f5f\"},\"marker\":{\"line\":{\"color\":\"#E5ECF6\",\"width\":0.5},\"pattern\":{\"fillmode\":\"overlay\",\"size\":10,\"solidity\":0.2}},\"type\":\"bar\"}],\"scattergeo\":[{\"type\":\"scattergeo\",\"marker\":{\"colorbar\":{\"outlinewidth\":0,\"ticks\":\"\"}}}],\"scatterpolar\":[{\"type\":\"scatterpolar\",\"marker\":{\"colorbar\":{\"outlinewidth\":0,\"ticks\":\"\"}}}],\"histogram\":[{\"marker\":{\"pattern\":{\"fillmode\":\"overlay\",\"size\":10,\"solidity\":0.2}},\"type\":\"histogram\"}],\"scattergl\":[{\"type\":\"scattergl\",\"marker\":{\"colorbar\":{\"outlinewidth\":0,\"ticks\":\"\"}}}],\"scatter3d\":[{\"type\":\"scatter3d\",\"line\":{\"colorbar\":{\"outlinewidth\":0,\"ticks\":\"\"}},\"marker\":{\"colorbar\":{\"outlinewidth\":0,\"ticks\":\"\"}}}],\"scattermapbox\":[{\"type\":\"scattermapbox\",\"marker\":{\"colorbar\":{\"outlinewidth\":0,\"ticks\":\"\"}}}],\"scatterternary\":[{\"type\":\"scatterternary\",\"marker\":{\"colorbar\":{\"outlinewidth\":0,\"ticks\":\"\"}}}],\"scattercarpet\":[{\"type\":\"scattercarpet\",\"marker\":{\"colorbar\":{\"outlinewidth\":0,\"ticks\":\"\"}}}],\"carpet\":[{\"aaxis\":{\"endlinecolor\":\"#2a3f5f\",\"gridcolor\":\"white\",\"linecolor\":\"white\",\"minorgridcolor\":\"white\",\"startlinecolor\":\"#2a3f5f\"},\"baxis\":{\"endlinecolor\":\"#2a3f5f\",\"gridcolor\":\"white\",\"linecolor\":\"white\",\"minorgridcolor\":\"white\",\"startlinecolor\":\"#2a3f5f\"},\"type\":\"carpet\"}],\"table\":[{\"cells\":{\"fill\":{\"color\":\"#EBF0F8\"},\"line\":{\"color\":\"white\"}},\"header\":{\"fill\":{\"color\":\"#C8D4E3\"},\"line\":{\"color\":\"white\"}},\"type\":\"table\"}],\"barpolar\":[{\"marker\":{\"line\":{\"color\":\"#E5ECF6\",\"width\":0.5},\"pattern\":{\"fillmode\":\"overlay\",\"size\":10,\"solidity\":0.2}},\"type\":\"barpolar\"}],\"pie\":[{\"automargin\":true,\"type\":\"pie\"}]},\"layout\":{\"autotypenumbers\":\"strict\",\"colorway\":[\"#636efa\",\"#EF553B\",\"#00cc96\",\"#ab63fa\",\"#FFA15A\",\"#19d3f3\",\"#FF6692\",\"#B6E880\",\"#FF97FF\",\"#FECB52\"],\"font\":{\"color\":\"#2a3f5f\"},\"hovermode\":\"closest\",\"hoverlabel\":{\"align\":\"left\"},\"paper_bgcolor\":\"white\",\"plot_bgcolor\":\"#E5ECF6\",\"polar\":{\"bgcolor\":\"#E5ECF6\",\"angularaxis\":{\"gridcolor\":\"white\",\"linecolor\":\"white\",\"ticks\":\"\"},\"radialaxis\":{\"gridcolor\":\"white\",\"linecolor\":\"white\",\"ticks\":\"\"}},\"ternary\":{\"bgcolor\":\"#E5ECF6\",\"aaxis\":{\"gridcolor\":\"white\",\"linecolor\":\"white\",\"ticks\":\"\"},\"baxis\":{\"gridcolor\":\"white\",\"linecolor\":\"white\",\"ticks\":\"\"},\"caxis\":{\"gridcolor\":\"white\",\"linecolor\":\"white\",\"ticks\":\"\"}},\"coloraxis\":{\"colorbar\":{\"outlinewidth\":0,\"ticks\":\"\"}},\"colorscale\":{\"sequential\":[[0.0,\"#0d0887\"],[0.1111111111111111,\"#46039f\"],[0.2222222222222222,\"#7201a8\"],[0.3333333333333333,\"#9c179e\"],[0.4444444444444444,\"#bd3786\"],[0.5555555555555556,\"#d8576b\"],[0.6666666666666666,\"#ed7953\"],[0.7777777777777778,\"#fb9f3a\"],[0.8888888888888888,\"#fdca26\"],[1.0,\"#f0f921\"]],\"sequentialminus\":[[0.0,\"#0d0887\"],[0.1111111111111111,\"#46039f\"],[0.2222222222222222,\"#7201a8\"],[0.3333333333333333,\"#9c179e\"],[0.4444444444444444,\"#bd3786\"],[0.5555555555555556,\"#d8576b\"],[0.6666666666666666,\"#ed7953\"],[0.7777777777777778,\"#fb9f3a\"],[0.8888888888888888,\"#fdca26\"],[1.0,\"#f0f921\"]],\"diverging\":[[0,\"#8e0152\"],[0.1,\"#c51b7d\"],[0.2,\"#de77ae\"],[0.3,\"#f1b6da\"],[0.4,\"#fde0ef\"],[0.5,\"#f7f7f7\"],[0.6,\"#e6f5d0\"],[0.7,\"#b8e186\"],[0.8,\"#7fbc41\"],[0.9,\"#4d9221\"],[1,\"#276419\"]]},\"xaxis\":{\"gridcolor\":\"white\",\"linecolor\":\"white\",\"ticks\":\"\",\"title\":{\"standoff\":15},\"zerolinecolor\":\"white\",\"automargin\":true,\"zerolinewidth\":2},\"yaxis\":{\"gridcolor\":\"white\",\"linecolor\":\"white\",\"ticks\":\"\",\"title\":{\"standoff\":15},\"zerolinecolor\":\"white\",\"automargin\":true,\"zerolinewidth\":2},\"scene\":{\"xaxis\":{\"backgroundcolor\":\"#E5ECF6\",\"gridcolor\":\"white\",\"linecolor\":\"white\",\"showbackground\":true,\"ticks\":\"\",\"zerolinecolor\":\"white\",\"gridwidth\":2},\"yaxis\":{\"backgroundcolor\":\"#E5ECF6\",\"gridcolor\":\"white\",\"linecolor\":\"white\",\"showbackground\":true,\"ticks\":\"\",\"zerolinecolor\":\"white\",\"gridwidth\":2},\"zaxis\":{\"backgroundcolor\":\"#E5ECF6\",\"gridcolor\":\"white\",\"linecolor\":\"white\",\"showbackground\":true,\"ticks\":\"\",\"zerolinecolor\":\"white\",\"gridwidth\":2}},\"shapedefaults\":{\"line\":{\"color\":\"#2a3f5f\"}},\"annotationdefaults\":{\"arrowcolor\":\"#2a3f5f\",\"arrowhead\":0,\"arrowwidth\":1},\"geo\":{\"bgcolor\":\"white\",\"landcolor\":\"#E5ECF6\",\"subunitcolor\":\"white\",\"showland\":true,\"showlakes\":true,\"lakecolor\":\"white\"},\"title\":{\"x\":0.05},\"mapbox\":{\"style\":\"light\"}}},\"xaxis\":{\"anchor\":\"y\",\"domain\":[0.0,0.94],\"title\":{\"text\":\"Fecha\"}},\"yaxis\":{\"anchor\":\"x\",\"domain\":[0.0,1.0],\"title\":{\"text\":\"Profundidad\"}},\"yaxis2\":{\"anchor\":\"x\",\"overlaying\":\"y\",\"side\":\"right\",\"title\":{\"text\":\"Velocidad\"}},\"title\":{\"text\":\"An\\u00e1lisis de la evoluci\\u00f3n de diferentes variables del pozo F 275\"}},                        {\"responsive\": true}                    ).then(function(){\n",
       "                            \n",
       "var gd = document.getElementById('4d55a575-713e-49c6-9af4-59eeb943efbb');\n",
       "var x = new MutationObserver(function (mutations, observer) {{\n",
       "        var display = window.getComputedStyle(gd).display;\n",
       "        if (!display || display === 'none') {{\n",
       "            console.log([gd, 'removed!']);\n",
       "            Plotly.purge(gd);\n",
       "            observer.disconnect();\n",
       "        }}\n",
       "}});\n",
       "\n",
       "// Listen for the removal of the full notebook cells\n",
       "var notebookContainer = gd.closest('#notebook-container');\n",
       "if (notebookContainer) {{\n",
       "    x.observe(notebookContainer, {childList: true});\n",
       "}}\n",
       "\n",
       "// Listen for the clearing of the current output cell\n",
       "var outputEl = gd.closest('.output');\n",
       "if (outputEl) {{\n",
       "    x.observe(outputEl, {childList: true});\n",
       "}}\n",
       "\n",
       "                        })                };                });            </script>        </div>"
      ]
     },
     "metadata": {},
     "output_type": "display_data"
    },
    {
     "data": {
      "application/vnd.plotly.v1+json": {
       "config": {
        "plotlyServerURL": "https://plot.ly"
       },
       "data": [
        {
         "name": "Profundidad bomba",
         "type": "scatter",
         "x": [
          "2021-03-23T00:00:00",
          "2021-06-08T00:00:00",
          "2021-07-07T00:00:00",
          "2021-08-04T00:00:00",
          "2021-09-07T00:00:00",
          "2021-09-23T00:00:00",
          "2021-10-06T00:00:00",
          "2022-02-10T00:00:00",
          "2022-03-08T00:00:00",
          "2022-04-08T00:00:00",
          "2022-05-12T00:00:00",
          "2022-06-07T00:00:00",
          "2022-07-13T00:00:00",
          "2022-08-09T00:00:00",
          "2022-08-23T00:00:00",
          "2022-09-08T00:00:00",
          "2022-10-12T00:00:00",
          "2022-11-08T00:00:00",
          "2022-12-16T00:00:00",
          "2023-01-13T00:00:00",
          "2023-04-18T00:00:00"
         ],
         "xaxis": "x",
         "y": [
          2231.04,
          1509,
          1509.75,
          1500.34,
          1500.34,
          1500.34,
          1500.34,
          1500.34,
          1505.7,
          1505.7,
          1505.7,
          1505.7,
          1505.7,
          1505.7,
          1505.7,
          1505.7,
          1505.7,
          1505.7,
          1505.7,
          1505.07,
          1505.07
         ],
         "yaxis": "y"
        },
        {
         "name": "Producción petroleo",
         "type": "scatter",
         "x": [
          "2021-03-23T00:00:00",
          "2021-06-08T00:00:00",
          "2021-07-07T00:00:00",
          "2021-08-04T00:00:00",
          "2021-09-07T00:00:00",
          "2021-09-23T00:00:00",
          "2021-10-06T00:00:00",
          "2022-02-10T00:00:00",
          "2022-03-08T00:00:00",
          "2022-04-08T00:00:00",
          "2022-05-12T00:00:00",
          "2022-06-07T00:00:00",
          "2022-07-13T00:00:00",
          "2022-08-09T00:00:00",
          "2022-08-23T00:00:00",
          "2022-09-08T00:00:00",
          "2022-10-12T00:00:00",
          "2022-11-08T00:00:00",
          "2022-12-16T00:00:00",
          "2023-01-13T00:00:00",
          "2023-04-18T00:00:00"
         ],
         "xaxis": "x",
         "y": [
          16.3,
          2.6,
          2.6,
          0.1,
          3.3,
          3.3,
          3.8,
          5,
          3.4,
          4.9,
          5.1,
          5.1,
          3,
          4.6,
          4.6,
          2.5,
          5,
          2.4,
          2.4,
          3.2,
          0.3
         ],
         "yaxis": "y2"
        }
       ],
       "layout": {
        "template": {
         "data": {
          "bar": [
           {
            "error_x": {
             "color": "#2a3f5f"
            },
            "error_y": {
             "color": "#2a3f5f"
            },
            "marker": {
             "line": {
              "color": "#E5ECF6",
              "width": 0.5
             },
             "pattern": {
              "fillmode": "overlay",
              "size": 10,
              "solidity": 0.2
             }
            },
            "type": "bar"
           }
          ],
          "barpolar": [
           {
            "marker": {
             "line": {
              "color": "#E5ECF6",
              "width": 0.5
             },
             "pattern": {
              "fillmode": "overlay",
              "size": 10,
              "solidity": 0.2
             }
            },
            "type": "barpolar"
           }
          ],
          "carpet": [
           {
            "aaxis": {
             "endlinecolor": "#2a3f5f",
             "gridcolor": "white",
             "linecolor": "white",
             "minorgridcolor": "white",
             "startlinecolor": "#2a3f5f"
            },
            "baxis": {
             "endlinecolor": "#2a3f5f",
             "gridcolor": "white",
             "linecolor": "white",
             "minorgridcolor": "white",
             "startlinecolor": "#2a3f5f"
            },
            "type": "carpet"
           }
          ],
          "choropleth": [
           {
            "colorbar": {
             "outlinewidth": 0,
             "ticks": ""
            },
            "type": "choropleth"
           }
          ],
          "contour": [
           {
            "colorbar": {
             "outlinewidth": 0,
             "ticks": ""
            },
            "colorscale": [
             [
              0,
              "#0d0887"
             ],
             [
              0.1111111111111111,
              "#46039f"
             ],
             [
              0.2222222222222222,
              "#7201a8"
             ],
             [
              0.3333333333333333,
              "#9c179e"
             ],
             [
              0.4444444444444444,
              "#bd3786"
             ],
             [
              0.5555555555555556,
              "#d8576b"
             ],
             [
              0.6666666666666666,
              "#ed7953"
             ],
             [
              0.7777777777777778,
              "#fb9f3a"
             ],
             [
              0.8888888888888888,
              "#fdca26"
             ],
             [
              1,
              "#f0f921"
             ]
            ],
            "type": "contour"
           }
          ],
          "contourcarpet": [
           {
            "colorbar": {
             "outlinewidth": 0,
             "ticks": ""
            },
            "type": "contourcarpet"
           }
          ],
          "heatmap": [
           {
            "colorbar": {
             "outlinewidth": 0,
             "ticks": ""
            },
            "colorscale": [
             [
              0,
              "#0d0887"
             ],
             [
              0.1111111111111111,
              "#46039f"
             ],
             [
              0.2222222222222222,
              "#7201a8"
             ],
             [
              0.3333333333333333,
              "#9c179e"
             ],
             [
              0.4444444444444444,
              "#bd3786"
             ],
             [
              0.5555555555555556,
              "#d8576b"
             ],
             [
              0.6666666666666666,
              "#ed7953"
             ],
             [
              0.7777777777777778,
              "#fb9f3a"
             ],
             [
              0.8888888888888888,
              "#fdca26"
             ],
             [
              1,
              "#f0f921"
             ]
            ],
            "type": "heatmap"
           }
          ],
          "heatmapgl": [
           {
            "colorbar": {
             "outlinewidth": 0,
             "ticks": ""
            },
            "colorscale": [
             [
              0,
              "#0d0887"
             ],
             [
              0.1111111111111111,
              "#46039f"
             ],
             [
              0.2222222222222222,
              "#7201a8"
             ],
             [
              0.3333333333333333,
              "#9c179e"
             ],
             [
              0.4444444444444444,
              "#bd3786"
             ],
             [
              0.5555555555555556,
              "#d8576b"
             ],
             [
              0.6666666666666666,
              "#ed7953"
             ],
             [
              0.7777777777777778,
              "#fb9f3a"
             ],
             [
              0.8888888888888888,
              "#fdca26"
             ],
             [
              1,
              "#f0f921"
             ]
            ],
            "type": "heatmapgl"
           }
          ],
          "histogram": [
           {
            "marker": {
             "pattern": {
              "fillmode": "overlay",
              "size": 10,
              "solidity": 0.2
             }
            },
            "type": "histogram"
           }
          ],
          "histogram2d": [
           {
            "colorbar": {
             "outlinewidth": 0,
             "ticks": ""
            },
            "colorscale": [
             [
              0,
              "#0d0887"
             ],
             [
              0.1111111111111111,
              "#46039f"
             ],
             [
              0.2222222222222222,
              "#7201a8"
             ],
             [
              0.3333333333333333,
              "#9c179e"
             ],
             [
              0.4444444444444444,
              "#bd3786"
             ],
             [
              0.5555555555555556,
              "#d8576b"
             ],
             [
              0.6666666666666666,
              "#ed7953"
             ],
             [
              0.7777777777777778,
              "#fb9f3a"
             ],
             [
              0.8888888888888888,
              "#fdca26"
             ],
             [
              1,
              "#f0f921"
             ]
            ],
            "type": "histogram2d"
           }
          ],
          "histogram2dcontour": [
           {
            "colorbar": {
             "outlinewidth": 0,
             "ticks": ""
            },
            "colorscale": [
             [
              0,
              "#0d0887"
             ],
             [
              0.1111111111111111,
              "#46039f"
             ],
             [
              0.2222222222222222,
              "#7201a8"
             ],
             [
              0.3333333333333333,
              "#9c179e"
             ],
             [
              0.4444444444444444,
              "#bd3786"
             ],
             [
              0.5555555555555556,
              "#d8576b"
             ],
             [
              0.6666666666666666,
              "#ed7953"
             ],
             [
              0.7777777777777778,
              "#fb9f3a"
             ],
             [
              0.8888888888888888,
              "#fdca26"
             ],
             [
              1,
              "#f0f921"
             ]
            ],
            "type": "histogram2dcontour"
           }
          ],
          "mesh3d": [
           {
            "colorbar": {
             "outlinewidth": 0,
             "ticks": ""
            },
            "type": "mesh3d"
           }
          ],
          "parcoords": [
           {
            "line": {
             "colorbar": {
              "outlinewidth": 0,
              "ticks": ""
             }
            },
            "type": "parcoords"
           }
          ],
          "pie": [
           {
            "automargin": true,
            "type": "pie"
           }
          ],
          "scatter": [
           {
            "fillpattern": {
             "fillmode": "overlay",
             "size": 10,
             "solidity": 0.2
            },
            "type": "scatter"
           }
          ],
          "scatter3d": [
           {
            "line": {
             "colorbar": {
              "outlinewidth": 0,
              "ticks": ""
             }
            },
            "marker": {
             "colorbar": {
              "outlinewidth": 0,
              "ticks": ""
             }
            },
            "type": "scatter3d"
           }
          ],
          "scattercarpet": [
           {
            "marker": {
             "colorbar": {
              "outlinewidth": 0,
              "ticks": ""
             }
            },
            "type": "scattercarpet"
           }
          ],
          "scattergeo": [
           {
            "marker": {
             "colorbar": {
              "outlinewidth": 0,
              "ticks": ""
             }
            },
            "type": "scattergeo"
           }
          ],
          "scattergl": [
           {
            "marker": {
             "colorbar": {
              "outlinewidth": 0,
              "ticks": ""
             }
            },
            "type": "scattergl"
           }
          ],
          "scattermapbox": [
           {
            "marker": {
             "colorbar": {
              "outlinewidth": 0,
              "ticks": ""
             }
            },
            "type": "scattermapbox"
           }
          ],
          "scatterpolar": [
           {
            "marker": {
             "colorbar": {
              "outlinewidth": 0,
              "ticks": ""
             }
            },
            "type": "scatterpolar"
           }
          ],
          "scatterpolargl": [
           {
            "marker": {
             "colorbar": {
              "outlinewidth": 0,
              "ticks": ""
             }
            },
            "type": "scatterpolargl"
           }
          ],
          "scatterternary": [
           {
            "marker": {
             "colorbar": {
              "outlinewidth": 0,
              "ticks": ""
             }
            },
            "type": "scatterternary"
           }
          ],
          "surface": [
           {
            "colorbar": {
             "outlinewidth": 0,
             "ticks": ""
            },
            "colorscale": [
             [
              0,
              "#0d0887"
             ],
             [
              0.1111111111111111,
              "#46039f"
             ],
             [
              0.2222222222222222,
              "#7201a8"
             ],
             [
              0.3333333333333333,
              "#9c179e"
             ],
             [
              0.4444444444444444,
              "#bd3786"
             ],
             [
              0.5555555555555556,
              "#d8576b"
             ],
             [
              0.6666666666666666,
              "#ed7953"
             ],
             [
              0.7777777777777778,
              "#fb9f3a"
             ],
             [
              0.8888888888888888,
              "#fdca26"
             ],
             [
              1,
              "#f0f921"
             ]
            ],
            "type": "surface"
           }
          ],
          "table": [
           {
            "cells": {
             "fill": {
              "color": "#EBF0F8"
             },
             "line": {
              "color": "white"
             }
            },
            "header": {
             "fill": {
              "color": "#C8D4E3"
             },
             "line": {
              "color": "white"
             }
            },
            "type": "table"
           }
          ]
         },
         "layout": {
          "annotationdefaults": {
           "arrowcolor": "#2a3f5f",
           "arrowhead": 0,
           "arrowwidth": 1
          },
          "autotypenumbers": "strict",
          "coloraxis": {
           "colorbar": {
            "outlinewidth": 0,
            "ticks": ""
           }
          },
          "colorscale": {
           "diverging": [
            [
             0,
             "#8e0152"
            ],
            [
             0.1,
             "#c51b7d"
            ],
            [
             0.2,
             "#de77ae"
            ],
            [
             0.3,
             "#f1b6da"
            ],
            [
             0.4,
             "#fde0ef"
            ],
            [
             0.5,
             "#f7f7f7"
            ],
            [
             0.6,
             "#e6f5d0"
            ],
            [
             0.7,
             "#b8e186"
            ],
            [
             0.8,
             "#7fbc41"
            ],
            [
             0.9,
             "#4d9221"
            ],
            [
             1,
             "#276419"
            ]
           ],
           "sequential": [
            [
             0,
             "#0d0887"
            ],
            [
             0.1111111111111111,
             "#46039f"
            ],
            [
             0.2222222222222222,
             "#7201a8"
            ],
            [
             0.3333333333333333,
             "#9c179e"
            ],
            [
             0.4444444444444444,
             "#bd3786"
            ],
            [
             0.5555555555555556,
             "#d8576b"
            ],
            [
             0.6666666666666666,
             "#ed7953"
            ],
            [
             0.7777777777777778,
             "#fb9f3a"
            ],
            [
             0.8888888888888888,
             "#fdca26"
            ],
            [
             1,
             "#f0f921"
            ]
           ],
           "sequentialminus": [
            [
             0,
             "#0d0887"
            ],
            [
             0.1111111111111111,
             "#46039f"
            ],
            [
             0.2222222222222222,
             "#7201a8"
            ],
            [
             0.3333333333333333,
             "#9c179e"
            ],
            [
             0.4444444444444444,
             "#bd3786"
            ],
            [
             0.5555555555555556,
             "#d8576b"
            ],
            [
             0.6666666666666666,
             "#ed7953"
            ],
            [
             0.7777777777777778,
             "#fb9f3a"
            ],
            [
             0.8888888888888888,
             "#fdca26"
            ],
            [
             1,
             "#f0f921"
            ]
           ]
          },
          "colorway": [
           "#636efa",
           "#EF553B",
           "#00cc96",
           "#ab63fa",
           "#FFA15A",
           "#19d3f3",
           "#FF6692",
           "#B6E880",
           "#FF97FF",
           "#FECB52"
          ],
          "font": {
           "color": "#2a3f5f"
          },
          "geo": {
           "bgcolor": "white",
           "lakecolor": "white",
           "landcolor": "#E5ECF6",
           "showlakes": true,
           "showland": true,
           "subunitcolor": "white"
          },
          "hoverlabel": {
           "align": "left"
          },
          "hovermode": "closest",
          "mapbox": {
           "style": "light"
          },
          "paper_bgcolor": "white",
          "plot_bgcolor": "#E5ECF6",
          "polar": {
           "angularaxis": {
            "gridcolor": "white",
            "linecolor": "white",
            "ticks": ""
           },
           "bgcolor": "#E5ECF6",
           "radialaxis": {
            "gridcolor": "white",
            "linecolor": "white",
            "ticks": ""
           }
          },
          "scene": {
           "xaxis": {
            "backgroundcolor": "#E5ECF6",
            "gridcolor": "white",
            "gridwidth": 2,
            "linecolor": "white",
            "showbackground": true,
            "ticks": "",
            "zerolinecolor": "white"
           },
           "yaxis": {
            "backgroundcolor": "#E5ECF6",
            "gridcolor": "white",
            "gridwidth": 2,
            "linecolor": "white",
            "showbackground": true,
            "ticks": "",
            "zerolinecolor": "white"
           },
           "zaxis": {
            "backgroundcolor": "#E5ECF6",
            "gridcolor": "white",
            "gridwidth": 2,
            "linecolor": "white",
            "showbackground": true,
            "ticks": "",
            "zerolinecolor": "white"
           }
          },
          "shapedefaults": {
           "line": {
            "color": "#2a3f5f"
           }
          },
          "ternary": {
           "aaxis": {
            "gridcolor": "white",
            "linecolor": "white",
            "ticks": ""
           },
           "baxis": {
            "gridcolor": "white",
            "linecolor": "white",
            "ticks": ""
           },
           "bgcolor": "#E5ECF6",
           "caxis": {
            "gridcolor": "white",
            "linecolor": "white",
            "ticks": ""
           }
          },
          "title": {
           "x": 0.05
          },
          "xaxis": {
           "automargin": true,
           "gridcolor": "white",
           "linecolor": "white",
           "ticks": "",
           "title": {
            "standoff": 15
           },
           "zerolinecolor": "white",
           "zerolinewidth": 2
          },
          "yaxis": {
           "automargin": true,
           "gridcolor": "white",
           "linecolor": "white",
           "ticks": "",
           "title": {
            "standoff": 15
           },
           "zerolinecolor": "white",
           "zerolinewidth": 2
          }
         }
        },
        "xaxis": {
         "anchor": "y",
         "domain": [
          0,
          0.94
         ],
         "title": {
          "text": "Fecha"
         }
        },
        "yaxis": {
         "anchor": "x",
         "domain": [
          0,
          1
         ],
         "title": {
          "text": "Profundidad"
         }
        },
        "yaxis2": {
         "anchor": "x",
         "overlaying": "y",
         "side": "right",
         "title": {
          "text": "Producción"
         }
        }
       }
      },
      "text/html": [
       "<div>                            <div id=\"94f7b32b-3849-4a3f-8fdf-f2203ea9ad08\" class=\"plotly-graph-div\" style=\"height:525px; width:100%;\"></div>            <script type=\"text/javascript\">                require([\"plotly\"], function(Plotly) {                    window.PLOTLYENV=window.PLOTLYENV || {};                                    if (document.getElementById(\"94f7b32b-3849-4a3f-8fdf-f2203ea9ad08\")) {                    Plotly.newPlot(                        \"94f7b32b-3849-4a3f-8fdf-f2203ea9ad08\",                        [{\"name\":\"Profundidad bomba\",\"x\":[\"2021-03-23T00:00:00\",\"2021-06-08T00:00:00\",\"2021-07-07T00:00:00\",\"2021-08-04T00:00:00\",\"2021-09-07T00:00:00\",\"2021-09-23T00:00:00\",\"2021-10-06T00:00:00\",\"2022-02-10T00:00:00\",\"2022-03-08T00:00:00\",\"2022-04-08T00:00:00\",\"2022-05-12T00:00:00\",\"2022-06-07T00:00:00\",\"2022-07-13T00:00:00\",\"2022-08-09T00:00:00\",\"2022-08-23T00:00:00\",\"2022-09-08T00:00:00\",\"2022-10-12T00:00:00\",\"2022-11-08T00:00:00\",\"2022-12-16T00:00:00\",\"2023-01-13T00:00:00\",\"2023-04-18T00:00:00\"],\"y\":[2231.04,1509.0,1509.75,1500.34,1500.34,1500.34,1500.34,1500.34,1505.7,1505.7,1505.7,1505.7,1505.7,1505.7,1505.7,1505.7,1505.7,1505.7,1505.7,1505.07,1505.07],\"type\":\"scatter\",\"xaxis\":\"x\",\"yaxis\":\"y\"},{\"name\":\"Producci\\u00f3n petroleo\",\"x\":[\"2021-03-23T00:00:00\",\"2021-06-08T00:00:00\",\"2021-07-07T00:00:00\",\"2021-08-04T00:00:00\",\"2021-09-07T00:00:00\",\"2021-09-23T00:00:00\",\"2021-10-06T00:00:00\",\"2022-02-10T00:00:00\",\"2022-03-08T00:00:00\",\"2022-04-08T00:00:00\",\"2022-05-12T00:00:00\",\"2022-06-07T00:00:00\",\"2022-07-13T00:00:00\",\"2022-08-09T00:00:00\",\"2022-08-23T00:00:00\",\"2022-09-08T00:00:00\",\"2022-10-12T00:00:00\",\"2022-11-08T00:00:00\",\"2022-12-16T00:00:00\",\"2023-01-13T00:00:00\",\"2023-04-18T00:00:00\"],\"y\":[16.3,2.6,2.6,0.1,3.3,3.3,3.8,5.0,3.4,4.9,5.1,5.1,3.0,4.6,4.6,2.5,5.0,2.4,2.4,3.2,0.3],\"type\":\"scatter\",\"xaxis\":\"x\",\"yaxis\":\"y2\"}],                        {\"template\":{\"data\":{\"histogram2dcontour\":[{\"type\":\"histogram2dcontour\",\"colorbar\":{\"outlinewidth\":0,\"ticks\":\"\"},\"colorscale\":[[0.0,\"#0d0887\"],[0.1111111111111111,\"#46039f\"],[0.2222222222222222,\"#7201a8\"],[0.3333333333333333,\"#9c179e\"],[0.4444444444444444,\"#bd3786\"],[0.5555555555555556,\"#d8576b\"],[0.6666666666666666,\"#ed7953\"],[0.7777777777777778,\"#fb9f3a\"],[0.8888888888888888,\"#fdca26\"],[1.0,\"#f0f921\"]]}],\"choropleth\":[{\"type\":\"choropleth\",\"colorbar\":{\"outlinewidth\":0,\"ticks\":\"\"}}],\"histogram2d\":[{\"type\":\"histogram2d\",\"colorbar\":{\"outlinewidth\":0,\"ticks\":\"\"},\"colorscale\":[[0.0,\"#0d0887\"],[0.1111111111111111,\"#46039f\"],[0.2222222222222222,\"#7201a8\"],[0.3333333333333333,\"#9c179e\"],[0.4444444444444444,\"#bd3786\"],[0.5555555555555556,\"#d8576b\"],[0.6666666666666666,\"#ed7953\"],[0.7777777777777778,\"#fb9f3a\"],[0.8888888888888888,\"#fdca26\"],[1.0,\"#f0f921\"]]}],\"heatmap\":[{\"type\":\"heatmap\",\"colorbar\":{\"outlinewidth\":0,\"ticks\":\"\"},\"colorscale\":[[0.0,\"#0d0887\"],[0.1111111111111111,\"#46039f\"],[0.2222222222222222,\"#7201a8\"],[0.3333333333333333,\"#9c179e\"],[0.4444444444444444,\"#bd3786\"],[0.5555555555555556,\"#d8576b\"],[0.6666666666666666,\"#ed7953\"],[0.7777777777777778,\"#fb9f3a\"],[0.8888888888888888,\"#fdca26\"],[1.0,\"#f0f921\"]]}],\"heatmapgl\":[{\"type\":\"heatmapgl\",\"colorbar\":{\"outlinewidth\":0,\"ticks\":\"\"},\"colorscale\":[[0.0,\"#0d0887\"],[0.1111111111111111,\"#46039f\"],[0.2222222222222222,\"#7201a8\"],[0.3333333333333333,\"#9c179e\"],[0.4444444444444444,\"#bd3786\"],[0.5555555555555556,\"#d8576b\"],[0.6666666666666666,\"#ed7953\"],[0.7777777777777778,\"#fb9f3a\"],[0.8888888888888888,\"#fdca26\"],[1.0,\"#f0f921\"]]}],\"contourcarpet\":[{\"type\":\"contourcarpet\",\"colorbar\":{\"outlinewidth\":0,\"ticks\":\"\"}}],\"contour\":[{\"type\":\"contour\",\"colorbar\":{\"outlinewidth\":0,\"ticks\":\"\"},\"colorscale\":[[0.0,\"#0d0887\"],[0.1111111111111111,\"#46039f\"],[0.2222222222222222,\"#7201a8\"],[0.3333333333333333,\"#9c179e\"],[0.4444444444444444,\"#bd3786\"],[0.5555555555555556,\"#d8576b\"],[0.6666666666666666,\"#ed7953\"],[0.7777777777777778,\"#fb9f3a\"],[0.8888888888888888,\"#fdca26\"],[1.0,\"#f0f921\"]]}],\"surface\":[{\"type\":\"surface\",\"colorbar\":{\"outlinewidth\":0,\"ticks\":\"\"},\"colorscale\":[[0.0,\"#0d0887\"],[0.1111111111111111,\"#46039f\"],[0.2222222222222222,\"#7201a8\"],[0.3333333333333333,\"#9c179e\"],[0.4444444444444444,\"#bd3786\"],[0.5555555555555556,\"#d8576b\"],[0.6666666666666666,\"#ed7953\"],[0.7777777777777778,\"#fb9f3a\"],[0.8888888888888888,\"#fdca26\"],[1.0,\"#f0f921\"]]}],\"mesh3d\":[{\"type\":\"mesh3d\",\"colorbar\":{\"outlinewidth\":0,\"ticks\":\"\"}}],\"scatter\":[{\"fillpattern\":{\"fillmode\":\"overlay\",\"size\":10,\"solidity\":0.2},\"type\":\"scatter\"}],\"parcoords\":[{\"type\":\"parcoords\",\"line\":{\"colorbar\":{\"outlinewidth\":0,\"ticks\":\"\"}}}],\"scatterpolargl\":[{\"type\":\"scatterpolargl\",\"marker\":{\"colorbar\":{\"outlinewidth\":0,\"ticks\":\"\"}}}],\"bar\":[{\"error_x\":{\"color\":\"#2a3f5f\"},\"error_y\":{\"color\":\"#2a3f5f\"},\"marker\":{\"line\":{\"color\":\"#E5ECF6\",\"width\":0.5},\"pattern\":{\"fillmode\":\"overlay\",\"size\":10,\"solidity\":0.2}},\"type\":\"bar\"}],\"scattergeo\":[{\"type\":\"scattergeo\",\"marker\":{\"colorbar\":{\"outlinewidth\":0,\"ticks\":\"\"}}}],\"scatterpolar\":[{\"type\":\"scatterpolar\",\"marker\":{\"colorbar\":{\"outlinewidth\":0,\"ticks\":\"\"}}}],\"histogram\":[{\"marker\":{\"pattern\":{\"fillmode\":\"overlay\",\"size\":10,\"solidity\":0.2}},\"type\":\"histogram\"}],\"scattergl\":[{\"type\":\"scattergl\",\"marker\":{\"colorbar\":{\"outlinewidth\":0,\"ticks\":\"\"}}}],\"scatter3d\":[{\"type\":\"scatter3d\",\"line\":{\"colorbar\":{\"outlinewidth\":0,\"ticks\":\"\"}},\"marker\":{\"colorbar\":{\"outlinewidth\":0,\"ticks\":\"\"}}}],\"scattermapbox\":[{\"type\":\"scattermapbox\",\"marker\":{\"colorbar\":{\"outlinewidth\":0,\"ticks\":\"\"}}}],\"scatterternary\":[{\"type\":\"scatterternary\",\"marker\":{\"colorbar\":{\"outlinewidth\":0,\"ticks\":\"\"}}}],\"scattercarpet\":[{\"type\":\"scattercarpet\",\"marker\":{\"colorbar\":{\"outlinewidth\":0,\"ticks\":\"\"}}}],\"carpet\":[{\"aaxis\":{\"endlinecolor\":\"#2a3f5f\",\"gridcolor\":\"white\",\"linecolor\":\"white\",\"minorgridcolor\":\"white\",\"startlinecolor\":\"#2a3f5f\"},\"baxis\":{\"endlinecolor\":\"#2a3f5f\",\"gridcolor\":\"white\",\"linecolor\":\"white\",\"minorgridcolor\":\"white\",\"startlinecolor\":\"#2a3f5f\"},\"type\":\"carpet\"}],\"table\":[{\"cells\":{\"fill\":{\"color\":\"#EBF0F8\"},\"line\":{\"color\":\"white\"}},\"header\":{\"fill\":{\"color\":\"#C8D4E3\"},\"line\":{\"color\":\"white\"}},\"type\":\"table\"}],\"barpolar\":[{\"marker\":{\"line\":{\"color\":\"#E5ECF6\",\"width\":0.5},\"pattern\":{\"fillmode\":\"overlay\",\"size\":10,\"solidity\":0.2}},\"type\":\"barpolar\"}],\"pie\":[{\"automargin\":true,\"type\":\"pie\"}]},\"layout\":{\"autotypenumbers\":\"strict\",\"colorway\":[\"#636efa\",\"#EF553B\",\"#00cc96\",\"#ab63fa\",\"#FFA15A\",\"#19d3f3\",\"#FF6692\",\"#B6E880\",\"#FF97FF\",\"#FECB52\"],\"font\":{\"color\":\"#2a3f5f\"},\"hovermode\":\"closest\",\"hoverlabel\":{\"align\":\"left\"},\"paper_bgcolor\":\"white\",\"plot_bgcolor\":\"#E5ECF6\",\"polar\":{\"bgcolor\":\"#E5ECF6\",\"angularaxis\":{\"gridcolor\":\"white\",\"linecolor\":\"white\",\"ticks\":\"\"},\"radialaxis\":{\"gridcolor\":\"white\",\"linecolor\":\"white\",\"ticks\":\"\"}},\"ternary\":{\"bgcolor\":\"#E5ECF6\",\"aaxis\":{\"gridcolor\":\"white\",\"linecolor\":\"white\",\"ticks\":\"\"},\"baxis\":{\"gridcolor\":\"white\",\"linecolor\":\"white\",\"ticks\":\"\"},\"caxis\":{\"gridcolor\":\"white\",\"linecolor\":\"white\",\"ticks\":\"\"}},\"coloraxis\":{\"colorbar\":{\"outlinewidth\":0,\"ticks\":\"\"}},\"colorscale\":{\"sequential\":[[0.0,\"#0d0887\"],[0.1111111111111111,\"#46039f\"],[0.2222222222222222,\"#7201a8\"],[0.3333333333333333,\"#9c179e\"],[0.4444444444444444,\"#bd3786\"],[0.5555555555555556,\"#d8576b\"],[0.6666666666666666,\"#ed7953\"],[0.7777777777777778,\"#fb9f3a\"],[0.8888888888888888,\"#fdca26\"],[1.0,\"#f0f921\"]],\"sequentialminus\":[[0.0,\"#0d0887\"],[0.1111111111111111,\"#46039f\"],[0.2222222222222222,\"#7201a8\"],[0.3333333333333333,\"#9c179e\"],[0.4444444444444444,\"#bd3786\"],[0.5555555555555556,\"#d8576b\"],[0.6666666666666666,\"#ed7953\"],[0.7777777777777778,\"#fb9f3a\"],[0.8888888888888888,\"#fdca26\"],[1.0,\"#f0f921\"]],\"diverging\":[[0,\"#8e0152\"],[0.1,\"#c51b7d\"],[0.2,\"#de77ae\"],[0.3,\"#f1b6da\"],[0.4,\"#fde0ef\"],[0.5,\"#f7f7f7\"],[0.6,\"#e6f5d0\"],[0.7,\"#b8e186\"],[0.8,\"#7fbc41\"],[0.9,\"#4d9221\"],[1,\"#276419\"]]},\"xaxis\":{\"gridcolor\":\"white\",\"linecolor\":\"white\",\"ticks\":\"\",\"title\":{\"standoff\":15},\"zerolinecolor\":\"white\",\"automargin\":true,\"zerolinewidth\":2},\"yaxis\":{\"gridcolor\":\"white\",\"linecolor\":\"white\",\"ticks\":\"\",\"title\":{\"standoff\":15},\"zerolinecolor\":\"white\",\"automargin\":true,\"zerolinewidth\":2},\"scene\":{\"xaxis\":{\"backgroundcolor\":\"#E5ECF6\",\"gridcolor\":\"white\",\"linecolor\":\"white\",\"showbackground\":true,\"ticks\":\"\",\"zerolinecolor\":\"white\",\"gridwidth\":2},\"yaxis\":{\"backgroundcolor\":\"#E5ECF6\",\"gridcolor\":\"white\",\"linecolor\":\"white\",\"showbackground\":true,\"ticks\":\"\",\"zerolinecolor\":\"white\",\"gridwidth\":2},\"zaxis\":{\"backgroundcolor\":\"#E5ECF6\",\"gridcolor\":\"white\",\"linecolor\":\"white\",\"showbackground\":true,\"ticks\":\"\",\"zerolinecolor\":\"white\",\"gridwidth\":2}},\"shapedefaults\":{\"line\":{\"color\":\"#2a3f5f\"}},\"annotationdefaults\":{\"arrowcolor\":\"#2a3f5f\",\"arrowhead\":0,\"arrowwidth\":1},\"geo\":{\"bgcolor\":\"white\",\"landcolor\":\"#E5ECF6\",\"subunitcolor\":\"white\",\"showland\":true,\"showlakes\":true,\"lakecolor\":\"white\"},\"title\":{\"x\":0.05},\"mapbox\":{\"style\":\"light\"}}},\"xaxis\":{\"anchor\":\"y\",\"domain\":[0.0,0.94],\"title\":{\"text\":\"Fecha\"}},\"yaxis\":{\"anchor\":\"x\",\"domain\":[0.0,1.0],\"title\":{\"text\":\"Profundidad\"}},\"yaxis2\":{\"anchor\":\"x\",\"overlaying\":\"y\",\"side\":\"right\",\"title\":{\"text\":\"Producci\\u00f3n\"}}},                        {\"responsive\": true}                    ).then(function(){\n",
       "                            \n",
       "var gd = document.getElementById('94f7b32b-3849-4a3f-8fdf-f2203ea9ad08');\n",
       "var x = new MutationObserver(function (mutations, observer) {{\n",
       "        var display = window.getComputedStyle(gd).display;\n",
       "        if (!display || display === 'none') {{\n",
       "            console.log([gd, 'removed!']);\n",
       "            Plotly.purge(gd);\n",
       "            observer.disconnect();\n",
       "        }}\n",
       "}});\n",
       "\n",
       "// Listen for the removal of the full notebook cells\n",
       "var notebookContainer = gd.closest('#notebook-container');\n",
       "if (notebookContainer) {{\n",
       "    x.observe(notebookContainer, {childList: true});\n",
       "}}\n",
       "\n",
       "// Listen for the clearing of the current output cell\n",
       "var outputEl = gd.closest('.output');\n",
       "if (outputEl) {{\n",
       "    x.observe(outputEl, {childList: true});\n",
       "}}\n",
       "\n",
       "                        })                };                });            </script>        </div>"
      ]
     },
     "metadata": {},
     "output_type": "display_data"
    },
    {
     "data": {
      "application/vnd.plotly.v1+json": {
       "config": {
        "plotlyServerURL": "https://plot.ly"
       },
       "data": [
        {
         "name": "Presión dinámica",
         "type": "scatter",
         "x": [
          "2021-03-23T00:00:00",
          "2021-06-08T00:00:00",
          "2021-07-07T00:00:00",
          "2021-08-04T00:00:00",
          "2021-09-07T00:00:00",
          "2021-09-23T00:00:00",
          "2021-10-06T00:00:00",
          "2022-02-10T00:00:00",
          "2022-03-08T00:00:00",
          "2022-04-08T00:00:00",
          "2022-05-12T00:00:00",
          "2022-06-07T00:00:00",
          "2022-07-13T00:00:00",
          "2022-08-09T00:00:00",
          "2022-08-23T00:00:00",
          "2022-09-08T00:00:00",
          "2022-10-12T00:00:00",
          "2022-11-08T00:00:00",
          "2022-12-16T00:00:00",
          "2023-01-13T00:00:00",
          "2023-04-18T00:00:00"
         ],
         "xaxis": "x",
         "y": [
          413,
          1025,
          1070,
          823,
          1028,
          723,
          772,
          715,
          706,
          570,
          298,
          259,
          423,
          862,
          834,
          815,
          795,
          756,
          748,
          336,
          722
         ],
         "yaxis": "y"
        },
        {
         "name": "Presión interface",
         "type": "scatter",
         "x": [
          "2021-03-23T00:00:00",
          "2021-06-08T00:00:00",
          "2021-07-07T00:00:00",
          "2021-08-04T00:00:00",
          "2021-09-07T00:00:00",
          "2021-09-23T00:00:00",
          "2021-10-06T00:00:00",
          "2022-02-10T00:00:00",
          "2022-03-08T00:00:00",
          "2022-04-08T00:00:00",
          "2022-05-12T00:00:00",
          "2022-06-07T00:00:00",
          "2022-07-13T00:00:00",
          "2022-08-09T00:00:00",
          "2022-08-23T00:00:00",
          "2022-09-08T00:00:00",
          "2022-10-12T00:00:00",
          "2022-11-08T00:00:00",
          "2022-12-16T00:00:00",
          "2023-01-13T00:00:00",
          "2023-04-18T00:00:00"
         ],
         "xaxis": "x",
         "y": [
          24,
          1,
          1,
          1,
          1,
          1,
          1,
          1,
          1,
          1,
          1,
          1,
          2,
          1,
          1,
          1,
          1,
          2,
          2,
          2,
          2
         ],
         "yaxis": "y"
        },
        {
         "name": "Velocidad del sonido",
         "type": "scatter",
         "x": [
          "2021-03-23T00:00:00",
          "2021-06-08T00:00:00",
          "2021-07-07T00:00:00",
          "2021-08-04T00:00:00",
          "2021-09-07T00:00:00",
          "2021-09-23T00:00:00",
          "2021-10-06T00:00:00",
          "2022-02-10T00:00:00",
          "2022-03-08T00:00:00",
          "2022-04-08T00:00:00",
          "2022-05-12T00:00:00",
          "2022-06-07T00:00:00",
          "2022-07-13T00:00:00",
          "2022-08-09T00:00:00",
          "2022-08-23T00:00:00",
          "2022-09-08T00:00:00",
          "2022-10-12T00:00:00",
          "2022-11-08T00:00:00",
          "2022-12-16T00:00:00",
          "2023-01-13T00:00:00",
          "2023-04-18T00:00:00"
         ],
         "xaxis": "x",
         "y": [
          372,
          340,
          373,
          399,
          393,
          397,
          401,
          399,
          389,
          386,
          377,
          387,
          376,
          386,
          393,
          396,
          392,
          390,
          378,
          365,
          374
         ],
         "yaxis": "y2"
        }
       ],
       "layout": {
        "template": {
         "data": {
          "bar": [
           {
            "error_x": {
             "color": "#2a3f5f"
            },
            "error_y": {
             "color": "#2a3f5f"
            },
            "marker": {
             "line": {
              "color": "#E5ECF6",
              "width": 0.5
             },
             "pattern": {
              "fillmode": "overlay",
              "size": 10,
              "solidity": 0.2
             }
            },
            "type": "bar"
           }
          ],
          "barpolar": [
           {
            "marker": {
             "line": {
              "color": "#E5ECF6",
              "width": 0.5
             },
             "pattern": {
              "fillmode": "overlay",
              "size": 10,
              "solidity": 0.2
             }
            },
            "type": "barpolar"
           }
          ],
          "carpet": [
           {
            "aaxis": {
             "endlinecolor": "#2a3f5f",
             "gridcolor": "white",
             "linecolor": "white",
             "minorgridcolor": "white",
             "startlinecolor": "#2a3f5f"
            },
            "baxis": {
             "endlinecolor": "#2a3f5f",
             "gridcolor": "white",
             "linecolor": "white",
             "minorgridcolor": "white",
             "startlinecolor": "#2a3f5f"
            },
            "type": "carpet"
           }
          ],
          "choropleth": [
           {
            "colorbar": {
             "outlinewidth": 0,
             "ticks": ""
            },
            "type": "choropleth"
           }
          ],
          "contour": [
           {
            "colorbar": {
             "outlinewidth": 0,
             "ticks": ""
            },
            "colorscale": [
             [
              0,
              "#0d0887"
             ],
             [
              0.1111111111111111,
              "#46039f"
             ],
             [
              0.2222222222222222,
              "#7201a8"
             ],
             [
              0.3333333333333333,
              "#9c179e"
             ],
             [
              0.4444444444444444,
              "#bd3786"
             ],
             [
              0.5555555555555556,
              "#d8576b"
             ],
             [
              0.6666666666666666,
              "#ed7953"
             ],
             [
              0.7777777777777778,
              "#fb9f3a"
             ],
             [
              0.8888888888888888,
              "#fdca26"
             ],
             [
              1,
              "#f0f921"
             ]
            ],
            "type": "contour"
           }
          ],
          "contourcarpet": [
           {
            "colorbar": {
             "outlinewidth": 0,
             "ticks": ""
            },
            "type": "contourcarpet"
           }
          ],
          "heatmap": [
           {
            "colorbar": {
             "outlinewidth": 0,
             "ticks": ""
            },
            "colorscale": [
             [
              0,
              "#0d0887"
             ],
             [
              0.1111111111111111,
              "#46039f"
             ],
             [
              0.2222222222222222,
              "#7201a8"
             ],
             [
              0.3333333333333333,
              "#9c179e"
             ],
             [
              0.4444444444444444,
              "#bd3786"
             ],
             [
              0.5555555555555556,
              "#d8576b"
             ],
             [
              0.6666666666666666,
              "#ed7953"
             ],
             [
              0.7777777777777778,
              "#fb9f3a"
             ],
             [
              0.8888888888888888,
              "#fdca26"
             ],
             [
              1,
              "#f0f921"
             ]
            ],
            "type": "heatmap"
           }
          ],
          "heatmapgl": [
           {
            "colorbar": {
             "outlinewidth": 0,
             "ticks": ""
            },
            "colorscale": [
             [
              0,
              "#0d0887"
             ],
             [
              0.1111111111111111,
              "#46039f"
             ],
             [
              0.2222222222222222,
              "#7201a8"
             ],
             [
              0.3333333333333333,
              "#9c179e"
             ],
             [
              0.4444444444444444,
              "#bd3786"
             ],
             [
              0.5555555555555556,
              "#d8576b"
             ],
             [
              0.6666666666666666,
              "#ed7953"
             ],
             [
              0.7777777777777778,
              "#fb9f3a"
             ],
             [
              0.8888888888888888,
              "#fdca26"
             ],
             [
              1,
              "#f0f921"
             ]
            ],
            "type": "heatmapgl"
           }
          ],
          "histogram": [
           {
            "marker": {
             "pattern": {
              "fillmode": "overlay",
              "size": 10,
              "solidity": 0.2
             }
            },
            "type": "histogram"
           }
          ],
          "histogram2d": [
           {
            "colorbar": {
             "outlinewidth": 0,
             "ticks": ""
            },
            "colorscale": [
             [
              0,
              "#0d0887"
             ],
             [
              0.1111111111111111,
              "#46039f"
             ],
             [
              0.2222222222222222,
              "#7201a8"
             ],
             [
              0.3333333333333333,
              "#9c179e"
             ],
             [
              0.4444444444444444,
              "#bd3786"
             ],
             [
              0.5555555555555556,
              "#d8576b"
             ],
             [
              0.6666666666666666,
              "#ed7953"
             ],
             [
              0.7777777777777778,
              "#fb9f3a"
             ],
             [
              0.8888888888888888,
              "#fdca26"
             ],
             [
              1,
              "#f0f921"
             ]
            ],
            "type": "histogram2d"
           }
          ],
          "histogram2dcontour": [
           {
            "colorbar": {
             "outlinewidth": 0,
             "ticks": ""
            },
            "colorscale": [
             [
              0,
              "#0d0887"
             ],
             [
              0.1111111111111111,
              "#46039f"
             ],
             [
              0.2222222222222222,
              "#7201a8"
             ],
             [
              0.3333333333333333,
              "#9c179e"
             ],
             [
              0.4444444444444444,
              "#bd3786"
             ],
             [
              0.5555555555555556,
              "#d8576b"
             ],
             [
              0.6666666666666666,
              "#ed7953"
             ],
             [
              0.7777777777777778,
              "#fb9f3a"
             ],
             [
              0.8888888888888888,
              "#fdca26"
             ],
             [
              1,
              "#f0f921"
             ]
            ],
            "type": "histogram2dcontour"
           }
          ],
          "mesh3d": [
           {
            "colorbar": {
             "outlinewidth": 0,
             "ticks": ""
            },
            "type": "mesh3d"
           }
          ],
          "parcoords": [
           {
            "line": {
             "colorbar": {
              "outlinewidth": 0,
              "ticks": ""
             }
            },
            "type": "parcoords"
           }
          ],
          "pie": [
           {
            "automargin": true,
            "type": "pie"
           }
          ],
          "scatter": [
           {
            "fillpattern": {
             "fillmode": "overlay",
             "size": 10,
             "solidity": 0.2
            },
            "type": "scatter"
           }
          ],
          "scatter3d": [
           {
            "line": {
             "colorbar": {
              "outlinewidth": 0,
              "ticks": ""
             }
            },
            "marker": {
             "colorbar": {
              "outlinewidth": 0,
              "ticks": ""
             }
            },
            "type": "scatter3d"
           }
          ],
          "scattercarpet": [
           {
            "marker": {
             "colorbar": {
              "outlinewidth": 0,
              "ticks": ""
             }
            },
            "type": "scattercarpet"
           }
          ],
          "scattergeo": [
           {
            "marker": {
             "colorbar": {
              "outlinewidth": 0,
              "ticks": ""
             }
            },
            "type": "scattergeo"
           }
          ],
          "scattergl": [
           {
            "marker": {
             "colorbar": {
              "outlinewidth": 0,
              "ticks": ""
             }
            },
            "type": "scattergl"
           }
          ],
          "scattermapbox": [
           {
            "marker": {
             "colorbar": {
              "outlinewidth": 0,
              "ticks": ""
             }
            },
            "type": "scattermapbox"
           }
          ],
          "scatterpolar": [
           {
            "marker": {
             "colorbar": {
              "outlinewidth": 0,
              "ticks": ""
             }
            },
            "type": "scatterpolar"
           }
          ],
          "scatterpolargl": [
           {
            "marker": {
             "colorbar": {
              "outlinewidth": 0,
              "ticks": ""
             }
            },
            "type": "scatterpolargl"
           }
          ],
          "scatterternary": [
           {
            "marker": {
             "colorbar": {
              "outlinewidth": 0,
              "ticks": ""
             }
            },
            "type": "scatterternary"
           }
          ],
          "surface": [
           {
            "colorbar": {
             "outlinewidth": 0,
             "ticks": ""
            },
            "colorscale": [
             [
              0,
              "#0d0887"
             ],
             [
              0.1111111111111111,
              "#46039f"
             ],
             [
              0.2222222222222222,
              "#7201a8"
             ],
             [
              0.3333333333333333,
              "#9c179e"
             ],
             [
              0.4444444444444444,
              "#bd3786"
             ],
             [
              0.5555555555555556,
              "#d8576b"
             ],
             [
              0.6666666666666666,
              "#ed7953"
             ],
             [
              0.7777777777777778,
              "#fb9f3a"
             ],
             [
              0.8888888888888888,
              "#fdca26"
             ],
             [
              1,
              "#f0f921"
             ]
            ],
            "type": "surface"
           }
          ],
          "table": [
           {
            "cells": {
             "fill": {
              "color": "#EBF0F8"
             },
             "line": {
              "color": "white"
             }
            },
            "header": {
             "fill": {
              "color": "#C8D4E3"
             },
             "line": {
              "color": "white"
             }
            },
            "type": "table"
           }
          ]
         },
         "layout": {
          "annotationdefaults": {
           "arrowcolor": "#2a3f5f",
           "arrowhead": 0,
           "arrowwidth": 1
          },
          "autotypenumbers": "strict",
          "coloraxis": {
           "colorbar": {
            "outlinewidth": 0,
            "ticks": ""
           }
          },
          "colorscale": {
           "diverging": [
            [
             0,
             "#8e0152"
            ],
            [
             0.1,
             "#c51b7d"
            ],
            [
             0.2,
             "#de77ae"
            ],
            [
             0.3,
             "#f1b6da"
            ],
            [
             0.4,
             "#fde0ef"
            ],
            [
             0.5,
             "#f7f7f7"
            ],
            [
             0.6,
             "#e6f5d0"
            ],
            [
             0.7,
             "#b8e186"
            ],
            [
             0.8,
             "#7fbc41"
            ],
            [
             0.9,
             "#4d9221"
            ],
            [
             1,
             "#276419"
            ]
           ],
           "sequential": [
            [
             0,
             "#0d0887"
            ],
            [
             0.1111111111111111,
             "#46039f"
            ],
            [
             0.2222222222222222,
             "#7201a8"
            ],
            [
             0.3333333333333333,
             "#9c179e"
            ],
            [
             0.4444444444444444,
             "#bd3786"
            ],
            [
             0.5555555555555556,
             "#d8576b"
            ],
            [
             0.6666666666666666,
             "#ed7953"
            ],
            [
             0.7777777777777778,
             "#fb9f3a"
            ],
            [
             0.8888888888888888,
             "#fdca26"
            ],
            [
             1,
             "#f0f921"
            ]
           ],
           "sequentialminus": [
            [
             0,
             "#0d0887"
            ],
            [
             0.1111111111111111,
             "#46039f"
            ],
            [
             0.2222222222222222,
             "#7201a8"
            ],
            [
             0.3333333333333333,
             "#9c179e"
            ],
            [
             0.4444444444444444,
             "#bd3786"
            ],
            [
             0.5555555555555556,
             "#d8576b"
            ],
            [
             0.6666666666666666,
             "#ed7953"
            ],
            [
             0.7777777777777778,
             "#fb9f3a"
            ],
            [
             0.8888888888888888,
             "#fdca26"
            ],
            [
             1,
             "#f0f921"
            ]
           ]
          },
          "colorway": [
           "#636efa",
           "#EF553B",
           "#00cc96",
           "#ab63fa",
           "#FFA15A",
           "#19d3f3",
           "#FF6692",
           "#B6E880",
           "#FF97FF",
           "#FECB52"
          ],
          "font": {
           "color": "#2a3f5f"
          },
          "geo": {
           "bgcolor": "white",
           "lakecolor": "white",
           "landcolor": "#E5ECF6",
           "showlakes": true,
           "showland": true,
           "subunitcolor": "white"
          },
          "hoverlabel": {
           "align": "left"
          },
          "hovermode": "closest",
          "mapbox": {
           "style": "light"
          },
          "paper_bgcolor": "white",
          "plot_bgcolor": "#E5ECF6",
          "polar": {
           "angularaxis": {
            "gridcolor": "white",
            "linecolor": "white",
            "ticks": ""
           },
           "bgcolor": "#E5ECF6",
           "radialaxis": {
            "gridcolor": "white",
            "linecolor": "white",
            "ticks": ""
           }
          },
          "scene": {
           "xaxis": {
            "backgroundcolor": "#E5ECF6",
            "gridcolor": "white",
            "gridwidth": 2,
            "linecolor": "white",
            "showbackground": true,
            "ticks": "",
            "zerolinecolor": "white"
           },
           "yaxis": {
            "backgroundcolor": "#E5ECF6",
            "gridcolor": "white",
            "gridwidth": 2,
            "linecolor": "white",
            "showbackground": true,
            "ticks": "",
            "zerolinecolor": "white"
           },
           "zaxis": {
            "backgroundcolor": "#E5ECF6",
            "gridcolor": "white",
            "gridwidth": 2,
            "linecolor": "white",
            "showbackground": true,
            "ticks": "",
            "zerolinecolor": "white"
           }
          },
          "shapedefaults": {
           "line": {
            "color": "#2a3f5f"
           }
          },
          "ternary": {
           "aaxis": {
            "gridcolor": "white",
            "linecolor": "white",
            "ticks": ""
           },
           "baxis": {
            "gridcolor": "white",
            "linecolor": "white",
            "ticks": ""
           },
           "bgcolor": "#E5ECF6",
           "caxis": {
            "gridcolor": "white",
            "linecolor": "white",
            "ticks": ""
           }
          },
          "title": {
           "x": 0.05
          },
          "xaxis": {
           "automargin": true,
           "gridcolor": "white",
           "linecolor": "white",
           "ticks": "",
           "title": {
            "standoff": 15
           },
           "zerolinecolor": "white",
           "zerolinewidth": 2
          },
          "yaxis": {
           "automargin": true,
           "gridcolor": "white",
           "linecolor": "white",
           "ticks": "",
           "title": {
            "standoff": 15
           },
           "zerolinecolor": "white",
           "zerolinewidth": 2
          }
         }
        },
        "xaxis": {
         "anchor": "y",
         "domain": [
          0,
          0.94
         ],
         "title": {
          "text": "Fecha"
         }
        },
        "yaxis": {
         "anchor": "x",
         "domain": [
          0,
          1
         ],
         "title": {
          "text": "Presión"
         }
        },
        "yaxis2": {
         "anchor": "x",
         "overlaying": "y",
         "side": "right",
         "title": {
          "text": "Velocidad"
         }
        }
       }
      },
      "text/html": [
       "<div>                            <div id=\"c47666f7-90f4-4d45-9457-4982f2f21ad3\" class=\"plotly-graph-div\" style=\"height:525px; width:100%;\"></div>            <script type=\"text/javascript\">                require([\"plotly\"], function(Plotly) {                    window.PLOTLYENV=window.PLOTLYENV || {};                                    if (document.getElementById(\"c47666f7-90f4-4d45-9457-4982f2f21ad3\")) {                    Plotly.newPlot(                        \"c47666f7-90f4-4d45-9457-4982f2f21ad3\",                        [{\"name\":\"Presi\\u00f3n din\\u00e1mica\",\"x\":[\"2021-03-23T00:00:00\",\"2021-06-08T00:00:00\",\"2021-07-07T00:00:00\",\"2021-08-04T00:00:00\",\"2021-09-07T00:00:00\",\"2021-09-23T00:00:00\",\"2021-10-06T00:00:00\",\"2022-02-10T00:00:00\",\"2022-03-08T00:00:00\",\"2022-04-08T00:00:00\",\"2022-05-12T00:00:00\",\"2022-06-07T00:00:00\",\"2022-07-13T00:00:00\",\"2022-08-09T00:00:00\",\"2022-08-23T00:00:00\",\"2022-09-08T00:00:00\",\"2022-10-12T00:00:00\",\"2022-11-08T00:00:00\",\"2022-12-16T00:00:00\",\"2023-01-13T00:00:00\",\"2023-04-18T00:00:00\"],\"y\":[413,1025,1070,823,1028,723,772,715,706,570,298,259,423,862,834,815,795,756,748,336,722],\"type\":\"scatter\",\"xaxis\":\"x\",\"yaxis\":\"y\"},{\"name\":\"Presi\\u00f3n interface\",\"x\":[\"2021-03-23T00:00:00\",\"2021-06-08T00:00:00\",\"2021-07-07T00:00:00\",\"2021-08-04T00:00:00\",\"2021-09-07T00:00:00\",\"2021-09-23T00:00:00\",\"2021-10-06T00:00:00\",\"2022-02-10T00:00:00\",\"2022-03-08T00:00:00\",\"2022-04-08T00:00:00\",\"2022-05-12T00:00:00\",\"2022-06-07T00:00:00\",\"2022-07-13T00:00:00\",\"2022-08-09T00:00:00\",\"2022-08-23T00:00:00\",\"2022-09-08T00:00:00\",\"2022-10-12T00:00:00\",\"2022-11-08T00:00:00\",\"2022-12-16T00:00:00\",\"2023-01-13T00:00:00\",\"2023-04-18T00:00:00\"],\"y\":[24,1,1,1,1,1,1,1,1,1,1,1,2,1,1,1,1,2,2,2,2],\"type\":\"scatter\",\"xaxis\":\"x\",\"yaxis\":\"y\"},{\"name\":\"Velocidad del sonido\",\"x\":[\"2021-03-23T00:00:00\",\"2021-06-08T00:00:00\",\"2021-07-07T00:00:00\",\"2021-08-04T00:00:00\",\"2021-09-07T00:00:00\",\"2021-09-23T00:00:00\",\"2021-10-06T00:00:00\",\"2022-02-10T00:00:00\",\"2022-03-08T00:00:00\",\"2022-04-08T00:00:00\",\"2022-05-12T00:00:00\",\"2022-06-07T00:00:00\",\"2022-07-13T00:00:00\",\"2022-08-09T00:00:00\",\"2022-08-23T00:00:00\",\"2022-09-08T00:00:00\",\"2022-10-12T00:00:00\",\"2022-11-08T00:00:00\",\"2022-12-16T00:00:00\",\"2023-01-13T00:00:00\",\"2023-04-18T00:00:00\"],\"y\":[372,340,373,399,393,397,401,399,389,386,377,387,376,386,393,396,392,390,378,365,374],\"type\":\"scatter\",\"xaxis\":\"x\",\"yaxis\":\"y2\"}],                        {\"template\":{\"data\":{\"histogram2dcontour\":[{\"type\":\"histogram2dcontour\",\"colorbar\":{\"outlinewidth\":0,\"ticks\":\"\"},\"colorscale\":[[0.0,\"#0d0887\"],[0.1111111111111111,\"#46039f\"],[0.2222222222222222,\"#7201a8\"],[0.3333333333333333,\"#9c179e\"],[0.4444444444444444,\"#bd3786\"],[0.5555555555555556,\"#d8576b\"],[0.6666666666666666,\"#ed7953\"],[0.7777777777777778,\"#fb9f3a\"],[0.8888888888888888,\"#fdca26\"],[1.0,\"#f0f921\"]]}],\"choropleth\":[{\"type\":\"choropleth\",\"colorbar\":{\"outlinewidth\":0,\"ticks\":\"\"}}],\"histogram2d\":[{\"type\":\"histogram2d\",\"colorbar\":{\"outlinewidth\":0,\"ticks\":\"\"},\"colorscale\":[[0.0,\"#0d0887\"],[0.1111111111111111,\"#46039f\"],[0.2222222222222222,\"#7201a8\"],[0.3333333333333333,\"#9c179e\"],[0.4444444444444444,\"#bd3786\"],[0.5555555555555556,\"#d8576b\"],[0.6666666666666666,\"#ed7953\"],[0.7777777777777778,\"#fb9f3a\"],[0.8888888888888888,\"#fdca26\"],[1.0,\"#f0f921\"]]}],\"heatmap\":[{\"type\":\"heatmap\",\"colorbar\":{\"outlinewidth\":0,\"ticks\":\"\"},\"colorscale\":[[0.0,\"#0d0887\"],[0.1111111111111111,\"#46039f\"],[0.2222222222222222,\"#7201a8\"],[0.3333333333333333,\"#9c179e\"],[0.4444444444444444,\"#bd3786\"],[0.5555555555555556,\"#d8576b\"],[0.6666666666666666,\"#ed7953\"],[0.7777777777777778,\"#fb9f3a\"],[0.8888888888888888,\"#fdca26\"],[1.0,\"#f0f921\"]]}],\"heatmapgl\":[{\"type\":\"heatmapgl\",\"colorbar\":{\"outlinewidth\":0,\"ticks\":\"\"},\"colorscale\":[[0.0,\"#0d0887\"],[0.1111111111111111,\"#46039f\"],[0.2222222222222222,\"#7201a8\"],[0.3333333333333333,\"#9c179e\"],[0.4444444444444444,\"#bd3786\"],[0.5555555555555556,\"#d8576b\"],[0.6666666666666666,\"#ed7953\"],[0.7777777777777778,\"#fb9f3a\"],[0.8888888888888888,\"#fdca26\"],[1.0,\"#f0f921\"]]}],\"contourcarpet\":[{\"type\":\"contourcarpet\",\"colorbar\":{\"outlinewidth\":0,\"ticks\":\"\"}}],\"contour\":[{\"type\":\"contour\",\"colorbar\":{\"outlinewidth\":0,\"ticks\":\"\"},\"colorscale\":[[0.0,\"#0d0887\"],[0.1111111111111111,\"#46039f\"],[0.2222222222222222,\"#7201a8\"],[0.3333333333333333,\"#9c179e\"],[0.4444444444444444,\"#bd3786\"],[0.5555555555555556,\"#d8576b\"],[0.6666666666666666,\"#ed7953\"],[0.7777777777777778,\"#fb9f3a\"],[0.8888888888888888,\"#fdca26\"],[1.0,\"#f0f921\"]]}],\"surface\":[{\"type\":\"surface\",\"colorbar\":{\"outlinewidth\":0,\"ticks\":\"\"},\"colorscale\":[[0.0,\"#0d0887\"],[0.1111111111111111,\"#46039f\"],[0.2222222222222222,\"#7201a8\"],[0.3333333333333333,\"#9c179e\"],[0.4444444444444444,\"#bd3786\"],[0.5555555555555556,\"#d8576b\"],[0.6666666666666666,\"#ed7953\"],[0.7777777777777778,\"#fb9f3a\"],[0.8888888888888888,\"#fdca26\"],[1.0,\"#f0f921\"]]}],\"mesh3d\":[{\"type\":\"mesh3d\",\"colorbar\":{\"outlinewidth\":0,\"ticks\":\"\"}}],\"scatter\":[{\"fillpattern\":{\"fillmode\":\"overlay\",\"size\":10,\"solidity\":0.2},\"type\":\"scatter\"}],\"parcoords\":[{\"type\":\"parcoords\",\"line\":{\"colorbar\":{\"outlinewidth\":0,\"ticks\":\"\"}}}],\"scatterpolargl\":[{\"type\":\"scatterpolargl\",\"marker\":{\"colorbar\":{\"outlinewidth\":0,\"ticks\":\"\"}}}],\"bar\":[{\"error_x\":{\"color\":\"#2a3f5f\"},\"error_y\":{\"color\":\"#2a3f5f\"},\"marker\":{\"line\":{\"color\":\"#E5ECF6\",\"width\":0.5},\"pattern\":{\"fillmode\":\"overlay\",\"size\":10,\"solidity\":0.2}},\"type\":\"bar\"}],\"scattergeo\":[{\"type\":\"scattergeo\",\"marker\":{\"colorbar\":{\"outlinewidth\":0,\"ticks\":\"\"}}}],\"scatterpolar\":[{\"type\":\"scatterpolar\",\"marker\":{\"colorbar\":{\"outlinewidth\":0,\"ticks\":\"\"}}}],\"histogram\":[{\"marker\":{\"pattern\":{\"fillmode\":\"overlay\",\"size\":10,\"solidity\":0.2}},\"type\":\"histogram\"}],\"scattergl\":[{\"type\":\"scattergl\",\"marker\":{\"colorbar\":{\"outlinewidth\":0,\"ticks\":\"\"}}}],\"scatter3d\":[{\"type\":\"scatter3d\",\"line\":{\"colorbar\":{\"outlinewidth\":0,\"ticks\":\"\"}},\"marker\":{\"colorbar\":{\"outlinewidth\":0,\"ticks\":\"\"}}}],\"scattermapbox\":[{\"type\":\"scattermapbox\",\"marker\":{\"colorbar\":{\"outlinewidth\":0,\"ticks\":\"\"}}}],\"scatterternary\":[{\"type\":\"scatterternary\",\"marker\":{\"colorbar\":{\"outlinewidth\":0,\"ticks\":\"\"}}}],\"scattercarpet\":[{\"type\":\"scattercarpet\",\"marker\":{\"colorbar\":{\"outlinewidth\":0,\"ticks\":\"\"}}}],\"carpet\":[{\"aaxis\":{\"endlinecolor\":\"#2a3f5f\",\"gridcolor\":\"white\",\"linecolor\":\"white\",\"minorgridcolor\":\"white\",\"startlinecolor\":\"#2a3f5f\"},\"baxis\":{\"endlinecolor\":\"#2a3f5f\",\"gridcolor\":\"white\",\"linecolor\":\"white\",\"minorgridcolor\":\"white\",\"startlinecolor\":\"#2a3f5f\"},\"type\":\"carpet\"}],\"table\":[{\"cells\":{\"fill\":{\"color\":\"#EBF0F8\"},\"line\":{\"color\":\"white\"}},\"header\":{\"fill\":{\"color\":\"#C8D4E3\"},\"line\":{\"color\":\"white\"}},\"type\":\"table\"}],\"barpolar\":[{\"marker\":{\"line\":{\"color\":\"#E5ECF6\",\"width\":0.5},\"pattern\":{\"fillmode\":\"overlay\",\"size\":10,\"solidity\":0.2}},\"type\":\"barpolar\"}],\"pie\":[{\"automargin\":true,\"type\":\"pie\"}]},\"layout\":{\"autotypenumbers\":\"strict\",\"colorway\":[\"#636efa\",\"#EF553B\",\"#00cc96\",\"#ab63fa\",\"#FFA15A\",\"#19d3f3\",\"#FF6692\",\"#B6E880\",\"#FF97FF\",\"#FECB52\"],\"font\":{\"color\":\"#2a3f5f\"},\"hovermode\":\"closest\",\"hoverlabel\":{\"align\":\"left\"},\"paper_bgcolor\":\"white\",\"plot_bgcolor\":\"#E5ECF6\",\"polar\":{\"bgcolor\":\"#E5ECF6\",\"angularaxis\":{\"gridcolor\":\"white\",\"linecolor\":\"white\",\"ticks\":\"\"},\"radialaxis\":{\"gridcolor\":\"white\",\"linecolor\":\"white\",\"ticks\":\"\"}},\"ternary\":{\"bgcolor\":\"#E5ECF6\",\"aaxis\":{\"gridcolor\":\"white\",\"linecolor\":\"white\",\"ticks\":\"\"},\"baxis\":{\"gridcolor\":\"white\",\"linecolor\":\"white\",\"ticks\":\"\"},\"caxis\":{\"gridcolor\":\"white\",\"linecolor\":\"white\",\"ticks\":\"\"}},\"coloraxis\":{\"colorbar\":{\"outlinewidth\":0,\"ticks\":\"\"}},\"colorscale\":{\"sequential\":[[0.0,\"#0d0887\"],[0.1111111111111111,\"#46039f\"],[0.2222222222222222,\"#7201a8\"],[0.3333333333333333,\"#9c179e\"],[0.4444444444444444,\"#bd3786\"],[0.5555555555555556,\"#d8576b\"],[0.6666666666666666,\"#ed7953\"],[0.7777777777777778,\"#fb9f3a\"],[0.8888888888888888,\"#fdca26\"],[1.0,\"#f0f921\"]],\"sequentialminus\":[[0.0,\"#0d0887\"],[0.1111111111111111,\"#46039f\"],[0.2222222222222222,\"#7201a8\"],[0.3333333333333333,\"#9c179e\"],[0.4444444444444444,\"#bd3786\"],[0.5555555555555556,\"#d8576b\"],[0.6666666666666666,\"#ed7953\"],[0.7777777777777778,\"#fb9f3a\"],[0.8888888888888888,\"#fdca26\"],[1.0,\"#f0f921\"]],\"diverging\":[[0,\"#8e0152\"],[0.1,\"#c51b7d\"],[0.2,\"#de77ae\"],[0.3,\"#f1b6da\"],[0.4,\"#fde0ef\"],[0.5,\"#f7f7f7\"],[0.6,\"#e6f5d0\"],[0.7,\"#b8e186\"],[0.8,\"#7fbc41\"],[0.9,\"#4d9221\"],[1,\"#276419\"]]},\"xaxis\":{\"gridcolor\":\"white\",\"linecolor\":\"white\",\"ticks\":\"\",\"title\":{\"standoff\":15},\"zerolinecolor\":\"white\",\"automargin\":true,\"zerolinewidth\":2},\"yaxis\":{\"gridcolor\":\"white\",\"linecolor\":\"white\",\"ticks\":\"\",\"title\":{\"standoff\":15},\"zerolinecolor\":\"white\",\"automargin\":true,\"zerolinewidth\":2},\"scene\":{\"xaxis\":{\"backgroundcolor\":\"#E5ECF6\",\"gridcolor\":\"white\",\"linecolor\":\"white\",\"showbackground\":true,\"ticks\":\"\",\"zerolinecolor\":\"white\",\"gridwidth\":2},\"yaxis\":{\"backgroundcolor\":\"#E5ECF6\",\"gridcolor\":\"white\",\"linecolor\":\"white\",\"showbackground\":true,\"ticks\":\"\",\"zerolinecolor\":\"white\",\"gridwidth\":2},\"zaxis\":{\"backgroundcolor\":\"#E5ECF6\",\"gridcolor\":\"white\",\"linecolor\":\"white\",\"showbackground\":true,\"ticks\":\"\",\"zerolinecolor\":\"white\",\"gridwidth\":2}},\"shapedefaults\":{\"line\":{\"color\":\"#2a3f5f\"}},\"annotationdefaults\":{\"arrowcolor\":\"#2a3f5f\",\"arrowhead\":0,\"arrowwidth\":1},\"geo\":{\"bgcolor\":\"white\",\"landcolor\":\"#E5ECF6\",\"subunitcolor\":\"white\",\"showland\":true,\"showlakes\":true,\"lakecolor\":\"white\"},\"title\":{\"x\":0.05},\"mapbox\":{\"style\":\"light\"}}},\"xaxis\":{\"anchor\":\"y\",\"domain\":[0.0,0.94],\"title\":{\"text\":\"Fecha\"}},\"yaxis\":{\"anchor\":\"x\",\"domain\":[0.0,1.0],\"title\":{\"text\":\"Presi\\u00f3n\"}},\"yaxis2\":{\"anchor\":\"x\",\"overlaying\":\"y\",\"side\":\"right\",\"title\":{\"text\":\"Velocidad\"}}},                        {\"responsive\": true}                    ).then(function(){\n",
       "                            \n",
       "var gd = document.getElementById('c47666f7-90f4-4d45-9457-4982f2f21ad3');\n",
       "var x = new MutationObserver(function (mutations, observer) {{\n",
       "        var display = window.getComputedStyle(gd).display;\n",
       "        if (!display || display === 'none') {{\n",
       "            console.log([gd, 'removed!']);\n",
       "            Plotly.purge(gd);\n",
       "            observer.disconnect();\n",
       "        }}\n",
       "}});\n",
       "\n",
       "// Listen for the removal of the full notebook cells\n",
       "var notebookContainer = gd.closest('#notebook-container');\n",
       "if (notebookContainer) {{\n",
       "    x.observe(notebookContainer, {childList: true});\n",
       "}}\n",
       "\n",
       "// Listen for the clearing of the current output cell\n",
       "var outputEl = gd.closest('.output');\n",
       "if (outputEl) {{\n",
       "    x.observe(outputEl, {childList: true});\n",
       "}}\n",
       "\n",
       "                        })                };                });            </script>        </div>"
      ]
     },
     "metadata": {},
     "output_type": "display_data"
    }
   ],
   "source": [
    "plot_well_behaviour('F 275', df)"
   ]
  },
  {
   "cell_type": "code",
   "execution_count": 13,
   "id": "4ef872fe",
   "metadata": {
    "ExecuteTime": {
     "end_time": "2023-10-23T19:45:49.826642Z",
     "start_time": "2023-10-23T19:45:49.750992Z"
    }
   },
   "outputs": [
    {
     "data": {
      "application/vnd.plotly.v1+json": {
       "config": {
        "plotlyServerURL": "https://plot.ly"
       },
       "data": [
        {
         "name": "Profundidad gas",
         "type": "scatter",
         "x": [
          "2020-09-08T00:00:00",
          "2020-10-07T00:00:00",
          "2020-11-16T00:00:00",
          "2020-12-15T00:00:00",
          "2021-01-08T00:00:00",
          "2021-02-05T00:00:00",
          "2021-03-09T00:00:00",
          "2021-04-09T00:00:00",
          "2021-05-18T00:00:00",
          "2021-06-08T00:00:00",
          "2021-07-07T00:00:00",
          "2021-08-04T00:00:00",
          "2021-09-07T00:00:00",
          "2021-10-06T00:00:00",
          "2021-11-05T00:00:00",
          "2021-12-07T00:00:00",
          "2022-01-07T00:00:00",
          "2022-02-08T00:00:00",
          "2022-03-08T00:00:00",
          "2022-04-08T00:00:00",
          "2022-05-06T00:00:00",
          "2022-06-03T00:00:00",
          "2022-06-30T00:00:00",
          "2022-07-13T00:00:00",
          "2022-08-09T00:00:00",
          "2022-09-08T00:00:00",
          "2022-10-12T00:00:00",
          "2022-11-04T00:00:00",
          "2022-11-15T00:00:00",
          "2022-12-16T00:00:00",
          "2023-01-13T00:00:00",
          "2023-02-16T00:00:00",
          "2023-03-16T00:00:00",
          "2023-04-14T00:00:00"
         ],
         "xaxis": "x",
         "y": [
          1208,
          1237,
          1258,
          1000,
          1024,
          1216,
          1230,
          1241,
          1251,
          1240,
          1244,
          1237,
          1247,
          1236,
          1227,
          1223,
          1238,
          1239,
          1264,
          1269,
          733,
          1213,
          1048,
          974,
          1016,
          1014,
          1003,
          1034,
          1029,
          1037,
          1017,
          1092,
          1062,
          1073
         ],
         "yaxis": "y"
        },
        {
         "name": "Profundidad niveles",
         "type": "scatter",
         "x": [
          "2020-09-08T00:00:00",
          "2020-10-07T00:00:00",
          "2020-11-16T00:00:00",
          "2020-12-15T00:00:00",
          "2021-01-08T00:00:00",
          "2021-02-05T00:00:00",
          "2021-03-09T00:00:00",
          "2021-04-09T00:00:00",
          "2021-05-18T00:00:00",
          "2021-06-08T00:00:00",
          "2021-07-07T00:00:00",
          "2021-08-04T00:00:00",
          "2021-09-07T00:00:00",
          "2021-10-06T00:00:00",
          "2021-11-05T00:00:00",
          "2021-12-07T00:00:00",
          "2022-01-07T00:00:00",
          "2022-02-08T00:00:00",
          "2022-03-08T00:00:00",
          "2022-04-08T00:00:00",
          "2022-05-06T00:00:00",
          "2022-06-03T00:00:00",
          "2022-06-30T00:00:00",
          "2022-07-13T00:00:00",
          "2022-08-09T00:00:00",
          "2022-09-08T00:00:00",
          "2022-10-12T00:00:00",
          "2022-11-04T00:00:00",
          "2022-11-15T00:00:00",
          "2022-12-16T00:00:00",
          "2023-01-13T00:00:00",
          "2023-02-16T00:00:00",
          "2023-03-16T00:00:00",
          "2023-04-14T00:00:00"
         ],
         "xaxis": "x",
         "y": [
          1278,
          1285,
          1292,
          1218,
          1218,
          1272,
          1265,
          1280,
          1288,
          1286,
          1274,
          1256,
          1274,
          1281,
          1274,
          1273,
          1282,
          1273,
          1292,
          1291,
          1010,
          1264,
          1171,
          1158,
          1161,
          1172,
          1133,
          1131,
          1117,
          1129,
          1195,
          1134,
          1108,
          1073
         ],
         "yaxis": "y"
        },
        {
         "name": "Profundidad bomba",
         "type": "scatter",
         "x": [
          "2020-09-08T00:00:00",
          "2020-10-07T00:00:00",
          "2020-11-16T00:00:00",
          "2020-12-15T00:00:00",
          "2021-01-08T00:00:00",
          "2021-02-05T00:00:00",
          "2021-03-09T00:00:00",
          "2021-04-09T00:00:00",
          "2021-05-18T00:00:00",
          "2021-06-08T00:00:00",
          "2021-07-07T00:00:00",
          "2021-08-04T00:00:00",
          "2021-09-07T00:00:00",
          "2021-10-06T00:00:00",
          "2021-11-05T00:00:00",
          "2021-12-07T00:00:00",
          "2022-01-07T00:00:00",
          "2022-02-08T00:00:00",
          "2022-03-08T00:00:00",
          "2022-04-08T00:00:00",
          "2022-05-06T00:00:00",
          "2022-06-03T00:00:00",
          "2022-06-30T00:00:00",
          "2022-07-13T00:00:00",
          "2022-08-09T00:00:00",
          "2022-09-08T00:00:00",
          "2022-10-12T00:00:00",
          "2022-11-04T00:00:00",
          "2022-11-15T00:00:00",
          "2022-12-16T00:00:00",
          "2023-01-13T00:00:00",
          "2023-02-16T00:00:00",
          "2023-03-16T00:00:00",
          "2023-04-14T00:00:00"
         ],
         "xaxis": "x",
         "y": [
          1304.19,
          1304.19,
          1304.19,
          1304.19,
          1304.19,
          1304.19,
          1304.19,
          1304.19,
          1304.19,
          1304.19,
          1304.19,
          1304.19,
          1304.19,
          1304.19,
          1304.19,
          1304.19,
          1304.19,
          1304.19,
          1304.19,
          1304.19,
          1304.19,
          1304.19,
          1304.19,
          1304.19,
          1304.19,
          1304.19,
          1304.19,
          1304.19,
          1304.19,
          1304.19,
          1304.19,
          1304.19,
          1304.19,
          1304.19
         ],
         "yaxis": "y"
        },
        {
         "name": "Velocidad del sonido",
         "type": "scatter",
         "x": [
          "2020-09-08T00:00:00",
          "2020-10-07T00:00:00",
          "2020-11-16T00:00:00",
          "2020-12-15T00:00:00",
          "2021-01-08T00:00:00",
          "2021-02-05T00:00:00",
          "2021-03-09T00:00:00",
          "2021-04-09T00:00:00",
          "2021-05-18T00:00:00",
          "2021-06-08T00:00:00",
          "2021-07-07T00:00:00",
          "2021-08-04T00:00:00",
          "2021-09-07T00:00:00",
          "2021-10-06T00:00:00",
          "2021-11-05T00:00:00",
          "2021-12-07T00:00:00",
          "2022-01-07T00:00:00",
          "2022-02-08T00:00:00",
          "2022-03-08T00:00:00",
          "2022-04-08T00:00:00",
          "2022-05-06T00:00:00",
          "2022-06-03T00:00:00",
          "2022-06-30T00:00:00",
          "2022-07-13T00:00:00",
          "2022-08-09T00:00:00",
          "2022-09-08T00:00:00",
          "2022-10-12T00:00:00",
          "2022-11-04T00:00:00",
          "2022-11-15T00:00:00",
          "2022-12-16T00:00:00",
          "2023-01-13T00:00:00",
          "2023-02-16T00:00:00",
          "2023-03-16T00:00:00",
          "2023-04-14T00:00:00"
         ],
         "xaxis": "x",
         "y": [
          291,
          296,
          297,
          293,
          303,
          290,
          295,
          297,
          297,
          291,
          299,
          297,
          296,
          293,
          291,
          293,
          291,
          293,
          293,
          296,
          307,
          283,
          295,
          283,
          293,
          291,
          284,
          285,
          285,
          284,
          276,
          322,
          274,
          285
         ],
         "yaxis": "y2"
        }
       ],
       "layout": {
        "template": {
         "data": {
          "bar": [
           {
            "error_x": {
             "color": "#2a3f5f"
            },
            "error_y": {
             "color": "#2a3f5f"
            },
            "marker": {
             "line": {
              "color": "#E5ECF6",
              "width": 0.5
             },
             "pattern": {
              "fillmode": "overlay",
              "size": 10,
              "solidity": 0.2
             }
            },
            "type": "bar"
           }
          ],
          "barpolar": [
           {
            "marker": {
             "line": {
              "color": "#E5ECF6",
              "width": 0.5
             },
             "pattern": {
              "fillmode": "overlay",
              "size": 10,
              "solidity": 0.2
             }
            },
            "type": "barpolar"
           }
          ],
          "carpet": [
           {
            "aaxis": {
             "endlinecolor": "#2a3f5f",
             "gridcolor": "white",
             "linecolor": "white",
             "minorgridcolor": "white",
             "startlinecolor": "#2a3f5f"
            },
            "baxis": {
             "endlinecolor": "#2a3f5f",
             "gridcolor": "white",
             "linecolor": "white",
             "minorgridcolor": "white",
             "startlinecolor": "#2a3f5f"
            },
            "type": "carpet"
           }
          ],
          "choropleth": [
           {
            "colorbar": {
             "outlinewidth": 0,
             "ticks": ""
            },
            "type": "choropleth"
           }
          ],
          "contour": [
           {
            "colorbar": {
             "outlinewidth": 0,
             "ticks": ""
            },
            "colorscale": [
             [
              0,
              "#0d0887"
             ],
             [
              0.1111111111111111,
              "#46039f"
             ],
             [
              0.2222222222222222,
              "#7201a8"
             ],
             [
              0.3333333333333333,
              "#9c179e"
             ],
             [
              0.4444444444444444,
              "#bd3786"
             ],
             [
              0.5555555555555556,
              "#d8576b"
             ],
             [
              0.6666666666666666,
              "#ed7953"
             ],
             [
              0.7777777777777778,
              "#fb9f3a"
             ],
             [
              0.8888888888888888,
              "#fdca26"
             ],
             [
              1,
              "#f0f921"
             ]
            ],
            "type": "contour"
           }
          ],
          "contourcarpet": [
           {
            "colorbar": {
             "outlinewidth": 0,
             "ticks": ""
            },
            "type": "contourcarpet"
           }
          ],
          "heatmap": [
           {
            "colorbar": {
             "outlinewidth": 0,
             "ticks": ""
            },
            "colorscale": [
             [
              0,
              "#0d0887"
             ],
             [
              0.1111111111111111,
              "#46039f"
             ],
             [
              0.2222222222222222,
              "#7201a8"
             ],
             [
              0.3333333333333333,
              "#9c179e"
             ],
             [
              0.4444444444444444,
              "#bd3786"
             ],
             [
              0.5555555555555556,
              "#d8576b"
             ],
             [
              0.6666666666666666,
              "#ed7953"
             ],
             [
              0.7777777777777778,
              "#fb9f3a"
             ],
             [
              0.8888888888888888,
              "#fdca26"
             ],
             [
              1,
              "#f0f921"
             ]
            ],
            "type": "heatmap"
           }
          ],
          "heatmapgl": [
           {
            "colorbar": {
             "outlinewidth": 0,
             "ticks": ""
            },
            "colorscale": [
             [
              0,
              "#0d0887"
             ],
             [
              0.1111111111111111,
              "#46039f"
             ],
             [
              0.2222222222222222,
              "#7201a8"
             ],
             [
              0.3333333333333333,
              "#9c179e"
             ],
             [
              0.4444444444444444,
              "#bd3786"
             ],
             [
              0.5555555555555556,
              "#d8576b"
             ],
             [
              0.6666666666666666,
              "#ed7953"
             ],
             [
              0.7777777777777778,
              "#fb9f3a"
             ],
             [
              0.8888888888888888,
              "#fdca26"
             ],
             [
              1,
              "#f0f921"
             ]
            ],
            "type": "heatmapgl"
           }
          ],
          "histogram": [
           {
            "marker": {
             "pattern": {
              "fillmode": "overlay",
              "size": 10,
              "solidity": 0.2
             }
            },
            "type": "histogram"
           }
          ],
          "histogram2d": [
           {
            "colorbar": {
             "outlinewidth": 0,
             "ticks": ""
            },
            "colorscale": [
             [
              0,
              "#0d0887"
             ],
             [
              0.1111111111111111,
              "#46039f"
             ],
             [
              0.2222222222222222,
              "#7201a8"
             ],
             [
              0.3333333333333333,
              "#9c179e"
             ],
             [
              0.4444444444444444,
              "#bd3786"
             ],
             [
              0.5555555555555556,
              "#d8576b"
             ],
             [
              0.6666666666666666,
              "#ed7953"
             ],
             [
              0.7777777777777778,
              "#fb9f3a"
             ],
             [
              0.8888888888888888,
              "#fdca26"
             ],
             [
              1,
              "#f0f921"
             ]
            ],
            "type": "histogram2d"
           }
          ],
          "histogram2dcontour": [
           {
            "colorbar": {
             "outlinewidth": 0,
             "ticks": ""
            },
            "colorscale": [
             [
              0,
              "#0d0887"
             ],
             [
              0.1111111111111111,
              "#46039f"
             ],
             [
              0.2222222222222222,
              "#7201a8"
             ],
             [
              0.3333333333333333,
              "#9c179e"
             ],
             [
              0.4444444444444444,
              "#bd3786"
             ],
             [
              0.5555555555555556,
              "#d8576b"
             ],
             [
              0.6666666666666666,
              "#ed7953"
             ],
             [
              0.7777777777777778,
              "#fb9f3a"
             ],
             [
              0.8888888888888888,
              "#fdca26"
             ],
             [
              1,
              "#f0f921"
             ]
            ],
            "type": "histogram2dcontour"
           }
          ],
          "mesh3d": [
           {
            "colorbar": {
             "outlinewidth": 0,
             "ticks": ""
            },
            "type": "mesh3d"
           }
          ],
          "parcoords": [
           {
            "line": {
             "colorbar": {
              "outlinewidth": 0,
              "ticks": ""
             }
            },
            "type": "parcoords"
           }
          ],
          "pie": [
           {
            "automargin": true,
            "type": "pie"
           }
          ],
          "scatter": [
           {
            "fillpattern": {
             "fillmode": "overlay",
             "size": 10,
             "solidity": 0.2
            },
            "type": "scatter"
           }
          ],
          "scatter3d": [
           {
            "line": {
             "colorbar": {
              "outlinewidth": 0,
              "ticks": ""
             }
            },
            "marker": {
             "colorbar": {
              "outlinewidth": 0,
              "ticks": ""
             }
            },
            "type": "scatter3d"
           }
          ],
          "scattercarpet": [
           {
            "marker": {
             "colorbar": {
              "outlinewidth": 0,
              "ticks": ""
             }
            },
            "type": "scattercarpet"
           }
          ],
          "scattergeo": [
           {
            "marker": {
             "colorbar": {
              "outlinewidth": 0,
              "ticks": ""
             }
            },
            "type": "scattergeo"
           }
          ],
          "scattergl": [
           {
            "marker": {
             "colorbar": {
              "outlinewidth": 0,
              "ticks": ""
             }
            },
            "type": "scattergl"
           }
          ],
          "scattermapbox": [
           {
            "marker": {
             "colorbar": {
              "outlinewidth": 0,
              "ticks": ""
             }
            },
            "type": "scattermapbox"
           }
          ],
          "scatterpolar": [
           {
            "marker": {
             "colorbar": {
              "outlinewidth": 0,
              "ticks": ""
             }
            },
            "type": "scatterpolar"
           }
          ],
          "scatterpolargl": [
           {
            "marker": {
             "colorbar": {
              "outlinewidth": 0,
              "ticks": ""
             }
            },
            "type": "scatterpolargl"
           }
          ],
          "scatterternary": [
           {
            "marker": {
             "colorbar": {
              "outlinewidth": 0,
              "ticks": ""
             }
            },
            "type": "scatterternary"
           }
          ],
          "surface": [
           {
            "colorbar": {
             "outlinewidth": 0,
             "ticks": ""
            },
            "colorscale": [
             [
              0,
              "#0d0887"
             ],
             [
              0.1111111111111111,
              "#46039f"
             ],
             [
              0.2222222222222222,
              "#7201a8"
             ],
             [
              0.3333333333333333,
              "#9c179e"
             ],
             [
              0.4444444444444444,
              "#bd3786"
             ],
             [
              0.5555555555555556,
              "#d8576b"
             ],
             [
              0.6666666666666666,
              "#ed7953"
             ],
             [
              0.7777777777777778,
              "#fb9f3a"
             ],
             [
              0.8888888888888888,
              "#fdca26"
             ],
             [
              1,
              "#f0f921"
             ]
            ],
            "type": "surface"
           }
          ],
          "table": [
           {
            "cells": {
             "fill": {
              "color": "#EBF0F8"
             },
             "line": {
              "color": "white"
             }
            },
            "header": {
             "fill": {
              "color": "#C8D4E3"
             },
             "line": {
              "color": "white"
             }
            },
            "type": "table"
           }
          ]
         },
         "layout": {
          "annotationdefaults": {
           "arrowcolor": "#2a3f5f",
           "arrowhead": 0,
           "arrowwidth": 1
          },
          "autotypenumbers": "strict",
          "coloraxis": {
           "colorbar": {
            "outlinewidth": 0,
            "ticks": ""
           }
          },
          "colorscale": {
           "diverging": [
            [
             0,
             "#8e0152"
            ],
            [
             0.1,
             "#c51b7d"
            ],
            [
             0.2,
             "#de77ae"
            ],
            [
             0.3,
             "#f1b6da"
            ],
            [
             0.4,
             "#fde0ef"
            ],
            [
             0.5,
             "#f7f7f7"
            ],
            [
             0.6,
             "#e6f5d0"
            ],
            [
             0.7,
             "#b8e186"
            ],
            [
             0.8,
             "#7fbc41"
            ],
            [
             0.9,
             "#4d9221"
            ],
            [
             1,
             "#276419"
            ]
           ],
           "sequential": [
            [
             0,
             "#0d0887"
            ],
            [
             0.1111111111111111,
             "#46039f"
            ],
            [
             0.2222222222222222,
             "#7201a8"
            ],
            [
             0.3333333333333333,
             "#9c179e"
            ],
            [
             0.4444444444444444,
             "#bd3786"
            ],
            [
             0.5555555555555556,
             "#d8576b"
            ],
            [
             0.6666666666666666,
             "#ed7953"
            ],
            [
             0.7777777777777778,
             "#fb9f3a"
            ],
            [
             0.8888888888888888,
             "#fdca26"
            ],
            [
             1,
             "#f0f921"
            ]
           ],
           "sequentialminus": [
            [
             0,
             "#0d0887"
            ],
            [
             0.1111111111111111,
             "#46039f"
            ],
            [
             0.2222222222222222,
             "#7201a8"
            ],
            [
             0.3333333333333333,
             "#9c179e"
            ],
            [
             0.4444444444444444,
             "#bd3786"
            ],
            [
             0.5555555555555556,
             "#d8576b"
            ],
            [
             0.6666666666666666,
             "#ed7953"
            ],
            [
             0.7777777777777778,
             "#fb9f3a"
            ],
            [
             0.8888888888888888,
             "#fdca26"
            ],
            [
             1,
             "#f0f921"
            ]
           ]
          },
          "colorway": [
           "#636efa",
           "#EF553B",
           "#00cc96",
           "#ab63fa",
           "#FFA15A",
           "#19d3f3",
           "#FF6692",
           "#B6E880",
           "#FF97FF",
           "#FECB52"
          ],
          "font": {
           "color": "#2a3f5f"
          },
          "geo": {
           "bgcolor": "white",
           "lakecolor": "white",
           "landcolor": "#E5ECF6",
           "showlakes": true,
           "showland": true,
           "subunitcolor": "white"
          },
          "hoverlabel": {
           "align": "left"
          },
          "hovermode": "closest",
          "mapbox": {
           "style": "light"
          },
          "paper_bgcolor": "white",
          "plot_bgcolor": "#E5ECF6",
          "polar": {
           "angularaxis": {
            "gridcolor": "white",
            "linecolor": "white",
            "ticks": ""
           },
           "bgcolor": "#E5ECF6",
           "radialaxis": {
            "gridcolor": "white",
            "linecolor": "white",
            "ticks": ""
           }
          },
          "scene": {
           "xaxis": {
            "backgroundcolor": "#E5ECF6",
            "gridcolor": "white",
            "gridwidth": 2,
            "linecolor": "white",
            "showbackground": true,
            "ticks": "",
            "zerolinecolor": "white"
           },
           "yaxis": {
            "backgroundcolor": "#E5ECF6",
            "gridcolor": "white",
            "gridwidth": 2,
            "linecolor": "white",
            "showbackground": true,
            "ticks": "",
            "zerolinecolor": "white"
           },
           "zaxis": {
            "backgroundcolor": "#E5ECF6",
            "gridcolor": "white",
            "gridwidth": 2,
            "linecolor": "white",
            "showbackground": true,
            "ticks": "",
            "zerolinecolor": "white"
           }
          },
          "shapedefaults": {
           "line": {
            "color": "#2a3f5f"
           }
          },
          "ternary": {
           "aaxis": {
            "gridcolor": "white",
            "linecolor": "white",
            "ticks": ""
           },
           "baxis": {
            "gridcolor": "white",
            "linecolor": "white",
            "ticks": ""
           },
           "bgcolor": "#E5ECF6",
           "caxis": {
            "gridcolor": "white",
            "linecolor": "white",
            "ticks": ""
           }
          },
          "title": {
           "x": 0.05
          },
          "xaxis": {
           "automargin": true,
           "gridcolor": "white",
           "linecolor": "white",
           "ticks": "",
           "title": {
            "standoff": 15
           },
           "zerolinecolor": "white",
           "zerolinewidth": 2
          },
          "yaxis": {
           "automargin": true,
           "gridcolor": "white",
           "linecolor": "white",
           "ticks": "",
           "title": {
            "standoff": 15
           },
           "zerolinecolor": "white",
           "zerolinewidth": 2
          }
         }
        },
        "title": {
         "text": "Análisis de la evolución de diferentes variables del pozo E 180"
        },
        "xaxis": {
         "anchor": "y",
         "domain": [
          0,
          0.94
         ],
         "title": {
          "text": "Fecha"
         }
        },
        "yaxis": {
         "anchor": "x",
         "domain": [
          0,
          1
         ],
         "title": {
          "text": "Profundidad"
         }
        },
        "yaxis2": {
         "anchor": "x",
         "overlaying": "y",
         "side": "right",
         "title": {
          "text": "Velocidad"
         }
        }
       }
      },
      "text/html": [
       "<div>                            <div id=\"2c5ad414-e7a1-4daa-ad1a-f7acfda75840\" class=\"plotly-graph-div\" style=\"height:525px; width:100%;\"></div>            <script type=\"text/javascript\">                require([\"plotly\"], function(Plotly) {                    window.PLOTLYENV=window.PLOTLYENV || {};                                    if (document.getElementById(\"2c5ad414-e7a1-4daa-ad1a-f7acfda75840\")) {                    Plotly.newPlot(                        \"2c5ad414-e7a1-4daa-ad1a-f7acfda75840\",                        [{\"name\":\"Profundidad gas\",\"x\":[\"2020-09-08T00:00:00\",\"2020-10-07T00:00:00\",\"2020-11-16T00:00:00\",\"2020-12-15T00:00:00\",\"2021-01-08T00:00:00\",\"2021-02-05T00:00:00\",\"2021-03-09T00:00:00\",\"2021-04-09T00:00:00\",\"2021-05-18T00:00:00\",\"2021-06-08T00:00:00\",\"2021-07-07T00:00:00\",\"2021-08-04T00:00:00\",\"2021-09-07T00:00:00\",\"2021-10-06T00:00:00\",\"2021-11-05T00:00:00\",\"2021-12-07T00:00:00\",\"2022-01-07T00:00:00\",\"2022-02-08T00:00:00\",\"2022-03-08T00:00:00\",\"2022-04-08T00:00:00\",\"2022-05-06T00:00:00\",\"2022-06-03T00:00:00\",\"2022-06-30T00:00:00\",\"2022-07-13T00:00:00\",\"2022-08-09T00:00:00\",\"2022-09-08T00:00:00\",\"2022-10-12T00:00:00\",\"2022-11-04T00:00:00\",\"2022-11-15T00:00:00\",\"2022-12-16T00:00:00\",\"2023-01-13T00:00:00\",\"2023-02-16T00:00:00\",\"2023-03-16T00:00:00\",\"2023-04-14T00:00:00\"],\"y\":[1208,1237,1258,1000,1024,1216,1230,1241,1251,1240,1244,1237,1247,1236,1227,1223,1238,1239,1264,1269,733,1213,1048,974,1016,1014,1003,1034,1029,1037,1017,1092,1062,1073],\"type\":\"scatter\",\"xaxis\":\"x\",\"yaxis\":\"y\"},{\"name\":\"Profundidad niveles\",\"x\":[\"2020-09-08T00:00:00\",\"2020-10-07T00:00:00\",\"2020-11-16T00:00:00\",\"2020-12-15T00:00:00\",\"2021-01-08T00:00:00\",\"2021-02-05T00:00:00\",\"2021-03-09T00:00:00\",\"2021-04-09T00:00:00\",\"2021-05-18T00:00:00\",\"2021-06-08T00:00:00\",\"2021-07-07T00:00:00\",\"2021-08-04T00:00:00\",\"2021-09-07T00:00:00\",\"2021-10-06T00:00:00\",\"2021-11-05T00:00:00\",\"2021-12-07T00:00:00\",\"2022-01-07T00:00:00\",\"2022-02-08T00:00:00\",\"2022-03-08T00:00:00\",\"2022-04-08T00:00:00\",\"2022-05-06T00:00:00\",\"2022-06-03T00:00:00\",\"2022-06-30T00:00:00\",\"2022-07-13T00:00:00\",\"2022-08-09T00:00:00\",\"2022-09-08T00:00:00\",\"2022-10-12T00:00:00\",\"2022-11-04T00:00:00\",\"2022-11-15T00:00:00\",\"2022-12-16T00:00:00\",\"2023-01-13T00:00:00\",\"2023-02-16T00:00:00\",\"2023-03-16T00:00:00\",\"2023-04-14T00:00:00\"],\"y\":[1278,1285,1292,1218,1218,1272,1265,1280,1288,1286,1274,1256,1274,1281,1274,1273,1282,1273,1292,1291,1010,1264,1171,1158,1161,1172,1133,1131,1117,1129,1195,1134,1108,1073],\"type\":\"scatter\",\"xaxis\":\"x\",\"yaxis\":\"y\"},{\"name\":\"Profundidad bomba\",\"x\":[\"2020-09-08T00:00:00\",\"2020-10-07T00:00:00\",\"2020-11-16T00:00:00\",\"2020-12-15T00:00:00\",\"2021-01-08T00:00:00\",\"2021-02-05T00:00:00\",\"2021-03-09T00:00:00\",\"2021-04-09T00:00:00\",\"2021-05-18T00:00:00\",\"2021-06-08T00:00:00\",\"2021-07-07T00:00:00\",\"2021-08-04T00:00:00\",\"2021-09-07T00:00:00\",\"2021-10-06T00:00:00\",\"2021-11-05T00:00:00\",\"2021-12-07T00:00:00\",\"2022-01-07T00:00:00\",\"2022-02-08T00:00:00\",\"2022-03-08T00:00:00\",\"2022-04-08T00:00:00\",\"2022-05-06T00:00:00\",\"2022-06-03T00:00:00\",\"2022-06-30T00:00:00\",\"2022-07-13T00:00:00\",\"2022-08-09T00:00:00\",\"2022-09-08T00:00:00\",\"2022-10-12T00:00:00\",\"2022-11-04T00:00:00\",\"2022-11-15T00:00:00\",\"2022-12-16T00:00:00\",\"2023-01-13T00:00:00\",\"2023-02-16T00:00:00\",\"2023-03-16T00:00:00\",\"2023-04-14T00:00:00\"],\"y\":[1304.19,1304.19,1304.19,1304.19,1304.19,1304.19,1304.19,1304.19,1304.19,1304.19,1304.19,1304.19,1304.19,1304.19,1304.19,1304.19,1304.19,1304.19,1304.19,1304.19,1304.19,1304.19,1304.19,1304.19,1304.19,1304.19,1304.19,1304.19,1304.19,1304.19,1304.19,1304.19,1304.19,1304.19],\"type\":\"scatter\",\"xaxis\":\"x\",\"yaxis\":\"y\"},{\"name\":\"Velocidad del sonido\",\"x\":[\"2020-09-08T00:00:00\",\"2020-10-07T00:00:00\",\"2020-11-16T00:00:00\",\"2020-12-15T00:00:00\",\"2021-01-08T00:00:00\",\"2021-02-05T00:00:00\",\"2021-03-09T00:00:00\",\"2021-04-09T00:00:00\",\"2021-05-18T00:00:00\",\"2021-06-08T00:00:00\",\"2021-07-07T00:00:00\",\"2021-08-04T00:00:00\",\"2021-09-07T00:00:00\",\"2021-10-06T00:00:00\",\"2021-11-05T00:00:00\",\"2021-12-07T00:00:00\",\"2022-01-07T00:00:00\",\"2022-02-08T00:00:00\",\"2022-03-08T00:00:00\",\"2022-04-08T00:00:00\",\"2022-05-06T00:00:00\",\"2022-06-03T00:00:00\",\"2022-06-30T00:00:00\",\"2022-07-13T00:00:00\",\"2022-08-09T00:00:00\",\"2022-09-08T00:00:00\",\"2022-10-12T00:00:00\",\"2022-11-04T00:00:00\",\"2022-11-15T00:00:00\",\"2022-12-16T00:00:00\",\"2023-01-13T00:00:00\",\"2023-02-16T00:00:00\",\"2023-03-16T00:00:00\",\"2023-04-14T00:00:00\"],\"y\":[291,296,297,293,303,290,295,297,297,291,299,297,296,293,291,293,291,293,293,296,307,283,295,283,293,291,284,285,285,284,276,322,274,285],\"type\":\"scatter\",\"xaxis\":\"x\",\"yaxis\":\"y2\"}],                        {\"template\":{\"data\":{\"histogram2dcontour\":[{\"type\":\"histogram2dcontour\",\"colorbar\":{\"outlinewidth\":0,\"ticks\":\"\"},\"colorscale\":[[0.0,\"#0d0887\"],[0.1111111111111111,\"#46039f\"],[0.2222222222222222,\"#7201a8\"],[0.3333333333333333,\"#9c179e\"],[0.4444444444444444,\"#bd3786\"],[0.5555555555555556,\"#d8576b\"],[0.6666666666666666,\"#ed7953\"],[0.7777777777777778,\"#fb9f3a\"],[0.8888888888888888,\"#fdca26\"],[1.0,\"#f0f921\"]]}],\"choropleth\":[{\"type\":\"choropleth\",\"colorbar\":{\"outlinewidth\":0,\"ticks\":\"\"}}],\"histogram2d\":[{\"type\":\"histogram2d\",\"colorbar\":{\"outlinewidth\":0,\"ticks\":\"\"},\"colorscale\":[[0.0,\"#0d0887\"],[0.1111111111111111,\"#46039f\"],[0.2222222222222222,\"#7201a8\"],[0.3333333333333333,\"#9c179e\"],[0.4444444444444444,\"#bd3786\"],[0.5555555555555556,\"#d8576b\"],[0.6666666666666666,\"#ed7953\"],[0.7777777777777778,\"#fb9f3a\"],[0.8888888888888888,\"#fdca26\"],[1.0,\"#f0f921\"]]}],\"heatmap\":[{\"type\":\"heatmap\",\"colorbar\":{\"outlinewidth\":0,\"ticks\":\"\"},\"colorscale\":[[0.0,\"#0d0887\"],[0.1111111111111111,\"#46039f\"],[0.2222222222222222,\"#7201a8\"],[0.3333333333333333,\"#9c179e\"],[0.4444444444444444,\"#bd3786\"],[0.5555555555555556,\"#d8576b\"],[0.6666666666666666,\"#ed7953\"],[0.7777777777777778,\"#fb9f3a\"],[0.8888888888888888,\"#fdca26\"],[1.0,\"#f0f921\"]]}],\"heatmapgl\":[{\"type\":\"heatmapgl\",\"colorbar\":{\"outlinewidth\":0,\"ticks\":\"\"},\"colorscale\":[[0.0,\"#0d0887\"],[0.1111111111111111,\"#46039f\"],[0.2222222222222222,\"#7201a8\"],[0.3333333333333333,\"#9c179e\"],[0.4444444444444444,\"#bd3786\"],[0.5555555555555556,\"#d8576b\"],[0.6666666666666666,\"#ed7953\"],[0.7777777777777778,\"#fb9f3a\"],[0.8888888888888888,\"#fdca26\"],[1.0,\"#f0f921\"]]}],\"contourcarpet\":[{\"type\":\"contourcarpet\",\"colorbar\":{\"outlinewidth\":0,\"ticks\":\"\"}}],\"contour\":[{\"type\":\"contour\",\"colorbar\":{\"outlinewidth\":0,\"ticks\":\"\"},\"colorscale\":[[0.0,\"#0d0887\"],[0.1111111111111111,\"#46039f\"],[0.2222222222222222,\"#7201a8\"],[0.3333333333333333,\"#9c179e\"],[0.4444444444444444,\"#bd3786\"],[0.5555555555555556,\"#d8576b\"],[0.6666666666666666,\"#ed7953\"],[0.7777777777777778,\"#fb9f3a\"],[0.8888888888888888,\"#fdca26\"],[1.0,\"#f0f921\"]]}],\"surface\":[{\"type\":\"surface\",\"colorbar\":{\"outlinewidth\":0,\"ticks\":\"\"},\"colorscale\":[[0.0,\"#0d0887\"],[0.1111111111111111,\"#46039f\"],[0.2222222222222222,\"#7201a8\"],[0.3333333333333333,\"#9c179e\"],[0.4444444444444444,\"#bd3786\"],[0.5555555555555556,\"#d8576b\"],[0.6666666666666666,\"#ed7953\"],[0.7777777777777778,\"#fb9f3a\"],[0.8888888888888888,\"#fdca26\"],[1.0,\"#f0f921\"]]}],\"mesh3d\":[{\"type\":\"mesh3d\",\"colorbar\":{\"outlinewidth\":0,\"ticks\":\"\"}}],\"scatter\":[{\"fillpattern\":{\"fillmode\":\"overlay\",\"size\":10,\"solidity\":0.2},\"type\":\"scatter\"}],\"parcoords\":[{\"type\":\"parcoords\",\"line\":{\"colorbar\":{\"outlinewidth\":0,\"ticks\":\"\"}}}],\"scatterpolargl\":[{\"type\":\"scatterpolargl\",\"marker\":{\"colorbar\":{\"outlinewidth\":0,\"ticks\":\"\"}}}],\"bar\":[{\"error_x\":{\"color\":\"#2a3f5f\"},\"error_y\":{\"color\":\"#2a3f5f\"},\"marker\":{\"line\":{\"color\":\"#E5ECF6\",\"width\":0.5},\"pattern\":{\"fillmode\":\"overlay\",\"size\":10,\"solidity\":0.2}},\"type\":\"bar\"}],\"scattergeo\":[{\"type\":\"scattergeo\",\"marker\":{\"colorbar\":{\"outlinewidth\":0,\"ticks\":\"\"}}}],\"scatterpolar\":[{\"type\":\"scatterpolar\",\"marker\":{\"colorbar\":{\"outlinewidth\":0,\"ticks\":\"\"}}}],\"histogram\":[{\"marker\":{\"pattern\":{\"fillmode\":\"overlay\",\"size\":10,\"solidity\":0.2}},\"type\":\"histogram\"}],\"scattergl\":[{\"type\":\"scattergl\",\"marker\":{\"colorbar\":{\"outlinewidth\":0,\"ticks\":\"\"}}}],\"scatter3d\":[{\"type\":\"scatter3d\",\"line\":{\"colorbar\":{\"outlinewidth\":0,\"ticks\":\"\"}},\"marker\":{\"colorbar\":{\"outlinewidth\":0,\"ticks\":\"\"}}}],\"scattermapbox\":[{\"type\":\"scattermapbox\",\"marker\":{\"colorbar\":{\"outlinewidth\":0,\"ticks\":\"\"}}}],\"scatterternary\":[{\"type\":\"scatterternary\",\"marker\":{\"colorbar\":{\"outlinewidth\":0,\"ticks\":\"\"}}}],\"scattercarpet\":[{\"type\":\"scattercarpet\",\"marker\":{\"colorbar\":{\"outlinewidth\":0,\"ticks\":\"\"}}}],\"carpet\":[{\"aaxis\":{\"endlinecolor\":\"#2a3f5f\",\"gridcolor\":\"white\",\"linecolor\":\"white\",\"minorgridcolor\":\"white\",\"startlinecolor\":\"#2a3f5f\"},\"baxis\":{\"endlinecolor\":\"#2a3f5f\",\"gridcolor\":\"white\",\"linecolor\":\"white\",\"minorgridcolor\":\"white\",\"startlinecolor\":\"#2a3f5f\"},\"type\":\"carpet\"}],\"table\":[{\"cells\":{\"fill\":{\"color\":\"#EBF0F8\"},\"line\":{\"color\":\"white\"}},\"header\":{\"fill\":{\"color\":\"#C8D4E3\"},\"line\":{\"color\":\"white\"}},\"type\":\"table\"}],\"barpolar\":[{\"marker\":{\"line\":{\"color\":\"#E5ECF6\",\"width\":0.5},\"pattern\":{\"fillmode\":\"overlay\",\"size\":10,\"solidity\":0.2}},\"type\":\"barpolar\"}],\"pie\":[{\"automargin\":true,\"type\":\"pie\"}]},\"layout\":{\"autotypenumbers\":\"strict\",\"colorway\":[\"#636efa\",\"#EF553B\",\"#00cc96\",\"#ab63fa\",\"#FFA15A\",\"#19d3f3\",\"#FF6692\",\"#B6E880\",\"#FF97FF\",\"#FECB52\"],\"font\":{\"color\":\"#2a3f5f\"},\"hovermode\":\"closest\",\"hoverlabel\":{\"align\":\"left\"},\"paper_bgcolor\":\"white\",\"plot_bgcolor\":\"#E5ECF6\",\"polar\":{\"bgcolor\":\"#E5ECF6\",\"angularaxis\":{\"gridcolor\":\"white\",\"linecolor\":\"white\",\"ticks\":\"\"},\"radialaxis\":{\"gridcolor\":\"white\",\"linecolor\":\"white\",\"ticks\":\"\"}},\"ternary\":{\"bgcolor\":\"#E5ECF6\",\"aaxis\":{\"gridcolor\":\"white\",\"linecolor\":\"white\",\"ticks\":\"\"},\"baxis\":{\"gridcolor\":\"white\",\"linecolor\":\"white\",\"ticks\":\"\"},\"caxis\":{\"gridcolor\":\"white\",\"linecolor\":\"white\",\"ticks\":\"\"}},\"coloraxis\":{\"colorbar\":{\"outlinewidth\":0,\"ticks\":\"\"}},\"colorscale\":{\"sequential\":[[0.0,\"#0d0887\"],[0.1111111111111111,\"#46039f\"],[0.2222222222222222,\"#7201a8\"],[0.3333333333333333,\"#9c179e\"],[0.4444444444444444,\"#bd3786\"],[0.5555555555555556,\"#d8576b\"],[0.6666666666666666,\"#ed7953\"],[0.7777777777777778,\"#fb9f3a\"],[0.8888888888888888,\"#fdca26\"],[1.0,\"#f0f921\"]],\"sequentialminus\":[[0.0,\"#0d0887\"],[0.1111111111111111,\"#46039f\"],[0.2222222222222222,\"#7201a8\"],[0.3333333333333333,\"#9c179e\"],[0.4444444444444444,\"#bd3786\"],[0.5555555555555556,\"#d8576b\"],[0.6666666666666666,\"#ed7953\"],[0.7777777777777778,\"#fb9f3a\"],[0.8888888888888888,\"#fdca26\"],[1.0,\"#f0f921\"]],\"diverging\":[[0,\"#8e0152\"],[0.1,\"#c51b7d\"],[0.2,\"#de77ae\"],[0.3,\"#f1b6da\"],[0.4,\"#fde0ef\"],[0.5,\"#f7f7f7\"],[0.6,\"#e6f5d0\"],[0.7,\"#b8e186\"],[0.8,\"#7fbc41\"],[0.9,\"#4d9221\"],[1,\"#276419\"]]},\"xaxis\":{\"gridcolor\":\"white\",\"linecolor\":\"white\",\"ticks\":\"\",\"title\":{\"standoff\":15},\"zerolinecolor\":\"white\",\"automargin\":true,\"zerolinewidth\":2},\"yaxis\":{\"gridcolor\":\"white\",\"linecolor\":\"white\",\"ticks\":\"\",\"title\":{\"standoff\":15},\"zerolinecolor\":\"white\",\"automargin\":true,\"zerolinewidth\":2},\"scene\":{\"xaxis\":{\"backgroundcolor\":\"#E5ECF6\",\"gridcolor\":\"white\",\"linecolor\":\"white\",\"showbackground\":true,\"ticks\":\"\",\"zerolinecolor\":\"white\",\"gridwidth\":2},\"yaxis\":{\"backgroundcolor\":\"#E5ECF6\",\"gridcolor\":\"white\",\"linecolor\":\"white\",\"showbackground\":true,\"ticks\":\"\",\"zerolinecolor\":\"white\",\"gridwidth\":2},\"zaxis\":{\"backgroundcolor\":\"#E5ECF6\",\"gridcolor\":\"white\",\"linecolor\":\"white\",\"showbackground\":true,\"ticks\":\"\",\"zerolinecolor\":\"white\",\"gridwidth\":2}},\"shapedefaults\":{\"line\":{\"color\":\"#2a3f5f\"}},\"annotationdefaults\":{\"arrowcolor\":\"#2a3f5f\",\"arrowhead\":0,\"arrowwidth\":1},\"geo\":{\"bgcolor\":\"white\",\"landcolor\":\"#E5ECF6\",\"subunitcolor\":\"white\",\"showland\":true,\"showlakes\":true,\"lakecolor\":\"white\"},\"title\":{\"x\":0.05},\"mapbox\":{\"style\":\"light\"}}},\"xaxis\":{\"anchor\":\"y\",\"domain\":[0.0,0.94],\"title\":{\"text\":\"Fecha\"}},\"yaxis\":{\"anchor\":\"x\",\"domain\":[0.0,1.0],\"title\":{\"text\":\"Profundidad\"}},\"yaxis2\":{\"anchor\":\"x\",\"overlaying\":\"y\",\"side\":\"right\",\"title\":{\"text\":\"Velocidad\"}},\"title\":{\"text\":\"An\\u00e1lisis de la evoluci\\u00f3n de diferentes variables del pozo E 180\"}},                        {\"responsive\": true}                    ).then(function(){\n",
       "                            \n",
       "var gd = document.getElementById('2c5ad414-e7a1-4daa-ad1a-f7acfda75840');\n",
       "var x = new MutationObserver(function (mutations, observer) {{\n",
       "        var display = window.getComputedStyle(gd).display;\n",
       "        if (!display || display === 'none') {{\n",
       "            console.log([gd, 'removed!']);\n",
       "            Plotly.purge(gd);\n",
       "            observer.disconnect();\n",
       "        }}\n",
       "}});\n",
       "\n",
       "// Listen for the removal of the full notebook cells\n",
       "var notebookContainer = gd.closest('#notebook-container');\n",
       "if (notebookContainer) {{\n",
       "    x.observe(notebookContainer, {childList: true});\n",
       "}}\n",
       "\n",
       "// Listen for the clearing of the current output cell\n",
       "var outputEl = gd.closest('.output');\n",
       "if (outputEl) {{\n",
       "    x.observe(outputEl, {childList: true});\n",
       "}}\n",
       "\n",
       "                        })                };                });            </script>        </div>"
      ]
     },
     "metadata": {},
     "output_type": "display_data"
    },
    {
     "data": {
      "application/vnd.plotly.v1+json": {
       "config": {
        "plotlyServerURL": "https://plot.ly"
       },
       "data": [
        {
         "name": "Profundidad bomba",
         "type": "scatter",
         "x": [
          "2020-09-08T00:00:00",
          "2020-10-07T00:00:00",
          "2020-11-16T00:00:00",
          "2020-12-15T00:00:00",
          "2021-01-08T00:00:00",
          "2021-02-05T00:00:00",
          "2021-03-09T00:00:00",
          "2021-04-09T00:00:00",
          "2021-05-18T00:00:00",
          "2021-06-08T00:00:00",
          "2021-07-07T00:00:00",
          "2021-08-04T00:00:00",
          "2021-09-07T00:00:00",
          "2021-10-06T00:00:00",
          "2021-11-05T00:00:00",
          "2021-12-07T00:00:00",
          "2022-01-07T00:00:00",
          "2022-02-08T00:00:00",
          "2022-03-08T00:00:00",
          "2022-04-08T00:00:00",
          "2022-05-06T00:00:00",
          "2022-06-03T00:00:00",
          "2022-06-30T00:00:00",
          "2022-07-13T00:00:00",
          "2022-08-09T00:00:00",
          "2022-09-08T00:00:00",
          "2022-10-12T00:00:00",
          "2022-11-04T00:00:00",
          "2022-11-15T00:00:00",
          "2022-12-16T00:00:00",
          "2023-01-13T00:00:00",
          "2023-02-16T00:00:00",
          "2023-03-16T00:00:00",
          "2023-04-14T00:00:00"
         ],
         "xaxis": "x",
         "y": [
          1304.19,
          1304.19,
          1304.19,
          1304.19,
          1304.19,
          1304.19,
          1304.19,
          1304.19,
          1304.19,
          1304.19,
          1304.19,
          1304.19,
          1304.19,
          1304.19,
          1304.19,
          1304.19,
          1304.19,
          1304.19,
          1304.19,
          1304.19,
          1304.19,
          1304.19,
          1304.19,
          1304.19,
          1304.19,
          1304.19,
          1304.19,
          1304.19,
          1304.19,
          1304.19,
          1304.19,
          1304.19,
          1304.19,
          1304.19
         ],
         "yaxis": "y"
        },
        {
         "name": "Producción petroleo",
         "type": "scatter",
         "x": [
          "2020-09-08T00:00:00",
          "2020-10-07T00:00:00",
          "2020-11-16T00:00:00",
          "2020-12-15T00:00:00",
          "2021-01-08T00:00:00",
          "2021-02-05T00:00:00",
          "2021-03-09T00:00:00",
          "2021-04-09T00:00:00",
          "2021-05-18T00:00:00",
          "2021-06-08T00:00:00",
          "2021-07-07T00:00:00",
          "2021-08-04T00:00:00",
          "2021-09-07T00:00:00",
          "2021-10-06T00:00:00",
          "2021-11-05T00:00:00",
          "2021-12-07T00:00:00",
          "2022-01-07T00:00:00",
          "2022-02-08T00:00:00",
          "2022-03-08T00:00:00",
          "2022-04-08T00:00:00",
          "2022-05-06T00:00:00",
          "2022-06-03T00:00:00",
          "2022-06-30T00:00:00",
          "2022-07-13T00:00:00",
          "2022-08-09T00:00:00",
          "2022-09-08T00:00:00",
          "2022-10-12T00:00:00",
          "2022-11-04T00:00:00",
          "2022-11-15T00:00:00",
          "2022-12-16T00:00:00",
          "2023-01-13T00:00:00",
          "2023-02-16T00:00:00",
          "2023-03-16T00:00:00",
          "2023-04-14T00:00:00"
         ],
         "xaxis": "x",
         "y": [
          28,
          31.5,
          30.4,
          30.4,
          30.4,
          28.1,
          9,
          22.3,
          21.1,
          12.5,
          12.5,
          12.1,
          23.7,
          15.7,
          27,
          21.9,
          24.7,
          23.1,
          11.3,
          12.8,
          20.5,
          14.4,
          14.4,
          15.5,
          16.9,
          12.4,
          10.8,
          11.2,
          11.2,
          8,
          7.8,
          11.5,
          11.4,
          9.1
         ],
         "yaxis": "y2"
        }
       ],
       "layout": {
        "template": {
         "data": {
          "bar": [
           {
            "error_x": {
             "color": "#2a3f5f"
            },
            "error_y": {
             "color": "#2a3f5f"
            },
            "marker": {
             "line": {
              "color": "#E5ECF6",
              "width": 0.5
             },
             "pattern": {
              "fillmode": "overlay",
              "size": 10,
              "solidity": 0.2
             }
            },
            "type": "bar"
           }
          ],
          "barpolar": [
           {
            "marker": {
             "line": {
              "color": "#E5ECF6",
              "width": 0.5
             },
             "pattern": {
              "fillmode": "overlay",
              "size": 10,
              "solidity": 0.2
             }
            },
            "type": "barpolar"
           }
          ],
          "carpet": [
           {
            "aaxis": {
             "endlinecolor": "#2a3f5f",
             "gridcolor": "white",
             "linecolor": "white",
             "minorgridcolor": "white",
             "startlinecolor": "#2a3f5f"
            },
            "baxis": {
             "endlinecolor": "#2a3f5f",
             "gridcolor": "white",
             "linecolor": "white",
             "minorgridcolor": "white",
             "startlinecolor": "#2a3f5f"
            },
            "type": "carpet"
           }
          ],
          "choropleth": [
           {
            "colorbar": {
             "outlinewidth": 0,
             "ticks": ""
            },
            "type": "choropleth"
           }
          ],
          "contour": [
           {
            "colorbar": {
             "outlinewidth": 0,
             "ticks": ""
            },
            "colorscale": [
             [
              0,
              "#0d0887"
             ],
             [
              0.1111111111111111,
              "#46039f"
             ],
             [
              0.2222222222222222,
              "#7201a8"
             ],
             [
              0.3333333333333333,
              "#9c179e"
             ],
             [
              0.4444444444444444,
              "#bd3786"
             ],
             [
              0.5555555555555556,
              "#d8576b"
             ],
             [
              0.6666666666666666,
              "#ed7953"
             ],
             [
              0.7777777777777778,
              "#fb9f3a"
             ],
             [
              0.8888888888888888,
              "#fdca26"
             ],
             [
              1,
              "#f0f921"
             ]
            ],
            "type": "contour"
           }
          ],
          "contourcarpet": [
           {
            "colorbar": {
             "outlinewidth": 0,
             "ticks": ""
            },
            "type": "contourcarpet"
           }
          ],
          "heatmap": [
           {
            "colorbar": {
             "outlinewidth": 0,
             "ticks": ""
            },
            "colorscale": [
             [
              0,
              "#0d0887"
             ],
             [
              0.1111111111111111,
              "#46039f"
             ],
             [
              0.2222222222222222,
              "#7201a8"
             ],
             [
              0.3333333333333333,
              "#9c179e"
             ],
             [
              0.4444444444444444,
              "#bd3786"
             ],
             [
              0.5555555555555556,
              "#d8576b"
             ],
             [
              0.6666666666666666,
              "#ed7953"
             ],
             [
              0.7777777777777778,
              "#fb9f3a"
             ],
             [
              0.8888888888888888,
              "#fdca26"
             ],
             [
              1,
              "#f0f921"
             ]
            ],
            "type": "heatmap"
           }
          ],
          "heatmapgl": [
           {
            "colorbar": {
             "outlinewidth": 0,
             "ticks": ""
            },
            "colorscale": [
             [
              0,
              "#0d0887"
             ],
             [
              0.1111111111111111,
              "#46039f"
             ],
             [
              0.2222222222222222,
              "#7201a8"
             ],
             [
              0.3333333333333333,
              "#9c179e"
             ],
             [
              0.4444444444444444,
              "#bd3786"
             ],
             [
              0.5555555555555556,
              "#d8576b"
             ],
             [
              0.6666666666666666,
              "#ed7953"
             ],
             [
              0.7777777777777778,
              "#fb9f3a"
             ],
             [
              0.8888888888888888,
              "#fdca26"
             ],
             [
              1,
              "#f0f921"
             ]
            ],
            "type": "heatmapgl"
           }
          ],
          "histogram": [
           {
            "marker": {
             "pattern": {
              "fillmode": "overlay",
              "size": 10,
              "solidity": 0.2
             }
            },
            "type": "histogram"
           }
          ],
          "histogram2d": [
           {
            "colorbar": {
             "outlinewidth": 0,
             "ticks": ""
            },
            "colorscale": [
             [
              0,
              "#0d0887"
             ],
             [
              0.1111111111111111,
              "#46039f"
             ],
             [
              0.2222222222222222,
              "#7201a8"
             ],
             [
              0.3333333333333333,
              "#9c179e"
             ],
             [
              0.4444444444444444,
              "#bd3786"
             ],
             [
              0.5555555555555556,
              "#d8576b"
             ],
             [
              0.6666666666666666,
              "#ed7953"
             ],
             [
              0.7777777777777778,
              "#fb9f3a"
             ],
             [
              0.8888888888888888,
              "#fdca26"
             ],
             [
              1,
              "#f0f921"
             ]
            ],
            "type": "histogram2d"
           }
          ],
          "histogram2dcontour": [
           {
            "colorbar": {
             "outlinewidth": 0,
             "ticks": ""
            },
            "colorscale": [
             [
              0,
              "#0d0887"
             ],
             [
              0.1111111111111111,
              "#46039f"
             ],
             [
              0.2222222222222222,
              "#7201a8"
             ],
             [
              0.3333333333333333,
              "#9c179e"
             ],
             [
              0.4444444444444444,
              "#bd3786"
             ],
             [
              0.5555555555555556,
              "#d8576b"
             ],
             [
              0.6666666666666666,
              "#ed7953"
             ],
             [
              0.7777777777777778,
              "#fb9f3a"
             ],
             [
              0.8888888888888888,
              "#fdca26"
             ],
             [
              1,
              "#f0f921"
             ]
            ],
            "type": "histogram2dcontour"
           }
          ],
          "mesh3d": [
           {
            "colorbar": {
             "outlinewidth": 0,
             "ticks": ""
            },
            "type": "mesh3d"
           }
          ],
          "parcoords": [
           {
            "line": {
             "colorbar": {
              "outlinewidth": 0,
              "ticks": ""
             }
            },
            "type": "parcoords"
           }
          ],
          "pie": [
           {
            "automargin": true,
            "type": "pie"
           }
          ],
          "scatter": [
           {
            "fillpattern": {
             "fillmode": "overlay",
             "size": 10,
             "solidity": 0.2
            },
            "type": "scatter"
           }
          ],
          "scatter3d": [
           {
            "line": {
             "colorbar": {
              "outlinewidth": 0,
              "ticks": ""
             }
            },
            "marker": {
             "colorbar": {
              "outlinewidth": 0,
              "ticks": ""
             }
            },
            "type": "scatter3d"
           }
          ],
          "scattercarpet": [
           {
            "marker": {
             "colorbar": {
              "outlinewidth": 0,
              "ticks": ""
             }
            },
            "type": "scattercarpet"
           }
          ],
          "scattergeo": [
           {
            "marker": {
             "colorbar": {
              "outlinewidth": 0,
              "ticks": ""
             }
            },
            "type": "scattergeo"
           }
          ],
          "scattergl": [
           {
            "marker": {
             "colorbar": {
              "outlinewidth": 0,
              "ticks": ""
             }
            },
            "type": "scattergl"
           }
          ],
          "scattermapbox": [
           {
            "marker": {
             "colorbar": {
              "outlinewidth": 0,
              "ticks": ""
             }
            },
            "type": "scattermapbox"
           }
          ],
          "scatterpolar": [
           {
            "marker": {
             "colorbar": {
              "outlinewidth": 0,
              "ticks": ""
             }
            },
            "type": "scatterpolar"
           }
          ],
          "scatterpolargl": [
           {
            "marker": {
             "colorbar": {
              "outlinewidth": 0,
              "ticks": ""
             }
            },
            "type": "scatterpolargl"
           }
          ],
          "scatterternary": [
           {
            "marker": {
             "colorbar": {
              "outlinewidth": 0,
              "ticks": ""
             }
            },
            "type": "scatterternary"
           }
          ],
          "surface": [
           {
            "colorbar": {
             "outlinewidth": 0,
             "ticks": ""
            },
            "colorscale": [
             [
              0,
              "#0d0887"
             ],
             [
              0.1111111111111111,
              "#46039f"
             ],
             [
              0.2222222222222222,
              "#7201a8"
             ],
             [
              0.3333333333333333,
              "#9c179e"
             ],
             [
              0.4444444444444444,
              "#bd3786"
             ],
             [
              0.5555555555555556,
              "#d8576b"
             ],
             [
              0.6666666666666666,
              "#ed7953"
             ],
             [
              0.7777777777777778,
              "#fb9f3a"
             ],
             [
              0.8888888888888888,
              "#fdca26"
             ],
             [
              1,
              "#f0f921"
             ]
            ],
            "type": "surface"
           }
          ],
          "table": [
           {
            "cells": {
             "fill": {
              "color": "#EBF0F8"
             },
             "line": {
              "color": "white"
             }
            },
            "header": {
             "fill": {
              "color": "#C8D4E3"
             },
             "line": {
              "color": "white"
             }
            },
            "type": "table"
           }
          ]
         },
         "layout": {
          "annotationdefaults": {
           "arrowcolor": "#2a3f5f",
           "arrowhead": 0,
           "arrowwidth": 1
          },
          "autotypenumbers": "strict",
          "coloraxis": {
           "colorbar": {
            "outlinewidth": 0,
            "ticks": ""
           }
          },
          "colorscale": {
           "diverging": [
            [
             0,
             "#8e0152"
            ],
            [
             0.1,
             "#c51b7d"
            ],
            [
             0.2,
             "#de77ae"
            ],
            [
             0.3,
             "#f1b6da"
            ],
            [
             0.4,
             "#fde0ef"
            ],
            [
             0.5,
             "#f7f7f7"
            ],
            [
             0.6,
             "#e6f5d0"
            ],
            [
             0.7,
             "#b8e186"
            ],
            [
             0.8,
             "#7fbc41"
            ],
            [
             0.9,
             "#4d9221"
            ],
            [
             1,
             "#276419"
            ]
           ],
           "sequential": [
            [
             0,
             "#0d0887"
            ],
            [
             0.1111111111111111,
             "#46039f"
            ],
            [
             0.2222222222222222,
             "#7201a8"
            ],
            [
             0.3333333333333333,
             "#9c179e"
            ],
            [
             0.4444444444444444,
             "#bd3786"
            ],
            [
             0.5555555555555556,
             "#d8576b"
            ],
            [
             0.6666666666666666,
             "#ed7953"
            ],
            [
             0.7777777777777778,
             "#fb9f3a"
            ],
            [
             0.8888888888888888,
             "#fdca26"
            ],
            [
             1,
             "#f0f921"
            ]
           ],
           "sequentialminus": [
            [
             0,
             "#0d0887"
            ],
            [
             0.1111111111111111,
             "#46039f"
            ],
            [
             0.2222222222222222,
             "#7201a8"
            ],
            [
             0.3333333333333333,
             "#9c179e"
            ],
            [
             0.4444444444444444,
             "#bd3786"
            ],
            [
             0.5555555555555556,
             "#d8576b"
            ],
            [
             0.6666666666666666,
             "#ed7953"
            ],
            [
             0.7777777777777778,
             "#fb9f3a"
            ],
            [
             0.8888888888888888,
             "#fdca26"
            ],
            [
             1,
             "#f0f921"
            ]
           ]
          },
          "colorway": [
           "#636efa",
           "#EF553B",
           "#00cc96",
           "#ab63fa",
           "#FFA15A",
           "#19d3f3",
           "#FF6692",
           "#B6E880",
           "#FF97FF",
           "#FECB52"
          ],
          "font": {
           "color": "#2a3f5f"
          },
          "geo": {
           "bgcolor": "white",
           "lakecolor": "white",
           "landcolor": "#E5ECF6",
           "showlakes": true,
           "showland": true,
           "subunitcolor": "white"
          },
          "hoverlabel": {
           "align": "left"
          },
          "hovermode": "closest",
          "mapbox": {
           "style": "light"
          },
          "paper_bgcolor": "white",
          "plot_bgcolor": "#E5ECF6",
          "polar": {
           "angularaxis": {
            "gridcolor": "white",
            "linecolor": "white",
            "ticks": ""
           },
           "bgcolor": "#E5ECF6",
           "radialaxis": {
            "gridcolor": "white",
            "linecolor": "white",
            "ticks": ""
           }
          },
          "scene": {
           "xaxis": {
            "backgroundcolor": "#E5ECF6",
            "gridcolor": "white",
            "gridwidth": 2,
            "linecolor": "white",
            "showbackground": true,
            "ticks": "",
            "zerolinecolor": "white"
           },
           "yaxis": {
            "backgroundcolor": "#E5ECF6",
            "gridcolor": "white",
            "gridwidth": 2,
            "linecolor": "white",
            "showbackground": true,
            "ticks": "",
            "zerolinecolor": "white"
           },
           "zaxis": {
            "backgroundcolor": "#E5ECF6",
            "gridcolor": "white",
            "gridwidth": 2,
            "linecolor": "white",
            "showbackground": true,
            "ticks": "",
            "zerolinecolor": "white"
           }
          },
          "shapedefaults": {
           "line": {
            "color": "#2a3f5f"
           }
          },
          "ternary": {
           "aaxis": {
            "gridcolor": "white",
            "linecolor": "white",
            "ticks": ""
           },
           "baxis": {
            "gridcolor": "white",
            "linecolor": "white",
            "ticks": ""
           },
           "bgcolor": "#E5ECF6",
           "caxis": {
            "gridcolor": "white",
            "linecolor": "white",
            "ticks": ""
           }
          },
          "title": {
           "x": 0.05
          },
          "xaxis": {
           "automargin": true,
           "gridcolor": "white",
           "linecolor": "white",
           "ticks": "",
           "title": {
            "standoff": 15
           },
           "zerolinecolor": "white",
           "zerolinewidth": 2
          },
          "yaxis": {
           "automargin": true,
           "gridcolor": "white",
           "linecolor": "white",
           "ticks": "",
           "title": {
            "standoff": 15
           },
           "zerolinecolor": "white",
           "zerolinewidth": 2
          }
         }
        },
        "xaxis": {
         "anchor": "y",
         "domain": [
          0,
          0.94
         ],
         "title": {
          "text": "Fecha"
         }
        },
        "yaxis": {
         "anchor": "x",
         "domain": [
          0,
          1
         ],
         "title": {
          "text": "Profundidad"
         }
        },
        "yaxis2": {
         "anchor": "x",
         "overlaying": "y",
         "side": "right",
         "title": {
          "text": "Producción"
         }
        }
       }
      },
      "text/html": [
       "<div>                            <div id=\"aeaf9623-412c-48f3-9677-5bff1b2b7c00\" class=\"plotly-graph-div\" style=\"height:525px; width:100%;\"></div>            <script type=\"text/javascript\">                require([\"plotly\"], function(Plotly) {                    window.PLOTLYENV=window.PLOTLYENV || {};                                    if (document.getElementById(\"aeaf9623-412c-48f3-9677-5bff1b2b7c00\")) {                    Plotly.newPlot(                        \"aeaf9623-412c-48f3-9677-5bff1b2b7c00\",                        [{\"name\":\"Profundidad bomba\",\"x\":[\"2020-09-08T00:00:00\",\"2020-10-07T00:00:00\",\"2020-11-16T00:00:00\",\"2020-12-15T00:00:00\",\"2021-01-08T00:00:00\",\"2021-02-05T00:00:00\",\"2021-03-09T00:00:00\",\"2021-04-09T00:00:00\",\"2021-05-18T00:00:00\",\"2021-06-08T00:00:00\",\"2021-07-07T00:00:00\",\"2021-08-04T00:00:00\",\"2021-09-07T00:00:00\",\"2021-10-06T00:00:00\",\"2021-11-05T00:00:00\",\"2021-12-07T00:00:00\",\"2022-01-07T00:00:00\",\"2022-02-08T00:00:00\",\"2022-03-08T00:00:00\",\"2022-04-08T00:00:00\",\"2022-05-06T00:00:00\",\"2022-06-03T00:00:00\",\"2022-06-30T00:00:00\",\"2022-07-13T00:00:00\",\"2022-08-09T00:00:00\",\"2022-09-08T00:00:00\",\"2022-10-12T00:00:00\",\"2022-11-04T00:00:00\",\"2022-11-15T00:00:00\",\"2022-12-16T00:00:00\",\"2023-01-13T00:00:00\",\"2023-02-16T00:00:00\",\"2023-03-16T00:00:00\",\"2023-04-14T00:00:00\"],\"y\":[1304.19,1304.19,1304.19,1304.19,1304.19,1304.19,1304.19,1304.19,1304.19,1304.19,1304.19,1304.19,1304.19,1304.19,1304.19,1304.19,1304.19,1304.19,1304.19,1304.19,1304.19,1304.19,1304.19,1304.19,1304.19,1304.19,1304.19,1304.19,1304.19,1304.19,1304.19,1304.19,1304.19,1304.19],\"type\":\"scatter\",\"xaxis\":\"x\",\"yaxis\":\"y\"},{\"name\":\"Producci\\u00f3n petroleo\",\"x\":[\"2020-09-08T00:00:00\",\"2020-10-07T00:00:00\",\"2020-11-16T00:00:00\",\"2020-12-15T00:00:00\",\"2021-01-08T00:00:00\",\"2021-02-05T00:00:00\",\"2021-03-09T00:00:00\",\"2021-04-09T00:00:00\",\"2021-05-18T00:00:00\",\"2021-06-08T00:00:00\",\"2021-07-07T00:00:00\",\"2021-08-04T00:00:00\",\"2021-09-07T00:00:00\",\"2021-10-06T00:00:00\",\"2021-11-05T00:00:00\",\"2021-12-07T00:00:00\",\"2022-01-07T00:00:00\",\"2022-02-08T00:00:00\",\"2022-03-08T00:00:00\",\"2022-04-08T00:00:00\",\"2022-05-06T00:00:00\",\"2022-06-03T00:00:00\",\"2022-06-30T00:00:00\",\"2022-07-13T00:00:00\",\"2022-08-09T00:00:00\",\"2022-09-08T00:00:00\",\"2022-10-12T00:00:00\",\"2022-11-04T00:00:00\",\"2022-11-15T00:00:00\",\"2022-12-16T00:00:00\",\"2023-01-13T00:00:00\",\"2023-02-16T00:00:00\",\"2023-03-16T00:00:00\",\"2023-04-14T00:00:00\"],\"y\":[28.0,31.5,30.4,30.4,30.4,28.1,9.0,22.3,21.1,12.5,12.5,12.1,23.7,15.7,27.0,21.9,24.7,23.1,11.3,12.8,20.5,14.4,14.4,15.5,16.9,12.4,10.8,11.2,11.2,8.0,7.8,11.5,11.4,9.1],\"type\":\"scatter\",\"xaxis\":\"x\",\"yaxis\":\"y2\"}],                        {\"template\":{\"data\":{\"histogram2dcontour\":[{\"type\":\"histogram2dcontour\",\"colorbar\":{\"outlinewidth\":0,\"ticks\":\"\"},\"colorscale\":[[0.0,\"#0d0887\"],[0.1111111111111111,\"#46039f\"],[0.2222222222222222,\"#7201a8\"],[0.3333333333333333,\"#9c179e\"],[0.4444444444444444,\"#bd3786\"],[0.5555555555555556,\"#d8576b\"],[0.6666666666666666,\"#ed7953\"],[0.7777777777777778,\"#fb9f3a\"],[0.8888888888888888,\"#fdca26\"],[1.0,\"#f0f921\"]]}],\"choropleth\":[{\"type\":\"choropleth\",\"colorbar\":{\"outlinewidth\":0,\"ticks\":\"\"}}],\"histogram2d\":[{\"type\":\"histogram2d\",\"colorbar\":{\"outlinewidth\":0,\"ticks\":\"\"},\"colorscale\":[[0.0,\"#0d0887\"],[0.1111111111111111,\"#46039f\"],[0.2222222222222222,\"#7201a8\"],[0.3333333333333333,\"#9c179e\"],[0.4444444444444444,\"#bd3786\"],[0.5555555555555556,\"#d8576b\"],[0.6666666666666666,\"#ed7953\"],[0.7777777777777778,\"#fb9f3a\"],[0.8888888888888888,\"#fdca26\"],[1.0,\"#f0f921\"]]}],\"heatmap\":[{\"type\":\"heatmap\",\"colorbar\":{\"outlinewidth\":0,\"ticks\":\"\"},\"colorscale\":[[0.0,\"#0d0887\"],[0.1111111111111111,\"#46039f\"],[0.2222222222222222,\"#7201a8\"],[0.3333333333333333,\"#9c179e\"],[0.4444444444444444,\"#bd3786\"],[0.5555555555555556,\"#d8576b\"],[0.6666666666666666,\"#ed7953\"],[0.7777777777777778,\"#fb9f3a\"],[0.8888888888888888,\"#fdca26\"],[1.0,\"#f0f921\"]]}],\"heatmapgl\":[{\"type\":\"heatmapgl\",\"colorbar\":{\"outlinewidth\":0,\"ticks\":\"\"},\"colorscale\":[[0.0,\"#0d0887\"],[0.1111111111111111,\"#46039f\"],[0.2222222222222222,\"#7201a8\"],[0.3333333333333333,\"#9c179e\"],[0.4444444444444444,\"#bd3786\"],[0.5555555555555556,\"#d8576b\"],[0.6666666666666666,\"#ed7953\"],[0.7777777777777778,\"#fb9f3a\"],[0.8888888888888888,\"#fdca26\"],[1.0,\"#f0f921\"]]}],\"contourcarpet\":[{\"type\":\"contourcarpet\",\"colorbar\":{\"outlinewidth\":0,\"ticks\":\"\"}}],\"contour\":[{\"type\":\"contour\",\"colorbar\":{\"outlinewidth\":0,\"ticks\":\"\"},\"colorscale\":[[0.0,\"#0d0887\"],[0.1111111111111111,\"#46039f\"],[0.2222222222222222,\"#7201a8\"],[0.3333333333333333,\"#9c179e\"],[0.4444444444444444,\"#bd3786\"],[0.5555555555555556,\"#d8576b\"],[0.6666666666666666,\"#ed7953\"],[0.7777777777777778,\"#fb9f3a\"],[0.8888888888888888,\"#fdca26\"],[1.0,\"#f0f921\"]]}],\"surface\":[{\"type\":\"surface\",\"colorbar\":{\"outlinewidth\":0,\"ticks\":\"\"},\"colorscale\":[[0.0,\"#0d0887\"],[0.1111111111111111,\"#46039f\"],[0.2222222222222222,\"#7201a8\"],[0.3333333333333333,\"#9c179e\"],[0.4444444444444444,\"#bd3786\"],[0.5555555555555556,\"#d8576b\"],[0.6666666666666666,\"#ed7953\"],[0.7777777777777778,\"#fb9f3a\"],[0.8888888888888888,\"#fdca26\"],[1.0,\"#f0f921\"]]}],\"mesh3d\":[{\"type\":\"mesh3d\",\"colorbar\":{\"outlinewidth\":0,\"ticks\":\"\"}}],\"scatter\":[{\"fillpattern\":{\"fillmode\":\"overlay\",\"size\":10,\"solidity\":0.2},\"type\":\"scatter\"}],\"parcoords\":[{\"type\":\"parcoords\",\"line\":{\"colorbar\":{\"outlinewidth\":0,\"ticks\":\"\"}}}],\"scatterpolargl\":[{\"type\":\"scatterpolargl\",\"marker\":{\"colorbar\":{\"outlinewidth\":0,\"ticks\":\"\"}}}],\"bar\":[{\"error_x\":{\"color\":\"#2a3f5f\"},\"error_y\":{\"color\":\"#2a3f5f\"},\"marker\":{\"line\":{\"color\":\"#E5ECF6\",\"width\":0.5},\"pattern\":{\"fillmode\":\"overlay\",\"size\":10,\"solidity\":0.2}},\"type\":\"bar\"}],\"scattergeo\":[{\"type\":\"scattergeo\",\"marker\":{\"colorbar\":{\"outlinewidth\":0,\"ticks\":\"\"}}}],\"scatterpolar\":[{\"type\":\"scatterpolar\",\"marker\":{\"colorbar\":{\"outlinewidth\":0,\"ticks\":\"\"}}}],\"histogram\":[{\"marker\":{\"pattern\":{\"fillmode\":\"overlay\",\"size\":10,\"solidity\":0.2}},\"type\":\"histogram\"}],\"scattergl\":[{\"type\":\"scattergl\",\"marker\":{\"colorbar\":{\"outlinewidth\":0,\"ticks\":\"\"}}}],\"scatter3d\":[{\"type\":\"scatter3d\",\"line\":{\"colorbar\":{\"outlinewidth\":0,\"ticks\":\"\"}},\"marker\":{\"colorbar\":{\"outlinewidth\":0,\"ticks\":\"\"}}}],\"scattermapbox\":[{\"type\":\"scattermapbox\",\"marker\":{\"colorbar\":{\"outlinewidth\":0,\"ticks\":\"\"}}}],\"scatterternary\":[{\"type\":\"scatterternary\",\"marker\":{\"colorbar\":{\"outlinewidth\":0,\"ticks\":\"\"}}}],\"scattercarpet\":[{\"type\":\"scattercarpet\",\"marker\":{\"colorbar\":{\"outlinewidth\":0,\"ticks\":\"\"}}}],\"carpet\":[{\"aaxis\":{\"endlinecolor\":\"#2a3f5f\",\"gridcolor\":\"white\",\"linecolor\":\"white\",\"minorgridcolor\":\"white\",\"startlinecolor\":\"#2a3f5f\"},\"baxis\":{\"endlinecolor\":\"#2a3f5f\",\"gridcolor\":\"white\",\"linecolor\":\"white\",\"minorgridcolor\":\"white\",\"startlinecolor\":\"#2a3f5f\"},\"type\":\"carpet\"}],\"table\":[{\"cells\":{\"fill\":{\"color\":\"#EBF0F8\"},\"line\":{\"color\":\"white\"}},\"header\":{\"fill\":{\"color\":\"#C8D4E3\"},\"line\":{\"color\":\"white\"}},\"type\":\"table\"}],\"barpolar\":[{\"marker\":{\"line\":{\"color\":\"#E5ECF6\",\"width\":0.5},\"pattern\":{\"fillmode\":\"overlay\",\"size\":10,\"solidity\":0.2}},\"type\":\"barpolar\"}],\"pie\":[{\"automargin\":true,\"type\":\"pie\"}]},\"layout\":{\"autotypenumbers\":\"strict\",\"colorway\":[\"#636efa\",\"#EF553B\",\"#00cc96\",\"#ab63fa\",\"#FFA15A\",\"#19d3f3\",\"#FF6692\",\"#B6E880\",\"#FF97FF\",\"#FECB52\"],\"font\":{\"color\":\"#2a3f5f\"},\"hovermode\":\"closest\",\"hoverlabel\":{\"align\":\"left\"},\"paper_bgcolor\":\"white\",\"plot_bgcolor\":\"#E5ECF6\",\"polar\":{\"bgcolor\":\"#E5ECF6\",\"angularaxis\":{\"gridcolor\":\"white\",\"linecolor\":\"white\",\"ticks\":\"\"},\"radialaxis\":{\"gridcolor\":\"white\",\"linecolor\":\"white\",\"ticks\":\"\"}},\"ternary\":{\"bgcolor\":\"#E5ECF6\",\"aaxis\":{\"gridcolor\":\"white\",\"linecolor\":\"white\",\"ticks\":\"\"},\"baxis\":{\"gridcolor\":\"white\",\"linecolor\":\"white\",\"ticks\":\"\"},\"caxis\":{\"gridcolor\":\"white\",\"linecolor\":\"white\",\"ticks\":\"\"}},\"coloraxis\":{\"colorbar\":{\"outlinewidth\":0,\"ticks\":\"\"}},\"colorscale\":{\"sequential\":[[0.0,\"#0d0887\"],[0.1111111111111111,\"#46039f\"],[0.2222222222222222,\"#7201a8\"],[0.3333333333333333,\"#9c179e\"],[0.4444444444444444,\"#bd3786\"],[0.5555555555555556,\"#d8576b\"],[0.6666666666666666,\"#ed7953\"],[0.7777777777777778,\"#fb9f3a\"],[0.8888888888888888,\"#fdca26\"],[1.0,\"#f0f921\"]],\"sequentialminus\":[[0.0,\"#0d0887\"],[0.1111111111111111,\"#46039f\"],[0.2222222222222222,\"#7201a8\"],[0.3333333333333333,\"#9c179e\"],[0.4444444444444444,\"#bd3786\"],[0.5555555555555556,\"#d8576b\"],[0.6666666666666666,\"#ed7953\"],[0.7777777777777778,\"#fb9f3a\"],[0.8888888888888888,\"#fdca26\"],[1.0,\"#f0f921\"]],\"diverging\":[[0,\"#8e0152\"],[0.1,\"#c51b7d\"],[0.2,\"#de77ae\"],[0.3,\"#f1b6da\"],[0.4,\"#fde0ef\"],[0.5,\"#f7f7f7\"],[0.6,\"#e6f5d0\"],[0.7,\"#b8e186\"],[0.8,\"#7fbc41\"],[0.9,\"#4d9221\"],[1,\"#276419\"]]},\"xaxis\":{\"gridcolor\":\"white\",\"linecolor\":\"white\",\"ticks\":\"\",\"title\":{\"standoff\":15},\"zerolinecolor\":\"white\",\"automargin\":true,\"zerolinewidth\":2},\"yaxis\":{\"gridcolor\":\"white\",\"linecolor\":\"white\",\"ticks\":\"\",\"title\":{\"standoff\":15},\"zerolinecolor\":\"white\",\"automargin\":true,\"zerolinewidth\":2},\"scene\":{\"xaxis\":{\"backgroundcolor\":\"#E5ECF6\",\"gridcolor\":\"white\",\"linecolor\":\"white\",\"showbackground\":true,\"ticks\":\"\",\"zerolinecolor\":\"white\",\"gridwidth\":2},\"yaxis\":{\"backgroundcolor\":\"#E5ECF6\",\"gridcolor\":\"white\",\"linecolor\":\"white\",\"showbackground\":true,\"ticks\":\"\",\"zerolinecolor\":\"white\",\"gridwidth\":2},\"zaxis\":{\"backgroundcolor\":\"#E5ECF6\",\"gridcolor\":\"white\",\"linecolor\":\"white\",\"showbackground\":true,\"ticks\":\"\",\"zerolinecolor\":\"white\",\"gridwidth\":2}},\"shapedefaults\":{\"line\":{\"color\":\"#2a3f5f\"}},\"annotationdefaults\":{\"arrowcolor\":\"#2a3f5f\",\"arrowhead\":0,\"arrowwidth\":1},\"geo\":{\"bgcolor\":\"white\",\"landcolor\":\"#E5ECF6\",\"subunitcolor\":\"white\",\"showland\":true,\"showlakes\":true,\"lakecolor\":\"white\"},\"title\":{\"x\":0.05},\"mapbox\":{\"style\":\"light\"}}},\"xaxis\":{\"anchor\":\"y\",\"domain\":[0.0,0.94],\"title\":{\"text\":\"Fecha\"}},\"yaxis\":{\"anchor\":\"x\",\"domain\":[0.0,1.0],\"title\":{\"text\":\"Profundidad\"}},\"yaxis2\":{\"anchor\":\"x\",\"overlaying\":\"y\",\"side\":\"right\",\"title\":{\"text\":\"Producci\\u00f3n\"}}},                        {\"responsive\": true}                    ).then(function(){\n",
       "                            \n",
       "var gd = document.getElementById('aeaf9623-412c-48f3-9677-5bff1b2b7c00');\n",
       "var x = new MutationObserver(function (mutations, observer) {{\n",
       "        var display = window.getComputedStyle(gd).display;\n",
       "        if (!display || display === 'none') {{\n",
       "            console.log([gd, 'removed!']);\n",
       "            Plotly.purge(gd);\n",
       "            observer.disconnect();\n",
       "        }}\n",
       "}});\n",
       "\n",
       "// Listen for the removal of the full notebook cells\n",
       "var notebookContainer = gd.closest('#notebook-container');\n",
       "if (notebookContainer) {{\n",
       "    x.observe(notebookContainer, {childList: true});\n",
       "}}\n",
       "\n",
       "// Listen for the clearing of the current output cell\n",
       "var outputEl = gd.closest('.output');\n",
       "if (outputEl) {{\n",
       "    x.observe(outputEl, {childList: true});\n",
       "}}\n",
       "\n",
       "                        })                };                });            </script>        </div>"
      ]
     },
     "metadata": {},
     "output_type": "display_data"
    },
    {
     "data": {
      "application/vnd.plotly.v1+json": {
       "config": {
        "plotlyServerURL": "https://plot.ly"
       },
       "data": [
        {
         "name": "Presión dinámica",
         "type": "scatter",
         "x": [
          "2020-09-08T00:00:00",
          "2020-10-07T00:00:00",
          "2020-11-16T00:00:00",
          "2020-12-15T00:00:00",
          "2021-01-08T00:00:00",
          "2021-02-05T00:00:00",
          "2021-03-09T00:00:00",
          "2021-04-09T00:00:00",
          "2021-05-18T00:00:00",
          "2021-06-08T00:00:00",
          "2021-07-07T00:00:00",
          "2021-08-04T00:00:00",
          "2021-09-07T00:00:00",
          "2021-10-06T00:00:00",
          "2021-11-05T00:00:00",
          "2021-12-07T00:00:00",
          "2022-01-07T00:00:00",
          "2022-02-08T00:00:00",
          "2022-03-08T00:00:00",
          "2022-04-08T00:00:00",
          "2022-05-06T00:00:00",
          "2022-06-03T00:00:00",
          "2022-06-30T00:00:00",
          "2022-07-13T00:00:00",
          "2022-08-09T00:00:00",
          "2022-09-08T00:00:00",
          "2022-10-12T00:00:00",
          "2022-11-04T00:00:00",
          "2022-11-15T00:00:00",
          "2022-12-16T00:00:00",
          "2023-01-13T00:00:00",
          "2023-02-16T00:00:00",
          "2023-03-16T00:00:00",
          "2023-04-14T00:00:00"
         ],
         "xaxis": "x",
         "y": [
          61,
          49,
          45,
          130,
          127,
          65,
          73,
          54,
          42,
          33,
          68,
          90,
          65,
          49,
          60,
          55,
          40,
          59,
          35,
          32,
          392,
          64,
          185,
          204,
          206,
          183,
          238,
          240,
          249,
          236,
          146,
          227,
          263,
          307
         ],
         "yaxis": "y"
        },
        {
         "name": "Presión interface",
         "type": "scatter",
         "x": [
          "2020-09-08T00:00:00",
          "2020-10-07T00:00:00",
          "2020-11-16T00:00:00",
          "2020-12-15T00:00:00",
          "2021-01-08T00:00:00",
          "2021-02-05T00:00:00",
          "2021-03-09T00:00:00",
          "2021-04-09T00:00:00",
          "2021-05-18T00:00:00",
          "2021-06-08T00:00:00",
          "2021-07-07T00:00:00",
          "2021-08-04T00:00:00",
          "2021-09-07T00:00:00",
          "2021-10-06T00:00:00",
          "2021-11-05T00:00:00",
          "2021-12-07T00:00:00",
          "2022-01-07T00:00:00",
          "2022-02-08T00:00:00",
          "2022-03-08T00:00:00",
          "2022-04-08T00:00:00",
          "2022-05-06T00:00:00",
          "2022-06-03T00:00:00",
          "2022-06-30T00:00:00",
          "2022-07-13T00:00:00",
          "2022-08-09T00:00:00",
          "2022-09-08T00:00:00",
          "2022-10-12T00:00:00",
          "2022-11-04T00:00:00",
          "2022-11-15T00:00:00",
          "2022-12-16T00:00:00",
          "2023-01-13T00:00:00",
          "2023-02-16T00:00:00",
          "2023-03-16T00:00:00",
          "2023-04-14T00:00:00"
         ],
         "xaxis": "x",
         "y": [
          28,
          25,
          30,
          19,
          14,
          25,
          21,
          23,
          21,
          10,
          30,
          28,
          26,
          20,
          21,
          15,
          12,
          20,
          20,
          15,
          9,
          12,
          11,
          14,
          19,
          11,
          13,
          13,
          5,
          6,
          3,
          3,
          7,
          3
         ],
         "yaxis": "y"
        },
        {
         "name": "Velocidad del sonido",
         "type": "scatter",
         "x": [
          "2020-09-08T00:00:00",
          "2020-10-07T00:00:00",
          "2020-11-16T00:00:00",
          "2020-12-15T00:00:00",
          "2021-01-08T00:00:00",
          "2021-02-05T00:00:00",
          "2021-03-09T00:00:00",
          "2021-04-09T00:00:00",
          "2021-05-18T00:00:00",
          "2021-06-08T00:00:00",
          "2021-07-07T00:00:00",
          "2021-08-04T00:00:00",
          "2021-09-07T00:00:00",
          "2021-10-06T00:00:00",
          "2021-11-05T00:00:00",
          "2021-12-07T00:00:00",
          "2022-01-07T00:00:00",
          "2022-02-08T00:00:00",
          "2022-03-08T00:00:00",
          "2022-04-08T00:00:00",
          "2022-05-06T00:00:00",
          "2022-06-03T00:00:00",
          "2022-06-30T00:00:00",
          "2022-07-13T00:00:00",
          "2022-08-09T00:00:00",
          "2022-09-08T00:00:00",
          "2022-10-12T00:00:00",
          "2022-11-04T00:00:00",
          "2022-11-15T00:00:00",
          "2022-12-16T00:00:00",
          "2023-01-13T00:00:00",
          "2023-02-16T00:00:00",
          "2023-03-16T00:00:00",
          "2023-04-14T00:00:00"
         ],
         "xaxis": "x",
         "y": [
          291,
          296,
          297,
          293,
          303,
          290,
          295,
          297,
          297,
          291,
          299,
          297,
          296,
          293,
          291,
          293,
          291,
          293,
          293,
          296,
          307,
          283,
          295,
          283,
          293,
          291,
          284,
          285,
          285,
          284,
          276,
          322,
          274,
          285
         ],
         "yaxis": "y2"
        }
       ],
       "layout": {
        "template": {
         "data": {
          "bar": [
           {
            "error_x": {
             "color": "#2a3f5f"
            },
            "error_y": {
             "color": "#2a3f5f"
            },
            "marker": {
             "line": {
              "color": "#E5ECF6",
              "width": 0.5
             },
             "pattern": {
              "fillmode": "overlay",
              "size": 10,
              "solidity": 0.2
             }
            },
            "type": "bar"
           }
          ],
          "barpolar": [
           {
            "marker": {
             "line": {
              "color": "#E5ECF6",
              "width": 0.5
             },
             "pattern": {
              "fillmode": "overlay",
              "size": 10,
              "solidity": 0.2
             }
            },
            "type": "barpolar"
           }
          ],
          "carpet": [
           {
            "aaxis": {
             "endlinecolor": "#2a3f5f",
             "gridcolor": "white",
             "linecolor": "white",
             "minorgridcolor": "white",
             "startlinecolor": "#2a3f5f"
            },
            "baxis": {
             "endlinecolor": "#2a3f5f",
             "gridcolor": "white",
             "linecolor": "white",
             "minorgridcolor": "white",
             "startlinecolor": "#2a3f5f"
            },
            "type": "carpet"
           }
          ],
          "choropleth": [
           {
            "colorbar": {
             "outlinewidth": 0,
             "ticks": ""
            },
            "type": "choropleth"
           }
          ],
          "contour": [
           {
            "colorbar": {
             "outlinewidth": 0,
             "ticks": ""
            },
            "colorscale": [
             [
              0,
              "#0d0887"
             ],
             [
              0.1111111111111111,
              "#46039f"
             ],
             [
              0.2222222222222222,
              "#7201a8"
             ],
             [
              0.3333333333333333,
              "#9c179e"
             ],
             [
              0.4444444444444444,
              "#bd3786"
             ],
             [
              0.5555555555555556,
              "#d8576b"
             ],
             [
              0.6666666666666666,
              "#ed7953"
             ],
             [
              0.7777777777777778,
              "#fb9f3a"
             ],
             [
              0.8888888888888888,
              "#fdca26"
             ],
             [
              1,
              "#f0f921"
             ]
            ],
            "type": "contour"
           }
          ],
          "contourcarpet": [
           {
            "colorbar": {
             "outlinewidth": 0,
             "ticks": ""
            },
            "type": "contourcarpet"
           }
          ],
          "heatmap": [
           {
            "colorbar": {
             "outlinewidth": 0,
             "ticks": ""
            },
            "colorscale": [
             [
              0,
              "#0d0887"
             ],
             [
              0.1111111111111111,
              "#46039f"
             ],
             [
              0.2222222222222222,
              "#7201a8"
             ],
             [
              0.3333333333333333,
              "#9c179e"
             ],
             [
              0.4444444444444444,
              "#bd3786"
             ],
             [
              0.5555555555555556,
              "#d8576b"
             ],
             [
              0.6666666666666666,
              "#ed7953"
             ],
             [
              0.7777777777777778,
              "#fb9f3a"
             ],
             [
              0.8888888888888888,
              "#fdca26"
             ],
             [
              1,
              "#f0f921"
             ]
            ],
            "type": "heatmap"
           }
          ],
          "heatmapgl": [
           {
            "colorbar": {
             "outlinewidth": 0,
             "ticks": ""
            },
            "colorscale": [
             [
              0,
              "#0d0887"
             ],
             [
              0.1111111111111111,
              "#46039f"
             ],
             [
              0.2222222222222222,
              "#7201a8"
             ],
             [
              0.3333333333333333,
              "#9c179e"
             ],
             [
              0.4444444444444444,
              "#bd3786"
             ],
             [
              0.5555555555555556,
              "#d8576b"
             ],
             [
              0.6666666666666666,
              "#ed7953"
             ],
             [
              0.7777777777777778,
              "#fb9f3a"
             ],
             [
              0.8888888888888888,
              "#fdca26"
             ],
             [
              1,
              "#f0f921"
             ]
            ],
            "type": "heatmapgl"
           }
          ],
          "histogram": [
           {
            "marker": {
             "pattern": {
              "fillmode": "overlay",
              "size": 10,
              "solidity": 0.2
             }
            },
            "type": "histogram"
           }
          ],
          "histogram2d": [
           {
            "colorbar": {
             "outlinewidth": 0,
             "ticks": ""
            },
            "colorscale": [
             [
              0,
              "#0d0887"
             ],
             [
              0.1111111111111111,
              "#46039f"
             ],
             [
              0.2222222222222222,
              "#7201a8"
             ],
             [
              0.3333333333333333,
              "#9c179e"
             ],
             [
              0.4444444444444444,
              "#bd3786"
             ],
             [
              0.5555555555555556,
              "#d8576b"
             ],
             [
              0.6666666666666666,
              "#ed7953"
             ],
             [
              0.7777777777777778,
              "#fb9f3a"
             ],
             [
              0.8888888888888888,
              "#fdca26"
             ],
             [
              1,
              "#f0f921"
             ]
            ],
            "type": "histogram2d"
           }
          ],
          "histogram2dcontour": [
           {
            "colorbar": {
             "outlinewidth": 0,
             "ticks": ""
            },
            "colorscale": [
             [
              0,
              "#0d0887"
             ],
             [
              0.1111111111111111,
              "#46039f"
             ],
             [
              0.2222222222222222,
              "#7201a8"
             ],
             [
              0.3333333333333333,
              "#9c179e"
             ],
             [
              0.4444444444444444,
              "#bd3786"
             ],
             [
              0.5555555555555556,
              "#d8576b"
             ],
             [
              0.6666666666666666,
              "#ed7953"
             ],
             [
              0.7777777777777778,
              "#fb9f3a"
             ],
             [
              0.8888888888888888,
              "#fdca26"
             ],
             [
              1,
              "#f0f921"
             ]
            ],
            "type": "histogram2dcontour"
           }
          ],
          "mesh3d": [
           {
            "colorbar": {
             "outlinewidth": 0,
             "ticks": ""
            },
            "type": "mesh3d"
           }
          ],
          "parcoords": [
           {
            "line": {
             "colorbar": {
              "outlinewidth": 0,
              "ticks": ""
             }
            },
            "type": "parcoords"
           }
          ],
          "pie": [
           {
            "automargin": true,
            "type": "pie"
           }
          ],
          "scatter": [
           {
            "fillpattern": {
             "fillmode": "overlay",
             "size": 10,
             "solidity": 0.2
            },
            "type": "scatter"
           }
          ],
          "scatter3d": [
           {
            "line": {
             "colorbar": {
              "outlinewidth": 0,
              "ticks": ""
             }
            },
            "marker": {
             "colorbar": {
              "outlinewidth": 0,
              "ticks": ""
             }
            },
            "type": "scatter3d"
           }
          ],
          "scattercarpet": [
           {
            "marker": {
             "colorbar": {
              "outlinewidth": 0,
              "ticks": ""
             }
            },
            "type": "scattercarpet"
           }
          ],
          "scattergeo": [
           {
            "marker": {
             "colorbar": {
              "outlinewidth": 0,
              "ticks": ""
             }
            },
            "type": "scattergeo"
           }
          ],
          "scattergl": [
           {
            "marker": {
             "colorbar": {
              "outlinewidth": 0,
              "ticks": ""
             }
            },
            "type": "scattergl"
           }
          ],
          "scattermapbox": [
           {
            "marker": {
             "colorbar": {
              "outlinewidth": 0,
              "ticks": ""
             }
            },
            "type": "scattermapbox"
           }
          ],
          "scatterpolar": [
           {
            "marker": {
             "colorbar": {
              "outlinewidth": 0,
              "ticks": ""
             }
            },
            "type": "scatterpolar"
           }
          ],
          "scatterpolargl": [
           {
            "marker": {
             "colorbar": {
              "outlinewidth": 0,
              "ticks": ""
             }
            },
            "type": "scatterpolargl"
           }
          ],
          "scatterternary": [
           {
            "marker": {
             "colorbar": {
              "outlinewidth": 0,
              "ticks": ""
             }
            },
            "type": "scatterternary"
           }
          ],
          "surface": [
           {
            "colorbar": {
             "outlinewidth": 0,
             "ticks": ""
            },
            "colorscale": [
             [
              0,
              "#0d0887"
             ],
             [
              0.1111111111111111,
              "#46039f"
             ],
             [
              0.2222222222222222,
              "#7201a8"
             ],
             [
              0.3333333333333333,
              "#9c179e"
             ],
             [
              0.4444444444444444,
              "#bd3786"
             ],
             [
              0.5555555555555556,
              "#d8576b"
             ],
             [
              0.6666666666666666,
              "#ed7953"
             ],
             [
              0.7777777777777778,
              "#fb9f3a"
             ],
             [
              0.8888888888888888,
              "#fdca26"
             ],
             [
              1,
              "#f0f921"
             ]
            ],
            "type": "surface"
           }
          ],
          "table": [
           {
            "cells": {
             "fill": {
              "color": "#EBF0F8"
             },
             "line": {
              "color": "white"
             }
            },
            "header": {
             "fill": {
              "color": "#C8D4E3"
             },
             "line": {
              "color": "white"
             }
            },
            "type": "table"
           }
          ]
         },
         "layout": {
          "annotationdefaults": {
           "arrowcolor": "#2a3f5f",
           "arrowhead": 0,
           "arrowwidth": 1
          },
          "autotypenumbers": "strict",
          "coloraxis": {
           "colorbar": {
            "outlinewidth": 0,
            "ticks": ""
           }
          },
          "colorscale": {
           "diverging": [
            [
             0,
             "#8e0152"
            ],
            [
             0.1,
             "#c51b7d"
            ],
            [
             0.2,
             "#de77ae"
            ],
            [
             0.3,
             "#f1b6da"
            ],
            [
             0.4,
             "#fde0ef"
            ],
            [
             0.5,
             "#f7f7f7"
            ],
            [
             0.6,
             "#e6f5d0"
            ],
            [
             0.7,
             "#b8e186"
            ],
            [
             0.8,
             "#7fbc41"
            ],
            [
             0.9,
             "#4d9221"
            ],
            [
             1,
             "#276419"
            ]
           ],
           "sequential": [
            [
             0,
             "#0d0887"
            ],
            [
             0.1111111111111111,
             "#46039f"
            ],
            [
             0.2222222222222222,
             "#7201a8"
            ],
            [
             0.3333333333333333,
             "#9c179e"
            ],
            [
             0.4444444444444444,
             "#bd3786"
            ],
            [
             0.5555555555555556,
             "#d8576b"
            ],
            [
             0.6666666666666666,
             "#ed7953"
            ],
            [
             0.7777777777777778,
             "#fb9f3a"
            ],
            [
             0.8888888888888888,
             "#fdca26"
            ],
            [
             1,
             "#f0f921"
            ]
           ],
           "sequentialminus": [
            [
             0,
             "#0d0887"
            ],
            [
             0.1111111111111111,
             "#46039f"
            ],
            [
             0.2222222222222222,
             "#7201a8"
            ],
            [
             0.3333333333333333,
             "#9c179e"
            ],
            [
             0.4444444444444444,
             "#bd3786"
            ],
            [
             0.5555555555555556,
             "#d8576b"
            ],
            [
             0.6666666666666666,
             "#ed7953"
            ],
            [
             0.7777777777777778,
             "#fb9f3a"
            ],
            [
             0.8888888888888888,
             "#fdca26"
            ],
            [
             1,
             "#f0f921"
            ]
           ]
          },
          "colorway": [
           "#636efa",
           "#EF553B",
           "#00cc96",
           "#ab63fa",
           "#FFA15A",
           "#19d3f3",
           "#FF6692",
           "#B6E880",
           "#FF97FF",
           "#FECB52"
          ],
          "font": {
           "color": "#2a3f5f"
          },
          "geo": {
           "bgcolor": "white",
           "lakecolor": "white",
           "landcolor": "#E5ECF6",
           "showlakes": true,
           "showland": true,
           "subunitcolor": "white"
          },
          "hoverlabel": {
           "align": "left"
          },
          "hovermode": "closest",
          "mapbox": {
           "style": "light"
          },
          "paper_bgcolor": "white",
          "plot_bgcolor": "#E5ECF6",
          "polar": {
           "angularaxis": {
            "gridcolor": "white",
            "linecolor": "white",
            "ticks": ""
           },
           "bgcolor": "#E5ECF6",
           "radialaxis": {
            "gridcolor": "white",
            "linecolor": "white",
            "ticks": ""
           }
          },
          "scene": {
           "xaxis": {
            "backgroundcolor": "#E5ECF6",
            "gridcolor": "white",
            "gridwidth": 2,
            "linecolor": "white",
            "showbackground": true,
            "ticks": "",
            "zerolinecolor": "white"
           },
           "yaxis": {
            "backgroundcolor": "#E5ECF6",
            "gridcolor": "white",
            "gridwidth": 2,
            "linecolor": "white",
            "showbackground": true,
            "ticks": "",
            "zerolinecolor": "white"
           },
           "zaxis": {
            "backgroundcolor": "#E5ECF6",
            "gridcolor": "white",
            "gridwidth": 2,
            "linecolor": "white",
            "showbackground": true,
            "ticks": "",
            "zerolinecolor": "white"
           }
          },
          "shapedefaults": {
           "line": {
            "color": "#2a3f5f"
           }
          },
          "ternary": {
           "aaxis": {
            "gridcolor": "white",
            "linecolor": "white",
            "ticks": ""
           },
           "baxis": {
            "gridcolor": "white",
            "linecolor": "white",
            "ticks": ""
           },
           "bgcolor": "#E5ECF6",
           "caxis": {
            "gridcolor": "white",
            "linecolor": "white",
            "ticks": ""
           }
          },
          "title": {
           "x": 0.05
          },
          "xaxis": {
           "automargin": true,
           "gridcolor": "white",
           "linecolor": "white",
           "ticks": "",
           "title": {
            "standoff": 15
           },
           "zerolinecolor": "white",
           "zerolinewidth": 2
          },
          "yaxis": {
           "automargin": true,
           "gridcolor": "white",
           "linecolor": "white",
           "ticks": "",
           "title": {
            "standoff": 15
           },
           "zerolinecolor": "white",
           "zerolinewidth": 2
          }
         }
        },
        "xaxis": {
         "anchor": "y",
         "domain": [
          0,
          0.94
         ],
         "title": {
          "text": "Fecha"
         }
        },
        "yaxis": {
         "anchor": "x",
         "domain": [
          0,
          1
         ],
         "title": {
          "text": "Presión"
         }
        },
        "yaxis2": {
         "anchor": "x",
         "overlaying": "y",
         "side": "right",
         "title": {
          "text": "Velocidad"
         }
        }
       }
      },
      "text/html": [
       "<div>                            <div id=\"2984524d-fd7f-4fba-88f7-e91c399f11b4\" class=\"plotly-graph-div\" style=\"height:525px; width:100%;\"></div>            <script type=\"text/javascript\">                require([\"plotly\"], function(Plotly) {                    window.PLOTLYENV=window.PLOTLYENV || {};                                    if (document.getElementById(\"2984524d-fd7f-4fba-88f7-e91c399f11b4\")) {                    Plotly.newPlot(                        \"2984524d-fd7f-4fba-88f7-e91c399f11b4\",                        [{\"name\":\"Presi\\u00f3n din\\u00e1mica\",\"x\":[\"2020-09-08T00:00:00\",\"2020-10-07T00:00:00\",\"2020-11-16T00:00:00\",\"2020-12-15T00:00:00\",\"2021-01-08T00:00:00\",\"2021-02-05T00:00:00\",\"2021-03-09T00:00:00\",\"2021-04-09T00:00:00\",\"2021-05-18T00:00:00\",\"2021-06-08T00:00:00\",\"2021-07-07T00:00:00\",\"2021-08-04T00:00:00\",\"2021-09-07T00:00:00\",\"2021-10-06T00:00:00\",\"2021-11-05T00:00:00\",\"2021-12-07T00:00:00\",\"2022-01-07T00:00:00\",\"2022-02-08T00:00:00\",\"2022-03-08T00:00:00\",\"2022-04-08T00:00:00\",\"2022-05-06T00:00:00\",\"2022-06-03T00:00:00\",\"2022-06-30T00:00:00\",\"2022-07-13T00:00:00\",\"2022-08-09T00:00:00\",\"2022-09-08T00:00:00\",\"2022-10-12T00:00:00\",\"2022-11-04T00:00:00\",\"2022-11-15T00:00:00\",\"2022-12-16T00:00:00\",\"2023-01-13T00:00:00\",\"2023-02-16T00:00:00\",\"2023-03-16T00:00:00\",\"2023-04-14T00:00:00\"],\"y\":[61,49,45,130,127,65,73,54,42,33,68,90,65,49,60,55,40,59,35,32,392,64,185,204,206,183,238,240,249,236,146,227,263,307],\"type\":\"scatter\",\"xaxis\":\"x\",\"yaxis\":\"y\"},{\"name\":\"Presi\\u00f3n interface\",\"x\":[\"2020-09-08T00:00:00\",\"2020-10-07T00:00:00\",\"2020-11-16T00:00:00\",\"2020-12-15T00:00:00\",\"2021-01-08T00:00:00\",\"2021-02-05T00:00:00\",\"2021-03-09T00:00:00\",\"2021-04-09T00:00:00\",\"2021-05-18T00:00:00\",\"2021-06-08T00:00:00\",\"2021-07-07T00:00:00\",\"2021-08-04T00:00:00\",\"2021-09-07T00:00:00\",\"2021-10-06T00:00:00\",\"2021-11-05T00:00:00\",\"2021-12-07T00:00:00\",\"2022-01-07T00:00:00\",\"2022-02-08T00:00:00\",\"2022-03-08T00:00:00\",\"2022-04-08T00:00:00\",\"2022-05-06T00:00:00\",\"2022-06-03T00:00:00\",\"2022-06-30T00:00:00\",\"2022-07-13T00:00:00\",\"2022-08-09T00:00:00\",\"2022-09-08T00:00:00\",\"2022-10-12T00:00:00\",\"2022-11-04T00:00:00\",\"2022-11-15T00:00:00\",\"2022-12-16T00:00:00\",\"2023-01-13T00:00:00\",\"2023-02-16T00:00:00\",\"2023-03-16T00:00:00\",\"2023-04-14T00:00:00\"],\"y\":[28,25,30,19,14,25,21,23,21,10,30,28,26,20,21,15,12,20,20,15,9,12,11,14,19,11,13,13,5,6,3,3,7,3],\"type\":\"scatter\",\"xaxis\":\"x\",\"yaxis\":\"y\"},{\"name\":\"Velocidad del sonido\",\"x\":[\"2020-09-08T00:00:00\",\"2020-10-07T00:00:00\",\"2020-11-16T00:00:00\",\"2020-12-15T00:00:00\",\"2021-01-08T00:00:00\",\"2021-02-05T00:00:00\",\"2021-03-09T00:00:00\",\"2021-04-09T00:00:00\",\"2021-05-18T00:00:00\",\"2021-06-08T00:00:00\",\"2021-07-07T00:00:00\",\"2021-08-04T00:00:00\",\"2021-09-07T00:00:00\",\"2021-10-06T00:00:00\",\"2021-11-05T00:00:00\",\"2021-12-07T00:00:00\",\"2022-01-07T00:00:00\",\"2022-02-08T00:00:00\",\"2022-03-08T00:00:00\",\"2022-04-08T00:00:00\",\"2022-05-06T00:00:00\",\"2022-06-03T00:00:00\",\"2022-06-30T00:00:00\",\"2022-07-13T00:00:00\",\"2022-08-09T00:00:00\",\"2022-09-08T00:00:00\",\"2022-10-12T00:00:00\",\"2022-11-04T00:00:00\",\"2022-11-15T00:00:00\",\"2022-12-16T00:00:00\",\"2023-01-13T00:00:00\",\"2023-02-16T00:00:00\",\"2023-03-16T00:00:00\",\"2023-04-14T00:00:00\"],\"y\":[291,296,297,293,303,290,295,297,297,291,299,297,296,293,291,293,291,293,293,296,307,283,295,283,293,291,284,285,285,284,276,322,274,285],\"type\":\"scatter\",\"xaxis\":\"x\",\"yaxis\":\"y2\"}],                        {\"template\":{\"data\":{\"histogram2dcontour\":[{\"type\":\"histogram2dcontour\",\"colorbar\":{\"outlinewidth\":0,\"ticks\":\"\"},\"colorscale\":[[0.0,\"#0d0887\"],[0.1111111111111111,\"#46039f\"],[0.2222222222222222,\"#7201a8\"],[0.3333333333333333,\"#9c179e\"],[0.4444444444444444,\"#bd3786\"],[0.5555555555555556,\"#d8576b\"],[0.6666666666666666,\"#ed7953\"],[0.7777777777777778,\"#fb9f3a\"],[0.8888888888888888,\"#fdca26\"],[1.0,\"#f0f921\"]]}],\"choropleth\":[{\"type\":\"choropleth\",\"colorbar\":{\"outlinewidth\":0,\"ticks\":\"\"}}],\"histogram2d\":[{\"type\":\"histogram2d\",\"colorbar\":{\"outlinewidth\":0,\"ticks\":\"\"},\"colorscale\":[[0.0,\"#0d0887\"],[0.1111111111111111,\"#46039f\"],[0.2222222222222222,\"#7201a8\"],[0.3333333333333333,\"#9c179e\"],[0.4444444444444444,\"#bd3786\"],[0.5555555555555556,\"#d8576b\"],[0.6666666666666666,\"#ed7953\"],[0.7777777777777778,\"#fb9f3a\"],[0.8888888888888888,\"#fdca26\"],[1.0,\"#f0f921\"]]}],\"heatmap\":[{\"type\":\"heatmap\",\"colorbar\":{\"outlinewidth\":0,\"ticks\":\"\"},\"colorscale\":[[0.0,\"#0d0887\"],[0.1111111111111111,\"#46039f\"],[0.2222222222222222,\"#7201a8\"],[0.3333333333333333,\"#9c179e\"],[0.4444444444444444,\"#bd3786\"],[0.5555555555555556,\"#d8576b\"],[0.6666666666666666,\"#ed7953\"],[0.7777777777777778,\"#fb9f3a\"],[0.8888888888888888,\"#fdca26\"],[1.0,\"#f0f921\"]]}],\"heatmapgl\":[{\"type\":\"heatmapgl\",\"colorbar\":{\"outlinewidth\":0,\"ticks\":\"\"},\"colorscale\":[[0.0,\"#0d0887\"],[0.1111111111111111,\"#46039f\"],[0.2222222222222222,\"#7201a8\"],[0.3333333333333333,\"#9c179e\"],[0.4444444444444444,\"#bd3786\"],[0.5555555555555556,\"#d8576b\"],[0.6666666666666666,\"#ed7953\"],[0.7777777777777778,\"#fb9f3a\"],[0.8888888888888888,\"#fdca26\"],[1.0,\"#f0f921\"]]}],\"contourcarpet\":[{\"type\":\"contourcarpet\",\"colorbar\":{\"outlinewidth\":0,\"ticks\":\"\"}}],\"contour\":[{\"type\":\"contour\",\"colorbar\":{\"outlinewidth\":0,\"ticks\":\"\"},\"colorscale\":[[0.0,\"#0d0887\"],[0.1111111111111111,\"#46039f\"],[0.2222222222222222,\"#7201a8\"],[0.3333333333333333,\"#9c179e\"],[0.4444444444444444,\"#bd3786\"],[0.5555555555555556,\"#d8576b\"],[0.6666666666666666,\"#ed7953\"],[0.7777777777777778,\"#fb9f3a\"],[0.8888888888888888,\"#fdca26\"],[1.0,\"#f0f921\"]]}],\"surface\":[{\"type\":\"surface\",\"colorbar\":{\"outlinewidth\":0,\"ticks\":\"\"},\"colorscale\":[[0.0,\"#0d0887\"],[0.1111111111111111,\"#46039f\"],[0.2222222222222222,\"#7201a8\"],[0.3333333333333333,\"#9c179e\"],[0.4444444444444444,\"#bd3786\"],[0.5555555555555556,\"#d8576b\"],[0.6666666666666666,\"#ed7953\"],[0.7777777777777778,\"#fb9f3a\"],[0.8888888888888888,\"#fdca26\"],[1.0,\"#f0f921\"]]}],\"mesh3d\":[{\"type\":\"mesh3d\",\"colorbar\":{\"outlinewidth\":0,\"ticks\":\"\"}}],\"scatter\":[{\"fillpattern\":{\"fillmode\":\"overlay\",\"size\":10,\"solidity\":0.2},\"type\":\"scatter\"}],\"parcoords\":[{\"type\":\"parcoords\",\"line\":{\"colorbar\":{\"outlinewidth\":0,\"ticks\":\"\"}}}],\"scatterpolargl\":[{\"type\":\"scatterpolargl\",\"marker\":{\"colorbar\":{\"outlinewidth\":0,\"ticks\":\"\"}}}],\"bar\":[{\"error_x\":{\"color\":\"#2a3f5f\"},\"error_y\":{\"color\":\"#2a3f5f\"},\"marker\":{\"line\":{\"color\":\"#E5ECF6\",\"width\":0.5},\"pattern\":{\"fillmode\":\"overlay\",\"size\":10,\"solidity\":0.2}},\"type\":\"bar\"}],\"scattergeo\":[{\"type\":\"scattergeo\",\"marker\":{\"colorbar\":{\"outlinewidth\":0,\"ticks\":\"\"}}}],\"scatterpolar\":[{\"type\":\"scatterpolar\",\"marker\":{\"colorbar\":{\"outlinewidth\":0,\"ticks\":\"\"}}}],\"histogram\":[{\"marker\":{\"pattern\":{\"fillmode\":\"overlay\",\"size\":10,\"solidity\":0.2}},\"type\":\"histogram\"}],\"scattergl\":[{\"type\":\"scattergl\",\"marker\":{\"colorbar\":{\"outlinewidth\":0,\"ticks\":\"\"}}}],\"scatter3d\":[{\"type\":\"scatter3d\",\"line\":{\"colorbar\":{\"outlinewidth\":0,\"ticks\":\"\"}},\"marker\":{\"colorbar\":{\"outlinewidth\":0,\"ticks\":\"\"}}}],\"scattermapbox\":[{\"type\":\"scattermapbox\",\"marker\":{\"colorbar\":{\"outlinewidth\":0,\"ticks\":\"\"}}}],\"scatterternary\":[{\"type\":\"scatterternary\",\"marker\":{\"colorbar\":{\"outlinewidth\":0,\"ticks\":\"\"}}}],\"scattercarpet\":[{\"type\":\"scattercarpet\",\"marker\":{\"colorbar\":{\"outlinewidth\":0,\"ticks\":\"\"}}}],\"carpet\":[{\"aaxis\":{\"endlinecolor\":\"#2a3f5f\",\"gridcolor\":\"white\",\"linecolor\":\"white\",\"minorgridcolor\":\"white\",\"startlinecolor\":\"#2a3f5f\"},\"baxis\":{\"endlinecolor\":\"#2a3f5f\",\"gridcolor\":\"white\",\"linecolor\":\"white\",\"minorgridcolor\":\"white\",\"startlinecolor\":\"#2a3f5f\"},\"type\":\"carpet\"}],\"table\":[{\"cells\":{\"fill\":{\"color\":\"#EBF0F8\"},\"line\":{\"color\":\"white\"}},\"header\":{\"fill\":{\"color\":\"#C8D4E3\"},\"line\":{\"color\":\"white\"}},\"type\":\"table\"}],\"barpolar\":[{\"marker\":{\"line\":{\"color\":\"#E5ECF6\",\"width\":0.5},\"pattern\":{\"fillmode\":\"overlay\",\"size\":10,\"solidity\":0.2}},\"type\":\"barpolar\"}],\"pie\":[{\"automargin\":true,\"type\":\"pie\"}]},\"layout\":{\"autotypenumbers\":\"strict\",\"colorway\":[\"#636efa\",\"#EF553B\",\"#00cc96\",\"#ab63fa\",\"#FFA15A\",\"#19d3f3\",\"#FF6692\",\"#B6E880\",\"#FF97FF\",\"#FECB52\"],\"font\":{\"color\":\"#2a3f5f\"},\"hovermode\":\"closest\",\"hoverlabel\":{\"align\":\"left\"},\"paper_bgcolor\":\"white\",\"plot_bgcolor\":\"#E5ECF6\",\"polar\":{\"bgcolor\":\"#E5ECF6\",\"angularaxis\":{\"gridcolor\":\"white\",\"linecolor\":\"white\",\"ticks\":\"\"},\"radialaxis\":{\"gridcolor\":\"white\",\"linecolor\":\"white\",\"ticks\":\"\"}},\"ternary\":{\"bgcolor\":\"#E5ECF6\",\"aaxis\":{\"gridcolor\":\"white\",\"linecolor\":\"white\",\"ticks\":\"\"},\"baxis\":{\"gridcolor\":\"white\",\"linecolor\":\"white\",\"ticks\":\"\"},\"caxis\":{\"gridcolor\":\"white\",\"linecolor\":\"white\",\"ticks\":\"\"}},\"coloraxis\":{\"colorbar\":{\"outlinewidth\":0,\"ticks\":\"\"}},\"colorscale\":{\"sequential\":[[0.0,\"#0d0887\"],[0.1111111111111111,\"#46039f\"],[0.2222222222222222,\"#7201a8\"],[0.3333333333333333,\"#9c179e\"],[0.4444444444444444,\"#bd3786\"],[0.5555555555555556,\"#d8576b\"],[0.6666666666666666,\"#ed7953\"],[0.7777777777777778,\"#fb9f3a\"],[0.8888888888888888,\"#fdca26\"],[1.0,\"#f0f921\"]],\"sequentialminus\":[[0.0,\"#0d0887\"],[0.1111111111111111,\"#46039f\"],[0.2222222222222222,\"#7201a8\"],[0.3333333333333333,\"#9c179e\"],[0.4444444444444444,\"#bd3786\"],[0.5555555555555556,\"#d8576b\"],[0.6666666666666666,\"#ed7953\"],[0.7777777777777778,\"#fb9f3a\"],[0.8888888888888888,\"#fdca26\"],[1.0,\"#f0f921\"]],\"diverging\":[[0,\"#8e0152\"],[0.1,\"#c51b7d\"],[0.2,\"#de77ae\"],[0.3,\"#f1b6da\"],[0.4,\"#fde0ef\"],[0.5,\"#f7f7f7\"],[0.6,\"#e6f5d0\"],[0.7,\"#b8e186\"],[0.8,\"#7fbc41\"],[0.9,\"#4d9221\"],[1,\"#276419\"]]},\"xaxis\":{\"gridcolor\":\"white\",\"linecolor\":\"white\",\"ticks\":\"\",\"title\":{\"standoff\":15},\"zerolinecolor\":\"white\",\"automargin\":true,\"zerolinewidth\":2},\"yaxis\":{\"gridcolor\":\"white\",\"linecolor\":\"white\",\"ticks\":\"\",\"title\":{\"standoff\":15},\"zerolinecolor\":\"white\",\"automargin\":true,\"zerolinewidth\":2},\"scene\":{\"xaxis\":{\"backgroundcolor\":\"#E5ECF6\",\"gridcolor\":\"white\",\"linecolor\":\"white\",\"showbackground\":true,\"ticks\":\"\",\"zerolinecolor\":\"white\",\"gridwidth\":2},\"yaxis\":{\"backgroundcolor\":\"#E5ECF6\",\"gridcolor\":\"white\",\"linecolor\":\"white\",\"showbackground\":true,\"ticks\":\"\",\"zerolinecolor\":\"white\",\"gridwidth\":2},\"zaxis\":{\"backgroundcolor\":\"#E5ECF6\",\"gridcolor\":\"white\",\"linecolor\":\"white\",\"showbackground\":true,\"ticks\":\"\",\"zerolinecolor\":\"white\",\"gridwidth\":2}},\"shapedefaults\":{\"line\":{\"color\":\"#2a3f5f\"}},\"annotationdefaults\":{\"arrowcolor\":\"#2a3f5f\",\"arrowhead\":0,\"arrowwidth\":1},\"geo\":{\"bgcolor\":\"white\",\"landcolor\":\"#E5ECF6\",\"subunitcolor\":\"white\",\"showland\":true,\"showlakes\":true,\"lakecolor\":\"white\"},\"title\":{\"x\":0.05},\"mapbox\":{\"style\":\"light\"}}},\"xaxis\":{\"anchor\":\"y\",\"domain\":[0.0,0.94],\"title\":{\"text\":\"Fecha\"}},\"yaxis\":{\"anchor\":\"x\",\"domain\":[0.0,1.0],\"title\":{\"text\":\"Presi\\u00f3n\"}},\"yaxis2\":{\"anchor\":\"x\",\"overlaying\":\"y\",\"side\":\"right\",\"title\":{\"text\":\"Velocidad\"}}},                        {\"responsive\": true}                    ).then(function(){\n",
       "                            \n",
       "var gd = document.getElementById('2984524d-fd7f-4fba-88f7-e91c399f11b4');\n",
       "var x = new MutationObserver(function (mutations, observer) {{\n",
       "        var display = window.getComputedStyle(gd).display;\n",
       "        if (!display || display === 'none') {{\n",
       "            console.log([gd, 'removed!']);\n",
       "            Plotly.purge(gd);\n",
       "            observer.disconnect();\n",
       "        }}\n",
       "}});\n",
       "\n",
       "// Listen for the removal of the full notebook cells\n",
       "var notebookContainer = gd.closest('#notebook-container');\n",
       "if (notebookContainer) {{\n",
       "    x.observe(notebookContainer, {childList: true});\n",
       "}}\n",
       "\n",
       "// Listen for the clearing of the current output cell\n",
       "var outputEl = gd.closest('.output');\n",
       "if (outputEl) {{\n",
       "    x.observe(outputEl, {childList: true});\n",
       "}}\n",
       "\n",
       "                        })                };                });            </script>        </div>"
      ]
     },
     "metadata": {},
     "output_type": "display_data"
    }
   ],
   "source": [
    "plot_well_behaviour('E 180', df)"
   ]
  },
  {
   "cell_type": "code",
   "execution_count": 14,
   "id": "a9fdad2e",
   "metadata": {
    "ExecuteTime": {
     "end_time": "2023-10-23T19:45:49.910650Z",
     "start_time": "2023-10-23T19:45:49.828967Z"
    }
   },
   "outputs": [
    {
     "data": {
      "application/vnd.plotly.v1+json": {
       "config": {
        "plotlyServerURL": "https://plot.ly"
       },
       "data": [
        {
         "name": "Profundidad gas",
         "type": "scatter",
         "x": [
          "2020-07-02T00:00:00",
          "2020-08-05T00:00:00",
          "2020-09-04T00:00:00",
          "2020-10-05T00:00:00",
          "2020-11-12T00:00:00",
          "2020-12-10T00:00:00",
          "2021-01-06T00:00:00",
          "2021-02-03T00:00:00",
          "2021-03-03T00:00:00",
          "2021-04-07T00:00:00",
          "2021-05-13T00:00:00",
          "2021-06-04T00:00:00",
          "2021-07-05T00:00:00",
          "2021-07-13T00:00:00",
          "2021-08-02T00:00:00",
          "2021-09-06T00:00:00",
          "2021-09-30T00:00:00",
          "2021-11-03T00:00:00",
          "2021-12-03T00:00:00",
          "2022-01-05T00:00:00",
          "2022-02-04T00:00:00",
          "2022-03-04T00:00:00",
          "2022-04-04T00:00:00",
          "2022-05-04T00:00:00",
          "2022-06-01T00:00:00",
          "2022-07-05T00:00:00",
          "2022-08-03T00:00:00",
          "2022-09-06T00:00:00",
          "2022-10-04T00:00:00",
          "2022-11-02T00:00:00",
          "2022-12-06T00:00:00",
          "2023-01-05T00:00:00",
          "2023-02-07T00:00:00",
          "2023-03-14T00:00:00",
          "2023-04-12T00:00:00"
         ],
         "xaxis": "x",
         "y": [
          1720,
          1709,
          1723,
          1736,
          1726,
          1737,
          1721,
          1714,
          1730,
          1721,
          1732,
          1621,
          1629,
          1674,
          193,
          1725,
          1744,
          1746,
          1764,
          1758,
          1758,
          1757,
          1774,
          1779,
          1771,
          1792,
          1780,
          1789,
          1767,
          1764,
          1752,
          1772,
          1697,
          1706,
          1719
         ],
         "yaxis": "y"
        },
        {
         "name": "Profundidad niveles",
         "type": "scatter",
         "x": [
          "2020-07-02T00:00:00",
          "2020-08-05T00:00:00",
          "2020-09-04T00:00:00",
          "2020-10-05T00:00:00",
          "2020-11-12T00:00:00",
          "2020-12-10T00:00:00",
          "2021-01-06T00:00:00",
          "2021-02-03T00:00:00",
          "2021-03-03T00:00:00",
          "2021-04-07T00:00:00",
          "2021-05-13T00:00:00",
          "2021-06-04T00:00:00",
          "2021-07-05T00:00:00",
          "2021-07-13T00:00:00",
          "2021-08-02T00:00:00",
          "2021-09-06T00:00:00",
          "2021-09-30T00:00:00",
          "2021-11-03T00:00:00",
          "2021-12-03T00:00:00",
          "2022-01-05T00:00:00",
          "2022-02-04T00:00:00",
          "2022-03-04T00:00:00",
          "2022-04-04T00:00:00",
          "2022-05-04T00:00:00",
          "2022-06-01T00:00:00",
          "2022-07-05T00:00:00",
          "2022-08-03T00:00:00",
          "2022-09-06T00:00:00",
          "2022-10-04T00:00:00",
          "2022-11-02T00:00:00",
          "2022-12-06T00:00:00",
          "2023-01-05T00:00:00",
          "2023-02-07T00:00:00",
          "2023-03-14T00:00:00",
          "2023-04-12T00:00:00"
         ],
         "xaxis": "x",
         "y": [
          1808,
          1800,
          1799,
          1799,
          1726,
          1806,
          1805,
          1801,
          1810,
          1787,
          1732,
          1779,
          1674,
          1785,
          539,
          1809,
          1790,
          1814,
          1813,
          1793,
          1806,
          1820,
          1823,
          1824,
          1824,
          1822,
          1802,
          1827,
          1804,
          1820,
          1815,
          1819,
          1803,
          1792,
          1798
         ],
         "yaxis": "y"
        },
        {
         "name": "Profundidad bomba",
         "type": "scatter",
         "x": [
          "2020-07-02T00:00:00",
          "2020-08-05T00:00:00",
          "2020-09-04T00:00:00",
          "2020-10-05T00:00:00",
          "2020-11-12T00:00:00",
          "2020-12-10T00:00:00",
          "2021-01-06T00:00:00",
          "2021-02-03T00:00:00",
          "2021-03-03T00:00:00",
          "2021-04-07T00:00:00",
          "2021-05-13T00:00:00",
          "2021-06-04T00:00:00",
          "2021-07-05T00:00:00",
          "2021-07-13T00:00:00",
          "2021-08-02T00:00:00",
          "2021-09-06T00:00:00",
          "2021-09-30T00:00:00",
          "2021-11-03T00:00:00",
          "2021-12-03T00:00:00",
          "2022-01-05T00:00:00",
          "2022-02-04T00:00:00",
          "2022-03-04T00:00:00",
          "2022-04-04T00:00:00",
          "2022-05-04T00:00:00",
          "2022-06-01T00:00:00",
          "2022-07-05T00:00:00",
          "2022-08-03T00:00:00",
          "2022-09-06T00:00:00",
          "2022-10-04T00:00:00",
          "2022-11-02T00:00:00",
          "2022-12-06T00:00:00",
          "2023-01-05T00:00:00",
          "2023-02-07T00:00:00",
          "2023-03-14T00:00:00",
          "2023-04-12T00:00:00"
         ],
         "xaxis": "x",
         "y": [
          1839,
          1839,
          1839,
          1839,
          1839,
          1839,
          1839,
          1839,
          1839,
          1839,
          1839,
          1839,
          1839,
          1839,
          1839,
          1839,
          1839,
          1841,
          1841,
          1841,
          1841,
          1841,
          1841,
          1841,
          1841,
          1841,
          1841,
          1841,
          1841,
          1841,
          1841,
          1841,
          1841,
          1841,
          1841
         ],
         "yaxis": "y"
        },
        {
         "name": "Velocidad del sonido",
         "type": "scatter",
         "x": [
          "2020-07-02T00:00:00",
          "2020-08-05T00:00:00",
          "2020-09-04T00:00:00",
          "2020-10-05T00:00:00",
          "2020-11-12T00:00:00",
          "2020-12-10T00:00:00",
          "2021-01-06T00:00:00",
          "2021-02-03T00:00:00",
          "2021-03-03T00:00:00",
          "2021-04-07T00:00:00",
          "2021-05-13T00:00:00",
          "2021-06-04T00:00:00",
          "2021-07-05T00:00:00",
          "2021-07-13T00:00:00",
          "2021-08-02T00:00:00",
          "2021-09-06T00:00:00",
          "2021-09-30T00:00:00",
          "2021-11-03T00:00:00",
          "2021-12-03T00:00:00",
          "2022-01-05T00:00:00",
          "2022-02-04T00:00:00",
          "2022-03-04T00:00:00",
          "2022-04-04T00:00:00",
          "2022-05-04T00:00:00",
          "2022-06-01T00:00:00",
          "2022-07-05T00:00:00",
          "2022-08-03T00:00:00",
          "2022-09-06T00:00:00",
          "2022-10-04T00:00:00",
          "2022-11-02T00:00:00",
          "2022-12-06T00:00:00",
          "2023-01-05T00:00:00",
          "2023-02-07T00:00:00",
          "2023-03-14T00:00:00",
          "2023-04-12T00:00:00"
         ],
         "xaxis": "x",
         "y": [
          302,
          301,
          302,
          305,
          302,
          304,
          305,
          301,
          304,
          302,
          305,
          302,
          304,
          302,
          313,
          305,
          303,
          306,
          308,
          307,
          310,
          308,
          310,
          309,
          314,
          313,
          314,
          310,
          310,
          307,
          308,
          309,
          322,
          305,
          304
         ],
         "yaxis": "y2"
        }
       ],
       "layout": {
        "template": {
         "data": {
          "bar": [
           {
            "error_x": {
             "color": "#2a3f5f"
            },
            "error_y": {
             "color": "#2a3f5f"
            },
            "marker": {
             "line": {
              "color": "#E5ECF6",
              "width": 0.5
             },
             "pattern": {
              "fillmode": "overlay",
              "size": 10,
              "solidity": 0.2
             }
            },
            "type": "bar"
           }
          ],
          "barpolar": [
           {
            "marker": {
             "line": {
              "color": "#E5ECF6",
              "width": 0.5
             },
             "pattern": {
              "fillmode": "overlay",
              "size": 10,
              "solidity": 0.2
             }
            },
            "type": "barpolar"
           }
          ],
          "carpet": [
           {
            "aaxis": {
             "endlinecolor": "#2a3f5f",
             "gridcolor": "white",
             "linecolor": "white",
             "minorgridcolor": "white",
             "startlinecolor": "#2a3f5f"
            },
            "baxis": {
             "endlinecolor": "#2a3f5f",
             "gridcolor": "white",
             "linecolor": "white",
             "minorgridcolor": "white",
             "startlinecolor": "#2a3f5f"
            },
            "type": "carpet"
           }
          ],
          "choropleth": [
           {
            "colorbar": {
             "outlinewidth": 0,
             "ticks": ""
            },
            "type": "choropleth"
           }
          ],
          "contour": [
           {
            "colorbar": {
             "outlinewidth": 0,
             "ticks": ""
            },
            "colorscale": [
             [
              0,
              "#0d0887"
             ],
             [
              0.1111111111111111,
              "#46039f"
             ],
             [
              0.2222222222222222,
              "#7201a8"
             ],
             [
              0.3333333333333333,
              "#9c179e"
             ],
             [
              0.4444444444444444,
              "#bd3786"
             ],
             [
              0.5555555555555556,
              "#d8576b"
             ],
             [
              0.6666666666666666,
              "#ed7953"
             ],
             [
              0.7777777777777778,
              "#fb9f3a"
             ],
             [
              0.8888888888888888,
              "#fdca26"
             ],
             [
              1,
              "#f0f921"
             ]
            ],
            "type": "contour"
           }
          ],
          "contourcarpet": [
           {
            "colorbar": {
             "outlinewidth": 0,
             "ticks": ""
            },
            "type": "contourcarpet"
           }
          ],
          "heatmap": [
           {
            "colorbar": {
             "outlinewidth": 0,
             "ticks": ""
            },
            "colorscale": [
             [
              0,
              "#0d0887"
             ],
             [
              0.1111111111111111,
              "#46039f"
             ],
             [
              0.2222222222222222,
              "#7201a8"
             ],
             [
              0.3333333333333333,
              "#9c179e"
             ],
             [
              0.4444444444444444,
              "#bd3786"
             ],
             [
              0.5555555555555556,
              "#d8576b"
             ],
             [
              0.6666666666666666,
              "#ed7953"
             ],
             [
              0.7777777777777778,
              "#fb9f3a"
             ],
             [
              0.8888888888888888,
              "#fdca26"
             ],
             [
              1,
              "#f0f921"
             ]
            ],
            "type": "heatmap"
           }
          ],
          "heatmapgl": [
           {
            "colorbar": {
             "outlinewidth": 0,
             "ticks": ""
            },
            "colorscale": [
             [
              0,
              "#0d0887"
             ],
             [
              0.1111111111111111,
              "#46039f"
             ],
             [
              0.2222222222222222,
              "#7201a8"
             ],
             [
              0.3333333333333333,
              "#9c179e"
             ],
             [
              0.4444444444444444,
              "#bd3786"
             ],
             [
              0.5555555555555556,
              "#d8576b"
             ],
             [
              0.6666666666666666,
              "#ed7953"
             ],
             [
              0.7777777777777778,
              "#fb9f3a"
             ],
             [
              0.8888888888888888,
              "#fdca26"
             ],
             [
              1,
              "#f0f921"
             ]
            ],
            "type": "heatmapgl"
           }
          ],
          "histogram": [
           {
            "marker": {
             "pattern": {
              "fillmode": "overlay",
              "size": 10,
              "solidity": 0.2
             }
            },
            "type": "histogram"
           }
          ],
          "histogram2d": [
           {
            "colorbar": {
             "outlinewidth": 0,
             "ticks": ""
            },
            "colorscale": [
             [
              0,
              "#0d0887"
             ],
             [
              0.1111111111111111,
              "#46039f"
             ],
             [
              0.2222222222222222,
              "#7201a8"
             ],
             [
              0.3333333333333333,
              "#9c179e"
             ],
             [
              0.4444444444444444,
              "#bd3786"
             ],
             [
              0.5555555555555556,
              "#d8576b"
             ],
             [
              0.6666666666666666,
              "#ed7953"
             ],
             [
              0.7777777777777778,
              "#fb9f3a"
             ],
             [
              0.8888888888888888,
              "#fdca26"
             ],
             [
              1,
              "#f0f921"
             ]
            ],
            "type": "histogram2d"
           }
          ],
          "histogram2dcontour": [
           {
            "colorbar": {
             "outlinewidth": 0,
             "ticks": ""
            },
            "colorscale": [
             [
              0,
              "#0d0887"
             ],
             [
              0.1111111111111111,
              "#46039f"
             ],
             [
              0.2222222222222222,
              "#7201a8"
             ],
             [
              0.3333333333333333,
              "#9c179e"
             ],
             [
              0.4444444444444444,
              "#bd3786"
             ],
             [
              0.5555555555555556,
              "#d8576b"
             ],
             [
              0.6666666666666666,
              "#ed7953"
             ],
             [
              0.7777777777777778,
              "#fb9f3a"
             ],
             [
              0.8888888888888888,
              "#fdca26"
             ],
             [
              1,
              "#f0f921"
             ]
            ],
            "type": "histogram2dcontour"
           }
          ],
          "mesh3d": [
           {
            "colorbar": {
             "outlinewidth": 0,
             "ticks": ""
            },
            "type": "mesh3d"
           }
          ],
          "parcoords": [
           {
            "line": {
             "colorbar": {
              "outlinewidth": 0,
              "ticks": ""
             }
            },
            "type": "parcoords"
           }
          ],
          "pie": [
           {
            "automargin": true,
            "type": "pie"
           }
          ],
          "scatter": [
           {
            "fillpattern": {
             "fillmode": "overlay",
             "size": 10,
             "solidity": 0.2
            },
            "type": "scatter"
           }
          ],
          "scatter3d": [
           {
            "line": {
             "colorbar": {
              "outlinewidth": 0,
              "ticks": ""
             }
            },
            "marker": {
             "colorbar": {
              "outlinewidth": 0,
              "ticks": ""
             }
            },
            "type": "scatter3d"
           }
          ],
          "scattercarpet": [
           {
            "marker": {
             "colorbar": {
              "outlinewidth": 0,
              "ticks": ""
             }
            },
            "type": "scattercarpet"
           }
          ],
          "scattergeo": [
           {
            "marker": {
             "colorbar": {
              "outlinewidth": 0,
              "ticks": ""
             }
            },
            "type": "scattergeo"
           }
          ],
          "scattergl": [
           {
            "marker": {
             "colorbar": {
              "outlinewidth": 0,
              "ticks": ""
             }
            },
            "type": "scattergl"
           }
          ],
          "scattermapbox": [
           {
            "marker": {
             "colorbar": {
              "outlinewidth": 0,
              "ticks": ""
             }
            },
            "type": "scattermapbox"
           }
          ],
          "scatterpolar": [
           {
            "marker": {
             "colorbar": {
              "outlinewidth": 0,
              "ticks": ""
             }
            },
            "type": "scatterpolar"
           }
          ],
          "scatterpolargl": [
           {
            "marker": {
             "colorbar": {
              "outlinewidth": 0,
              "ticks": ""
             }
            },
            "type": "scatterpolargl"
           }
          ],
          "scatterternary": [
           {
            "marker": {
             "colorbar": {
              "outlinewidth": 0,
              "ticks": ""
             }
            },
            "type": "scatterternary"
           }
          ],
          "surface": [
           {
            "colorbar": {
             "outlinewidth": 0,
             "ticks": ""
            },
            "colorscale": [
             [
              0,
              "#0d0887"
             ],
             [
              0.1111111111111111,
              "#46039f"
             ],
             [
              0.2222222222222222,
              "#7201a8"
             ],
             [
              0.3333333333333333,
              "#9c179e"
             ],
             [
              0.4444444444444444,
              "#bd3786"
             ],
             [
              0.5555555555555556,
              "#d8576b"
             ],
             [
              0.6666666666666666,
              "#ed7953"
             ],
             [
              0.7777777777777778,
              "#fb9f3a"
             ],
             [
              0.8888888888888888,
              "#fdca26"
             ],
             [
              1,
              "#f0f921"
             ]
            ],
            "type": "surface"
           }
          ],
          "table": [
           {
            "cells": {
             "fill": {
              "color": "#EBF0F8"
             },
             "line": {
              "color": "white"
             }
            },
            "header": {
             "fill": {
              "color": "#C8D4E3"
             },
             "line": {
              "color": "white"
             }
            },
            "type": "table"
           }
          ]
         },
         "layout": {
          "annotationdefaults": {
           "arrowcolor": "#2a3f5f",
           "arrowhead": 0,
           "arrowwidth": 1
          },
          "autotypenumbers": "strict",
          "coloraxis": {
           "colorbar": {
            "outlinewidth": 0,
            "ticks": ""
           }
          },
          "colorscale": {
           "diverging": [
            [
             0,
             "#8e0152"
            ],
            [
             0.1,
             "#c51b7d"
            ],
            [
             0.2,
             "#de77ae"
            ],
            [
             0.3,
             "#f1b6da"
            ],
            [
             0.4,
             "#fde0ef"
            ],
            [
             0.5,
             "#f7f7f7"
            ],
            [
             0.6,
             "#e6f5d0"
            ],
            [
             0.7,
             "#b8e186"
            ],
            [
             0.8,
             "#7fbc41"
            ],
            [
             0.9,
             "#4d9221"
            ],
            [
             1,
             "#276419"
            ]
           ],
           "sequential": [
            [
             0,
             "#0d0887"
            ],
            [
             0.1111111111111111,
             "#46039f"
            ],
            [
             0.2222222222222222,
             "#7201a8"
            ],
            [
             0.3333333333333333,
             "#9c179e"
            ],
            [
             0.4444444444444444,
             "#bd3786"
            ],
            [
             0.5555555555555556,
             "#d8576b"
            ],
            [
             0.6666666666666666,
             "#ed7953"
            ],
            [
             0.7777777777777778,
             "#fb9f3a"
            ],
            [
             0.8888888888888888,
             "#fdca26"
            ],
            [
             1,
             "#f0f921"
            ]
           ],
           "sequentialminus": [
            [
             0,
             "#0d0887"
            ],
            [
             0.1111111111111111,
             "#46039f"
            ],
            [
             0.2222222222222222,
             "#7201a8"
            ],
            [
             0.3333333333333333,
             "#9c179e"
            ],
            [
             0.4444444444444444,
             "#bd3786"
            ],
            [
             0.5555555555555556,
             "#d8576b"
            ],
            [
             0.6666666666666666,
             "#ed7953"
            ],
            [
             0.7777777777777778,
             "#fb9f3a"
            ],
            [
             0.8888888888888888,
             "#fdca26"
            ],
            [
             1,
             "#f0f921"
            ]
           ]
          },
          "colorway": [
           "#636efa",
           "#EF553B",
           "#00cc96",
           "#ab63fa",
           "#FFA15A",
           "#19d3f3",
           "#FF6692",
           "#B6E880",
           "#FF97FF",
           "#FECB52"
          ],
          "font": {
           "color": "#2a3f5f"
          },
          "geo": {
           "bgcolor": "white",
           "lakecolor": "white",
           "landcolor": "#E5ECF6",
           "showlakes": true,
           "showland": true,
           "subunitcolor": "white"
          },
          "hoverlabel": {
           "align": "left"
          },
          "hovermode": "closest",
          "mapbox": {
           "style": "light"
          },
          "paper_bgcolor": "white",
          "plot_bgcolor": "#E5ECF6",
          "polar": {
           "angularaxis": {
            "gridcolor": "white",
            "linecolor": "white",
            "ticks": ""
           },
           "bgcolor": "#E5ECF6",
           "radialaxis": {
            "gridcolor": "white",
            "linecolor": "white",
            "ticks": ""
           }
          },
          "scene": {
           "xaxis": {
            "backgroundcolor": "#E5ECF6",
            "gridcolor": "white",
            "gridwidth": 2,
            "linecolor": "white",
            "showbackground": true,
            "ticks": "",
            "zerolinecolor": "white"
           },
           "yaxis": {
            "backgroundcolor": "#E5ECF6",
            "gridcolor": "white",
            "gridwidth": 2,
            "linecolor": "white",
            "showbackground": true,
            "ticks": "",
            "zerolinecolor": "white"
           },
           "zaxis": {
            "backgroundcolor": "#E5ECF6",
            "gridcolor": "white",
            "gridwidth": 2,
            "linecolor": "white",
            "showbackground": true,
            "ticks": "",
            "zerolinecolor": "white"
           }
          },
          "shapedefaults": {
           "line": {
            "color": "#2a3f5f"
           }
          },
          "ternary": {
           "aaxis": {
            "gridcolor": "white",
            "linecolor": "white",
            "ticks": ""
           },
           "baxis": {
            "gridcolor": "white",
            "linecolor": "white",
            "ticks": ""
           },
           "bgcolor": "#E5ECF6",
           "caxis": {
            "gridcolor": "white",
            "linecolor": "white",
            "ticks": ""
           }
          },
          "title": {
           "x": 0.05
          },
          "xaxis": {
           "automargin": true,
           "gridcolor": "white",
           "linecolor": "white",
           "ticks": "",
           "title": {
            "standoff": 15
           },
           "zerolinecolor": "white",
           "zerolinewidth": 2
          },
          "yaxis": {
           "automargin": true,
           "gridcolor": "white",
           "linecolor": "white",
           "ticks": "",
           "title": {
            "standoff": 15
           },
           "zerolinecolor": "white",
           "zerolinewidth": 2
          }
         }
        },
        "title": {
         "text": "Análisis de la evolución de diferentes variables del pozo E 184"
        },
        "xaxis": {
         "anchor": "y",
         "domain": [
          0,
          0.94
         ],
         "title": {
          "text": "Fecha"
         }
        },
        "yaxis": {
         "anchor": "x",
         "domain": [
          0,
          1
         ],
         "title": {
          "text": "Profundidad"
         }
        },
        "yaxis2": {
         "anchor": "x",
         "overlaying": "y",
         "side": "right",
         "title": {
          "text": "Velocidad"
         }
        }
       }
      },
      "text/html": [
       "<div>                            <div id=\"fdf90b2c-a018-4ed4-aef2-97902f4f6765\" class=\"plotly-graph-div\" style=\"height:525px; width:100%;\"></div>            <script type=\"text/javascript\">                require([\"plotly\"], function(Plotly) {                    window.PLOTLYENV=window.PLOTLYENV || {};                                    if (document.getElementById(\"fdf90b2c-a018-4ed4-aef2-97902f4f6765\")) {                    Plotly.newPlot(                        \"fdf90b2c-a018-4ed4-aef2-97902f4f6765\",                        [{\"name\":\"Profundidad gas\",\"x\":[\"2020-07-02T00:00:00\",\"2020-08-05T00:00:00\",\"2020-09-04T00:00:00\",\"2020-10-05T00:00:00\",\"2020-11-12T00:00:00\",\"2020-12-10T00:00:00\",\"2021-01-06T00:00:00\",\"2021-02-03T00:00:00\",\"2021-03-03T00:00:00\",\"2021-04-07T00:00:00\",\"2021-05-13T00:00:00\",\"2021-06-04T00:00:00\",\"2021-07-05T00:00:00\",\"2021-07-13T00:00:00\",\"2021-08-02T00:00:00\",\"2021-09-06T00:00:00\",\"2021-09-30T00:00:00\",\"2021-11-03T00:00:00\",\"2021-12-03T00:00:00\",\"2022-01-05T00:00:00\",\"2022-02-04T00:00:00\",\"2022-03-04T00:00:00\",\"2022-04-04T00:00:00\",\"2022-05-04T00:00:00\",\"2022-06-01T00:00:00\",\"2022-07-05T00:00:00\",\"2022-08-03T00:00:00\",\"2022-09-06T00:00:00\",\"2022-10-04T00:00:00\",\"2022-11-02T00:00:00\",\"2022-12-06T00:00:00\",\"2023-01-05T00:00:00\",\"2023-02-07T00:00:00\",\"2023-03-14T00:00:00\",\"2023-04-12T00:00:00\"],\"y\":[1720,1709,1723,1736,1726,1737,1721,1714,1730,1721,1732,1621,1629,1674,193,1725,1744,1746,1764,1758,1758,1757,1774,1779,1771,1792,1780,1789,1767,1764,1752,1772,1697,1706,1719],\"type\":\"scatter\",\"xaxis\":\"x\",\"yaxis\":\"y\"},{\"name\":\"Profundidad niveles\",\"x\":[\"2020-07-02T00:00:00\",\"2020-08-05T00:00:00\",\"2020-09-04T00:00:00\",\"2020-10-05T00:00:00\",\"2020-11-12T00:00:00\",\"2020-12-10T00:00:00\",\"2021-01-06T00:00:00\",\"2021-02-03T00:00:00\",\"2021-03-03T00:00:00\",\"2021-04-07T00:00:00\",\"2021-05-13T00:00:00\",\"2021-06-04T00:00:00\",\"2021-07-05T00:00:00\",\"2021-07-13T00:00:00\",\"2021-08-02T00:00:00\",\"2021-09-06T00:00:00\",\"2021-09-30T00:00:00\",\"2021-11-03T00:00:00\",\"2021-12-03T00:00:00\",\"2022-01-05T00:00:00\",\"2022-02-04T00:00:00\",\"2022-03-04T00:00:00\",\"2022-04-04T00:00:00\",\"2022-05-04T00:00:00\",\"2022-06-01T00:00:00\",\"2022-07-05T00:00:00\",\"2022-08-03T00:00:00\",\"2022-09-06T00:00:00\",\"2022-10-04T00:00:00\",\"2022-11-02T00:00:00\",\"2022-12-06T00:00:00\",\"2023-01-05T00:00:00\",\"2023-02-07T00:00:00\",\"2023-03-14T00:00:00\",\"2023-04-12T00:00:00\"],\"y\":[1808,1800,1799,1799,1726,1806,1805,1801,1810,1787,1732,1779,1674,1785,539,1809,1790,1814,1813,1793,1806,1820,1823,1824,1824,1822,1802,1827,1804,1820,1815,1819,1803,1792,1798],\"type\":\"scatter\",\"xaxis\":\"x\",\"yaxis\":\"y\"},{\"name\":\"Profundidad bomba\",\"x\":[\"2020-07-02T00:00:00\",\"2020-08-05T00:00:00\",\"2020-09-04T00:00:00\",\"2020-10-05T00:00:00\",\"2020-11-12T00:00:00\",\"2020-12-10T00:00:00\",\"2021-01-06T00:00:00\",\"2021-02-03T00:00:00\",\"2021-03-03T00:00:00\",\"2021-04-07T00:00:00\",\"2021-05-13T00:00:00\",\"2021-06-04T00:00:00\",\"2021-07-05T00:00:00\",\"2021-07-13T00:00:00\",\"2021-08-02T00:00:00\",\"2021-09-06T00:00:00\",\"2021-09-30T00:00:00\",\"2021-11-03T00:00:00\",\"2021-12-03T00:00:00\",\"2022-01-05T00:00:00\",\"2022-02-04T00:00:00\",\"2022-03-04T00:00:00\",\"2022-04-04T00:00:00\",\"2022-05-04T00:00:00\",\"2022-06-01T00:00:00\",\"2022-07-05T00:00:00\",\"2022-08-03T00:00:00\",\"2022-09-06T00:00:00\",\"2022-10-04T00:00:00\",\"2022-11-02T00:00:00\",\"2022-12-06T00:00:00\",\"2023-01-05T00:00:00\",\"2023-02-07T00:00:00\",\"2023-03-14T00:00:00\",\"2023-04-12T00:00:00\"],\"y\":[1839.0,1839.0,1839.0,1839.0,1839.0,1839.0,1839.0,1839.0,1839.0,1839.0,1839.0,1839.0,1839.0,1839.0,1839.0,1839.0,1839.0,1841.0,1841.0,1841.0,1841.0,1841.0,1841.0,1841.0,1841.0,1841.0,1841.0,1841.0,1841.0,1841.0,1841.0,1841.0,1841.0,1841.0,1841.0],\"type\":\"scatter\",\"xaxis\":\"x\",\"yaxis\":\"y\"},{\"name\":\"Velocidad del sonido\",\"x\":[\"2020-07-02T00:00:00\",\"2020-08-05T00:00:00\",\"2020-09-04T00:00:00\",\"2020-10-05T00:00:00\",\"2020-11-12T00:00:00\",\"2020-12-10T00:00:00\",\"2021-01-06T00:00:00\",\"2021-02-03T00:00:00\",\"2021-03-03T00:00:00\",\"2021-04-07T00:00:00\",\"2021-05-13T00:00:00\",\"2021-06-04T00:00:00\",\"2021-07-05T00:00:00\",\"2021-07-13T00:00:00\",\"2021-08-02T00:00:00\",\"2021-09-06T00:00:00\",\"2021-09-30T00:00:00\",\"2021-11-03T00:00:00\",\"2021-12-03T00:00:00\",\"2022-01-05T00:00:00\",\"2022-02-04T00:00:00\",\"2022-03-04T00:00:00\",\"2022-04-04T00:00:00\",\"2022-05-04T00:00:00\",\"2022-06-01T00:00:00\",\"2022-07-05T00:00:00\",\"2022-08-03T00:00:00\",\"2022-09-06T00:00:00\",\"2022-10-04T00:00:00\",\"2022-11-02T00:00:00\",\"2022-12-06T00:00:00\",\"2023-01-05T00:00:00\",\"2023-02-07T00:00:00\",\"2023-03-14T00:00:00\",\"2023-04-12T00:00:00\"],\"y\":[302,301,302,305,302,304,305,301,304,302,305,302,304,302,313,305,303,306,308,307,310,308,310,309,314,313,314,310,310,307,308,309,322,305,304],\"type\":\"scatter\",\"xaxis\":\"x\",\"yaxis\":\"y2\"}],                        {\"template\":{\"data\":{\"histogram2dcontour\":[{\"type\":\"histogram2dcontour\",\"colorbar\":{\"outlinewidth\":0,\"ticks\":\"\"},\"colorscale\":[[0.0,\"#0d0887\"],[0.1111111111111111,\"#46039f\"],[0.2222222222222222,\"#7201a8\"],[0.3333333333333333,\"#9c179e\"],[0.4444444444444444,\"#bd3786\"],[0.5555555555555556,\"#d8576b\"],[0.6666666666666666,\"#ed7953\"],[0.7777777777777778,\"#fb9f3a\"],[0.8888888888888888,\"#fdca26\"],[1.0,\"#f0f921\"]]}],\"choropleth\":[{\"type\":\"choropleth\",\"colorbar\":{\"outlinewidth\":0,\"ticks\":\"\"}}],\"histogram2d\":[{\"type\":\"histogram2d\",\"colorbar\":{\"outlinewidth\":0,\"ticks\":\"\"},\"colorscale\":[[0.0,\"#0d0887\"],[0.1111111111111111,\"#46039f\"],[0.2222222222222222,\"#7201a8\"],[0.3333333333333333,\"#9c179e\"],[0.4444444444444444,\"#bd3786\"],[0.5555555555555556,\"#d8576b\"],[0.6666666666666666,\"#ed7953\"],[0.7777777777777778,\"#fb9f3a\"],[0.8888888888888888,\"#fdca26\"],[1.0,\"#f0f921\"]]}],\"heatmap\":[{\"type\":\"heatmap\",\"colorbar\":{\"outlinewidth\":0,\"ticks\":\"\"},\"colorscale\":[[0.0,\"#0d0887\"],[0.1111111111111111,\"#46039f\"],[0.2222222222222222,\"#7201a8\"],[0.3333333333333333,\"#9c179e\"],[0.4444444444444444,\"#bd3786\"],[0.5555555555555556,\"#d8576b\"],[0.6666666666666666,\"#ed7953\"],[0.7777777777777778,\"#fb9f3a\"],[0.8888888888888888,\"#fdca26\"],[1.0,\"#f0f921\"]]}],\"heatmapgl\":[{\"type\":\"heatmapgl\",\"colorbar\":{\"outlinewidth\":0,\"ticks\":\"\"},\"colorscale\":[[0.0,\"#0d0887\"],[0.1111111111111111,\"#46039f\"],[0.2222222222222222,\"#7201a8\"],[0.3333333333333333,\"#9c179e\"],[0.4444444444444444,\"#bd3786\"],[0.5555555555555556,\"#d8576b\"],[0.6666666666666666,\"#ed7953\"],[0.7777777777777778,\"#fb9f3a\"],[0.8888888888888888,\"#fdca26\"],[1.0,\"#f0f921\"]]}],\"contourcarpet\":[{\"type\":\"contourcarpet\",\"colorbar\":{\"outlinewidth\":0,\"ticks\":\"\"}}],\"contour\":[{\"type\":\"contour\",\"colorbar\":{\"outlinewidth\":0,\"ticks\":\"\"},\"colorscale\":[[0.0,\"#0d0887\"],[0.1111111111111111,\"#46039f\"],[0.2222222222222222,\"#7201a8\"],[0.3333333333333333,\"#9c179e\"],[0.4444444444444444,\"#bd3786\"],[0.5555555555555556,\"#d8576b\"],[0.6666666666666666,\"#ed7953\"],[0.7777777777777778,\"#fb9f3a\"],[0.8888888888888888,\"#fdca26\"],[1.0,\"#f0f921\"]]}],\"surface\":[{\"type\":\"surface\",\"colorbar\":{\"outlinewidth\":0,\"ticks\":\"\"},\"colorscale\":[[0.0,\"#0d0887\"],[0.1111111111111111,\"#46039f\"],[0.2222222222222222,\"#7201a8\"],[0.3333333333333333,\"#9c179e\"],[0.4444444444444444,\"#bd3786\"],[0.5555555555555556,\"#d8576b\"],[0.6666666666666666,\"#ed7953\"],[0.7777777777777778,\"#fb9f3a\"],[0.8888888888888888,\"#fdca26\"],[1.0,\"#f0f921\"]]}],\"mesh3d\":[{\"type\":\"mesh3d\",\"colorbar\":{\"outlinewidth\":0,\"ticks\":\"\"}}],\"scatter\":[{\"fillpattern\":{\"fillmode\":\"overlay\",\"size\":10,\"solidity\":0.2},\"type\":\"scatter\"}],\"parcoords\":[{\"type\":\"parcoords\",\"line\":{\"colorbar\":{\"outlinewidth\":0,\"ticks\":\"\"}}}],\"scatterpolargl\":[{\"type\":\"scatterpolargl\",\"marker\":{\"colorbar\":{\"outlinewidth\":0,\"ticks\":\"\"}}}],\"bar\":[{\"error_x\":{\"color\":\"#2a3f5f\"},\"error_y\":{\"color\":\"#2a3f5f\"},\"marker\":{\"line\":{\"color\":\"#E5ECF6\",\"width\":0.5},\"pattern\":{\"fillmode\":\"overlay\",\"size\":10,\"solidity\":0.2}},\"type\":\"bar\"}],\"scattergeo\":[{\"type\":\"scattergeo\",\"marker\":{\"colorbar\":{\"outlinewidth\":0,\"ticks\":\"\"}}}],\"scatterpolar\":[{\"type\":\"scatterpolar\",\"marker\":{\"colorbar\":{\"outlinewidth\":0,\"ticks\":\"\"}}}],\"histogram\":[{\"marker\":{\"pattern\":{\"fillmode\":\"overlay\",\"size\":10,\"solidity\":0.2}},\"type\":\"histogram\"}],\"scattergl\":[{\"type\":\"scattergl\",\"marker\":{\"colorbar\":{\"outlinewidth\":0,\"ticks\":\"\"}}}],\"scatter3d\":[{\"type\":\"scatter3d\",\"line\":{\"colorbar\":{\"outlinewidth\":0,\"ticks\":\"\"}},\"marker\":{\"colorbar\":{\"outlinewidth\":0,\"ticks\":\"\"}}}],\"scattermapbox\":[{\"type\":\"scattermapbox\",\"marker\":{\"colorbar\":{\"outlinewidth\":0,\"ticks\":\"\"}}}],\"scatterternary\":[{\"type\":\"scatterternary\",\"marker\":{\"colorbar\":{\"outlinewidth\":0,\"ticks\":\"\"}}}],\"scattercarpet\":[{\"type\":\"scattercarpet\",\"marker\":{\"colorbar\":{\"outlinewidth\":0,\"ticks\":\"\"}}}],\"carpet\":[{\"aaxis\":{\"endlinecolor\":\"#2a3f5f\",\"gridcolor\":\"white\",\"linecolor\":\"white\",\"minorgridcolor\":\"white\",\"startlinecolor\":\"#2a3f5f\"},\"baxis\":{\"endlinecolor\":\"#2a3f5f\",\"gridcolor\":\"white\",\"linecolor\":\"white\",\"minorgridcolor\":\"white\",\"startlinecolor\":\"#2a3f5f\"},\"type\":\"carpet\"}],\"table\":[{\"cells\":{\"fill\":{\"color\":\"#EBF0F8\"},\"line\":{\"color\":\"white\"}},\"header\":{\"fill\":{\"color\":\"#C8D4E3\"},\"line\":{\"color\":\"white\"}},\"type\":\"table\"}],\"barpolar\":[{\"marker\":{\"line\":{\"color\":\"#E5ECF6\",\"width\":0.5},\"pattern\":{\"fillmode\":\"overlay\",\"size\":10,\"solidity\":0.2}},\"type\":\"barpolar\"}],\"pie\":[{\"automargin\":true,\"type\":\"pie\"}]},\"layout\":{\"autotypenumbers\":\"strict\",\"colorway\":[\"#636efa\",\"#EF553B\",\"#00cc96\",\"#ab63fa\",\"#FFA15A\",\"#19d3f3\",\"#FF6692\",\"#B6E880\",\"#FF97FF\",\"#FECB52\"],\"font\":{\"color\":\"#2a3f5f\"},\"hovermode\":\"closest\",\"hoverlabel\":{\"align\":\"left\"},\"paper_bgcolor\":\"white\",\"plot_bgcolor\":\"#E5ECF6\",\"polar\":{\"bgcolor\":\"#E5ECF6\",\"angularaxis\":{\"gridcolor\":\"white\",\"linecolor\":\"white\",\"ticks\":\"\"},\"radialaxis\":{\"gridcolor\":\"white\",\"linecolor\":\"white\",\"ticks\":\"\"}},\"ternary\":{\"bgcolor\":\"#E5ECF6\",\"aaxis\":{\"gridcolor\":\"white\",\"linecolor\":\"white\",\"ticks\":\"\"},\"baxis\":{\"gridcolor\":\"white\",\"linecolor\":\"white\",\"ticks\":\"\"},\"caxis\":{\"gridcolor\":\"white\",\"linecolor\":\"white\",\"ticks\":\"\"}},\"coloraxis\":{\"colorbar\":{\"outlinewidth\":0,\"ticks\":\"\"}},\"colorscale\":{\"sequential\":[[0.0,\"#0d0887\"],[0.1111111111111111,\"#46039f\"],[0.2222222222222222,\"#7201a8\"],[0.3333333333333333,\"#9c179e\"],[0.4444444444444444,\"#bd3786\"],[0.5555555555555556,\"#d8576b\"],[0.6666666666666666,\"#ed7953\"],[0.7777777777777778,\"#fb9f3a\"],[0.8888888888888888,\"#fdca26\"],[1.0,\"#f0f921\"]],\"sequentialminus\":[[0.0,\"#0d0887\"],[0.1111111111111111,\"#46039f\"],[0.2222222222222222,\"#7201a8\"],[0.3333333333333333,\"#9c179e\"],[0.4444444444444444,\"#bd3786\"],[0.5555555555555556,\"#d8576b\"],[0.6666666666666666,\"#ed7953\"],[0.7777777777777778,\"#fb9f3a\"],[0.8888888888888888,\"#fdca26\"],[1.0,\"#f0f921\"]],\"diverging\":[[0,\"#8e0152\"],[0.1,\"#c51b7d\"],[0.2,\"#de77ae\"],[0.3,\"#f1b6da\"],[0.4,\"#fde0ef\"],[0.5,\"#f7f7f7\"],[0.6,\"#e6f5d0\"],[0.7,\"#b8e186\"],[0.8,\"#7fbc41\"],[0.9,\"#4d9221\"],[1,\"#276419\"]]},\"xaxis\":{\"gridcolor\":\"white\",\"linecolor\":\"white\",\"ticks\":\"\",\"title\":{\"standoff\":15},\"zerolinecolor\":\"white\",\"automargin\":true,\"zerolinewidth\":2},\"yaxis\":{\"gridcolor\":\"white\",\"linecolor\":\"white\",\"ticks\":\"\",\"title\":{\"standoff\":15},\"zerolinecolor\":\"white\",\"automargin\":true,\"zerolinewidth\":2},\"scene\":{\"xaxis\":{\"backgroundcolor\":\"#E5ECF6\",\"gridcolor\":\"white\",\"linecolor\":\"white\",\"showbackground\":true,\"ticks\":\"\",\"zerolinecolor\":\"white\",\"gridwidth\":2},\"yaxis\":{\"backgroundcolor\":\"#E5ECF6\",\"gridcolor\":\"white\",\"linecolor\":\"white\",\"showbackground\":true,\"ticks\":\"\",\"zerolinecolor\":\"white\",\"gridwidth\":2},\"zaxis\":{\"backgroundcolor\":\"#E5ECF6\",\"gridcolor\":\"white\",\"linecolor\":\"white\",\"showbackground\":true,\"ticks\":\"\",\"zerolinecolor\":\"white\",\"gridwidth\":2}},\"shapedefaults\":{\"line\":{\"color\":\"#2a3f5f\"}},\"annotationdefaults\":{\"arrowcolor\":\"#2a3f5f\",\"arrowhead\":0,\"arrowwidth\":1},\"geo\":{\"bgcolor\":\"white\",\"landcolor\":\"#E5ECF6\",\"subunitcolor\":\"white\",\"showland\":true,\"showlakes\":true,\"lakecolor\":\"white\"},\"title\":{\"x\":0.05},\"mapbox\":{\"style\":\"light\"}}},\"xaxis\":{\"anchor\":\"y\",\"domain\":[0.0,0.94],\"title\":{\"text\":\"Fecha\"}},\"yaxis\":{\"anchor\":\"x\",\"domain\":[0.0,1.0],\"title\":{\"text\":\"Profundidad\"}},\"yaxis2\":{\"anchor\":\"x\",\"overlaying\":\"y\",\"side\":\"right\",\"title\":{\"text\":\"Velocidad\"}},\"title\":{\"text\":\"An\\u00e1lisis de la evoluci\\u00f3n de diferentes variables del pozo E 184\"}},                        {\"responsive\": true}                    ).then(function(){\n",
       "                            \n",
       "var gd = document.getElementById('fdf90b2c-a018-4ed4-aef2-97902f4f6765');\n",
       "var x = new MutationObserver(function (mutations, observer) {{\n",
       "        var display = window.getComputedStyle(gd).display;\n",
       "        if (!display || display === 'none') {{\n",
       "            console.log([gd, 'removed!']);\n",
       "            Plotly.purge(gd);\n",
       "            observer.disconnect();\n",
       "        }}\n",
       "}});\n",
       "\n",
       "// Listen for the removal of the full notebook cells\n",
       "var notebookContainer = gd.closest('#notebook-container');\n",
       "if (notebookContainer) {{\n",
       "    x.observe(notebookContainer, {childList: true});\n",
       "}}\n",
       "\n",
       "// Listen for the clearing of the current output cell\n",
       "var outputEl = gd.closest('.output');\n",
       "if (outputEl) {{\n",
       "    x.observe(outputEl, {childList: true});\n",
       "}}\n",
       "\n",
       "                        })                };                });            </script>        </div>"
      ]
     },
     "metadata": {},
     "output_type": "display_data"
    },
    {
     "data": {
      "application/vnd.plotly.v1+json": {
       "config": {
        "plotlyServerURL": "https://plot.ly"
       },
       "data": [
        {
         "name": "Profundidad bomba",
         "type": "scatter",
         "x": [
          "2020-07-02T00:00:00",
          "2020-08-05T00:00:00",
          "2020-09-04T00:00:00",
          "2020-10-05T00:00:00",
          "2020-11-12T00:00:00",
          "2020-12-10T00:00:00",
          "2021-01-06T00:00:00",
          "2021-02-03T00:00:00",
          "2021-03-03T00:00:00",
          "2021-04-07T00:00:00",
          "2021-05-13T00:00:00",
          "2021-06-04T00:00:00",
          "2021-07-05T00:00:00",
          "2021-07-13T00:00:00",
          "2021-08-02T00:00:00",
          "2021-09-06T00:00:00",
          "2021-09-30T00:00:00",
          "2021-11-03T00:00:00",
          "2021-12-03T00:00:00",
          "2022-01-05T00:00:00",
          "2022-02-04T00:00:00",
          "2022-03-04T00:00:00",
          "2022-04-04T00:00:00",
          "2022-05-04T00:00:00",
          "2022-06-01T00:00:00",
          "2022-07-05T00:00:00",
          "2022-08-03T00:00:00",
          "2022-09-06T00:00:00",
          "2022-10-04T00:00:00",
          "2022-11-02T00:00:00",
          "2022-12-06T00:00:00",
          "2023-01-05T00:00:00",
          "2023-02-07T00:00:00",
          "2023-03-14T00:00:00",
          "2023-04-12T00:00:00"
         ],
         "xaxis": "x",
         "y": [
          1839,
          1839,
          1839,
          1839,
          1839,
          1839,
          1839,
          1839,
          1839,
          1839,
          1839,
          1839,
          1839,
          1839,
          1839,
          1839,
          1839,
          1841,
          1841,
          1841,
          1841,
          1841,
          1841,
          1841,
          1841,
          1841,
          1841,
          1841,
          1841,
          1841,
          1841,
          1841,
          1841,
          1841,
          1841
         ],
         "yaxis": "y"
        },
        {
         "name": "Producción petroleo",
         "type": "scatter",
         "x": [
          "2020-07-02T00:00:00",
          "2020-08-05T00:00:00",
          "2020-09-04T00:00:00",
          "2020-10-05T00:00:00",
          "2020-11-12T00:00:00",
          "2020-12-10T00:00:00",
          "2021-01-06T00:00:00",
          "2021-02-03T00:00:00",
          "2021-03-03T00:00:00",
          "2021-04-07T00:00:00",
          "2021-05-13T00:00:00",
          "2021-06-04T00:00:00",
          "2021-07-05T00:00:00",
          "2021-07-13T00:00:00",
          "2021-08-02T00:00:00",
          "2021-09-06T00:00:00",
          "2021-09-30T00:00:00",
          "2021-11-03T00:00:00",
          "2021-12-03T00:00:00",
          "2022-01-05T00:00:00",
          "2022-02-04T00:00:00",
          "2022-03-04T00:00:00",
          "2022-04-04T00:00:00",
          "2022-05-04T00:00:00",
          "2022-06-01T00:00:00",
          "2022-07-05T00:00:00",
          "2022-08-03T00:00:00",
          "2022-09-06T00:00:00",
          "2022-10-04T00:00:00",
          "2022-11-02T00:00:00",
          "2022-12-06T00:00:00",
          "2023-01-05T00:00:00",
          "2023-02-07T00:00:00",
          "2023-03-14T00:00:00",
          "2023-04-12T00:00:00"
         ],
         "xaxis": "x",
         "y": [
          3.5,
          3.5,
          3.5,
          4.8,
          4.8,
          8,
          8,
          2.9,
          3.8,
          3.8,
          2,
          5.9,
          5.9,
          5.9,
          2,
          2,
          2,
          1.7,
          3.6,
          2,
          2.1,
          1.5,
          1.8,
          1.8,
          1.8,
          3,
          1.6,
          3.4,
          2.5,
          2.5,
          2.9,
          2.5,
          2.7,
          2,
          1.8
         ],
         "yaxis": "y2"
        }
       ],
       "layout": {
        "template": {
         "data": {
          "bar": [
           {
            "error_x": {
             "color": "#2a3f5f"
            },
            "error_y": {
             "color": "#2a3f5f"
            },
            "marker": {
             "line": {
              "color": "#E5ECF6",
              "width": 0.5
             },
             "pattern": {
              "fillmode": "overlay",
              "size": 10,
              "solidity": 0.2
             }
            },
            "type": "bar"
           }
          ],
          "barpolar": [
           {
            "marker": {
             "line": {
              "color": "#E5ECF6",
              "width": 0.5
             },
             "pattern": {
              "fillmode": "overlay",
              "size": 10,
              "solidity": 0.2
             }
            },
            "type": "barpolar"
           }
          ],
          "carpet": [
           {
            "aaxis": {
             "endlinecolor": "#2a3f5f",
             "gridcolor": "white",
             "linecolor": "white",
             "minorgridcolor": "white",
             "startlinecolor": "#2a3f5f"
            },
            "baxis": {
             "endlinecolor": "#2a3f5f",
             "gridcolor": "white",
             "linecolor": "white",
             "minorgridcolor": "white",
             "startlinecolor": "#2a3f5f"
            },
            "type": "carpet"
           }
          ],
          "choropleth": [
           {
            "colorbar": {
             "outlinewidth": 0,
             "ticks": ""
            },
            "type": "choropleth"
           }
          ],
          "contour": [
           {
            "colorbar": {
             "outlinewidth": 0,
             "ticks": ""
            },
            "colorscale": [
             [
              0,
              "#0d0887"
             ],
             [
              0.1111111111111111,
              "#46039f"
             ],
             [
              0.2222222222222222,
              "#7201a8"
             ],
             [
              0.3333333333333333,
              "#9c179e"
             ],
             [
              0.4444444444444444,
              "#bd3786"
             ],
             [
              0.5555555555555556,
              "#d8576b"
             ],
             [
              0.6666666666666666,
              "#ed7953"
             ],
             [
              0.7777777777777778,
              "#fb9f3a"
             ],
             [
              0.8888888888888888,
              "#fdca26"
             ],
             [
              1,
              "#f0f921"
             ]
            ],
            "type": "contour"
           }
          ],
          "contourcarpet": [
           {
            "colorbar": {
             "outlinewidth": 0,
             "ticks": ""
            },
            "type": "contourcarpet"
           }
          ],
          "heatmap": [
           {
            "colorbar": {
             "outlinewidth": 0,
             "ticks": ""
            },
            "colorscale": [
             [
              0,
              "#0d0887"
             ],
             [
              0.1111111111111111,
              "#46039f"
             ],
             [
              0.2222222222222222,
              "#7201a8"
             ],
             [
              0.3333333333333333,
              "#9c179e"
             ],
             [
              0.4444444444444444,
              "#bd3786"
             ],
             [
              0.5555555555555556,
              "#d8576b"
             ],
             [
              0.6666666666666666,
              "#ed7953"
             ],
             [
              0.7777777777777778,
              "#fb9f3a"
             ],
             [
              0.8888888888888888,
              "#fdca26"
             ],
             [
              1,
              "#f0f921"
             ]
            ],
            "type": "heatmap"
           }
          ],
          "heatmapgl": [
           {
            "colorbar": {
             "outlinewidth": 0,
             "ticks": ""
            },
            "colorscale": [
             [
              0,
              "#0d0887"
             ],
             [
              0.1111111111111111,
              "#46039f"
             ],
             [
              0.2222222222222222,
              "#7201a8"
             ],
             [
              0.3333333333333333,
              "#9c179e"
             ],
             [
              0.4444444444444444,
              "#bd3786"
             ],
             [
              0.5555555555555556,
              "#d8576b"
             ],
             [
              0.6666666666666666,
              "#ed7953"
             ],
             [
              0.7777777777777778,
              "#fb9f3a"
             ],
             [
              0.8888888888888888,
              "#fdca26"
             ],
             [
              1,
              "#f0f921"
             ]
            ],
            "type": "heatmapgl"
           }
          ],
          "histogram": [
           {
            "marker": {
             "pattern": {
              "fillmode": "overlay",
              "size": 10,
              "solidity": 0.2
             }
            },
            "type": "histogram"
           }
          ],
          "histogram2d": [
           {
            "colorbar": {
             "outlinewidth": 0,
             "ticks": ""
            },
            "colorscale": [
             [
              0,
              "#0d0887"
             ],
             [
              0.1111111111111111,
              "#46039f"
             ],
             [
              0.2222222222222222,
              "#7201a8"
             ],
             [
              0.3333333333333333,
              "#9c179e"
             ],
             [
              0.4444444444444444,
              "#bd3786"
             ],
             [
              0.5555555555555556,
              "#d8576b"
             ],
             [
              0.6666666666666666,
              "#ed7953"
             ],
             [
              0.7777777777777778,
              "#fb9f3a"
             ],
             [
              0.8888888888888888,
              "#fdca26"
             ],
             [
              1,
              "#f0f921"
             ]
            ],
            "type": "histogram2d"
           }
          ],
          "histogram2dcontour": [
           {
            "colorbar": {
             "outlinewidth": 0,
             "ticks": ""
            },
            "colorscale": [
             [
              0,
              "#0d0887"
             ],
             [
              0.1111111111111111,
              "#46039f"
             ],
             [
              0.2222222222222222,
              "#7201a8"
             ],
             [
              0.3333333333333333,
              "#9c179e"
             ],
             [
              0.4444444444444444,
              "#bd3786"
             ],
             [
              0.5555555555555556,
              "#d8576b"
             ],
             [
              0.6666666666666666,
              "#ed7953"
             ],
             [
              0.7777777777777778,
              "#fb9f3a"
             ],
             [
              0.8888888888888888,
              "#fdca26"
             ],
             [
              1,
              "#f0f921"
             ]
            ],
            "type": "histogram2dcontour"
           }
          ],
          "mesh3d": [
           {
            "colorbar": {
             "outlinewidth": 0,
             "ticks": ""
            },
            "type": "mesh3d"
           }
          ],
          "parcoords": [
           {
            "line": {
             "colorbar": {
              "outlinewidth": 0,
              "ticks": ""
             }
            },
            "type": "parcoords"
           }
          ],
          "pie": [
           {
            "automargin": true,
            "type": "pie"
           }
          ],
          "scatter": [
           {
            "fillpattern": {
             "fillmode": "overlay",
             "size": 10,
             "solidity": 0.2
            },
            "type": "scatter"
           }
          ],
          "scatter3d": [
           {
            "line": {
             "colorbar": {
              "outlinewidth": 0,
              "ticks": ""
             }
            },
            "marker": {
             "colorbar": {
              "outlinewidth": 0,
              "ticks": ""
             }
            },
            "type": "scatter3d"
           }
          ],
          "scattercarpet": [
           {
            "marker": {
             "colorbar": {
              "outlinewidth": 0,
              "ticks": ""
             }
            },
            "type": "scattercarpet"
           }
          ],
          "scattergeo": [
           {
            "marker": {
             "colorbar": {
              "outlinewidth": 0,
              "ticks": ""
             }
            },
            "type": "scattergeo"
           }
          ],
          "scattergl": [
           {
            "marker": {
             "colorbar": {
              "outlinewidth": 0,
              "ticks": ""
             }
            },
            "type": "scattergl"
           }
          ],
          "scattermapbox": [
           {
            "marker": {
             "colorbar": {
              "outlinewidth": 0,
              "ticks": ""
             }
            },
            "type": "scattermapbox"
           }
          ],
          "scatterpolar": [
           {
            "marker": {
             "colorbar": {
              "outlinewidth": 0,
              "ticks": ""
             }
            },
            "type": "scatterpolar"
           }
          ],
          "scatterpolargl": [
           {
            "marker": {
             "colorbar": {
              "outlinewidth": 0,
              "ticks": ""
             }
            },
            "type": "scatterpolargl"
           }
          ],
          "scatterternary": [
           {
            "marker": {
             "colorbar": {
              "outlinewidth": 0,
              "ticks": ""
             }
            },
            "type": "scatterternary"
           }
          ],
          "surface": [
           {
            "colorbar": {
             "outlinewidth": 0,
             "ticks": ""
            },
            "colorscale": [
             [
              0,
              "#0d0887"
             ],
             [
              0.1111111111111111,
              "#46039f"
             ],
             [
              0.2222222222222222,
              "#7201a8"
             ],
             [
              0.3333333333333333,
              "#9c179e"
             ],
             [
              0.4444444444444444,
              "#bd3786"
             ],
             [
              0.5555555555555556,
              "#d8576b"
             ],
             [
              0.6666666666666666,
              "#ed7953"
             ],
             [
              0.7777777777777778,
              "#fb9f3a"
             ],
             [
              0.8888888888888888,
              "#fdca26"
             ],
             [
              1,
              "#f0f921"
             ]
            ],
            "type": "surface"
           }
          ],
          "table": [
           {
            "cells": {
             "fill": {
              "color": "#EBF0F8"
             },
             "line": {
              "color": "white"
             }
            },
            "header": {
             "fill": {
              "color": "#C8D4E3"
             },
             "line": {
              "color": "white"
             }
            },
            "type": "table"
           }
          ]
         },
         "layout": {
          "annotationdefaults": {
           "arrowcolor": "#2a3f5f",
           "arrowhead": 0,
           "arrowwidth": 1
          },
          "autotypenumbers": "strict",
          "coloraxis": {
           "colorbar": {
            "outlinewidth": 0,
            "ticks": ""
           }
          },
          "colorscale": {
           "diverging": [
            [
             0,
             "#8e0152"
            ],
            [
             0.1,
             "#c51b7d"
            ],
            [
             0.2,
             "#de77ae"
            ],
            [
             0.3,
             "#f1b6da"
            ],
            [
             0.4,
             "#fde0ef"
            ],
            [
             0.5,
             "#f7f7f7"
            ],
            [
             0.6,
             "#e6f5d0"
            ],
            [
             0.7,
             "#b8e186"
            ],
            [
             0.8,
             "#7fbc41"
            ],
            [
             0.9,
             "#4d9221"
            ],
            [
             1,
             "#276419"
            ]
           ],
           "sequential": [
            [
             0,
             "#0d0887"
            ],
            [
             0.1111111111111111,
             "#46039f"
            ],
            [
             0.2222222222222222,
             "#7201a8"
            ],
            [
             0.3333333333333333,
             "#9c179e"
            ],
            [
             0.4444444444444444,
             "#bd3786"
            ],
            [
             0.5555555555555556,
             "#d8576b"
            ],
            [
             0.6666666666666666,
             "#ed7953"
            ],
            [
             0.7777777777777778,
             "#fb9f3a"
            ],
            [
             0.8888888888888888,
             "#fdca26"
            ],
            [
             1,
             "#f0f921"
            ]
           ],
           "sequentialminus": [
            [
             0,
             "#0d0887"
            ],
            [
             0.1111111111111111,
             "#46039f"
            ],
            [
             0.2222222222222222,
             "#7201a8"
            ],
            [
             0.3333333333333333,
             "#9c179e"
            ],
            [
             0.4444444444444444,
             "#bd3786"
            ],
            [
             0.5555555555555556,
             "#d8576b"
            ],
            [
             0.6666666666666666,
             "#ed7953"
            ],
            [
             0.7777777777777778,
             "#fb9f3a"
            ],
            [
             0.8888888888888888,
             "#fdca26"
            ],
            [
             1,
             "#f0f921"
            ]
           ]
          },
          "colorway": [
           "#636efa",
           "#EF553B",
           "#00cc96",
           "#ab63fa",
           "#FFA15A",
           "#19d3f3",
           "#FF6692",
           "#B6E880",
           "#FF97FF",
           "#FECB52"
          ],
          "font": {
           "color": "#2a3f5f"
          },
          "geo": {
           "bgcolor": "white",
           "lakecolor": "white",
           "landcolor": "#E5ECF6",
           "showlakes": true,
           "showland": true,
           "subunitcolor": "white"
          },
          "hoverlabel": {
           "align": "left"
          },
          "hovermode": "closest",
          "mapbox": {
           "style": "light"
          },
          "paper_bgcolor": "white",
          "plot_bgcolor": "#E5ECF6",
          "polar": {
           "angularaxis": {
            "gridcolor": "white",
            "linecolor": "white",
            "ticks": ""
           },
           "bgcolor": "#E5ECF6",
           "radialaxis": {
            "gridcolor": "white",
            "linecolor": "white",
            "ticks": ""
           }
          },
          "scene": {
           "xaxis": {
            "backgroundcolor": "#E5ECF6",
            "gridcolor": "white",
            "gridwidth": 2,
            "linecolor": "white",
            "showbackground": true,
            "ticks": "",
            "zerolinecolor": "white"
           },
           "yaxis": {
            "backgroundcolor": "#E5ECF6",
            "gridcolor": "white",
            "gridwidth": 2,
            "linecolor": "white",
            "showbackground": true,
            "ticks": "",
            "zerolinecolor": "white"
           },
           "zaxis": {
            "backgroundcolor": "#E5ECF6",
            "gridcolor": "white",
            "gridwidth": 2,
            "linecolor": "white",
            "showbackground": true,
            "ticks": "",
            "zerolinecolor": "white"
           }
          },
          "shapedefaults": {
           "line": {
            "color": "#2a3f5f"
           }
          },
          "ternary": {
           "aaxis": {
            "gridcolor": "white",
            "linecolor": "white",
            "ticks": ""
           },
           "baxis": {
            "gridcolor": "white",
            "linecolor": "white",
            "ticks": ""
           },
           "bgcolor": "#E5ECF6",
           "caxis": {
            "gridcolor": "white",
            "linecolor": "white",
            "ticks": ""
           }
          },
          "title": {
           "x": 0.05
          },
          "xaxis": {
           "automargin": true,
           "gridcolor": "white",
           "linecolor": "white",
           "ticks": "",
           "title": {
            "standoff": 15
           },
           "zerolinecolor": "white",
           "zerolinewidth": 2
          },
          "yaxis": {
           "automargin": true,
           "gridcolor": "white",
           "linecolor": "white",
           "ticks": "",
           "title": {
            "standoff": 15
           },
           "zerolinecolor": "white",
           "zerolinewidth": 2
          }
         }
        },
        "xaxis": {
         "anchor": "y",
         "domain": [
          0,
          0.94
         ],
         "title": {
          "text": "Fecha"
         }
        },
        "yaxis": {
         "anchor": "x",
         "domain": [
          0,
          1
         ],
         "title": {
          "text": "Profundidad"
         }
        },
        "yaxis2": {
         "anchor": "x",
         "overlaying": "y",
         "side": "right",
         "title": {
          "text": "Producción"
         }
        }
       }
      },
      "text/html": [
       "<div>                            <div id=\"8596a557-df23-4f95-92bd-a34418f4fd28\" class=\"plotly-graph-div\" style=\"height:525px; width:100%;\"></div>            <script type=\"text/javascript\">                require([\"plotly\"], function(Plotly) {                    window.PLOTLYENV=window.PLOTLYENV || {};                                    if (document.getElementById(\"8596a557-df23-4f95-92bd-a34418f4fd28\")) {                    Plotly.newPlot(                        \"8596a557-df23-4f95-92bd-a34418f4fd28\",                        [{\"name\":\"Profundidad bomba\",\"x\":[\"2020-07-02T00:00:00\",\"2020-08-05T00:00:00\",\"2020-09-04T00:00:00\",\"2020-10-05T00:00:00\",\"2020-11-12T00:00:00\",\"2020-12-10T00:00:00\",\"2021-01-06T00:00:00\",\"2021-02-03T00:00:00\",\"2021-03-03T00:00:00\",\"2021-04-07T00:00:00\",\"2021-05-13T00:00:00\",\"2021-06-04T00:00:00\",\"2021-07-05T00:00:00\",\"2021-07-13T00:00:00\",\"2021-08-02T00:00:00\",\"2021-09-06T00:00:00\",\"2021-09-30T00:00:00\",\"2021-11-03T00:00:00\",\"2021-12-03T00:00:00\",\"2022-01-05T00:00:00\",\"2022-02-04T00:00:00\",\"2022-03-04T00:00:00\",\"2022-04-04T00:00:00\",\"2022-05-04T00:00:00\",\"2022-06-01T00:00:00\",\"2022-07-05T00:00:00\",\"2022-08-03T00:00:00\",\"2022-09-06T00:00:00\",\"2022-10-04T00:00:00\",\"2022-11-02T00:00:00\",\"2022-12-06T00:00:00\",\"2023-01-05T00:00:00\",\"2023-02-07T00:00:00\",\"2023-03-14T00:00:00\",\"2023-04-12T00:00:00\"],\"y\":[1839.0,1839.0,1839.0,1839.0,1839.0,1839.0,1839.0,1839.0,1839.0,1839.0,1839.0,1839.0,1839.0,1839.0,1839.0,1839.0,1839.0,1841.0,1841.0,1841.0,1841.0,1841.0,1841.0,1841.0,1841.0,1841.0,1841.0,1841.0,1841.0,1841.0,1841.0,1841.0,1841.0,1841.0,1841.0],\"type\":\"scatter\",\"xaxis\":\"x\",\"yaxis\":\"y\"},{\"name\":\"Producci\\u00f3n petroleo\",\"x\":[\"2020-07-02T00:00:00\",\"2020-08-05T00:00:00\",\"2020-09-04T00:00:00\",\"2020-10-05T00:00:00\",\"2020-11-12T00:00:00\",\"2020-12-10T00:00:00\",\"2021-01-06T00:00:00\",\"2021-02-03T00:00:00\",\"2021-03-03T00:00:00\",\"2021-04-07T00:00:00\",\"2021-05-13T00:00:00\",\"2021-06-04T00:00:00\",\"2021-07-05T00:00:00\",\"2021-07-13T00:00:00\",\"2021-08-02T00:00:00\",\"2021-09-06T00:00:00\",\"2021-09-30T00:00:00\",\"2021-11-03T00:00:00\",\"2021-12-03T00:00:00\",\"2022-01-05T00:00:00\",\"2022-02-04T00:00:00\",\"2022-03-04T00:00:00\",\"2022-04-04T00:00:00\",\"2022-05-04T00:00:00\",\"2022-06-01T00:00:00\",\"2022-07-05T00:00:00\",\"2022-08-03T00:00:00\",\"2022-09-06T00:00:00\",\"2022-10-04T00:00:00\",\"2022-11-02T00:00:00\",\"2022-12-06T00:00:00\",\"2023-01-05T00:00:00\",\"2023-02-07T00:00:00\",\"2023-03-14T00:00:00\",\"2023-04-12T00:00:00\"],\"y\":[3.5,3.5,3.5,4.8,4.8,8.0,8.0,2.9,3.8,3.8,2.0,5.9,5.9,5.9,2.0,2.0,2.0,1.7,3.6,2.0,2.1,1.5,1.8,1.8,1.8,3.0,1.6,3.4,2.5,2.5,2.9,2.5,2.7,2.0,1.8],\"type\":\"scatter\",\"xaxis\":\"x\",\"yaxis\":\"y2\"}],                        {\"template\":{\"data\":{\"histogram2dcontour\":[{\"type\":\"histogram2dcontour\",\"colorbar\":{\"outlinewidth\":0,\"ticks\":\"\"},\"colorscale\":[[0.0,\"#0d0887\"],[0.1111111111111111,\"#46039f\"],[0.2222222222222222,\"#7201a8\"],[0.3333333333333333,\"#9c179e\"],[0.4444444444444444,\"#bd3786\"],[0.5555555555555556,\"#d8576b\"],[0.6666666666666666,\"#ed7953\"],[0.7777777777777778,\"#fb9f3a\"],[0.8888888888888888,\"#fdca26\"],[1.0,\"#f0f921\"]]}],\"choropleth\":[{\"type\":\"choropleth\",\"colorbar\":{\"outlinewidth\":0,\"ticks\":\"\"}}],\"histogram2d\":[{\"type\":\"histogram2d\",\"colorbar\":{\"outlinewidth\":0,\"ticks\":\"\"},\"colorscale\":[[0.0,\"#0d0887\"],[0.1111111111111111,\"#46039f\"],[0.2222222222222222,\"#7201a8\"],[0.3333333333333333,\"#9c179e\"],[0.4444444444444444,\"#bd3786\"],[0.5555555555555556,\"#d8576b\"],[0.6666666666666666,\"#ed7953\"],[0.7777777777777778,\"#fb9f3a\"],[0.8888888888888888,\"#fdca26\"],[1.0,\"#f0f921\"]]}],\"heatmap\":[{\"type\":\"heatmap\",\"colorbar\":{\"outlinewidth\":0,\"ticks\":\"\"},\"colorscale\":[[0.0,\"#0d0887\"],[0.1111111111111111,\"#46039f\"],[0.2222222222222222,\"#7201a8\"],[0.3333333333333333,\"#9c179e\"],[0.4444444444444444,\"#bd3786\"],[0.5555555555555556,\"#d8576b\"],[0.6666666666666666,\"#ed7953\"],[0.7777777777777778,\"#fb9f3a\"],[0.8888888888888888,\"#fdca26\"],[1.0,\"#f0f921\"]]}],\"heatmapgl\":[{\"type\":\"heatmapgl\",\"colorbar\":{\"outlinewidth\":0,\"ticks\":\"\"},\"colorscale\":[[0.0,\"#0d0887\"],[0.1111111111111111,\"#46039f\"],[0.2222222222222222,\"#7201a8\"],[0.3333333333333333,\"#9c179e\"],[0.4444444444444444,\"#bd3786\"],[0.5555555555555556,\"#d8576b\"],[0.6666666666666666,\"#ed7953\"],[0.7777777777777778,\"#fb9f3a\"],[0.8888888888888888,\"#fdca26\"],[1.0,\"#f0f921\"]]}],\"contourcarpet\":[{\"type\":\"contourcarpet\",\"colorbar\":{\"outlinewidth\":0,\"ticks\":\"\"}}],\"contour\":[{\"type\":\"contour\",\"colorbar\":{\"outlinewidth\":0,\"ticks\":\"\"},\"colorscale\":[[0.0,\"#0d0887\"],[0.1111111111111111,\"#46039f\"],[0.2222222222222222,\"#7201a8\"],[0.3333333333333333,\"#9c179e\"],[0.4444444444444444,\"#bd3786\"],[0.5555555555555556,\"#d8576b\"],[0.6666666666666666,\"#ed7953\"],[0.7777777777777778,\"#fb9f3a\"],[0.8888888888888888,\"#fdca26\"],[1.0,\"#f0f921\"]]}],\"surface\":[{\"type\":\"surface\",\"colorbar\":{\"outlinewidth\":0,\"ticks\":\"\"},\"colorscale\":[[0.0,\"#0d0887\"],[0.1111111111111111,\"#46039f\"],[0.2222222222222222,\"#7201a8\"],[0.3333333333333333,\"#9c179e\"],[0.4444444444444444,\"#bd3786\"],[0.5555555555555556,\"#d8576b\"],[0.6666666666666666,\"#ed7953\"],[0.7777777777777778,\"#fb9f3a\"],[0.8888888888888888,\"#fdca26\"],[1.0,\"#f0f921\"]]}],\"mesh3d\":[{\"type\":\"mesh3d\",\"colorbar\":{\"outlinewidth\":0,\"ticks\":\"\"}}],\"scatter\":[{\"fillpattern\":{\"fillmode\":\"overlay\",\"size\":10,\"solidity\":0.2},\"type\":\"scatter\"}],\"parcoords\":[{\"type\":\"parcoords\",\"line\":{\"colorbar\":{\"outlinewidth\":0,\"ticks\":\"\"}}}],\"scatterpolargl\":[{\"type\":\"scatterpolargl\",\"marker\":{\"colorbar\":{\"outlinewidth\":0,\"ticks\":\"\"}}}],\"bar\":[{\"error_x\":{\"color\":\"#2a3f5f\"},\"error_y\":{\"color\":\"#2a3f5f\"},\"marker\":{\"line\":{\"color\":\"#E5ECF6\",\"width\":0.5},\"pattern\":{\"fillmode\":\"overlay\",\"size\":10,\"solidity\":0.2}},\"type\":\"bar\"}],\"scattergeo\":[{\"type\":\"scattergeo\",\"marker\":{\"colorbar\":{\"outlinewidth\":0,\"ticks\":\"\"}}}],\"scatterpolar\":[{\"type\":\"scatterpolar\",\"marker\":{\"colorbar\":{\"outlinewidth\":0,\"ticks\":\"\"}}}],\"histogram\":[{\"marker\":{\"pattern\":{\"fillmode\":\"overlay\",\"size\":10,\"solidity\":0.2}},\"type\":\"histogram\"}],\"scattergl\":[{\"type\":\"scattergl\",\"marker\":{\"colorbar\":{\"outlinewidth\":0,\"ticks\":\"\"}}}],\"scatter3d\":[{\"type\":\"scatter3d\",\"line\":{\"colorbar\":{\"outlinewidth\":0,\"ticks\":\"\"}},\"marker\":{\"colorbar\":{\"outlinewidth\":0,\"ticks\":\"\"}}}],\"scattermapbox\":[{\"type\":\"scattermapbox\",\"marker\":{\"colorbar\":{\"outlinewidth\":0,\"ticks\":\"\"}}}],\"scatterternary\":[{\"type\":\"scatterternary\",\"marker\":{\"colorbar\":{\"outlinewidth\":0,\"ticks\":\"\"}}}],\"scattercarpet\":[{\"type\":\"scattercarpet\",\"marker\":{\"colorbar\":{\"outlinewidth\":0,\"ticks\":\"\"}}}],\"carpet\":[{\"aaxis\":{\"endlinecolor\":\"#2a3f5f\",\"gridcolor\":\"white\",\"linecolor\":\"white\",\"minorgridcolor\":\"white\",\"startlinecolor\":\"#2a3f5f\"},\"baxis\":{\"endlinecolor\":\"#2a3f5f\",\"gridcolor\":\"white\",\"linecolor\":\"white\",\"minorgridcolor\":\"white\",\"startlinecolor\":\"#2a3f5f\"},\"type\":\"carpet\"}],\"table\":[{\"cells\":{\"fill\":{\"color\":\"#EBF0F8\"},\"line\":{\"color\":\"white\"}},\"header\":{\"fill\":{\"color\":\"#C8D4E3\"},\"line\":{\"color\":\"white\"}},\"type\":\"table\"}],\"barpolar\":[{\"marker\":{\"line\":{\"color\":\"#E5ECF6\",\"width\":0.5},\"pattern\":{\"fillmode\":\"overlay\",\"size\":10,\"solidity\":0.2}},\"type\":\"barpolar\"}],\"pie\":[{\"automargin\":true,\"type\":\"pie\"}]},\"layout\":{\"autotypenumbers\":\"strict\",\"colorway\":[\"#636efa\",\"#EF553B\",\"#00cc96\",\"#ab63fa\",\"#FFA15A\",\"#19d3f3\",\"#FF6692\",\"#B6E880\",\"#FF97FF\",\"#FECB52\"],\"font\":{\"color\":\"#2a3f5f\"},\"hovermode\":\"closest\",\"hoverlabel\":{\"align\":\"left\"},\"paper_bgcolor\":\"white\",\"plot_bgcolor\":\"#E5ECF6\",\"polar\":{\"bgcolor\":\"#E5ECF6\",\"angularaxis\":{\"gridcolor\":\"white\",\"linecolor\":\"white\",\"ticks\":\"\"},\"radialaxis\":{\"gridcolor\":\"white\",\"linecolor\":\"white\",\"ticks\":\"\"}},\"ternary\":{\"bgcolor\":\"#E5ECF6\",\"aaxis\":{\"gridcolor\":\"white\",\"linecolor\":\"white\",\"ticks\":\"\"},\"baxis\":{\"gridcolor\":\"white\",\"linecolor\":\"white\",\"ticks\":\"\"},\"caxis\":{\"gridcolor\":\"white\",\"linecolor\":\"white\",\"ticks\":\"\"}},\"coloraxis\":{\"colorbar\":{\"outlinewidth\":0,\"ticks\":\"\"}},\"colorscale\":{\"sequential\":[[0.0,\"#0d0887\"],[0.1111111111111111,\"#46039f\"],[0.2222222222222222,\"#7201a8\"],[0.3333333333333333,\"#9c179e\"],[0.4444444444444444,\"#bd3786\"],[0.5555555555555556,\"#d8576b\"],[0.6666666666666666,\"#ed7953\"],[0.7777777777777778,\"#fb9f3a\"],[0.8888888888888888,\"#fdca26\"],[1.0,\"#f0f921\"]],\"sequentialminus\":[[0.0,\"#0d0887\"],[0.1111111111111111,\"#46039f\"],[0.2222222222222222,\"#7201a8\"],[0.3333333333333333,\"#9c179e\"],[0.4444444444444444,\"#bd3786\"],[0.5555555555555556,\"#d8576b\"],[0.6666666666666666,\"#ed7953\"],[0.7777777777777778,\"#fb9f3a\"],[0.8888888888888888,\"#fdca26\"],[1.0,\"#f0f921\"]],\"diverging\":[[0,\"#8e0152\"],[0.1,\"#c51b7d\"],[0.2,\"#de77ae\"],[0.3,\"#f1b6da\"],[0.4,\"#fde0ef\"],[0.5,\"#f7f7f7\"],[0.6,\"#e6f5d0\"],[0.7,\"#b8e186\"],[0.8,\"#7fbc41\"],[0.9,\"#4d9221\"],[1,\"#276419\"]]},\"xaxis\":{\"gridcolor\":\"white\",\"linecolor\":\"white\",\"ticks\":\"\",\"title\":{\"standoff\":15},\"zerolinecolor\":\"white\",\"automargin\":true,\"zerolinewidth\":2},\"yaxis\":{\"gridcolor\":\"white\",\"linecolor\":\"white\",\"ticks\":\"\",\"title\":{\"standoff\":15},\"zerolinecolor\":\"white\",\"automargin\":true,\"zerolinewidth\":2},\"scene\":{\"xaxis\":{\"backgroundcolor\":\"#E5ECF6\",\"gridcolor\":\"white\",\"linecolor\":\"white\",\"showbackground\":true,\"ticks\":\"\",\"zerolinecolor\":\"white\",\"gridwidth\":2},\"yaxis\":{\"backgroundcolor\":\"#E5ECF6\",\"gridcolor\":\"white\",\"linecolor\":\"white\",\"showbackground\":true,\"ticks\":\"\",\"zerolinecolor\":\"white\",\"gridwidth\":2},\"zaxis\":{\"backgroundcolor\":\"#E5ECF6\",\"gridcolor\":\"white\",\"linecolor\":\"white\",\"showbackground\":true,\"ticks\":\"\",\"zerolinecolor\":\"white\",\"gridwidth\":2}},\"shapedefaults\":{\"line\":{\"color\":\"#2a3f5f\"}},\"annotationdefaults\":{\"arrowcolor\":\"#2a3f5f\",\"arrowhead\":0,\"arrowwidth\":1},\"geo\":{\"bgcolor\":\"white\",\"landcolor\":\"#E5ECF6\",\"subunitcolor\":\"white\",\"showland\":true,\"showlakes\":true,\"lakecolor\":\"white\"},\"title\":{\"x\":0.05},\"mapbox\":{\"style\":\"light\"}}},\"xaxis\":{\"anchor\":\"y\",\"domain\":[0.0,0.94],\"title\":{\"text\":\"Fecha\"}},\"yaxis\":{\"anchor\":\"x\",\"domain\":[0.0,1.0],\"title\":{\"text\":\"Profundidad\"}},\"yaxis2\":{\"anchor\":\"x\",\"overlaying\":\"y\",\"side\":\"right\",\"title\":{\"text\":\"Producci\\u00f3n\"}}},                        {\"responsive\": true}                    ).then(function(){\n",
       "                            \n",
       "var gd = document.getElementById('8596a557-df23-4f95-92bd-a34418f4fd28');\n",
       "var x = new MutationObserver(function (mutations, observer) {{\n",
       "        var display = window.getComputedStyle(gd).display;\n",
       "        if (!display || display === 'none') {{\n",
       "            console.log([gd, 'removed!']);\n",
       "            Plotly.purge(gd);\n",
       "            observer.disconnect();\n",
       "        }}\n",
       "}});\n",
       "\n",
       "// Listen for the removal of the full notebook cells\n",
       "var notebookContainer = gd.closest('#notebook-container');\n",
       "if (notebookContainer) {{\n",
       "    x.observe(notebookContainer, {childList: true});\n",
       "}}\n",
       "\n",
       "// Listen for the clearing of the current output cell\n",
       "var outputEl = gd.closest('.output');\n",
       "if (outputEl) {{\n",
       "    x.observe(outputEl, {childList: true});\n",
       "}}\n",
       "\n",
       "                        })                };                });            </script>        </div>"
      ]
     },
     "metadata": {},
     "output_type": "display_data"
    },
    {
     "data": {
      "application/vnd.plotly.v1+json": {
       "config": {
        "plotlyServerURL": "https://plot.ly"
       },
       "data": [
        {
         "name": "Presión dinámica",
         "type": "scatter",
         "x": [
          "2020-07-02T00:00:00",
          "2020-08-05T00:00:00",
          "2020-09-04T00:00:00",
          "2020-10-05T00:00:00",
          "2020-11-12T00:00:00",
          "2020-12-10T00:00:00",
          "2021-01-06T00:00:00",
          "2021-02-03T00:00:00",
          "2021-03-03T00:00:00",
          "2021-04-07T00:00:00",
          "2021-05-13T00:00:00",
          "2021-06-04T00:00:00",
          "2021-07-05T00:00:00",
          "2021-07-13T00:00:00",
          "2021-08-02T00:00:00",
          "2021-09-06T00:00:00",
          "2021-09-30T00:00:00",
          "2021-11-03T00:00:00",
          "2021-12-03T00:00:00",
          "2022-01-05T00:00:00",
          "2022-02-04T00:00:00",
          "2022-03-04T00:00:00",
          "2022-04-04T00:00:00",
          "2022-05-04T00:00:00",
          "2022-06-01T00:00:00",
          "2022-07-05T00:00:00",
          "2022-08-03T00:00:00",
          "2022-09-06T00:00:00",
          "2022-10-04T00:00:00",
          "2022-11-02T00:00:00",
          "2022-12-06T00:00:00",
          "2023-01-05T00:00:00",
          "2023-02-07T00:00:00",
          "2023-03-14T00:00:00",
          "2023-04-12T00:00:00"
         ],
         "xaxis": "x",
         "y": [
          350,
          317,
          321,
          273,
          380,
          296,
          127,
          305,
          333,
          440,
          371,
          287,
          444,
          96,
          1721,
          75,
          93,
          71,
          62,
          127,
          104,
          66,
          68,
          77,
          96,
          90,
          118,
          73,
          112,
          83,
          69,
          64,
          103,
          71,
          61
         ],
         "yaxis": "y"
        },
        {
         "name": "Presión interface",
         "type": "scatter",
         "x": [
          "2020-07-02T00:00:00",
          "2020-08-05T00:00:00",
          "2020-09-04T00:00:00",
          "2020-10-05T00:00:00",
          "2020-11-12T00:00:00",
          "2020-12-10T00:00:00",
          "2021-01-06T00:00:00",
          "2021-02-03T00:00:00",
          "2021-03-03T00:00:00",
          "2021-04-07T00:00:00",
          "2021-05-13T00:00:00",
          "2021-06-04T00:00:00",
          "2021-07-05T00:00:00",
          "2021-07-13T00:00:00",
          "2021-08-02T00:00:00",
          "2021-09-06T00:00:00",
          "2021-09-30T00:00:00",
          "2021-11-03T00:00:00",
          "2021-12-03T00:00:00",
          "2022-01-05T00:00:00",
          "2022-02-04T00:00:00",
          "2022-03-04T00:00:00",
          "2022-04-04T00:00:00",
          "2022-05-04T00:00:00",
          "2022-06-01T00:00:00",
          "2022-07-05T00:00:00",
          "2022-08-03T00:00:00",
          "2022-09-06T00:00:00",
          "2022-10-04T00:00:00",
          "2022-11-02T00:00:00",
          "2022-12-06T00:00:00",
          "2023-01-05T00:00:00",
          "2023-02-07T00:00:00",
          "2023-03-14T00:00:00",
          "2023-04-12T00:00:00"
         ],
         "xaxis": "x",
         "y": [
          310,
          266,
          270,
          221,
          233,
          253,
          82,
          256,
          295,
          373,
          231,
          209,
          229,
          26,
          22,
          37,
          30,
          37,
          27,
          64,
          59,
          38,
          45,
          56,
          74,
          66,
          67,
          56,
          64,
          55,
          35,
          35,
          52,
          6,
          5
         ],
         "yaxis": "y"
        },
        {
         "name": "Velocidad del sonido",
         "type": "scatter",
         "x": [
          "2020-07-02T00:00:00",
          "2020-08-05T00:00:00",
          "2020-09-04T00:00:00",
          "2020-10-05T00:00:00",
          "2020-11-12T00:00:00",
          "2020-12-10T00:00:00",
          "2021-01-06T00:00:00",
          "2021-02-03T00:00:00",
          "2021-03-03T00:00:00",
          "2021-04-07T00:00:00",
          "2021-05-13T00:00:00",
          "2021-06-04T00:00:00",
          "2021-07-05T00:00:00",
          "2021-07-13T00:00:00",
          "2021-08-02T00:00:00",
          "2021-09-06T00:00:00",
          "2021-09-30T00:00:00",
          "2021-11-03T00:00:00",
          "2021-12-03T00:00:00",
          "2022-01-05T00:00:00",
          "2022-02-04T00:00:00",
          "2022-03-04T00:00:00",
          "2022-04-04T00:00:00",
          "2022-05-04T00:00:00",
          "2022-06-01T00:00:00",
          "2022-07-05T00:00:00",
          "2022-08-03T00:00:00",
          "2022-09-06T00:00:00",
          "2022-10-04T00:00:00",
          "2022-11-02T00:00:00",
          "2022-12-06T00:00:00",
          "2023-01-05T00:00:00",
          "2023-02-07T00:00:00",
          "2023-03-14T00:00:00",
          "2023-04-12T00:00:00"
         ],
         "xaxis": "x",
         "y": [
          302,
          301,
          302,
          305,
          302,
          304,
          305,
          301,
          304,
          302,
          305,
          302,
          304,
          302,
          313,
          305,
          303,
          306,
          308,
          307,
          310,
          308,
          310,
          309,
          314,
          313,
          314,
          310,
          310,
          307,
          308,
          309,
          322,
          305,
          304
         ],
         "yaxis": "y2"
        }
       ],
       "layout": {
        "template": {
         "data": {
          "bar": [
           {
            "error_x": {
             "color": "#2a3f5f"
            },
            "error_y": {
             "color": "#2a3f5f"
            },
            "marker": {
             "line": {
              "color": "#E5ECF6",
              "width": 0.5
             },
             "pattern": {
              "fillmode": "overlay",
              "size": 10,
              "solidity": 0.2
             }
            },
            "type": "bar"
           }
          ],
          "barpolar": [
           {
            "marker": {
             "line": {
              "color": "#E5ECF6",
              "width": 0.5
             },
             "pattern": {
              "fillmode": "overlay",
              "size": 10,
              "solidity": 0.2
             }
            },
            "type": "barpolar"
           }
          ],
          "carpet": [
           {
            "aaxis": {
             "endlinecolor": "#2a3f5f",
             "gridcolor": "white",
             "linecolor": "white",
             "minorgridcolor": "white",
             "startlinecolor": "#2a3f5f"
            },
            "baxis": {
             "endlinecolor": "#2a3f5f",
             "gridcolor": "white",
             "linecolor": "white",
             "minorgridcolor": "white",
             "startlinecolor": "#2a3f5f"
            },
            "type": "carpet"
           }
          ],
          "choropleth": [
           {
            "colorbar": {
             "outlinewidth": 0,
             "ticks": ""
            },
            "type": "choropleth"
           }
          ],
          "contour": [
           {
            "colorbar": {
             "outlinewidth": 0,
             "ticks": ""
            },
            "colorscale": [
             [
              0,
              "#0d0887"
             ],
             [
              0.1111111111111111,
              "#46039f"
             ],
             [
              0.2222222222222222,
              "#7201a8"
             ],
             [
              0.3333333333333333,
              "#9c179e"
             ],
             [
              0.4444444444444444,
              "#bd3786"
             ],
             [
              0.5555555555555556,
              "#d8576b"
             ],
             [
              0.6666666666666666,
              "#ed7953"
             ],
             [
              0.7777777777777778,
              "#fb9f3a"
             ],
             [
              0.8888888888888888,
              "#fdca26"
             ],
             [
              1,
              "#f0f921"
             ]
            ],
            "type": "contour"
           }
          ],
          "contourcarpet": [
           {
            "colorbar": {
             "outlinewidth": 0,
             "ticks": ""
            },
            "type": "contourcarpet"
           }
          ],
          "heatmap": [
           {
            "colorbar": {
             "outlinewidth": 0,
             "ticks": ""
            },
            "colorscale": [
             [
              0,
              "#0d0887"
             ],
             [
              0.1111111111111111,
              "#46039f"
             ],
             [
              0.2222222222222222,
              "#7201a8"
             ],
             [
              0.3333333333333333,
              "#9c179e"
             ],
             [
              0.4444444444444444,
              "#bd3786"
             ],
             [
              0.5555555555555556,
              "#d8576b"
             ],
             [
              0.6666666666666666,
              "#ed7953"
             ],
             [
              0.7777777777777778,
              "#fb9f3a"
             ],
             [
              0.8888888888888888,
              "#fdca26"
             ],
             [
              1,
              "#f0f921"
             ]
            ],
            "type": "heatmap"
           }
          ],
          "heatmapgl": [
           {
            "colorbar": {
             "outlinewidth": 0,
             "ticks": ""
            },
            "colorscale": [
             [
              0,
              "#0d0887"
             ],
             [
              0.1111111111111111,
              "#46039f"
             ],
             [
              0.2222222222222222,
              "#7201a8"
             ],
             [
              0.3333333333333333,
              "#9c179e"
             ],
             [
              0.4444444444444444,
              "#bd3786"
             ],
             [
              0.5555555555555556,
              "#d8576b"
             ],
             [
              0.6666666666666666,
              "#ed7953"
             ],
             [
              0.7777777777777778,
              "#fb9f3a"
             ],
             [
              0.8888888888888888,
              "#fdca26"
             ],
             [
              1,
              "#f0f921"
             ]
            ],
            "type": "heatmapgl"
           }
          ],
          "histogram": [
           {
            "marker": {
             "pattern": {
              "fillmode": "overlay",
              "size": 10,
              "solidity": 0.2
             }
            },
            "type": "histogram"
           }
          ],
          "histogram2d": [
           {
            "colorbar": {
             "outlinewidth": 0,
             "ticks": ""
            },
            "colorscale": [
             [
              0,
              "#0d0887"
             ],
             [
              0.1111111111111111,
              "#46039f"
             ],
             [
              0.2222222222222222,
              "#7201a8"
             ],
             [
              0.3333333333333333,
              "#9c179e"
             ],
             [
              0.4444444444444444,
              "#bd3786"
             ],
             [
              0.5555555555555556,
              "#d8576b"
             ],
             [
              0.6666666666666666,
              "#ed7953"
             ],
             [
              0.7777777777777778,
              "#fb9f3a"
             ],
             [
              0.8888888888888888,
              "#fdca26"
             ],
             [
              1,
              "#f0f921"
             ]
            ],
            "type": "histogram2d"
           }
          ],
          "histogram2dcontour": [
           {
            "colorbar": {
             "outlinewidth": 0,
             "ticks": ""
            },
            "colorscale": [
             [
              0,
              "#0d0887"
             ],
             [
              0.1111111111111111,
              "#46039f"
             ],
             [
              0.2222222222222222,
              "#7201a8"
             ],
             [
              0.3333333333333333,
              "#9c179e"
             ],
             [
              0.4444444444444444,
              "#bd3786"
             ],
             [
              0.5555555555555556,
              "#d8576b"
             ],
             [
              0.6666666666666666,
              "#ed7953"
             ],
             [
              0.7777777777777778,
              "#fb9f3a"
             ],
             [
              0.8888888888888888,
              "#fdca26"
             ],
             [
              1,
              "#f0f921"
             ]
            ],
            "type": "histogram2dcontour"
           }
          ],
          "mesh3d": [
           {
            "colorbar": {
             "outlinewidth": 0,
             "ticks": ""
            },
            "type": "mesh3d"
           }
          ],
          "parcoords": [
           {
            "line": {
             "colorbar": {
              "outlinewidth": 0,
              "ticks": ""
             }
            },
            "type": "parcoords"
           }
          ],
          "pie": [
           {
            "automargin": true,
            "type": "pie"
           }
          ],
          "scatter": [
           {
            "fillpattern": {
             "fillmode": "overlay",
             "size": 10,
             "solidity": 0.2
            },
            "type": "scatter"
           }
          ],
          "scatter3d": [
           {
            "line": {
             "colorbar": {
              "outlinewidth": 0,
              "ticks": ""
             }
            },
            "marker": {
             "colorbar": {
              "outlinewidth": 0,
              "ticks": ""
             }
            },
            "type": "scatter3d"
           }
          ],
          "scattercarpet": [
           {
            "marker": {
             "colorbar": {
              "outlinewidth": 0,
              "ticks": ""
             }
            },
            "type": "scattercarpet"
           }
          ],
          "scattergeo": [
           {
            "marker": {
             "colorbar": {
              "outlinewidth": 0,
              "ticks": ""
             }
            },
            "type": "scattergeo"
           }
          ],
          "scattergl": [
           {
            "marker": {
             "colorbar": {
              "outlinewidth": 0,
              "ticks": ""
             }
            },
            "type": "scattergl"
           }
          ],
          "scattermapbox": [
           {
            "marker": {
             "colorbar": {
              "outlinewidth": 0,
              "ticks": ""
             }
            },
            "type": "scattermapbox"
           }
          ],
          "scatterpolar": [
           {
            "marker": {
             "colorbar": {
              "outlinewidth": 0,
              "ticks": ""
             }
            },
            "type": "scatterpolar"
           }
          ],
          "scatterpolargl": [
           {
            "marker": {
             "colorbar": {
              "outlinewidth": 0,
              "ticks": ""
             }
            },
            "type": "scatterpolargl"
           }
          ],
          "scatterternary": [
           {
            "marker": {
             "colorbar": {
              "outlinewidth": 0,
              "ticks": ""
             }
            },
            "type": "scatterternary"
           }
          ],
          "surface": [
           {
            "colorbar": {
             "outlinewidth": 0,
             "ticks": ""
            },
            "colorscale": [
             [
              0,
              "#0d0887"
             ],
             [
              0.1111111111111111,
              "#46039f"
             ],
             [
              0.2222222222222222,
              "#7201a8"
             ],
             [
              0.3333333333333333,
              "#9c179e"
             ],
             [
              0.4444444444444444,
              "#bd3786"
             ],
             [
              0.5555555555555556,
              "#d8576b"
             ],
             [
              0.6666666666666666,
              "#ed7953"
             ],
             [
              0.7777777777777778,
              "#fb9f3a"
             ],
             [
              0.8888888888888888,
              "#fdca26"
             ],
             [
              1,
              "#f0f921"
             ]
            ],
            "type": "surface"
           }
          ],
          "table": [
           {
            "cells": {
             "fill": {
              "color": "#EBF0F8"
             },
             "line": {
              "color": "white"
             }
            },
            "header": {
             "fill": {
              "color": "#C8D4E3"
             },
             "line": {
              "color": "white"
             }
            },
            "type": "table"
           }
          ]
         },
         "layout": {
          "annotationdefaults": {
           "arrowcolor": "#2a3f5f",
           "arrowhead": 0,
           "arrowwidth": 1
          },
          "autotypenumbers": "strict",
          "coloraxis": {
           "colorbar": {
            "outlinewidth": 0,
            "ticks": ""
           }
          },
          "colorscale": {
           "diverging": [
            [
             0,
             "#8e0152"
            ],
            [
             0.1,
             "#c51b7d"
            ],
            [
             0.2,
             "#de77ae"
            ],
            [
             0.3,
             "#f1b6da"
            ],
            [
             0.4,
             "#fde0ef"
            ],
            [
             0.5,
             "#f7f7f7"
            ],
            [
             0.6,
             "#e6f5d0"
            ],
            [
             0.7,
             "#b8e186"
            ],
            [
             0.8,
             "#7fbc41"
            ],
            [
             0.9,
             "#4d9221"
            ],
            [
             1,
             "#276419"
            ]
           ],
           "sequential": [
            [
             0,
             "#0d0887"
            ],
            [
             0.1111111111111111,
             "#46039f"
            ],
            [
             0.2222222222222222,
             "#7201a8"
            ],
            [
             0.3333333333333333,
             "#9c179e"
            ],
            [
             0.4444444444444444,
             "#bd3786"
            ],
            [
             0.5555555555555556,
             "#d8576b"
            ],
            [
             0.6666666666666666,
             "#ed7953"
            ],
            [
             0.7777777777777778,
             "#fb9f3a"
            ],
            [
             0.8888888888888888,
             "#fdca26"
            ],
            [
             1,
             "#f0f921"
            ]
           ],
           "sequentialminus": [
            [
             0,
             "#0d0887"
            ],
            [
             0.1111111111111111,
             "#46039f"
            ],
            [
             0.2222222222222222,
             "#7201a8"
            ],
            [
             0.3333333333333333,
             "#9c179e"
            ],
            [
             0.4444444444444444,
             "#bd3786"
            ],
            [
             0.5555555555555556,
             "#d8576b"
            ],
            [
             0.6666666666666666,
             "#ed7953"
            ],
            [
             0.7777777777777778,
             "#fb9f3a"
            ],
            [
             0.8888888888888888,
             "#fdca26"
            ],
            [
             1,
             "#f0f921"
            ]
           ]
          },
          "colorway": [
           "#636efa",
           "#EF553B",
           "#00cc96",
           "#ab63fa",
           "#FFA15A",
           "#19d3f3",
           "#FF6692",
           "#B6E880",
           "#FF97FF",
           "#FECB52"
          ],
          "font": {
           "color": "#2a3f5f"
          },
          "geo": {
           "bgcolor": "white",
           "lakecolor": "white",
           "landcolor": "#E5ECF6",
           "showlakes": true,
           "showland": true,
           "subunitcolor": "white"
          },
          "hoverlabel": {
           "align": "left"
          },
          "hovermode": "closest",
          "mapbox": {
           "style": "light"
          },
          "paper_bgcolor": "white",
          "plot_bgcolor": "#E5ECF6",
          "polar": {
           "angularaxis": {
            "gridcolor": "white",
            "linecolor": "white",
            "ticks": ""
           },
           "bgcolor": "#E5ECF6",
           "radialaxis": {
            "gridcolor": "white",
            "linecolor": "white",
            "ticks": ""
           }
          },
          "scene": {
           "xaxis": {
            "backgroundcolor": "#E5ECF6",
            "gridcolor": "white",
            "gridwidth": 2,
            "linecolor": "white",
            "showbackground": true,
            "ticks": "",
            "zerolinecolor": "white"
           },
           "yaxis": {
            "backgroundcolor": "#E5ECF6",
            "gridcolor": "white",
            "gridwidth": 2,
            "linecolor": "white",
            "showbackground": true,
            "ticks": "",
            "zerolinecolor": "white"
           },
           "zaxis": {
            "backgroundcolor": "#E5ECF6",
            "gridcolor": "white",
            "gridwidth": 2,
            "linecolor": "white",
            "showbackground": true,
            "ticks": "",
            "zerolinecolor": "white"
           }
          },
          "shapedefaults": {
           "line": {
            "color": "#2a3f5f"
           }
          },
          "ternary": {
           "aaxis": {
            "gridcolor": "white",
            "linecolor": "white",
            "ticks": ""
           },
           "baxis": {
            "gridcolor": "white",
            "linecolor": "white",
            "ticks": ""
           },
           "bgcolor": "#E5ECF6",
           "caxis": {
            "gridcolor": "white",
            "linecolor": "white",
            "ticks": ""
           }
          },
          "title": {
           "x": 0.05
          },
          "xaxis": {
           "automargin": true,
           "gridcolor": "white",
           "linecolor": "white",
           "ticks": "",
           "title": {
            "standoff": 15
           },
           "zerolinecolor": "white",
           "zerolinewidth": 2
          },
          "yaxis": {
           "automargin": true,
           "gridcolor": "white",
           "linecolor": "white",
           "ticks": "",
           "title": {
            "standoff": 15
           },
           "zerolinecolor": "white",
           "zerolinewidth": 2
          }
         }
        },
        "xaxis": {
         "anchor": "y",
         "domain": [
          0,
          0.94
         ],
         "title": {
          "text": "Fecha"
         }
        },
        "yaxis": {
         "anchor": "x",
         "domain": [
          0,
          1
         ],
         "title": {
          "text": "Presión"
         }
        },
        "yaxis2": {
         "anchor": "x",
         "overlaying": "y",
         "side": "right",
         "title": {
          "text": "Velocidad"
         }
        }
       }
      },
      "text/html": [
       "<div>                            <div id=\"738a8f24-569d-4c97-8510-48e32cabd07b\" class=\"plotly-graph-div\" style=\"height:525px; width:100%;\"></div>            <script type=\"text/javascript\">                require([\"plotly\"], function(Plotly) {                    window.PLOTLYENV=window.PLOTLYENV || {};                                    if (document.getElementById(\"738a8f24-569d-4c97-8510-48e32cabd07b\")) {                    Plotly.newPlot(                        \"738a8f24-569d-4c97-8510-48e32cabd07b\",                        [{\"name\":\"Presi\\u00f3n din\\u00e1mica\",\"x\":[\"2020-07-02T00:00:00\",\"2020-08-05T00:00:00\",\"2020-09-04T00:00:00\",\"2020-10-05T00:00:00\",\"2020-11-12T00:00:00\",\"2020-12-10T00:00:00\",\"2021-01-06T00:00:00\",\"2021-02-03T00:00:00\",\"2021-03-03T00:00:00\",\"2021-04-07T00:00:00\",\"2021-05-13T00:00:00\",\"2021-06-04T00:00:00\",\"2021-07-05T00:00:00\",\"2021-07-13T00:00:00\",\"2021-08-02T00:00:00\",\"2021-09-06T00:00:00\",\"2021-09-30T00:00:00\",\"2021-11-03T00:00:00\",\"2021-12-03T00:00:00\",\"2022-01-05T00:00:00\",\"2022-02-04T00:00:00\",\"2022-03-04T00:00:00\",\"2022-04-04T00:00:00\",\"2022-05-04T00:00:00\",\"2022-06-01T00:00:00\",\"2022-07-05T00:00:00\",\"2022-08-03T00:00:00\",\"2022-09-06T00:00:00\",\"2022-10-04T00:00:00\",\"2022-11-02T00:00:00\",\"2022-12-06T00:00:00\",\"2023-01-05T00:00:00\",\"2023-02-07T00:00:00\",\"2023-03-14T00:00:00\",\"2023-04-12T00:00:00\"],\"y\":[350,317,321,273,380,296,127,305,333,440,371,287,444,96,1721,75,93,71,62,127,104,66,68,77,96,90,118,73,112,83,69,64,103,71,61],\"type\":\"scatter\",\"xaxis\":\"x\",\"yaxis\":\"y\"},{\"name\":\"Presi\\u00f3n interface\",\"x\":[\"2020-07-02T00:00:00\",\"2020-08-05T00:00:00\",\"2020-09-04T00:00:00\",\"2020-10-05T00:00:00\",\"2020-11-12T00:00:00\",\"2020-12-10T00:00:00\",\"2021-01-06T00:00:00\",\"2021-02-03T00:00:00\",\"2021-03-03T00:00:00\",\"2021-04-07T00:00:00\",\"2021-05-13T00:00:00\",\"2021-06-04T00:00:00\",\"2021-07-05T00:00:00\",\"2021-07-13T00:00:00\",\"2021-08-02T00:00:00\",\"2021-09-06T00:00:00\",\"2021-09-30T00:00:00\",\"2021-11-03T00:00:00\",\"2021-12-03T00:00:00\",\"2022-01-05T00:00:00\",\"2022-02-04T00:00:00\",\"2022-03-04T00:00:00\",\"2022-04-04T00:00:00\",\"2022-05-04T00:00:00\",\"2022-06-01T00:00:00\",\"2022-07-05T00:00:00\",\"2022-08-03T00:00:00\",\"2022-09-06T00:00:00\",\"2022-10-04T00:00:00\",\"2022-11-02T00:00:00\",\"2022-12-06T00:00:00\",\"2023-01-05T00:00:00\",\"2023-02-07T00:00:00\",\"2023-03-14T00:00:00\",\"2023-04-12T00:00:00\"],\"y\":[310,266,270,221,233,253,82,256,295,373,231,209,229,26,22,37,30,37,27,64,59,38,45,56,74,66,67,56,64,55,35,35,52,6,5],\"type\":\"scatter\",\"xaxis\":\"x\",\"yaxis\":\"y\"},{\"name\":\"Velocidad del sonido\",\"x\":[\"2020-07-02T00:00:00\",\"2020-08-05T00:00:00\",\"2020-09-04T00:00:00\",\"2020-10-05T00:00:00\",\"2020-11-12T00:00:00\",\"2020-12-10T00:00:00\",\"2021-01-06T00:00:00\",\"2021-02-03T00:00:00\",\"2021-03-03T00:00:00\",\"2021-04-07T00:00:00\",\"2021-05-13T00:00:00\",\"2021-06-04T00:00:00\",\"2021-07-05T00:00:00\",\"2021-07-13T00:00:00\",\"2021-08-02T00:00:00\",\"2021-09-06T00:00:00\",\"2021-09-30T00:00:00\",\"2021-11-03T00:00:00\",\"2021-12-03T00:00:00\",\"2022-01-05T00:00:00\",\"2022-02-04T00:00:00\",\"2022-03-04T00:00:00\",\"2022-04-04T00:00:00\",\"2022-05-04T00:00:00\",\"2022-06-01T00:00:00\",\"2022-07-05T00:00:00\",\"2022-08-03T00:00:00\",\"2022-09-06T00:00:00\",\"2022-10-04T00:00:00\",\"2022-11-02T00:00:00\",\"2022-12-06T00:00:00\",\"2023-01-05T00:00:00\",\"2023-02-07T00:00:00\",\"2023-03-14T00:00:00\",\"2023-04-12T00:00:00\"],\"y\":[302,301,302,305,302,304,305,301,304,302,305,302,304,302,313,305,303,306,308,307,310,308,310,309,314,313,314,310,310,307,308,309,322,305,304],\"type\":\"scatter\",\"xaxis\":\"x\",\"yaxis\":\"y2\"}],                        {\"template\":{\"data\":{\"histogram2dcontour\":[{\"type\":\"histogram2dcontour\",\"colorbar\":{\"outlinewidth\":0,\"ticks\":\"\"},\"colorscale\":[[0.0,\"#0d0887\"],[0.1111111111111111,\"#46039f\"],[0.2222222222222222,\"#7201a8\"],[0.3333333333333333,\"#9c179e\"],[0.4444444444444444,\"#bd3786\"],[0.5555555555555556,\"#d8576b\"],[0.6666666666666666,\"#ed7953\"],[0.7777777777777778,\"#fb9f3a\"],[0.8888888888888888,\"#fdca26\"],[1.0,\"#f0f921\"]]}],\"choropleth\":[{\"type\":\"choropleth\",\"colorbar\":{\"outlinewidth\":0,\"ticks\":\"\"}}],\"histogram2d\":[{\"type\":\"histogram2d\",\"colorbar\":{\"outlinewidth\":0,\"ticks\":\"\"},\"colorscale\":[[0.0,\"#0d0887\"],[0.1111111111111111,\"#46039f\"],[0.2222222222222222,\"#7201a8\"],[0.3333333333333333,\"#9c179e\"],[0.4444444444444444,\"#bd3786\"],[0.5555555555555556,\"#d8576b\"],[0.6666666666666666,\"#ed7953\"],[0.7777777777777778,\"#fb9f3a\"],[0.8888888888888888,\"#fdca26\"],[1.0,\"#f0f921\"]]}],\"heatmap\":[{\"type\":\"heatmap\",\"colorbar\":{\"outlinewidth\":0,\"ticks\":\"\"},\"colorscale\":[[0.0,\"#0d0887\"],[0.1111111111111111,\"#46039f\"],[0.2222222222222222,\"#7201a8\"],[0.3333333333333333,\"#9c179e\"],[0.4444444444444444,\"#bd3786\"],[0.5555555555555556,\"#d8576b\"],[0.6666666666666666,\"#ed7953\"],[0.7777777777777778,\"#fb9f3a\"],[0.8888888888888888,\"#fdca26\"],[1.0,\"#f0f921\"]]}],\"heatmapgl\":[{\"type\":\"heatmapgl\",\"colorbar\":{\"outlinewidth\":0,\"ticks\":\"\"},\"colorscale\":[[0.0,\"#0d0887\"],[0.1111111111111111,\"#46039f\"],[0.2222222222222222,\"#7201a8\"],[0.3333333333333333,\"#9c179e\"],[0.4444444444444444,\"#bd3786\"],[0.5555555555555556,\"#d8576b\"],[0.6666666666666666,\"#ed7953\"],[0.7777777777777778,\"#fb9f3a\"],[0.8888888888888888,\"#fdca26\"],[1.0,\"#f0f921\"]]}],\"contourcarpet\":[{\"type\":\"contourcarpet\",\"colorbar\":{\"outlinewidth\":0,\"ticks\":\"\"}}],\"contour\":[{\"type\":\"contour\",\"colorbar\":{\"outlinewidth\":0,\"ticks\":\"\"},\"colorscale\":[[0.0,\"#0d0887\"],[0.1111111111111111,\"#46039f\"],[0.2222222222222222,\"#7201a8\"],[0.3333333333333333,\"#9c179e\"],[0.4444444444444444,\"#bd3786\"],[0.5555555555555556,\"#d8576b\"],[0.6666666666666666,\"#ed7953\"],[0.7777777777777778,\"#fb9f3a\"],[0.8888888888888888,\"#fdca26\"],[1.0,\"#f0f921\"]]}],\"surface\":[{\"type\":\"surface\",\"colorbar\":{\"outlinewidth\":0,\"ticks\":\"\"},\"colorscale\":[[0.0,\"#0d0887\"],[0.1111111111111111,\"#46039f\"],[0.2222222222222222,\"#7201a8\"],[0.3333333333333333,\"#9c179e\"],[0.4444444444444444,\"#bd3786\"],[0.5555555555555556,\"#d8576b\"],[0.6666666666666666,\"#ed7953\"],[0.7777777777777778,\"#fb9f3a\"],[0.8888888888888888,\"#fdca26\"],[1.0,\"#f0f921\"]]}],\"mesh3d\":[{\"type\":\"mesh3d\",\"colorbar\":{\"outlinewidth\":0,\"ticks\":\"\"}}],\"scatter\":[{\"fillpattern\":{\"fillmode\":\"overlay\",\"size\":10,\"solidity\":0.2},\"type\":\"scatter\"}],\"parcoords\":[{\"type\":\"parcoords\",\"line\":{\"colorbar\":{\"outlinewidth\":0,\"ticks\":\"\"}}}],\"scatterpolargl\":[{\"type\":\"scatterpolargl\",\"marker\":{\"colorbar\":{\"outlinewidth\":0,\"ticks\":\"\"}}}],\"bar\":[{\"error_x\":{\"color\":\"#2a3f5f\"},\"error_y\":{\"color\":\"#2a3f5f\"},\"marker\":{\"line\":{\"color\":\"#E5ECF6\",\"width\":0.5},\"pattern\":{\"fillmode\":\"overlay\",\"size\":10,\"solidity\":0.2}},\"type\":\"bar\"}],\"scattergeo\":[{\"type\":\"scattergeo\",\"marker\":{\"colorbar\":{\"outlinewidth\":0,\"ticks\":\"\"}}}],\"scatterpolar\":[{\"type\":\"scatterpolar\",\"marker\":{\"colorbar\":{\"outlinewidth\":0,\"ticks\":\"\"}}}],\"histogram\":[{\"marker\":{\"pattern\":{\"fillmode\":\"overlay\",\"size\":10,\"solidity\":0.2}},\"type\":\"histogram\"}],\"scattergl\":[{\"type\":\"scattergl\",\"marker\":{\"colorbar\":{\"outlinewidth\":0,\"ticks\":\"\"}}}],\"scatter3d\":[{\"type\":\"scatter3d\",\"line\":{\"colorbar\":{\"outlinewidth\":0,\"ticks\":\"\"}},\"marker\":{\"colorbar\":{\"outlinewidth\":0,\"ticks\":\"\"}}}],\"scattermapbox\":[{\"type\":\"scattermapbox\",\"marker\":{\"colorbar\":{\"outlinewidth\":0,\"ticks\":\"\"}}}],\"scatterternary\":[{\"type\":\"scatterternary\",\"marker\":{\"colorbar\":{\"outlinewidth\":0,\"ticks\":\"\"}}}],\"scattercarpet\":[{\"type\":\"scattercarpet\",\"marker\":{\"colorbar\":{\"outlinewidth\":0,\"ticks\":\"\"}}}],\"carpet\":[{\"aaxis\":{\"endlinecolor\":\"#2a3f5f\",\"gridcolor\":\"white\",\"linecolor\":\"white\",\"minorgridcolor\":\"white\",\"startlinecolor\":\"#2a3f5f\"},\"baxis\":{\"endlinecolor\":\"#2a3f5f\",\"gridcolor\":\"white\",\"linecolor\":\"white\",\"minorgridcolor\":\"white\",\"startlinecolor\":\"#2a3f5f\"},\"type\":\"carpet\"}],\"table\":[{\"cells\":{\"fill\":{\"color\":\"#EBF0F8\"},\"line\":{\"color\":\"white\"}},\"header\":{\"fill\":{\"color\":\"#C8D4E3\"},\"line\":{\"color\":\"white\"}},\"type\":\"table\"}],\"barpolar\":[{\"marker\":{\"line\":{\"color\":\"#E5ECF6\",\"width\":0.5},\"pattern\":{\"fillmode\":\"overlay\",\"size\":10,\"solidity\":0.2}},\"type\":\"barpolar\"}],\"pie\":[{\"automargin\":true,\"type\":\"pie\"}]},\"layout\":{\"autotypenumbers\":\"strict\",\"colorway\":[\"#636efa\",\"#EF553B\",\"#00cc96\",\"#ab63fa\",\"#FFA15A\",\"#19d3f3\",\"#FF6692\",\"#B6E880\",\"#FF97FF\",\"#FECB52\"],\"font\":{\"color\":\"#2a3f5f\"},\"hovermode\":\"closest\",\"hoverlabel\":{\"align\":\"left\"},\"paper_bgcolor\":\"white\",\"plot_bgcolor\":\"#E5ECF6\",\"polar\":{\"bgcolor\":\"#E5ECF6\",\"angularaxis\":{\"gridcolor\":\"white\",\"linecolor\":\"white\",\"ticks\":\"\"},\"radialaxis\":{\"gridcolor\":\"white\",\"linecolor\":\"white\",\"ticks\":\"\"}},\"ternary\":{\"bgcolor\":\"#E5ECF6\",\"aaxis\":{\"gridcolor\":\"white\",\"linecolor\":\"white\",\"ticks\":\"\"},\"baxis\":{\"gridcolor\":\"white\",\"linecolor\":\"white\",\"ticks\":\"\"},\"caxis\":{\"gridcolor\":\"white\",\"linecolor\":\"white\",\"ticks\":\"\"}},\"coloraxis\":{\"colorbar\":{\"outlinewidth\":0,\"ticks\":\"\"}},\"colorscale\":{\"sequential\":[[0.0,\"#0d0887\"],[0.1111111111111111,\"#46039f\"],[0.2222222222222222,\"#7201a8\"],[0.3333333333333333,\"#9c179e\"],[0.4444444444444444,\"#bd3786\"],[0.5555555555555556,\"#d8576b\"],[0.6666666666666666,\"#ed7953\"],[0.7777777777777778,\"#fb9f3a\"],[0.8888888888888888,\"#fdca26\"],[1.0,\"#f0f921\"]],\"sequentialminus\":[[0.0,\"#0d0887\"],[0.1111111111111111,\"#46039f\"],[0.2222222222222222,\"#7201a8\"],[0.3333333333333333,\"#9c179e\"],[0.4444444444444444,\"#bd3786\"],[0.5555555555555556,\"#d8576b\"],[0.6666666666666666,\"#ed7953\"],[0.7777777777777778,\"#fb9f3a\"],[0.8888888888888888,\"#fdca26\"],[1.0,\"#f0f921\"]],\"diverging\":[[0,\"#8e0152\"],[0.1,\"#c51b7d\"],[0.2,\"#de77ae\"],[0.3,\"#f1b6da\"],[0.4,\"#fde0ef\"],[0.5,\"#f7f7f7\"],[0.6,\"#e6f5d0\"],[0.7,\"#b8e186\"],[0.8,\"#7fbc41\"],[0.9,\"#4d9221\"],[1,\"#276419\"]]},\"xaxis\":{\"gridcolor\":\"white\",\"linecolor\":\"white\",\"ticks\":\"\",\"title\":{\"standoff\":15},\"zerolinecolor\":\"white\",\"automargin\":true,\"zerolinewidth\":2},\"yaxis\":{\"gridcolor\":\"white\",\"linecolor\":\"white\",\"ticks\":\"\",\"title\":{\"standoff\":15},\"zerolinecolor\":\"white\",\"automargin\":true,\"zerolinewidth\":2},\"scene\":{\"xaxis\":{\"backgroundcolor\":\"#E5ECF6\",\"gridcolor\":\"white\",\"linecolor\":\"white\",\"showbackground\":true,\"ticks\":\"\",\"zerolinecolor\":\"white\",\"gridwidth\":2},\"yaxis\":{\"backgroundcolor\":\"#E5ECF6\",\"gridcolor\":\"white\",\"linecolor\":\"white\",\"showbackground\":true,\"ticks\":\"\",\"zerolinecolor\":\"white\",\"gridwidth\":2},\"zaxis\":{\"backgroundcolor\":\"#E5ECF6\",\"gridcolor\":\"white\",\"linecolor\":\"white\",\"showbackground\":true,\"ticks\":\"\",\"zerolinecolor\":\"white\",\"gridwidth\":2}},\"shapedefaults\":{\"line\":{\"color\":\"#2a3f5f\"}},\"annotationdefaults\":{\"arrowcolor\":\"#2a3f5f\",\"arrowhead\":0,\"arrowwidth\":1},\"geo\":{\"bgcolor\":\"white\",\"landcolor\":\"#E5ECF6\",\"subunitcolor\":\"white\",\"showland\":true,\"showlakes\":true,\"lakecolor\":\"white\"},\"title\":{\"x\":0.05},\"mapbox\":{\"style\":\"light\"}}},\"xaxis\":{\"anchor\":\"y\",\"domain\":[0.0,0.94],\"title\":{\"text\":\"Fecha\"}},\"yaxis\":{\"anchor\":\"x\",\"domain\":[0.0,1.0],\"title\":{\"text\":\"Presi\\u00f3n\"}},\"yaxis2\":{\"anchor\":\"x\",\"overlaying\":\"y\",\"side\":\"right\",\"title\":{\"text\":\"Velocidad\"}}},                        {\"responsive\": true}                    ).then(function(){\n",
       "                            \n",
       "var gd = document.getElementById('738a8f24-569d-4c97-8510-48e32cabd07b');\n",
       "var x = new MutationObserver(function (mutations, observer) {{\n",
       "        var display = window.getComputedStyle(gd).display;\n",
       "        if (!display || display === 'none') {{\n",
       "            console.log([gd, 'removed!']);\n",
       "            Plotly.purge(gd);\n",
       "            observer.disconnect();\n",
       "        }}\n",
       "}});\n",
       "\n",
       "// Listen for the removal of the full notebook cells\n",
       "var notebookContainer = gd.closest('#notebook-container');\n",
       "if (notebookContainer) {{\n",
       "    x.observe(notebookContainer, {childList: true});\n",
       "}}\n",
       "\n",
       "// Listen for the clearing of the current output cell\n",
       "var outputEl = gd.closest('.output');\n",
       "if (outputEl) {{\n",
       "    x.observe(outputEl, {childList: true});\n",
       "}}\n",
       "\n",
       "                        })                };                });            </script>        </div>"
      ]
     },
     "metadata": {},
     "output_type": "display_data"
    }
   ],
   "source": [
    "plot_well_behaviour('E 184', df)"
   ]
  },
  {
   "cell_type": "code",
   "execution_count": 15,
   "id": "a825ef5e",
   "metadata": {
    "ExecuteTime": {
     "end_time": "2023-10-23T19:45:50.115715Z",
     "start_time": "2023-10-23T19:45:49.920452Z"
    }
   },
   "outputs": [
    {
     "data": {
      "application/vnd.plotly.v1+json": {
       "config": {
        "plotlyServerURL": "https://plot.ly"
       },
       "data": [
        {
         "name": "Profundidad gas",
         "type": "scatter",
         "x": [
          "2020-08-05T00:00:00",
          "2020-09-04T00:00:00",
          "2020-10-05T00:00:00",
          "2020-11-12T00:00:00",
          "2020-12-10T00:00:00",
          "2021-01-08T00:00:00",
          "2021-02-05T00:00:00",
          "2021-03-05T00:00:00",
          "2021-04-07T00:00:00",
          "2021-05-18T00:00:00",
          "2021-06-04T00:00:00",
          "2021-07-05T00:00:00",
          "2021-08-02T00:00:00",
          "2021-09-06T00:00:00",
          "2021-10-04T00:00:00",
          "2021-11-03T00:00:00",
          "2021-12-03T00:00:00",
          "2022-01-05T00:00:00",
          "2022-02-04T00:00:00",
          "2022-03-04T00:00:00",
          "2022-04-04T00:00:00",
          "2022-05-04T00:00:00",
          "2022-06-01T00:00:00",
          "2022-07-05T00:00:00",
          "2022-08-05T00:00:00",
          "2022-09-06T00:00:00",
          "2022-10-06T00:00:00",
          "2022-11-02T00:00:00",
          "2022-12-06T00:00:00",
          "2023-01-05T00:00:00",
          "2023-02-07T00:00:00",
          "2023-03-14T00:00:00",
          "2023-04-12T00:00:00"
         ],
         "xaxis": "x",
         "y": [
          1130,
          1154,
          1092,
          1061,
          1312,
          1349,
          1339,
          1089,
          1062,
          1076,
          1056,
          1084,
          1080,
          1366,
          788,
          1092,
          1176,
          1291,
          1330,
          1317,
          1370,
          1418,
          1386,
          1399,
          1350,
          1356,
          1309,
          1373,
          1383,
          1367,
          1365,
          1336,
          1349
         ],
         "yaxis": "y"
        },
        {
         "name": "Profundidad niveles",
         "type": "scatter",
         "x": [
          "2020-08-05T00:00:00",
          "2020-09-04T00:00:00",
          "2020-10-05T00:00:00",
          "2020-11-12T00:00:00",
          "2020-12-10T00:00:00",
          "2021-01-08T00:00:00",
          "2021-02-05T00:00:00",
          "2021-03-05T00:00:00",
          "2021-04-07T00:00:00",
          "2021-05-18T00:00:00",
          "2021-06-04T00:00:00",
          "2021-07-05T00:00:00",
          "2021-08-02T00:00:00",
          "2021-09-06T00:00:00",
          "2021-10-04T00:00:00",
          "2021-11-03T00:00:00",
          "2021-12-03T00:00:00",
          "2022-01-05T00:00:00",
          "2022-02-04T00:00:00",
          "2022-03-04T00:00:00",
          "2022-04-04T00:00:00",
          "2022-05-04T00:00:00",
          "2022-06-01T00:00:00",
          "2022-07-05T00:00:00",
          "2022-08-05T00:00:00",
          "2022-09-06T00:00:00",
          "2022-10-06T00:00:00",
          "2022-11-02T00:00:00",
          "2022-12-06T00:00:00",
          "2023-01-05T00:00:00",
          "2023-02-07T00:00:00",
          "2023-03-14T00:00:00",
          "2023-04-12T00:00:00"
         ],
         "xaxis": "x",
         "y": [
          1204,
          1291,
          1185,
          1286,
          1443,
          1382,
          1416,
          1171,
          1250,
          1159,
          1056,
          1084,
          1223,
          1441,
          911,
          1242,
          1335,
          1440,
          1410,
          1370,
          1397,
          1450,
          1447,
          1424,
          1350,
          1356,
          1353,
          1373,
          1383,
          1414,
          1420,
          1415,
          1381
         ],
         "yaxis": "y"
        },
        {
         "name": "Profundidad bomba",
         "type": "scatter",
         "x": [
          "2020-08-05T00:00:00",
          "2020-09-04T00:00:00",
          "2020-10-05T00:00:00",
          "2020-11-12T00:00:00",
          "2020-12-10T00:00:00",
          "2021-01-08T00:00:00",
          "2021-02-05T00:00:00",
          "2021-03-05T00:00:00",
          "2021-04-07T00:00:00",
          "2021-05-18T00:00:00",
          "2021-06-04T00:00:00",
          "2021-07-05T00:00:00",
          "2021-08-02T00:00:00",
          "2021-09-06T00:00:00",
          "2021-10-04T00:00:00",
          "2021-11-03T00:00:00",
          "2021-12-03T00:00:00",
          "2022-01-05T00:00:00",
          "2022-02-04T00:00:00",
          "2022-03-04T00:00:00",
          "2022-04-04T00:00:00",
          "2022-05-04T00:00:00",
          "2022-06-01T00:00:00",
          "2022-07-05T00:00:00",
          "2022-08-05T00:00:00",
          "2022-09-06T00:00:00",
          "2022-10-06T00:00:00",
          "2022-11-02T00:00:00",
          "2022-12-06T00:00:00",
          "2023-01-05T00:00:00",
          "2023-02-07T00:00:00",
          "2023-03-14T00:00:00",
          "2023-04-12T00:00:00"
         ],
         "xaxis": "x",
         "y": [
          1496.33,
          1496.33,
          1496.33,
          1496.33,
          1496.33,
          1496.33,
          1496.33,
          1496.33,
          1496.33,
          1496.33,
          1496.33,
          1496.33,
          1496.33,
          1496.33,
          1496.33,
          1493,
          1493,
          1493,
          1493,
          1493,
          1493,
          1493,
          1493,
          1493,
          1493,
          1493,
          1493,
          1493,
          1493,
          1493,
          1493,
          1493,
          1493
         ],
         "yaxis": "y"
        },
        {
         "name": "Velocidad del sonido",
         "type": "scatter",
         "x": [
          "2020-08-05T00:00:00",
          "2020-09-04T00:00:00",
          "2020-10-05T00:00:00",
          "2020-11-12T00:00:00",
          "2020-12-10T00:00:00",
          "2021-01-08T00:00:00",
          "2021-02-05T00:00:00",
          "2021-03-05T00:00:00",
          "2021-04-07T00:00:00",
          "2021-05-18T00:00:00",
          "2021-06-04T00:00:00",
          "2021-07-05T00:00:00",
          "2021-08-02T00:00:00",
          "2021-09-06T00:00:00",
          "2021-10-04T00:00:00",
          "2021-11-03T00:00:00",
          "2021-12-03T00:00:00",
          "2022-01-05T00:00:00",
          "2022-02-04T00:00:00",
          "2022-03-04T00:00:00",
          "2022-04-04T00:00:00",
          "2022-05-04T00:00:00",
          "2022-06-01T00:00:00",
          "2022-07-05T00:00:00",
          "2022-08-05T00:00:00",
          "2022-09-06T00:00:00",
          "2022-10-06T00:00:00",
          "2022-11-02T00:00:00",
          "2022-12-06T00:00:00",
          "2023-01-05T00:00:00",
          "2023-02-07T00:00:00",
          "2023-03-14T00:00:00",
          "2023-04-12T00:00:00"
         ],
         "xaxis": "x",
         "y": [
          296,
          298,
          303,
          299,
          284,
          288,
          288,
          303,
          296,
          303,
          297,
          314,
          297,
          282,
          281,
          293,
          295,
          285,
          292,
          298,
          278,
          289,
          287,
          280,
          368,
          300,
          305,
          278,
          278,
          293,
          290,
          319,
          322
         ],
         "yaxis": "y2"
        }
       ],
       "layout": {
        "template": {
         "data": {
          "bar": [
           {
            "error_x": {
             "color": "#2a3f5f"
            },
            "error_y": {
             "color": "#2a3f5f"
            },
            "marker": {
             "line": {
              "color": "#E5ECF6",
              "width": 0.5
             },
             "pattern": {
              "fillmode": "overlay",
              "size": 10,
              "solidity": 0.2
             }
            },
            "type": "bar"
           }
          ],
          "barpolar": [
           {
            "marker": {
             "line": {
              "color": "#E5ECF6",
              "width": 0.5
             },
             "pattern": {
              "fillmode": "overlay",
              "size": 10,
              "solidity": 0.2
             }
            },
            "type": "barpolar"
           }
          ],
          "carpet": [
           {
            "aaxis": {
             "endlinecolor": "#2a3f5f",
             "gridcolor": "white",
             "linecolor": "white",
             "minorgridcolor": "white",
             "startlinecolor": "#2a3f5f"
            },
            "baxis": {
             "endlinecolor": "#2a3f5f",
             "gridcolor": "white",
             "linecolor": "white",
             "minorgridcolor": "white",
             "startlinecolor": "#2a3f5f"
            },
            "type": "carpet"
           }
          ],
          "choropleth": [
           {
            "colorbar": {
             "outlinewidth": 0,
             "ticks": ""
            },
            "type": "choropleth"
           }
          ],
          "contour": [
           {
            "colorbar": {
             "outlinewidth": 0,
             "ticks": ""
            },
            "colorscale": [
             [
              0,
              "#0d0887"
             ],
             [
              0.1111111111111111,
              "#46039f"
             ],
             [
              0.2222222222222222,
              "#7201a8"
             ],
             [
              0.3333333333333333,
              "#9c179e"
             ],
             [
              0.4444444444444444,
              "#bd3786"
             ],
             [
              0.5555555555555556,
              "#d8576b"
             ],
             [
              0.6666666666666666,
              "#ed7953"
             ],
             [
              0.7777777777777778,
              "#fb9f3a"
             ],
             [
              0.8888888888888888,
              "#fdca26"
             ],
             [
              1,
              "#f0f921"
             ]
            ],
            "type": "contour"
           }
          ],
          "contourcarpet": [
           {
            "colorbar": {
             "outlinewidth": 0,
             "ticks": ""
            },
            "type": "contourcarpet"
           }
          ],
          "heatmap": [
           {
            "colorbar": {
             "outlinewidth": 0,
             "ticks": ""
            },
            "colorscale": [
             [
              0,
              "#0d0887"
             ],
             [
              0.1111111111111111,
              "#46039f"
             ],
             [
              0.2222222222222222,
              "#7201a8"
             ],
             [
              0.3333333333333333,
              "#9c179e"
             ],
             [
              0.4444444444444444,
              "#bd3786"
             ],
             [
              0.5555555555555556,
              "#d8576b"
             ],
             [
              0.6666666666666666,
              "#ed7953"
             ],
             [
              0.7777777777777778,
              "#fb9f3a"
             ],
             [
              0.8888888888888888,
              "#fdca26"
             ],
             [
              1,
              "#f0f921"
             ]
            ],
            "type": "heatmap"
           }
          ],
          "heatmapgl": [
           {
            "colorbar": {
             "outlinewidth": 0,
             "ticks": ""
            },
            "colorscale": [
             [
              0,
              "#0d0887"
             ],
             [
              0.1111111111111111,
              "#46039f"
             ],
             [
              0.2222222222222222,
              "#7201a8"
             ],
             [
              0.3333333333333333,
              "#9c179e"
             ],
             [
              0.4444444444444444,
              "#bd3786"
             ],
             [
              0.5555555555555556,
              "#d8576b"
             ],
             [
              0.6666666666666666,
              "#ed7953"
             ],
             [
              0.7777777777777778,
              "#fb9f3a"
             ],
             [
              0.8888888888888888,
              "#fdca26"
             ],
             [
              1,
              "#f0f921"
             ]
            ],
            "type": "heatmapgl"
           }
          ],
          "histogram": [
           {
            "marker": {
             "pattern": {
              "fillmode": "overlay",
              "size": 10,
              "solidity": 0.2
             }
            },
            "type": "histogram"
           }
          ],
          "histogram2d": [
           {
            "colorbar": {
             "outlinewidth": 0,
             "ticks": ""
            },
            "colorscale": [
             [
              0,
              "#0d0887"
             ],
             [
              0.1111111111111111,
              "#46039f"
             ],
             [
              0.2222222222222222,
              "#7201a8"
             ],
             [
              0.3333333333333333,
              "#9c179e"
             ],
             [
              0.4444444444444444,
              "#bd3786"
             ],
             [
              0.5555555555555556,
              "#d8576b"
             ],
             [
              0.6666666666666666,
              "#ed7953"
             ],
             [
              0.7777777777777778,
              "#fb9f3a"
             ],
             [
              0.8888888888888888,
              "#fdca26"
             ],
             [
              1,
              "#f0f921"
             ]
            ],
            "type": "histogram2d"
           }
          ],
          "histogram2dcontour": [
           {
            "colorbar": {
             "outlinewidth": 0,
             "ticks": ""
            },
            "colorscale": [
             [
              0,
              "#0d0887"
             ],
             [
              0.1111111111111111,
              "#46039f"
             ],
             [
              0.2222222222222222,
              "#7201a8"
             ],
             [
              0.3333333333333333,
              "#9c179e"
             ],
             [
              0.4444444444444444,
              "#bd3786"
             ],
             [
              0.5555555555555556,
              "#d8576b"
             ],
             [
              0.6666666666666666,
              "#ed7953"
             ],
             [
              0.7777777777777778,
              "#fb9f3a"
             ],
             [
              0.8888888888888888,
              "#fdca26"
             ],
             [
              1,
              "#f0f921"
             ]
            ],
            "type": "histogram2dcontour"
           }
          ],
          "mesh3d": [
           {
            "colorbar": {
             "outlinewidth": 0,
             "ticks": ""
            },
            "type": "mesh3d"
           }
          ],
          "parcoords": [
           {
            "line": {
             "colorbar": {
              "outlinewidth": 0,
              "ticks": ""
             }
            },
            "type": "parcoords"
           }
          ],
          "pie": [
           {
            "automargin": true,
            "type": "pie"
           }
          ],
          "scatter": [
           {
            "fillpattern": {
             "fillmode": "overlay",
             "size": 10,
             "solidity": 0.2
            },
            "type": "scatter"
           }
          ],
          "scatter3d": [
           {
            "line": {
             "colorbar": {
              "outlinewidth": 0,
              "ticks": ""
             }
            },
            "marker": {
             "colorbar": {
              "outlinewidth": 0,
              "ticks": ""
             }
            },
            "type": "scatter3d"
           }
          ],
          "scattercarpet": [
           {
            "marker": {
             "colorbar": {
              "outlinewidth": 0,
              "ticks": ""
             }
            },
            "type": "scattercarpet"
           }
          ],
          "scattergeo": [
           {
            "marker": {
             "colorbar": {
              "outlinewidth": 0,
              "ticks": ""
             }
            },
            "type": "scattergeo"
           }
          ],
          "scattergl": [
           {
            "marker": {
             "colorbar": {
              "outlinewidth": 0,
              "ticks": ""
             }
            },
            "type": "scattergl"
           }
          ],
          "scattermapbox": [
           {
            "marker": {
             "colorbar": {
              "outlinewidth": 0,
              "ticks": ""
             }
            },
            "type": "scattermapbox"
           }
          ],
          "scatterpolar": [
           {
            "marker": {
             "colorbar": {
              "outlinewidth": 0,
              "ticks": ""
             }
            },
            "type": "scatterpolar"
           }
          ],
          "scatterpolargl": [
           {
            "marker": {
             "colorbar": {
              "outlinewidth": 0,
              "ticks": ""
             }
            },
            "type": "scatterpolargl"
           }
          ],
          "scatterternary": [
           {
            "marker": {
             "colorbar": {
              "outlinewidth": 0,
              "ticks": ""
             }
            },
            "type": "scatterternary"
           }
          ],
          "surface": [
           {
            "colorbar": {
             "outlinewidth": 0,
             "ticks": ""
            },
            "colorscale": [
             [
              0,
              "#0d0887"
             ],
             [
              0.1111111111111111,
              "#46039f"
             ],
             [
              0.2222222222222222,
              "#7201a8"
             ],
             [
              0.3333333333333333,
              "#9c179e"
             ],
             [
              0.4444444444444444,
              "#bd3786"
             ],
             [
              0.5555555555555556,
              "#d8576b"
             ],
             [
              0.6666666666666666,
              "#ed7953"
             ],
             [
              0.7777777777777778,
              "#fb9f3a"
             ],
             [
              0.8888888888888888,
              "#fdca26"
             ],
             [
              1,
              "#f0f921"
             ]
            ],
            "type": "surface"
           }
          ],
          "table": [
           {
            "cells": {
             "fill": {
              "color": "#EBF0F8"
             },
             "line": {
              "color": "white"
             }
            },
            "header": {
             "fill": {
              "color": "#C8D4E3"
             },
             "line": {
              "color": "white"
             }
            },
            "type": "table"
           }
          ]
         },
         "layout": {
          "annotationdefaults": {
           "arrowcolor": "#2a3f5f",
           "arrowhead": 0,
           "arrowwidth": 1
          },
          "autotypenumbers": "strict",
          "coloraxis": {
           "colorbar": {
            "outlinewidth": 0,
            "ticks": ""
           }
          },
          "colorscale": {
           "diverging": [
            [
             0,
             "#8e0152"
            ],
            [
             0.1,
             "#c51b7d"
            ],
            [
             0.2,
             "#de77ae"
            ],
            [
             0.3,
             "#f1b6da"
            ],
            [
             0.4,
             "#fde0ef"
            ],
            [
             0.5,
             "#f7f7f7"
            ],
            [
             0.6,
             "#e6f5d0"
            ],
            [
             0.7,
             "#b8e186"
            ],
            [
             0.8,
             "#7fbc41"
            ],
            [
             0.9,
             "#4d9221"
            ],
            [
             1,
             "#276419"
            ]
           ],
           "sequential": [
            [
             0,
             "#0d0887"
            ],
            [
             0.1111111111111111,
             "#46039f"
            ],
            [
             0.2222222222222222,
             "#7201a8"
            ],
            [
             0.3333333333333333,
             "#9c179e"
            ],
            [
             0.4444444444444444,
             "#bd3786"
            ],
            [
             0.5555555555555556,
             "#d8576b"
            ],
            [
             0.6666666666666666,
             "#ed7953"
            ],
            [
             0.7777777777777778,
             "#fb9f3a"
            ],
            [
             0.8888888888888888,
             "#fdca26"
            ],
            [
             1,
             "#f0f921"
            ]
           ],
           "sequentialminus": [
            [
             0,
             "#0d0887"
            ],
            [
             0.1111111111111111,
             "#46039f"
            ],
            [
             0.2222222222222222,
             "#7201a8"
            ],
            [
             0.3333333333333333,
             "#9c179e"
            ],
            [
             0.4444444444444444,
             "#bd3786"
            ],
            [
             0.5555555555555556,
             "#d8576b"
            ],
            [
             0.6666666666666666,
             "#ed7953"
            ],
            [
             0.7777777777777778,
             "#fb9f3a"
            ],
            [
             0.8888888888888888,
             "#fdca26"
            ],
            [
             1,
             "#f0f921"
            ]
           ]
          },
          "colorway": [
           "#636efa",
           "#EF553B",
           "#00cc96",
           "#ab63fa",
           "#FFA15A",
           "#19d3f3",
           "#FF6692",
           "#B6E880",
           "#FF97FF",
           "#FECB52"
          ],
          "font": {
           "color": "#2a3f5f"
          },
          "geo": {
           "bgcolor": "white",
           "lakecolor": "white",
           "landcolor": "#E5ECF6",
           "showlakes": true,
           "showland": true,
           "subunitcolor": "white"
          },
          "hoverlabel": {
           "align": "left"
          },
          "hovermode": "closest",
          "mapbox": {
           "style": "light"
          },
          "paper_bgcolor": "white",
          "plot_bgcolor": "#E5ECF6",
          "polar": {
           "angularaxis": {
            "gridcolor": "white",
            "linecolor": "white",
            "ticks": ""
           },
           "bgcolor": "#E5ECF6",
           "radialaxis": {
            "gridcolor": "white",
            "linecolor": "white",
            "ticks": ""
           }
          },
          "scene": {
           "xaxis": {
            "backgroundcolor": "#E5ECF6",
            "gridcolor": "white",
            "gridwidth": 2,
            "linecolor": "white",
            "showbackground": true,
            "ticks": "",
            "zerolinecolor": "white"
           },
           "yaxis": {
            "backgroundcolor": "#E5ECF6",
            "gridcolor": "white",
            "gridwidth": 2,
            "linecolor": "white",
            "showbackground": true,
            "ticks": "",
            "zerolinecolor": "white"
           },
           "zaxis": {
            "backgroundcolor": "#E5ECF6",
            "gridcolor": "white",
            "gridwidth": 2,
            "linecolor": "white",
            "showbackground": true,
            "ticks": "",
            "zerolinecolor": "white"
           }
          },
          "shapedefaults": {
           "line": {
            "color": "#2a3f5f"
           }
          },
          "ternary": {
           "aaxis": {
            "gridcolor": "white",
            "linecolor": "white",
            "ticks": ""
           },
           "baxis": {
            "gridcolor": "white",
            "linecolor": "white",
            "ticks": ""
           },
           "bgcolor": "#E5ECF6",
           "caxis": {
            "gridcolor": "white",
            "linecolor": "white",
            "ticks": ""
           }
          },
          "title": {
           "x": 0.05
          },
          "xaxis": {
           "automargin": true,
           "gridcolor": "white",
           "linecolor": "white",
           "ticks": "",
           "title": {
            "standoff": 15
           },
           "zerolinecolor": "white",
           "zerolinewidth": 2
          },
          "yaxis": {
           "automargin": true,
           "gridcolor": "white",
           "linecolor": "white",
           "ticks": "",
           "title": {
            "standoff": 15
           },
           "zerolinecolor": "white",
           "zerolinewidth": 2
          }
         }
        },
        "title": {
         "text": "Análisis de la evolución de diferentes variables del pozo E 151"
        },
        "xaxis": {
         "anchor": "y",
         "domain": [
          0,
          0.94
         ],
         "title": {
          "text": "Fecha"
         }
        },
        "yaxis": {
         "anchor": "x",
         "domain": [
          0,
          1
         ],
         "title": {
          "text": "Profundidad"
         }
        },
        "yaxis2": {
         "anchor": "x",
         "overlaying": "y",
         "side": "right",
         "title": {
          "text": "Velocidad"
         }
        }
       }
      },
      "text/html": [
       "<div>                            <div id=\"7dab68ec-4875-431e-9676-fdfaa00ef1b0\" class=\"plotly-graph-div\" style=\"height:525px; width:100%;\"></div>            <script type=\"text/javascript\">                require([\"plotly\"], function(Plotly) {                    window.PLOTLYENV=window.PLOTLYENV || {};                                    if (document.getElementById(\"7dab68ec-4875-431e-9676-fdfaa00ef1b0\")) {                    Plotly.newPlot(                        \"7dab68ec-4875-431e-9676-fdfaa00ef1b0\",                        [{\"name\":\"Profundidad gas\",\"x\":[\"2020-08-05T00:00:00\",\"2020-09-04T00:00:00\",\"2020-10-05T00:00:00\",\"2020-11-12T00:00:00\",\"2020-12-10T00:00:00\",\"2021-01-08T00:00:00\",\"2021-02-05T00:00:00\",\"2021-03-05T00:00:00\",\"2021-04-07T00:00:00\",\"2021-05-18T00:00:00\",\"2021-06-04T00:00:00\",\"2021-07-05T00:00:00\",\"2021-08-02T00:00:00\",\"2021-09-06T00:00:00\",\"2021-10-04T00:00:00\",\"2021-11-03T00:00:00\",\"2021-12-03T00:00:00\",\"2022-01-05T00:00:00\",\"2022-02-04T00:00:00\",\"2022-03-04T00:00:00\",\"2022-04-04T00:00:00\",\"2022-05-04T00:00:00\",\"2022-06-01T00:00:00\",\"2022-07-05T00:00:00\",\"2022-08-05T00:00:00\",\"2022-09-06T00:00:00\",\"2022-10-06T00:00:00\",\"2022-11-02T00:00:00\",\"2022-12-06T00:00:00\",\"2023-01-05T00:00:00\",\"2023-02-07T00:00:00\",\"2023-03-14T00:00:00\",\"2023-04-12T00:00:00\"],\"y\":[1130,1154,1092,1061,1312,1349,1339,1089,1062,1076,1056,1084,1080,1366,788,1092,1176,1291,1330,1317,1370,1418,1386,1399,1350,1356,1309,1373,1383,1367,1365,1336,1349],\"type\":\"scatter\",\"xaxis\":\"x\",\"yaxis\":\"y\"},{\"name\":\"Profundidad niveles\",\"x\":[\"2020-08-05T00:00:00\",\"2020-09-04T00:00:00\",\"2020-10-05T00:00:00\",\"2020-11-12T00:00:00\",\"2020-12-10T00:00:00\",\"2021-01-08T00:00:00\",\"2021-02-05T00:00:00\",\"2021-03-05T00:00:00\",\"2021-04-07T00:00:00\",\"2021-05-18T00:00:00\",\"2021-06-04T00:00:00\",\"2021-07-05T00:00:00\",\"2021-08-02T00:00:00\",\"2021-09-06T00:00:00\",\"2021-10-04T00:00:00\",\"2021-11-03T00:00:00\",\"2021-12-03T00:00:00\",\"2022-01-05T00:00:00\",\"2022-02-04T00:00:00\",\"2022-03-04T00:00:00\",\"2022-04-04T00:00:00\",\"2022-05-04T00:00:00\",\"2022-06-01T00:00:00\",\"2022-07-05T00:00:00\",\"2022-08-05T00:00:00\",\"2022-09-06T00:00:00\",\"2022-10-06T00:00:00\",\"2022-11-02T00:00:00\",\"2022-12-06T00:00:00\",\"2023-01-05T00:00:00\",\"2023-02-07T00:00:00\",\"2023-03-14T00:00:00\",\"2023-04-12T00:00:00\"],\"y\":[1204,1291,1185,1286,1443,1382,1416,1171,1250,1159,1056,1084,1223,1441,911,1242,1335,1440,1410,1370,1397,1450,1447,1424,1350,1356,1353,1373,1383,1414,1420,1415,1381],\"type\":\"scatter\",\"xaxis\":\"x\",\"yaxis\":\"y\"},{\"name\":\"Profundidad bomba\",\"x\":[\"2020-08-05T00:00:00\",\"2020-09-04T00:00:00\",\"2020-10-05T00:00:00\",\"2020-11-12T00:00:00\",\"2020-12-10T00:00:00\",\"2021-01-08T00:00:00\",\"2021-02-05T00:00:00\",\"2021-03-05T00:00:00\",\"2021-04-07T00:00:00\",\"2021-05-18T00:00:00\",\"2021-06-04T00:00:00\",\"2021-07-05T00:00:00\",\"2021-08-02T00:00:00\",\"2021-09-06T00:00:00\",\"2021-10-04T00:00:00\",\"2021-11-03T00:00:00\",\"2021-12-03T00:00:00\",\"2022-01-05T00:00:00\",\"2022-02-04T00:00:00\",\"2022-03-04T00:00:00\",\"2022-04-04T00:00:00\",\"2022-05-04T00:00:00\",\"2022-06-01T00:00:00\",\"2022-07-05T00:00:00\",\"2022-08-05T00:00:00\",\"2022-09-06T00:00:00\",\"2022-10-06T00:00:00\",\"2022-11-02T00:00:00\",\"2022-12-06T00:00:00\",\"2023-01-05T00:00:00\",\"2023-02-07T00:00:00\",\"2023-03-14T00:00:00\",\"2023-04-12T00:00:00\"],\"y\":[1496.33,1496.33,1496.33,1496.33,1496.33,1496.33,1496.33,1496.33,1496.33,1496.33,1496.33,1496.33,1496.33,1496.33,1496.33,1493.0,1493.0,1493.0,1493.0,1493.0,1493.0,1493.0,1493.0,1493.0,1493.0,1493.0,1493.0,1493.0,1493.0,1493.0,1493.0,1493.0,1493.0],\"type\":\"scatter\",\"xaxis\":\"x\",\"yaxis\":\"y\"},{\"name\":\"Velocidad del sonido\",\"x\":[\"2020-08-05T00:00:00\",\"2020-09-04T00:00:00\",\"2020-10-05T00:00:00\",\"2020-11-12T00:00:00\",\"2020-12-10T00:00:00\",\"2021-01-08T00:00:00\",\"2021-02-05T00:00:00\",\"2021-03-05T00:00:00\",\"2021-04-07T00:00:00\",\"2021-05-18T00:00:00\",\"2021-06-04T00:00:00\",\"2021-07-05T00:00:00\",\"2021-08-02T00:00:00\",\"2021-09-06T00:00:00\",\"2021-10-04T00:00:00\",\"2021-11-03T00:00:00\",\"2021-12-03T00:00:00\",\"2022-01-05T00:00:00\",\"2022-02-04T00:00:00\",\"2022-03-04T00:00:00\",\"2022-04-04T00:00:00\",\"2022-05-04T00:00:00\",\"2022-06-01T00:00:00\",\"2022-07-05T00:00:00\",\"2022-08-05T00:00:00\",\"2022-09-06T00:00:00\",\"2022-10-06T00:00:00\",\"2022-11-02T00:00:00\",\"2022-12-06T00:00:00\",\"2023-01-05T00:00:00\",\"2023-02-07T00:00:00\",\"2023-03-14T00:00:00\",\"2023-04-12T00:00:00\"],\"y\":[296,298,303,299,284,288,288,303,296,303,297,314,297,282,281,293,295,285,292,298,278,289,287,280,368,300,305,278,278,293,290,319,322],\"type\":\"scatter\",\"xaxis\":\"x\",\"yaxis\":\"y2\"}],                        {\"template\":{\"data\":{\"histogram2dcontour\":[{\"type\":\"histogram2dcontour\",\"colorbar\":{\"outlinewidth\":0,\"ticks\":\"\"},\"colorscale\":[[0.0,\"#0d0887\"],[0.1111111111111111,\"#46039f\"],[0.2222222222222222,\"#7201a8\"],[0.3333333333333333,\"#9c179e\"],[0.4444444444444444,\"#bd3786\"],[0.5555555555555556,\"#d8576b\"],[0.6666666666666666,\"#ed7953\"],[0.7777777777777778,\"#fb9f3a\"],[0.8888888888888888,\"#fdca26\"],[1.0,\"#f0f921\"]]}],\"choropleth\":[{\"type\":\"choropleth\",\"colorbar\":{\"outlinewidth\":0,\"ticks\":\"\"}}],\"histogram2d\":[{\"type\":\"histogram2d\",\"colorbar\":{\"outlinewidth\":0,\"ticks\":\"\"},\"colorscale\":[[0.0,\"#0d0887\"],[0.1111111111111111,\"#46039f\"],[0.2222222222222222,\"#7201a8\"],[0.3333333333333333,\"#9c179e\"],[0.4444444444444444,\"#bd3786\"],[0.5555555555555556,\"#d8576b\"],[0.6666666666666666,\"#ed7953\"],[0.7777777777777778,\"#fb9f3a\"],[0.8888888888888888,\"#fdca26\"],[1.0,\"#f0f921\"]]}],\"heatmap\":[{\"type\":\"heatmap\",\"colorbar\":{\"outlinewidth\":0,\"ticks\":\"\"},\"colorscale\":[[0.0,\"#0d0887\"],[0.1111111111111111,\"#46039f\"],[0.2222222222222222,\"#7201a8\"],[0.3333333333333333,\"#9c179e\"],[0.4444444444444444,\"#bd3786\"],[0.5555555555555556,\"#d8576b\"],[0.6666666666666666,\"#ed7953\"],[0.7777777777777778,\"#fb9f3a\"],[0.8888888888888888,\"#fdca26\"],[1.0,\"#f0f921\"]]}],\"heatmapgl\":[{\"type\":\"heatmapgl\",\"colorbar\":{\"outlinewidth\":0,\"ticks\":\"\"},\"colorscale\":[[0.0,\"#0d0887\"],[0.1111111111111111,\"#46039f\"],[0.2222222222222222,\"#7201a8\"],[0.3333333333333333,\"#9c179e\"],[0.4444444444444444,\"#bd3786\"],[0.5555555555555556,\"#d8576b\"],[0.6666666666666666,\"#ed7953\"],[0.7777777777777778,\"#fb9f3a\"],[0.8888888888888888,\"#fdca26\"],[1.0,\"#f0f921\"]]}],\"contourcarpet\":[{\"type\":\"contourcarpet\",\"colorbar\":{\"outlinewidth\":0,\"ticks\":\"\"}}],\"contour\":[{\"type\":\"contour\",\"colorbar\":{\"outlinewidth\":0,\"ticks\":\"\"},\"colorscale\":[[0.0,\"#0d0887\"],[0.1111111111111111,\"#46039f\"],[0.2222222222222222,\"#7201a8\"],[0.3333333333333333,\"#9c179e\"],[0.4444444444444444,\"#bd3786\"],[0.5555555555555556,\"#d8576b\"],[0.6666666666666666,\"#ed7953\"],[0.7777777777777778,\"#fb9f3a\"],[0.8888888888888888,\"#fdca26\"],[1.0,\"#f0f921\"]]}],\"surface\":[{\"type\":\"surface\",\"colorbar\":{\"outlinewidth\":0,\"ticks\":\"\"},\"colorscale\":[[0.0,\"#0d0887\"],[0.1111111111111111,\"#46039f\"],[0.2222222222222222,\"#7201a8\"],[0.3333333333333333,\"#9c179e\"],[0.4444444444444444,\"#bd3786\"],[0.5555555555555556,\"#d8576b\"],[0.6666666666666666,\"#ed7953\"],[0.7777777777777778,\"#fb9f3a\"],[0.8888888888888888,\"#fdca26\"],[1.0,\"#f0f921\"]]}],\"mesh3d\":[{\"type\":\"mesh3d\",\"colorbar\":{\"outlinewidth\":0,\"ticks\":\"\"}}],\"scatter\":[{\"fillpattern\":{\"fillmode\":\"overlay\",\"size\":10,\"solidity\":0.2},\"type\":\"scatter\"}],\"parcoords\":[{\"type\":\"parcoords\",\"line\":{\"colorbar\":{\"outlinewidth\":0,\"ticks\":\"\"}}}],\"scatterpolargl\":[{\"type\":\"scatterpolargl\",\"marker\":{\"colorbar\":{\"outlinewidth\":0,\"ticks\":\"\"}}}],\"bar\":[{\"error_x\":{\"color\":\"#2a3f5f\"},\"error_y\":{\"color\":\"#2a3f5f\"},\"marker\":{\"line\":{\"color\":\"#E5ECF6\",\"width\":0.5},\"pattern\":{\"fillmode\":\"overlay\",\"size\":10,\"solidity\":0.2}},\"type\":\"bar\"}],\"scattergeo\":[{\"type\":\"scattergeo\",\"marker\":{\"colorbar\":{\"outlinewidth\":0,\"ticks\":\"\"}}}],\"scatterpolar\":[{\"type\":\"scatterpolar\",\"marker\":{\"colorbar\":{\"outlinewidth\":0,\"ticks\":\"\"}}}],\"histogram\":[{\"marker\":{\"pattern\":{\"fillmode\":\"overlay\",\"size\":10,\"solidity\":0.2}},\"type\":\"histogram\"}],\"scattergl\":[{\"type\":\"scattergl\",\"marker\":{\"colorbar\":{\"outlinewidth\":0,\"ticks\":\"\"}}}],\"scatter3d\":[{\"type\":\"scatter3d\",\"line\":{\"colorbar\":{\"outlinewidth\":0,\"ticks\":\"\"}},\"marker\":{\"colorbar\":{\"outlinewidth\":0,\"ticks\":\"\"}}}],\"scattermapbox\":[{\"type\":\"scattermapbox\",\"marker\":{\"colorbar\":{\"outlinewidth\":0,\"ticks\":\"\"}}}],\"scatterternary\":[{\"type\":\"scatterternary\",\"marker\":{\"colorbar\":{\"outlinewidth\":0,\"ticks\":\"\"}}}],\"scattercarpet\":[{\"type\":\"scattercarpet\",\"marker\":{\"colorbar\":{\"outlinewidth\":0,\"ticks\":\"\"}}}],\"carpet\":[{\"aaxis\":{\"endlinecolor\":\"#2a3f5f\",\"gridcolor\":\"white\",\"linecolor\":\"white\",\"minorgridcolor\":\"white\",\"startlinecolor\":\"#2a3f5f\"},\"baxis\":{\"endlinecolor\":\"#2a3f5f\",\"gridcolor\":\"white\",\"linecolor\":\"white\",\"minorgridcolor\":\"white\",\"startlinecolor\":\"#2a3f5f\"},\"type\":\"carpet\"}],\"table\":[{\"cells\":{\"fill\":{\"color\":\"#EBF0F8\"},\"line\":{\"color\":\"white\"}},\"header\":{\"fill\":{\"color\":\"#C8D4E3\"},\"line\":{\"color\":\"white\"}},\"type\":\"table\"}],\"barpolar\":[{\"marker\":{\"line\":{\"color\":\"#E5ECF6\",\"width\":0.5},\"pattern\":{\"fillmode\":\"overlay\",\"size\":10,\"solidity\":0.2}},\"type\":\"barpolar\"}],\"pie\":[{\"automargin\":true,\"type\":\"pie\"}]},\"layout\":{\"autotypenumbers\":\"strict\",\"colorway\":[\"#636efa\",\"#EF553B\",\"#00cc96\",\"#ab63fa\",\"#FFA15A\",\"#19d3f3\",\"#FF6692\",\"#B6E880\",\"#FF97FF\",\"#FECB52\"],\"font\":{\"color\":\"#2a3f5f\"},\"hovermode\":\"closest\",\"hoverlabel\":{\"align\":\"left\"},\"paper_bgcolor\":\"white\",\"plot_bgcolor\":\"#E5ECF6\",\"polar\":{\"bgcolor\":\"#E5ECF6\",\"angularaxis\":{\"gridcolor\":\"white\",\"linecolor\":\"white\",\"ticks\":\"\"},\"radialaxis\":{\"gridcolor\":\"white\",\"linecolor\":\"white\",\"ticks\":\"\"}},\"ternary\":{\"bgcolor\":\"#E5ECF6\",\"aaxis\":{\"gridcolor\":\"white\",\"linecolor\":\"white\",\"ticks\":\"\"},\"baxis\":{\"gridcolor\":\"white\",\"linecolor\":\"white\",\"ticks\":\"\"},\"caxis\":{\"gridcolor\":\"white\",\"linecolor\":\"white\",\"ticks\":\"\"}},\"coloraxis\":{\"colorbar\":{\"outlinewidth\":0,\"ticks\":\"\"}},\"colorscale\":{\"sequential\":[[0.0,\"#0d0887\"],[0.1111111111111111,\"#46039f\"],[0.2222222222222222,\"#7201a8\"],[0.3333333333333333,\"#9c179e\"],[0.4444444444444444,\"#bd3786\"],[0.5555555555555556,\"#d8576b\"],[0.6666666666666666,\"#ed7953\"],[0.7777777777777778,\"#fb9f3a\"],[0.8888888888888888,\"#fdca26\"],[1.0,\"#f0f921\"]],\"sequentialminus\":[[0.0,\"#0d0887\"],[0.1111111111111111,\"#46039f\"],[0.2222222222222222,\"#7201a8\"],[0.3333333333333333,\"#9c179e\"],[0.4444444444444444,\"#bd3786\"],[0.5555555555555556,\"#d8576b\"],[0.6666666666666666,\"#ed7953\"],[0.7777777777777778,\"#fb9f3a\"],[0.8888888888888888,\"#fdca26\"],[1.0,\"#f0f921\"]],\"diverging\":[[0,\"#8e0152\"],[0.1,\"#c51b7d\"],[0.2,\"#de77ae\"],[0.3,\"#f1b6da\"],[0.4,\"#fde0ef\"],[0.5,\"#f7f7f7\"],[0.6,\"#e6f5d0\"],[0.7,\"#b8e186\"],[0.8,\"#7fbc41\"],[0.9,\"#4d9221\"],[1,\"#276419\"]]},\"xaxis\":{\"gridcolor\":\"white\",\"linecolor\":\"white\",\"ticks\":\"\",\"title\":{\"standoff\":15},\"zerolinecolor\":\"white\",\"automargin\":true,\"zerolinewidth\":2},\"yaxis\":{\"gridcolor\":\"white\",\"linecolor\":\"white\",\"ticks\":\"\",\"title\":{\"standoff\":15},\"zerolinecolor\":\"white\",\"automargin\":true,\"zerolinewidth\":2},\"scene\":{\"xaxis\":{\"backgroundcolor\":\"#E5ECF6\",\"gridcolor\":\"white\",\"linecolor\":\"white\",\"showbackground\":true,\"ticks\":\"\",\"zerolinecolor\":\"white\",\"gridwidth\":2},\"yaxis\":{\"backgroundcolor\":\"#E5ECF6\",\"gridcolor\":\"white\",\"linecolor\":\"white\",\"showbackground\":true,\"ticks\":\"\",\"zerolinecolor\":\"white\",\"gridwidth\":2},\"zaxis\":{\"backgroundcolor\":\"#E5ECF6\",\"gridcolor\":\"white\",\"linecolor\":\"white\",\"showbackground\":true,\"ticks\":\"\",\"zerolinecolor\":\"white\",\"gridwidth\":2}},\"shapedefaults\":{\"line\":{\"color\":\"#2a3f5f\"}},\"annotationdefaults\":{\"arrowcolor\":\"#2a3f5f\",\"arrowhead\":0,\"arrowwidth\":1},\"geo\":{\"bgcolor\":\"white\",\"landcolor\":\"#E5ECF6\",\"subunitcolor\":\"white\",\"showland\":true,\"showlakes\":true,\"lakecolor\":\"white\"},\"title\":{\"x\":0.05},\"mapbox\":{\"style\":\"light\"}}},\"xaxis\":{\"anchor\":\"y\",\"domain\":[0.0,0.94],\"title\":{\"text\":\"Fecha\"}},\"yaxis\":{\"anchor\":\"x\",\"domain\":[0.0,1.0],\"title\":{\"text\":\"Profundidad\"}},\"yaxis2\":{\"anchor\":\"x\",\"overlaying\":\"y\",\"side\":\"right\",\"title\":{\"text\":\"Velocidad\"}},\"title\":{\"text\":\"An\\u00e1lisis de la evoluci\\u00f3n de diferentes variables del pozo E 151\"}},                        {\"responsive\": true}                    ).then(function(){\n",
       "                            \n",
       "var gd = document.getElementById('7dab68ec-4875-431e-9676-fdfaa00ef1b0');\n",
       "var x = new MutationObserver(function (mutations, observer) {{\n",
       "        var display = window.getComputedStyle(gd).display;\n",
       "        if (!display || display === 'none') {{\n",
       "            console.log([gd, 'removed!']);\n",
       "            Plotly.purge(gd);\n",
       "            observer.disconnect();\n",
       "        }}\n",
       "}});\n",
       "\n",
       "// Listen for the removal of the full notebook cells\n",
       "var notebookContainer = gd.closest('#notebook-container');\n",
       "if (notebookContainer) {{\n",
       "    x.observe(notebookContainer, {childList: true});\n",
       "}}\n",
       "\n",
       "// Listen for the clearing of the current output cell\n",
       "var outputEl = gd.closest('.output');\n",
       "if (outputEl) {{\n",
       "    x.observe(outputEl, {childList: true});\n",
       "}}\n",
       "\n",
       "                        })                };                });            </script>        </div>"
      ]
     },
     "metadata": {},
     "output_type": "display_data"
    },
    {
     "data": {
      "application/vnd.plotly.v1+json": {
       "config": {
        "plotlyServerURL": "https://plot.ly"
       },
       "data": [
        {
         "name": "Profundidad bomba",
         "type": "scatter",
         "x": [
          "2020-08-05T00:00:00",
          "2020-09-04T00:00:00",
          "2020-10-05T00:00:00",
          "2020-11-12T00:00:00",
          "2020-12-10T00:00:00",
          "2021-01-08T00:00:00",
          "2021-02-05T00:00:00",
          "2021-03-05T00:00:00",
          "2021-04-07T00:00:00",
          "2021-05-18T00:00:00",
          "2021-06-04T00:00:00",
          "2021-07-05T00:00:00",
          "2021-08-02T00:00:00",
          "2021-09-06T00:00:00",
          "2021-10-04T00:00:00",
          "2021-11-03T00:00:00",
          "2021-12-03T00:00:00",
          "2022-01-05T00:00:00",
          "2022-02-04T00:00:00",
          "2022-03-04T00:00:00",
          "2022-04-04T00:00:00",
          "2022-05-04T00:00:00",
          "2022-06-01T00:00:00",
          "2022-07-05T00:00:00",
          "2022-08-05T00:00:00",
          "2022-09-06T00:00:00",
          "2022-10-06T00:00:00",
          "2022-11-02T00:00:00",
          "2022-12-06T00:00:00",
          "2023-01-05T00:00:00",
          "2023-02-07T00:00:00",
          "2023-03-14T00:00:00",
          "2023-04-12T00:00:00"
         ],
         "xaxis": "x",
         "y": [
          1496.33,
          1496.33,
          1496.33,
          1496.33,
          1496.33,
          1496.33,
          1496.33,
          1496.33,
          1496.33,
          1496.33,
          1496.33,
          1496.33,
          1496.33,
          1496.33,
          1496.33,
          1493,
          1493,
          1493,
          1493,
          1493,
          1493,
          1493,
          1493,
          1493,
          1493,
          1493,
          1493,
          1493,
          1493,
          1493,
          1493,
          1493,
          1493
         ],
         "yaxis": "y"
        },
        {
         "name": "Producción petroleo",
         "type": "scatter",
         "x": [
          "2020-08-05T00:00:00",
          "2020-09-04T00:00:00",
          "2020-10-05T00:00:00",
          "2020-11-12T00:00:00",
          "2020-12-10T00:00:00",
          "2021-01-08T00:00:00",
          "2021-02-05T00:00:00",
          "2021-03-05T00:00:00",
          "2021-04-07T00:00:00",
          "2021-05-18T00:00:00",
          "2021-06-04T00:00:00",
          "2021-07-05T00:00:00",
          "2021-08-02T00:00:00",
          "2021-09-06T00:00:00",
          "2021-10-04T00:00:00",
          "2021-11-03T00:00:00",
          "2021-12-03T00:00:00",
          "2022-01-05T00:00:00",
          "2022-02-04T00:00:00",
          "2022-03-04T00:00:00",
          "2022-04-04T00:00:00",
          "2022-05-04T00:00:00",
          "2022-06-01T00:00:00",
          "2022-07-05T00:00:00",
          "2022-08-05T00:00:00",
          "2022-09-06T00:00:00",
          "2022-10-06T00:00:00",
          "2022-11-02T00:00:00",
          "2022-12-06T00:00:00",
          "2023-01-05T00:00:00",
          "2023-02-07T00:00:00",
          "2023-03-14T00:00:00",
          "2023-04-12T00:00:00"
         ],
         "xaxis": "x",
         "y": [
          5.1,
          5.2,
          1.3,
          1.3,
          4.7,
          4.3,
          4.3,
          3.9,
          3.1,
          3.1,
          4.1,
          4.1,
          3.7,
          3.7,
          4.7,
          3.7,
          4.6,
          3.7,
          1.1,
          2.8,
          3.8,
          5.2,
          5.2,
          3.3,
          3.3,
          3.4,
          1.9,
          3.3,
          4.1,
          4.9,
          4.9,
          3.5,
          5.4
         ],
         "yaxis": "y2"
        }
       ],
       "layout": {
        "template": {
         "data": {
          "bar": [
           {
            "error_x": {
             "color": "#2a3f5f"
            },
            "error_y": {
             "color": "#2a3f5f"
            },
            "marker": {
             "line": {
              "color": "#E5ECF6",
              "width": 0.5
             },
             "pattern": {
              "fillmode": "overlay",
              "size": 10,
              "solidity": 0.2
             }
            },
            "type": "bar"
           }
          ],
          "barpolar": [
           {
            "marker": {
             "line": {
              "color": "#E5ECF6",
              "width": 0.5
             },
             "pattern": {
              "fillmode": "overlay",
              "size": 10,
              "solidity": 0.2
             }
            },
            "type": "barpolar"
           }
          ],
          "carpet": [
           {
            "aaxis": {
             "endlinecolor": "#2a3f5f",
             "gridcolor": "white",
             "linecolor": "white",
             "minorgridcolor": "white",
             "startlinecolor": "#2a3f5f"
            },
            "baxis": {
             "endlinecolor": "#2a3f5f",
             "gridcolor": "white",
             "linecolor": "white",
             "minorgridcolor": "white",
             "startlinecolor": "#2a3f5f"
            },
            "type": "carpet"
           }
          ],
          "choropleth": [
           {
            "colorbar": {
             "outlinewidth": 0,
             "ticks": ""
            },
            "type": "choropleth"
           }
          ],
          "contour": [
           {
            "colorbar": {
             "outlinewidth": 0,
             "ticks": ""
            },
            "colorscale": [
             [
              0,
              "#0d0887"
             ],
             [
              0.1111111111111111,
              "#46039f"
             ],
             [
              0.2222222222222222,
              "#7201a8"
             ],
             [
              0.3333333333333333,
              "#9c179e"
             ],
             [
              0.4444444444444444,
              "#bd3786"
             ],
             [
              0.5555555555555556,
              "#d8576b"
             ],
             [
              0.6666666666666666,
              "#ed7953"
             ],
             [
              0.7777777777777778,
              "#fb9f3a"
             ],
             [
              0.8888888888888888,
              "#fdca26"
             ],
             [
              1,
              "#f0f921"
             ]
            ],
            "type": "contour"
           }
          ],
          "contourcarpet": [
           {
            "colorbar": {
             "outlinewidth": 0,
             "ticks": ""
            },
            "type": "contourcarpet"
           }
          ],
          "heatmap": [
           {
            "colorbar": {
             "outlinewidth": 0,
             "ticks": ""
            },
            "colorscale": [
             [
              0,
              "#0d0887"
             ],
             [
              0.1111111111111111,
              "#46039f"
             ],
             [
              0.2222222222222222,
              "#7201a8"
             ],
             [
              0.3333333333333333,
              "#9c179e"
             ],
             [
              0.4444444444444444,
              "#bd3786"
             ],
             [
              0.5555555555555556,
              "#d8576b"
             ],
             [
              0.6666666666666666,
              "#ed7953"
             ],
             [
              0.7777777777777778,
              "#fb9f3a"
             ],
             [
              0.8888888888888888,
              "#fdca26"
             ],
             [
              1,
              "#f0f921"
             ]
            ],
            "type": "heatmap"
           }
          ],
          "heatmapgl": [
           {
            "colorbar": {
             "outlinewidth": 0,
             "ticks": ""
            },
            "colorscale": [
             [
              0,
              "#0d0887"
             ],
             [
              0.1111111111111111,
              "#46039f"
             ],
             [
              0.2222222222222222,
              "#7201a8"
             ],
             [
              0.3333333333333333,
              "#9c179e"
             ],
             [
              0.4444444444444444,
              "#bd3786"
             ],
             [
              0.5555555555555556,
              "#d8576b"
             ],
             [
              0.6666666666666666,
              "#ed7953"
             ],
             [
              0.7777777777777778,
              "#fb9f3a"
             ],
             [
              0.8888888888888888,
              "#fdca26"
             ],
             [
              1,
              "#f0f921"
             ]
            ],
            "type": "heatmapgl"
           }
          ],
          "histogram": [
           {
            "marker": {
             "pattern": {
              "fillmode": "overlay",
              "size": 10,
              "solidity": 0.2
             }
            },
            "type": "histogram"
           }
          ],
          "histogram2d": [
           {
            "colorbar": {
             "outlinewidth": 0,
             "ticks": ""
            },
            "colorscale": [
             [
              0,
              "#0d0887"
             ],
             [
              0.1111111111111111,
              "#46039f"
             ],
             [
              0.2222222222222222,
              "#7201a8"
             ],
             [
              0.3333333333333333,
              "#9c179e"
             ],
             [
              0.4444444444444444,
              "#bd3786"
             ],
             [
              0.5555555555555556,
              "#d8576b"
             ],
             [
              0.6666666666666666,
              "#ed7953"
             ],
             [
              0.7777777777777778,
              "#fb9f3a"
             ],
             [
              0.8888888888888888,
              "#fdca26"
             ],
             [
              1,
              "#f0f921"
             ]
            ],
            "type": "histogram2d"
           }
          ],
          "histogram2dcontour": [
           {
            "colorbar": {
             "outlinewidth": 0,
             "ticks": ""
            },
            "colorscale": [
             [
              0,
              "#0d0887"
             ],
             [
              0.1111111111111111,
              "#46039f"
             ],
             [
              0.2222222222222222,
              "#7201a8"
             ],
             [
              0.3333333333333333,
              "#9c179e"
             ],
             [
              0.4444444444444444,
              "#bd3786"
             ],
             [
              0.5555555555555556,
              "#d8576b"
             ],
             [
              0.6666666666666666,
              "#ed7953"
             ],
             [
              0.7777777777777778,
              "#fb9f3a"
             ],
             [
              0.8888888888888888,
              "#fdca26"
             ],
             [
              1,
              "#f0f921"
             ]
            ],
            "type": "histogram2dcontour"
           }
          ],
          "mesh3d": [
           {
            "colorbar": {
             "outlinewidth": 0,
             "ticks": ""
            },
            "type": "mesh3d"
           }
          ],
          "parcoords": [
           {
            "line": {
             "colorbar": {
              "outlinewidth": 0,
              "ticks": ""
             }
            },
            "type": "parcoords"
           }
          ],
          "pie": [
           {
            "automargin": true,
            "type": "pie"
           }
          ],
          "scatter": [
           {
            "fillpattern": {
             "fillmode": "overlay",
             "size": 10,
             "solidity": 0.2
            },
            "type": "scatter"
           }
          ],
          "scatter3d": [
           {
            "line": {
             "colorbar": {
              "outlinewidth": 0,
              "ticks": ""
             }
            },
            "marker": {
             "colorbar": {
              "outlinewidth": 0,
              "ticks": ""
             }
            },
            "type": "scatter3d"
           }
          ],
          "scattercarpet": [
           {
            "marker": {
             "colorbar": {
              "outlinewidth": 0,
              "ticks": ""
             }
            },
            "type": "scattercarpet"
           }
          ],
          "scattergeo": [
           {
            "marker": {
             "colorbar": {
              "outlinewidth": 0,
              "ticks": ""
             }
            },
            "type": "scattergeo"
           }
          ],
          "scattergl": [
           {
            "marker": {
             "colorbar": {
              "outlinewidth": 0,
              "ticks": ""
             }
            },
            "type": "scattergl"
           }
          ],
          "scattermapbox": [
           {
            "marker": {
             "colorbar": {
              "outlinewidth": 0,
              "ticks": ""
             }
            },
            "type": "scattermapbox"
           }
          ],
          "scatterpolar": [
           {
            "marker": {
             "colorbar": {
              "outlinewidth": 0,
              "ticks": ""
             }
            },
            "type": "scatterpolar"
           }
          ],
          "scatterpolargl": [
           {
            "marker": {
             "colorbar": {
              "outlinewidth": 0,
              "ticks": ""
             }
            },
            "type": "scatterpolargl"
           }
          ],
          "scatterternary": [
           {
            "marker": {
             "colorbar": {
              "outlinewidth": 0,
              "ticks": ""
             }
            },
            "type": "scatterternary"
           }
          ],
          "surface": [
           {
            "colorbar": {
             "outlinewidth": 0,
             "ticks": ""
            },
            "colorscale": [
             [
              0,
              "#0d0887"
             ],
             [
              0.1111111111111111,
              "#46039f"
             ],
             [
              0.2222222222222222,
              "#7201a8"
             ],
             [
              0.3333333333333333,
              "#9c179e"
             ],
             [
              0.4444444444444444,
              "#bd3786"
             ],
             [
              0.5555555555555556,
              "#d8576b"
             ],
             [
              0.6666666666666666,
              "#ed7953"
             ],
             [
              0.7777777777777778,
              "#fb9f3a"
             ],
             [
              0.8888888888888888,
              "#fdca26"
             ],
             [
              1,
              "#f0f921"
             ]
            ],
            "type": "surface"
           }
          ],
          "table": [
           {
            "cells": {
             "fill": {
              "color": "#EBF0F8"
             },
             "line": {
              "color": "white"
             }
            },
            "header": {
             "fill": {
              "color": "#C8D4E3"
             },
             "line": {
              "color": "white"
             }
            },
            "type": "table"
           }
          ]
         },
         "layout": {
          "annotationdefaults": {
           "arrowcolor": "#2a3f5f",
           "arrowhead": 0,
           "arrowwidth": 1
          },
          "autotypenumbers": "strict",
          "coloraxis": {
           "colorbar": {
            "outlinewidth": 0,
            "ticks": ""
           }
          },
          "colorscale": {
           "diverging": [
            [
             0,
             "#8e0152"
            ],
            [
             0.1,
             "#c51b7d"
            ],
            [
             0.2,
             "#de77ae"
            ],
            [
             0.3,
             "#f1b6da"
            ],
            [
             0.4,
             "#fde0ef"
            ],
            [
             0.5,
             "#f7f7f7"
            ],
            [
             0.6,
             "#e6f5d0"
            ],
            [
             0.7,
             "#b8e186"
            ],
            [
             0.8,
             "#7fbc41"
            ],
            [
             0.9,
             "#4d9221"
            ],
            [
             1,
             "#276419"
            ]
           ],
           "sequential": [
            [
             0,
             "#0d0887"
            ],
            [
             0.1111111111111111,
             "#46039f"
            ],
            [
             0.2222222222222222,
             "#7201a8"
            ],
            [
             0.3333333333333333,
             "#9c179e"
            ],
            [
             0.4444444444444444,
             "#bd3786"
            ],
            [
             0.5555555555555556,
             "#d8576b"
            ],
            [
             0.6666666666666666,
             "#ed7953"
            ],
            [
             0.7777777777777778,
             "#fb9f3a"
            ],
            [
             0.8888888888888888,
             "#fdca26"
            ],
            [
             1,
             "#f0f921"
            ]
           ],
           "sequentialminus": [
            [
             0,
             "#0d0887"
            ],
            [
             0.1111111111111111,
             "#46039f"
            ],
            [
             0.2222222222222222,
             "#7201a8"
            ],
            [
             0.3333333333333333,
             "#9c179e"
            ],
            [
             0.4444444444444444,
             "#bd3786"
            ],
            [
             0.5555555555555556,
             "#d8576b"
            ],
            [
             0.6666666666666666,
             "#ed7953"
            ],
            [
             0.7777777777777778,
             "#fb9f3a"
            ],
            [
             0.8888888888888888,
             "#fdca26"
            ],
            [
             1,
             "#f0f921"
            ]
           ]
          },
          "colorway": [
           "#636efa",
           "#EF553B",
           "#00cc96",
           "#ab63fa",
           "#FFA15A",
           "#19d3f3",
           "#FF6692",
           "#B6E880",
           "#FF97FF",
           "#FECB52"
          ],
          "font": {
           "color": "#2a3f5f"
          },
          "geo": {
           "bgcolor": "white",
           "lakecolor": "white",
           "landcolor": "#E5ECF6",
           "showlakes": true,
           "showland": true,
           "subunitcolor": "white"
          },
          "hoverlabel": {
           "align": "left"
          },
          "hovermode": "closest",
          "mapbox": {
           "style": "light"
          },
          "paper_bgcolor": "white",
          "plot_bgcolor": "#E5ECF6",
          "polar": {
           "angularaxis": {
            "gridcolor": "white",
            "linecolor": "white",
            "ticks": ""
           },
           "bgcolor": "#E5ECF6",
           "radialaxis": {
            "gridcolor": "white",
            "linecolor": "white",
            "ticks": ""
           }
          },
          "scene": {
           "xaxis": {
            "backgroundcolor": "#E5ECF6",
            "gridcolor": "white",
            "gridwidth": 2,
            "linecolor": "white",
            "showbackground": true,
            "ticks": "",
            "zerolinecolor": "white"
           },
           "yaxis": {
            "backgroundcolor": "#E5ECF6",
            "gridcolor": "white",
            "gridwidth": 2,
            "linecolor": "white",
            "showbackground": true,
            "ticks": "",
            "zerolinecolor": "white"
           },
           "zaxis": {
            "backgroundcolor": "#E5ECF6",
            "gridcolor": "white",
            "gridwidth": 2,
            "linecolor": "white",
            "showbackground": true,
            "ticks": "",
            "zerolinecolor": "white"
           }
          },
          "shapedefaults": {
           "line": {
            "color": "#2a3f5f"
           }
          },
          "ternary": {
           "aaxis": {
            "gridcolor": "white",
            "linecolor": "white",
            "ticks": ""
           },
           "baxis": {
            "gridcolor": "white",
            "linecolor": "white",
            "ticks": ""
           },
           "bgcolor": "#E5ECF6",
           "caxis": {
            "gridcolor": "white",
            "linecolor": "white",
            "ticks": ""
           }
          },
          "title": {
           "x": 0.05
          },
          "xaxis": {
           "automargin": true,
           "gridcolor": "white",
           "linecolor": "white",
           "ticks": "",
           "title": {
            "standoff": 15
           },
           "zerolinecolor": "white",
           "zerolinewidth": 2
          },
          "yaxis": {
           "automargin": true,
           "gridcolor": "white",
           "linecolor": "white",
           "ticks": "",
           "title": {
            "standoff": 15
           },
           "zerolinecolor": "white",
           "zerolinewidth": 2
          }
         }
        },
        "xaxis": {
         "anchor": "y",
         "domain": [
          0,
          0.94
         ],
         "title": {
          "text": "Fecha"
         }
        },
        "yaxis": {
         "anchor": "x",
         "domain": [
          0,
          1
         ],
         "title": {
          "text": "Profundidad"
         }
        },
        "yaxis2": {
         "anchor": "x",
         "overlaying": "y",
         "side": "right",
         "title": {
          "text": "Producción"
         }
        }
       }
      },
      "text/html": [
       "<div>                            <div id=\"97303239-c358-4121-9b57-ca187f1db39b\" class=\"plotly-graph-div\" style=\"height:525px; width:100%;\"></div>            <script type=\"text/javascript\">                require([\"plotly\"], function(Plotly) {                    window.PLOTLYENV=window.PLOTLYENV || {};                                    if (document.getElementById(\"97303239-c358-4121-9b57-ca187f1db39b\")) {                    Plotly.newPlot(                        \"97303239-c358-4121-9b57-ca187f1db39b\",                        [{\"name\":\"Profundidad bomba\",\"x\":[\"2020-08-05T00:00:00\",\"2020-09-04T00:00:00\",\"2020-10-05T00:00:00\",\"2020-11-12T00:00:00\",\"2020-12-10T00:00:00\",\"2021-01-08T00:00:00\",\"2021-02-05T00:00:00\",\"2021-03-05T00:00:00\",\"2021-04-07T00:00:00\",\"2021-05-18T00:00:00\",\"2021-06-04T00:00:00\",\"2021-07-05T00:00:00\",\"2021-08-02T00:00:00\",\"2021-09-06T00:00:00\",\"2021-10-04T00:00:00\",\"2021-11-03T00:00:00\",\"2021-12-03T00:00:00\",\"2022-01-05T00:00:00\",\"2022-02-04T00:00:00\",\"2022-03-04T00:00:00\",\"2022-04-04T00:00:00\",\"2022-05-04T00:00:00\",\"2022-06-01T00:00:00\",\"2022-07-05T00:00:00\",\"2022-08-05T00:00:00\",\"2022-09-06T00:00:00\",\"2022-10-06T00:00:00\",\"2022-11-02T00:00:00\",\"2022-12-06T00:00:00\",\"2023-01-05T00:00:00\",\"2023-02-07T00:00:00\",\"2023-03-14T00:00:00\",\"2023-04-12T00:00:00\"],\"y\":[1496.33,1496.33,1496.33,1496.33,1496.33,1496.33,1496.33,1496.33,1496.33,1496.33,1496.33,1496.33,1496.33,1496.33,1496.33,1493.0,1493.0,1493.0,1493.0,1493.0,1493.0,1493.0,1493.0,1493.0,1493.0,1493.0,1493.0,1493.0,1493.0,1493.0,1493.0,1493.0,1493.0],\"type\":\"scatter\",\"xaxis\":\"x\",\"yaxis\":\"y\"},{\"name\":\"Producci\\u00f3n petroleo\",\"x\":[\"2020-08-05T00:00:00\",\"2020-09-04T00:00:00\",\"2020-10-05T00:00:00\",\"2020-11-12T00:00:00\",\"2020-12-10T00:00:00\",\"2021-01-08T00:00:00\",\"2021-02-05T00:00:00\",\"2021-03-05T00:00:00\",\"2021-04-07T00:00:00\",\"2021-05-18T00:00:00\",\"2021-06-04T00:00:00\",\"2021-07-05T00:00:00\",\"2021-08-02T00:00:00\",\"2021-09-06T00:00:00\",\"2021-10-04T00:00:00\",\"2021-11-03T00:00:00\",\"2021-12-03T00:00:00\",\"2022-01-05T00:00:00\",\"2022-02-04T00:00:00\",\"2022-03-04T00:00:00\",\"2022-04-04T00:00:00\",\"2022-05-04T00:00:00\",\"2022-06-01T00:00:00\",\"2022-07-05T00:00:00\",\"2022-08-05T00:00:00\",\"2022-09-06T00:00:00\",\"2022-10-06T00:00:00\",\"2022-11-02T00:00:00\",\"2022-12-06T00:00:00\",\"2023-01-05T00:00:00\",\"2023-02-07T00:00:00\",\"2023-03-14T00:00:00\",\"2023-04-12T00:00:00\"],\"y\":[5.1,5.2,1.3,1.3,4.7,4.3,4.3,3.9,3.1,3.1,4.1,4.1,3.7,3.7,4.7,3.7,4.6,3.7,1.1,2.8,3.8,5.2,5.2,3.3,3.3,3.4,1.9,3.3,4.1,4.9,4.9,3.5,5.4],\"type\":\"scatter\",\"xaxis\":\"x\",\"yaxis\":\"y2\"}],                        {\"template\":{\"data\":{\"histogram2dcontour\":[{\"type\":\"histogram2dcontour\",\"colorbar\":{\"outlinewidth\":0,\"ticks\":\"\"},\"colorscale\":[[0.0,\"#0d0887\"],[0.1111111111111111,\"#46039f\"],[0.2222222222222222,\"#7201a8\"],[0.3333333333333333,\"#9c179e\"],[0.4444444444444444,\"#bd3786\"],[0.5555555555555556,\"#d8576b\"],[0.6666666666666666,\"#ed7953\"],[0.7777777777777778,\"#fb9f3a\"],[0.8888888888888888,\"#fdca26\"],[1.0,\"#f0f921\"]]}],\"choropleth\":[{\"type\":\"choropleth\",\"colorbar\":{\"outlinewidth\":0,\"ticks\":\"\"}}],\"histogram2d\":[{\"type\":\"histogram2d\",\"colorbar\":{\"outlinewidth\":0,\"ticks\":\"\"},\"colorscale\":[[0.0,\"#0d0887\"],[0.1111111111111111,\"#46039f\"],[0.2222222222222222,\"#7201a8\"],[0.3333333333333333,\"#9c179e\"],[0.4444444444444444,\"#bd3786\"],[0.5555555555555556,\"#d8576b\"],[0.6666666666666666,\"#ed7953\"],[0.7777777777777778,\"#fb9f3a\"],[0.8888888888888888,\"#fdca26\"],[1.0,\"#f0f921\"]]}],\"heatmap\":[{\"type\":\"heatmap\",\"colorbar\":{\"outlinewidth\":0,\"ticks\":\"\"},\"colorscale\":[[0.0,\"#0d0887\"],[0.1111111111111111,\"#46039f\"],[0.2222222222222222,\"#7201a8\"],[0.3333333333333333,\"#9c179e\"],[0.4444444444444444,\"#bd3786\"],[0.5555555555555556,\"#d8576b\"],[0.6666666666666666,\"#ed7953\"],[0.7777777777777778,\"#fb9f3a\"],[0.8888888888888888,\"#fdca26\"],[1.0,\"#f0f921\"]]}],\"heatmapgl\":[{\"type\":\"heatmapgl\",\"colorbar\":{\"outlinewidth\":0,\"ticks\":\"\"},\"colorscale\":[[0.0,\"#0d0887\"],[0.1111111111111111,\"#46039f\"],[0.2222222222222222,\"#7201a8\"],[0.3333333333333333,\"#9c179e\"],[0.4444444444444444,\"#bd3786\"],[0.5555555555555556,\"#d8576b\"],[0.6666666666666666,\"#ed7953\"],[0.7777777777777778,\"#fb9f3a\"],[0.8888888888888888,\"#fdca26\"],[1.0,\"#f0f921\"]]}],\"contourcarpet\":[{\"type\":\"contourcarpet\",\"colorbar\":{\"outlinewidth\":0,\"ticks\":\"\"}}],\"contour\":[{\"type\":\"contour\",\"colorbar\":{\"outlinewidth\":0,\"ticks\":\"\"},\"colorscale\":[[0.0,\"#0d0887\"],[0.1111111111111111,\"#46039f\"],[0.2222222222222222,\"#7201a8\"],[0.3333333333333333,\"#9c179e\"],[0.4444444444444444,\"#bd3786\"],[0.5555555555555556,\"#d8576b\"],[0.6666666666666666,\"#ed7953\"],[0.7777777777777778,\"#fb9f3a\"],[0.8888888888888888,\"#fdca26\"],[1.0,\"#f0f921\"]]}],\"surface\":[{\"type\":\"surface\",\"colorbar\":{\"outlinewidth\":0,\"ticks\":\"\"},\"colorscale\":[[0.0,\"#0d0887\"],[0.1111111111111111,\"#46039f\"],[0.2222222222222222,\"#7201a8\"],[0.3333333333333333,\"#9c179e\"],[0.4444444444444444,\"#bd3786\"],[0.5555555555555556,\"#d8576b\"],[0.6666666666666666,\"#ed7953\"],[0.7777777777777778,\"#fb9f3a\"],[0.8888888888888888,\"#fdca26\"],[1.0,\"#f0f921\"]]}],\"mesh3d\":[{\"type\":\"mesh3d\",\"colorbar\":{\"outlinewidth\":0,\"ticks\":\"\"}}],\"scatter\":[{\"fillpattern\":{\"fillmode\":\"overlay\",\"size\":10,\"solidity\":0.2},\"type\":\"scatter\"}],\"parcoords\":[{\"type\":\"parcoords\",\"line\":{\"colorbar\":{\"outlinewidth\":0,\"ticks\":\"\"}}}],\"scatterpolargl\":[{\"type\":\"scatterpolargl\",\"marker\":{\"colorbar\":{\"outlinewidth\":0,\"ticks\":\"\"}}}],\"bar\":[{\"error_x\":{\"color\":\"#2a3f5f\"},\"error_y\":{\"color\":\"#2a3f5f\"},\"marker\":{\"line\":{\"color\":\"#E5ECF6\",\"width\":0.5},\"pattern\":{\"fillmode\":\"overlay\",\"size\":10,\"solidity\":0.2}},\"type\":\"bar\"}],\"scattergeo\":[{\"type\":\"scattergeo\",\"marker\":{\"colorbar\":{\"outlinewidth\":0,\"ticks\":\"\"}}}],\"scatterpolar\":[{\"type\":\"scatterpolar\",\"marker\":{\"colorbar\":{\"outlinewidth\":0,\"ticks\":\"\"}}}],\"histogram\":[{\"marker\":{\"pattern\":{\"fillmode\":\"overlay\",\"size\":10,\"solidity\":0.2}},\"type\":\"histogram\"}],\"scattergl\":[{\"type\":\"scattergl\",\"marker\":{\"colorbar\":{\"outlinewidth\":0,\"ticks\":\"\"}}}],\"scatter3d\":[{\"type\":\"scatter3d\",\"line\":{\"colorbar\":{\"outlinewidth\":0,\"ticks\":\"\"}},\"marker\":{\"colorbar\":{\"outlinewidth\":0,\"ticks\":\"\"}}}],\"scattermapbox\":[{\"type\":\"scattermapbox\",\"marker\":{\"colorbar\":{\"outlinewidth\":0,\"ticks\":\"\"}}}],\"scatterternary\":[{\"type\":\"scatterternary\",\"marker\":{\"colorbar\":{\"outlinewidth\":0,\"ticks\":\"\"}}}],\"scattercarpet\":[{\"type\":\"scattercarpet\",\"marker\":{\"colorbar\":{\"outlinewidth\":0,\"ticks\":\"\"}}}],\"carpet\":[{\"aaxis\":{\"endlinecolor\":\"#2a3f5f\",\"gridcolor\":\"white\",\"linecolor\":\"white\",\"minorgridcolor\":\"white\",\"startlinecolor\":\"#2a3f5f\"},\"baxis\":{\"endlinecolor\":\"#2a3f5f\",\"gridcolor\":\"white\",\"linecolor\":\"white\",\"minorgridcolor\":\"white\",\"startlinecolor\":\"#2a3f5f\"},\"type\":\"carpet\"}],\"table\":[{\"cells\":{\"fill\":{\"color\":\"#EBF0F8\"},\"line\":{\"color\":\"white\"}},\"header\":{\"fill\":{\"color\":\"#C8D4E3\"},\"line\":{\"color\":\"white\"}},\"type\":\"table\"}],\"barpolar\":[{\"marker\":{\"line\":{\"color\":\"#E5ECF6\",\"width\":0.5},\"pattern\":{\"fillmode\":\"overlay\",\"size\":10,\"solidity\":0.2}},\"type\":\"barpolar\"}],\"pie\":[{\"automargin\":true,\"type\":\"pie\"}]},\"layout\":{\"autotypenumbers\":\"strict\",\"colorway\":[\"#636efa\",\"#EF553B\",\"#00cc96\",\"#ab63fa\",\"#FFA15A\",\"#19d3f3\",\"#FF6692\",\"#B6E880\",\"#FF97FF\",\"#FECB52\"],\"font\":{\"color\":\"#2a3f5f\"},\"hovermode\":\"closest\",\"hoverlabel\":{\"align\":\"left\"},\"paper_bgcolor\":\"white\",\"plot_bgcolor\":\"#E5ECF6\",\"polar\":{\"bgcolor\":\"#E5ECF6\",\"angularaxis\":{\"gridcolor\":\"white\",\"linecolor\":\"white\",\"ticks\":\"\"},\"radialaxis\":{\"gridcolor\":\"white\",\"linecolor\":\"white\",\"ticks\":\"\"}},\"ternary\":{\"bgcolor\":\"#E5ECF6\",\"aaxis\":{\"gridcolor\":\"white\",\"linecolor\":\"white\",\"ticks\":\"\"},\"baxis\":{\"gridcolor\":\"white\",\"linecolor\":\"white\",\"ticks\":\"\"},\"caxis\":{\"gridcolor\":\"white\",\"linecolor\":\"white\",\"ticks\":\"\"}},\"coloraxis\":{\"colorbar\":{\"outlinewidth\":0,\"ticks\":\"\"}},\"colorscale\":{\"sequential\":[[0.0,\"#0d0887\"],[0.1111111111111111,\"#46039f\"],[0.2222222222222222,\"#7201a8\"],[0.3333333333333333,\"#9c179e\"],[0.4444444444444444,\"#bd3786\"],[0.5555555555555556,\"#d8576b\"],[0.6666666666666666,\"#ed7953\"],[0.7777777777777778,\"#fb9f3a\"],[0.8888888888888888,\"#fdca26\"],[1.0,\"#f0f921\"]],\"sequentialminus\":[[0.0,\"#0d0887\"],[0.1111111111111111,\"#46039f\"],[0.2222222222222222,\"#7201a8\"],[0.3333333333333333,\"#9c179e\"],[0.4444444444444444,\"#bd3786\"],[0.5555555555555556,\"#d8576b\"],[0.6666666666666666,\"#ed7953\"],[0.7777777777777778,\"#fb9f3a\"],[0.8888888888888888,\"#fdca26\"],[1.0,\"#f0f921\"]],\"diverging\":[[0,\"#8e0152\"],[0.1,\"#c51b7d\"],[0.2,\"#de77ae\"],[0.3,\"#f1b6da\"],[0.4,\"#fde0ef\"],[0.5,\"#f7f7f7\"],[0.6,\"#e6f5d0\"],[0.7,\"#b8e186\"],[0.8,\"#7fbc41\"],[0.9,\"#4d9221\"],[1,\"#276419\"]]},\"xaxis\":{\"gridcolor\":\"white\",\"linecolor\":\"white\",\"ticks\":\"\",\"title\":{\"standoff\":15},\"zerolinecolor\":\"white\",\"automargin\":true,\"zerolinewidth\":2},\"yaxis\":{\"gridcolor\":\"white\",\"linecolor\":\"white\",\"ticks\":\"\",\"title\":{\"standoff\":15},\"zerolinecolor\":\"white\",\"automargin\":true,\"zerolinewidth\":2},\"scene\":{\"xaxis\":{\"backgroundcolor\":\"#E5ECF6\",\"gridcolor\":\"white\",\"linecolor\":\"white\",\"showbackground\":true,\"ticks\":\"\",\"zerolinecolor\":\"white\",\"gridwidth\":2},\"yaxis\":{\"backgroundcolor\":\"#E5ECF6\",\"gridcolor\":\"white\",\"linecolor\":\"white\",\"showbackground\":true,\"ticks\":\"\",\"zerolinecolor\":\"white\",\"gridwidth\":2},\"zaxis\":{\"backgroundcolor\":\"#E5ECF6\",\"gridcolor\":\"white\",\"linecolor\":\"white\",\"showbackground\":true,\"ticks\":\"\",\"zerolinecolor\":\"white\",\"gridwidth\":2}},\"shapedefaults\":{\"line\":{\"color\":\"#2a3f5f\"}},\"annotationdefaults\":{\"arrowcolor\":\"#2a3f5f\",\"arrowhead\":0,\"arrowwidth\":1},\"geo\":{\"bgcolor\":\"white\",\"landcolor\":\"#E5ECF6\",\"subunitcolor\":\"white\",\"showland\":true,\"showlakes\":true,\"lakecolor\":\"white\"},\"title\":{\"x\":0.05},\"mapbox\":{\"style\":\"light\"}}},\"xaxis\":{\"anchor\":\"y\",\"domain\":[0.0,0.94],\"title\":{\"text\":\"Fecha\"}},\"yaxis\":{\"anchor\":\"x\",\"domain\":[0.0,1.0],\"title\":{\"text\":\"Profundidad\"}},\"yaxis2\":{\"anchor\":\"x\",\"overlaying\":\"y\",\"side\":\"right\",\"title\":{\"text\":\"Producci\\u00f3n\"}}},                        {\"responsive\": true}                    ).then(function(){\n",
       "                            \n",
       "var gd = document.getElementById('97303239-c358-4121-9b57-ca187f1db39b');\n",
       "var x = new MutationObserver(function (mutations, observer) {{\n",
       "        var display = window.getComputedStyle(gd).display;\n",
       "        if (!display || display === 'none') {{\n",
       "            console.log([gd, 'removed!']);\n",
       "            Plotly.purge(gd);\n",
       "            observer.disconnect();\n",
       "        }}\n",
       "}});\n",
       "\n",
       "// Listen for the removal of the full notebook cells\n",
       "var notebookContainer = gd.closest('#notebook-container');\n",
       "if (notebookContainer) {{\n",
       "    x.observe(notebookContainer, {childList: true});\n",
       "}}\n",
       "\n",
       "// Listen for the clearing of the current output cell\n",
       "var outputEl = gd.closest('.output');\n",
       "if (outputEl) {{\n",
       "    x.observe(outputEl, {childList: true});\n",
       "}}\n",
       "\n",
       "                        })                };                });            </script>        </div>"
      ]
     },
     "metadata": {},
     "output_type": "display_data"
    },
    {
     "data": {
      "application/vnd.plotly.v1+json": {
       "config": {
        "plotlyServerURL": "https://plot.ly"
       },
       "data": [
        {
         "name": "Presión dinámica",
         "type": "scatter",
         "x": [
          "2020-08-05T00:00:00",
          "2020-09-04T00:00:00",
          "2020-10-05T00:00:00",
          "2020-11-12T00:00:00",
          "2020-12-10T00:00:00",
          "2021-01-08T00:00:00",
          "2021-02-05T00:00:00",
          "2021-03-05T00:00:00",
          "2021-04-07T00:00:00",
          "2021-05-18T00:00:00",
          "2021-06-04T00:00:00",
          "2021-07-05T00:00:00",
          "2021-08-02T00:00:00",
          "2021-09-06T00:00:00",
          "2021-10-04T00:00:00",
          "2021-11-03T00:00:00",
          "2021-12-03T00:00:00",
          "2022-01-05T00:00:00",
          "2022-02-04T00:00:00",
          "2022-03-04T00:00:00",
          "2022-04-04T00:00:00",
          "2022-05-04T00:00:00",
          "2022-06-01T00:00:00",
          "2022-07-05T00:00:00",
          "2022-08-05T00:00:00",
          "2022-09-06T00:00:00",
          "2022-10-06T00:00:00",
          "2022-11-02T00:00:00",
          "2022-12-06T00:00:00",
          "2023-01-05T00:00:00",
          "2023-02-07T00:00:00",
          "2023-03-14T00:00:00",
          "2023-04-12T00:00:00"
         ],
         "xaxis": "x",
         "y": [
          516,
          402,
          546,
          412,
          177,
          285,
          217,
          558,
          453,
          573,
          707,
          663,
          484,
          193,
          881,
          447,
          311,
          170,
          241,
          293,
          258,
          179,
          193,
          226,
          315,
          309,
          323,
          295,
          261,
          216,
          223,
          197,
          258
         ],
         "yaxis": "y"
        },
        {
         "name": "Presión interface",
         "type": "scatter",
         "x": [
          "2020-08-05T00:00:00",
          "2020-09-04T00:00:00",
          "2020-10-05T00:00:00",
          "2020-11-12T00:00:00",
          "2020-12-10T00:00:00",
          "2021-01-08T00:00:00",
          "2021-02-05T00:00:00",
          "2021-03-05T00:00:00",
          "2021-04-07T00:00:00",
          "2021-05-18T00:00:00",
          "2021-06-04T00:00:00",
          "2021-07-05T00:00:00",
          "2021-08-02T00:00:00",
          "2021-09-06T00:00:00",
          "2021-10-04T00:00:00",
          "2021-11-03T00:00:00",
          "2021-12-03T00:00:00",
          "2022-01-05T00:00:00",
          "2022-02-04T00:00:00",
          "2022-03-04T00:00:00",
          "2022-04-04T00:00:00",
          "2022-05-04T00:00:00",
          "2022-06-01T00:00:00",
          "2022-07-05T00:00:00",
          "2022-08-05T00:00:00",
          "2022-09-06T00:00:00",
          "2022-10-06T00:00:00",
          "2022-11-02T00:00:00",
          "2022-12-06T00:00:00",
          "2023-01-05T00:00:00",
          "2023-02-07T00:00:00",
          "2023-03-14T00:00:00",
          "2023-04-12T00:00:00"
         ],
         "xaxis": "x",
         "y": [
          135,
          135,
          139,
          138,
          108,
          136,
          113,
          134,
          132,
          132,
          132,
          124,
          127,
          122,
          117,
          120,
          105,
          101,
          133,
          132,
          133,
          124,
          133,
          137,
          128,
          130,
          139,
          138,
          117,
          112,
          126,
          95,
          110
         ],
         "yaxis": "y"
        },
        {
         "name": "Velocidad del sonido",
         "type": "scatter",
         "x": [
          "2020-08-05T00:00:00",
          "2020-09-04T00:00:00",
          "2020-10-05T00:00:00",
          "2020-11-12T00:00:00",
          "2020-12-10T00:00:00",
          "2021-01-08T00:00:00",
          "2021-02-05T00:00:00",
          "2021-03-05T00:00:00",
          "2021-04-07T00:00:00",
          "2021-05-18T00:00:00",
          "2021-06-04T00:00:00",
          "2021-07-05T00:00:00",
          "2021-08-02T00:00:00",
          "2021-09-06T00:00:00",
          "2021-10-04T00:00:00",
          "2021-11-03T00:00:00",
          "2021-12-03T00:00:00",
          "2022-01-05T00:00:00",
          "2022-02-04T00:00:00",
          "2022-03-04T00:00:00",
          "2022-04-04T00:00:00",
          "2022-05-04T00:00:00",
          "2022-06-01T00:00:00",
          "2022-07-05T00:00:00",
          "2022-08-05T00:00:00",
          "2022-09-06T00:00:00",
          "2022-10-06T00:00:00",
          "2022-11-02T00:00:00",
          "2022-12-06T00:00:00",
          "2023-01-05T00:00:00",
          "2023-02-07T00:00:00",
          "2023-03-14T00:00:00",
          "2023-04-12T00:00:00"
         ],
         "xaxis": "x",
         "y": [
          296,
          298,
          303,
          299,
          284,
          288,
          288,
          303,
          296,
          303,
          297,
          314,
          297,
          282,
          281,
          293,
          295,
          285,
          292,
          298,
          278,
          289,
          287,
          280,
          368,
          300,
          305,
          278,
          278,
          293,
          290,
          319,
          322
         ],
         "yaxis": "y2"
        }
       ],
       "layout": {
        "template": {
         "data": {
          "bar": [
           {
            "error_x": {
             "color": "#2a3f5f"
            },
            "error_y": {
             "color": "#2a3f5f"
            },
            "marker": {
             "line": {
              "color": "#E5ECF6",
              "width": 0.5
             },
             "pattern": {
              "fillmode": "overlay",
              "size": 10,
              "solidity": 0.2
             }
            },
            "type": "bar"
           }
          ],
          "barpolar": [
           {
            "marker": {
             "line": {
              "color": "#E5ECF6",
              "width": 0.5
             },
             "pattern": {
              "fillmode": "overlay",
              "size": 10,
              "solidity": 0.2
             }
            },
            "type": "barpolar"
           }
          ],
          "carpet": [
           {
            "aaxis": {
             "endlinecolor": "#2a3f5f",
             "gridcolor": "white",
             "linecolor": "white",
             "minorgridcolor": "white",
             "startlinecolor": "#2a3f5f"
            },
            "baxis": {
             "endlinecolor": "#2a3f5f",
             "gridcolor": "white",
             "linecolor": "white",
             "minorgridcolor": "white",
             "startlinecolor": "#2a3f5f"
            },
            "type": "carpet"
           }
          ],
          "choropleth": [
           {
            "colorbar": {
             "outlinewidth": 0,
             "ticks": ""
            },
            "type": "choropleth"
           }
          ],
          "contour": [
           {
            "colorbar": {
             "outlinewidth": 0,
             "ticks": ""
            },
            "colorscale": [
             [
              0,
              "#0d0887"
             ],
             [
              0.1111111111111111,
              "#46039f"
             ],
             [
              0.2222222222222222,
              "#7201a8"
             ],
             [
              0.3333333333333333,
              "#9c179e"
             ],
             [
              0.4444444444444444,
              "#bd3786"
             ],
             [
              0.5555555555555556,
              "#d8576b"
             ],
             [
              0.6666666666666666,
              "#ed7953"
             ],
             [
              0.7777777777777778,
              "#fb9f3a"
             ],
             [
              0.8888888888888888,
              "#fdca26"
             ],
             [
              1,
              "#f0f921"
             ]
            ],
            "type": "contour"
           }
          ],
          "contourcarpet": [
           {
            "colorbar": {
             "outlinewidth": 0,
             "ticks": ""
            },
            "type": "contourcarpet"
           }
          ],
          "heatmap": [
           {
            "colorbar": {
             "outlinewidth": 0,
             "ticks": ""
            },
            "colorscale": [
             [
              0,
              "#0d0887"
             ],
             [
              0.1111111111111111,
              "#46039f"
             ],
             [
              0.2222222222222222,
              "#7201a8"
             ],
             [
              0.3333333333333333,
              "#9c179e"
             ],
             [
              0.4444444444444444,
              "#bd3786"
             ],
             [
              0.5555555555555556,
              "#d8576b"
             ],
             [
              0.6666666666666666,
              "#ed7953"
             ],
             [
              0.7777777777777778,
              "#fb9f3a"
             ],
             [
              0.8888888888888888,
              "#fdca26"
             ],
             [
              1,
              "#f0f921"
             ]
            ],
            "type": "heatmap"
           }
          ],
          "heatmapgl": [
           {
            "colorbar": {
             "outlinewidth": 0,
             "ticks": ""
            },
            "colorscale": [
             [
              0,
              "#0d0887"
             ],
             [
              0.1111111111111111,
              "#46039f"
             ],
             [
              0.2222222222222222,
              "#7201a8"
             ],
             [
              0.3333333333333333,
              "#9c179e"
             ],
             [
              0.4444444444444444,
              "#bd3786"
             ],
             [
              0.5555555555555556,
              "#d8576b"
             ],
             [
              0.6666666666666666,
              "#ed7953"
             ],
             [
              0.7777777777777778,
              "#fb9f3a"
             ],
             [
              0.8888888888888888,
              "#fdca26"
             ],
             [
              1,
              "#f0f921"
             ]
            ],
            "type": "heatmapgl"
           }
          ],
          "histogram": [
           {
            "marker": {
             "pattern": {
              "fillmode": "overlay",
              "size": 10,
              "solidity": 0.2
             }
            },
            "type": "histogram"
           }
          ],
          "histogram2d": [
           {
            "colorbar": {
             "outlinewidth": 0,
             "ticks": ""
            },
            "colorscale": [
             [
              0,
              "#0d0887"
             ],
             [
              0.1111111111111111,
              "#46039f"
             ],
             [
              0.2222222222222222,
              "#7201a8"
             ],
             [
              0.3333333333333333,
              "#9c179e"
             ],
             [
              0.4444444444444444,
              "#bd3786"
             ],
             [
              0.5555555555555556,
              "#d8576b"
             ],
             [
              0.6666666666666666,
              "#ed7953"
             ],
             [
              0.7777777777777778,
              "#fb9f3a"
             ],
             [
              0.8888888888888888,
              "#fdca26"
             ],
             [
              1,
              "#f0f921"
             ]
            ],
            "type": "histogram2d"
           }
          ],
          "histogram2dcontour": [
           {
            "colorbar": {
             "outlinewidth": 0,
             "ticks": ""
            },
            "colorscale": [
             [
              0,
              "#0d0887"
             ],
             [
              0.1111111111111111,
              "#46039f"
             ],
             [
              0.2222222222222222,
              "#7201a8"
             ],
             [
              0.3333333333333333,
              "#9c179e"
             ],
             [
              0.4444444444444444,
              "#bd3786"
             ],
             [
              0.5555555555555556,
              "#d8576b"
             ],
             [
              0.6666666666666666,
              "#ed7953"
             ],
             [
              0.7777777777777778,
              "#fb9f3a"
             ],
             [
              0.8888888888888888,
              "#fdca26"
             ],
             [
              1,
              "#f0f921"
             ]
            ],
            "type": "histogram2dcontour"
           }
          ],
          "mesh3d": [
           {
            "colorbar": {
             "outlinewidth": 0,
             "ticks": ""
            },
            "type": "mesh3d"
           }
          ],
          "parcoords": [
           {
            "line": {
             "colorbar": {
              "outlinewidth": 0,
              "ticks": ""
             }
            },
            "type": "parcoords"
           }
          ],
          "pie": [
           {
            "automargin": true,
            "type": "pie"
           }
          ],
          "scatter": [
           {
            "fillpattern": {
             "fillmode": "overlay",
             "size": 10,
             "solidity": 0.2
            },
            "type": "scatter"
           }
          ],
          "scatter3d": [
           {
            "line": {
             "colorbar": {
              "outlinewidth": 0,
              "ticks": ""
             }
            },
            "marker": {
             "colorbar": {
              "outlinewidth": 0,
              "ticks": ""
             }
            },
            "type": "scatter3d"
           }
          ],
          "scattercarpet": [
           {
            "marker": {
             "colorbar": {
              "outlinewidth": 0,
              "ticks": ""
             }
            },
            "type": "scattercarpet"
           }
          ],
          "scattergeo": [
           {
            "marker": {
             "colorbar": {
              "outlinewidth": 0,
              "ticks": ""
             }
            },
            "type": "scattergeo"
           }
          ],
          "scattergl": [
           {
            "marker": {
             "colorbar": {
              "outlinewidth": 0,
              "ticks": ""
             }
            },
            "type": "scattergl"
           }
          ],
          "scattermapbox": [
           {
            "marker": {
             "colorbar": {
              "outlinewidth": 0,
              "ticks": ""
             }
            },
            "type": "scattermapbox"
           }
          ],
          "scatterpolar": [
           {
            "marker": {
             "colorbar": {
              "outlinewidth": 0,
              "ticks": ""
             }
            },
            "type": "scatterpolar"
           }
          ],
          "scatterpolargl": [
           {
            "marker": {
             "colorbar": {
              "outlinewidth": 0,
              "ticks": ""
             }
            },
            "type": "scatterpolargl"
           }
          ],
          "scatterternary": [
           {
            "marker": {
             "colorbar": {
              "outlinewidth": 0,
              "ticks": ""
             }
            },
            "type": "scatterternary"
           }
          ],
          "surface": [
           {
            "colorbar": {
             "outlinewidth": 0,
             "ticks": ""
            },
            "colorscale": [
             [
              0,
              "#0d0887"
             ],
             [
              0.1111111111111111,
              "#46039f"
             ],
             [
              0.2222222222222222,
              "#7201a8"
             ],
             [
              0.3333333333333333,
              "#9c179e"
             ],
             [
              0.4444444444444444,
              "#bd3786"
             ],
             [
              0.5555555555555556,
              "#d8576b"
             ],
             [
              0.6666666666666666,
              "#ed7953"
             ],
             [
              0.7777777777777778,
              "#fb9f3a"
             ],
             [
              0.8888888888888888,
              "#fdca26"
             ],
             [
              1,
              "#f0f921"
             ]
            ],
            "type": "surface"
           }
          ],
          "table": [
           {
            "cells": {
             "fill": {
              "color": "#EBF0F8"
             },
             "line": {
              "color": "white"
             }
            },
            "header": {
             "fill": {
              "color": "#C8D4E3"
             },
             "line": {
              "color": "white"
             }
            },
            "type": "table"
           }
          ]
         },
         "layout": {
          "annotationdefaults": {
           "arrowcolor": "#2a3f5f",
           "arrowhead": 0,
           "arrowwidth": 1
          },
          "autotypenumbers": "strict",
          "coloraxis": {
           "colorbar": {
            "outlinewidth": 0,
            "ticks": ""
           }
          },
          "colorscale": {
           "diverging": [
            [
             0,
             "#8e0152"
            ],
            [
             0.1,
             "#c51b7d"
            ],
            [
             0.2,
             "#de77ae"
            ],
            [
             0.3,
             "#f1b6da"
            ],
            [
             0.4,
             "#fde0ef"
            ],
            [
             0.5,
             "#f7f7f7"
            ],
            [
             0.6,
             "#e6f5d0"
            ],
            [
             0.7,
             "#b8e186"
            ],
            [
             0.8,
             "#7fbc41"
            ],
            [
             0.9,
             "#4d9221"
            ],
            [
             1,
             "#276419"
            ]
           ],
           "sequential": [
            [
             0,
             "#0d0887"
            ],
            [
             0.1111111111111111,
             "#46039f"
            ],
            [
             0.2222222222222222,
             "#7201a8"
            ],
            [
             0.3333333333333333,
             "#9c179e"
            ],
            [
             0.4444444444444444,
             "#bd3786"
            ],
            [
             0.5555555555555556,
             "#d8576b"
            ],
            [
             0.6666666666666666,
             "#ed7953"
            ],
            [
             0.7777777777777778,
             "#fb9f3a"
            ],
            [
             0.8888888888888888,
             "#fdca26"
            ],
            [
             1,
             "#f0f921"
            ]
           ],
           "sequentialminus": [
            [
             0,
             "#0d0887"
            ],
            [
             0.1111111111111111,
             "#46039f"
            ],
            [
             0.2222222222222222,
             "#7201a8"
            ],
            [
             0.3333333333333333,
             "#9c179e"
            ],
            [
             0.4444444444444444,
             "#bd3786"
            ],
            [
             0.5555555555555556,
             "#d8576b"
            ],
            [
             0.6666666666666666,
             "#ed7953"
            ],
            [
             0.7777777777777778,
             "#fb9f3a"
            ],
            [
             0.8888888888888888,
             "#fdca26"
            ],
            [
             1,
             "#f0f921"
            ]
           ]
          },
          "colorway": [
           "#636efa",
           "#EF553B",
           "#00cc96",
           "#ab63fa",
           "#FFA15A",
           "#19d3f3",
           "#FF6692",
           "#B6E880",
           "#FF97FF",
           "#FECB52"
          ],
          "font": {
           "color": "#2a3f5f"
          },
          "geo": {
           "bgcolor": "white",
           "lakecolor": "white",
           "landcolor": "#E5ECF6",
           "showlakes": true,
           "showland": true,
           "subunitcolor": "white"
          },
          "hoverlabel": {
           "align": "left"
          },
          "hovermode": "closest",
          "mapbox": {
           "style": "light"
          },
          "paper_bgcolor": "white",
          "plot_bgcolor": "#E5ECF6",
          "polar": {
           "angularaxis": {
            "gridcolor": "white",
            "linecolor": "white",
            "ticks": ""
           },
           "bgcolor": "#E5ECF6",
           "radialaxis": {
            "gridcolor": "white",
            "linecolor": "white",
            "ticks": ""
           }
          },
          "scene": {
           "xaxis": {
            "backgroundcolor": "#E5ECF6",
            "gridcolor": "white",
            "gridwidth": 2,
            "linecolor": "white",
            "showbackground": true,
            "ticks": "",
            "zerolinecolor": "white"
           },
           "yaxis": {
            "backgroundcolor": "#E5ECF6",
            "gridcolor": "white",
            "gridwidth": 2,
            "linecolor": "white",
            "showbackground": true,
            "ticks": "",
            "zerolinecolor": "white"
           },
           "zaxis": {
            "backgroundcolor": "#E5ECF6",
            "gridcolor": "white",
            "gridwidth": 2,
            "linecolor": "white",
            "showbackground": true,
            "ticks": "",
            "zerolinecolor": "white"
           }
          },
          "shapedefaults": {
           "line": {
            "color": "#2a3f5f"
           }
          },
          "ternary": {
           "aaxis": {
            "gridcolor": "white",
            "linecolor": "white",
            "ticks": ""
           },
           "baxis": {
            "gridcolor": "white",
            "linecolor": "white",
            "ticks": ""
           },
           "bgcolor": "#E5ECF6",
           "caxis": {
            "gridcolor": "white",
            "linecolor": "white",
            "ticks": ""
           }
          },
          "title": {
           "x": 0.05
          },
          "xaxis": {
           "automargin": true,
           "gridcolor": "white",
           "linecolor": "white",
           "ticks": "",
           "title": {
            "standoff": 15
           },
           "zerolinecolor": "white",
           "zerolinewidth": 2
          },
          "yaxis": {
           "automargin": true,
           "gridcolor": "white",
           "linecolor": "white",
           "ticks": "",
           "title": {
            "standoff": 15
           },
           "zerolinecolor": "white",
           "zerolinewidth": 2
          }
         }
        },
        "xaxis": {
         "anchor": "y",
         "domain": [
          0,
          0.94
         ],
         "title": {
          "text": "Fecha"
         }
        },
        "yaxis": {
         "anchor": "x",
         "domain": [
          0,
          1
         ],
         "title": {
          "text": "Presión"
         }
        },
        "yaxis2": {
         "anchor": "x",
         "overlaying": "y",
         "side": "right",
         "title": {
          "text": "Velocidad"
         }
        }
       }
      },
      "text/html": [
       "<div>                            <div id=\"295bcb8b-b315-4c88-9983-b137f4667831\" class=\"plotly-graph-div\" style=\"height:525px; width:100%;\"></div>            <script type=\"text/javascript\">                require([\"plotly\"], function(Plotly) {                    window.PLOTLYENV=window.PLOTLYENV || {};                                    if (document.getElementById(\"295bcb8b-b315-4c88-9983-b137f4667831\")) {                    Plotly.newPlot(                        \"295bcb8b-b315-4c88-9983-b137f4667831\",                        [{\"name\":\"Presi\\u00f3n din\\u00e1mica\",\"x\":[\"2020-08-05T00:00:00\",\"2020-09-04T00:00:00\",\"2020-10-05T00:00:00\",\"2020-11-12T00:00:00\",\"2020-12-10T00:00:00\",\"2021-01-08T00:00:00\",\"2021-02-05T00:00:00\",\"2021-03-05T00:00:00\",\"2021-04-07T00:00:00\",\"2021-05-18T00:00:00\",\"2021-06-04T00:00:00\",\"2021-07-05T00:00:00\",\"2021-08-02T00:00:00\",\"2021-09-06T00:00:00\",\"2021-10-04T00:00:00\",\"2021-11-03T00:00:00\",\"2021-12-03T00:00:00\",\"2022-01-05T00:00:00\",\"2022-02-04T00:00:00\",\"2022-03-04T00:00:00\",\"2022-04-04T00:00:00\",\"2022-05-04T00:00:00\",\"2022-06-01T00:00:00\",\"2022-07-05T00:00:00\",\"2022-08-05T00:00:00\",\"2022-09-06T00:00:00\",\"2022-10-06T00:00:00\",\"2022-11-02T00:00:00\",\"2022-12-06T00:00:00\",\"2023-01-05T00:00:00\",\"2023-02-07T00:00:00\",\"2023-03-14T00:00:00\",\"2023-04-12T00:00:00\"],\"y\":[516,402,546,412,177,285,217,558,453,573,707,663,484,193,881,447,311,170,241,293,258,179,193,226,315,309,323,295,261,216,223,197,258],\"type\":\"scatter\",\"xaxis\":\"x\",\"yaxis\":\"y\"},{\"name\":\"Presi\\u00f3n interface\",\"x\":[\"2020-08-05T00:00:00\",\"2020-09-04T00:00:00\",\"2020-10-05T00:00:00\",\"2020-11-12T00:00:00\",\"2020-12-10T00:00:00\",\"2021-01-08T00:00:00\",\"2021-02-05T00:00:00\",\"2021-03-05T00:00:00\",\"2021-04-07T00:00:00\",\"2021-05-18T00:00:00\",\"2021-06-04T00:00:00\",\"2021-07-05T00:00:00\",\"2021-08-02T00:00:00\",\"2021-09-06T00:00:00\",\"2021-10-04T00:00:00\",\"2021-11-03T00:00:00\",\"2021-12-03T00:00:00\",\"2022-01-05T00:00:00\",\"2022-02-04T00:00:00\",\"2022-03-04T00:00:00\",\"2022-04-04T00:00:00\",\"2022-05-04T00:00:00\",\"2022-06-01T00:00:00\",\"2022-07-05T00:00:00\",\"2022-08-05T00:00:00\",\"2022-09-06T00:00:00\",\"2022-10-06T00:00:00\",\"2022-11-02T00:00:00\",\"2022-12-06T00:00:00\",\"2023-01-05T00:00:00\",\"2023-02-07T00:00:00\",\"2023-03-14T00:00:00\",\"2023-04-12T00:00:00\"],\"y\":[135,135,139,138,108,136,113,134,132,132,132,124,127,122,117,120,105,101,133,132,133,124,133,137,128,130,139,138,117,112,126,95,110],\"type\":\"scatter\",\"xaxis\":\"x\",\"yaxis\":\"y\"},{\"name\":\"Velocidad del sonido\",\"x\":[\"2020-08-05T00:00:00\",\"2020-09-04T00:00:00\",\"2020-10-05T00:00:00\",\"2020-11-12T00:00:00\",\"2020-12-10T00:00:00\",\"2021-01-08T00:00:00\",\"2021-02-05T00:00:00\",\"2021-03-05T00:00:00\",\"2021-04-07T00:00:00\",\"2021-05-18T00:00:00\",\"2021-06-04T00:00:00\",\"2021-07-05T00:00:00\",\"2021-08-02T00:00:00\",\"2021-09-06T00:00:00\",\"2021-10-04T00:00:00\",\"2021-11-03T00:00:00\",\"2021-12-03T00:00:00\",\"2022-01-05T00:00:00\",\"2022-02-04T00:00:00\",\"2022-03-04T00:00:00\",\"2022-04-04T00:00:00\",\"2022-05-04T00:00:00\",\"2022-06-01T00:00:00\",\"2022-07-05T00:00:00\",\"2022-08-05T00:00:00\",\"2022-09-06T00:00:00\",\"2022-10-06T00:00:00\",\"2022-11-02T00:00:00\",\"2022-12-06T00:00:00\",\"2023-01-05T00:00:00\",\"2023-02-07T00:00:00\",\"2023-03-14T00:00:00\",\"2023-04-12T00:00:00\"],\"y\":[296,298,303,299,284,288,288,303,296,303,297,314,297,282,281,293,295,285,292,298,278,289,287,280,368,300,305,278,278,293,290,319,322],\"type\":\"scatter\",\"xaxis\":\"x\",\"yaxis\":\"y2\"}],                        {\"template\":{\"data\":{\"histogram2dcontour\":[{\"type\":\"histogram2dcontour\",\"colorbar\":{\"outlinewidth\":0,\"ticks\":\"\"},\"colorscale\":[[0.0,\"#0d0887\"],[0.1111111111111111,\"#46039f\"],[0.2222222222222222,\"#7201a8\"],[0.3333333333333333,\"#9c179e\"],[0.4444444444444444,\"#bd3786\"],[0.5555555555555556,\"#d8576b\"],[0.6666666666666666,\"#ed7953\"],[0.7777777777777778,\"#fb9f3a\"],[0.8888888888888888,\"#fdca26\"],[1.0,\"#f0f921\"]]}],\"choropleth\":[{\"type\":\"choropleth\",\"colorbar\":{\"outlinewidth\":0,\"ticks\":\"\"}}],\"histogram2d\":[{\"type\":\"histogram2d\",\"colorbar\":{\"outlinewidth\":0,\"ticks\":\"\"},\"colorscale\":[[0.0,\"#0d0887\"],[0.1111111111111111,\"#46039f\"],[0.2222222222222222,\"#7201a8\"],[0.3333333333333333,\"#9c179e\"],[0.4444444444444444,\"#bd3786\"],[0.5555555555555556,\"#d8576b\"],[0.6666666666666666,\"#ed7953\"],[0.7777777777777778,\"#fb9f3a\"],[0.8888888888888888,\"#fdca26\"],[1.0,\"#f0f921\"]]}],\"heatmap\":[{\"type\":\"heatmap\",\"colorbar\":{\"outlinewidth\":0,\"ticks\":\"\"},\"colorscale\":[[0.0,\"#0d0887\"],[0.1111111111111111,\"#46039f\"],[0.2222222222222222,\"#7201a8\"],[0.3333333333333333,\"#9c179e\"],[0.4444444444444444,\"#bd3786\"],[0.5555555555555556,\"#d8576b\"],[0.6666666666666666,\"#ed7953\"],[0.7777777777777778,\"#fb9f3a\"],[0.8888888888888888,\"#fdca26\"],[1.0,\"#f0f921\"]]}],\"heatmapgl\":[{\"type\":\"heatmapgl\",\"colorbar\":{\"outlinewidth\":0,\"ticks\":\"\"},\"colorscale\":[[0.0,\"#0d0887\"],[0.1111111111111111,\"#46039f\"],[0.2222222222222222,\"#7201a8\"],[0.3333333333333333,\"#9c179e\"],[0.4444444444444444,\"#bd3786\"],[0.5555555555555556,\"#d8576b\"],[0.6666666666666666,\"#ed7953\"],[0.7777777777777778,\"#fb9f3a\"],[0.8888888888888888,\"#fdca26\"],[1.0,\"#f0f921\"]]}],\"contourcarpet\":[{\"type\":\"contourcarpet\",\"colorbar\":{\"outlinewidth\":0,\"ticks\":\"\"}}],\"contour\":[{\"type\":\"contour\",\"colorbar\":{\"outlinewidth\":0,\"ticks\":\"\"},\"colorscale\":[[0.0,\"#0d0887\"],[0.1111111111111111,\"#46039f\"],[0.2222222222222222,\"#7201a8\"],[0.3333333333333333,\"#9c179e\"],[0.4444444444444444,\"#bd3786\"],[0.5555555555555556,\"#d8576b\"],[0.6666666666666666,\"#ed7953\"],[0.7777777777777778,\"#fb9f3a\"],[0.8888888888888888,\"#fdca26\"],[1.0,\"#f0f921\"]]}],\"surface\":[{\"type\":\"surface\",\"colorbar\":{\"outlinewidth\":0,\"ticks\":\"\"},\"colorscale\":[[0.0,\"#0d0887\"],[0.1111111111111111,\"#46039f\"],[0.2222222222222222,\"#7201a8\"],[0.3333333333333333,\"#9c179e\"],[0.4444444444444444,\"#bd3786\"],[0.5555555555555556,\"#d8576b\"],[0.6666666666666666,\"#ed7953\"],[0.7777777777777778,\"#fb9f3a\"],[0.8888888888888888,\"#fdca26\"],[1.0,\"#f0f921\"]]}],\"mesh3d\":[{\"type\":\"mesh3d\",\"colorbar\":{\"outlinewidth\":0,\"ticks\":\"\"}}],\"scatter\":[{\"fillpattern\":{\"fillmode\":\"overlay\",\"size\":10,\"solidity\":0.2},\"type\":\"scatter\"}],\"parcoords\":[{\"type\":\"parcoords\",\"line\":{\"colorbar\":{\"outlinewidth\":0,\"ticks\":\"\"}}}],\"scatterpolargl\":[{\"type\":\"scatterpolargl\",\"marker\":{\"colorbar\":{\"outlinewidth\":0,\"ticks\":\"\"}}}],\"bar\":[{\"error_x\":{\"color\":\"#2a3f5f\"},\"error_y\":{\"color\":\"#2a3f5f\"},\"marker\":{\"line\":{\"color\":\"#E5ECF6\",\"width\":0.5},\"pattern\":{\"fillmode\":\"overlay\",\"size\":10,\"solidity\":0.2}},\"type\":\"bar\"}],\"scattergeo\":[{\"type\":\"scattergeo\",\"marker\":{\"colorbar\":{\"outlinewidth\":0,\"ticks\":\"\"}}}],\"scatterpolar\":[{\"type\":\"scatterpolar\",\"marker\":{\"colorbar\":{\"outlinewidth\":0,\"ticks\":\"\"}}}],\"histogram\":[{\"marker\":{\"pattern\":{\"fillmode\":\"overlay\",\"size\":10,\"solidity\":0.2}},\"type\":\"histogram\"}],\"scattergl\":[{\"type\":\"scattergl\",\"marker\":{\"colorbar\":{\"outlinewidth\":0,\"ticks\":\"\"}}}],\"scatter3d\":[{\"type\":\"scatter3d\",\"line\":{\"colorbar\":{\"outlinewidth\":0,\"ticks\":\"\"}},\"marker\":{\"colorbar\":{\"outlinewidth\":0,\"ticks\":\"\"}}}],\"scattermapbox\":[{\"type\":\"scattermapbox\",\"marker\":{\"colorbar\":{\"outlinewidth\":0,\"ticks\":\"\"}}}],\"scatterternary\":[{\"type\":\"scatterternary\",\"marker\":{\"colorbar\":{\"outlinewidth\":0,\"ticks\":\"\"}}}],\"scattercarpet\":[{\"type\":\"scattercarpet\",\"marker\":{\"colorbar\":{\"outlinewidth\":0,\"ticks\":\"\"}}}],\"carpet\":[{\"aaxis\":{\"endlinecolor\":\"#2a3f5f\",\"gridcolor\":\"white\",\"linecolor\":\"white\",\"minorgridcolor\":\"white\",\"startlinecolor\":\"#2a3f5f\"},\"baxis\":{\"endlinecolor\":\"#2a3f5f\",\"gridcolor\":\"white\",\"linecolor\":\"white\",\"minorgridcolor\":\"white\",\"startlinecolor\":\"#2a3f5f\"},\"type\":\"carpet\"}],\"table\":[{\"cells\":{\"fill\":{\"color\":\"#EBF0F8\"},\"line\":{\"color\":\"white\"}},\"header\":{\"fill\":{\"color\":\"#C8D4E3\"},\"line\":{\"color\":\"white\"}},\"type\":\"table\"}],\"barpolar\":[{\"marker\":{\"line\":{\"color\":\"#E5ECF6\",\"width\":0.5},\"pattern\":{\"fillmode\":\"overlay\",\"size\":10,\"solidity\":0.2}},\"type\":\"barpolar\"}],\"pie\":[{\"automargin\":true,\"type\":\"pie\"}]},\"layout\":{\"autotypenumbers\":\"strict\",\"colorway\":[\"#636efa\",\"#EF553B\",\"#00cc96\",\"#ab63fa\",\"#FFA15A\",\"#19d3f3\",\"#FF6692\",\"#B6E880\",\"#FF97FF\",\"#FECB52\"],\"font\":{\"color\":\"#2a3f5f\"},\"hovermode\":\"closest\",\"hoverlabel\":{\"align\":\"left\"},\"paper_bgcolor\":\"white\",\"plot_bgcolor\":\"#E5ECF6\",\"polar\":{\"bgcolor\":\"#E5ECF6\",\"angularaxis\":{\"gridcolor\":\"white\",\"linecolor\":\"white\",\"ticks\":\"\"},\"radialaxis\":{\"gridcolor\":\"white\",\"linecolor\":\"white\",\"ticks\":\"\"}},\"ternary\":{\"bgcolor\":\"#E5ECF6\",\"aaxis\":{\"gridcolor\":\"white\",\"linecolor\":\"white\",\"ticks\":\"\"},\"baxis\":{\"gridcolor\":\"white\",\"linecolor\":\"white\",\"ticks\":\"\"},\"caxis\":{\"gridcolor\":\"white\",\"linecolor\":\"white\",\"ticks\":\"\"}},\"coloraxis\":{\"colorbar\":{\"outlinewidth\":0,\"ticks\":\"\"}},\"colorscale\":{\"sequential\":[[0.0,\"#0d0887\"],[0.1111111111111111,\"#46039f\"],[0.2222222222222222,\"#7201a8\"],[0.3333333333333333,\"#9c179e\"],[0.4444444444444444,\"#bd3786\"],[0.5555555555555556,\"#d8576b\"],[0.6666666666666666,\"#ed7953\"],[0.7777777777777778,\"#fb9f3a\"],[0.8888888888888888,\"#fdca26\"],[1.0,\"#f0f921\"]],\"sequentialminus\":[[0.0,\"#0d0887\"],[0.1111111111111111,\"#46039f\"],[0.2222222222222222,\"#7201a8\"],[0.3333333333333333,\"#9c179e\"],[0.4444444444444444,\"#bd3786\"],[0.5555555555555556,\"#d8576b\"],[0.6666666666666666,\"#ed7953\"],[0.7777777777777778,\"#fb9f3a\"],[0.8888888888888888,\"#fdca26\"],[1.0,\"#f0f921\"]],\"diverging\":[[0,\"#8e0152\"],[0.1,\"#c51b7d\"],[0.2,\"#de77ae\"],[0.3,\"#f1b6da\"],[0.4,\"#fde0ef\"],[0.5,\"#f7f7f7\"],[0.6,\"#e6f5d0\"],[0.7,\"#b8e186\"],[0.8,\"#7fbc41\"],[0.9,\"#4d9221\"],[1,\"#276419\"]]},\"xaxis\":{\"gridcolor\":\"white\",\"linecolor\":\"white\",\"ticks\":\"\",\"title\":{\"standoff\":15},\"zerolinecolor\":\"white\",\"automargin\":true,\"zerolinewidth\":2},\"yaxis\":{\"gridcolor\":\"white\",\"linecolor\":\"white\",\"ticks\":\"\",\"title\":{\"standoff\":15},\"zerolinecolor\":\"white\",\"automargin\":true,\"zerolinewidth\":2},\"scene\":{\"xaxis\":{\"backgroundcolor\":\"#E5ECF6\",\"gridcolor\":\"white\",\"linecolor\":\"white\",\"showbackground\":true,\"ticks\":\"\",\"zerolinecolor\":\"white\",\"gridwidth\":2},\"yaxis\":{\"backgroundcolor\":\"#E5ECF6\",\"gridcolor\":\"white\",\"linecolor\":\"white\",\"showbackground\":true,\"ticks\":\"\",\"zerolinecolor\":\"white\",\"gridwidth\":2},\"zaxis\":{\"backgroundcolor\":\"#E5ECF6\",\"gridcolor\":\"white\",\"linecolor\":\"white\",\"showbackground\":true,\"ticks\":\"\",\"zerolinecolor\":\"white\",\"gridwidth\":2}},\"shapedefaults\":{\"line\":{\"color\":\"#2a3f5f\"}},\"annotationdefaults\":{\"arrowcolor\":\"#2a3f5f\",\"arrowhead\":0,\"arrowwidth\":1},\"geo\":{\"bgcolor\":\"white\",\"landcolor\":\"#E5ECF6\",\"subunitcolor\":\"white\",\"showland\":true,\"showlakes\":true,\"lakecolor\":\"white\"},\"title\":{\"x\":0.05},\"mapbox\":{\"style\":\"light\"}}},\"xaxis\":{\"anchor\":\"y\",\"domain\":[0.0,0.94],\"title\":{\"text\":\"Fecha\"}},\"yaxis\":{\"anchor\":\"x\",\"domain\":[0.0,1.0],\"title\":{\"text\":\"Presi\\u00f3n\"}},\"yaxis2\":{\"anchor\":\"x\",\"overlaying\":\"y\",\"side\":\"right\",\"title\":{\"text\":\"Velocidad\"}}},                        {\"responsive\": true}                    ).then(function(){\n",
       "                            \n",
       "var gd = document.getElementById('295bcb8b-b315-4c88-9983-b137f4667831');\n",
       "var x = new MutationObserver(function (mutations, observer) {{\n",
       "        var display = window.getComputedStyle(gd).display;\n",
       "        if (!display || display === 'none') {{\n",
       "            console.log([gd, 'removed!']);\n",
       "            Plotly.purge(gd);\n",
       "            observer.disconnect();\n",
       "        }}\n",
       "}});\n",
       "\n",
       "// Listen for the removal of the full notebook cells\n",
       "var notebookContainer = gd.closest('#notebook-container');\n",
       "if (notebookContainer) {{\n",
       "    x.observe(notebookContainer, {childList: true});\n",
       "}}\n",
       "\n",
       "// Listen for the clearing of the current output cell\n",
       "var outputEl = gd.closest('.output');\n",
       "if (outputEl) {{\n",
       "    x.observe(outputEl, {childList: true});\n",
       "}}\n",
       "\n",
       "                        })                };                });            </script>        </div>"
      ]
     },
     "metadata": {},
     "output_type": "display_data"
    }
   ],
   "source": [
    "plot_well_behaviour('E 151', df)"
   ]
  },
  {
   "cell_type": "code",
   "execution_count": 16,
   "id": "948732a4",
   "metadata": {
    "ExecuteTime": {
     "end_time": "2023-10-23T19:45:50.195307Z",
     "start_time": "2023-10-23T19:45:50.117952Z"
    }
   },
   "outputs": [
    {
     "data": {
      "application/vnd.plotly.v1+json": {
       "config": {
        "plotlyServerURL": "https://plot.ly"
       },
       "data": [
        {
         "name": "Profundidad gas",
         "type": "scatter",
         "x": [
          "2020-07-13T00:00:00",
          "2020-08-20T00:00:00",
          "2020-09-22T00:00:00",
          "2020-10-20T00:00:00",
          "2020-11-26T00:00:00",
          "2020-12-29T00:00:00",
          "2021-01-19T00:00:00",
          "2021-02-25T00:00:00",
          "2021-03-18T00:00:00",
          "2021-04-15T00:00:00",
          "2021-06-22T00:00:00",
          "2021-07-22T00:00:00",
          "2021-08-12T00:00:00",
          "2021-09-16T00:00:00",
          "2021-10-21T00:00:00",
          "2021-11-18T00:00:00",
          "2021-12-21T00:00:00",
          "2022-01-20T00:00:00",
          "2022-02-22T00:00:00",
          "2022-03-25T00:00:00",
          "2022-04-26T00:00:00",
          "2022-05-26T00:00:00",
          "2022-06-28T00:00:00",
          "2022-07-22T00:00:00",
          "2022-08-19T00:00:00",
          "2022-09-27T00:00:00",
          "2022-10-27T00:00:00",
          "2022-11-24T00:00:00",
          "2022-12-30T00:00:00",
          "2023-01-30T00:00:00",
          "2023-03-07T00:00:00",
          "2023-04-06T00:00:00"
         ],
         "xaxis": "x",
         "y": [
          901,
          942,
          878,
          899,
          903,
          889,
          878,
          897,
          905,
          912,
          940,
          949,
          978,
          938,
          941,
          914,
          908,
          931,
          894,
          925,
          951,
          978,
          989,
          1034,
          1021,
          1018,
          1179,
          1035,
          1045,
          1035,
          1174,
          1057
         ],
         "yaxis": "y"
        },
        {
         "name": "Profundidad niveles",
         "type": "scatter",
         "x": [
          "2020-07-13T00:00:00",
          "2020-08-20T00:00:00",
          "2020-09-22T00:00:00",
          "2020-10-20T00:00:00",
          "2020-11-26T00:00:00",
          "2020-12-29T00:00:00",
          "2021-01-19T00:00:00",
          "2021-02-25T00:00:00",
          "2021-03-18T00:00:00",
          "2021-04-15T00:00:00",
          "2021-06-22T00:00:00",
          "2021-07-22T00:00:00",
          "2021-08-12T00:00:00",
          "2021-09-16T00:00:00",
          "2021-10-21T00:00:00",
          "2021-11-18T00:00:00",
          "2021-12-21T00:00:00",
          "2022-01-20T00:00:00",
          "2022-02-22T00:00:00",
          "2022-03-25T00:00:00",
          "2022-04-26T00:00:00",
          "2022-05-26T00:00:00",
          "2022-06-28T00:00:00",
          "2022-07-22T00:00:00",
          "2022-08-19T00:00:00",
          "2022-09-27T00:00:00",
          "2022-10-27T00:00:00",
          "2022-11-24T00:00:00",
          "2022-12-30T00:00:00",
          "2023-01-30T00:00:00",
          "2023-03-07T00:00:00",
          "2023-04-06T00:00:00"
         ],
         "xaxis": "x",
         "y": [
          962,
          942,
          1033,
          960,
          971,
          976,
          1065,
          985,
          983,
          971,
          940,
          1020,
          978,
          938,
          941,
          981,
          908,
          931,
          894,
          987,
          1009,
          1035,
          1041,
          1034,
          1021,
          1066,
          1179,
          1080,
          1099,
          1087,
          1197,
          1101
         ],
         "yaxis": "y"
        },
        {
         "name": "Profundidad bomba",
         "type": "scatter",
         "x": [
          "2020-07-13T00:00:00",
          "2020-08-20T00:00:00",
          "2020-09-22T00:00:00",
          "2020-10-20T00:00:00",
          "2020-11-26T00:00:00",
          "2020-12-29T00:00:00",
          "2021-01-19T00:00:00",
          "2021-02-25T00:00:00",
          "2021-03-18T00:00:00",
          "2021-04-15T00:00:00",
          "2021-06-22T00:00:00",
          "2021-07-22T00:00:00",
          "2021-08-12T00:00:00",
          "2021-09-16T00:00:00",
          "2021-10-21T00:00:00",
          "2021-11-18T00:00:00",
          "2021-12-21T00:00:00",
          "2022-01-20T00:00:00",
          "2022-02-22T00:00:00",
          "2022-03-25T00:00:00",
          "2022-04-26T00:00:00",
          "2022-05-26T00:00:00",
          "2022-06-28T00:00:00",
          "2022-07-22T00:00:00",
          "2022-08-19T00:00:00",
          "2022-09-27T00:00:00",
          "2022-10-27T00:00:00",
          "2022-11-24T00:00:00",
          "2022-12-30T00:00:00",
          "2023-01-30T00:00:00",
          "2023-03-07T00:00:00",
          "2023-04-06T00:00:00"
         ],
         "xaxis": "x",
         "y": [
          1288,
          1288,
          1288,
          1288.34,
          1288.34,
          1288.34,
          1288.34,
          1288.34,
          1288.34,
          1288.34,
          1288.34,
          1288.34,
          1288.34,
          1288.34,
          1288.34,
          1288.34,
          1288.34,
          1268.43,
          1268.43,
          1268.43,
          1268.43,
          1268.43,
          1268.43,
          1268.43,
          1268.43,
          1268.43,
          1268.43,
          1268.43,
          1268.43,
          1285,
          1285,
          1285
         ],
         "yaxis": "y"
        },
        {
         "name": "Velocidad del sonido",
         "type": "scatter",
         "x": [
          "2020-07-13T00:00:00",
          "2020-08-20T00:00:00",
          "2020-09-22T00:00:00",
          "2020-10-20T00:00:00",
          "2020-11-26T00:00:00",
          "2020-12-29T00:00:00",
          "2021-01-19T00:00:00",
          "2021-02-25T00:00:00",
          "2021-03-18T00:00:00",
          "2021-04-15T00:00:00",
          "2021-06-22T00:00:00",
          "2021-07-22T00:00:00",
          "2021-08-12T00:00:00",
          "2021-09-16T00:00:00",
          "2021-10-21T00:00:00",
          "2021-11-18T00:00:00",
          "2021-12-21T00:00:00",
          "2022-01-20T00:00:00",
          "2022-02-22T00:00:00",
          "2022-03-25T00:00:00",
          "2022-04-26T00:00:00",
          "2022-05-26T00:00:00",
          "2022-06-28T00:00:00",
          "2022-07-22T00:00:00",
          "2022-08-19T00:00:00",
          "2022-09-27T00:00:00",
          "2022-10-27T00:00:00",
          "2022-11-24T00:00:00",
          "2022-12-30T00:00:00",
          "2023-01-30T00:00:00",
          "2023-03-07T00:00:00",
          "2023-04-06T00:00:00"
         ],
         "xaxis": "x",
         "y": [
          403,
          419,
          403,
          407,
          416,
          413,
          428,
          407,
          411,
          412,
          425,
          424,
          4969,
          420,
          422,
          410,
          398,
          415,
          384,
          407,
          414,
          416,
          418,
          391,
          429,
          425,
          350,
          434,
          418,
          424,
          385,
          433
         ],
         "yaxis": "y2"
        }
       ],
       "layout": {
        "template": {
         "data": {
          "bar": [
           {
            "error_x": {
             "color": "#2a3f5f"
            },
            "error_y": {
             "color": "#2a3f5f"
            },
            "marker": {
             "line": {
              "color": "#E5ECF6",
              "width": 0.5
             },
             "pattern": {
              "fillmode": "overlay",
              "size": 10,
              "solidity": 0.2
             }
            },
            "type": "bar"
           }
          ],
          "barpolar": [
           {
            "marker": {
             "line": {
              "color": "#E5ECF6",
              "width": 0.5
             },
             "pattern": {
              "fillmode": "overlay",
              "size": 10,
              "solidity": 0.2
             }
            },
            "type": "barpolar"
           }
          ],
          "carpet": [
           {
            "aaxis": {
             "endlinecolor": "#2a3f5f",
             "gridcolor": "white",
             "linecolor": "white",
             "minorgridcolor": "white",
             "startlinecolor": "#2a3f5f"
            },
            "baxis": {
             "endlinecolor": "#2a3f5f",
             "gridcolor": "white",
             "linecolor": "white",
             "minorgridcolor": "white",
             "startlinecolor": "#2a3f5f"
            },
            "type": "carpet"
           }
          ],
          "choropleth": [
           {
            "colorbar": {
             "outlinewidth": 0,
             "ticks": ""
            },
            "type": "choropleth"
           }
          ],
          "contour": [
           {
            "colorbar": {
             "outlinewidth": 0,
             "ticks": ""
            },
            "colorscale": [
             [
              0,
              "#0d0887"
             ],
             [
              0.1111111111111111,
              "#46039f"
             ],
             [
              0.2222222222222222,
              "#7201a8"
             ],
             [
              0.3333333333333333,
              "#9c179e"
             ],
             [
              0.4444444444444444,
              "#bd3786"
             ],
             [
              0.5555555555555556,
              "#d8576b"
             ],
             [
              0.6666666666666666,
              "#ed7953"
             ],
             [
              0.7777777777777778,
              "#fb9f3a"
             ],
             [
              0.8888888888888888,
              "#fdca26"
             ],
             [
              1,
              "#f0f921"
             ]
            ],
            "type": "contour"
           }
          ],
          "contourcarpet": [
           {
            "colorbar": {
             "outlinewidth": 0,
             "ticks": ""
            },
            "type": "contourcarpet"
           }
          ],
          "heatmap": [
           {
            "colorbar": {
             "outlinewidth": 0,
             "ticks": ""
            },
            "colorscale": [
             [
              0,
              "#0d0887"
             ],
             [
              0.1111111111111111,
              "#46039f"
             ],
             [
              0.2222222222222222,
              "#7201a8"
             ],
             [
              0.3333333333333333,
              "#9c179e"
             ],
             [
              0.4444444444444444,
              "#bd3786"
             ],
             [
              0.5555555555555556,
              "#d8576b"
             ],
             [
              0.6666666666666666,
              "#ed7953"
             ],
             [
              0.7777777777777778,
              "#fb9f3a"
             ],
             [
              0.8888888888888888,
              "#fdca26"
             ],
             [
              1,
              "#f0f921"
             ]
            ],
            "type": "heatmap"
           }
          ],
          "heatmapgl": [
           {
            "colorbar": {
             "outlinewidth": 0,
             "ticks": ""
            },
            "colorscale": [
             [
              0,
              "#0d0887"
             ],
             [
              0.1111111111111111,
              "#46039f"
             ],
             [
              0.2222222222222222,
              "#7201a8"
             ],
             [
              0.3333333333333333,
              "#9c179e"
             ],
             [
              0.4444444444444444,
              "#bd3786"
             ],
             [
              0.5555555555555556,
              "#d8576b"
             ],
             [
              0.6666666666666666,
              "#ed7953"
             ],
             [
              0.7777777777777778,
              "#fb9f3a"
             ],
             [
              0.8888888888888888,
              "#fdca26"
             ],
             [
              1,
              "#f0f921"
             ]
            ],
            "type": "heatmapgl"
           }
          ],
          "histogram": [
           {
            "marker": {
             "pattern": {
              "fillmode": "overlay",
              "size": 10,
              "solidity": 0.2
             }
            },
            "type": "histogram"
           }
          ],
          "histogram2d": [
           {
            "colorbar": {
             "outlinewidth": 0,
             "ticks": ""
            },
            "colorscale": [
             [
              0,
              "#0d0887"
             ],
             [
              0.1111111111111111,
              "#46039f"
             ],
             [
              0.2222222222222222,
              "#7201a8"
             ],
             [
              0.3333333333333333,
              "#9c179e"
             ],
             [
              0.4444444444444444,
              "#bd3786"
             ],
             [
              0.5555555555555556,
              "#d8576b"
             ],
             [
              0.6666666666666666,
              "#ed7953"
             ],
             [
              0.7777777777777778,
              "#fb9f3a"
             ],
             [
              0.8888888888888888,
              "#fdca26"
             ],
             [
              1,
              "#f0f921"
             ]
            ],
            "type": "histogram2d"
           }
          ],
          "histogram2dcontour": [
           {
            "colorbar": {
             "outlinewidth": 0,
             "ticks": ""
            },
            "colorscale": [
             [
              0,
              "#0d0887"
             ],
             [
              0.1111111111111111,
              "#46039f"
             ],
             [
              0.2222222222222222,
              "#7201a8"
             ],
             [
              0.3333333333333333,
              "#9c179e"
             ],
             [
              0.4444444444444444,
              "#bd3786"
             ],
             [
              0.5555555555555556,
              "#d8576b"
             ],
             [
              0.6666666666666666,
              "#ed7953"
             ],
             [
              0.7777777777777778,
              "#fb9f3a"
             ],
             [
              0.8888888888888888,
              "#fdca26"
             ],
             [
              1,
              "#f0f921"
             ]
            ],
            "type": "histogram2dcontour"
           }
          ],
          "mesh3d": [
           {
            "colorbar": {
             "outlinewidth": 0,
             "ticks": ""
            },
            "type": "mesh3d"
           }
          ],
          "parcoords": [
           {
            "line": {
             "colorbar": {
              "outlinewidth": 0,
              "ticks": ""
             }
            },
            "type": "parcoords"
           }
          ],
          "pie": [
           {
            "automargin": true,
            "type": "pie"
           }
          ],
          "scatter": [
           {
            "fillpattern": {
             "fillmode": "overlay",
             "size": 10,
             "solidity": 0.2
            },
            "type": "scatter"
           }
          ],
          "scatter3d": [
           {
            "line": {
             "colorbar": {
              "outlinewidth": 0,
              "ticks": ""
             }
            },
            "marker": {
             "colorbar": {
              "outlinewidth": 0,
              "ticks": ""
             }
            },
            "type": "scatter3d"
           }
          ],
          "scattercarpet": [
           {
            "marker": {
             "colorbar": {
              "outlinewidth": 0,
              "ticks": ""
             }
            },
            "type": "scattercarpet"
           }
          ],
          "scattergeo": [
           {
            "marker": {
             "colorbar": {
              "outlinewidth": 0,
              "ticks": ""
             }
            },
            "type": "scattergeo"
           }
          ],
          "scattergl": [
           {
            "marker": {
             "colorbar": {
              "outlinewidth": 0,
              "ticks": ""
             }
            },
            "type": "scattergl"
           }
          ],
          "scattermapbox": [
           {
            "marker": {
             "colorbar": {
              "outlinewidth": 0,
              "ticks": ""
             }
            },
            "type": "scattermapbox"
           }
          ],
          "scatterpolar": [
           {
            "marker": {
             "colorbar": {
              "outlinewidth": 0,
              "ticks": ""
             }
            },
            "type": "scatterpolar"
           }
          ],
          "scatterpolargl": [
           {
            "marker": {
             "colorbar": {
              "outlinewidth": 0,
              "ticks": ""
             }
            },
            "type": "scatterpolargl"
           }
          ],
          "scatterternary": [
           {
            "marker": {
             "colorbar": {
              "outlinewidth": 0,
              "ticks": ""
             }
            },
            "type": "scatterternary"
           }
          ],
          "surface": [
           {
            "colorbar": {
             "outlinewidth": 0,
             "ticks": ""
            },
            "colorscale": [
             [
              0,
              "#0d0887"
             ],
             [
              0.1111111111111111,
              "#46039f"
             ],
             [
              0.2222222222222222,
              "#7201a8"
             ],
             [
              0.3333333333333333,
              "#9c179e"
             ],
             [
              0.4444444444444444,
              "#bd3786"
             ],
             [
              0.5555555555555556,
              "#d8576b"
             ],
             [
              0.6666666666666666,
              "#ed7953"
             ],
             [
              0.7777777777777778,
              "#fb9f3a"
             ],
             [
              0.8888888888888888,
              "#fdca26"
             ],
             [
              1,
              "#f0f921"
             ]
            ],
            "type": "surface"
           }
          ],
          "table": [
           {
            "cells": {
             "fill": {
              "color": "#EBF0F8"
             },
             "line": {
              "color": "white"
             }
            },
            "header": {
             "fill": {
              "color": "#C8D4E3"
             },
             "line": {
              "color": "white"
             }
            },
            "type": "table"
           }
          ]
         },
         "layout": {
          "annotationdefaults": {
           "arrowcolor": "#2a3f5f",
           "arrowhead": 0,
           "arrowwidth": 1
          },
          "autotypenumbers": "strict",
          "coloraxis": {
           "colorbar": {
            "outlinewidth": 0,
            "ticks": ""
           }
          },
          "colorscale": {
           "diverging": [
            [
             0,
             "#8e0152"
            ],
            [
             0.1,
             "#c51b7d"
            ],
            [
             0.2,
             "#de77ae"
            ],
            [
             0.3,
             "#f1b6da"
            ],
            [
             0.4,
             "#fde0ef"
            ],
            [
             0.5,
             "#f7f7f7"
            ],
            [
             0.6,
             "#e6f5d0"
            ],
            [
             0.7,
             "#b8e186"
            ],
            [
             0.8,
             "#7fbc41"
            ],
            [
             0.9,
             "#4d9221"
            ],
            [
             1,
             "#276419"
            ]
           ],
           "sequential": [
            [
             0,
             "#0d0887"
            ],
            [
             0.1111111111111111,
             "#46039f"
            ],
            [
             0.2222222222222222,
             "#7201a8"
            ],
            [
             0.3333333333333333,
             "#9c179e"
            ],
            [
             0.4444444444444444,
             "#bd3786"
            ],
            [
             0.5555555555555556,
             "#d8576b"
            ],
            [
             0.6666666666666666,
             "#ed7953"
            ],
            [
             0.7777777777777778,
             "#fb9f3a"
            ],
            [
             0.8888888888888888,
             "#fdca26"
            ],
            [
             1,
             "#f0f921"
            ]
           ],
           "sequentialminus": [
            [
             0,
             "#0d0887"
            ],
            [
             0.1111111111111111,
             "#46039f"
            ],
            [
             0.2222222222222222,
             "#7201a8"
            ],
            [
             0.3333333333333333,
             "#9c179e"
            ],
            [
             0.4444444444444444,
             "#bd3786"
            ],
            [
             0.5555555555555556,
             "#d8576b"
            ],
            [
             0.6666666666666666,
             "#ed7953"
            ],
            [
             0.7777777777777778,
             "#fb9f3a"
            ],
            [
             0.8888888888888888,
             "#fdca26"
            ],
            [
             1,
             "#f0f921"
            ]
           ]
          },
          "colorway": [
           "#636efa",
           "#EF553B",
           "#00cc96",
           "#ab63fa",
           "#FFA15A",
           "#19d3f3",
           "#FF6692",
           "#B6E880",
           "#FF97FF",
           "#FECB52"
          ],
          "font": {
           "color": "#2a3f5f"
          },
          "geo": {
           "bgcolor": "white",
           "lakecolor": "white",
           "landcolor": "#E5ECF6",
           "showlakes": true,
           "showland": true,
           "subunitcolor": "white"
          },
          "hoverlabel": {
           "align": "left"
          },
          "hovermode": "closest",
          "mapbox": {
           "style": "light"
          },
          "paper_bgcolor": "white",
          "plot_bgcolor": "#E5ECF6",
          "polar": {
           "angularaxis": {
            "gridcolor": "white",
            "linecolor": "white",
            "ticks": ""
           },
           "bgcolor": "#E5ECF6",
           "radialaxis": {
            "gridcolor": "white",
            "linecolor": "white",
            "ticks": ""
           }
          },
          "scene": {
           "xaxis": {
            "backgroundcolor": "#E5ECF6",
            "gridcolor": "white",
            "gridwidth": 2,
            "linecolor": "white",
            "showbackground": true,
            "ticks": "",
            "zerolinecolor": "white"
           },
           "yaxis": {
            "backgroundcolor": "#E5ECF6",
            "gridcolor": "white",
            "gridwidth": 2,
            "linecolor": "white",
            "showbackground": true,
            "ticks": "",
            "zerolinecolor": "white"
           },
           "zaxis": {
            "backgroundcolor": "#E5ECF6",
            "gridcolor": "white",
            "gridwidth": 2,
            "linecolor": "white",
            "showbackground": true,
            "ticks": "",
            "zerolinecolor": "white"
           }
          },
          "shapedefaults": {
           "line": {
            "color": "#2a3f5f"
           }
          },
          "ternary": {
           "aaxis": {
            "gridcolor": "white",
            "linecolor": "white",
            "ticks": ""
           },
           "baxis": {
            "gridcolor": "white",
            "linecolor": "white",
            "ticks": ""
           },
           "bgcolor": "#E5ECF6",
           "caxis": {
            "gridcolor": "white",
            "linecolor": "white",
            "ticks": ""
           }
          },
          "title": {
           "x": 0.05
          },
          "xaxis": {
           "automargin": true,
           "gridcolor": "white",
           "linecolor": "white",
           "ticks": "",
           "title": {
            "standoff": 15
           },
           "zerolinecolor": "white",
           "zerolinewidth": 2
          },
          "yaxis": {
           "automargin": true,
           "gridcolor": "white",
           "linecolor": "white",
           "ticks": "",
           "title": {
            "standoff": 15
           },
           "zerolinecolor": "white",
           "zerolinewidth": 2
          }
         }
        },
        "title": {
         "text": "Análisis de la evolución de diferentes variables del pozo L 109"
        },
        "xaxis": {
         "anchor": "y",
         "domain": [
          0,
          0.94
         ],
         "title": {
          "text": "Fecha"
         }
        },
        "yaxis": {
         "anchor": "x",
         "domain": [
          0,
          1
         ],
         "title": {
          "text": "Profundidad"
         }
        },
        "yaxis2": {
         "anchor": "x",
         "overlaying": "y",
         "side": "right",
         "title": {
          "text": "Velocidad"
         }
        }
       }
      },
      "text/html": [
       "<div>                            <div id=\"da76e2d1-9fee-4799-a780-34b7150f27b6\" class=\"plotly-graph-div\" style=\"height:525px; width:100%;\"></div>            <script type=\"text/javascript\">                require([\"plotly\"], function(Plotly) {                    window.PLOTLYENV=window.PLOTLYENV || {};                                    if (document.getElementById(\"da76e2d1-9fee-4799-a780-34b7150f27b6\")) {                    Plotly.newPlot(                        \"da76e2d1-9fee-4799-a780-34b7150f27b6\",                        [{\"name\":\"Profundidad gas\",\"x\":[\"2020-07-13T00:00:00\",\"2020-08-20T00:00:00\",\"2020-09-22T00:00:00\",\"2020-10-20T00:00:00\",\"2020-11-26T00:00:00\",\"2020-12-29T00:00:00\",\"2021-01-19T00:00:00\",\"2021-02-25T00:00:00\",\"2021-03-18T00:00:00\",\"2021-04-15T00:00:00\",\"2021-06-22T00:00:00\",\"2021-07-22T00:00:00\",\"2021-08-12T00:00:00\",\"2021-09-16T00:00:00\",\"2021-10-21T00:00:00\",\"2021-11-18T00:00:00\",\"2021-12-21T00:00:00\",\"2022-01-20T00:00:00\",\"2022-02-22T00:00:00\",\"2022-03-25T00:00:00\",\"2022-04-26T00:00:00\",\"2022-05-26T00:00:00\",\"2022-06-28T00:00:00\",\"2022-07-22T00:00:00\",\"2022-08-19T00:00:00\",\"2022-09-27T00:00:00\",\"2022-10-27T00:00:00\",\"2022-11-24T00:00:00\",\"2022-12-30T00:00:00\",\"2023-01-30T00:00:00\",\"2023-03-07T00:00:00\",\"2023-04-06T00:00:00\"],\"y\":[901,942,878,899,903,889,878,897,905,912,940,949,978,938,941,914,908,931,894,925,951,978,989,1034,1021,1018,1179,1035,1045,1035,1174,1057],\"type\":\"scatter\",\"xaxis\":\"x\",\"yaxis\":\"y\"},{\"name\":\"Profundidad niveles\",\"x\":[\"2020-07-13T00:00:00\",\"2020-08-20T00:00:00\",\"2020-09-22T00:00:00\",\"2020-10-20T00:00:00\",\"2020-11-26T00:00:00\",\"2020-12-29T00:00:00\",\"2021-01-19T00:00:00\",\"2021-02-25T00:00:00\",\"2021-03-18T00:00:00\",\"2021-04-15T00:00:00\",\"2021-06-22T00:00:00\",\"2021-07-22T00:00:00\",\"2021-08-12T00:00:00\",\"2021-09-16T00:00:00\",\"2021-10-21T00:00:00\",\"2021-11-18T00:00:00\",\"2021-12-21T00:00:00\",\"2022-01-20T00:00:00\",\"2022-02-22T00:00:00\",\"2022-03-25T00:00:00\",\"2022-04-26T00:00:00\",\"2022-05-26T00:00:00\",\"2022-06-28T00:00:00\",\"2022-07-22T00:00:00\",\"2022-08-19T00:00:00\",\"2022-09-27T00:00:00\",\"2022-10-27T00:00:00\",\"2022-11-24T00:00:00\",\"2022-12-30T00:00:00\",\"2023-01-30T00:00:00\",\"2023-03-07T00:00:00\",\"2023-04-06T00:00:00\"],\"y\":[962,942,1033,960,971,976,1065,985,983,971,940,1020,978,938,941,981,908,931,894,987,1009,1035,1041,1034,1021,1066,1179,1080,1099,1087,1197,1101],\"type\":\"scatter\",\"xaxis\":\"x\",\"yaxis\":\"y\"},{\"name\":\"Profundidad bomba\",\"x\":[\"2020-07-13T00:00:00\",\"2020-08-20T00:00:00\",\"2020-09-22T00:00:00\",\"2020-10-20T00:00:00\",\"2020-11-26T00:00:00\",\"2020-12-29T00:00:00\",\"2021-01-19T00:00:00\",\"2021-02-25T00:00:00\",\"2021-03-18T00:00:00\",\"2021-04-15T00:00:00\",\"2021-06-22T00:00:00\",\"2021-07-22T00:00:00\",\"2021-08-12T00:00:00\",\"2021-09-16T00:00:00\",\"2021-10-21T00:00:00\",\"2021-11-18T00:00:00\",\"2021-12-21T00:00:00\",\"2022-01-20T00:00:00\",\"2022-02-22T00:00:00\",\"2022-03-25T00:00:00\",\"2022-04-26T00:00:00\",\"2022-05-26T00:00:00\",\"2022-06-28T00:00:00\",\"2022-07-22T00:00:00\",\"2022-08-19T00:00:00\",\"2022-09-27T00:00:00\",\"2022-10-27T00:00:00\",\"2022-11-24T00:00:00\",\"2022-12-30T00:00:00\",\"2023-01-30T00:00:00\",\"2023-03-07T00:00:00\",\"2023-04-06T00:00:00\"],\"y\":[1288.0,1288.0,1288.0,1288.34,1288.34,1288.34,1288.34,1288.34,1288.34,1288.34,1288.34,1288.34,1288.34,1288.34,1288.34,1288.34,1288.34,1268.43,1268.43,1268.43,1268.43,1268.43,1268.43,1268.43,1268.43,1268.43,1268.43,1268.43,1268.43,1285.0,1285.0,1285.0],\"type\":\"scatter\",\"xaxis\":\"x\",\"yaxis\":\"y\"},{\"name\":\"Velocidad del sonido\",\"x\":[\"2020-07-13T00:00:00\",\"2020-08-20T00:00:00\",\"2020-09-22T00:00:00\",\"2020-10-20T00:00:00\",\"2020-11-26T00:00:00\",\"2020-12-29T00:00:00\",\"2021-01-19T00:00:00\",\"2021-02-25T00:00:00\",\"2021-03-18T00:00:00\",\"2021-04-15T00:00:00\",\"2021-06-22T00:00:00\",\"2021-07-22T00:00:00\",\"2021-08-12T00:00:00\",\"2021-09-16T00:00:00\",\"2021-10-21T00:00:00\",\"2021-11-18T00:00:00\",\"2021-12-21T00:00:00\",\"2022-01-20T00:00:00\",\"2022-02-22T00:00:00\",\"2022-03-25T00:00:00\",\"2022-04-26T00:00:00\",\"2022-05-26T00:00:00\",\"2022-06-28T00:00:00\",\"2022-07-22T00:00:00\",\"2022-08-19T00:00:00\",\"2022-09-27T00:00:00\",\"2022-10-27T00:00:00\",\"2022-11-24T00:00:00\",\"2022-12-30T00:00:00\",\"2023-01-30T00:00:00\",\"2023-03-07T00:00:00\",\"2023-04-06T00:00:00\"],\"y\":[403,419,403,407,416,413,428,407,411,412,425,424,4969,420,422,410,398,415,384,407,414,416,418,391,429,425,350,434,418,424,385,433],\"type\":\"scatter\",\"xaxis\":\"x\",\"yaxis\":\"y2\"}],                        {\"template\":{\"data\":{\"histogram2dcontour\":[{\"type\":\"histogram2dcontour\",\"colorbar\":{\"outlinewidth\":0,\"ticks\":\"\"},\"colorscale\":[[0.0,\"#0d0887\"],[0.1111111111111111,\"#46039f\"],[0.2222222222222222,\"#7201a8\"],[0.3333333333333333,\"#9c179e\"],[0.4444444444444444,\"#bd3786\"],[0.5555555555555556,\"#d8576b\"],[0.6666666666666666,\"#ed7953\"],[0.7777777777777778,\"#fb9f3a\"],[0.8888888888888888,\"#fdca26\"],[1.0,\"#f0f921\"]]}],\"choropleth\":[{\"type\":\"choropleth\",\"colorbar\":{\"outlinewidth\":0,\"ticks\":\"\"}}],\"histogram2d\":[{\"type\":\"histogram2d\",\"colorbar\":{\"outlinewidth\":0,\"ticks\":\"\"},\"colorscale\":[[0.0,\"#0d0887\"],[0.1111111111111111,\"#46039f\"],[0.2222222222222222,\"#7201a8\"],[0.3333333333333333,\"#9c179e\"],[0.4444444444444444,\"#bd3786\"],[0.5555555555555556,\"#d8576b\"],[0.6666666666666666,\"#ed7953\"],[0.7777777777777778,\"#fb9f3a\"],[0.8888888888888888,\"#fdca26\"],[1.0,\"#f0f921\"]]}],\"heatmap\":[{\"type\":\"heatmap\",\"colorbar\":{\"outlinewidth\":0,\"ticks\":\"\"},\"colorscale\":[[0.0,\"#0d0887\"],[0.1111111111111111,\"#46039f\"],[0.2222222222222222,\"#7201a8\"],[0.3333333333333333,\"#9c179e\"],[0.4444444444444444,\"#bd3786\"],[0.5555555555555556,\"#d8576b\"],[0.6666666666666666,\"#ed7953\"],[0.7777777777777778,\"#fb9f3a\"],[0.8888888888888888,\"#fdca26\"],[1.0,\"#f0f921\"]]}],\"heatmapgl\":[{\"type\":\"heatmapgl\",\"colorbar\":{\"outlinewidth\":0,\"ticks\":\"\"},\"colorscale\":[[0.0,\"#0d0887\"],[0.1111111111111111,\"#46039f\"],[0.2222222222222222,\"#7201a8\"],[0.3333333333333333,\"#9c179e\"],[0.4444444444444444,\"#bd3786\"],[0.5555555555555556,\"#d8576b\"],[0.6666666666666666,\"#ed7953\"],[0.7777777777777778,\"#fb9f3a\"],[0.8888888888888888,\"#fdca26\"],[1.0,\"#f0f921\"]]}],\"contourcarpet\":[{\"type\":\"contourcarpet\",\"colorbar\":{\"outlinewidth\":0,\"ticks\":\"\"}}],\"contour\":[{\"type\":\"contour\",\"colorbar\":{\"outlinewidth\":0,\"ticks\":\"\"},\"colorscale\":[[0.0,\"#0d0887\"],[0.1111111111111111,\"#46039f\"],[0.2222222222222222,\"#7201a8\"],[0.3333333333333333,\"#9c179e\"],[0.4444444444444444,\"#bd3786\"],[0.5555555555555556,\"#d8576b\"],[0.6666666666666666,\"#ed7953\"],[0.7777777777777778,\"#fb9f3a\"],[0.8888888888888888,\"#fdca26\"],[1.0,\"#f0f921\"]]}],\"surface\":[{\"type\":\"surface\",\"colorbar\":{\"outlinewidth\":0,\"ticks\":\"\"},\"colorscale\":[[0.0,\"#0d0887\"],[0.1111111111111111,\"#46039f\"],[0.2222222222222222,\"#7201a8\"],[0.3333333333333333,\"#9c179e\"],[0.4444444444444444,\"#bd3786\"],[0.5555555555555556,\"#d8576b\"],[0.6666666666666666,\"#ed7953\"],[0.7777777777777778,\"#fb9f3a\"],[0.8888888888888888,\"#fdca26\"],[1.0,\"#f0f921\"]]}],\"mesh3d\":[{\"type\":\"mesh3d\",\"colorbar\":{\"outlinewidth\":0,\"ticks\":\"\"}}],\"scatter\":[{\"fillpattern\":{\"fillmode\":\"overlay\",\"size\":10,\"solidity\":0.2},\"type\":\"scatter\"}],\"parcoords\":[{\"type\":\"parcoords\",\"line\":{\"colorbar\":{\"outlinewidth\":0,\"ticks\":\"\"}}}],\"scatterpolargl\":[{\"type\":\"scatterpolargl\",\"marker\":{\"colorbar\":{\"outlinewidth\":0,\"ticks\":\"\"}}}],\"bar\":[{\"error_x\":{\"color\":\"#2a3f5f\"},\"error_y\":{\"color\":\"#2a3f5f\"},\"marker\":{\"line\":{\"color\":\"#E5ECF6\",\"width\":0.5},\"pattern\":{\"fillmode\":\"overlay\",\"size\":10,\"solidity\":0.2}},\"type\":\"bar\"}],\"scattergeo\":[{\"type\":\"scattergeo\",\"marker\":{\"colorbar\":{\"outlinewidth\":0,\"ticks\":\"\"}}}],\"scatterpolar\":[{\"type\":\"scatterpolar\",\"marker\":{\"colorbar\":{\"outlinewidth\":0,\"ticks\":\"\"}}}],\"histogram\":[{\"marker\":{\"pattern\":{\"fillmode\":\"overlay\",\"size\":10,\"solidity\":0.2}},\"type\":\"histogram\"}],\"scattergl\":[{\"type\":\"scattergl\",\"marker\":{\"colorbar\":{\"outlinewidth\":0,\"ticks\":\"\"}}}],\"scatter3d\":[{\"type\":\"scatter3d\",\"line\":{\"colorbar\":{\"outlinewidth\":0,\"ticks\":\"\"}},\"marker\":{\"colorbar\":{\"outlinewidth\":0,\"ticks\":\"\"}}}],\"scattermapbox\":[{\"type\":\"scattermapbox\",\"marker\":{\"colorbar\":{\"outlinewidth\":0,\"ticks\":\"\"}}}],\"scatterternary\":[{\"type\":\"scatterternary\",\"marker\":{\"colorbar\":{\"outlinewidth\":0,\"ticks\":\"\"}}}],\"scattercarpet\":[{\"type\":\"scattercarpet\",\"marker\":{\"colorbar\":{\"outlinewidth\":0,\"ticks\":\"\"}}}],\"carpet\":[{\"aaxis\":{\"endlinecolor\":\"#2a3f5f\",\"gridcolor\":\"white\",\"linecolor\":\"white\",\"minorgridcolor\":\"white\",\"startlinecolor\":\"#2a3f5f\"},\"baxis\":{\"endlinecolor\":\"#2a3f5f\",\"gridcolor\":\"white\",\"linecolor\":\"white\",\"minorgridcolor\":\"white\",\"startlinecolor\":\"#2a3f5f\"},\"type\":\"carpet\"}],\"table\":[{\"cells\":{\"fill\":{\"color\":\"#EBF0F8\"},\"line\":{\"color\":\"white\"}},\"header\":{\"fill\":{\"color\":\"#C8D4E3\"},\"line\":{\"color\":\"white\"}},\"type\":\"table\"}],\"barpolar\":[{\"marker\":{\"line\":{\"color\":\"#E5ECF6\",\"width\":0.5},\"pattern\":{\"fillmode\":\"overlay\",\"size\":10,\"solidity\":0.2}},\"type\":\"barpolar\"}],\"pie\":[{\"automargin\":true,\"type\":\"pie\"}]},\"layout\":{\"autotypenumbers\":\"strict\",\"colorway\":[\"#636efa\",\"#EF553B\",\"#00cc96\",\"#ab63fa\",\"#FFA15A\",\"#19d3f3\",\"#FF6692\",\"#B6E880\",\"#FF97FF\",\"#FECB52\"],\"font\":{\"color\":\"#2a3f5f\"},\"hovermode\":\"closest\",\"hoverlabel\":{\"align\":\"left\"},\"paper_bgcolor\":\"white\",\"plot_bgcolor\":\"#E5ECF6\",\"polar\":{\"bgcolor\":\"#E5ECF6\",\"angularaxis\":{\"gridcolor\":\"white\",\"linecolor\":\"white\",\"ticks\":\"\"},\"radialaxis\":{\"gridcolor\":\"white\",\"linecolor\":\"white\",\"ticks\":\"\"}},\"ternary\":{\"bgcolor\":\"#E5ECF6\",\"aaxis\":{\"gridcolor\":\"white\",\"linecolor\":\"white\",\"ticks\":\"\"},\"baxis\":{\"gridcolor\":\"white\",\"linecolor\":\"white\",\"ticks\":\"\"},\"caxis\":{\"gridcolor\":\"white\",\"linecolor\":\"white\",\"ticks\":\"\"}},\"coloraxis\":{\"colorbar\":{\"outlinewidth\":0,\"ticks\":\"\"}},\"colorscale\":{\"sequential\":[[0.0,\"#0d0887\"],[0.1111111111111111,\"#46039f\"],[0.2222222222222222,\"#7201a8\"],[0.3333333333333333,\"#9c179e\"],[0.4444444444444444,\"#bd3786\"],[0.5555555555555556,\"#d8576b\"],[0.6666666666666666,\"#ed7953\"],[0.7777777777777778,\"#fb9f3a\"],[0.8888888888888888,\"#fdca26\"],[1.0,\"#f0f921\"]],\"sequentialminus\":[[0.0,\"#0d0887\"],[0.1111111111111111,\"#46039f\"],[0.2222222222222222,\"#7201a8\"],[0.3333333333333333,\"#9c179e\"],[0.4444444444444444,\"#bd3786\"],[0.5555555555555556,\"#d8576b\"],[0.6666666666666666,\"#ed7953\"],[0.7777777777777778,\"#fb9f3a\"],[0.8888888888888888,\"#fdca26\"],[1.0,\"#f0f921\"]],\"diverging\":[[0,\"#8e0152\"],[0.1,\"#c51b7d\"],[0.2,\"#de77ae\"],[0.3,\"#f1b6da\"],[0.4,\"#fde0ef\"],[0.5,\"#f7f7f7\"],[0.6,\"#e6f5d0\"],[0.7,\"#b8e186\"],[0.8,\"#7fbc41\"],[0.9,\"#4d9221\"],[1,\"#276419\"]]},\"xaxis\":{\"gridcolor\":\"white\",\"linecolor\":\"white\",\"ticks\":\"\",\"title\":{\"standoff\":15},\"zerolinecolor\":\"white\",\"automargin\":true,\"zerolinewidth\":2},\"yaxis\":{\"gridcolor\":\"white\",\"linecolor\":\"white\",\"ticks\":\"\",\"title\":{\"standoff\":15},\"zerolinecolor\":\"white\",\"automargin\":true,\"zerolinewidth\":2},\"scene\":{\"xaxis\":{\"backgroundcolor\":\"#E5ECF6\",\"gridcolor\":\"white\",\"linecolor\":\"white\",\"showbackground\":true,\"ticks\":\"\",\"zerolinecolor\":\"white\",\"gridwidth\":2},\"yaxis\":{\"backgroundcolor\":\"#E5ECF6\",\"gridcolor\":\"white\",\"linecolor\":\"white\",\"showbackground\":true,\"ticks\":\"\",\"zerolinecolor\":\"white\",\"gridwidth\":2},\"zaxis\":{\"backgroundcolor\":\"#E5ECF6\",\"gridcolor\":\"white\",\"linecolor\":\"white\",\"showbackground\":true,\"ticks\":\"\",\"zerolinecolor\":\"white\",\"gridwidth\":2}},\"shapedefaults\":{\"line\":{\"color\":\"#2a3f5f\"}},\"annotationdefaults\":{\"arrowcolor\":\"#2a3f5f\",\"arrowhead\":0,\"arrowwidth\":1},\"geo\":{\"bgcolor\":\"white\",\"landcolor\":\"#E5ECF6\",\"subunitcolor\":\"white\",\"showland\":true,\"showlakes\":true,\"lakecolor\":\"white\"},\"title\":{\"x\":0.05},\"mapbox\":{\"style\":\"light\"}}},\"xaxis\":{\"anchor\":\"y\",\"domain\":[0.0,0.94],\"title\":{\"text\":\"Fecha\"}},\"yaxis\":{\"anchor\":\"x\",\"domain\":[0.0,1.0],\"title\":{\"text\":\"Profundidad\"}},\"yaxis2\":{\"anchor\":\"x\",\"overlaying\":\"y\",\"side\":\"right\",\"title\":{\"text\":\"Velocidad\"}},\"title\":{\"text\":\"An\\u00e1lisis de la evoluci\\u00f3n de diferentes variables del pozo L 109\"}},                        {\"responsive\": true}                    ).then(function(){\n",
       "                            \n",
       "var gd = document.getElementById('da76e2d1-9fee-4799-a780-34b7150f27b6');\n",
       "var x = new MutationObserver(function (mutations, observer) {{\n",
       "        var display = window.getComputedStyle(gd).display;\n",
       "        if (!display || display === 'none') {{\n",
       "            console.log([gd, 'removed!']);\n",
       "            Plotly.purge(gd);\n",
       "            observer.disconnect();\n",
       "        }}\n",
       "}});\n",
       "\n",
       "// Listen for the removal of the full notebook cells\n",
       "var notebookContainer = gd.closest('#notebook-container');\n",
       "if (notebookContainer) {{\n",
       "    x.observe(notebookContainer, {childList: true});\n",
       "}}\n",
       "\n",
       "// Listen for the clearing of the current output cell\n",
       "var outputEl = gd.closest('.output');\n",
       "if (outputEl) {{\n",
       "    x.observe(outputEl, {childList: true});\n",
       "}}\n",
       "\n",
       "                        })                };                });            </script>        </div>"
      ]
     },
     "metadata": {},
     "output_type": "display_data"
    },
    {
     "data": {
      "application/vnd.plotly.v1+json": {
       "config": {
        "plotlyServerURL": "https://plot.ly"
       },
       "data": [
        {
         "name": "Profundidad bomba",
         "type": "scatter",
         "x": [
          "2020-07-13T00:00:00",
          "2020-08-20T00:00:00",
          "2020-09-22T00:00:00",
          "2020-10-20T00:00:00",
          "2020-11-26T00:00:00",
          "2020-12-29T00:00:00",
          "2021-01-19T00:00:00",
          "2021-02-25T00:00:00",
          "2021-03-18T00:00:00",
          "2021-04-15T00:00:00",
          "2021-06-22T00:00:00",
          "2021-07-22T00:00:00",
          "2021-08-12T00:00:00",
          "2021-09-16T00:00:00",
          "2021-10-21T00:00:00",
          "2021-11-18T00:00:00",
          "2021-12-21T00:00:00",
          "2022-01-20T00:00:00",
          "2022-02-22T00:00:00",
          "2022-03-25T00:00:00",
          "2022-04-26T00:00:00",
          "2022-05-26T00:00:00",
          "2022-06-28T00:00:00",
          "2022-07-22T00:00:00",
          "2022-08-19T00:00:00",
          "2022-09-27T00:00:00",
          "2022-10-27T00:00:00",
          "2022-11-24T00:00:00",
          "2022-12-30T00:00:00",
          "2023-01-30T00:00:00",
          "2023-03-07T00:00:00",
          "2023-04-06T00:00:00"
         ],
         "xaxis": "x",
         "y": [
          1288,
          1288,
          1288,
          1288.34,
          1288.34,
          1288.34,
          1288.34,
          1288.34,
          1288.34,
          1288.34,
          1288.34,
          1288.34,
          1288.34,
          1288.34,
          1288.34,
          1288.34,
          1288.34,
          1268.43,
          1268.43,
          1268.43,
          1268.43,
          1268.43,
          1268.43,
          1268.43,
          1268.43,
          1268.43,
          1268.43,
          1268.43,
          1268.43,
          1285,
          1285,
          1285
         ],
         "yaxis": "y"
        },
        {
         "name": "Producción petroleo",
         "type": "scatter",
         "x": [
          "2020-07-13T00:00:00",
          "2020-08-20T00:00:00",
          "2020-09-22T00:00:00",
          "2020-10-20T00:00:00",
          "2020-11-26T00:00:00",
          "2020-12-29T00:00:00",
          "2021-01-19T00:00:00",
          "2021-02-25T00:00:00",
          "2021-03-18T00:00:00",
          "2021-04-15T00:00:00",
          "2021-06-22T00:00:00",
          "2021-07-22T00:00:00",
          "2021-08-12T00:00:00",
          "2021-09-16T00:00:00",
          "2021-10-21T00:00:00",
          "2021-11-18T00:00:00",
          "2021-12-21T00:00:00",
          "2022-01-20T00:00:00",
          "2022-02-22T00:00:00",
          "2022-03-25T00:00:00",
          "2022-04-26T00:00:00",
          "2022-05-26T00:00:00",
          "2022-06-28T00:00:00",
          "2022-07-22T00:00:00",
          "2022-08-19T00:00:00",
          "2022-09-27T00:00:00",
          "2022-10-27T00:00:00",
          "2022-11-24T00:00:00",
          "2022-12-30T00:00:00",
          "2023-01-30T00:00:00",
          "2023-03-07T00:00:00",
          "2023-04-06T00:00:00"
         ],
         "xaxis": "x",
         "y": [
          5.6,
          5.6,
          5.6,
          4.2,
          7.3,
          7.3,
          4.6,
          6,
          6,
          6,
          4.1,
          4.1,
          5.8,
          4.7,
          3.9,
          4.4,
          2.9,
          2.9,
          4.5,
          4.6,
          4,
          3.9,
          4.7,
          4.9,
          5.1,
          4.8,
          4.9,
          6,
          4.5,
          2.7,
          2.7,
          2.8
         ],
         "yaxis": "y2"
        }
       ],
       "layout": {
        "template": {
         "data": {
          "bar": [
           {
            "error_x": {
             "color": "#2a3f5f"
            },
            "error_y": {
             "color": "#2a3f5f"
            },
            "marker": {
             "line": {
              "color": "#E5ECF6",
              "width": 0.5
             },
             "pattern": {
              "fillmode": "overlay",
              "size": 10,
              "solidity": 0.2
             }
            },
            "type": "bar"
           }
          ],
          "barpolar": [
           {
            "marker": {
             "line": {
              "color": "#E5ECF6",
              "width": 0.5
             },
             "pattern": {
              "fillmode": "overlay",
              "size": 10,
              "solidity": 0.2
             }
            },
            "type": "barpolar"
           }
          ],
          "carpet": [
           {
            "aaxis": {
             "endlinecolor": "#2a3f5f",
             "gridcolor": "white",
             "linecolor": "white",
             "minorgridcolor": "white",
             "startlinecolor": "#2a3f5f"
            },
            "baxis": {
             "endlinecolor": "#2a3f5f",
             "gridcolor": "white",
             "linecolor": "white",
             "minorgridcolor": "white",
             "startlinecolor": "#2a3f5f"
            },
            "type": "carpet"
           }
          ],
          "choropleth": [
           {
            "colorbar": {
             "outlinewidth": 0,
             "ticks": ""
            },
            "type": "choropleth"
           }
          ],
          "contour": [
           {
            "colorbar": {
             "outlinewidth": 0,
             "ticks": ""
            },
            "colorscale": [
             [
              0,
              "#0d0887"
             ],
             [
              0.1111111111111111,
              "#46039f"
             ],
             [
              0.2222222222222222,
              "#7201a8"
             ],
             [
              0.3333333333333333,
              "#9c179e"
             ],
             [
              0.4444444444444444,
              "#bd3786"
             ],
             [
              0.5555555555555556,
              "#d8576b"
             ],
             [
              0.6666666666666666,
              "#ed7953"
             ],
             [
              0.7777777777777778,
              "#fb9f3a"
             ],
             [
              0.8888888888888888,
              "#fdca26"
             ],
             [
              1,
              "#f0f921"
             ]
            ],
            "type": "contour"
           }
          ],
          "contourcarpet": [
           {
            "colorbar": {
             "outlinewidth": 0,
             "ticks": ""
            },
            "type": "contourcarpet"
           }
          ],
          "heatmap": [
           {
            "colorbar": {
             "outlinewidth": 0,
             "ticks": ""
            },
            "colorscale": [
             [
              0,
              "#0d0887"
             ],
             [
              0.1111111111111111,
              "#46039f"
             ],
             [
              0.2222222222222222,
              "#7201a8"
             ],
             [
              0.3333333333333333,
              "#9c179e"
             ],
             [
              0.4444444444444444,
              "#bd3786"
             ],
             [
              0.5555555555555556,
              "#d8576b"
             ],
             [
              0.6666666666666666,
              "#ed7953"
             ],
             [
              0.7777777777777778,
              "#fb9f3a"
             ],
             [
              0.8888888888888888,
              "#fdca26"
             ],
             [
              1,
              "#f0f921"
             ]
            ],
            "type": "heatmap"
           }
          ],
          "heatmapgl": [
           {
            "colorbar": {
             "outlinewidth": 0,
             "ticks": ""
            },
            "colorscale": [
             [
              0,
              "#0d0887"
             ],
             [
              0.1111111111111111,
              "#46039f"
             ],
             [
              0.2222222222222222,
              "#7201a8"
             ],
             [
              0.3333333333333333,
              "#9c179e"
             ],
             [
              0.4444444444444444,
              "#bd3786"
             ],
             [
              0.5555555555555556,
              "#d8576b"
             ],
             [
              0.6666666666666666,
              "#ed7953"
             ],
             [
              0.7777777777777778,
              "#fb9f3a"
             ],
             [
              0.8888888888888888,
              "#fdca26"
             ],
             [
              1,
              "#f0f921"
             ]
            ],
            "type": "heatmapgl"
           }
          ],
          "histogram": [
           {
            "marker": {
             "pattern": {
              "fillmode": "overlay",
              "size": 10,
              "solidity": 0.2
             }
            },
            "type": "histogram"
           }
          ],
          "histogram2d": [
           {
            "colorbar": {
             "outlinewidth": 0,
             "ticks": ""
            },
            "colorscale": [
             [
              0,
              "#0d0887"
             ],
             [
              0.1111111111111111,
              "#46039f"
             ],
             [
              0.2222222222222222,
              "#7201a8"
             ],
             [
              0.3333333333333333,
              "#9c179e"
             ],
             [
              0.4444444444444444,
              "#bd3786"
             ],
             [
              0.5555555555555556,
              "#d8576b"
             ],
             [
              0.6666666666666666,
              "#ed7953"
             ],
             [
              0.7777777777777778,
              "#fb9f3a"
             ],
             [
              0.8888888888888888,
              "#fdca26"
             ],
             [
              1,
              "#f0f921"
             ]
            ],
            "type": "histogram2d"
           }
          ],
          "histogram2dcontour": [
           {
            "colorbar": {
             "outlinewidth": 0,
             "ticks": ""
            },
            "colorscale": [
             [
              0,
              "#0d0887"
             ],
             [
              0.1111111111111111,
              "#46039f"
             ],
             [
              0.2222222222222222,
              "#7201a8"
             ],
             [
              0.3333333333333333,
              "#9c179e"
             ],
             [
              0.4444444444444444,
              "#bd3786"
             ],
             [
              0.5555555555555556,
              "#d8576b"
             ],
             [
              0.6666666666666666,
              "#ed7953"
             ],
             [
              0.7777777777777778,
              "#fb9f3a"
             ],
             [
              0.8888888888888888,
              "#fdca26"
             ],
             [
              1,
              "#f0f921"
             ]
            ],
            "type": "histogram2dcontour"
           }
          ],
          "mesh3d": [
           {
            "colorbar": {
             "outlinewidth": 0,
             "ticks": ""
            },
            "type": "mesh3d"
           }
          ],
          "parcoords": [
           {
            "line": {
             "colorbar": {
              "outlinewidth": 0,
              "ticks": ""
             }
            },
            "type": "parcoords"
           }
          ],
          "pie": [
           {
            "automargin": true,
            "type": "pie"
           }
          ],
          "scatter": [
           {
            "fillpattern": {
             "fillmode": "overlay",
             "size": 10,
             "solidity": 0.2
            },
            "type": "scatter"
           }
          ],
          "scatter3d": [
           {
            "line": {
             "colorbar": {
              "outlinewidth": 0,
              "ticks": ""
             }
            },
            "marker": {
             "colorbar": {
              "outlinewidth": 0,
              "ticks": ""
             }
            },
            "type": "scatter3d"
           }
          ],
          "scattercarpet": [
           {
            "marker": {
             "colorbar": {
              "outlinewidth": 0,
              "ticks": ""
             }
            },
            "type": "scattercarpet"
           }
          ],
          "scattergeo": [
           {
            "marker": {
             "colorbar": {
              "outlinewidth": 0,
              "ticks": ""
             }
            },
            "type": "scattergeo"
           }
          ],
          "scattergl": [
           {
            "marker": {
             "colorbar": {
              "outlinewidth": 0,
              "ticks": ""
             }
            },
            "type": "scattergl"
           }
          ],
          "scattermapbox": [
           {
            "marker": {
             "colorbar": {
              "outlinewidth": 0,
              "ticks": ""
             }
            },
            "type": "scattermapbox"
           }
          ],
          "scatterpolar": [
           {
            "marker": {
             "colorbar": {
              "outlinewidth": 0,
              "ticks": ""
             }
            },
            "type": "scatterpolar"
           }
          ],
          "scatterpolargl": [
           {
            "marker": {
             "colorbar": {
              "outlinewidth": 0,
              "ticks": ""
             }
            },
            "type": "scatterpolargl"
           }
          ],
          "scatterternary": [
           {
            "marker": {
             "colorbar": {
              "outlinewidth": 0,
              "ticks": ""
             }
            },
            "type": "scatterternary"
           }
          ],
          "surface": [
           {
            "colorbar": {
             "outlinewidth": 0,
             "ticks": ""
            },
            "colorscale": [
             [
              0,
              "#0d0887"
             ],
             [
              0.1111111111111111,
              "#46039f"
             ],
             [
              0.2222222222222222,
              "#7201a8"
             ],
             [
              0.3333333333333333,
              "#9c179e"
             ],
             [
              0.4444444444444444,
              "#bd3786"
             ],
             [
              0.5555555555555556,
              "#d8576b"
             ],
             [
              0.6666666666666666,
              "#ed7953"
             ],
             [
              0.7777777777777778,
              "#fb9f3a"
             ],
             [
              0.8888888888888888,
              "#fdca26"
             ],
             [
              1,
              "#f0f921"
             ]
            ],
            "type": "surface"
           }
          ],
          "table": [
           {
            "cells": {
             "fill": {
              "color": "#EBF0F8"
             },
             "line": {
              "color": "white"
             }
            },
            "header": {
             "fill": {
              "color": "#C8D4E3"
             },
             "line": {
              "color": "white"
             }
            },
            "type": "table"
           }
          ]
         },
         "layout": {
          "annotationdefaults": {
           "arrowcolor": "#2a3f5f",
           "arrowhead": 0,
           "arrowwidth": 1
          },
          "autotypenumbers": "strict",
          "coloraxis": {
           "colorbar": {
            "outlinewidth": 0,
            "ticks": ""
           }
          },
          "colorscale": {
           "diverging": [
            [
             0,
             "#8e0152"
            ],
            [
             0.1,
             "#c51b7d"
            ],
            [
             0.2,
             "#de77ae"
            ],
            [
             0.3,
             "#f1b6da"
            ],
            [
             0.4,
             "#fde0ef"
            ],
            [
             0.5,
             "#f7f7f7"
            ],
            [
             0.6,
             "#e6f5d0"
            ],
            [
             0.7,
             "#b8e186"
            ],
            [
             0.8,
             "#7fbc41"
            ],
            [
             0.9,
             "#4d9221"
            ],
            [
             1,
             "#276419"
            ]
           ],
           "sequential": [
            [
             0,
             "#0d0887"
            ],
            [
             0.1111111111111111,
             "#46039f"
            ],
            [
             0.2222222222222222,
             "#7201a8"
            ],
            [
             0.3333333333333333,
             "#9c179e"
            ],
            [
             0.4444444444444444,
             "#bd3786"
            ],
            [
             0.5555555555555556,
             "#d8576b"
            ],
            [
             0.6666666666666666,
             "#ed7953"
            ],
            [
             0.7777777777777778,
             "#fb9f3a"
            ],
            [
             0.8888888888888888,
             "#fdca26"
            ],
            [
             1,
             "#f0f921"
            ]
           ],
           "sequentialminus": [
            [
             0,
             "#0d0887"
            ],
            [
             0.1111111111111111,
             "#46039f"
            ],
            [
             0.2222222222222222,
             "#7201a8"
            ],
            [
             0.3333333333333333,
             "#9c179e"
            ],
            [
             0.4444444444444444,
             "#bd3786"
            ],
            [
             0.5555555555555556,
             "#d8576b"
            ],
            [
             0.6666666666666666,
             "#ed7953"
            ],
            [
             0.7777777777777778,
             "#fb9f3a"
            ],
            [
             0.8888888888888888,
             "#fdca26"
            ],
            [
             1,
             "#f0f921"
            ]
           ]
          },
          "colorway": [
           "#636efa",
           "#EF553B",
           "#00cc96",
           "#ab63fa",
           "#FFA15A",
           "#19d3f3",
           "#FF6692",
           "#B6E880",
           "#FF97FF",
           "#FECB52"
          ],
          "font": {
           "color": "#2a3f5f"
          },
          "geo": {
           "bgcolor": "white",
           "lakecolor": "white",
           "landcolor": "#E5ECF6",
           "showlakes": true,
           "showland": true,
           "subunitcolor": "white"
          },
          "hoverlabel": {
           "align": "left"
          },
          "hovermode": "closest",
          "mapbox": {
           "style": "light"
          },
          "paper_bgcolor": "white",
          "plot_bgcolor": "#E5ECF6",
          "polar": {
           "angularaxis": {
            "gridcolor": "white",
            "linecolor": "white",
            "ticks": ""
           },
           "bgcolor": "#E5ECF6",
           "radialaxis": {
            "gridcolor": "white",
            "linecolor": "white",
            "ticks": ""
           }
          },
          "scene": {
           "xaxis": {
            "backgroundcolor": "#E5ECF6",
            "gridcolor": "white",
            "gridwidth": 2,
            "linecolor": "white",
            "showbackground": true,
            "ticks": "",
            "zerolinecolor": "white"
           },
           "yaxis": {
            "backgroundcolor": "#E5ECF6",
            "gridcolor": "white",
            "gridwidth": 2,
            "linecolor": "white",
            "showbackground": true,
            "ticks": "",
            "zerolinecolor": "white"
           },
           "zaxis": {
            "backgroundcolor": "#E5ECF6",
            "gridcolor": "white",
            "gridwidth": 2,
            "linecolor": "white",
            "showbackground": true,
            "ticks": "",
            "zerolinecolor": "white"
           }
          },
          "shapedefaults": {
           "line": {
            "color": "#2a3f5f"
           }
          },
          "ternary": {
           "aaxis": {
            "gridcolor": "white",
            "linecolor": "white",
            "ticks": ""
           },
           "baxis": {
            "gridcolor": "white",
            "linecolor": "white",
            "ticks": ""
           },
           "bgcolor": "#E5ECF6",
           "caxis": {
            "gridcolor": "white",
            "linecolor": "white",
            "ticks": ""
           }
          },
          "title": {
           "x": 0.05
          },
          "xaxis": {
           "automargin": true,
           "gridcolor": "white",
           "linecolor": "white",
           "ticks": "",
           "title": {
            "standoff": 15
           },
           "zerolinecolor": "white",
           "zerolinewidth": 2
          },
          "yaxis": {
           "automargin": true,
           "gridcolor": "white",
           "linecolor": "white",
           "ticks": "",
           "title": {
            "standoff": 15
           },
           "zerolinecolor": "white",
           "zerolinewidth": 2
          }
         }
        },
        "xaxis": {
         "anchor": "y",
         "domain": [
          0,
          0.94
         ],
         "title": {
          "text": "Fecha"
         }
        },
        "yaxis": {
         "anchor": "x",
         "domain": [
          0,
          1
         ],
         "title": {
          "text": "Profundidad"
         }
        },
        "yaxis2": {
         "anchor": "x",
         "overlaying": "y",
         "side": "right",
         "title": {
          "text": "Producción"
         }
        }
       }
      },
      "text/html": [
       "<div>                            <div id=\"52778c18-14bb-4346-95f0-0f3dad28b5ed\" class=\"plotly-graph-div\" style=\"height:525px; width:100%;\"></div>            <script type=\"text/javascript\">                require([\"plotly\"], function(Plotly) {                    window.PLOTLYENV=window.PLOTLYENV || {};                                    if (document.getElementById(\"52778c18-14bb-4346-95f0-0f3dad28b5ed\")) {                    Plotly.newPlot(                        \"52778c18-14bb-4346-95f0-0f3dad28b5ed\",                        [{\"name\":\"Profundidad bomba\",\"x\":[\"2020-07-13T00:00:00\",\"2020-08-20T00:00:00\",\"2020-09-22T00:00:00\",\"2020-10-20T00:00:00\",\"2020-11-26T00:00:00\",\"2020-12-29T00:00:00\",\"2021-01-19T00:00:00\",\"2021-02-25T00:00:00\",\"2021-03-18T00:00:00\",\"2021-04-15T00:00:00\",\"2021-06-22T00:00:00\",\"2021-07-22T00:00:00\",\"2021-08-12T00:00:00\",\"2021-09-16T00:00:00\",\"2021-10-21T00:00:00\",\"2021-11-18T00:00:00\",\"2021-12-21T00:00:00\",\"2022-01-20T00:00:00\",\"2022-02-22T00:00:00\",\"2022-03-25T00:00:00\",\"2022-04-26T00:00:00\",\"2022-05-26T00:00:00\",\"2022-06-28T00:00:00\",\"2022-07-22T00:00:00\",\"2022-08-19T00:00:00\",\"2022-09-27T00:00:00\",\"2022-10-27T00:00:00\",\"2022-11-24T00:00:00\",\"2022-12-30T00:00:00\",\"2023-01-30T00:00:00\",\"2023-03-07T00:00:00\",\"2023-04-06T00:00:00\"],\"y\":[1288.0,1288.0,1288.0,1288.34,1288.34,1288.34,1288.34,1288.34,1288.34,1288.34,1288.34,1288.34,1288.34,1288.34,1288.34,1288.34,1288.34,1268.43,1268.43,1268.43,1268.43,1268.43,1268.43,1268.43,1268.43,1268.43,1268.43,1268.43,1268.43,1285.0,1285.0,1285.0],\"type\":\"scatter\",\"xaxis\":\"x\",\"yaxis\":\"y\"},{\"name\":\"Producci\\u00f3n petroleo\",\"x\":[\"2020-07-13T00:00:00\",\"2020-08-20T00:00:00\",\"2020-09-22T00:00:00\",\"2020-10-20T00:00:00\",\"2020-11-26T00:00:00\",\"2020-12-29T00:00:00\",\"2021-01-19T00:00:00\",\"2021-02-25T00:00:00\",\"2021-03-18T00:00:00\",\"2021-04-15T00:00:00\",\"2021-06-22T00:00:00\",\"2021-07-22T00:00:00\",\"2021-08-12T00:00:00\",\"2021-09-16T00:00:00\",\"2021-10-21T00:00:00\",\"2021-11-18T00:00:00\",\"2021-12-21T00:00:00\",\"2022-01-20T00:00:00\",\"2022-02-22T00:00:00\",\"2022-03-25T00:00:00\",\"2022-04-26T00:00:00\",\"2022-05-26T00:00:00\",\"2022-06-28T00:00:00\",\"2022-07-22T00:00:00\",\"2022-08-19T00:00:00\",\"2022-09-27T00:00:00\",\"2022-10-27T00:00:00\",\"2022-11-24T00:00:00\",\"2022-12-30T00:00:00\",\"2023-01-30T00:00:00\",\"2023-03-07T00:00:00\",\"2023-04-06T00:00:00\"],\"y\":[5.6,5.6,5.6,4.2,7.3,7.3,4.6,6.0,6.0,6.0,4.1,4.1,5.8,4.7,3.9,4.4,2.9,2.9,4.5,4.6,4.0,3.9,4.7,4.9,5.1,4.8,4.9,6.0,4.5,2.7,2.7,2.8],\"type\":\"scatter\",\"xaxis\":\"x\",\"yaxis\":\"y2\"}],                        {\"template\":{\"data\":{\"histogram2dcontour\":[{\"type\":\"histogram2dcontour\",\"colorbar\":{\"outlinewidth\":0,\"ticks\":\"\"},\"colorscale\":[[0.0,\"#0d0887\"],[0.1111111111111111,\"#46039f\"],[0.2222222222222222,\"#7201a8\"],[0.3333333333333333,\"#9c179e\"],[0.4444444444444444,\"#bd3786\"],[0.5555555555555556,\"#d8576b\"],[0.6666666666666666,\"#ed7953\"],[0.7777777777777778,\"#fb9f3a\"],[0.8888888888888888,\"#fdca26\"],[1.0,\"#f0f921\"]]}],\"choropleth\":[{\"type\":\"choropleth\",\"colorbar\":{\"outlinewidth\":0,\"ticks\":\"\"}}],\"histogram2d\":[{\"type\":\"histogram2d\",\"colorbar\":{\"outlinewidth\":0,\"ticks\":\"\"},\"colorscale\":[[0.0,\"#0d0887\"],[0.1111111111111111,\"#46039f\"],[0.2222222222222222,\"#7201a8\"],[0.3333333333333333,\"#9c179e\"],[0.4444444444444444,\"#bd3786\"],[0.5555555555555556,\"#d8576b\"],[0.6666666666666666,\"#ed7953\"],[0.7777777777777778,\"#fb9f3a\"],[0.8888888888888888,\"#fdca26\"],[1.0,\"#f0f921\"]]}],\"heatmap\":[{\"type\":\"heatmap\",\"colorbar\":{\"outlinewidth\":0,\"ticks\":\"\"},\"colorscale\":[[0.0,\"#0d0887\"],[0.1111111111111111,\"#46039f\"],[0.2222222222222222,\"#7201a8\"],[0.3333333333333333,\"#9c179e\"],[0.4444444444444444,\"#bd3786\"],[0.5555555555555556,\"#d8576b\"],[0.6666666666666666,\"#ed7953\"],[0.7777777777777778,\"#fb9f3a\"],[0.8888888888888888,\"#fdca26\"],[1.0,\"#f0f921\"]]}],\"heatmapgl\":[{\"type\":\"heatmapgl\",\"colorbar\":{\"outlinewidth\":0,\"ticks\":\"\"},\"colorscale\":[[0.0,\"#0d0887\"],[0.1111111111111111,\"#46039f\"],[0.2222222222222222,\"#7201a8\"],[0.3333333333333333,\"#9c179e\"],[0.4444444444444444,\"#bd3786\"],[0.5555555555555556,\"#d8576b\"],[0.6666666666666666,\"#ed7953\"],[0.7777777777777778,\"#fb9f3a\"],[0.8888888888888888,\"#fdca26\"],[1.0,\"#f0f921\"]]}],\"contourcarpet\":[{\"type\":\"contourcarpet\",\"colorbar\":{\"outlinewidth\":0,\"ticks\":\"\"}}],\"contour\":[{\"type\":\"contour\",\"colorbar\":{\"outlinewidth\":0,\"ticks\":\"\"},\"colorscale\":[[0.0,\"#0d0887\"],[0.1111111111111111,\"#46039f\"],[0.2222222222222222,\"#7201a8\"],[0.3333333333333333,\"#9c179e\"],[0.4444444444444444,\"#bd3786\"],[0.5555555555555556,\"#d8576b\"],[0.6666666666666666,\"#ed7953\"],[0.7777777777777778,\"#fb9f3a\"],[0.8888888888888888,\"#fdca26\"],[1.0,\"#f0f921\"]]}],\"surface\":[{\"type\":\"surface\",\"colorbar\":{\"outlinewidth\":0,\"ticks\":\"\"},\"colorscale\":[[0.0,\"#0d0887\"],[0.1111111111111111,\"#46039f\"],[0.2222222222222222,\"#7201a8\"],[0.3333333333333333,\"#9c179e\"],[0.4444444444444444,\"#bd3786\"],[0.5555555555555556,\"#d8576b\"],[0.6666666666666666,\"#ed7953\"],[0.7777777777777778,\"#fb9f3a\"],[0.8888888888888888,\"#fdca26\"],[1.0,\"#f0f921\"]]}],\"mesh3d\":[{\"type\":\"mesh3d\",\"colorbar\":{\"outlinewidth\":0,\"ticks\":\"\"}}],\"scatter\":[{\"fillpattern\":{\"fillmode\":\"overlay\",\"size\":10,\"solidity\":0.2},\"type\":\"scatter\"}],\"parcoords\":[{\"type\":\"parcoords\",\"line\":{\"colorbar\":{\"outlinewidth\":0,\"ticks\":\"\"}}}],\"scatterpolargl\":[{\"type\":\"scatterpolargl\",\"marker\":{\"colorbar\":{\"outlinewidth\":0,\"ticks\":\"\"}}}],\"bar\":[{\"error_x\":{\"color\":\"#2a3f5f\"},\"error_y\":{\"color\":\"#2a3f5f\"},\"marker\":{\"line\":{\"color\":\"#E5ECF6\",\"width\":0.5},\"pattern\":{\"fillmode\":\"overlay\",\"size\":10,\"solidity\":0.2}},\"type\":\"bar\"}],\"scattergeo\":[{\"type\":\"scattergeo\",\"marker\":{\"colorbar\":{\"outlinewidth\":0,\"ticks\":\"\"}}}],\"scatterpolar\":[{\"type\":\"scatterpolar\",\"marker\":{\"colorbar\":{\"outlinewidth\":0,\"ticks\":\"\"}}}],\"histogram\":[{\"marker\":{\"pattern\":{\"fillmode\":\"overlay\",\"size\":10,\"solidity\":0.2}},\"type\":\"histogram\"}],\"scattergl\":[{\"type\":\"scattergl\",\"marker\":{\"colorbar\":{\"outlinewidth\":0,\"ticks\":\"\"}}}],\"scatter3d\":[{\"type\":\"scatter3d\",\"line\":{\"colorbar\":{\"outlinewidth\":0,\"ticks\":\"\"}},\"marker\":{\"colorbar\":{\"outlinewidth\":0,\"ticks\":\"\"}}}],\"scattermapbox\":[{\"type\":\"scattermapbox\",\"marker\":{\"colorbar\":{\"outlinewidth\":0,\"ticks\":\"\"}}}],\"scatterternary\":[{\"type\":\"scatterternary\",\"marker\":{\"colorbar\":{\"outlinewidth\":0,\"ticks\":\"\"}}}],\"scattercarpet\":[{\"type\":\"scattercarpet\",\"marker\":{\"colorbar\":{\"outlinewidth\":0,\"ticks\":\"\"}}}],\"carpet\":[{\"aaxis\":{\"endlinecolor\":\"#2a3f5f\",\"gridcolor\":\"white\",\"linecolor\":\"white\",\"minorgridcolor\":\"white\",\"startlinecolor\":\"#2a3f5f\"},\"baxis\":{\"endlinecolor\":\"#2a3f5f\",\"gridcolor\":\"white\",\"linecolor\":\"white\",\"minorgridcolor\":\"white\",\"startlinecolor\":\"#2a3f5f\"},\"type\":\"carpet\"}],\"table\":[{\"cells\":{\"fill\":{\"color\":\"#EBF0F8\"},\"line\":{\"color\":\"white\"}},\"header\":{\"fill\":{\"color\":\"#C8D4E3\"},\"line\":{\"color\":\"white\"}},\"type\":\"table\"}],\"barpolar\":[{\"marker\":{\"line\":{\"color\":\"#E5ECF6\",\"width\":0.5},\"pattern\":{\"fillmode\":\"overlay\",\"size\":10,\"solidity\":0.2}},\"type\":\"barpolar\"}],\"pie\":[{\"automargin\":true,\"type\":\"pie\"}]},\"layout\":{\"autotypenumbers\":\"strict\",\"colorway\":[\"#636efa\",\"#EF553B\",\"#00cc96\",\"#ab63fa\",\"#FFA15A\",\"#19d3f3\",\"#FF6692\",\"#B6E880\",\"#FF97FF\",\"#FECB52\"],\"font\":{\"color\":\"#2a3f5f\"},\"hovermode\":\"closest\",\"hoverlabel\":{\"align\":\"left\"},\"paper_bgcolor\":\"white\",\"plot_bgcolor\":\"#E5ECF6\",\"polar\":{\"bgcolor\":\"#E5ECF6\",\"angularaxis\":{\"gridcolor\":\"white\",\"linecolor\":\"white\",\"ticks\":\"\"},\"radialaxis\":{\"gridcolor\":\"white\",\"linecolor\":\"white\",\"ticks\":\"\"}},\"ternary\":{\"bgcolor\":\"#E5ECF6\",\"aaxis\":{\"gridcolor\":\"white\",\"linecolor\":\"white\",\"ticks\":\"\"},\"baxis\":{\"gridcolor\":\"white\",\"linecolor\":\"white\",\"ticks\":\"\"},\"caxis\":{\"gridcolor\":\"white\",\"linecolor\":\"white\",\"ticks\":\"\"}},\"coloraxis\":{\"colorbar\":{\"outlinewidth\":0,\"ticks\":\"\"}},\"colorscale\":{\"sequential\":[[0.0,\"#0d0887\"],[0.1111111111111111,\"#46039f\"],[0.2222222222222222,\"#7201a8\"],[0.3333333333333333,\"#9c179e\"],[0.4444444444444444,\"#bd3786\"],[0.5555555555555556,\"#d8576b\"],[0.6666666666666666,\"#ed7953\"],[0.7777777777777778,\"#fb9f3a\"],[0.8888888888888888,\"#fdca26\"],[1.0,\"#f0f921\"]],\"sequentialminus\":[[0.0,\"#0d0887\"],[0.1111111111111111,\"#46039f\"],[0.2222222222222222,\"#7201a8\"],[0.3333333333333333,\"#9c179e\"],[0.4444444444444444,\"#bd3786\"],[0.5555555555555556,\"#d8576b\"],[0.6666666666666666,\"#ed7953\"],[0.7777777777777778,\"#fb9f3a\"],[0.8888888888888888,\"#fdca26\"],[1.0,\"#f0f921\"]],\"diverging\":[[0,\"#8e0152\"],[0.1,\"#c51b7d\"],[0.2,\"#de77ae\"],[0.3,\"#f1b6da\"],[0.4,\"#fde0ef\"],[0.5,\"#f7f7f7\"],[0.6,\"#e6f5d0\"],[0.7,\"#b8e186\"],[0.8,\"#7fbc41\"],[0.9,\"#4d9221\"],[1,\"#276419\"]]},\"xaxis\":{\"gridcolor\":\"white\",\"linecolor\":\"white\",\"ticks\":\"\",\"title\":{\"standoff\":15},\"zerolinecolor\":\"white\",\"automargin\":true,\"zerolinewidth\":2},\"yaxis\":{\"gridcolor\":\"white\",\"linecolor\":\"white\",\"ticks\":\"\",\"title\":{\"standoff\":15},\"zerolinecolor\":\"white\",\"automargin\":true,\"zerolinewidth\":2},\"scene\":{\"xaxis\":{\"backgroundcolor\":\"#E5ECF6\",\"gridcolor\":\"white\",\"linecolor\":\"white\",\"showbackground\":true,\"ticks\":\"\",\"zerolinecolor\":\"white\",\"gridwidth\":2},\"yaxis\":{\"backgroundcolor\":\"#E5ECF6\",\"gridcolor\":\"white\",\"linecolor\":\"white\",\"showbackground\":true,\"ticks\":\"\",\"zerolinecolor\":\"white\",\"gridwidth\":2},\"zaxis\":{\"backgroundcolor\":\"#E5ECF6\",\"gridcolor\":\"white\",\"linecolor\":\"white\",\"showbackground\":true,\"ticks\":\"\",\"zerolinecolor\":\"white\",\"gridwidth\":2}},\"shapedefaults\":{\"line\":{\"color\":\"#2a3f5f\"}},\"annotationdefaults\":{\"arrowcolor\":\"#2a3f5f\",\"arrowhead\":0,\"arrowwidth\":1},\"geo\":{\"bgcolor\":\"white\",\"landcolor\":\"#E5ECF6\",\"subunitcolor\":\"white\",\"showland\":true,\"showlakes\":true,\"lakecolor\":\"white\"},\"title\":{\"x\":0.05},\"mapbox\":{\"style\":\"light\"}}},\"xaxis\":{\"anchor\":\"y\",\"domain\":[0.0,0.94],\"title\":{\"text\":\"Fecha\"}},\"yaxis\":{\"anchor\":\"x\",\"domain\":[0.0,1.0],\"title\":{\"text\":\"Profundidad\"}},\"yaxis2\":{\"anchor\":\"x\",\"overlaying\":\"y\",\"side\":\"right\",\"title\":{\"text\":\"Producci\\u00f3n\"}}},                        {\"responsive\": true}                    ).then(function(){\n",
       "                            \n",
       "var gd = document.getElementById('52778c18-14bb-4346-95f0-0f3dad28b5ed');\n",
       "var x = new MutationObserver(function (mutations, observer) {{\n",
       "        var display = window.getComputedStyle(gd).display;\n",
       "        if (!display || display === 'none') {{\n",
       "            console.log([gd, 'removed!']);\n",
       "            Plotly.purge(gd);\n",
       "            observer.disconnect();\n",
       "        }}\n",
       "}});\n",
       "\n",
       "// Listen for the removal of the full notebook cells\n",
       "var notebookContainer = gd.closest('#notebook-container');\n",
       "if (notebookContainer) {{\n",
       "    x.observe(notebookContainer, {childList: true});\n",
       "}}\n",
       "\n",
       "// Listen for the clearing of the current output cell\n",
       "var outputEl = gd.closest('.output');\n",
       "if (outputEl) {{\n",
       "    x.observe(outputEl, {childList: true});\n",
       "}}\n",
       "\n",
       "                        })                };                });            </script>        </div>"
      ]
     },
     "metadata": {},
     "output_type": "display_data"
    },
    {
     "data": {
      "application/vnd.plotly.v1+json": {
       "config": {
        "plotlyServerURL": "https://plot.ly"
       },
       "data": [
        {
         "name": "Presión dinámica",
         "type": "scatter",
         "x": [
          "2020-07-13T00:00:00",
          "2020-08-20T00:00:00",
          "2020-09-22T00:00:00",
          "2020-10-20T00:00:00",
          "2020-11-26T00:00:00",
          "2020-12-29T00:00:00",
          "2021-01-19T00:00:00",
          "2021-02-25T00:00:00",
          "2021-03-18T00:00:00",
          "2021-04-15T00:00:00",
          "2021-06-22T00:00:00",
          "2021-07-22T00:00:00",
          "2021-08-12T00:00:00",
          "2021-09-16T00:00:00",
          "2021-10-21T00:00:00",
          "2021-11-18T00:00:00",
          "2021-12-21T00:00:00",
          "2022-01-20T00:00:00",
          "2022-02-22T00:00:00",
          "2022-03-25T00:00:00",
          "2022-04-26T00:00:00",
          "2022-05-26T00:00:00",
          "2022-06-28T00:00:00",
          "2022-07-22T00:00:00",
          "2022-08-19T00:00:00",
          "2022-09-27T00:00:00",
          "2022-10-27T00:00:00",
          "2022-11-24T00:00:00",
          "2022-12-30T00:00:00",
          "2023-01-30T00:00:00",
          "2023-03-07T00:00:00",
          "2023-04-06T00:00:00"
         ],
         "xaxis": "x",
         "y": [
          427,
          454,
          334,
          430,
          415,
          409,
          293,
          397,
          399,
          415,
          457,
          352,
          407,
          459,
          456,
          403,
          499,
          443,
          491,
          369,
          340,
          306,
          299,
          308,
          325,
          267,
          120,
          249,
          224,
          262,
          118,
          242
         ],
         "yaxis": "y"
        },
        {
         "name": "Presión interface",
         "type": "scatter",
         "x": [
          "2020-07-13T00:00:00",
          "2020-08-20T00:00:00",
          "2020-09-22T00:00:00",
          "2020-10-20T00:00:00",
          "2020-11-26T00:00:00",
          "2020-12-29T00:00:00",
          "2021-01-19T00:00:00",
          "2021-02-25T00:00:00",
          "2021-03-18T00:00:00",
          "2021-04-15T00:00:00",
          "2021-06-22T00:00:00",
          "2021-07-22T00:00:00",
          "2021-08-12T00:00:00",
          "2021-09-16T00:00:00",
          "2021-10-21T00:00:00",
          "2021-11-18T00:00:00",
          "2021-12-21T00:00:00",
          "2022-01-20T00:00:00",
          "2022-02-22T00:00:00",
          "2022-03-25T00:00:00",
          "2022-04-26T00:00:00",
          "2022-05-26T00:00:00",
          "2022-06-28T00:00:00",
          "2022-07-22T00:00:00",
          "2022-08-19T00:00:00",
          "2022-09-27T00:00:00",
          "2022-10-27T00:00:00",
          "2022-11-24T00:00:00",
          "2022-12-30T00:00:00",
          "2023-01-30T00:00:00",
          "2023-03-07T00:00:00",
          "2023-04-06T00:00:00"
         ],
         "xaxis": "x",
         "y": [
          1,
          2,
          1,
          1,
          2,
          1,
          1,
          1,
          2,
          2,
          2,
          2,
          2,
          2,
          2,
          2,
          2,
          2,
          1,
          2,
          2,
          2,
          2,
          2,
          2,
          2,
          2,
          2,
          2,
          2,
          2,
          2
         ],
         "yaxis": "y"
        },
        {
         "name": "Velocidad del sonido",
         "type": "scatter",
         "x": [
          "2020-07-13T00:00:00",
          "2020-08-20T00:00:00",
          "2020-09-22T00:00:00",
          "2020-10-20T00:00:00",
          "2020-11-26T00:00:00",
          "2020-12-29T00:00:00",
          "2021-01-19T00:00:00",
          "2021-02-25T00:00:00",
          "2021-03-18T00:00:00",
          "2021-04-15T00:00:00",
          "2021-06-22T00:00:00",
          "2021-07-22T00:00:00",
          "2021-08-12T00:00:00",
          "2021-09-16T00:00:00",
          "2021-10-21T00:00:00",
          "2021-11-18T00:00:00",
          "2021-12-21T00:00:00",
          "2022-01-20T00:00:00",
          "2022-02-22T00:00:00",
          "2022-03-25T00:00:00",
          "2022-04-26T00:00:00",
          "2022-05-26T00:00:00",
          "2022-06-28T00:00:00",
          "2022-07-22T00:00:00",
          "2022-08-19T00:00:00",
          "2022-09-27T00:00:00",
          "2022-10-27T00:00:00",
          "2022-11-24T00:00:00",
          "2022-12-30T00:00:00",
          "2023-01-30T00:00:00",
          "2023-03-07T00:00:00",
          "2023-04-06T00:00:00"
         ],
         "xaxis": "x",
         "y": [
          403,
          419,
          403,
          407,
          416,
          413,
          428,
          407,
          411,
          412,
          425,
          424,
          4969,
          420,
          422,
          410,
          398,
          415,
          384,
          407,
          414,
          416,
          418,
          391,
          429,
          425,
          350,
          434,
          418,
          424,
          385,
          433
         ],
         "yaxis": "y2"
        }
       ],
       "layout": {
        "template": {
         "data": {
          "bar": [
           {
            "error_x": {
             "color": "#2a3f5f"
            },
            "error_y": {
             "color": "#2a3f5f"
            },
            "marker": {
             "line": {
              "color": "#E5ECF6",
              "width": 0.5
             },
             "pattern": {
              "fillmode": "overlay",
              "size": 10,
              "solidity": 0.2
             }
            },
            "type": "bar"
           }
          ],
          "barpolar": [
           {
            "marker": {
             "line": {
              "color": "#E5ECF6",
              "width": 0.5
             },
             "pattern": {
              "fillmode": "overlay",
              "size": 10,
              "solidity": 0.2
             }
            },
            "type": "barpolar"
           }
          ],
          "carpet": [
           {
            "aaxis": {
             "endlinecolor": "#2a3f5f",
             "gridcolor": "white",
             "linecolor": "white",
             "minorgridcolor": "white",
             "startlinecolor": "#2a3f5f"
            },
            "baxis": {
             "endlinecolor": "#2a3f5f",
             "gridcolor": "white",
             "linecolor": "white",
             "minorgridcolor": "white",
             "startlinecolor": "#2a3f5f"
            },
            "type": "carpet"
           }
          ],
          "choropleth": [
           {
            "colorbar": {
             "outlinewidth": 0,
             "ticks": ""
            },
            "type": "choropleth"
           }
          ],
          "contour": [
           {
            "colorbar": {
             "outlinewidth": 0,
             "ticks": ""
            },
            "colorscale": [
             [
              0,
              "#0d0887"
             ],
             [
              0.1111111111111111,
              "#46039f"
             ],
             [
              0.2222222222222222,
              "#7201a8"
             ],
             [
              0.3333333333333333,
              "#9c179e"
             ],
             [
              0.4444444444444444,
              "#bd3786"
             ],
             [
              0.5555555555555556,
              "#d8576b"
             ],
             [
              0.6666666666666666,
              "#ed7953"
             ],
             [
              0.7777777777777778,
              "#fb9f3a"
             ],
             [
              0.8888888888888888,
              "#fdca26"
             ],
             [
              1,
              "#f0f921"
             ]
            ],
            "type": "contour"
           }
          ],
          "contourcarpet": [
           {
            "colorbar": {
             "outlinewidth": 0,
             "ticks": ""
            },
            "type": "contourcarpet"
           }
          ],
          "heatmap": [
           {
            "colorbar": {
             "outlinewidth": 0,
             "ticks": ""
            },
            "colorscale": [
             [
              0,
              "#0d0887"
             ],
             [
              0.1111111111111111,
              "#46039f"
             ],
             [
              0.2222222222222222,
              "#7201a8"
             ],
             [
              0.3333333333333333,
              "#9c179e"
             ],
             [
              0.4444444444444444,
              "#bd3786"
             ],
             [
              0.5555555555555556,
              "#d8576b"
             ],
             [
              0.6666666666666666,
              "#ed7953"
             ],
             [
              0.7777777777777778,
              "#fb9f3a"
             ],
             [
              0.8888888888888888,
              "#fdca26"
             ],
             [
              1,
              "#f0f921"
             ]
            ],
            "type": "heatmap"
           }
          ],
          "heatmapgl": [
           {
            "colorbar": {
             "outlinewidth": 0,
             "ticks": ""
            },
            "colorscale": [
             [
              0,
              "#0d0887"
             ],
             [
              0.1111111111111111,
              "#46039f"
             ],
             [
              0.2222222222222222,
              "#7201a8"
             ],
             [
              0.3333333333333333,
              "#9c179e"
             ],
             [
              0.4444444444444444,
              "#bd3786"
             ],
             [
              0.5555555555555556,
              "#d8576b"
             ],
             [
              0.6666666666666666,
              "#ed7953"
             ],
             [
              0.7777777777777778,
              "#fb9f3a"
             ],
             [
              0.8888888888888888,
              "#fdca26"
             ],
             [
              1,
              "#f0f921"
             ]
            ],
            "type": "heatmapgl"
           }
          ],
          "histogram": [
           {
            "marker": {
             "pattern": {
              "fillmode": "overlay",
              "size": 10,
              "solidity": 0.2
             }
            },
            "type": "histogram"
           }
          ],
          "histogram2d": [
           {
            "colorbar": {
             "outlinewidth": 0,
             "ticks": ""
            },
            "colorscale": [
             [
              0,
              "#0d0887"
             ],
             [
              0.1111111111111111,
              "#46039f"
             ],
             [
              0.2222222222222222,
              "#7201a8"
             ],
             [
              0.3333333333333333,
              "#9c179e"
             ],
             [
              0.4444444444444444,
              "#bd3786"
             ],
             [
              0.5555555555555556,
              "#d8576b"
             ],
             [
              0.6666666666666666,
              "#ed7953"
             ],
             [
              0.7777777777777778,
              "#fb9f3a"
             ],
             [
              0.8888888888888888,
              "#fdca26"
             ],
             [
              1,
              "#f0f921"
             ]
            ],
            "type": "histogram2d"
           }
          ],
          "histogram2dcontour": [
           {
            "colorbar": {
             "outlinewidth": 0,
             "ticks": ""
            },
            "colorscale": [
             [
              0,
              "#0d0887"
             ],
             [
              0.1111111111111111,
              "#46039f"
             ],
             [
              0.2222222222222222,
              "#7201a8"
             ],
             [
              0.3333333333333333,
              "#9c179e"
             ],
             [
              0.4444444444444444,
              "#bd3786"
             ],
             [
              0.5555555555555556,
              "#d8576b"
             ],
             [
              0.6666666666666666,
              "#ed7953"
             ],
             [
              0.7777777777777778,
              "#fb9f3a"
             ],
             [
              0.8888888888888888,
              "#fdca26"
             ],
             [
              1,
              "#f0f921"
             ]
            ],
            "type": "histogram2dcontour"
           }
          ],
          "mesh3d": [
           {
            "colorbar": {
             "outlinewidth": 0,
             "ticks": ""
            },
            "type": "mesh3d"
           }
          ],
          "parcoords": [
           {
            "line": {
             "colorbar": {
              "outlinewidth": 0,
              "ticks": ""
             }
            },
            "type": "parcoords"
           }
          ],
          "pie": [
           {
            "automargin": true,
            "type": "pie"
           }
          ],
          "scatter": [
           {
            "fillpattern": {
             "fillmode": "overlay",
             "size": 10,
             "solidity": 0.2
            },
            "type": "scatter"
           }
          ],
          "scatter3d": [
           {
            "line": {
             "colorbar": {
              "outlinewidth": 0,
              "ticks": ""
             }
            },
            "marker": {
             "colorbar": {
              "outlinewidth": 0,
              "ticks": ""
             }
            },
            "type": "scatter3d"
           }
          ],
          "scattercarpet": [
           {
            "marker": {
             "colorbar": {
              "outlinewidth": 0,
              "ticks": ""
             }
            },
            "type": "scattercarpet"
           }
          ],
          "scattergeo": [
           {
            "marker": {
             "colorbar": {
              "outlinewidth": 0,
              "ticks": ""
             }
            },
            "type": "scattergeo"
           }
          ],
          "scattergl": [
           {
            "marker": {
             "colorbar": {
              "outlinewidth": 0,
              "ticks": ""
             }
            },
            "type": "scattergl"
           }
          ],
          "scattermapbox": [
           {
            "marker": {
             "colorbar": {
              "outlinewidth": 0,
              "ticks": ""
             }
            },
            "type": "scattermapbox"
           }
          ],
          "scatterpolar": [
           {
            "marker": {
             "colorbar": {
              "outlinewidth": 0,
              "ticks": ""
             }
            },
            "type": "scatterpolar"
           }
          ],
          "scatterpolargl": [
           {
            "marker": {
             "colorbar": {
              "outlinewidth": 0,
              "ticks": ""
             }
            },
            "type": "scatterpolargl"
           }
          ],
          "scatterternary": [
           {
            "marker": {
             "colorbar": {
              "outlinewidth": 0,
              "ticks": ""
             }
            },
            "type": "scatterternary"
           }
          ],
          "surface": [
           {
            "colorbar": {
             "outlinewidth": 0,
             "ticks": ""
            },
            "colorscale": [
             [
              0,
              "#0d0887"
             ],
             [
              0.1111111111111111,
              "#46039f"
             ],
             [
              0.2222222222222222,
              "#7201a8"
             ],
             [
              0.3333333333333333,
              "#9c179e"
             ],
             [
              0.4444444444444444,
              "#bd3786"
             ],
             [
              0.5555555555555556,
              "#d8576b"
             ],
             [
              0.6666666666666666,
              "#ed7953"
             ],
             [
              0.7777777777777778,
              "#fb9f3a"
             ],
             [
              0.8888888888888888,
              "#fdca26"
             ],
             [
              1,
              "#f0f921"
             ]
            ],
            "type": "surface"
           }
          ],
          "table": [
           {
            "cells": {
             "fill": {
              "color": "#EBF0F8"
             },
             "line": {
              "color": "white"
             }
            },
            "header": {
             "fill": {
              "color": "#C8D4E3"
             },
             "line": {
              "color": "white"
             }
            },
            "type": "table"
           }
          ]
         },
         "layout": {
          "annotationdefaults": {
           "arrowcolor": "#2a3f5f",
           "arrowhead": 0,
           "arrowwidth": 1
          },
          "autotypenumbers": "strict",
          "coloraxis": {
           "colorbar": {
            "outlinewidth": 0,
            "ticks": ""
           }
          },
          "colorscale": {
           "diverging": [
            [
             0,
             "#8e0152"
            ],
            [
             0.1,
             "#c51b7d"
            ],
            [
             0.2,
             "#de77ae"
            ],
            [
             0.3,
             "#f1b6da"
            ],
            [
             0.4,
             "#fde0ef"
            ],
            [
             0.5,
             "#f7f7f7"
            ],
            [
             0.6,
             "#e6f5d0"
            ],
            [
             0.7,
             "#b8e186"
            ],
            [
             0.8,
             "#7fbc41"
            ],
            [
             0.9,
             "#4d9221"
            ],
            [
             1,
             "#276419"
            ]
           ],
           "sequential": [
            [
             0,
             "#0d0887"
            ],
            [
             0.1111111111111111,
             "#46039f"
            ],
            [
             0.2222222222222222,
             "#7201a8"
            ],
            [
             0.3333333333333333,
             "#9c179e"
            ],
            [
             0.4444444444444444,
             "#bd3786"
            ],
            [
             0.5555555555555556,
             "#d8576b"
            ],
            [
             0.6666666666666666,
             "#ed7953"
            ],
            [
             0.7777777777777778,
             "#fb9f3a"
            ],
            [
             0.8888888888888888,
             "#fdca26"
            ],
            [
             1,
             "#f0f921"
            ]
           ],
           "sequentialminus": [
            [
             0,
             "#0d0887"
            ],
            [
             0.1111111111111111,
             "#46039f"
            ],
            [
             0.2222222222222222,
             "#7201a8"
            ],
            [
             0.3333333333333333,
             "#9c179e"
            ],
            [
             0.4444444444444444,
             "#bd3786"
            ],
            [
             0.5555555555555556,
             "#d8576b"
            ],
            [
             0.6666666666666666,
             "#ed7953"
            ],
            [
             0.7777777777777778,
             "#fb9f3a"
            ],
            [
             0.8888888888888888,
             "#fdca26"
            ],
            [
             1,
             "#f0f921"
            ]
           ]
          },
          "colorway": [
           "#636efa",
           "#EF553B",
           "#00cc96",
           "#ab63fa",
           "#FFA15A",
           "#19d3f3",
           "#FF6692",
           "#B6E880",
           "#FF97FF",
           "#FECB52"
          ],
          "font": {
           "color": "#2a3f5f"
          },
          "geo": {
           "bgcolor": "white",
           "lakecolor": "white",
           "landcolor": "#E5ECF6",
           "showlakes": true,
           "showland": true,
           "subunitcolor": "white"
          },
          "hoverlabel": {
           "align": "left"
          },
          "hovermode": "closest",
          "mapbox": {
           "style": "light"
          },
          "paper_bgcolor": "white",
          "plot_bgcolor": "#E5ECF6",
          "polar": {
           "angularaxis": {
            "gridcolor": "white",
            "linecolor": "white",
            "ticks": ""
           },
           "bgcolor": "#E5ECF6",
           "radialaxis": {
            "gridcolor": "white",
            "linecolor": "white",
            "ticks": ""
           }
          },
          "scene": {
           "xaxis": {
            "backgroundcolor": "#E5ECF6",
            "gridcolor": "white",
            "gridwidth": 2,
            "linecolor": "white",
            "showbackground": true,
            "ticks": "",
            "zerolinecolor": "white"
           },
           "yaxis": {
            "backgroundcolor": "#E5ECF6",
            "gridcolor": "white",
            "gridwidth": 2,
            "linecolor": "white",
            "showbackground": true,
            "ticks": "",
            "zerolinecolor": "white"
           },
           "zaxis": {
            "backgroundcolor": "#E5ECF6",
            "gridcolor": "white",
            "gridwidth": 2,
            "linecolor": "white",
            "showbackground": true,
            "ticks": "",
            "zerolinecolor": "white"
           }
          },
          "shapedefaults": {
           "line": {
            "color": "#2a3f5f"
           }
          },
          "ternary": {
           "aaxis": {
            "gridcolor": "white",
            "linecolor": "white",
            "ticks": ""
           },
           "baxis": {
            "gridcolor": "white",
            "linecolor": "white",
            "ticks": ""
           },
           "bgcolor": "#E5ECF6",
           "caxis": {
            "gridcolor": "white",
            "linecolor": "white",
            "ticks": ""
           }
          },
          "title": {
           "x": 0.05
          },
          "xaxis": {
           "automargin": true,
           "gridcolor": "white",
           "linecolor": "white",
           "ticks": "",
           "title": {
            "standoff": 15
           },
           "zerolinecolor": "white",
           "zerolinewidth": 2
          },
          "yaxis": {
           "automargin": true,
           "gridcolor": "white",
           "linecolor": "white",
           "ticks": "",
           "title": {
            "standoff": 15
           },
           "zerolinecolor": "white",
           "zerolinewidth": 2
          }
         }
        },
        "xaxis": {
         "anchor": "y",
         "domain": [
          0,
          0.94
         ],
         "title": {
          "text": "Fecha"
         }
        },
        "yaxis": {
         "anchor": "x",
         "domain": [
          0,
          1
         ],
         "title": {
          "text": "Presión"
         }
        },
        "yaxis2": {
         "anchor": "x",
         "overlaying": "y",
         "side": "right",
         "title": {
          "text": "Velocidad"
         }
        }
       }
      },
      "text/html": [
       "<div>                            <div id=\"d2bfe482-d2bf-413f-a310-9ff752f3fced\" class=\"plotly-graph-div\" style=\"height:525px; width:100%;\"></div>            <script type=\"text/javascript\">                require([\"plotly\"], function(Plotly) {                    window.PLOTLYENV=window.PLOTLYENV || {};                                    if (document.getElementById(\"d2bfe482-d2bf-413f-a310-9ff752f3fced\")) {                    Plotly.newPlot(                        \"d2bfe482-d2bf-413f-a310-9ff752f3fced\",                        [{\"name\":\"Presi\\u00f3n din\\u00e1mica\",\"x\":[\"2020-07-13T00:00:00\",\"2020-08-20T00:00:00\",\"2020-09-22T00:00:00\",\"2020-10-20T00:00:00\",\"2020-11-26T00:00:00\",\"2020-12-29T00:00:00\",\"2021-01-19T00:00:00\",\"2021-02-25T00:00:00\",\"2021-03-18T00:00:00\",\"2021-04-15T00:00:00\",\"2021-06-22T00:00:00\",\"2021-07-22T00:00:00\",\"2021-08-12T00:00:00\",\"2021-09-16T00:00:00\",\"2021-10-21T00:00:00\",\"2021-11-18T00:00:00\",\"2021-12-21T00:00:00\",\"2022-01-20T00:00:00\",\"2022-02-22T00:00:00\",\"2022-03-25T00:00:00\",\"2022-04-26T00:00:00\",\"2022-05-26T00:00:00\",\"2022-06-28T00:00:00\",\"2022-07-22T00:00:00\",\"2022-08-19T00:00:00\",\"2022-09-27T00:00:00\",\"2022-10-27T00:00:00\",\"2022-11-24T00:00:00\",\"2022-12-30T00:00:00\",\"2023-01-30T00:00:00\",\"2023-03-07T00:00:00\",\"2023-04-06T00:00:00\"],\"y\":[427,454,334,430,415,409,293,397,399,415,457,352,407,459,456,403,499,443,491,369,340,306,299,308,325,267,120,249,224,262,118,242],\"type\":\"scatter\",\"xaxis\":\"x\",\"yaxis\":\"y\"},{\"name\":\"Presi\\u00f3n interface\",\"x\":[\"2020-07-13T00:00:00\",\"2020-08-20T00:00:00\",\"2020-09-22T00:00:00\",\"2020-10-20T00:00:00\",\"2020-11-26T00:00:00\",\"2020-12-29T00:00:00\",\"2021-01-19T00:00:00\",\"2021-02-25T00:00:00\",\"2021-03-18T00:00:00\",\"2021-04-15T00:00:00\",\"2021-06-22T00:00:00\",\"2021-07-22T00:00:00\",\"2021-08-12T00:00:00\",\"2021-09-16T00:00:00\",\"2021-10-21T00:00:00\",\"2021-11-18T00:00:00\",\"2021-12-21T00:00:00\",\"2022-01-20T00:00:00\",\"2022-02-22T00:00:00\",\"2022-03-25T00:00:00\",\"2022-04-26T00:00:00\",\"2022-05-26T00:00:00\",\"2022-06-28T00:00:00\",\"2022-07-22T00:00:00\",\"2022-08-19T00:00:00\",\"2022-09-27T00:00:00\",\"2022-10-27T00:00:00\",\"2022-11-24T00:00:00\",\"2022-12-30T00:00:00\",\"2023-01-30T00:00:00\",\"2023-03-07T00:00:00\",\"2023-04-06T00:00:00\"],\"y\":[1,2,1,1,2,1,1,1,2,2,2,2,2,2,2,2,2,2,1,2,2,2,2,2,2,2,2,2,2,2,2,2],\"type\":\"scatter\",\"xaxis\":\"x\",\"yaxis\":\"y\"},{\"name\":\"Velocidad del sonido\",\"x\":[\"2020-07-13T00:00:00\",\"2020-08-20T00:00:00\",\"2020-09-22T00:00:00\",\"2020-10-20T00:00:00\",\"2020-11-26T00:00:00\",\"2020-12-29T00:00:00\",\"2021-01-19T00:00:00\",\"2021-02-25T00:00:00\",\"2021-03-18T00:00:00\",\"2021-04-15T00:00:00\",\"2021-06-22T00:00:00\",\"2021-07-22T00:00:00\",\"2021-08-12T00:00:00\",\"2021-09-16T00:00:00\",\"2021-10-21T00:00:00\",\"2021-11-18T00:00:00\",\"2021-12-21T00:00:00\",\"2022-01-20T00:00:00\",\"2022-02-22T00:00:00\",\"2022-03-25T00:00:00\",\"2022-04-26T00:00:00\",\"2022-05-26T00:00:00\",\"2022-06-28T00:00:00\",\"2022-07-22T00:00:00\",\"2022-08-19T00:00:00\",\"2022-09-27T00:00:00\",\"2022-10-27T00:00:00\",\"2022-11-24T00:00:00\",\"2022-12-30T00:00:00\",\"2023-01-30T00:00:00\",\"2023-03-07T00:00:00\",\"2023-04-06T00:00:00\"],\"y\":[403,419,403,407,416,413,428,407,411,412,425,424,4969,420,422,410,398,415,384,407,414,416,418,391,429,425,350,434,418,424,385,433],\"type\":\"scatter\",\"xaxis\":\"x\",\"yaxis\":\"y2\"}],                        {\"template\":{\"data\":{\"histogram2dcontour\":[{\"type\":\"histogram2dcontour\",\"colorbar\":{\"outlinewidth\":0,\"ticks\":\"\"},\"colorscale\":[[0.0,\"#0d0887\"],[0.1111111111111111,\"#46039f\"],[0.2222222222222222,\"#7201a8\"],[0.3333333333333333,\"#9c179e\"],[0.4444444444444444,\"#bd3786\"],[0.5555555555555556,\"#d8576b\"],[0.6666666666666666,\"#ed7953\"],[0.7777777777777778,\"#fb9f3a\"],[0.8888888888888888,\"#fdca26\"],[1.0,\"#f0f921\"]]}],\"choropleth\":[{\"type\":\"choropleth\",\"colorbar\":{\"outlinewidth\":0,\"ticks\":\"\"}}],\"histogram2d\":[{\"type\":\"histogram2d\",\"colorbar\":{\"outlinewidth\":0,\"ticks\":\"\"},\"colorscale\":[[0.0,\"#0d0887\"],[0.1111111111111111,\"#46039f\"],[0.2222222222222222,\"#7201a8\"],[0.3333333333333333,\"#9c179e\"],[0.4444444444444444,\"#bd3786\"],[0.5555555555555556,\"#d8576b\"],[0.6666666666666666,\"#ed7953\"],[0.7777777777777778,\"#fb9f3a\"],[0.8888888888888888,\"#fdca26\"],[1.0,\"#f0f921\"]]}],\"heatmap\":[{\"type\":\"heatmap\",\"colorbar\":{\"outlinewidth\":0,\"ticks\":\"\"},\"colorscale\":[[0.0,\"#0d0887\"],[0.1111111111111111,\"#46039f\"],[0.2222222222222222,\"#7201a8\"],[0.3333333333333333,\"#9c179e\"],[0.4444444444444444,\"#bd3786\"],[0.5555555555555556,\"#d8576b\"],[0.6666666666666666,\"#ed7953\"],[0.7777777777777778,\"#fb9f3a\"],[0.8888888888888888,\"#fdca26\"],[1.0,\"#f0f921\"]]}],\"heatmapgl\":[{\"type\":\"heatmapgl\",\"colorbar\":{\"outlinewidth\":0,\"ticks\":\"\"},\"colorscale\":[[0.0,\"#0d0887\"],[0.1111111111111111,\"#46039f\"],[0.2222222222222222,\"#7201a8\"],[0.3333333333333333,\"#9c179e\"],[0.4444444444444444,\"#bd3786\"],[0.5555555555555556,\"#d8576b\"],[0.6666666666666666,\"#ed7953\"],[0.7777777777777778,\"#fb9f3a\"],[0.8888888888888888,\"#fdca26\"],[1.0,\"#f0f921\"]]}],\"contourcarpet\":[{\"type\":\"contourcarpet\",\"colorbar\":{\"outlinewidth\":0,\"ticks\":\"\"}}],\"contour\":[{\"type\":\"contour\",\"colorbar\":{\"outlinewidth\":0,\"ticks\":\"\"},\"colorscale\":[[0.0,\"#0d0887\"],[0.1111111111111111,\"#46039f\"],[0.2222222222222222,\"#7201a8\"],[0.3333333333333333,\"#9c179e\"],[0.4444444444444444,\"#bd3786\"],[0.5555555555555556,\"#d8576b\"],[0.6666666666666666,\"#ed7953\"],[0.7777777777777778,\"#fb9f3a\"],[0.8888888888888888,\"#fdca26\"],[1.0,\"#f0f921\"]]}],\"surface\":[{\"type\":\"surface\",\"colorbar\":{\"outlinewidth\":0,\"ticks\":\"\"},\"colorscale\":[[0.0,\"#0d0887\"],[0.1111111111111111,\"#46039f\"],[0.2222222222222222,\"#7201a8\"],[0.3333333333333333,\"#9c179e\"],[0.4444444444444444,\"#bd3786\"],[0.5555555555555556,\"#d8576b\"],[0.6666666666666666,\"#ed7953\"],[0.7777777777777778,\"#fb9f3a\"],[0.8888888888888888,\"#fdca26\"],[1.0,\"#f0f921\"]]}],\"mesh3d\":[{\"type\":\"mesh3d\",\"colorbar\":{\"outlinewidth\":0,\"ticks\":\"\"}}],\"scatter\":[{\"fillpattern\":{\"fillmode\":\"overlay\",\"size\":10,\"solidity\":0.2},\"type\":\"scatter\"}],\"parcoords\":[{\"type\":\"parcoords\",\"line\":{\"colorbar\":{\"outlinewidth\":0,\"ticks\":\"\"}}}],\"scatterpolargl\":[{\"type\":\"scatterpolargl\",\"marker\":{\"colorbar\":{\"outlinewidth\":0,\"ticks\":\"\"}}}],\"bar\":[{\"error_x\":{\"color\":\"#2a3f5f\"},\"error_y\":{\"color\":\"#2a3f5f\"},\"marker\":{\"line\":{\"color\":\"#E5ECF6\",\"width\":0.5},\"pattern\":{\"fillmode\":\"overlay\",\"size\":10,\"solidity\":0.2}},\"type\":\"bar\"}],\"scattergeo\":[{\"type\":\"scattergeo\",\"marker\":{\"colorbar\":{\"outlinewidth\":0,\"ticks\":\"\"}}}],\"scatterpolar\":[{\"type\":\"scatterpolar\",\"marker\":{\"colorbar\":{\"outlinewidth\":0,\"ticks\":\"\"}}}],\"histogram\":[{\"marker\":{\"pattern\":{\"fillmode\":\"overlay\",\"size\":10,\"solidity\":0.2}},\"type\":\"histogram\"}],\"scattergl\":[{\"type\":\"scattergl\",\"marker\":{\"colorbar\":{\"outlinewidth\":0,\"ticks\":\"\"}}}],\"scatter3d\":[{\"type\":\"scatter3d\",\"line\":{\"colorbar\":{\"outlinewidth\":0,\"ticks\":\"\"}},\"marker\":{\"colorbar\":{\"outlinewidth\":0,\"ticks\":\"\"}}}],\"scattermapbox\":[{\"type\":\"scattermapbox\",\"marker\":{\"colorbar\":{\"outlinewidth\":0,\"ticks\":\"\"}}}],\"scatterternary\":[{\"type\":\"scatterternary\",\"marker\":{\"colorbar\":{\"outlinewidth\":0,\"ticks\":\"\"}}}],\"scattercarpet\":[{\"type\":\"scattercarpet\",\"marker\":{\"colorbar\":{\"outlinewidth\":0,\"ticks\":\"\"}}}],\"carpet\":[{\"aaxis\":{\"endlinecolor\":\"#2a3f5f\",\"gridcolor\":\"white\",\"linecolor\":\"white\",\"minorgridcolor\":\"white\",\"startlinecolor\":\"#2a3f5f\"},\"baxis\":{\"endlinecolor\":\"#2a3f5f\",\"gridcolor\":\"white\",\"linecolor\":\"white\",\"minorgridcolor\":\"white\",\"startlinecolor\":\"#2a3f5f\"},\"type\":\"carpet\"}],\"table\":[{\"cells\":{\"fill\":{\"color\":\"#EBF0F8\"},\"line\":{\"color\":\"white\"}},\"header\":{\"fill\":{\"color\":\"#C8D4E3\"},\"line\":{\"color\":\"white\"}},\"type\":\"table\"}],\"barpolar\":[{\"marker\":{\"line\":{\"color\":\"#E5ECF6\",\"width\":0.5},\"pattern\":{\"fillmode\":\"overlay\",\"size\":10,\"solidity\":0.2}},\"type\":\"barpolar\"}],\"pie\":[{\"automargin\":true,\"type\":\"pie\"}]},\"layout\":{\"autotypenumbers\":\"strict\",\"colorway\":[\"#636efa\",\"#EF553B\",\"#00cc96\",\"#ab63fa\",\"#FFA15A\",\"#19d3f3\",\"#FF6692\",\"#B6E880\",\"#FF97FF\",\"#FECB52\"],\"font\":{\"color\":\"#2a3f5f\"},\"hovermode\":\"closest\",\"hoverlabel\":{\"align\":\"left\"},\"paper_bgcolor\":\"white\",\"plot_bgcolor\":\"#E5ECF6\",\"polar\":{\"bgcolor\":\"#E5ECF6\",\"angularaxis\":{\"gridcolor\":\"white\",\"linecolor\":\"white\",\"ticks\":\"\"},\"radialaxis\":{\"gridcolor\":\"white\",\"linecolor\":\"white\",\"ticks\":\"\"}},\"ternary\":{\"bgcolor\":\"#E5ECF6\",\"aaxis\":{\"gridcolor\":\"white\",\"linecolor\":\"white\",\"ticks\":\"\"},\"baxis\":{\"gridcolor\":\"white\",\"linecolor\":\"white\",\"ticks\":\"\"},\"caxis\":{\"gridcolor\":\"white\",\"linecolor\":\"white\",\"ticks\":\"\"}},\"coloraxis\":{\"colorbar\":{\"outlinewidth\":0,\"ticks\":\"\"}},\"colorscale\":{\"sequential\":[[0.0,\"#0d0887\"],[0.1111111111111111,\"#46039f\"],[0.2222222222222222,\"#7201a8\"],[0.3333333333333333,\"#9c179e\"],[0.4444444444444444,\"#bd3786\"],[0.5555555555555556,\"#d8576b\"],[0.6666666666666666,\"#ed7953\"],[0.7777777777777778,\"#fb9f3a\"],[0.8888888888888888,\"#fdca26\"],[1.0,\"#f0f921\"]],\"sequentialminus\":[[0.0,\"#0d0887\"],[0.1111111111111111,\"#46039f\"],[0.2222222222222222,\"#7201a8\"],[0.3333333333333333,\"#9c179e\"],[0.4444444444444444,\"#bd3786\"],[0.5555555555555556,\"#d8576b\"],[0.6666666666666666,\"#ed7953\"],[0.7777777777777778,\"#fb9f3a\"],[0.8888888888888888,\"#fdca26\"],[1.0,\"#f0f921\"]],\"diverging\":[[0,\"#8e0152\"],[0.1,\"#c51b7d\"],[0.2,\"#de77ae\"],[0.3,\"#f1b6da\"],[0.4,\"#fde0ef\"],[0.5,\"#f7f7f7\"],[0.6,\"#e6f5d0\"],[0.7,\"#b8e186\"],[0.8,\"#7fbc41\"],[0.9,\"#4d9221\"],[1,\"#276419\"]]},\"xaxis\":{\"gridcolor\":\"white\",\"linecolor\":\"white\",\"ticks\":\"\",\"title\":{\"standoff\":15},\"zerolinecolor\":\"white\",\"automargin\":true,\"zerolinewidth\":2},\"yaxis\":{\"gridcolor\":\"white\",\"linecolor\":\"white\",\"ticks\":\"\",\"title\":{\"standoff\":15},\"zerolinecolor\":\"white\",\"automargin\":true,\"zerolinewidth\":2},\"scene\":{\"xaxis\":{\"backgroundcolor\":\"#E5ECF6\",\"gridcolor\":\"white\",\"linecolor\":\"white\",\"showbackground\":true,\"ticks\":\"\",\"zerolinecolor\":\"white\",\"gridwidth\":2},\"yaxis\":{\"backgroundcolor\":\"#E5ECF6\",\"gridcolor\":\"white\",\"linecolor\":\"white\",\"showbackground\":true,\"ticks\":\"\",\"zerolinecolor\":\"white\",\"gridwidth\":2},\"zaxis\":{\"backgroundcolor\":\"#E5ECF6\",\"gridcolor\":\"white\",\"linecolor\":\"white\",\"showbackground\":true,\"ticks\":\"\",\"zerolinecolor\":\"white\",\"gridwidth\":2}},\"shapedefaults\":{\"line\":{\"color\":\"#2a3f5f\"}},\"annotationdefaults\":{\"arrowcolor\":\"#2a3f5f\",\"arrowhead\":0,\"arrowwidth\":1},\"geo\":{\"bgcolor\":\"white\",\"landcolor\":\"#E5ECF6\",\"subunitcolor\":\"white\",\"showland\":true,\"showlakes\":true,\"lakecolor\":\"white\"},\"title\":{\"x\":0.05},\"mapbox\":{\"style\":\"light\"}}},\"xaxis\":{\"anchor\":\"y\",\"domain\":[0.0,0.94],\"title\":{\"text\":\"Fecha\"}},\"yaxis\":{\"anchor\":\"x\",\"domain\":[0.0,1.0],\"title\":{\"text\":\"Presi\\u00f3n\"}},\"yaxis2\":{\"anchor\":\"x\",\"overlaying\":\"y\",\"side\":\"right\",\"title\":{\"text\":\"Velocidad\"}}},                        {\"responsive\": true}                    ).then(function(){\n",
       "                            \n",
       "var gd = document.getElementById('d2bfe482-d2bf-413f-a310-9ff752f3fced');\n",
       "var x = new MutationObserver(function (mutations, observer) {{\n",
       "        var display = window.getComputedStyle(gd).display;\n",
       "        if (!display || display === 'none') {{\n",
       "            console.log([gd, 'removed!']);\n",
       "            Plotly.purge(gd);\n",
       "            observer.disconnect();\n",
       "        }}\n",
       "}});\n",
       "\n",
       "// Listen for the removal of the full notebook cells\n",
       "var notebookContainer = gd.closest('#notebook-container');\n",
       "if (notebookContainer) {{\n",
       "    x.observe(notebookContainer, {childList: true});\n",
       "}}\n",
       "\n",
       "// Listen for the clearing of the current output cell\n",
       "var outputEl = gd.closest('.output');\n",
       "if (outputEl) {{\n",
       "    x.observe(outputEl, {childList: true});\n",
       "}}\n",
       "\n",
       "                        })                };                });            </script>        </div>"
      ]
     },
     "metadata": {},
     "output_type": "display_data"
    }
   ],
   "source": [
    "plot_well_behaviour('L 109', df)"
   ]
  },
  {
   "cell_type": "code",
   "execution_count": 17,
   "id": "a2ef6d52",
   "metadata": {
    "ExecuteTime": {
     "end_time": "2023-10-23T19:45:50.273735Z",
     "start_time": "2023-10-23T19:45:50.197465Z"
    }
   },
   "outputs": [
    {
     "data": {
      "application/vnd.plotly.v1+json": {
       "config": {
        "plotlyServerURL": "https://plot.ly"
       },
       "data": [
        {
         "name": "Profundidad gas",
         "type": "scatter",
         "x": [
          "2020-07-07T00:00:00",
          "2020-08-18T00:00:00",
          "2020-09-15T00:00:00",
          "2020-10-13T00:00:00",
          "2020-11-20T00:00:00",
          "2020-12-22T00:00:00",
          "2021-01-14T00:00:00",
          "2021-02-23T00:00:00",
          "2021-03-16T00:00:00",
          "2021-05-27T00:00:00",
          "2021-06-16T00:00:00",
          "2021-07-19T00:00:00",
          "2021-08-10T00:00:00",
          "2021-09-16T00:00:00",
          "2021-10-19T00:00:00",
          "2021-11-16T00:00:00",
          "2021-12-15T00:00:00",
          "2022-01-18T00:00:00",
          "2022-01-20T00:00:00",
          "2022-02-22T00:00:00",
          "2022-03-17T00:00:00",
          "2022-05-19T00:00:00",
          "2022-06-23T00:00:00",
          "2022-07-21T00:00:00",
          "2022-08-17T00:00:00",
          "2022-09-26T00:00:00",
          "2022-10-20T00:00:00",
          "2022-11-22T00:00:00",
          "2022-12-30T00:00:00",
          "2023-01-26T00:00:00",
          "2023-02-27T00:00:00",
          "2023-04-04T00:00:00"
         ],
         "xaxis": "x",
         "y": [
          908,
          932,
          825,
          801,
          780,
          1136,
          1218,
          1247,
          1276,
          1333,
          1174,
          1268,
          1287,
          1229,
          1203,
          1387,
          1373,
          1369,
          1395,
          1400,
          1398,
          1301,
          1287,
          1269,
          1288,
          1333,
          1341,
          1400,
          1391,
          1353,
          1412,
          1403
         ],
         "yaxis": "y"
        },
        {
         "name": "Profundidad niveles",
         "type": "scatter",
         "x": [
          "2020-07-07T00:00:00",
          "2020-08-18T00:00:00",
          "2020-09-15T00:00:00",
          "2020-10-13T00:00:00",
          "2020-11-20T00:00:00",
          "2020-12-22T00:00:00",
          "2021-01-14T00:00:00",
          "2021-02-23T00:00:00",
          "2021-03-16T00:00:00",
          "2021-05-27T00:00:00",
          "2021-06-16T00:00:00",
          "2021-07-19T00:00:00",
          "2021-08-10T00:00:00",
          "2021-09-16T00:00:00",
          "2021-10-19T00:00:00",
          "2021-11-16T00:00:00",
          "2021-12-15T00:00:00",
          "2022-01-18T00:00:00",
          "2022-01-20T00:00:00",
          "2022-02-22T00:00:00",
          "2022-03-17T00:00:00",
          "2022-05-19T00:00:00",
          "2022-06-23T00:00:00",
          "2022-07-21T00:00:00",
          "2022-08-17T00:00:00",
          "2022-09-26T00:00:00",
          "2022-10-20T00:00:00",
          "2022-11-22T00:00:00",
          "2022-12-30T00:00:00",
          "2023-01-26T00:00:00",
          "2023-02-27T00:00:00",
          "2023-04-04T00:00:00"
         ],
         "xaxis": "x",
         "y": [
          1293,
          1257,
          1291,
          1287,
          1236,
          1362,
          1391,
          1285,
          1371,
          1355,
          1249,
          1365,
          1387,
          1391,
          1370,
          1415,
          1424,
          1412,
          1432,
          1430,
          1422,
          1358,
          1406,
          1373,
          1403,
          1358,
          1367,
          1412,
          1432,
          1396,
          1430,
          1436
         ],
         "yaxis": "y"
        },
        {
         "name": "Profundidad bomba",
         "type": "scatter",
         "x": [
          "2020-07-07T00:00:00",
          "2020-08-18T00:00:00",
          "2020-09-15T00:00:00",
          "2020-10-13T00:00:00",
          "2020-11-20T00:00:00",
          "2020-12-22T00:00:00",
          "2021-01-14T00:00:00",
          "2021-02-23T00:00:00",
          "2021-03-16T00:00:00",
          "2021-05-27T00:00:00",
          "2021-06-16T00:00:00",
          "2021-07-19T00:00:00",
          "2021-08-10T00:00:00",
          "2021-09-16T00:00:00",
          "2021-10-19T00:00:00",
          "2021-11-16T00:00:00",
          "2021-12-15T00:00:00",
          "2022-01-18T00:00:00",
          "2022-01-20T00:00:00",
          "2022-02-22T00:00:00",
          "2022-03-17T00:00:00",
          "2022-05-19T00:00:00",
          "2022-06-23T00:00:00",
          "2022-07-21T00:00:00",
          "2022-08-17T00:00:00",
          "2022-09-26T00:00:00",
          "2022-10-20T00:00:00",
          "2022-11-22T00:00:00",
          "2022-12-30T00:00:00",
          "2023-01-26T00:00:00",
          "2023-02-27T00:00:00",
          "2023-04-04T00:00:00"
         ],
         "xaxis": "x",
         "y": [
          1456.78,
          1456.78,
          1456.78,
          1456.78,
          1456.78,
          1456.78,
          1456.78,
          1456.78,
          1456.78,
          1454.49,
          1454.49,
          1454.49,
          1454.49,
          1454.49,
          1454.49,
          1454.49,
          1454.49,
          1454.49,
          1454.49,
          1454.49,
          1454.49,
          1454.49,
          1454.49,
          1454.49,
          1454.49,
          1454.49,
          1454.49,
          1454.49,
          1454.49,
          1454.49,
          1454.49,
          1454.49
         ],
         "yaxis": "y"
        },
        {
         "name": "Velocidad del sonido",
         "type": "scatter",
         "x": [
          "2020-07-07T00:00:00",
          "2020-08-18T00:00:00",
          "2020-09-15T00:00:00",
          "2020-10-13T00:00:00",
          "2020-11-20T00:00:00",
          "2020-12-22T00:00:00",
          "2021-01-14T00:00:00",
          "2021-02-23T00:00:00",
          "2021-03-16T00:00:00",
          "2021-05-27T00:00:00",
          "2021-06-16T00:00:00",
          "2021-07-19T00:00:00",
          "2021-08-10T00:00:00",
          "2021-09-16T00:00:00",
          "2021-10-19T00:00:00",
          "2021-11-16T00:00:00",
          "2021-12-15T00:00:00",
          "2022-01-18T00:00:00",
          "2022-01-20T00:00:00",
          "2022-02-22T00:00:00",
          "2022-03-17T00:00:00",
          "2022-05-19T00:00:00",
          "2022-06-23T00:00:00",
          "2022-07-21T00:00:00",
          "2022-08-17T00:00:00",
          "2022-09-26T00:00:00",
          "2022-10-20T00:00:00",
          "2022-11-22T00:00:00",
          "2022-12-30T00:00:00",
          "2023-01-26T00:00:00",
          "2023-02-27T00:00:00",
          "2023-04-04T00:00:00"
         ],
         "xaxis": "x",
         "y": [
          438,
          428,
          420,
          380,
          355,
          433,
          367,
          350,
          355,
          374,
          399,
          394,
          420,
          415,
          431,
          400,
          402,
          405,
          409,
          399,
          401,
          427,
          393,
          391,
          414,
          394,
          388,
          402,
          389,
          401,
          349,
          390
         ],
         "yaxis": "y2"
        }
       ],
       "layout": {
        "template": {
         "data": {
          "bar": [
           {
            "error_x": {
             "color": "#2a3f5f"
            },
            "error_y": {
             "color": "#2a3f5f"
            },
            "marker": {
             "line": {
              "color": "#E5ECF6",
              "width": 0.5
             },
             "pattern": {
              "fillmode": "overlay",
              "size": 10,
              "solidity": 0.2
             }
            },
            "type": "bar"
           }
          ],
          "barpolar": [
           {
            "marker": {
             "line": {
              "color": "#E5ECF6",
              "width": 0.5
             },
             "pattern": {
              "fillmode": "overlay",
              "size": 10,
              "solidity": 0.2
             }
            },
            "type": "barpolar"
           }
          ],
          "carpet": [
           {
            "aaxis": {
             "endlinecolor": "#2a3f5f",
             "gridcolor": "white",
             "linecolor": "white",
             "minorgridcolor": "white",
             "startlinecolor": "#2a3f5f"
            },
            "baxis": {
             "endlinecolor": "#2a3f5f",
             "gridcolor": "white",
             "linecolor": "white",
             "minorgridcolor": "white",
             "startlinecolor": "#2a3f5f"
            },
            "type": "carpet"
           }
          ],
          "choropleth": [
           {
            "colorbar": {
             "outlinewidth": 0,
             "ticks": ""
            },
            "type": "choropleth"
           }
          ],
          "contour": [
           {
            "colorbar": {
             "outlinewidth": 0,
             "ticks": ""
            },
            "colorscale": [
             [
              0,
              "#0d0887"
             ],
             [
              0.1111111111111111,
              "#46039f"
             ],
             [
              0.2222222222222222,
              "#7201a8"
             ],
             [
              0.3333333333333333,
              "#9c179e"
             ],
             [
              0.4444444444444444,
              "#bd3786"
             ],
             [
              0.5555555555555556,
              "#d8576b"
             ],
             [
              0.6666666666666666,
              "#ed7953"
             ],
             [
              0.7777777777777778,
              "#fb9f3a"
             ],
             [
              0.8888888888888888,
              "#fdca26"
             ],
             [
              1,
              "#f0f921"
             ]
            ],
            "type": "contour"
           }
          ],
          "contourcarpet": [
           {
            "colorbar": {
             "outlinewidth": 0,
             "ticks": ""
            },
            "type": "contourcarpet"
           }
          ],
          "heatmap": [
           {
            "colorbar": {
             "outlinewidth": 0,
             "ticks": ""
            },
            "colorscale": [
             [
              0,
              "#0d0887"
             ],
             [
              0.1111111111111111,
              "#46039f"
             ],
             [
              0.2222222222222222,
              "#7201a8"
             ],
             [
              0.3333333333333333,
              "#9c179e"
             ],
             [
              0.4444444444444444,
              "#bd3786"
             ],
             [
              0.5555555555555556,
              "#d8576b"
             ],
             [
              0.6666666666666666,
              "#ed7953"
             ],
             [
              0.7777777777777778,
              "#fb9f3a"
             ],
             [
              0.8888888888888888,
              "#fdca26"
             ],
             [
              1,
              "#f0f921"
             ]
            ],
            "type": "heatmap"
           }
          ],
          "heatmapgl": [
           {
            "colorbar": {
             "outlinewidth": 0,
             "ticks": ""
            },
            "colorscale": [
             [
              0,
              "#0d0887"
             ],
             [
              0.1111111111111111,
              "#46039f"
             ],
             [
              0.2222222222222222,
              "#7201a8"
             ],
             [
              0.3333333333333333,
              "#9c179e"
             ],
             [
              0.4444444444444444,
              "#bd3786"
             ],
             [
              0.5555555555555556,
              "#d8576b"
             ],
             [
              0.6666666666666666,
              "#ed7953"
             ],
             [
              0.7777777777777778,
              "#fb9f3a"
             ],
             [
              0.8888888888888888,
              "#fdca26"
             ],
             [
              1,
              "#f0f921"
             ]
            ],
            "type": "heatmapgl"
           }
          ],
          "histogram": [
           {
            "marker": {
             "pattern": {
              "fillmode": "overlay",
              "size": 10,
              "solidity": 0.2
             }
            },
            "type": "histogram"
           }
          ],
          "histogram2d": [
           {
            "colorbar": {
             "outlinewidth": 0,
             "ticks": ""
            },
            "colorscale": [
             [
              0,
              "#0d0887"
             ],
             [
              0.1111111111111111,
              "#46039f"
             ],
             [
              0.2222222222222222,
              "#7201a8"
             ],
             [
              0.3333333333333333,
              "#9c179e"
             ],
             [
              0.4444444444444444,
              "#bd3786"
             ],
             [
              0.5555555555555556,
              "#d8576b"
             ],
             [
              0.6666666666666666,
              "#ed7953"
             ],
             [
              0.7777777777777778,
              "#fb9f3a"
             ],
             [
              0.8888888888888888,
              "#fdca26"
             ],
             [
              1,
              "#f0f921"
             ]
            ],
            "type": "histogram2d"
           }
          ],
          "histogram2dcontour": [
           {
            "colorbar": {
             "outlinewidth": 0,
             "ticks": ""
            },
            "colorscale": [
             [
              0,
              "#0d0887"
             ],
             [
              0.1111111111111111,
              "#46039f"
             ],
             [
              0.2222222222222222,
              "#7201a8"
             ],
             [
              0.3333333333333333,
              "#9c179e"
             ],
             [
              0.4444444444444444,
              "#bd3786"
             ],
             [
              0.5555555555555556,
              "#d8576b"
             ],
             [
              0.6666666666666666,
              "#ed7953"
             ],
             [
              0.7777777777777778,
              "#fb9f3a"
             ],
             [
              0.8888888888888888,
              "#fdca26"
             ],
             [
              1,
              "#f0f921"
             ]
            ],
            "type": "histogram2dcontour"
           }
          ],
          "mesh3d": [
           {
            "colorbar": {
             "outlinewidth": 0,
             "ticks": ""
            },
            "type": "mesh3d"
           }
          ],
          "parcoords": [
           {
            "line": {
             "colorbar": {
              "outlinewidth": 0,
              "ticks": ""
             }
            },
            "type": "parcoords"
           }
          ],
          "pie": [
           {
            "automargin": true,
            "type": "pie"
           }
          ],
          "scatter": [
           {
            "fillpattern": {
             "fillmode": "overlay",
             "size": 10,
             "solidity": 0.2
            },
            "type": "scatter"
           }
          ],
          "scatter3d": [
           {
            "line": {
             "colorbar": {
              "outlinewidth": 0,
              "ticks": ""
             }
            },
            "marker": {
             "colorbar": {
              "outlinewidth": 0,
              "ticks": ""
             }
            },
            "type": "scatter3d"
           }
          ],
          "scattercarpet": [
           {
            "marker": {
             "colorbar": {
              "outlinewidth": 0,
              "ticks": ""
             }
            },
            "type": "scattercarpet"
           }
          ],
          "scattergeo": [
           {
            "marker": {
             "colorbar": {
              "outlinewidth": 0,
              "ticks": ""
             }
            },
            "type": "scattergeo"
           }
          ],
          "scattergl": [
           {
            "marker": {
             "colorbar": {
              "outlinewidth": 0,
              "ticks": ""
             }
            },
            "type": "scattergl"
           }
          ],
          "scattermapbox": [
           {
            "marker": {
             "colorbar": {
              "outlinewidth": 0,
              "ticks": ""
             }
            },
            "type": "scattermapbox"
           }
          ],
          "scatterpolar": [
           {
            "marker": {
             "colorbar": {
              "outlinewidth": 0,
              "ticks": ""
             }
            },
            "type": "scatterpolar"
           }
          ],
          "scatterpolargl": [
           {
            "marker": {
             "colorbar": {
              "outlinewidth": 0,
              "ticks": ""
             }
            },
            "type": "scatterpolargl"
           }
          ],
          "scatterternary": [
           {
            "marker": {
             "colorbar": {
              "outlinewidth": 0,
              "ticks": ""
             }
            },
            "type": "scatterternary"
           }
          ],
          "surface": [
           {
            "colorbar": {
             "outlinewidth": 0,
             "ticks": ""
            },
            "colorscale": [
             [
              0,
              "#0d0887"
             ],
             [
              0.1111111111111111,
              "#46039f"
             ],
             [
              0.2222222222222222,
              "#7201a8"
             ],
             [
              0.3333333333333333,
              "#9c179e"
             ],
             [
              0.4444444444444444,
              "#bd3786"
             ],
             [
              0.5555555555555556,
              "#d8576b"
             ],
             [
              0.6666666666666666,
              "#ed7953"
             ],
             [
              0.7777777777777778,
              "#fb9f3a"
             ],
             [
              0.8888888888888888,
              "#fdca26"
             ],
             [
              1,
              "#f0f921"
             ]
            ],
            "type": "surface"
           }
          ],
          "table": [
           {
            "cells": {
             "fill": {
              "color": "#EBF0F8"
             },
             "line": {
              "color": "white"
             }
            },
            "header": {
             "fill": {
              "color": "#C8D4E3"
             },
             "line": {
              "color": "white"
             }
            },
            "type": "table"
           }
          ]
         },
         "layout": {
          "annotationdefaults": {
           "arrowcolor": "#2a3f5f",
           "arrowhead": 0,
           "arrowwidth": 1
          },
          "autotypenumbers": "strict",
          "coloraxis": {
           "colorbar": {
            "outlinewidth": 0,
            "ticks": ""
           }
          },
          "colorscale": {
           "diverging": [
            [
             0,
             "#8e0152"
            ],
            [
             0.1,
             "#c51b7d"
            ],
            [
             0.2,
             "#de77ae"
            ],
            [
             0.3,
             "#f1b6da"
            ],
            [
             0.4,
             "#fde0ef"
            ],
            [
             0.5,
             "#f7f7f7"
            ],
            [
             0.6,
             "#e6f5d0"
            ],
            [
             0.7,
             "#b8e186"
            ],
            [
             0.8,
             "#7fbc41"
            ],
            [
             0.9,
             "#4d9221"
            ],
            [
             1,
             "#276419"
            ]
           ],
           "sequential": [
            [
             0,
             "#0d0887"
            ],
            [
             0.1111111111111111,
             "#46039f"
            ],
            [
             0.2222222222222222,
             "#7201a8"
            ],
            [
             0.3333333333333333,
             "#9c179e"
            ],
            [
             0.4444444444444444,
             "#bd3786"
            ],
            [
             0.5555555555555556,
             "#d8576b"
            ],
            [
             0.6666666666666666,
             "#ed7953"
            ],
            [
             0.7777777777777778,
             "#fb9f3a"
            ],
            [
             0.8888888888888888,
             "#fdca26"
            ],
            [
             1,
             "#f0f921"
            ]
           ],
           "sequentialminus": [
            [
             0,
             "#0d0887"
            ],
            [
             0.1111111111111111,
             "#46039f"
            ],
            [
             0.2222222222222222,
             "#7201a8"
            ],
            [
             0.3333333333333333,
             "#9c179e"
            ],
            [
             0.4444444444444444,
             "#bd3786"
            ],
            [
             0.5555555555555556,
             "#d8576b"
            ],
            [
             0.6666666666666666,
             "#ed7953"
            ],
            [
             0.7777777777777778,
             "#fb9f3a"
            ],
            [
             0.8888888888888888,
             "#fdca26"
            ],
            [
             1,
             "#f0f921"
            ]
           ]
          },
          "colorway": [
           "#636efa",
           "#EF553B",
           "#00cc96",
           "#ab63fa",
           "#FFA15A",
           "#19d3f3",
           "#FF6692",
           "#B6E880",
           "#FF97FF",
           "#FECB52"
          ],
          "font": {
           "color": "#2a3f5f"
          },
          "geo": {
           "bgcolor": "white",
           "lakecolor": "white",
           "landcolor": "#E5ECF6",
           "showlakes": true,
           "showland": true,
           "subunitcolor": "white"
          },
          "hoverlabel": {
           "align": "left"
          },
          "hovermode": "closest",
          "mapbox": {
           "style": "light"
          },
          "paper_bgcolor": "white",
          "plot_bgcolor": "#E5ECF6",
          "polar": {
           "angularaxis": {
            "gridcolor": "white",
            "linecolor": "white",
            "ticks": ""
           },
           "bgcolor": "#E5ECF6",
           "radialaxis": {
            "gridcolor": "white",
            "linecolor": "white",
            "ticks": ""
           }
          },
          "scene": {
           "xaxis": {
            "backgroundcolor": "#E5ECF6",
            "gridcolor": "white",
            "gridwidth": 2,
            "linecolor": "white",
            "showbackground": true,
            "ticks": "",
            "zerolinecolor": "white"
           },
           "yaxis": {
            "backgroundcolor": "#E5ECF6",
            "gridcolor": "white",
            "gridwidth": 2,
            "linecolor": "white",
            "showbackground": true,
            "ticks": "",
            "zerolinecolor": "white"
           },
           "zaxis": {
            "backgroundcolor": "#E5ECF6",
            "gridcolor": "white",
            "gridwidth": 2,
            "linecolor": "white",
            "showbackground": true,
            "ticks": "",
            "zerolinecolor": "white"
           }
          },
          "shapedefaults": {
           "line": {
            "color": "#2a3f5f"
           }
          },
          "ternary": {
           "aaxis": {
            "gridcolor": "white",
            "linecolor": "white",
            "ticks": ""
           },
           "baxis": {
            "gridcolor": "white",
            "linecolor": "white",
            "ticks": ""
           },
           "bgcolor": "#E5ECF6",
           "caxis": {
            "gridcolor": "white",
            "linecolor": "white",
            "ticks": ""
           }
          },
          "title": {
           "x": 0.05
          },
          "xaxis": {
           "automargin": true,
           "gridcolor": "white",
           "linecolor": "white",
           "ticks": "",
           "title": {
            "standoff": 15
           },
           "zerolinecolor": "white",
           "zerolinewidth": 2
          },
          "yaxis": {
           "automargin": true,
           "gridcolor": "white",
           "linecolor": "white",
           "ticks": "",
           "title": {
            "standoff": 15
           },
           "zerolinecolor": "white",
           "zerolinewidth": 2
          }
         }
        },
        "title": {
         "text": "Análisis de la evolución de diferentes variables del pozo H 129"
        },
        "xaxis": {
         "anchor": "y",
         "domain": [
          0,
          0.94
         ],
         "title": {
          "text": "Fecha"
         }
        },
        "yaxis": {
         "anchor": "x",
         "domain": [
          0,
          1
         ],
         "title": {
          "text": "Profundidad"
         }
        },
        "yaxis2": {
         "anchor": "x",
         "overlaying": "y",
         "side": "right",
         "title": {
          "text": "Velocidad"
         }
        }
       }
      },
      "text/html": [
       "<div>                            <div id=\"71666f75-fc25-4d0a-a4cb-adfff2836dac\" class=\"plotly-graph-div\" style=\"height:525px; width:100%;\"></div>            <script type=\"text/javascript\">                require([\"plotly\"], function(Plotly) {                    window.PLOTLYENV=window.PLOTLYENV || {};                                    if (document.getElementById(\"71666f75-fc25-4d0a-a4cb-adfff2836dac\")) {                    Plotly.newPlot(                        \"71666f75-fc25-4d0a-a4cb-adfff2836dac\",                        [{\"name\":\"Profundidad gas\",\"x\":[\"2020-07-07T00:00:00\",\"2020-08-18T00:00:00\",\"2020-09-15T00:00:00\",\"2020-10-13T00:00:00\",\"2020-11-20T00:00:00\",\"2020-12-22T00:00:00\",\"2021-01-14T00:00:00\",\"2021-02-23T00:00:00\",\"2021-03-16T00:00:00\",\"2021-05-27T00:00:00\",\"2021-06-16T00:00:00\",\"2021-07-19T00:00:00\",\"2021-08-10T00:00:00\",\"2021-09-16T00:00:00\",\"2021-10-19T00:00:00\",\"2021-11-16T00:00:00\",\"2021-12-15T00:00:00\",\"2022-01-18T00:00:00\",\"2022-01-20T00:00:00\",\"2022-02-22T00:00:00\",\"2022-03-17T00:00:00\",\"2022-05-19T00:00:00\",\"2022-06-23T00:00:00\",\"2022-07-21T00:00:00\",\"2022-08-17T00:00:00\",\"2022-09-26T00:00:00\",\"2022-10-20T00:00:00\",\"2022-11-22T00:00:00\",\"2022-12-30T00:00:00\",\"2023-01-26T00:00:00\",\"2023-02-27T00:00:00\",\"2023-04-04T00:00:00\"],\"y\":[908,932,825,801,780,1136,1218,1247,1276,1333,1174,1268,1287,1229,1203,1387,1373,1369,1395,1400,1398,1301,1287,1269,1288,1333,1341,1400,1391,1353,1412,1403],\"type\":\"scatter\",\"xaxis\":\"x\",\"yaxis\":\"y\"},{\"name\":\"Profundidad niveles\",\"x\":[\"2020-07-07T00:00:00\",\"2020-08-18T00:00:00\",\"2020-09-15T00:00:00\",\"2020-10-13T00:00:00\",\"2020-11-20T00:00:00\",\"2020-12-22T00:00:00\",\"2021-01-14T00:00:00\",\"2021-02-23T00:00:00\",\"2021-03-16T00:00:00\",\"2021-05-27T00:00:00\",\"2021-06-16T00:00:00\",\"2021-07-19T00:00:00\",\"2021-08-10T00:00:00\",\"2021-09-16T00:00:00\",\"2021-10-19T00:00:00\",\"2021-11-16T00:00:00\",\"2021-12-15T00:00:00\",\"2022-01-18T00:00:00\",\"2022-01-20T00:00:00\",\"2022-02-22T00:00:00\",\"2022-03-17T00:00:00\",\"2022-05-19T00:00:00\",\"2022-06-23T00:00:00\",\"2022-07-21T00:00:00\",\"2022-08-17T00:00:00\",\"2022-09-26T00:00:00\",\"2022-10-20T00:00:00\",\"2022-11-22T00:00:00\",\"2022-12-30T00:00:00\",\"2023-01-26T00:00:00\",\"2023-02-27T00:00:00\",\"2023-04-04T00:00:00\"],\"y\":[1293,1257,1291,1287,1236,1362,1391,1285,1371,1355,1249,1365,1387,1391,1370,1415,1424,1412,1432,1430,1422,1358,1406,1373,1403,1358,1367,1412,1432,1396,1430,1436],\"type\":\"scatter\",\"xaxis\":\"x\",\"yaxis\":\"y\"},{\"name\":\"Profundidad bomba\",\"x\":[\"2020-07-07T00:00:00\",\"2020-08-18T00:00:00\",\"2020-09-15T00:00:00\",\"2020-10-13T00:00:00\",\"2020-11-20T00:00:00\",\"2020-12-22T00:00:00\",\"2021-01-14T00:00:00\",\"2021-02-23T00:00:00\",\"2021-03-16T00:00:00\",\"2021-05-27T00:00:00\",\"2021-06-16T00:00:00\",\"2021-07-19T00:00:00\",\"2021-08-10T00:00:00\",\"2021-09-16T00:00:00\",\"2021-10-19T00:00:00\",\"2021-11-16T00:00:00\",\"2021-12-15T00:00:00\",\"2022-01-18T00:00:00\",\"2022-01-20T00:00:00\",\"2022-02-22T00:00:00\",\"2022-03-17T00:00:00\",\"2022-05-19T00:00:00\",\"2022-06-23T00:00:00\",\"2022-07-21T00:00:00\",\"2022-08-17T00:00:00\",\"2022-09-26T00:00:00\",\"2022-10-20T00:00:00\",\"2022-11-22T00:00:00\",\"2022-12-30T00:00:00\",\"2023-01-26T00:00:00\",\"2023-02-27T00:00:00\",\"2023-04-04T00:00:00\"],\"y\":[1456.78,1456.78,1456.78,1456.78,1456.78,1456.78,1456.78,1456.78,1456.78,1454.49,1454.49,1454.49,1454.49,1454.49,1454.49,1454.49,1454.49,1454.49,1454.49,1454.49,1454.49,1454.49,1454.49,1454.49,1454.49,1454.49,1454.49,1454.49,1454.49,1454.49,1454.49,1454.49],\"type\":\"scatter\",\"xaxis\":\"x\",\"yaxis\":\"y\"},{\"name\":\"Velocidad del sonido\",\"x\":[\"2020-07-07T00:00:00\",\"2020-08-18T00:00:00\",\"2020-09-15T00:00:00\",\"2020-10-13T00:00:00\",\"2020-11-20T00:00:00\",\"2020-12-22T00:00:00\",\"2021-01-14T00:00:00\",\"2021-02-23T00:00:00\",\"2021-03-16T00:00:00\",\"2021-05-27T00:00:00\",\"2021-06-16T00:00:00\",\"2021-07-19T00:00:00\",\"2021-08-10T00:00:00\",\"2021-09-16T00:00:00\",\"2021-10-19T00:00:00\",\"2021-11-16T00:00:00\",\"2021-12-15T00:00:00\",\"2022-01-18T00:00:00\",\"2022-01-20T00:00:00\",\"2022-02-22T00:00:00\",\"2022-03-17T00:00:00\",\"2022-05-19T00:00:00\",\"2022-06-23T00:00:00\",\"2022-07-21T00:00:00\",\"2022-08-17T00:00:00\",\"2022-09-26T00:00:00\",\"2022-10-20T00:00:00\",\"2022-11-22T00:00:00\",\"2022-12-30T00:00:00\",\"2023-01-26T00:00:00\",\"2023-02-27T00:00:00\",\"2023-04-04T00:00:00\"],\"y\":[438,428,420,380,355,433,367,350,355,374,399,394,420,415,431,400,402,405,409,399,401,427,393,391,414,394,388,402,389,401,349,390],\"type\":\"scatter\",\"xaxis\":\"x\",\"yaxis\":\"y2\"}],                        {\"template\":{\"data\":{\"histogram2dcontour\":[{\"type\":\"histogram2dcontour\",\"colorbar\":{\"outlinewidth\":0,\"ticks\":\"\"},\"colorscale\":[[0.0,\"#0d0887\"],[0.1111111111111111,\"#46039f\"],[0.2222222222222222,\"#7201a8\"],[0.3333333333333333,\"#9c179e\"],[0.4444444444444444,\"#bd3786\"],[0.5555555555555556,\"#d8576b\"],[0.6666666666666666,\"#ed7953\"],[0.7777777777777778,\"#fb9f3a\"],[0.8888888888888888,\"#fdca26\"],[1.0,\"#f0f921\"]]}],\"choropleth\":[{\"type\":\"choropleth\",\"colorbar\":{\"outlinewidth\":0,\"ticks\":\"\"}}],\"histogram2d\":[{\"type\":\"histogram2d\",\"colorbar\":{\"outlinewidth\":0,\"ticks\":\"\"},\"colorscale\":[[0.0,\"#0d0887\"],[0.1111111111111111,\"#46039f\"],[0.2222222222222222,\"#7201a8\"],[0.3333333333333333,\"#9c179e\"],[0.4444444444444444,\"#bd3786\"],[0.5555555555555556,\"#d8576b\"],[0.6666666666666666,\"#ed7953\"],[0.7777777777777778,\"#fb9f3a\"],[0.8888888888888888,\"#fdca26\"],[1.0,\"#f0f921\"]]}],\"heatmap\":[{\"type\":\"heatmap\",\"colorbar\":{\"outlinewidth\":0,\"ticks\":\"\"},\"colorscale\":[[0.0,\"#0d0887\"],[0.1111111111111111,\"#46039f\"],[0.2222222222222222,\"#7201a8\"],[0.3333333333333333,\"#9c179e\"],[0.4444444444444444,\"#bd3786\"],[0.5555555555555556,\"#d8576b\"],[0.6666666666666666,\"#ed7953\"],[0.7777777777777778,\"#fb9f3a\"],[0.8888888888888888,\"#fdca26\"],[1.0,\"#f0f921\"]]}],\"heatmapgl\":[{\"type\":\"heatmapgl\",\"colorbar\":{\"outlinewidth\":0,\"ticks\":\"\"},\"colorscale\":[[0.0,\"#0d0887\"],[0.1111111111111111,\"#46039f\"],[0.2222222222222222,\"#7201a8\"],[0.3333333333333333,\"#9c179e\"],[0.4444444444444444,\"#bd3786\"],[0.5555555555555556,\"#d8576b\"],[0.6666666666666666,\"#ed7953\"],[0.7777777777777778,\"#fb9f3a\"],[0.8888888888888888,\"#fdca26\"],[1.0,\"#f0f921\"]]}],\"contourcarpet\":[{\"type\":\"contourcarpet\",\"colorbar\":{\"outlinewidth\":0,\"ticks\":\"\"}}],\"contour\":[{\"type\":\"contour\",\"colorbar\":{\"outlinewidth\":0,\"ticks\":\"\"},\"colorscale\":[[0.0,\"#0d0887\"],[0.1111111111111111,\"#46039f\"],[0.2222222222222222,\"#7201a8\"],[0.3333333333333333,\"#9c179e\"],[0.4444444444444444,\"#bd3786\"],[0.5555555555555556,\"#d8576b\"],[0.6666666666666666,\"#ed7953\"],[0.7777777777777778,\"#fb9f3a\"],[0.8888888888888888,\"#fdca26\"],[1.0,\"#f0f921\"]]}],\"surface\":[{\"type\":\"surface\",\"colorbar\":{\"outlinewidth\":0,\"ticks\":\"\"},\"colorscale\":[[0.0,\"#0d0887\"],[0.1111111111111111,\"#46039f\"],[0.2222222222222222,\"#7201a8\"],[0.3333333333333333,\"#9c179e\"],[0.4444444444444444,\"#bd3786\"],[0.5555555555555556,\"#d8576b\"],[0.6666666666666666,\"#ed7953\"],[0.7777777777777778,\"#fb9f3a\"],[0.8888888888888888,\"#fdca26\"],[1.0,\"#f0f921\"]]}],\"mesh3d\":[{\"type\":\"mesh3d\",\"colorbar\":{\"outlinewidth\":0,\"ticks\":\"\"}}],\"scatter\":[{\"fillpattern\":{\"fillmode\":\"overlay\",\"size\":10,\"solidity\":0.2},\"type\":\"scatter\"}],\"parcoords\":[{\"type\":\"parcoords\",\"line\":{\"colorbar\":{\"outlinewidth\":0,\"ticks\":\"\"}}}],\"scatterpolargl\":[{\"type\":\"scatterpolargl\",\"marker\":{\"colorbar\":{\"outlinewidth\":0,\"ticks\":\"\"}}}],\"bar\":[{\"error_x\":{\"color\":\"#2a3f5f\"},\"error_y\":{\"color\":\"#2a3f5f\"},\"marker\":{\"line\":{\"color\":\"#E5ECF6\",\"width\":0.5},\"pattern\":{\"fillmode\":\"overlay\",\"size\":10,\"solidity\":0.2}},\"type\":\"bar\"}],\"scattergeo\":[{\"type\":\"scattergeo\",\"marker\":{\"colorbar\":{\"outlinewidth\":0,\"ticks\":\"\"}}}],\"scatterpolar\":[{\"type\":\"scatterpolar\",\"marker\":{\"colorbar\":{\"outlinewidth\":0,\"ticks\":\"\"}}}],\"histogram\":[{\"marker\":{\"pattern\":{\"fillmode\":\"overlay\",\"size\":10,\"solidity\":0.2}},\"type\":\"histogram\"}],\"scattergl\":[{\"type\":\"scattergl\",\"marker\":{\"colorbar\":{\"outlinewidth\":0,\"ticks\":\"\"}}}],\"scatter3d\":[{\"type\":\"scatter3d\",\"line\":{\"colorbar\":{\"outlinewidth\":0,\"ticks\":\"\"}},\"marker\":{\"colorbar\":{\"outlinewidth\":0,\"ticks\":\"\"}}}],\"scattermapbox\":[{\"type\":\"scattermapbox\",\"marker\":{\"colorbar\":{\"outlinewidth\":0,\"ticks\":\"\"}}}],\"scatterternary\":[{\"type\":\"scatterternary\",\"marker\":{\"colorbar\":{\"outlinewidth\":0,\"ticks\":\"\"}}}],\"scattercarpet\":[{\"type\":\"scattercarpet\",\"marker\":{\"colorbar\":{\"outlinewidth\":0,\"ticks\":\"\"}}}],\"carpet\":[{\"aaxis\":{\"endlinecolor\":\"#2a3f5f\",\"gridcolor\":\"white\",\"linecolor\":\"white\",\"minorgridcolor\":\"white\",\"startlinecolor\":\"#2a3f5f\"},\"baxis\":{\"endlinecolor\":\"#2a3f5f\",\"gridcolor\":\"white\",\"linecolor\":\"white\",\"minorgridcolor\":\"white\",\"startlinecolor\":\"#2a3f5f\"},\"type\":\"carpet\"}],\"table\":[{\"cells\":{\"fill\":{\"color\":\"#EBF0F8\"},\"line\":{\"color\":\"white\"}},\"header\":{\"fill\":{\"color\":\"#C8D4E3\"},\"line\":{\"color\":\"white\"}},\"type\":\"table\"}],\"barpolar\":[{\"marker\":{\"line\":{\"color\":\"#E5ECF6\",\"width\":0.5},\"pattern\":{\"fillmode\":\"overlay\",\"size\":10,\"solidity\":0.2}},\"type\":\"barpolar\"}],\"pie\":[{\"automargin\":true,\"type\":\"pie\"}]},\"layout\":{\"autotypenumbers\":\"strict\",\"colorway\":[\"#636efa\",\"#EF553B\",\"#00cc96\",\"#ab63fa\",\"#FFA15A\",\"#19d3f3\",\"#FF6692\",\"#B6E880\",\"#FF97FF\",\"#FECB52\"],\"font\":{\"color\":\"#2a3f5f\"},\"hovermode\":\"closest\",\"hoverlabel\":{\"align\":\"left\"},\"paper_bgcolor\":\"white\",\"plot_bgcolor\":\"#E5ECF6\",\"polar\":{\"bgcolor\":\"#E5ECF6\",\"angularaxis\":{\"gridcolor\":\"white\",\"linecolor\":\"white\",\"ticks\":\"\"},\"radialaxis\":{\"gridcolor\":\"white\",\"linecolor\":\"white\",\"ticks\":\"\"}},\"ternary\":{\"bgcolor\":\"#E5ECF6\",\"aaxis\":{\"gridcolor\":\"white\",\"linecolor\":\"white\",\"ticks\":\"\"},\"baxis\":{\"gridcolor\":\"white\",\"linecolor\":\"white\",\"ticks\":\"\"},\"caxis\":{\"gridcolor\":\"white\",\"linecolor\":\"white\",\"ticks\":\"\"}},\"coloraxis\":{\"colorbar\":{\"outlinewidth\":0,\"ticks\":\"\"}},\"colorscale\":{\"sequential\":[[0.0,\"#0d0887\"],[0.1111111111111111,\"#46039f\"],[0.2222222222222222,\"#7201a8\"],[0.3333333333333333,\"#9c179e\"],[0.4444444444444444,\"#bd3786\"],[0.5555555555555556,\"#d8576b\"],[0.6666666666666666,\"#ed7953\"],[0.7777777777777778,\"#fb9f3a\"],[0.8888888888888888,\"#fdca26\"],[1.0,\"#f0f921\"]],\"sequentialminus\":[[0.0,\"#0d0887\"],[0.1111111111111111,\"#46039f\"],[0.2222222222222222,\"#7201a8\"],[0.3333333333333333,\"#9c179e\"],[0.4444444444444444,\"#bd3786\"],[0.5555555555555556,\"#d8576b\"],[0.6666666666666666,\"#ed7953\"],[0.7777777777777778,\"#fb9f3a\"],[0.8888888888888888,\"#fdca26\"],[1.0,\"#f0f921\"]],\"diverging\":[[0,\"#8e0152\"],[0.1,\"#c51b7d\"],[0.2,\"#de77ae\"],[0.3,\"#f1b6da\"],[0.4,\"#fde0ef\"],[0.5,\"#f7f7f7\"],[0.6,\"#e6f5d0\"],[0.7,\"#b8e186\"],[0.8,\"#7fbc41\"],[0.9,\"#4d9221\"],[1,\"#276419\"]]},\"xaxis\":{\"gridcolor\":\"white\",\"linecolor\":\"white\",\"ticks\":\"\",\"title\":{\"standoff\":15},\"zerolinecolor\":\"white\",\"automargin\":true,\"zerolinewidth\":2},\"yaxis\":{\"gridcolor\":\"white\",\"linecolor\":\"white\",\"ticks\":\"\",\"title\":{\"standoff\":15},\"zerolinecolor\":\"white\",\"automargin\":true,\"zerolinewidth\":2},\"scene\":{\"xaxis\":{\"backgroundcolor\":\"#E5ECF6\",\"gridcolor\":\"white\",\"linecolor\":\"white\",\"showbackground\":true,\"ticks\":\"\",\"zerolinecolor\":\"white\",\"gridwidth\":2},\"yaxis\":{\"backgroundcolor\":\"#E5ECF6\",\"gridcolor\":\"white\",\"linecolor\":\"white\",\"showbackground\":true,\"ticks\":\"\",\"zerolinecolor\":\"white\",\"gridwidth\":2},\"zaxis\":{\"backgroundcolor\":\"#E5ECF6\",\"gridcolor\":\"white\",\"linecolor\":\"white\",\"showbackground\":true,\"ticks\":\"\",\"zerolinecolor\":\"white\",\"gridwidth\":2}},\"shapedefaults\":{\"line\":{\"color\":\"#2a3f5f\"}},\"annotationdefaults\":{\"arrowcolor\":\"#2a3f5f\",\"arrowhead\":0,\"arrowwidth\":1},\"geo\":{\"bgcolor\":\"white\",\"landcolor\":\"#E5ECF6\",\"subunitcolor\":\"white\",\"showland\":true,\"showlakes\":true,\"lakecolor\":\"white\"},\"title\":{\"x\":0.05},\"mapbox\":{\"style\":\"light\"}}},\"xaxis\":{\"anchor\":\"y\",\"domain\":[0.0,0.94],\"title\":{\"text\":\"Fecha\"}},\"yaxis\":{\"anchor\":\"x\",\"domain\":[0.0,1.0],\"title\":{\"text\":\"Profundidad\"}},\"yaxis2\":{\"anchor\":\"x\",\"overlaying\":\"y\",\"side\":\"right\",\"title\":{\"text\":\"Velocidad\"}},\"title\":{\"text\":\"An\\u00e1lisis de la evoluci\\u00f3n de diferentes variables del pozo H 129\"}},                        {\"responsive\": true}                    ).then(function(){\n",
       "                            \n",
       "var gd = document.getElementById('71666f75-fc25-4d0a-a4cb-adfff2836dac');\n",
       "var x = new MutationObserver(function (mutations, observer) {{\n",
       "        var display = window.getComputedStyle(gd).display;\n",
       "        if (!display || display === 'none') {{\n",
       "            console.log([gd, 'removed!']);\n",
       "            Plotly.purge(gd);\n",
       "            observer.disconnect();\n",
       "        }}\n",
       "}});\n",
       "\n",
       "// Listen for the removal of the full notebook cells\n",
       "var notebookContainer = gd.closest('#notebook-container');\n",
       "if (notebookContainer) {{\n",
       "    x.observe(notebookContainer, {childList: true});\n",
       "}}\n",
       "\n",
       "// Listen for the clearing of the current output cell\n",
       "var outputEl = gd.closest('.output');\n",
       "if (outputEl) {{\n",
       "    x.observe(outputEl, {childList: true});\n",
       "}}\n",
       "\n",
       "                        })                };                });            </script>        </div>"
      ]
     },
     "metadata": {},
     "output_type": "display_data"
    },
    {
     "data": {
      "application/vnd.plotly.v1+json": {
       "config": {
        "plotlyServerURL": "https://plot.ly"
       },
       "data": [
        {
         "name": "Profundidad bomba",
         "type": "scatter",
         "x": [
          "2020-07-07T00:00:00",
          "2020-08-18T00:00:00",
          "2020-09-15T00:00:00",
          "2020-10-13T00:00:00",
          "2020-11-20T00:00:00",
          "2020-12-22T00:00:00",
          "2021-01-14T00:00:00",
          "2021-02-23T00:00:00",
          "2021-03-16T00:00:00",
          "2021-05-27T00:00:00",
          "2021-06-16T00:00:00",
          "2021-07-19T00:00:00",
          "2021-08-10T00:00:00",
          "2021-09-16T00:00:00",
          "2021-10-19T00:00:00",
          "2021-11-16T00:00:00",
          "2021-12-15T00:00:00",
          "2022-01-18T00:00:00",
          "2022-01-20T00:00:00",
          "2022-02-22T00:00:00",
          "2022-03-17T00:00:00",
          "2022-05-19T00:00:00",
          "2022-06-23T00:00:00",
          "2022-07-21T00:00:00",
          "2022-08-17T00:00:00",
          "2022-09-26T00:00:00",
          "2022-10-20T00:00:00",
          "2022-11-22T00:00:00",
          "2022-12-30T00:00:00",
          "2023-01-26T00:00:00",
          "2023-02-27T00:00:00",
          "2023-04-04T00:00:00"
         ],
         "xaxis": "x",
         "y": [
          1456.78,
          1456.78,
          1456.78,
          1456.78,
          1456.78,
          1456.78,
          1456.78,
          1456.78,
          1456.78,
          1454.49,
          1454.49,
          1454.49,
          1454.49,
          1454.49,
          1454.49,
          1454.49,
          1454.49,
          1454.49,
          1454.49,
          1454.49,
          1454.49,
          1454.49,
          1454.49,
          1454.49,
          1454.49,
          1454.49,
          1454.49,
          1454.49,
          1454.49,
          1454.49,
          1454.49,
          1454.49
         ],
         "yaxis": "y"
        },
        {
         "name": "Producción petroleo",
         "type": "scatter",
         "x": [
          "2020-07-07T00:00:00",
          "2020-08-18T00:00:00",
          "2020-09-15T00:00:00",
          "2020-10-13T00:00:00",
          "2020-11-20T00:00:00",
          "2020-12-22T00:00:00",
          "2021-01-14T00:00:00",
          "2021-02-23T00:00:00",
          "2021-03-16T00:00:00",
          "2021-05-27T00:00:00",
          "2021-06-16T00:00:00",
          "2021-07-19T00:00:00",
          "2021-08-10T00:00:00",
          "2021-09-16T00:00:00",
          "2021-10-19T00:00:00",
          "2021-11-16T00:00:00",
          "2021-12-15T00:00:00",
          "2022-01-18T00:00:00",
          "2022-01-20T00:00:00",
          "2022-02-22T00:00:00",
          "2022-03-17T00:00:00",
          "2022-05-19T00:00:00",
          "2022-06-23T00:00:00",
          "2022-07-21T00:00:00",
          "2022-08-17T00:00:00",
          "2022-09-26T00:00:00",
          "2022-10-20T00:00:00",
          "2022-11-22T00:00:00",
          "2022-12-30T00:00:00",
          "2023-01-26T00:00:00",
          "2023-02-27T00:00:00",
          "2023-04-04T00:00:00"
         ],
         "xaxis": "x",
         "y": [
          3.2,
          3.2,
          3.2,
          6.6,
          6.4,
          5.5,
          5.5,
          9.3,
          8,
          8.5,
          8.5,
          9.5,
          12.4,
          9.4,
          9.8,
          8.3,
          8.6,
          9.7,
          9.7,
          8.2,
          10.1,
          6.4,
          7.4,
          9.1,
          7.1,
          7.3,
          6.1,
          5,
          5.4,
          5.3,
          5.3,
          4.4
         ],
         "yaxis": "y2"
        }
       ],
       "layout": {
        "template": {
         "data": {
          "bar": [
           {
            "error_x": {
             "color": "#2a3f5f"
            },
            "error_y": {
             "color": "#2a3f5f"
            },
            "marker": {
             "line": {
              "color": "#E5ECF6",
              "width": 0.5
             },
             "pattern": {
              "fillmode": "overlay",
              "size": 10,
              "solidity": 0.2
             }
            },
            "type": "bar"
           }
          ],
          "barpolar": [
           {
            "marker": {
             "line": {
              "color": "#E5ECF6",
              "width": 0.5
             },
             "pattern": {
              "fillmode": "overlay",
              "size": 10,
              "solidity": 0.2
             }
            },
            "type": "barpolar"
           }
          ],
          "carpet": [
           {
            "aaxis": {
             "endlinecolor": "#2a3f5f",
             "gridcolor": "white",
             "linecolor": "white",
             "minorgridcolor": "white",
             "startlinecolor": "#2a3f5f"
            },
            "baxis": {
             "endlinecolor": "#2a3f5f",
             "gridcolor": "white",
             "linecolor": "white",
             "minorgridcolor": "white",
             "startlinecolor": "#2a3f5f"
            },
            "type": "carpet"
           }
          ],
          "choropleth": [
           {
            "colorbar": {
             "outlinewidth": 0,
             "ticks": ""
            },
            "type": "choropleth"
           }
          ],
          "contour": [
           {
            "colorbar": {
             "outlinewidth": 0,
             "ticks": ""
            },
            "colorscale": [
             [
              0,
              "#0d0887"
             ],
             [
              0.1111111111111111,
              "#46039f"
             ],
             [
              0.2222222222222222,
              "#7201a8"
             ],
             [
              0.3333333333333333,
              "#9c179e"
             ],
             [
              0.4444444444444444,
              "#bd3786"
             ],
             [
              0.5555555555555556,
              "#d8576b"
             ],
             [
              0.6666666666666666,
              "#ed7953"
             ],
             [
              0.7777777777777778,
              "#fb9f3a"
             ],
             [
              0.8888888888888888,
              "#fdca26"
             ],
             [
              1,
              "#f0f921"
             ]
            ],
            "type": "contour"
           }
          ],
          "contourcarpet": [
           {
            "colorbar": {
             "outlinewidth": 0,
             "ticks": ""
            },
            "type": "contourcarpet"
           }
          ],
          "heatmap": [
           {
            "colorbar": {
             "outlinewidth": 0,
             "ticks": ""
            },
            "colorscale": [
             [
              0,
              "#0d0887"
             ],
             [
              0.1111111111111111,
              "#46039f"
             ],
             [
              0.2222222222222222,
              "#7201a8"
             ],
             [
              0.3333333333333333,
              "#9c179e"
             ],
             [
              0.4444444444444444,
              "#bd3786"
             ],
             [
              0.5555555555555556,
              "#d8576b"
             ],
             [
              0.6666666666666666,
              "#ed7953"
             ],
             [
              0.7777777777777778,
              "#fb9f3a"
             ],
             [
              0.8888888888888888,
              "#fdca26"
             ],
             [
              1,
              "#f0f921"
             ]
            ],
            "type": "heatmap"
           }
          ],
          "heatmapgl": [
           {
            "colorbar": {
             "outlinewidth": 0,
             "ticks": ""
            },
            "colorscale": [
             [
              0,
              "#0d0887"
             ],
             [
              0.1111111111111111,
              "#46039f"
             ],
             [
              0.2222222222222222,
              "#7201a8"
             ],
             [
              0.3333333333333333,
              "#9c179e"
             ],
             [
              0.4444444444444444,
              "#bd3786"
             ],
             [
              0.5555555555555556,
              "#d8576b"
             ],
             [
              0.6666666666666666,
              "#ed7953"
             ],
             [
              0.7777777777777778,
              "#fb9f3a"
             ],
             [
              0.8888888888888888,
              "#fdca26"
             ],
             [
              1,
              "#f0f921"
             ]
            ],
            "type": "heatmapgl"
           }
          ],
          "histogram": [
           {
            "marker": {
             "pattern": {
              "fillmode": "overlay",
              "size": 10,
              "solidity": 0.2
             }
            },
            "type": "histogram"
           }
          ],
          "histogram2d": [
           {
            "colorbar": {
             "outlinewidth": 0,
             "ticks": ""
            },
            "colorscale": [
             [
              0,
              "#0d0887"
             ],
             [
              0.1111111111111111,
              "#46039f"
             ],
             [
              0.2222222222222222,
              "#7201a8"
             ],
             [
              0.3333333333333333,
              "#9c179e"
             ],
             [
              0.4444444444444444,
              "#bd3786"
             ],
             [
              0.5555555555555556,
              "#d8576b"
             ],
             [
              0.6666666666666666,
              "#ed7953"
             ],
             [
              0.7777777777777778,
              "#fb9f3a"
             ],
             [
              0.8888888888888888,
              "#fdca26"
             ],
             [
              1,
              "#f0f921"
             ]
            ],
            "type": "histogram2d"
           }
          ],
          "histogram2dcontour": [
           {
            "colorbar": {
             "outlinewidth": 0,
             "ticks": ""
            },
            "colorscale": [
             [
              0,
              "#0d0887"
             ],
             [
              0.1111111111111111,
              "#46039f"
             ],
             [
              0.2222222222222222,
              "#7201a8"
             ],
             [
              0.3333333333333333,
              "#9c179e"
             ],
             [
              0.4444444444444444,
              "#bd3786"
             ],
             [
              0.5555555555555556,
              "#d8576b"
             ],
             [
              0.6666666666666666,
              "#ed7953"
             ],
             [
              0.7777777777777778,
              "#fb9f3a"
             ],
             [
              0.8888888888888888,
              "#fdca26"
             ],
             [
              1,
              "#f0f921"
             ]
            ],
            "type": "histogram2dcontour"
           }
          ],
          "mesh3d": [
           {
            "colorbar": {
             "outlinewidth": 0,
             "ticks": ""
            },
            "type": "mesh3d"
           }
          ],
          "parcoords": [
           {
            "line": {
             "colorbar": {
              "outlinewidth": 0,
              "ticks": ""
             }
            },
            "type": "parcoords"
           }
          ],
          "pie": [
           {
            "automargin": true,
            "type": "pie"
           }
          ],
          "scatter": [
           {
            "fillpattern": {
             "fillmode": "overlay",
             "size": 10,
             "solidity": 0.2
            },
            "type": "scatter"
           }
          ],
          "scatter3d": [
           {
            "line": {
             "colorbar": {
              "outlinewidth": 0,
              "ticks": ""
             }
            },
            "marker": {
             "colorbar": {
              "outlinewidth": 0,
              "ticks": ""
             }
            },
            "type": "scatter3d"
           }
          ],
          "scattercarpet": [
           {
            "marker": {
             "colorbar": {
              "outlinewidth": 0,
              "ticks": ""
             }
            },
            "type": "scattercarpet"
           }
          ],
          "scattergeo": [
           {
            "marker": {
             "colorbar": {
              "outlinewidth": 0,
              "ticks": ""
             }
            },
            "type": "scattergeo"
           }
          ],
          "scattergl": [
           {
            "marker": {
             "colorbar": {
              "outlinewidth": 0,
              "ticks": ""
             }
            },
            "type": "scattergl"
           }
          ],
          "scattermapbox": [
           {
            "marker": {
             "colorbar": {
              "outlinewidth": 0,
              "ticks": ""
             }
            },
            "type": "scattermapbox"
           }
          ],
          "scatterpolar": [
           {
            "marker": {
             "colorbar": {
              "outlinewidth": 0,
              "ticks": ""
             }
            },
            "type": "scatterpolar"
           }
          ],
          "scatterpolargl": [
           {
            "marker": {
             "colorbar": {
              "outlinewidth": 0,
              "ticks": ""
             }
            },
            "type": "scatterpolargl"
           }
          ],
          "scatterternary": [
           {
            "marker": {
             "colorbar": {
              "outlinewidth": 0,
              "ticks": ""
             }
            },
            "type": "scatterternary"
           }
          ],
          "surface": [
           {
            "colorbar": {
             "outlinewidth": 0,
             "ticks": ""
            },
            "colorscale": [
             [
              0,
              "#0d0887"
             ],
             [
              0.1111111111111111,
              "#46039f"
             ],
             [
              0.2222222222222222,
              "#7201a8"
             ],
             [
              0.3333333333333333,
              "#9c179e"
             ],
             [
              0.4444444444444444,
              "#bd3786"
             ],
             [
              0.5555555555555556,
              "#d8576b"
             ],
             [
              0.6666666666666666,
              "#ed7953"
             ],
             [
              0.7777777777777778,
              "#fb9f3a"
             ],
             [
              0.8888888888888888,
              "#fdca26"
             ],
             [
              1,
              "#f0f921"
             ]
            ],
            "type": "surface"
           }
          ],
          "table": [
           {
            "cells": {
             "fill": {
              "color": "#EBF0F8"
             },
             "line": {
              "color": "white"
             }
            },
            "header": {
             "fill": {
              "color": "#C8D4E3"
             },
             "line": {
              "color": "white"
             }
            },
            "type": "table"
           }
          ]
         },
         "layout": {
          "annotationdefaults": {
           "arrowcolor": "#2a3f5f",
           "arrowhead": 0,
           "arrowwidth": 1
          },
          "autotypenumbers": "strict",
          "coloraxis": {
           "colorbar": {
            "outlinewidth": 0,
            "ticks": ""
           }
          },
          "colorscale": {
           "diverging": [
            [
             0,
             "#8e0152"
            ],
            [
             0.1,
             "#c51b7d"
            ],
            [
             0.2,
             "#de77ae"
            ],
            [
             0.3,
             "#f1b6da"
            ],
            [
             0.4,
             "#fde0ef"
            ],
            [
             0.5,
             "#f7f7f7"
            ],
            [
             0.6,
             "#e6f5d0"
            ],
            [
             0.7,
             "#b8e186"
            ],
            [
             0.8,
             "#7fbc41"
            ],
            [
             0.9,
             "#4d9221"
            ],
            [
             1,
             "#276419"
            ]
           ],
           "sequential": [
            [
             0,
             "#0d0887"
            ],
            [
             0.1111111111111111,
             "#46039f"
            ],
            [
             0.2222222222222222,
             "#7201a8"
            ],
            [
             0.3333333333333333,
             "#9c179e"
            ],
            [
             0.4444444444444444,
             "#bd3786"
            ],
            [
             0.5555555555555556,
             "#d8576b"
            ],
            [
             0.6666666666666666,
             "#ed7953"
            ],
            [
             0.7777777777777778,
             "#fb9f3a"
            ],
            [
             0.8888888888888888,
             "#fdca26"
            ],
            [
             1,
             "#f0f921"
            ]
           ],
           "sequentialminus": [
            [
             0,
             "#0d0887"
            ],
            [
             0.1111111111111111,
             "#46039f"
            ],
            [
             0.2222222222222222,
             "#7201a8"
            ],
            [
             0.3333333333333333,
             "#9c179e"
            ],
            [
             0.4444444444444444,
             "#bd3786"
            ],
            [
             0.5555555555555556,
             "#d8576b"
            ],
            [
             0.6666666666666666,
             "#ed7953"
            ],
            [
             0.7777777777777778,
             "#fb9f3a"
            ],
            [
             0.8888888888888888,
             "#fdca26"
            ],
            [
             1,
             "#f0f921"
            ]
           ]
          },
          "colorway": [
           "#636efa",
           "#EF553B",
           "#00cc96",
           "#ab63fa",
           "#FFA15A",
           "#19d3f3",
           "#FF6692",
           "#B6E880",
           "#FF97FF",
           "#FECB52"
          ],
          "font": {
           "color": "#2a3f5f"
          },
          "geo": {
           "bgcolor": "white",
           "lakecolor": "white",
           "landcolor": "#E5ECF6",
           "showlakes": true,
           "showland": true,
           "subunitcolor": "white"
          },
          "hoverlabel": {
           "align": "left"
          },
          "hovermode": "closest",
          "mapbox": {
           "style": "light"
          },
          "paper_bgcolor": "white",
          "plot_bgcolor": "#E5ECF6",
          "polar": {
           "angularaxis": {
            "gridcolor": "white",
            "linecolor": "white",
            "ticks": ""
           },
           "bgcolor": "#E5ECF6",
           "radialaxis": {
            "gridcolor": "white",
            "linecolor": "white",
            "ticks": ""
           }
          },
          "scene": {
           "xaxis": {
            "backgroundcolor": "#E5ECF6",
            "gridcolor": "white",
            "gridwidth": 2,
            "linecolor": "white",
            "showbackground": true,
            "ticks": "",
            "zerolinecolor": "white"
           },
           "yaxis": {
            "backgroundcolor": "#E5ECF6",
            "gridcolor": "white",
            "gridwidth": 2,
            "linecolor": "white",
            "showbackground": true,
            "ticks": "",
            "zerolinecolor": "white"
           },
           "zaxis": {
            "backgroundcolor": "#E5ECF6",
            "gridcolor": "white",
            "gridwidth": 2,
            "linecolor": "white",
            "showbackground": true,
            "ticks": "",
            "zerolinecolor": "white"
           }
          },
          "shapedefaults": {
           "line": {
            "color": "#2a3f5f"
           }
          },
          "ternary": {
           "aaxis": {
            "gridcolor": "white",
            "linecolor": "white",
            "ticks": ""
           },
           "baxis": {
            "gridcolor": "white",
            "linecolor": "white",
            "ticks": ""
           },
           "bgcolor": "#E5ECF6",
           "caxis": {
            "gridcolor": "white",
            "linecolor": "white",
            "ticks": ""
           }
          },
          "title": {
           "x": 0.05
          },
          "xaxis": {
           "automargin": true,
           "gridcolor": "white",
           "linecolor": "white",
           "ticks": "",
           "title": {
            "standoff": 15
           },
           "zerolinecolor": "white",
           "zerolinewidth": 2
          },
          "yaxis": {
           "automargin": true,
           "gridcolor": "white",
           "linecolor": "white",
           "ticks": "",
           "title": {
            "standoff": 15
           },
           "zerolinecolor": "white",
           "zerolinewidth": 2
          }
         }
        },
        "xaxis": {
         "anchor": "y",
         "domain": [
          0,
          0.94
         ],
         "title": {
          "text": "Fecha"
         }
        },
        "yaxis": {
         "anchor": "x",
         "domain": [
          0,
          1
         ],
         "title": {
          "text": "Profundidad"
         }
        },
        "yaxis2": {
         "anchor": "x",
         "overlaying": "y",
         "side": "right",
         "title": {
          "text": "Producción"
         }
        }
       }
      },
      "text/html": [
       "<div>                            <div id=\"71c4f8c9-17fc-411e-8a2d-127c47b9eff7\" class=\"plotly-graph-div\" style=\"height:525px; width:100%;\"></div>            <script type=\"text/javascript\">                require([\"plotly\"], function(Plotly) {                    window.PLOTLYENV=window.PLOTLYENV || {};                                    if (document.getElementById(\"71c4f8c9-17fc-411e-8a2d-127c47b9eff7\")) {                    Plotly.newPlot(                        \"71c4f8c9-17fc-411e-8a2d-127c47b9eff7\",                        [{\"name\":\"Profundidad bomba\",\"x\":[\"2020-07-07T00:00:00\",\"2020-08-18T00:00:00\",\"2020-09-15T00:00:00\",\"2020-10-13T00:00:00\",\"2020-11-20T00:00:00\",\"2020-12-22T00:00:00\",\"2021-01-14T00:00:00\",\"2021-02-23T00:00:00\",\"2021-03-16T00:00:00\",\"2021-05-27T00:00:00\",\"2021-06-16T00:00:00\",\"2021-07-19T00:00:00\",\"2021-08-10T00:00:00\",\"2021-09-16T00:00:00\",\"2021-10-19T00:00:00\",\"2021-11-16T00:00:00\",\"2021-12-15T00:00:00\",\"2022-01-18T00:00:00\",\"2022-01-20T00:00:00\",\"2022-02-22T00:00:00\",\"2022-03-17T00:00:00\",\"2022-05-19T00:00:00\",\"2022-06-23T00:00:00\",\"2022-07-21T00:00:00\",\"2022-08-17T00:00:00\",\"2022-09-26T00:00:00\",\"2022-10-20T00:00:00\",\"2022-11-22T00:00:00\",\"2022-12-30T00:00:00\",\"2023-01-26T00:00:00\",\"2023-02-27T00:00:00\",\"2023-04-04T00:00:00\"],\"y\":[1456.78,1456.78,1456.78,1456.78,1456.78,1456.78,1456.78,1456.78,1456.78,1454.49,1454.49,1454.49,1454.49,1454.49,1454.49,1454.49,1454.49,1454.49,1454.49,1454.49,1454.49,1454.49,1454.49,1454.49,1454.49,1454.49,1454.49,1454.49,1454.49,1454.49,1454.49,1454.49],\"type\":\"scatter\",\"xaxis\":\"x\",\"yaxis\":\"y\"},{\"name\":\"Producci\\u00f3n petroleo\",\"x\":[\"2020-07-07T00:00:00\",\"2020-08-18T00:00:00\",\"2020-09-15T00:00:00\",\"2020-10-13T00:00:00\",\"2020-11-20T00:00:00\",\"2020-12-22T00:00:00\",\"2021-01-14T00:00:00\",\"2021-02-23T00:00:00\",\"2021-03-16T00:00:00\",\"2021-05-27T00:00:00\",\"2021-06-16T00:00:00\",\"2021-07-19T00:00:00\",\"2021-08-10T00:00:00\",\"2021-09-16T00:00:00\",\"2021-10-19T00:00:00\",\"2021-11-16T00:00:00\",\"2021-12-15T00:00:00\",\"2022-01-18T00:00:00\",\"2022-01-20T00:00:00\",\"2022-02-22T00:00:00\",\"2022-03-17T00:00:00\",\"2022-05-19T00:00:00\",\"2022-06-23T00:00:00\",\"2022-07-21T00:00:00\",\"2022-08-17T00:00:00\",\"2022-09-26T00:00:00\",\"2022-10-20T00:00:00\",\"2022-11-22T00:00:00\",\"2022-12-30T00:00:00\",\"2023-01-26T00:00:00\",\"2023-02-27T00:00:00\",\"2023-04-04T00:00:00\"],\"y\":[3.2,3.2,3.2,6.6,6.4,5.5,5.5,9.3,8.0,8.5,8.5,9.5,12.4,9.4,9.8,8.3,8.6,9.7,9.7,8.2,10.1,6.4,7.4,9.1,7.1,7.3,6.1,5.0,5.4,5.3,5.3,4.4],\"type\":\"scatter\",\"xaxis\":\"x\",\"yaxis\":\"y2\"}],                        {\"template\":{\"data\":{\"histogram2dcontour\":[{\"type\":\"histogram2dcontour\",\"colorbar\":{\"outlinewidth\":0,\"ticks\":\"\"},\"colorscale\":[[0.0,\"#0d0887\"],[0.1111111111111111,\"#46039f\"],[0.2222222222222222,\"#7201a8\"],[0.3333333333333333,\"#9c179e\"],[0.4444444444444444,\"#bd3786\"],[0.5555555555555556,\"#d8576b\"],[0.6666666666666666,\"#ed7953\"],[0.7777777777777778,\"#fb9f3a\"],[0.8888888888888888,\"#fdca26\"],[1.0,\"#f0f921\"]]}],\"choropleth\":[{\"type\":\"choropleth\",\"colorbar\":{\"outlinewidth\":0,\"ticks\":\"\"}}],\"histogram2d\":[{\"type\":\"histogram2d\",\"colorbar\":{\"outlinewidth\":0,\"ticks\":\"\"},\"colorscale\":[[0.0,\"#0d0887\"],[0.1111111111111111,\"#46039f\"],[0.2222222222222222,\"#7201a8\"],[0.3333333333333333,\"#9c179e\"],[0.4444444444444444,\"#bd3786\"],[0.5555555555555556,\"#d8576b\"],[0.6666666666666666,\"#ed7953\"],[0.7777777777777778,\"#fb9f3a\"],[0.8888888888888888,\"#fdca26\"],[1.0,\"#f0f921\"]]}],\"heatmap\":[{\"type\":\"heatmap\",\"colorbar\":{\"outlinewidth\":0,\"ticks\":\"\"},\"colorscale\":[[0.0,\"#0d0887\"],[0.1111111111111111,\"#46039f\"],[0.2222222222222222,\"#7201a8\"],[0.3333333333333333,\"#9c179e\"],[0.4444444444444444,\"#bd3786\"],[0.5555555555555556,\"#d8576b\"],[0.6666666666666666,\"#ed7953\"],[0.7777777777777778,\"#fb9f3a\"],[0.8888888888888888,\"#fdca26\"],[1.0,\"#f0f921\"]]}],\"heatmapgl\":[{\"type\":\"heatmapgl\",\"colorbar\":{\"outlinewidth\":0,\"ticks\":\"\"},\"colorscale\":[[0.0,\"#0d0887\"],[0.1111111111111111,\"#46039f\"],[0.2222222222222222,\"#7201a8\"],[0.3333333333333333,\"#9c179e\"],[0.4444444444444444,\"#bd3786\"],[0.5555555555555556,\"#d8576b\"],[0.6666666666666666,\"#ed7953\"],[0.7777777777777778,\"#fb9f3a\"],[0.8888888888888888,\"#fdca26\"],[1.0,\"#f0f921\"]]}],\"contourcarpet\":[{\"type\":\"contourcarpet\",\"colorbar\":{\"outlinewidth\":0,\"ticks\":\"\"}}],\"contour\":[{\"type\":\"contour\",\"colorbar\":{\"outlinewidth\":0,\"ticks\":\"\"},\"colorscale\":[[0.0,\"#0d0887\"],[0.1111111111111111,\"#46039f\"],[0.2222222222222222,\"#7201a8\"],[0.3333333333333333,\"#9c179e\"],[0.4444444444444444,\"#bd3786\"],[0.5555555555555556,\"#d8576b\"],[0.6666666666666666,\"#ed7953\"],[0.7777777777777778,\"#fb9f3a\"],[0.8888888888888888,\"#fdca26\"],[1.0,\"#f0f921\"]]}],\"surface\":[{\"type\":\"surface\",\"colorbar\":{\"outlinewidth\":0,\"ticks\":\"\"},\"colorscale\":[[0.0,\"#0d0887\"],[0.1111111111111111,\"#46039f\"],[0.2222222222222222,\"#7201a8\"],[0.3333333333333333,\"#9c179e\"],[0.4444444444444444,\"#bd3786\"],[0.5555555555555556,\"#d8576b\"],[0.6666666666666666,\"#ed7953\"],[0.7777777777777778,\"#fb9f3a\"],[0.8888888888888888,\"#fdca26\"],[1.0,\"#f0f921\"]]}],\"mesh3d\":[{\"type\":\"mesh3d\",\"colorbar\":{\"outlinewidth\":0,\"ticks\":\"\"}}],\"scatter\":[{\"fillpattern\":{\"fillmode\":\"overlay\",\"size\":10,\"solidity\":0.2},\"type\":\"scatter\"}],\"parcoords\":[{\"type\":\"parcoords\",\"line\":{\"colorbar\":{\"outlinewidth\":0,\"ticks\":\"\"}}}],\"scatterpolargl\":[{\"type\":\"scatterpolargl\",\"marker\":{\"colorbar\":{\"outlinewidth\":0,\"ticks\":\"\"}}}],\"bar\":[{\"error_x\":{\"color\":\"#2a3f5f\"},\"error_y\":{\"color\":\"#2a3f5f\"},\"marker\":{\"line\":{\"color\":\"#E5ECF6\",\"width\":0.5},\"pattern\":{\"fillmode\":\"overlay\",\"size\":10,\"solidity\":0.2}},\"type\":\"bar\"}],\"scattergeo\":[{\"type\":\"scattergeo\",\"marker\":{\"colorbar\":{\"outlinewidth\":0,\"ticks\":\"\"}}}],\"scatterpolar\":[{\"type\":\"scatterpolar\",\"marker\":{\"colorbar\":{\"outlinewidth\":0,\"ticks\":\"\"}}}],\"histogram\":[{\"marker\":{\"pattern\":{\"fillmode\":\"overlay\",\"size\":10,\"solidity\":0.2}},\"type\":\"histogram\"}],\"scattergl\":[{\"type\":\"scattergl\",\"marker\":{\"colorbar\":{\"outlinewidth\":0,\"ticks\":\"\"}}}],\"scatter3d\":[{\"type\":\"scatter3d\",\"line\":{\"colorbar\":{\"outlinewidth\":0,\"ticks\":\"\"}},\"marker\":{\"colorbar\":{\"outlinewidth\":0,\"ticks\":\"\"}}}],\"scattermapbox\":[{\"type\":\"scattermapbox\",\"marker\":{\"colorbar\":{\"outlinewidth\":0,\"ticks\":\"\"}}}],\"scatterternary\":[{\"type\":\"scatterternary\",\"marker\":{\"colorbar\":{\"outlinewidth\":0,\"ticks\":\"\"}}}],\"scattercarpet\":[{\"type\":\"scattercarpet\",\"marker\":{\"colorbar\":{\"outlinewidth\":0,\"ticks\":\"\"}}}],\"carpet\":[{\"aaxis\":{\"endlinecolor\":\"#2a3f5f\",\"gridcolor\":\"white\",\"linecolor\":\"white\",\"minorgridcolor\":\"white\",\"startlinecolor\":\"#2a3f5f\"},\"baxis\":{\"endlinecolor\":\"#2a3f5f\",\"gridcolor\":\"white\",\"linecolor\":\"white\",\"minorgridcolor\":\"white\",\"startlinecolor\":\"#2a3f5f\"},\"type\":\"carpet\"}],\"table\":[{\"cells\":{\"fill\":{\"color\":\"#EBF0F8\"},\"line\":{\"color\":\"white\"}},\"header\":{\"fill\":{\"color\":\"#C8D4E3\"},\"line\":{\"color\":\"white\"}},\"type\":\"table\"}],\"barpolar\":[{\"marker\":{\"line\":{\"color\":\"#E5ECF6\",\"width\":0.5},\"pattern\":{\"fillmode\":\"overlay\",\"size\":10,\"solidity\":0.2}},\"type\":\"barpolar\"}],\"pie\":[{\"automargin\":true,\"type\":\"pie\"}]},\"layout\":{\"autotypenumbers\":\"strict\",\"colorway\":[\"#636efa\",\"#EF553B\",\"#00cc96\",\"#ab63fa\",\"#FFA15A\",\"#19d3f3\",\"#FF6692\",\"#B6E880\",\"#FF97FF\",\"#FECB52\"],\"font\":{\"color\":\"#2a3f5f\"},\"hovermode\":\"closest\",\"hoverlabel\":{\"align\":\"left\"},\"paper_bgcolor\":\"white\",\"plot_bgcolor\":\"#E5ECF6\",\"polar\":{\"bgcolor\":\"#E5ECF6\",\"angularaxis\":{\"gridcolor\":\"white\",\"linecolor\":\"white\",\"ticks\":\"\"},\"radialaxis\":{\"gridcolor\":\"white\",\"linecolor\":\"white\",\"ticks\":\"\"}},\"ternary\":{\"bgcolor\":\"#E5ECF6\",\"aaxis\":{\"gridcolor\":\"white\",\"linecolor\":\"white\",\"ticks\":\"\"},\"baxis\":{\"gridcolor\":\"white\",\"linecolor\":\"white\",\"ticks\":\"\"},\"caxis\":{\"gridcolor\":\"white\",\"linecolor\":\"white\",\"ticks\":\"\"}},\"coloraxis\":{\"colorbar\":{\"outlinewidth\":0,\"ticks\":\"\"}},\"colorscale\":{\"sequential\":[[0.0,\"#0d0887\"],[0.1111111111111111,\"#46039f\"],[0.2222222222222222,\"#7201a8\"],[0.3333333333333333,\"#9c179e\"],[0.4444444444444444,\"#bd3786\"],[0.5555555555555556,\"#d8576b\"],[0.6666666666666666,\"#ed7953\"],[0.7777777777777778,\"#fb9f3a\"],[0.8888888888888888,\"#fdca26\"],[1.0,\"#f0f921\"]],\"sequentialminus\":[[0.0,\"#0d0887\"],[0.1111111111111111,\"#46039f\"],[0.2222222222222222,\"#7201a8\"],[0.3333333333333333,\"#9c179e\"],[0.4444444444444444,\"#bd3786\"],[0.5555555555555556,\"#d8576b\"],[0.6666666666666666,\"#ed7953\"],[0.7777777777777778,\"#fb9f3a\"],[0.8888888888888888,\"#fdca26\"],[1.0,\"#f0f921\"]],\"diverging\":[[0,\"#8e0152\"],[0.1,\"#c51b7d\"],[0.2,\"#de77ae\"],[0.3,\"#f1b6da\"],[0.4,\"#fde0ef\"],[0.5,\"#f7f7f7\"],[0.6,\"#e6f5d0\"],[0.7,\"#b8e186\"],[0.8,\"#7fbc41\"],[0.9,\"#4d9221\"],[1,\"#276419\"]]},\"xaxis\":{\"gridcolor\":\"white\",\"linecolor\":\"white\",\"ticks\":\"\",\"title\":{\"standoff\":15},\"zerolinecolor\":\"white\",\"automargin\":true,\"zerolinewidth\":2},\"yaxis\":{\"gridcolor\":\"white\",\"linecolor\":\"white\",\"ticks\":\"\",\"title\":{\"standoff\":15},\"zerolinecolor\":\"white\",\"automargin\":true,\"zerolinewidth\":2},\"scene\":{\"xaxis\":{\"backgroundcolor\":\"#E5ECF6\",\"gridcolor\":\"white\",\"linecolor\":\"white\",\"showbackground\":true,\"ticks\":\"\",\"zerolinecolor\":\"white\",\"gridwidth\":2},\"yaxis\":{\"backgroundcolor\":\"#E5ECF6\",\"gridcolor\":\"white\",\"linecolor\":\"white\",\"showbackground\":true,\"ticks\":\"\",\"zerolinecolor\":\"white\",\"gridwidth\":2},\"zaxis\":{\"backgroundcolor\":\"#E5ECF6\",\"gridcolor\":\"white\",\"linecolor\":\"white\",\"showbackground\":true,\"ticks\":\"\",\"zerolinecolor\":\"white\",\"gridwidth\":2}},\"shapedefaults\":{\"line\":{\"color\":\"#2a3f5f\"}},\"annotationdefaults\":{\"arrowcolor\":\"#2a3f5f\",\"arrowhead\":0,\"arrowwidth\":1},\"geo\":{\"bgcolor\":\"white\",\"landcolor\":\"#E5ECF6\",\"subunitcolor\":\"white\",\"showland\":true,\"showlakes\":true,\"lakecolor\":\"white\"},\"title\":{\"x\":0.05},\"mapbox\":{\"style\":\"light\"}}},\"xaxis\":{\"anchor\":\"y\",\"domain\":[0.0,0.94],\"title\":{\"text\":\"Fecha\"}},\"yaxis\":{\"anchor\":\"x\",\"domain\":[0.0,1.0],\"title\":{\"text\":\"Profundidad\"}},\"yaxis2\":{\"anchor\":\"x\",\"overlaying\":\"y\",\"side\":\"right\",\"title\":{\"text\":\"Producci\\u00f3n\"}}},                        {\"responsive\": true}                    ).then(function(){\n",
       "                            \n",
       "var gd = document.getElementById('71c4f8c9-17fc-411e-8a2d-127c47b9eff7');\n",
       "var x = new MutationObserver(function (mutations, observer) {{\n",
       "        var display = window.getComputedStyle(gd).display;\n",
       "        if (!display || display === 'none') {{\n",
       "            console.log([gd, 'removed!']);\n",
       "            Plotly.purge(gd);\n",
       "            observer.disconnect();\n",
       "        }}\n",
       "}});\n",
       "\n",
       "// Listen for the removal of the full notebook cells\n",
       "var notebookContainer = gd.closest('#notebook-container');\n",
       "if (notebookContainer) {{\n",
       "    x.observe(notebookContainer, {childList: true});\n",
       "}}\n",
       "\n",
       "// Listen for the clearing of the current output cell\n",
       "var outputEl = gd.closest('.output');\n",
       "if (outputEl) {{\n",
       "    x.observe(outputEl, {childList: true});\n",
       "}}\n",
       "\n",
       "                        })                };                });            </script>        </div>"
      ]
     },
     "metadata": {},
     "output_type": "display_data"
    },
    {
     "data": {
      "application/vnd.plotly.v1+json": {
       "config": {
        "plotlyServerURL": "https://plot.ly"
       },
       "data": [
        {
         "name": "Presión dinámica",
         "type": "scatter",
         "x": [
          "2020-07-07T00:00:00",
          "2020-08-18T00:00:00",
          "2020-09-15T00:00:00",
          "2020-10-13T00:00:00",
          "2020-11-20T00:00:00",
          "2020-12-22T00:00:00",
          "2021-01-14T00:00:00",
          "2021-02-23T00:00:00",
          "2021-03-16T00:00:00",
          "2021-05-27T00:00:00",
          "2021-06-16T00:00:00",
          "2021-07-19T00:00:00",
          "2021-08-10T00:00:00",
          "2021-09-16T00:00:00",
          "2021-10-19T00:00:00",
          "2021-11-16T00:00:00",
          "2021-12-15T00:00:00",
          "2022-01-18T00:00:00",
          "2022-01-20T00:00:00",
          "2022-02-22T00:00:00",
          "2022-03-17T00:00:00",
          "2022-05-19T00:00:00",
          "2022-06-23T00:00:00",
          "2022-07-21T00:00:00",
          "2022-08-17T00:00:00",
          "2022-09-26T00:00:00",
          "2022-10-20T00:00:00",
          "2022-11-22T00:00:00",
          "2022-12-30T00:00:00",
          "2023-01-26T00:00:00",
          "2023-02-27T00:00:00",
          "2023-04-04T00:00:00"
         ],
         "xaxis": "x",
         "y": [
          333,
          354,
          307,
          323,
          386,
          252,
          184,
          352,
          228,
          131,
          270,
          119,
          90,
          85,
          111,
          53,
          41,
          57,
          31,
          34,
          44,
          127,
          65,
          108,
          69,
          129,
          117,
          59,
          32,
          79,
          35,
          27
         ],
         "yaxis": "y"
        },
        {
         "name": "Presión interface",
         "type": "scatter",
         "x": [
          "2020-07-07T00:00:00",
          "2020-08-18T00:00:00",
          "2020-09-15T00:00:00",
          "2020-10-13T00:00:00",
          "2020-11-20T00:00:00",
          "2020-12-22T00:00:00",
          "2021-01-14T00:00:00",
          "2021-02-23T00:00:00",
          "2021-03-16T00:00:00",
          "2021-05-27T00:00:00",
          "2021-06-16T00:00:00",
          "2021-07-19T00:00:00",
          "2021-08-10T00:00:00",
          "2021-09-16T00:00:00",
          "2021-10-19T00:00:00",
          "2021-11-16T00:00:00",
          "2021-12-15T00:00:00",
          "2022-01-18T00:00:00",
          "2022-01-20T00:00:00",
          "2022-02-22T00:00:00",
          "2022-03-17T00:00:00",
          "2022-05-19T00:00:00",
          "2022-06-23T00:00:00",
          "2022-07-21T00:00:00",
          "2022-08-17T00:00:00",
          "2022-09-26T00:00:00",
          "2022-10-20T00:00:00",
          "2022-11-22T00:00:00",
          "2022-12-30T00:00:00",
          "2023-01-26T00:00:00",
          "2023-02-27T00:00:00",
          "2023-04-04T00:00:00"
         ],
         "xaxis": "x",
         "y": [
          120,
          94,
          91,
          102,
          99,
          128,
          99,
          128,
          117,
          2,
          2,
          2,
          2,
          2,
          2,
          2,
          2,
          2,
          2,
          2,
          2,
          2,
          2,
          2,
          2,
          2,
          2,
          2,
          2,
          2,
          2,
          2
         ],
         "yaxis": "y"
        },
        {
         "name": "Velocidad del sonido",
         "type": "scatter",
         "x": [
          "2020-07-07T00:00:00",
          "2020-08-18T00:00:00",
          "2020-09-15T00:00:00",
          "2020-10-13T00:00:00",
          "2020-11-20T00:00:00",
          "2020-12-22T00:00:00",
          "2021-01-14T00:00:00",
          "2021-02-23T00:00:00",
          "2021-03-16T00:00:00",
          "2021-05-27T00:00:00",
          "2021-06-16T00:00:00",
          "2021-07-19T00:00:00",
          "2021-08-10T00:00:00",
          "2021-09-16T00:00:00",
          "2021-10-19T00:00:00",
          "2021-11-16T00:00:00",
          "2021-12-15T00:00:00",
          "2022-01-18T00:00:00",
          "2022-01-20T00:00:00",
          "2022-02-22T00:00:00",
          "2022-03-17T00:00:00",
          "2022-05-19T00:00:00",
          "2022-06-23T00:00:00",
          "2022-07-21T00:00:00",
          "2022-08-17T00:00:00",
          "2022-09-26T00:00:00",
          "2022-10-20T00:00:00",
          "2022-11-22T00:00:00",
          "2022-12-30T00:00:00",
          "2023-01-26T00:00:00",
          "2023-02-27T00:00:00",
          "2023-04-04T00:00:00"
         ],
         "xaxis": "x",
         "y": [
          438,
          428,
          420,
          380,
          355,
          433,
          367,
          350,
          355,
          374,
          399,
          394,
          420,
          415,
          431,
          400,
          402,
          405,
          409,
          399,
          401,
          427,
          393,
          391,
          414,
          394,
          388,
          402,
          389,
          401,
          349,
          390
         ],
         "yaxis": "y2"
        }
       ],
       "layout": {
        "template": {
         "data": {
          "bar": [
           {
            "error_x": {
             "color": "#2a3f5f"
            },
            "error_y": {
             "color": "#2a3f5f"
            },
            "marker": {
             "line": {
              "color": "#E5ECF6",
              "width": 0.5
             },
             "pattern": {
              "fillmode": "overlay",
              "size": 10,
              "solidity": 0.2
             }
            },
            "type": "bar"
           }
          ],
          "barpolar": [
           {
            "marker": {
             "line": {
              "color": "#E5ECF6",
              "width": 0.5
             },
             "pattern": {
              "fillmode": "overlay",
              "size": 10,
              "solidity": 0.2
             }
            },
            "type": "barpolar"
           }
          ],
          "carpet": [
           {
            "aaxis": {
             "endlinecolor": "#2a3f5f",
             "gridcolor": "white",
             "linecolor": "white",
             "minorgridcolor": "white",
             "startlinecolor": "#2a3f5f"
            },
            "baxis": {
             "endlinecolor": "#2a3f5f",
             "gridcolor": "white",
             "linecolor": "white",
             "minorgridcolor": "white",
             "startlinecolor": "#2a3f5f"
            },
            "type": "carpet"
           }
          ],
          "choropleth": [
           {
            "colorbar": {
             "outlinewidth": 0,
             "ticks": ""
            },
            "type": "choropleth"
           }
          ],
          "contour": [
           {
            "colorbar": {
             "outlinewidth": 0,
             "ticks": ""
            },
            "colorscale": [
             [
              0,
              "#0d0887"
             ],
             [
              0.1111111111111111,
              "#46039f"
             ],
             [
              0.2222222222222222,
              "#7201a8"
             ],
             [
              0.3333333333333333,
              "#9c179e"
             ],
             [
              0.4444444444444444,
              "#bd3786"
             ],
             [
              0.5555555555555556,
              "#d8576b"
             ],
             [
              0.6666666666666666,
              "#ed7953"
             ],
             [
              0.7777777777777778,
              "#fb9f3a"
             ],
             [
              0.8888888888888888,
              "#fdca26"
             ],
             [
              1,
              "#f0f921"
             ]
            ],
            "type": "contour"
           }
          ],
          "contourcarpet": [
           {
            "colorbar": {
             "outlinewidth": 0,
             "ticks": ""
            },
            "type": "contourcarpet"
           }
          ],
          "heatmap": [
           {
            "colorbar": {
             "outlinewidth": 0,
             "ticks": ""
            },
            "colorscale": [
             [
              0,
              "#0d0887"
             ],
             [
              0.1111111111111111,
              "#46039f"
             ],
             [
              0.2222222222222222,
              "#7201a8"
             ],
             [
              0.3333333333333333,
              "#9c179e"
             ],
             [
              0.4444444444444444,
              "#bd3786"
             ],
             [
              0.5555555555555556,
              "#d8576b"
             ],
             [
              0.6666666666666666,
              "#ed7953"
             ],
             [
              0.7777777777777778,
              "#fb9f3a"
             ],
             [
              0.8888888888888888,
              "#fdca26"
             ],
             [
              1,
              "#f0f921"
             ]
            ],
            "type": "heatmap"
           }
          ],
          "heatmapgl": [
           {
            "colorbar": {
             "outlinewidth": 0,
             "ticks": ""
            },
            "colorscale": [
             [
              0,
              "#0d0887"
             ],
             [
              0.1111111111111111,
              "#46039f"
             ],
             [
              0.2222222222222222,
              "#7201a8"
             ],
             [
              0.3333333333333333,
              "#9c179e"
             ],
             [
              0.4444444444444444,
              "#bd3786"
             ],
             [
              0.5555555555555556,
              "#d8576b"
             ],
             [
              0.6666666666666666,
              "#ed7953"
             ],
             [
              0.7777777777777778,
              "#fb9f3a"
             ],
             [
              0.8888888888888888,
              "#fdca26"
             ],
             [
              1,
              "#f0f921"
             ]
            ],
            "type": "heatmapgl"
           }
          ],
          "histogram": [
           {
            "marker": {
             "pattern": {
              "fillmode": "overlay",
              "size": 10,
              "solidity": 0.2
             }
            },
            "type": "histogram"
           }
          ],
          "histogram2d": [
           {
            "colorbar": {
             "outlinewidth": 0,
             "ticks": ""
            },
            "colorscale": [
             [
              0,
              "#0d0887"
             ],
             [
              0.1111111111111111,
              "#46039f"
             ],
             [
              0.2222222222222222,
              "#7201a8"
             ],
             [
              0.3333333333333333,
              "#9c179e"
             ],
             [
              0.4444444444444444,
              "#bd3786"
             ],
             [
              0.5555555555555556,
              "#d8576b"
             ],
             [
              0.6666666666666666,
              "#ed7953"
             ],
             [
              0.7777777777777778,
              "#fb9f3a"
             ],
             [
              0.8888888888888888,
              "#fdca26"
             ],
             [
              1,
              "#f0f921"
             ]
            ],
            "type": "histogram2d"
           }
          ],
          "histogram2dcontour": [
           {
            "colorbar": {
             "outlinewidth": 0,
             "ticks": ""
            },
            "colorscale": [
             [
              0,
              "#0d0887"
             ],
             [
              0.1111111111111111,
              "#46039f"
             ],
             [
              0.2222222222222222,
              "#7201a8"
             ],
             [
              0.3333333333333333,
              "#9c179e"
             ],
             [
              0.4444444444444444,
              "#bd3786"
             ],
             [
              0.5555555555555556,
              "#d8576b"
             ],
             [
              0.6666666666666666,
              "#ed7953"
             ],
             [
              0.7777777777777778,
              "#fb9f3a"
             ],
             [
              0.8888888888888888,
              "#fdca26"
             ],
             [
              1,
              "#f0f921"
             ]
            ],
            "type": "histogram2dcontour"
           }
          ],
          "mesh3d": [
           {
            "colorbar": {
             "outlinewidth": 0,
             "ticks": ""
            },
            "type": "mesh3d"
           }
          ],
          "parcoords": [
           {
            "line": {
             "colorbar": {
              "outlinewidth": 0,
              "ticks": ""
             }
            },
            "type": "parcoords"
           }
          ],
          "pie": [
           {
            "automargin": true,
            "type": "pie"
           }
          ],
          "scatter": [
           {
            "fillpattern": {
             "fillmode": "overlay",
             "size": 10,
             "solidity": 0.2
            },
            "type": "scatter"
           }
          ],
          "scatter3d": [
           {
            "line": {
             "colorbar": {
              "outlinewidth": 0,
              "ticks": ""
             }
            },
            "marker": {
             "colorbar": {
              "outlinewidth": 0,
              "ticks": ""
             }
            },
            "type": "scatter3d"
           }
          ],
          "scattercarpet": [
           {
            "marker": {
             "colorbar": {
              "outlinewidth": 0,
              "ticks": ""
             }
            },
            "type": "scattercarpet"
           }
          ],
          "scattergeo": [
           {
            "marker": {
             "colorbar": {
              "outlinewidth": 0,
              "ticks": ""
             }
            },
            "type": "scattergeo"
           }
          ],
          "scattergl": [
           {
            "marker": {
             "colorbar": {
              "outlinewidth": 0,
              "ticks": ""
             }
            },
            "type": "scattergl"
           }
          ],
          "scattermapbox": [
           {
            "marker": {
             "colorbar": {
              "outlinewidth": 0,
              "ticks": ""
             }
            },
            "type": "scattermapbox"
           }
          ],
          "scatterpolar": [
           {
            "marker": {
             "colorbar": {
              "outlinewidth": 0,
              "ticks": ""
             }
            },
            "type": "scatterpolar"
           }
          ],
          "scatterpolargl": [
           {
            "marker": {
             "colorbar": {
              "outlinewidth": 0,
              "ticks": ""
             }
            },
            "type": "scatterpolargl"
           }
          ],
          "scatterternary": [
           {
            "marker": {
             "colorbar": {
              "outlinewidth": 0,
              "ticks": ""
             }
            },
            "type": "scatterternary"
           }
          ],
          "surface": [
           {
            "colorbar": {
             "outlinewidth": 0,
             "ticks": ""
            },
            "colorscale": [
             [
              0,
              "#0d0887"
             ],
             [
              0.1111111111111111,
              "#46039f"
             ],
             [
              0.2222222222222222,
              "#7201a8"
             ],
             [
              0.3333333333333333,
              "#9c179e"
             ],
             [
              0.4444444444444444,
              "#bd3786"
             ],
             [
              0.5555555555555556,
              "#d8576b"
             ],
             [
              0.6666666666666666,
              "#ed7953"
             ],
             [
              0.7777777777777778,
              "#fb9f3a"
             ],
             [
              0.8888888888888888,
              "#fdca26"
             ],
             [
              1,
              "#f0f921"
             ]
            ],
            "type": "surface"
           }
          ],
          "table": [
           {
            "cells": {
             "fill": {
              "color": "#EBF0F8"
             },
             "line": {
              "color": "white"
             }
            },
            "header": {
             "fill": {
              "color": "#C8D4E3"
             },
             "line": {
              "color": "white"
             }
            },
            "type": "table"
           }
          ]
         },
         "layout": {
          "annotationdefaults": {
           "arrowcolor": "#2a3f5f",
           "arrowhead": 0,
           "arrowwidth": 1
          },
          "autotypenumbers": "strict",
          "coloraxis": {
           "colorbar": {
            "outlinewidth": 0,
            "ticks": ""
           }
          },
          "colorscale": {
           "diverging": [
            [
             0,
             "#8e0152"
            ],
            [
             0.1,
             "#c51b7d"
            ],
            [
             0.2,
             "#de77ae"
            ],
            [
             0.3,
             "#f1b6da"
            ],
            [
             0.4,
             "#fde0ef"
            ],
            [
             0.5,
             "#f7f7f7"
            ],
            [
             0.6,
             "#e6f5d0"
            ],
            [
             0.7,
             "#b8e186"
            ],
            [
             0.8,
             "#7fbc41"
            ],
            [
             0.9,
             "#4d9221"
            ],
            [
             1,
             "#276419"
            ]
           ],
           "sequential": [
            [
             0,
             "#0d0887"
            ],
            [
             0.1111111111111111,
             "#46039f"
            ],
            [
             0.2222222222222222,
             "#7201a8"
            ],
            [
             0.3333333333333333,
             "#9c179e"
            ],
            [
             0.4444444444444444,
             "#bd3786"
            ],
            [
             0.5555555555555556,
             "#d8576b"
            ],
            [
             0.6666666666666666,
             "#ed7953"
            ],
            [
             0.7777777777777778,
             "#fb9f3a"
            ],
            [
             0.8888888888888888,
             "#fdca26"
            ],
            [
             1,
             "#f0f921"
            ]
           ],
           "sequentialminus": [
            [
             0,
             "#0d0887"
            ],
            [
             0.1111111111111111,
             "#46039f"
            ],
            [
             0.2222222222222222,
             "#7201a8"
            ],
            [
             0.3333333333333333,
             "#9c179e"
            ],
            [
             0.4444444444444444,
             "#bd3786"
            ],
            [
             0.5555555555555556,
             "#d8576b"
            ],
            [
             0.6666666666666666,
             "#ed7953"
            ],
            [
             0.7777777777777778,
             "#fb9f3a"
            ],
            [
             0.8888888888888888,
             "#fdca26"
            ],
            [
             1,
             "#f0f921"
            ]
           ]
          },
          "colorway": [
           "#636efa",
           "#EF553B",
           "#00cc96",
           "#ab63fa",
           "#FFA15A",
           "#19d3f3",
           "#FF6692",
           "#B6E880",
           "#FF97FF",
           "#FECB52"
          ],
          "font": {
           "color": "#2a3f5f"
          },
          "geo": {
           "bgcolor": "white",
           "lakecolor": "white",
           "landcolor": "#E5ECF6",
           "showlakes": true,
           "showland": true,
           "subunitcolor": "white"
          },
          "hoverlabel": {
           "align": "left"
          },
          "hovermode": "closest",
          "mapbox": {
           "style": "light"
          },
          "paper_bgcolor": "white",
          "plot_bgcolor": "#E5ECF6",
          "polar": {
           "angularaxis": {
            "gridcolor": "white",
            "linecolor": "white",
            "ticks": ""
           },
           "bgcolor": "#E5ECF6",
           "radialaxis": {
            "gridcolor": "white",
            "linecolor": "white",
            "ticks": ""
           }
          },
          "scene": {
           "xaxis": {
            "backgroundcolor": "#E5ECF6",
            "gridcolor": "white",
            "gridwidth": 2,
            "linecolor": "white",
            "showbackground": true,
            "ticks": "",
            "zerolinecolor": "white"
           },
           "yaxis": {
            "backgroundcolor": "#E5ECF6",
            "gridcolor": "white",
            "gridwidth": 2,
            "linecolor": "white",
            "showbackground": true,
            "ticks": "",
            "zerolinecolor": "white"
           },
           "zaxis": {
            "backgroundcolor": "#E5ECF6",
            "gridcolor": "white",
            "gridwidth": 2,
            "linecolor": "white",
            "showbackground": true,
            "ticks": "",
            "zerolinecolor": "white"
           }
          },
          "shapedefaults": {
           "line": {
            "color": "#2a3f5f"
           }
          },
          "ternary": {
           "aaxis": {
            "gridcolor": "white",
            "linecolor": "white",
            "ticks": ""
           },
           "baxis": {
            "gridcolor": "white",
            "linecolor": "white",
            "ticks": ""
           },
           "bgcolor": "#E5ECF6",
           "caxis": {
            "gridcolor": "white",
            "linecolor": "white",
            "ticks": ""
           }
          },
          "title": {
           "x": 0.05
          },
          "xaxis": {
           "automargin": true,
           "gridcolor": "white",
           "linecolor": "white",
           "ticks": "",
           "title": {
            "standoff": 15
           },
           "zerolinecolor": "white",
           "zerolinewidth": 2
          },
          "yaxis": {
           "automargin": true,
           "gridcolor": "white",
           "linecolor": "white",
           "ticks": "",
           "title": {
            "standoff": 15
           },
           "zerolinecolor": "white",
           "zerolinewidth": 2
          }
         }
        },
        "xaxis": {
         "anchor": "y",
         "domain": [
          0,
          0.94
         ],
         "title": {
          "text": "Fecha"
         }
        },
        "yaxis": {
         "anchor": "x",
         "domain": [
          0,
          1
         ],
         "title": {
          "text": "Presión"
         }
        },
        "yaxis2": {
         "anchor": "x",
         "overlaying": "y",
         "side": "right",
         "title": {
          "text": "Velocidad"
         }
        }
       }
      },
      "text/html": [
       "<div>                            <div id=\"c047b828-03a0-4f68-bb25-bf955d0e789c\" class=\"plotly-graph-div\" style=\"height:525px; width:100%;\"></div>            <script type=\"text/javascript\">                require([\"plotly\"], function(Plotly) {                    window.PLOTLYENV=window.PLOTLYENV || {};                                    if (document.getElementById(\"c047b828-03a0-4f68-bb25-bf955d0e789c\")) {                    Plotly.newPlot(                        \"c047b828-03a0-4f68-bb25-bf955d0e789c\",                        [{\"name\":\"Presi\\u00f3n din\\u00e1mica\",\"x\":[\"2020-07-07T00:00:00\",\"2020-08-18T00:00:00\",\"2020-09-15T00:00:00\",\"2020-10-13T00:00:00\",\"2020-11-20T00:00:00\",\"2020-12-22T00:00:00\",\"2021-01-14T00:00:00\",\"2021-02-23T00:00:00\",\"2021-03-16T00:00:00\",\"2021-05-27T00:00:00\",\"2021-06-16T00:00:00\",\"2021-07-19T00:00:00\",\"2021-08-10T00:00:00\",\"2021-09-16T00:00:00\",\"2021-10-19T00:00:00\",\"2021-11-16T00:00:00\",\"2021-12-15T00:00:00\",\"2022-01-18T00:00:00\",\"2022-01-20T00:00:00\",\"2022-02-22T00:00:00\",\"2022-03-17T00:00:00\",\"2022-05-19T00:00:00\",\"2022-06-23T00:00:00\",\"2022-07-21T00:00:00\",\"2022-08-17T00:00:00\",\"2022-09-26T00:00:00\",\"2022-10-20T00:00:00\",\"2022-11-22T00:00:00\",\"2022-12-30T00:00:00\",\"2023-01-26T00:00:00\",\"2023-02-27T00:00:00\",\"2023-04-04T00:00:00\"],\"y\":[333,354,307,323,386,252,184,352,228,131,270,119,90,85,111,53,41,57,31,34,44,127,65,108,69,129,117,59,32,79,35,27],\"type\":\"scatter\",\"xaxis\":\"x\",\"yaxis\":\"y\"},{\"name\":\"Presi\\u00f3n interface\",\"x\":[\"2020-07-07T00:00:00\",\"2020-08-18T00:00:00\",\"2020-09-15T00:00:00\",\"2020-10-13T00:00:00\",\"2020-11-20T00:00:00\",\"2020-12-22T00:00:00\",\"2021-01-14T00:00:00\",\"2021-02-23T00:00:00\",\"2021-03-16T00:00:00\",\"2021-05-27T00:00:00\",\"2021-06-16T00:00:00\",\"2021-07-19T00:00:00\",\"2021-08-10T00:00:00\",\"2021-09-16T00:00:00\",\"2021-10-19T00:00:00\",\"2021-11-16T00:00:00\",\"2021-12-15T00:00:00\",\"2022-01-18T00:00:00\",\"2022-01-20T00:00:00\",\"2022-02-22T00:00:00\",\"2022-03-17T00:00:00\",\"2022-05-19T00:00:00\",\"2022-06-23T00:00:00\",\"2022-07-21T00:00:00\",\"2022-08-17T00:00:00\",\"2022-09-26T00:00:00\",\"2022-10-20T00:00:00\",\"2022-11-22T00:00:00\",\"2022-12-30T00:00:00\",\"2023-01-26T00:00:00\",\"2023-02-27T00:00:00\",\"2023-04-04T00:00:00\"],\"y\":[120,94,91,102,99,128,99,128,117,2,2,2,2,2,2,2,2,2,2,2,2,2,2,2,2,2,2,2,2,2,2,2],\"type\":\"scatter\",\"xaxis\":\"x\",\"yaxis\":\"y\"},{\"name\":\"Velocidad del sonido\",\"x\":[\"2020-07-07T00:00:00\",\"2020-08-18T00:00:00\",\"2020-09-15T00:00:00\",\"2020-10-13T00:00:00\",\"2020-11-20T00:00:00\",\"2020-12-22T00:00:00\",\"2021-01-14T00:00:00\",\"2021-02-23T00:00:00\",\"2021-03-16T00:00:00\",\"2021-05-27T00:00:00\",\"2021-06-16T00:00:00\",\"2021-07-19T00:00:00\",\"2021-08-10T00:00:00\",\"2021-09-16T00:00:00\",\"2021-10-19T00:00:00\",\"2021-11-16T00:00:00\",\"2021-12-15T00:00:00\",\"2022-01-18T00:00:00\",\"2022-01-20T00:00:00\",\"2022-02-22T00:00:00\",\"2022-03-17T00:00:00\",\"2022-05-19T00:00:00\",\"2022-06-23T00:00:00\",\"2022-07-21T00:00:00\",\"2022-08-17T00:00:00\",\"2022-09-26T00:00:00\",\"2022-10-20T00:00:00\",\"2022-11-22T00:00:00\",\"2022-12-30T00:00:00\",\"2023-01-26T00:00:00\",\"2023-02-27T00:00:00\",\"2023-04-04T00:00:00\"],\"y\":[438,428,420,380,355,433,367,350,355,374,399,394,420,415,431,400,402,405,409,399,401,427,393,391,414,394,388,402,389,401,349,390],\"type\":\"scatter\",\"xaxis\":\"x\",\"yaxis\":\"y2\"}],                        {\"template\":{\"data\":{\"histogram2dcontour\":[{\"type\":\"histogram2dcontour\",\"colorbar\":{\"outlinewidth\":0,\"ticks\":\"\"},\"colorscale\":[[0.0,\"#0d0887\"],[0.1111111111111111,\"#46039f\"],[0.2222222222222222,\"#7201a8\"],[0.3333333333333333,\"#9c179e\"],[0.4444444444444444,\"#bd3786\"],[0.5555555555555556,\"#d8576b\"],[0.6666666666666666,\"#ed7953\"],[0.7777777777777778,\"#fb9f3a\"],[0.8888888888888888,\"#fdca26\"],[1.0,\"#f0f921\"]]}],\"choropleth\":[{\"type\":\"choropleth\",\"colorbar\":{\"outlinewidth\":0,\"ticks\":\"\"}}],\"histogram2d\":[{\"type\":\"histogram2d\",\"colorbar\":{\"outlinewidth\":0,\"ticks\":\"\"},\"colorscale\":[[0.0,\"#0d0887\"],[0.1111111111111111,\"#46039f\"],[0.2222222222222222,\"#7201a8\"],[0.3333333333333333,\"#9c179e\"],[0.4444444444444444,\"#bd3786\"],[0.5555555555555556,\"#d8576b\"],[0.6666666666666666,\"#ed7953\"],[0.7777777777777778,\"#fb9f3a\"],[0.8888888888888888,\"#fdca26\"],[1.0,\"#f0f921\"]]}],\"heatmap\":[{\"type\":\"heatmap\",\"colorbar\":{\"outlinewidth\":0,\"ticks\":\"\"},\"colorscale\":[[0.0,\"#0d0887\"],[0.1111111111111111,\"#46039f\"],[0.2222222222222222,\"#7201a8\"],[0.3333333333333333,\"#9c179e\"],[0.4444444444444444,\"#bd3786\"],[0.5555555555555556,\"#d8576b\"],[0.6666666666666666,\"#ed7953\"],[0.7777777777777778,\"#fb9f3a\"],[0.8888888888888888,\"#fdca26\"],[1.0,\"#f0f921\"]]}],\"heatmapgl\":[{\"type\":\"heatmapgl\",\"colorbar\":{\"outlinewidth\":0,\"ticks\":\"\"},\"colorscale\":[[0.0,\"#0d0887\"],[0.1111111111111111,\"#46039f\"],[0.2222222222222222,\"#7201a8\"],[0.3333333333333333,\"#9c179e\"],[0.4444444444444444,\"#bd3786\"],[0.5555555555555556,\"#d8576b\"],[0.6666666666666666,\"#ed7953\"],[0.7777777777777778,\"#fb9f3a\"],[0.8888888888888888,\"#fdca26\"],[1.0,\"#f0f921\"]]}],\"contourcarpet\":[{\"type\":\"contourcarpet\",\"colorbar\":{\"outlinewidth\":0,\"ticks\":\"\"}}],\"contour\":[{\"type\":\"contour\",\"colorbar\":{\"outlinewidth\":0,\"ticks\":\"\"},\"colorscale\":[[0.0,\"#0d0887\"],[0.1111111111111111,\"#46039f\"],[0.2222222222222222,\"#7201a8\"],[0.3333333333333333,\"#9c179e\"],[0.4444444444444444,\"#bd3786\"],[0.5555555555555556,\"#d8576b\"],[0.6666666666666666,\"#ed7953\"],[0.7777777777777778,\"#fb9f3a\"],[0.8888888888888888,\"#fdca26\"],[1.0,\"#f0f921\"]]}],\"surface\":[{\"type\":\"surface\",\"colorbar\":{\"outlinewidth\":0,\"ticks\":\"\"},\"colorscale\":[[0.0,\"#0d0887\"],[0.1111111111111111,\"#46039f\"],[0.2222222222222222,\"#7201a8\"],[0.3333333333333333,\"#9c179e\"],[0.4444444444444444,\"#bd3786\"],[0.5555555555555556,\"#d8576b\"],[0.6666666666666666,\"#ed7953\"],[0.7777777777777778,\"#fb9f3a\"],[0.8888888888888888,\"#fdca26\"],[1.0,\"#f0f921\"]]}],\"mesh3d\":[{\"type\":\"mesh3d\",\"colorbar\":{\"outlinewidth\":0,\"ticks\":\"\"}}],\"scatter\":[{\"fillpattern\":{\"fillmode\":\"overlay\",\"size\":10,\"solidity\":0.2},\"type\":\"scatter\"}],\"parcoords\":[{\"type\":\"parcoords\",\"line\":{\"colorbar\":{\"outlinewidth\":0,\"ticks\":\"\"}}}],\"scatterpolargl\":[{\"type\":\"scatterpolargl\",\"marker\":{\"colorbar\":{\"outlinewidth\":0,\"ticks\":\"\"}}}],\"bar\":[{\"error_x\":{\"color\":\"#2a3f5f\"},\"error_y\":{\"color\":\"#2a3f5f\"},\"marker\":{\"line\":{\"color\":\"#E5ECF6\",\"width\":0.5},\"pattern\":{\"fillmode\":\"overlay\",\"size\":10,\"solidity\":0.2}},\"type\":\"bar\"}],\"scattergeo\":[{\"type\":\"scattergeo\",\"marker\":{\"colorbar\":{\"outlinewidth\":0,\"ticks\":\"\"}}}],\"scatterpolar\":[{\"type\":\"scatterpolar\",\"marker\":{\"colorbar\":{\"outlinewidth\":0,\"ticks\":\"\"}}}],\"histogram\":[{\"marker\":{\"pattern\":{\"fillmode\":\"overlay\",\"size\":10,\"solidity\":0.2}},\"type\":\"histogram\"}],\"scattergl\":[{\"type\":\"scattergl\",\"marker\":{\"colorbar\":{\"outlinewidth\":0,\"ticks\":\"\"}}}],\"scatter3d\":[{\"type\":\"scatter3d\",\"line\":{\"colorbar\":{\"outlinewidth\":0,\"ticks\":\"\"}},\"marker\":{\"colorbar\":{\"outlinewidth\":0,\"ticks\":\"\"}}}],\"scattermapbox\":[{\"type\":\"scattermapbox\",\"marker\":{\"colorbar\":{\"outlinewidth\":0,\"ticks\":\"\"}}}],\"scatterternary\":[{\"type\":\"scatterternary\",\"marker\":{\"colorbar\":{\"outlinewidth\":0,\"ticks\":\"\"}}}],\"scattercarpet\":[{\"type\":\"scattercarpet\",\"marker\":{\"colorbar\":{\"outlinewidth\":0,\"ticks\":\"\"}}}],\"carpet\":[{\"aaxis\":{\"endlinecolor\":\"#2a3f5f\",\"gridcolor\":\"white\",\"linecolor\":\"white\",\"minorgridcolor\":\"white\",\"startlinecolor\":\"#2a3f5f\"},\"baxis\":{\"endlinecolor\":\"#2a3f5f\",\"gridcolor\":\"white\",\"linecolor\":\"white\",\"minorgridcolor\":\"white\",\"startlinecolor\":\"#2a3f5f\"},\"type\":\"carpet\"}],\"table\":[{\"cells\":{\"fill\":{\"color\":\"#EBF0F8\"},\"line\":{\"color\":\"white\"}},\"header\":{\"fill\":{\"color\":\"#C8D4E3\"},\"line\":{\"color\":\"white\"}},\"type\":\"table\"}],\"barpolar\":[{\"marker\":{\"line\":{\"color\":\"#E5ECF6\",\"width\":0.5},\"pattern\":{\"fillmode\":\"overlay\",\"size\":10,\"solidity\":0.2}},\"type\":\"barpolar\"}],\"pie\":[{\"automargin\":true,\"type\":\"pie\"}]},\"layout\":{\"autotypenumbers\":\"strict\",\"colorway\":[\"#636efa\",\"#EF553B\",\"#00cc96\",\"#ab63fa\",\"#FFA15A\",\"#19d3f3\",\"#FF6692\",\"#B6E880\",\"#FF97FF\",\"#FECB52\"],\"font\":{\"color\":\"#2a3f5f\"},\"hovermode\":\"closest\",\"hoverlabel\":{\"align\":\"left\"},\"paper_bgcolor\":\"white\",\"plot_bgcolor\":\"#E5ECF6\",\"polar\":{\"bgcolor\":\"#E5ECF6\",\"angularaxis\":{\"gridcolor\":\"white\",\"linecolor\":\"white\",\"ticks\":\"\"},\"radialaxis\":{\"gridcolor\":\"white\",\"linecolor\":\"white\",\"ticks\":\"\"}},\"ternary\":{\"bgcolor\":\"#E5ECF6\",\"aaxis\":{\"gridcolor\":\"white\",\"linecolor\":\"white\",\"ticks\":\"\"},\"baxis\":{\"gridcolor\":\"white\",\"linecolor\":\"white\",\"ticks\":\"\"},\"caxis\":{\"gridcolor\":\"white\",\"linecolor\":\"white\",\"ticks\":\"\"}},\"coloraxis\":{\"colorbar\":{\"outlinewidth\":0,\"ticks\":\"\"}},\"colorscale\":{\"sequential\":[[0.0,\"#0d0887\"],[0.1111111111111111,\"#46039f\"],[0.2222222222222222,\"#7201a8\"],[0.3333333333333333,\"#9c179e\"],[0.4444444444444444,\"#bd3786\"],[0.5555555555555556,\"#d8576b\"],[0.6666666666666666,\"#ed7953\"],[0.7777777777777778,\"#fb9f3a\"],[0.8888888888888888,\"#fdca26\"],[1.0,\"#f0f921\"]],\"sequentialminus\":[[0.0,\"#0d0887\"],[0.1111111111111111,\"#46039f\"],[0.2222222222222222,\"#7201a8\"],[0.3333333333333333,\"#9c179e\"],[0.4444444444444444,\"#bd3786\"],[0.5555555555555556,\"#d8576b\"],[0.6666666666666666,\"#ed7953\"],[0.7777777777777778,\"#fb9f3a\"],[0.8888888888888888,\"#fdca26\"],[1.0,\"#f0f921\"]],\"diverging\":[[0,\"#8e0152\"],[0.1,\"#c51b7d\"],[0.2,\"#de77ae\"],[0.3,\"#f1b6da\"],[0.4,\"#fde0ef\"],[0.5,\"#f7f7f7\"],[0.6,\"#e6f5d0\"],[0.7,\"#b8e186\"],[0.8,\"#7fbc41\"],[0.9,\"#4d9221\"],[1,\"#276419\"]]},\"xaxis\":{\"gridcolor\":\"white\",\"linecolor\":\"white\",\"ticks\":\"\",\"title\":{\"standoff\":15},\"zerolinecolor\":\"white\",\"automargin\":true,\"zerolinewidth\":2},\"yaxis\":{\"gridcolor\":\"white\",\"linecolor\":\"white\",\"ticks\":\"\",\"title\":{\"standoff\":15},\"zerolinecolor\":\"white\",\"automargin\":true,\"zerolinewidth\":2},\"scene\":{\"xaxis\":{\"backgroundcolor\":\"#E5ECF6\",\"gridcolor\":\"white\",\"linecolor\":\"white\",\"showbackground\":true,\"ticks\":\"\",\"zerolinecolor\":\"white\",\"gridwidth\":2},\"yaxis\":{\"backgroundcolor\":\"#E5ECF6\",\"gridcolor\":\"white\",\"linecolor\":\"white\",\"showbackground\":true,\"ticks\":\"\",\"zerolinecolor\":\"white\",\"gridwidth\":2},\"zaxis\":{\"backgroundcolor\":\"#E5ECF6\",\"gridcolor\":\"white\",\"linecolor\":\"white\",\"showbackground\":true,\"ticks\":\"\",\"zerolinecolor\":\"white\",\"gridwidth\":2}},\"shapedefaults\":{\"line\":{\"color\":\"#2a3f5f\"}},\"annotationdefaults\":{\"arrowcolor\":\"#2a3f5f\",\"arrowhead\":0,\"arrowwidth\":1},\"geo\":{\"bgcolor\":\"white\",\"landcolor\":\"#E5ECF6\",\"subunitcolor\":\"white\",\"showland\":true,\"showlakes\":true,\"lakecolor\":\"white\"},\"title\":{\"x\":0.05},\"mapbox\":{\"style\":\"light\"}}},\"xaxis\":{\"anchor\":\"y\",\"domain\":[0.0,0.94],\"title\":{\"text\":\"Fecha\"}},\"yaxis\":{\"anchor\":\"x\",\"domain\":[0.0,1.0],\"title\":{\"text\":\"Presi\\u00f3n\"}},\"yaxis2\":{\"anchor\":\"x\",\"overlaying\":\"y\",\"side\":\"right\",\"title\":{\"text\":\"Velocidad\"}}},                        {\"responsive\": true}                    ).then(function(){\n",
       "                            \n",
       "var gd = document.getElementById('c047b828-03a0-4f68-bb25-bf955d0e789c');\n",
       "var x = new MutationObserver(function (mutations, observer) {{\n",
       "        var display = window.getComputedStyle(gd).display;\n",
       "        if (!display || display === 'none') {{\n",
       "            console.log([gd, 'removed!']);\n",
       "            Plotly.purge(gd);\n",
       "            observer.disconnect();\n",
       "        }}\n",
       "}});\n",
       "\n",
       "// Listen for the removal of the full notebook cells\n",
       "var notebookContainer = gd.closest('#notebook-container');\n",
       "if (notebookContainer) {{\n",
       "    x.observe(notebookContainer, {childList: true});\n",
       "}}\n",
       "\n",
       "// Listen for the clearing of the current output cell\n",
       "var outputEl = gd.closest('.output');\n",
       "if (outputEl) {{\n",
       "    x.observe(outputEl, {childList: true});\n",
       "}}\n",
       "\n",
       "                        })                };                });            </script>        </div>"
      ]
     },
     "metadata": {},
     "output_type": "display_data"
    }
   ],
   "source": [
    "plot_well_behaviour('H 129', df)"
   ]
  },
  {
   "cell_type": "markdown",
   "id": "6d0b6511",
   "metadata": {},
   "source": [
    "# Variabilidad promedio de velocidad intrapozo (para aquellos pozos con al menos dos mediciones)"
   ]
  },
  {
   "cell_type": "code",
   "execution_count": 18,
   "id": "95db6cdd",
   "metadata": {
    "ExecuteTime": {
     "end_time": "2023-10-23T19:45:50.285155Z",
     "start_time": "2023-10-23T19:45:50.276298Z"
    }
   },
   "outputs": [
    {
     "name": "stdout",
     "output_type": "stream",
     "text": [
      "En promedio la velocidad de los pozos varía 59.7601 m/s\n"
     ]
    }
   ],
   "source": [
    "_df = df.pozo.value_counts()\n",
    "wells = _df[_df > 2].index\n",
    "_df = df[df.pozo.isin(wells)]\n",
    "speed_mean_variation = round(_df.groupby('pozo').velocidad_sonido.std().mean(), 4)\n",
    "print(f'En promedio la velocidad de los pozos varía {speed_mean_variation} m/s')"
   ]
  },
  {
   "cell_type": "markdown",
   "id": "c2c82985",
   "metadata": {},
   "source": [
    "# Análisis del comportamiento de la velocidad"
   ]
  },
  {
   "cell_type": "code",
   "execution_count": 19,
   "id": "5442cee6",
   "metadata": {
    "ExecuteTime": {
     "end_time": "2023-10-23T19:45:59.710597Z",
     "start_time": "2023-10-23T19:45:50.287037Z"
    }
   },
   "outputs": [
    {
     "data": {
      "text/plain": [
       "<seaborn.axisgrid.PairGrid at 0x123a27700>"
      ]
     },
     "execution_count": 19,
     "metadata": {},
     "output_type": "execute_result"
    }
   ],
   "source": [
    "cols = ['velocidad_sonido', 'profundidad_gas', 'profundidad_niveles', 'profundidad_bomba', 'presion_dinamica', 'porcentaje_agua']\n",
    "_df = df[df.velocidad_sonido < df.velocidad_sonido.quantile(0.99)]\n",
    "sns.pairplot(_df[cols])"
   ]
  },
  {
   "cell_type": "markdown",
   "id": "3960d37f",
   "metadata": {},
   "source": [
    "# Análisis de valores anómalos"
   ]
  },
  {
   "cell_type": "code",
   "execution_count": 20,
   "id": "deb24067",
   "metadata": {
    "ExecuteTime": {
     "end_time": "2023-10-23T19:45:59.726779Z",
     "start_time": "2023-10-23T19:45:59.712958Z"
    }
   },
   "outputs": [
    {
     "data": {
      "text/html": [
       "<div>\n",
       "<style scoped>\n",
       "    .dataframe tbody tr th:only-of-type {\n",
       "        vertical-align: middle;\n",
       "    }\n",
       "\n",
       "    .dataframe tbody tr th {\n",
       "        vertical-align: top;\n",
       "    }\n",
       "\n",
       "    .dataframe thead th {\n",
       "        text-align: right;\n",
       "    }\n",
       "</style>\n",
       "<table border=\"1\" class=\"dataframe\">\n",
       "  <thead>\n",
       "    <tr style=\"text-align: right;\">\n",
       "      <th></th>\n",
       "      <th>fecha</th>\n",
       "      <th>pozo</th>\n",
       "      <th>porcentaje_agua</th>\n",
       "      <th>presion_casing</th>\n",
       "      <th>presion_boca_pozo</th>\n",
       "      <th>yacimiento</th>\n",
       "      <th>zona</th>\n",
       "      <th>carrera</th>\n",
       "      <th>gpm</th>\n",
       "      <th>tv</th>\n",
       "      <th>...</th>\n",
       "      <th>estiramiento</th>\n",
       "      <th>profundidad_bomba</th>\n",
       "      <th>cuplas</th>\n",
       "      <th>produccion_petroleo</th>\n",
       "      <th>profundidad_gas</th>\n",
       "      <th>profundidad_niveles</th>\n",
       "      <th>velocidad_sonido</th>\n",
       "      <th>sumergencia_efectiva</th>\n",
       "      <th>presion_dinamica</th>\n",
       "      <th>presion_interface</th>\n",
       "    </tr>\n",
       "  </thead>\n",
       "  <tbody>\n",
       "  </tbody>\n",
       "</table>\n",
       "<p>0 rows × 27 columns</p>\n",
       "</div>"
      ],
      "text/plain": [
       "Empty DataFrame\n",
       "Columns: [fecha, pozo, porcentaje_agua, presion_casing, presion_boca_pozo, yacimiento, zona, carrera, gpm, tv, sv, cbe, tmax, vpmax, carga_max_fondo, carga_min_fondo, sobre_recorrido, estiramiento, profundidad_bomba, cuplas, produccion_petroleo, profundidad_gas, profundidad_niveles, velocidad_sonido, sumergencia_efectiva, presion_dinamica, presion_interface]\n",
       "Index: []\n",
       "\n",
       "[0 rows x 27 columns]"
      ]
     },
     "execution_count": 20,
     "metadata": {},
     "output_type": "execute_result"
    }
   ],
   "source": [
    "df[df.profundidad_bomba <= df.produccion_petroleo]"
   ]
  },
  {
   "cell_type": "code",
   "execution_count": 21,
   "id": "17dc9dde",
   "metadata": {
    "ExecuteTime": {
     "end_time": "2023-10-23T19:45:59.742459Z",
     "start_time": "2023-10-23T19:45:59.730782Z"
    }
   },
   "outputs": [
    {
     "data": {
      "text/html": [
       "<div>\n",
       "<style scoped>\n",
       "    .dataframe tbody tr th:only-of-type {\n",
       "        vertical-align: middle;\n",
       "    }\n",
       "\n",
       "    .dataframe tbody tr th {\n",
       "        vertical-align: top;\n",
       "    }\n",
       "\n",
       "    .dataframe thead th {\n",
       "        text-align: right;\n",
       "    }\n",
       "</style>\n",
       "<table border=\"1\" class=\"dataframe\">\n",
       "  <thead>\n",
       "    <tr style=\"text-align: right;\">\n",
       "      <th></th>\n",
       "      <th>fecha</th>\n",
       "      <th>pozo</th>\n",
       "      <th>porcentaje_agua</th>\n",
       "      <th>presion_casing</th>\n",
       "      <th>presion_boca_pozo</th>\n",
       "      <th>yacimiento</th>\n",
       "      <th>zona</th>\n",
       "      <th>carrera</th>\n",
       "      <th>gpm</th>\n",
       "      <th>tv</th>\n",
       "      <th>...</th>\n",
       "      <th>estiramiento</th>\n",
       "      <th>profundidad_bomba</th>\n",
       "      <th>cuplas</th>\n",
       "      <th>produccion_petroleo</th>\n",
       "      <th>profundidad_gas</th>\n",
       "      <th>profundidad_niveles</th>\n",
       "      <th>velocidad_sonido</th>\n",
       "      <th>sumergencia_efectiva</th>\n",
       "      <th>presion_dinamica</th>\n",
       "      <th>presion_interface</th>\n",
       "    </tr>\n",
       "  </thead>\n",
       "  <tbody>\n",
       "  </tbody>\n",
       "</table>\n",
       "<p>0 rows × 27 columns</p>\n",
       "</div>"
      ],
      "text/plain": [
       "Empty DataFrame\n",
       "Columns: [fecha, pozo, porcentaje_agua, presion_casing, presion_boca_pozo, yacimiento, zona, carrera, gpm, tv, sv, cbe, tmax, vpmax, carga_max_fondo, carga_min_fondo, sobre_recorrido, estiramiento, profundidad_bomba, cuplas, produccion_petroleo, profundidad_gas, profundidad_niveles, velocidad_sonido, sumergencia_efectiva, presion_dinamica, presion_interface]\n",
       "Index: []\n",
       "\n",
       "[0 rows x 27 columns]"
      ]
     },
     "execution_count": 21,
     "metadata": {},
     "output_type": "execute_result"
    }
   ],
   "source": [
    "df[df.profundidad_bomba <= df.profundidad_gas]"
   ]
  },
  {
   "cell_type": "code",
   "execution_count": 22,
   "id": "878332a9",
   "metadata": {
    "ExecuteTime": {
     "end_time": "2023-10-23T19:45:59.756490Z",
     "start_time": "2023-10-23T19:45:59.744303Z"
    }
   },
   "outputs": [
    {
     "data": {
      "text/html": [
       "<div>\n",
       "<style scoped>\n",
       "    .dataframe tbody tr th:only-of-type {\n",
       "        vertical-align: middle;\n",
       "    }\n",
       "\n",
       "    .dataframe tbody tr th {\n",
       "        vertical-align: top;\n",
       "    }\n",
       "\n",
       "    .dataframe thead th {\n",
       "        text-align: right;\n",
       "    }\n",
       "</style>\n",
       "<table border=\"1\" class=\"dataframe\">\n",
       "  <thead>\n",
       "    <tr style=\"text-align: right;\">\n",
       "      <th></th>\n",
       "      <th>fecha</th>\n",
       "      <th>pozo</th>\n",
       "      <th>porcentaje_agua</th>\n",
       "      <th>presion_casing</th>\n",
       "      <th>presion_boca_pozo</th>\n",
       "      <th>yacimiento</th>\n",
       "      <th>zona</th>\n",
       "      <th>carrera</th>\n",
       "      <th>gpm</th>\n",
       "      <th>tv</th>\n",
       "      <th>...</th>\n",
       "      <th>estiramiento</th>\n",
       "      <th>profundidad_bomba</th>\n",
       "      <th>cuplas</th>\n",
       "      <th>produccion_petroleo</th>\n",
       "      <th>profundidad_gas</th>\n",
       "      <th>profundidad_niveles</th>\n",
       "      <th>velocidad_sonido</th>\n",
       "      <th>sumergencia_efectiva</th>\n",
       "      <th>presion_dinamica</th>\n",
       "      <th>presion_interface</th>\n",
       "    </tr>\n",
       "  </thead>\n",
       "  <tbody>\n",
       "  </tbody>\n",
       "</table>\n",
       "<p>0 rows × 27 columns</p>\n",
       "</div>"
      ],
      "text/plain": [
       "Empty DataFrame\n",
       "Columns: [fecha, pozo, porcentaje_agua, presion_casing, presion_boca_pozo, yacimiento, zona, carrera, gpm, tv, sv, cbe, tmax, vpmax, carga_max_fondo, carga_min_fondo, sobre_recorrido, estiramiento, profundidad_bomba, cuplas, produccion_petroleo, profundidad_gas, profundidad_niveles, velocidad_sonido, sumergencia_efectiva, presion_dinamica, presion_interface]\n",
       "Index: []\n",
       "\n",
       "[0 rows x 27 columns]"
      ]
     },
     "execution_count": 22,
     "metadata": {},
     "output_type": "execute_result"
    }
   ],
   "source": [
    "df[df.profundidad_bomba <= df.profundidad_niveles]"
   ]
  },
  {
   "cell_type": "code",
   "execution_count": 23,
   "id": "2bcaa4cb",
   "metadata": {
    "ExecuteTime": {
     "end_time": "2023-10-23T19:45:59.777681Z",
     "start_time": "2023-10-23T19:45:59.758006Z"
    }
   },
   "outputs": [
    {
     "data": {
      "text/html": [
       "<div>\n",
       "<style scoped>\n",
       "    .dataframe tbody tr th:only-of-type {\n",
       "        vertical-align: middle;\n",
       "    }\n",
       "\n",
       "    .dataframe tbody tr th {\n",
       "        vertical-align: top;\n",
       "    }\n",
       "\n",
       "    .dataframe thead th {\n",
       "        text-align: right;\n",
       "    }\n",
       "</style>\n",
       "<table border=\"1\" class=\"dataframe\">\n",
       "  <thead>\n",
       "    <tr style=\"text-align: right;\">\n",
       "      <th></th>\n",
       "      <th>fecha</th>\n",
       "      <th>pozo</th>\n",
       "      <th>porcentaje_agua</th>\n",
       "      <th>presion_casing</th>\n",
       "      <th>presion_boca_pozo</th>\n",
       "      <th>yacimiento</th>\n",
       "      <th>zona</th>\n",
       "      <th>carrera</th>\n",
       "      <th>gpm</th>\n",
       "      <th>tv</th>\n",
       "      <th>...</th>\n",
       "      <th>estiramiento</th>\n",
       "      <th>profundidad_bomba</th>\n",
       "      <th>cuplas</th>\n",
       "      <th>produccion_petroleo</th>\n",
       "      <th>profundidad_gas</th>\n",
       "      <th>profundidad_niveles</th>\n",
       "      <th>velocidad_sonido</th>\n",
       "      <th>sumergencia_efectiva</th>\n",
       "      <th>presion_dinamica</th>\n",
       "      <th>presion_interface</th>\n",
       "    </tr>\n",
       "  </thead>\n",
       "  <tbody>\n",
       "    <tr>\n",
       "      <th>1748</th>\n",
       "      <td>2021-01-05</td>\n",
       "      <td>E 196</td>\n",
       "      <td>72.03</td>\n",
       "      <td>14.2</td>\n",
       "      <td>16.5</td>\n",
       "      <td>DIADEMA</td>\n",
       "      <td>ZONA 6</td>\n",
       "      <td>143.58</td>\n",
       "      <td>5.50</td>\n",
       "      <td>12496</td>\n",
       "      <td>...</td>\n",
       "      <td>14.42</td>\n",
       "      <td>1265.00</td>\n",
       "      <td>130.8</td>\n",
       "      <td>9.7</td>\n",
       "      <td>1229</td>\n",
       "      <td>1229</td>\n",
       "      <td>4431</td>\n",
       "      <td>36</td>\n",
       "      <td>278</td>\n",
       "      <td>231</td>\n",
       "    </tr>\n",
       "    <tr>\n",
       "      <th>1800</th>\n",
       "      <td>2021-02-01</td>\n",
       "      <td>E 196</td>\n",
       "      <td>72.03</td>\n",
       "      <td>14.5</td>\n",
       "      <td>15.0</td>\n",
       "      <td>DIADEMA</td>\n",
       "      <td>ZONA 6</td>\n",
       "      <td>142.97</td>\n",
       "      <td>5.40</td>\n",
       "      <td>12363</td>\n",
       "      <td>...</td>\n",
       "      <td>15.75</td>\n",
       "      <td>1265.00</td>\n",
       "      <td>129.4</td>\n",
       "      <td>9.7</td>\n",
       "      <td>1216</td>\n",
       "      <td>1236</td>\n",
       "      <td>4317</td>\n",
       "      <td>29</td>\n",
       "      <td>273</td>\n",
       "      <td>236</td>\n",
       "    </tr>\n",
       "    <tr>\n",
       "      <th>2056</th>\n",
       "      <td>2020-12-10</td>\n",
       "      <td>E 207</td>\n",
       "      <td>95.00</td>\n",
       "      <td>24.4</td>\n",
       "      <td>27.0</td>\n",
       "      <td>DIADEMA</td>\n",
       "      <td>ZONA 6</td>\n",
       "      <td>167.33</td>\n",
       "      <td>5.85</td>\n",
       "      <td>11009</td>\n",
       "      <td>...</td>\n",
       "      <td>12.57</td>\n",
       "      <td>1244.22</td>\n",
       "      <td>117.0</td>\n",
       "      <td>1.3</td>\n",
       "      <td>1100</td>\n",
       "      <td>1201</td>\n",
       "      <td>3236</td>\n",
       "      <td>42</td>\n",
       "      <td>446</td>\n",
       "      <td>391</td>\n",
       "    </tr>\n",
       "    <tr>\n",
       "      <th>1867</th>\n",
       "      <td>2021-08-12</td>\n",
       "      <td>L 109</td>\n",
       "      <td>94.94</td>\n",
       "      <td>0.0</td>\n",
       "      <td>5.0</td>\n",
       "      <td>DIADEMA</td>\n",
       "      <td>ZONA 7</td>\n",
       "      <td>168.33</td>\n",
       "      <td>8.00</td>\n",
       "      <td>14390</td>\n",
       "      <td>...</td>\n",
       "      <td>17.24</td>\n",
       "      <td>1288.34</td>\n",
       "      <td>104.0</td>\n",
       "      <td>5.8</td>\n",
       "      <td>978</td>\n",
       "      <td>978</td>\n",
       "      <td>4969</td>\n",
       "      <td>310</td>\n",
       "      <td>407</td>\n",
       "      <td>2</td>\n",
       "    </tr>\n",
       "    <tr>\n",
       "      <th>900</th>\n",
       "      <td>2022-05-24</td>\n",
       "      <td>L 83</td>\n",
       "      <td>93.79</td>\n",
       "      <td>0.0</td>\n",
       "      <td>5.5</td>\n",
       "      <td>DIADEMA</td>\n",
       "      <td>ZONA 4</td>\n",
       "      <td>168.89</td>\n",
       "      <td>5.25</td>\n",
       "      <td>15443</td>\n",
       "      <td>...</td>\n",
       "      <td>20.81</td>\n",
       "      <td>1631.14</td>\n",
       "      <td>158.8</td>\n",
       "      <td>1.3</td>\n",
       "      <td>1493</td>\n",
       "      <td>1526</td>\n",
       "      <td>7825</td>\n",
       "      <td>105</td>\n",
       "      <td>140</td>\n",
       "      <td>2</td>\n",
       "    </tr>\n",
       "    <tr>\n",
       "      <th>767</th>\n",
       "      <td>2022-08-19</td>\n",
       "      <td>L 83</td>\n",
       "      <td>85.55</td>\n",
       "      <td>0.0</td>\n",
       "      <td>4.0</td>\n",
       "      <td>DIADEMA</td>\n",
       "      <td>ZONA 4</td>\n",
       "      <td>168.19</td>\n",
       "      <td>6.52</td>\n",
       "      <td>14125</td>\n",
       "      <td>...</td>\n",
       "      <td>20.31</td>\n",
       "      <td>1631.14</td>\n",
       "      <td>147.6</td>\n",
       "      <td>3.9</td>\n",
       "      <td>1387</td>\n",
       "      <td>1510</td>\n",
       "      <td>7588</td>\n",
       "      <td>121</td>\n",
       "      <td>160</td>\n",
       "      <td>2</td>\n",
       "    </tr>\n",
       "  </tbody>\n",
       "</table>\n",
       "<p>6 rows × 27 columns</p>\n",
       "</div>"
      ],
      "text/plain": [
       "          fecha   pozo  porcentaje_agua  presion_casing  presion_boca_pozo  \\\n",
       "1748 2021-01-05  E 196            72.03            14.2               16.5   \n",
       "1800 2021-02-01  E 196            72.03            14.5               15.0   \n",
       "2056 2020-12-10  E 207            95.00            24.4               27.0   \n",
       "1867 2021-08-12  L 109            94.94             0.0                5.0   \n",
       "900  2022-05-24   L 83            93.79             0.0                5.5   \n",
       "767  2022-08-19   L 83            85.55             0.0                4.0   \n",
       "\n",
       "     yacimiento    zona  carrera   gpm     tv  ...  estiramiento  \\\n",
       "1748    DIADEMA  ZONA 6   143.58  5.50  12496  ...         14.42   \n",
       "1800    DIADEMA  ZONA 6   142.97  5.40  12363  ...         15.75   \n",
       "2056    DIADEMA  ZONA 6   167.33  5.85  11009  ...         12.57   \n",
       "1867    DIADEMA  ZONA 7   168.33  8.00  14390  ...         17.24   \n",
       "900     DIADEMA  ZONA 4   168.89  5.25  15443  ...         20.81   \n",
       "767     DIADEMA  ZONA 4   168.19  6.52  14125  ...         20.31   \n",
       "\n",
       "      profundidad_bomba  cuplas  produccion_petroleo  profundidad_gas  \\\n",
       "1748            1265.00   130.8                  9.7             1229   \n",
       "1800            1265.00   129.4                  9.7             1216   \n",
       "2056            1244.22   117.0                  1.3             1100   \n",
       "1867            1288.34   104.0                  5.8              978   \n",
       "900             1631.14   158.8                  1.3             1493   \n",
       "767             1631.14   147.6                  3.9             1387   \n",
       "\n",
       "      profundidad_niveles  velocidad_sonido  sumergencia_efectiva  \\\n",
       "1748                 1229              4431                    36   \n",
       "1800                 1236              4317                    29   \n",
       "2056                 1201              3236                    42   \n",
       "1867                  978              4969                   310   \n",
       "900                  1526              7825                   105   \n",
       "767                  1510              7588                   121   \n",
       "\n",
       "      presion_dinamica  presion_interface  \n",
       "1748               278                231  \n",
       "1800               273                236  \n",
       "2056               446                391  \n",
       "1867               407                  2  \n",
       "900                140                  2  \n",
       "767                160                  2  \n",
       "\n",
       "[6 rows x 27 columns]"
      ]
     },
     "execution_count": 23,
     "metadata": {},
     "output_type": "execute_result"
    }
   ],
   "source": [
    "df[df.velocidad_sonido > 800]"
   ]
  },
  {
   "cell_type": "code",
   "execution_count": 24,
   "id": "5669b05a",
   "metadata": {
    "ExecuteTime": {
     "end_time": "2023-10-23T19:45:59.795632Z",
     "start_time": "2023-10-23T19:45:59.780020Z"
    }
   },
   "outputs": [
    {
     "data": {
      "text/html": [
       "<div>\n",
       "<style scoped>\n",
       "    .dataframe tbody tr th:only-of-type {\n",
       "        vertical-align: middle;\n",
       "    }\n",
       "\n",
       "    .dataframe tbody tr th {\n",
       "        vertical-align: top;\n",
       "    }\n",
       "\n",
       "    .dataframe thead th {\n",
       "        text-align: right;\n",
       "    }\n",
       "</style>\n",
       "<table border=\"1\" class=\"dataframe\">\n",
       "  <thead>\n",
       "    <tr style=\"text-align: right;\">\n",
       "      <th></th>\n",
       "      <th>fecha</th>\n",
       "      <th>pozo</th>\n",
       "      <th>porcentaje_agua</th>\n",
       "      <th>presion_casing</th>\n",
       "      <th>presion_boca_pozo</th>\n",
       "      <th>yacimiento</th>\n",
       "      <th>zona</th>\n",
       "      <th>carrera</th>\n",
       "      <th>gpm</th>\n",
       "      <th>tv</th>\n",
       "      <th>...</th>\n",
       "      <th>estiramiento</th>\n",
       "      <th>profundidad_bomba</th>\n",
       "      <th>cuplas</th>\n",
       "      <th>produccion_petroleo</th>\n",
       "      <th>profundidad_gas</th>\n",
       "      <th>profundidad_niveles</th>\n",
       "      <th>velocidad_sonido</th>\n",
       "      <th>sumergencia_efectiva</th>\n",
       "      <th>presion_dinamica</th>\n",
       "      <th>presion_interface</th>\n",
       "    </tr>\n",
       "  </thead>\n",
       "  <tbody>\n",
       "    <tr>\n",
       "      <th>1493</th>\n",
       "      <td>2021-09-06</td>\n",
       "      <td>E 189</td>\n",
       "      <td>NaN</td>\n",
       "      <td>6.4</td>\n",
       "      <td>7.0</td>\n",
       "      <td>DIADEMA</td>\n",
       "      <td>ZONA 6</td>\n",
       "      <td>168.62</td>\n",
       "      <td>6.08</td>\n",
       "      <td>8523</td>\n",
       "      <td>...</td>\n",
       "      <td>7.71</td>\n",
       "      <td>1404.72</td>\n",
       "      <td>98.5</td>\n",
       "      <td>-11.4</td>\n",
       "      <td>924</td>\n",
       "      <td>1012</td>\n",
       "      <td>286</td>\n",
       "      <td>393</td>\n",
       "      <td>615</td>\n",
       "      <td>102</td>\n",
       "    </tr>\n",
       "  </tbody>\n",
       "</table>\n",
       "<p>1 rows × 27 columns</p>\n",
       "</div>"
      ],
      "text/plain": [
       "          fecha   pozo  porcentaje_agua  presion_casing  presion_boca_pozo  \\\n",
       "1493 2021-09-06  E 189              NaN             6.4                7.0   \n",
       "\n",
       "     yacimiento    zona  carrera   gpm    tv  ...  estiramiento  \\\n",
       "1493    DIADEMA  ZONA 6   168.62  6.08  8523  ...          7.71   \n",
       "\n",
       "      profundidad_bomba  cuplas  produccion_petroleo  profundidad_gas  \\\n",
       "1493            1404.72    98.5                -11.4              924   \n",
       "\n",
       "      profundidad_niveles  velocidad_sonido  sumergencia_efectiva  \\\n",
       "1493                 1012               286                   393   \n",
       "\n",
       "      presion_dinamica  presion_interface  \n",
       "1493               615                102  \n",
       "\n",
       "[1 rows x 27 columns]"
      ]
     },
     "execution_count": 24,
     "metadata": {},
     "output_type": "execute_result"
    }
   ],
   "source": [
    "df[df.produccion_petroleo < 0]"
   ]
  },
  {
   "cell_type": "code",
   "execution_count": 25,
   "id": "62fe5e5d",
   "metadata": {
    "ExecuteTime": {
     "end_time": "2023-10-23T19:45:59.823661Z",
     "start_time": "2023-10-23T19:45:59.799353Z"
    }
   },
   "outputs": [
    {
     "data": {
      "text/html": [
       "<div>\n",
       "<style scoped>\n",
       "    .dataframe tbody tr th:only-of-type {\n",
       "        vertical-align: middle;\n",
       "    }\n",
       "\n",
       "    .dataframe tbody tr th {\n",
       "        vertical-align: top;\n",
       "    }\n",
       "\n",
       "    .dataframe thead th {\n",
       "        text-align: right;\n",
       "    }\n",
       "</style>\n",
       "<table border=\"1\" class=\"dataframe\">\n",
       "  <thead>\n",
       "    <tr style=\"text-align: right;\">\n",
       "      <th></th>\n",
       "      <th>fecha</th>\n",
       "      <th>pozo</th>\n",
       "      <th>porcentaje_agua</th>\n",
       "      <th>presion_casing</th>\n",
       "      <th>presion_boca_pozo</th>\n",
       "      <th>yacimiento</th>\n",
       "      <th>zona</th>\n",
       "      <th>carrera</th>\n",
       "      <th>gpm</th>\n",
       "      <th>tv</th>\n",
       "      <th>...</th>\n",
       "      <th>estiramiento</th>\n",
       "      <th>profundidad_bomba</th>\n",
       "      <th>cuplas</th>\n",
       "      <th>produccion_petroleo</th>\n",
       "      <th>profundidad_gas</th>\n",
       "      <th>profundidad_niveles</th>\n",
       "      <th>velocidad_sonido</th>\n",
       "      <th>sumergencia_efectiva</th>\n",
       "      <th>presion_dinamica</th>\n",
       "      <th>presion_interface</th>\n",
       "    </tr>\n",
       "  </thead>\n",
       "  <tbody>\n",
       "    <tr>\n",
       "      <th>359</th>\n",
       "      <td>2022-07-07</td>\n",
       "      <td>07 07</td>\n",
       "      <td>69.67</td>\n",
       "      <td>11.9</td>\n",
       "      <td>12.5</td>\n",
       "      <td>DIADEMA</td>\n",
       "      <td>ZONA 6</td>\n",
       "      <td>144.50</td>\n",
       "      <td>3.52</td>\n",
       "      <td>13532</td>\n",
       "      <td>...</td>\n",
       "      <td>19.21</td>\n",
       "      <td>1463.20</td>\n",
       "      <td>149.5</td>\n",
       "      <td>1.7</td>\n",
       "      <td>1404</td>\n",
       "      <td>1403</td>\n",
       "      <td>282</td>\n",
       "      <td>59</td>\n",
       "      <td>275</td>\n",
       "      <td>198</td>\n",
       "    </tr>\n",
       "    <tr>\n",
       "      <th>104</th>\n",
       "      <td>2022-04-14</td>\n",
       "      <td>14 H</td>\n",
       "      <td>78.06</td>\n",
       "      <td>0.1</td>\n",
       "      <td>3.0</td>\n",
       "      <td>DIADEMA</td>\n",
       "      <td>ZONA 4</td>\n",
       "      <td>166.53</td>\n",
       "      <td>6.88</td>\n",
       "      <td>15470</td>\n",
       "      <td>...</td>\n",
       "      <td>35.84</td>\n",
       "      <td>2157.47</td>\n",
       "      <td>135.3</td>\n",
       "      <td>10.1</td>\n",
       "      <td>1273</td>\n",
       "      <td>1272</td>\n",
       "      <td>404</td>\n",
       "      <td>885</td>\n",
       "      <td>1160</td>\n",
       "      <td>4</td>\n",
       "    </tr>\n",
       "    <tr>\n",
       "      <th>124</th>\n",
       "      <td>2022-04-14</td>\n",
       "      <td>14 H</td>\n",
       "      <td>89.01</td>\n",
       "      <td>0.0</td>\n",
       "      <td>2.0</td>\n",
       "      <td>DIADEMA</td>\n",
       "      <td>ZONA 4</td>\n",
       "      <td>143.61</td>\n",
       "      <td>6.94</td>\n",
       "      <td>16187</td>\n",
       "      <td>...</td>\n",
       "      <td>23.45</td>\n",
       "      <td>1775.39</td>\n",
       "      <td>162.2</td>\n",
       "      <td>4.2</td>\n",
       "      <td>1525</td>\n",
       "      <td>1524</td>\n",
       "      <td>385</td>\n",
       "      <td>250</td>\n",
       "      <td>330</td>\n",
       "      <td>3</td>\n",
       "    </tr>\n",
       "    <tr>\n",
       "      <th>1649</th>\n",
       "      <td>2021-12-21</td>\n",
       "      <td>A 53</td>\n",
       "      <td>80.00</td>\n",
       "      <td>0.0</td>\n",
       "      <td>1.5</td>\n",
       "      <td>DIADEMA</td>\n",
       "      <td>BAT6</td>\n",
       "      <td>193.18</td>\n",
       "      <td>4.99</td>\n",
       "      <td>18116</td>\n",
       "      <td>...</td>\n",
       "      <td>29.23</td>\n",
       "      <td>2304.08</td>\n",
       "      <td>93.9</td>\n",
       "      <td>13.0</td>\n",
       "      <td>883</td>\n",
       "      <td>882</td>\n",
       "      <td>357</td>\n",
       "      <td>1421</td>\n",
       "      <td>1859</td>\n",
       "      <td>1</td>\n",
       "    </tr>\n",
       "    <tr>\n",
       "      <th>1637</th>\n",
       "      <td>2021-12-29</td>\n",
       "      <td>A 53</td>\n",
       "      <td>80.00</td>\n",
       "      <td>0.0</td>\n",
       "      <td>11.0</td>\n",
       "      <td>DIADEMA</td>\n",
       "      <td>BAT6</td>\n",
       "      <td>193.20</td>\n",
       "      <td>6.88</td>\n",
       "      <td>16983</td>\n",
       "      <td>...</td>\n",
       "      <td>26.94</td>\n",
       "      <td>2304.08</td>\n",
       "      <td>95.3</td>\n",
       "      <td>13.0</td>\n",
       "      <td>896</td>\n",
       "      <td>895</td>\n",
       "      <td>273</td>\n",
       "      <td>1408</td>\n",
       "      <td>1842</td>\n",
       "      <td>1</td>\n",
       "    </tr>\n",
       "    <tr>\n",
       "      <th>...</th>\n",
       "      <td>...</td>\n",
       "      <td>...</td>\n",
       "      <td>...</td>\n",
       "      <td>...</td>\n",
       "      <td>...</td>\n",
       "      <td>...</td>\n",
       "      <td>...</td>\n",
       "      <td>...</td>\n",
       "      <td>...</td>\n",
       "      <td>...</td>\n",
       "      <td>...</td>\n",
       "      <td>...</td>\n",
       "      <td>...</td>\n",
       "      <td>...</td>\n",
       "      <td>...</td>\n",
       "      <td>...</td>\n",
       "      <td>...</td>\n",
       "      <td>...</td>\n",
       "      <td>...</td>\n",
       "      <td>...</td>\n",
       "      <td>...</td>\n",
       "    </tr>\n",
       "    <tr>\n",
       "      <th>154</th>\n",
       "      <td>2022-04-21</td>\n",
       "      <td>L 96</td>\n",
       "      <td>61.53</td>\n",
       "      <td>1.5</td>\n",
       "      <td>2.0</td>\n",
       "      <td>DIADEMA</td>\n",
       "      <td>ZONA 4</td>\n",
       "      <td>144.74</td>\n",
       "      <td>7.18</td>\n",
       "      <td>11169</td>\n",
       "      <td>...</td>\n",
       "      <td>17.68</td>\n",
       "      <td>1464.46</td>\n",
       "      <td>79.5</td>\n",
       "      <td>19.3</td>\n",
       "      <td>747</td>\n",
       "      <td>746</td>\n",
       "      <td>340</td>\n",
       "      <td>718</td>\n",
       "      <td>962</td>\n",
       "      <td>24</td>\n",
       "    </tr>\n",
       "    <tr>\n",
       "      <th>137</th>\n",
       "      <td>2022-04-26</td>\n",
       "      <td>L 97</td>\n",
       "      <td>90.25</td>\n",
       "      <td>0.0</td>\n",
       "      <td>7.0</td>\n",
       "      <td>DIADEMA</td>\n",
       "      <td>ZONA 7</td>\n",
       "      <td>168.50</td>\n",
       "      <td>6.85</td>\n",
       "      <td>17974</td>\n",
       "      <td>...</td>\n",
       "      <td>28.18</td>\n",
       "      <td>1646.06</td>\n",
       "      <td>131.3</td>\n",
       "      <td>11.1</td>\n",
       "      <td>1235</td>\n",
       "      <td>1234</td>\n",
       "      <td>403</td>\n",
       "      <td>411</td>\n",
       "      <td>539</td>\n",
       "      <td>2</td>\n",
       "    </tr>\n",
       "    <tr>\n",
       "      <th>327</th>\n",
       "      <td>2022-07-22</td>\n",
       "      <td>L 98</td>\n",
       "      <td>90.45</td>\n",
       "      <td>0.0</td>\n",
       "      <td>30.0</td>\n",
       "      <td>DIADEMA</td>\n",
       "      <td>ZONA 7</td>\n",
       "      <td>168.80</td>\n",
       "      <td>8.77</td>\n",
       "      <td>20231</td>\n",
       "      <td>...</td>\n",
       "      <td>29.64</td>\n",
       "      <td>1578.35</td>\n",
       "      <td>113.4</td>\n",
       "      <td>14.1</td>\n",
       "      <td>1065</td>\n",
       "      <td>1064</td>\n",
       "      <td>386</td>\n",
       "      <td>513</td>\n",
       "      <td>673</td>\n",
       "      <td>2</td>\n",
       "    </tr>\n",
       "    <tr>\n",
       "      <th>822</th>\n",
       "      <td>2022-08-19</td>\n",
       "      <td>L 98</td>\n",
       "      <td>89.91</td>\n",
       "      <td>0.0</td>\n",
       "      <td>6.5</td>\n",
       "      <td>DIADEMA</td>\n",
       "      <td>ZONA 7</td>\n",
       "      <td>169.06</td>\n",
       "      <td>8.85</td>\n",
       "      <td>19452</td>\n",
       "      <td>...</td>\n",
       "      <td>29.67</td>\n",
       "      <td>1578.35</td>\n",
       "      <td>116.5</td>\n",
       "      <td>14.1</td>\n",
       "      <td>1094</td>\n",
       "      <td>1093</td>\n",
       "      <td>413</td>\n",
       "      <td>484</td>\n",
       "      <td>635</td>\n",
       "      <td>2</td>\n",
       "    </tr>\n",
       "    <tr>\n",
       "      <th>1551</th>\n",
       "      <td>2021-09-21</td>\n",
       "      <td>O 44</td>\n",
       "      <td>NaN</td>\n",
       "      <td>0.0</td>\n",
       "      <td>8.0</td>\n",
       "      <td>DIADEMA</td>\n",
       "      <td>ZONA 7</td>\n",
       "      <td>75.00</td>\n",
       "      <td>7.63</td>\n",
       "      <td>1805</td>\n",
       "      <td>...</td>\n",
       "      <td>1.67</td>\n",
       "      <td>134.58</td>\n",
       "      <td>8.9</td>\n",
       "      <td>0.0</td>\n",
       "      <td>83</td>\n",
       "      <td>82</td>\n",
       "      <td>283</td>\n",
       "      <td>52</td>\n",
       "      <td>68</td>\n",
       "      <td>0</td>\n",
       "    </tr>\n",
       "  </tbody>\n",
       "</table>\n",
       "<p>149 rows × 27 columns</p>\n",
       "</div>"
      ],
      "text/plain": [
       "          fecha   pozo  porcentaje_agua  presion_casing  presion_boca_pozo  \\\n",
       "359  2022-07-07  07 07            69.67            11.9               12.5   \n",
       "104  2022-04-14   14 H            78.06             0.1                3.0   \n",
       "124  2022-04-14   14 H            89.01             0.0                2.0   \n",
       "1649 2021-12-21   A 53            80.00             0.0                1.5   \n",
       "1637 2021-12-29   A 53            80.00             0.0               11.0   \n",
       "...         ...    ...              ...             ...                ...   \n",
       "154  2022-04-21   L 96            61.53             1.5                2.0   \n",
       "137  2022-04-26   L 97            90.25             0.0                7.0   \n",
       "327  2022-07-22   L 98            90.45             0.0               30.0   \n",
       "822  2022-08-19   L 98            89.91             0.0                6.5   \n",
       "1551 2021-09-21   O 44              NaN             0.0                8.0   \n",
       "\n",
       "     yacimiento    zona  carrera   gpm     tv  ...  estiramiento  \\\n",
       "359     DIADEMA  ZONA 6   144.50  3.52  13532  ...         19.21   \n",
       "104     DIADEMA  ZONA 4   166.53  6.88  15470  ...         35.84   \n",
       "124     DIADEMA  ZONA 4   143.61  6.94  16187  ...         23.45   \n",
       "1649    DIADEMA    BAT6   193.18  4.99  18116  ...         29.23   \n",
       "1637    DIADEMA    BAT6   193.20  6.88  16983  ...         26.94   \n",
       "...         ...     ...      ...   ...    ...  ...           ...   \n",
       "154     DIADEMA  ZONA 4   144.74  7.18  11169  ...         17.68   \n",
       "137     DIADEMA  ZONA 7   168.50  6.85  17974  ...         28.18   \n",
       "327     DIADEMA  ZONA 7   168.80  8.77  20231  ...         29.64   \n",
       "822     DIADEMA  ZONA 7   169.06  8.85  19452  ...         29.67   \n",
       "1551    DIADEMA  ZONA 7    75.00  7.63   1805  ...          1.67   \n",
       "\n",
       "      profundidad_bomba  cuplas  produccion_petroleo  profundidad_gas  \\\n",
       "359             1463.20   149.5                  1.7             1404   \n",
       "104             2157.47   135.3                 10.1             1273   \n",
       "124             1775.39   162.2                  4.2             1525   \n",
       "1649            2304.08    93.9                 13.0              883   \n",
       "1637            2304.08    95.3                 13.0              896   \n",
       "...                 ...     ...                  ...              ...   \n",
       "154             1464.46    79.5                 19.3              747   \n",
       "137             1646.06   131.3                 11.1             1235   \n",
       "327             1578.35   113.4                 14.1             1065   \n",
       "822             1578.35   116.5                 14.1             1094   \n",
       "1551             134.58     8.9                  0.0               83   \n",
       "\n",
       "      profundidad_niveles  velocidad_sonido  sumergencia_efectiva  \\\n",
       "359                  1403               282                    59   \n",
       "104                  1272               404                   885   \n",
       "124                  1524               385                   250   \n",
       "1649                  882               357                  1421   \n",
       "1637                  895               273                  1408   \n",
       "...                   ...               ...                   ...   \n",
       "154                   746               340                   718   \n",
       "137                  1234               403                   411   \n",
       "327                  1064               386                   513   \n",
       "822                  1093               413                   484   \n",
       "1551                   82               283                    52   \n",
       "\n",
       "      presion_dinamica  presion_interface  \n",
       "359                275                198  \n",
       "104               1160                  4  \n",
       "124                330                  3  \n",
       "1649              1859                  1  \n",
       "1637              1842                  1  \n",
       "...                ...                ...  \n",
       "154                962                 24  \n",
       "137                539                  2  \n",
       "327                673                  2  \n",
       "822                635                  2  \n",
       "1551                68                  0  \n",
       "\n",
       "[149 rows x 27 columns]"
      ]
     },
     "execution_count": 25,
     "metadata": {},
     "output_type": "execute_result"
    }
   ],
   "source": [
    "df[df.profundidad_gas > df.profundidad_niveles]"
   ]
  },
  {
   "cell_type": "markdown",
   "id": "bc62c466",
   "metadata": {},
   "source": [
    "# Preguntas/anotaciones:\n",
    "- El nivel de profundidad del petroleo, no debería mantenerse constante o en su defecto ir aumentando conforme se extrae el mismo?. Esto no siempre es así, por ejemplo ver pozo E 151.\n",
    "- De que depende que hagan dos tipos de informe?. Algunos tienen 3 hojas, otros 5/6 con más información.\n",
    "- Qué tan fiables son las mediciones de la velocidad del sonido que aparecen en estos informes?. Hay valores de 4969 m/s por ejemplo (ver pozo L 109).\n",
    "- Que hace que haya cambios bruscos en el pozo respecto a los niveles y la velocidad del mismo?. Es factible que pase esto o son errores de medición?. Ver pozo E 184 por ejemplo.\n",
    "- En todos los casos, la profundidad de la bomba parece mantenerse constante (a excepción de algún cambio). El objetivo de estas mediciones que realizan no es justamente modificar la profundidad de la bomba?\n",
    "- Parecería haber una correlación (aunque no muy fuerte) entre la profundidad de la bomba y la producción del pozo.\n"
   ]
  },
  {
   "cell_type": "markdown",
   "id": "965537ee",
   "metadata": {},
   "source": [
    "# Diferencia en días entre estudios consecutivos"
   ]
  },
  {
   "cell_type": "code",
   "execution_count": 33,
   "id": "e8ea0a88",
   "metadata": {
    "ExecuteTime": {
     "end_time": "2023-10-23T19:46:00.084898Z",
     "start_time": "2023-10-23T19:46:00.082315Z"
    }
   },
   "outputs": [],
   "source": [
    "import numpy as np"
   ]
  },
  {
   "cell_type": "code",
   "execution_count": 34,
   "id": "283bd286",
   "metadata": {
    "ExecuteTime": {
     "end_time": "2023-10-23T19:46:00.095230Z",
     "start_time": "2023-10-23T19:46:00.087077Z"
    }
   },
   "outputs": [],
   "source": [
    "df = df.sort_values(['pozo', 'fecha'])\n",
    "df['dias_estudio_previo'] = df.fecha - df.shift(1).fecha\n",
    "df['pozo_estudio_previo'] = df.shift(1).pozo\n",
    "df.loc[df.pozo_estudio_previo != df.pozo, 'dias_estudio_previo'] = np.nan"
   ]
  },
  {
   "cell_type": "code",
   "execution_count": 36,
   "id": "ce8f221e",
   "metadata": {
    "ExecuteTime": {
     "end_time": "2023-10-23T19:46:00.134316Z",
     "start_time": "2023-10-23T19:46:00.125017Z"
    }
   },
   "outputs": [
    {
     "data": {
      "text/plain": [
       "count                          2132\n",
       "mean     35 days 11:28:15.309568480\n",
       "std      41 days 08:21:41.850626891\n",
       "min                 0 days 00:00:00\n",
       "25%                27 days 00:00:00\n",
       "50%                30 days 00:00:00\n",
       "75%                35 days 00:00:00\n",
       "max               791 days 00:00:00\n",
       "Name: dias_estudio_previo, dtype: object"
      ]
     },
     "execution_count": 36,
     "metadata": {},
     "output_type": "execute_result"
    }
   ],
   "source": [
    "df.dias_estudio_previo.describe()"
   ]
  },
  {
   "cell_type": "code",
   "execution_count": 37,
   "id": "6cf36870",
   "metadata": {
    "ExecuteTime": {
     "end_time": "2023-10-23T19:46:00.375426Z",
     "start_time": "2023-10-23T19:46:00.136365Z"
    }
   },
   "outputs": [
    {
     "data": {
      "text/plain": [
       "<Axes: ylabel='Frequency'>"
      ]
     },
     "execution_count": 37,
     "metadata": {},
     "output_type": "execute_result"
    },
    {
     "data": {
      "image/png": "[encoded data removed]",
      "text/plain": [
       "<Figure size 640x480 with 1 Axes>"
      ]
     },
     "metadata": {},
     "output_type": "display_data"
    }
   ],
   "source": [
    "df[df.dias_estudio_previo.dt.days < 300].dias_estudio_previo.dt.days.plot.hist(bins=50)"
   ]
  },
  {
   "cell_type": "code",
   "execution_count": 38,
   "id": "0aa6173b",
   "metadata": {
    "ExecuteTime": {
     "end_time": "2023-10-23T19:46:00.383644Z",
     "start_time": "2023-10-23T19:46:00.377559Z"
    }
   },
   "outputs": [
    {
     "data": {
      "text/plain": [
       "(1557, 29)"
      ]
     },
     "execution_count": 38,
     "metadata": {},
     "output_type": "execute_result"
    }
   ],
   "source": [
    "df[df.dias_estudio_previo.dt.days < 35].shape"
   ]
  },
  {
   "cell_type": "markdown",
   "id": "d748cd16",
   "metadata": {},
   "source": [
    "# Analizar correlaciones entre diferencias entre mediciones consecutivas de un pozo"
   ]
  },
  {
   "cell_type": "code",
   "execution_count": 40,
   "id": "64dd61c3",
   "metadata": {
    "ExecuteTime": {
     "end_time": "2023-10-23T19:46:00.443138Z",
     "start_time": "2023-10-23T19:46:00.391359Z"
    }
   },
   "outputs": [],
   "source": [
    "cols_to_include = ['fecha', 'porcentaje_agua', 'presion_casing', 'presion_boca_pozo',\n",
    "                   'tv', 'sv', 'cbe', 'tmax', 'vpmax', 'carga_max_fondo', 'carga_min_fondo',\n",
    "                   'sobre_recorrido', 'estiramiento',\n",
    "                   'profundidad_bomba', 'cuplas',\n",
    "                   'produccion_petroleo', 'profundidad_gas', 'profundidad_niveles',\n",
    "                   'velocidad_sonido', 'sumergencia_efectiva', 'presion_dinamica',\n",
    "                   'presion_interface', 'gpm', 'carrera']\n",
    "\n",
    "for c in cols_to_include:\n",
    "    df[f'diff_{c}'] = df[c] - df.shift(1)[c]\n",
    "    df.loc[df.pozo != df.pozo_estudio_previo, f'diff_{c}'] = np.nan"
   ]
  },
  {
   "cell_type": "code",
   "execution_count": 41,
   "id": "ea1fc165",
   "metadata": {
    "ExecuteTime": {
     "end_time": "2023-10-23T19:46:00.449898Z",
     "start_time": "2023-10-23T19:46:00.445576Z"
    }
   },
   "outputs": [],
   "source": [
    "df['diff_fecha'] = df.diff_fecha.dt.days"
   ]
  },
  {
   "cell_type": "code",
   "execution_count": 43,
   "id": "059c1c1c",
   "metadata": {
    "ExecuteTime": {
     "end_time": "2023-10-23T19:46:00.874673Z",
     "start_time": "2023-10-23T19:46:00.480890Z"
    }
   },
   "outputs": [
    {
     "data": {
      "application/vnd.plotly.v1+json": {
       "config": {
        "plotlyServerURL": "https://plot.ly"
       },
       "data": [
        {
         "coloraxis": "coloraxis",
         "hovertemplate": "x: %{x}<br>y: %{y}<br>color: %{z}<extra></extra>",
         "name": "0",
         "texttemplate": "%{z}",
         "type": "heatmap",
         "x": [
          "porcentaje_agua",
          "presion_casing",
          "presion_boca_pozo",
          "carrera",
          "gpm",
          "tv",
          "sv",
          "cbe",
          "tmax",
          "vpmax",
          "carga_max_fondo",
          "carga_min_fondo",
          "sobre_recorrido",
          "estiramiento",
          "profundidad_bomba",
          "cuplas",
          "produccion_petroleo",
          "profundidad_gas",
          "profundidad_niveles",
          "velocidad_sonido",
          "sumergencia_efectiva",
          "presion_dinamica",
          "presion_interface",
          "diff_fecha",
          "diff_porcentaje_agua",
          "diff_presion_casing",
          "diff_presion_boca_pozo",
          "diff_tv",
          "diff_sv",
          "diff_cbe",
          "diff_tmax",
          "diff_vpmax",
          "diff_carga_max_fondo",
          "diff_carga_min_fondo",
          "diff_sobre_recorrido",
          "diff_estiramiento",
          "diff_profundidad_bomba",
          "diff_cuplas",
          "diff_produccion_petroleo",
          "diff_profundidad_gas",
          "diff_profundidad_niveles",
          "diff_velocidad_sonido",
          "diff_sumergencia_efectiva",
          "diff_presion_dinamica",
          "diff_presion_interface",
          "diff_gpm",
          "diff_carrera"
         ],
         "xaxis": "x",
         "y": [
          "porcentaje_agua",
          "presion_casing",
          "presion_boca_pozo",
          "carrera",
          "gpm",
          "tv",
          "sv",
          "cbe",
          "tmax",
          "vpmax",
          "carga_max_fondo",
          "carga_min_fondo",
          "sobre_recorrido",
          "estiramiento",
          "profundidad_bomba",
          "cuplas",
          "produccion_petroleo",
          "profundidad_gas",
          "profundidad_niveles",
          "velocidad_sonido",
          "sumergencia_efectiva",
          "presion_dinamica",
          "presion_interface",
          "diff_fecha",
          "diff_porcentaje_agua",
          "diff_presion_casing",
          "diff_presion_boca_pozo",
          "diff_tv",
          "diff_sv",
          "diff_cbe",
          "diff_tmax",
          "diff_vpmax",
          "diff_carga_max_fondo",
          "diff_carga_min_fondo",
          "diff_sobre_recorrido",
          "diff_estiramiento",
          "diff_profundidad_bomba",
          "diff_cuplas",
          "diff_produccion_petroleo",
          "diff_profundidad_gas",
          "diff_profundidad_niveles",
          "diff_velocidad_sonido",
          "diff_sumergencia_efectiva",
          "diff_presion_dinamica",
          "diff_presion_interface",
          "diff_gpm",
          "diff_carrera"
         ],
         "yaxis": "y",
         "z": [
          [
           1,
           -0.2674865602988511,
           -0.2534452022064626,
           0.242064134855617,
           0.5759783656785161,
           -0.023905312730606885,
           0.007201495627230646,
           -0.007957179744041433,
           0.17233831239143932,
           0.4901079124804988,
           0.20921294101595372,
           -0.11598244474599587,
           0.021334502065660232,
           -0.07914157674910043,
           -0.12600956675120076,
           -0.34366307316552086,
           -0.507908300869994,
           -0.3435843931617398,
           -0.28600125293848666,
           0.3487210454278246,
           0.3671990004450221,
           0.2799319354378347,
           -0.32783895801180724,
           0.04224201799013444,
           0.13061580951506138,
           0.04878078369923193,
           0.007906975739571383,
           -0.004155575135568043,
           0.01482739359465457,
           0.019981227228577744,
           -0.01592695137667101,
           0.03020054846801053,
           0.0038904170676273705,
           0.0154132079462342,
           0.015653281001545786,
           -0.03330479376889154,
           -0.014117809229702983,
           0.05358375343813367,
           -0.07396692722960004,
           0.052667671124214256,
           0.02952779492905697,
           -0.006587023948491118,
           -0.03118096922277281,
           -0.015479041651246727,
           0.04737244230585847,
           0.04784931576886695,
           0.017533114226325953
          ],
          [
           -0.2674865602988511,
           1,
           0.2615708532380053,
           -0.2265736048489696,
           -0.3601073169110974,
           -0.24361572402919426,
           -0.1889038964361979,
           -0.2123139841048377,
           -0.31054351594144225,
           -0.38000207038277733,
           -0.3472389686675294,
           0.3112373056398135,
           -0.02029233871472292,
           -0.2101857660474404,
           -0.19567236609494576,
           0.023366531912337875,
           -0.11054298099649372,
           0.02356876805107867,
           0.07538440721703389,
           -0.49359471200412613,
           -0.3725668277173489,
           -0.06133418897540524,
           0.9460610210664419,
           0.004917535814653603,
           0.005981293726318576,
           0.06593665700034651,
           0.01598087320497129,
           0.0007953910200021371,
           -0.015821524632042727,
           -0.014313789208731246,
           0.014060737254876695,
           -0.007969806163869438,
           0.018070419262887754,
           0.014888944799882039,
           0.0034375241959239394,
           0.02494956103171441,
           0.009727137553309558,
           -0.023613361085819597,
           0.011392762557793066,
           -0.022643690674601667,
           -0.013533100795448701,
           0.004135292519160878,
           0.01091940501239984,
           0.03452868632931604,
           0.06868863964441857,
           -0.008736752140994473,
           -0.01079808259142715
          ],
          [
           -0.2534452022064626,
           0.2615708532380053,
           1,
           -0.08292540224555699,
           -0.18134266823291229,
           0.008126379188565368,
           -0.09004355671589151,
           -0.05927386679095541,
           -0.004782667869869174,
           -0.17001358226018462,
           0.02254243525430937,
           0.021148372559156168,
           -0.06560847657969862,
           0.04929552840781711,
           -0.016892296489964546,
           0.04243579806819547,
           0.0662300519969205,
           0.042228311971813794,
           0.0454668467102072,
           -0.2630400467232602,
           -0.17619454124567344,
           -0.06089508110875799,
           0.26741601144376775,
           -0.052060279869318035,
           0.002951357168416601,
           0.05095684973631668,
           0.2964575622547702,
           0.08731872275525757,
           -0.014377205067451437,
           0.022383982539708018,
           0.08203103060183546,
           -0.0015034507674392234,
           0.12586061274975313,
           -0.027586328088697296,
           -0.06505700667300554,
           0.12567540770033667,
           0.015552776479030486,
           0.05526793824573158,
           -0.017584981792241248,
           0.05507213358881133,
           0.04551893349557979,
           0.009767857489483799,
           -0.04453433210063105,
           -0.02678610088902502,
           0.06304627152649124,
           -0.043502920175391285,
           -0.002132144380642208
          ],
          [
           0.242064134855617,
           -0.2265736048489696,
           -0.08292540224555699,
           1,
           0.34739306049072877,
           0.3279166810329997,
           0.3549527351333469,
           0.2991670410370678,
           0.6625866719688795,
           0.6289548620593374,
           0.36109008573829454,
           -0.46262818334951583,
           0.18773049014518586,
           0.3594302091383184,
           0.40993823043267275,
           0.05967925045452977,
           0.1795026205535174,
           0.06032215305624097,
           0.14450607859293826,
           0.33392015913398515,
           0.40752575095113547,
           0.3596557326251601,
           -0.2242121827159229,
           -0.05601829320267546,
           0.009805182763224589,
           0.031269722072873846,
           0.031029661943348722,
           0.01853671454371452,
           0.026226632355232257,
           0.023388276187562014,
           0.016018800331342908,
           0.035186246163058404,
           0.03667784952082724,
           -0.01505072043256649,
           -0.020737390243931224,
           0.02877709179862191,
           0.05610106653206508,
           0.05327934963159017,
           -0.022922594935717803,
           0.05305149571311831,
           0.03389119685908935,
           0.006999163170893164,
           -0.029859885885239842,
           -0.030219407181984015,
           0.03111325328000963,
           0.04369473467787288,
           0.23495532220125404
          ],
          [
           0.5759783656785161,
           -0.3601073169110974,
           -0.18134266823291229,
           0.34739306049072877,
           1,
           0.11847533308630526,
           0.21304881842730444,
           0.20027829928792723,
           0.3560696829337566,
           0.830896565207467,
           0.3454911774719516,
           -0.4027466050011822,
           0.12312468178889908,
           0.07571427303683281,
           0.135159623046217,
           -0.35540734835395,
           0.13293195383949435,
           -0.35493303434017515,
           -0.2218053164290292,
           0.562210553188283,
           0.5431218021105394,
           0.45323597197938653,
           -0.42317473903474084,
           -0.019820492616481132,
           0.018214134574444693,
           0.030921042867208263,
           0.013748167420513227,
           0.018952923775521744,
           0.02791715140629145,
           -0.015491425701291207,
           0.03598347863199164,
           0.15665094517770353,
           0.044561661269116155,
           -0.02948661837357867,
           0.02339525376448751,
           -0.03334628908304658,
           0.0042688282410960135,
           0.10583679155937985,
           0.005435584442203245,
           0.10409610859262843,
           0.07682100175213329,
           -0.008804170181905286,
           -0.07668400662057964,
           -0.06228947790751765,
           0.039438314720226866,
           0.23429729750407788,
           0.0031812408715235028
          ],
          [
           -0.023905312730606885,
           -0.24361572402919426,
           0.008126379188565368,
           0.3279166810329997,
           0.11847533308630526,
           1,
           0.7687614453089103,
           0.7813469380091886,
           0.6930651727542563,
           0.4028317780296217,
           0.7750866497456335,
           -0.4739377667925337,
           0.2830507492261435,
           0.8480275320482672,
           0.7239476328807963,
           0.5456998364942727,
           0.20167475566792908,
           0.5463682490771068,
           0.6268812875690503,
           0.3719555703724111,
           0.13687908238484128,
           0.07520500402035861,
           -0.11981469586446074,
           0.002412782738248579,
           -0.0017820565006960072,
           0.025795802555332217,
           0.04316157072113715,
           0.18492456147653807,
           0.004013546202542145,
           0.07504238165484844,
           0.07357137439787466,
           -0.039186009144153426,
           0.10165105074218049,
           -0.02643579306216284,
           -0.05594884986721456,
           0.09757316191686996,
           0.02256443005120492,
           0.10976108825473044,
           -0.023172384615584397,
           0.10903658696898538,
           0.07091600518261697,
           -0.01670947501342906,
           -0.06304479839861797,
           -0.056943721840351715,
           0.04083063018406565,
           -0.042974465201539164,
           -0.007055840267073303
          ],
          [
           0.007201495627230646,
           -0.1889038964361979,
           -0.09004355671589151,
           0.3549527351333469,
           0.21304881842730444,
           0.7687614453089103,
           1,
           0.7666743447067964,
           0.510754543336695,
           0.47188539620388414,
           0.46485816791405526,
           -0.3675406058543615,
           0.5975337541434518,
           0.6809976028706382,
           0.7911139528599753,
           0.38193944254942935,
           0.15706733660834932,
           0.38291852854209446,
           0.5168425228227153,
           0.34801541536086694,
           0.32647641453676657,
           0.294129297220422,
           -0.1158270775747694,
           -0.025565317184386566,
           0.015321182605674487,
           0.01690640027006964,
           0.02592054774014414,
           0.0353439032352327,
           0.15297200572499234,
           0.050636308259773395,
           -0.007263106051140851,
           -0.012777244334876236,
           0.029167937230780223,
           0.03217611764270899,
           0.009882866981403404,
           0.005075844471877765,
           0.022370537971849538,
           0.0505819734733057,
           -0.021604708067772437,
           0.04892077671169994,
           0.03189451848856402,
           -0.007164679978170996,
           -0.026851297493369883,
           -0.018246598712150577,
           0.02324234774538129,
           0.013758374548256574,
           0.025619971288417843
          ],
          [
           -0.007957179744041433,
           -0.2123139841048377,
           -0.05927386679095541,
           0.2991670410370678,
           0.20027829928792723,
           0.7813469380091886,
           0.7666743447067964,
           1,
           0.6229064135833391,
           0.41508428024055166,
           0.5828766609551759,
           -0.4313288588117024,
           0.3800852341480383,
           0.6967128027181702,
           0.7226614116254927,
           0.3650724932945465,
           0.16628868214613,
           0.3657571088399336,
           0.44342280377723997,
           0.4048818557458987,
           0.3477450688656509,
           0.30795560887753487,
           -0.14259983828089892,
           -0.022884752136890663,
           0.003897804336948356,
           0.008411230225658515,
           0.019445863225373835,
           0.00716634709190222,
           -0.012266706523745431,
           0.09882097507109601,
           0.0212336076476264,
           -0.008672791567486219,
           0.018608705961300837,
           -0.0319330849132197,
           -0.025009384036520012,
           0.010863873605224629,
           0.01189358942122798,
           0.03741128873819191,
           -0.01396290462153586,
           0.03598438707004922,
           0.02652653232487353,
           -0.004707318609884476,
           -0.024257054373020153,
           -0.0210753865128337,
           0.012716834028042785,
           0.023288945433353612,
           -0.006828501969720216
          ],
          [
           0.17233831239143932,
           -0.31054351594144225,
           -0.004782667869869174,
           0.6625866719688795,
           0.3560696829337566,
           0.6930651727542563,
           0.510754543336695,
           0.6229064135833391,
           1,
           0.6268752819895351,
           0.7233402232351765,
           -0.6059182365800931,
           0.1418291604119172,
           0.6613561251766967,
           0.5797781170827122,
           0.2524525069157357,
           0.23269405830668263,
           0.25296212250469563,
           0.33327349388176997,
           0.44416525383800626,
           0.3589741829537969,
           0.27890745399369055,
           -0.24900557327260983,
           -0.04634367545863049,
           0.006014253568767516,
           0.035896077691642644,
           0.03588613343974049,
           0.07228614488237993,
           0.0012089585079668476,
           0.09372978502101934,
           0.1671619503197577,
           -0.0010477389874712314,
           0.08445333301047597,
           -0.037539034711503036,
           -0.052833975874122814,
           0.06894884599334104,
           0.028291252755850215,
           0.11005712828665105,
           -0.03976313575924856,
           0.10982249408936234,
           0.06815374810590866,
           0.006863497299331385,
           -0.0628635075474422,
           -0.060103298265134095,
           0.04717520477595123,
           0.013476731998710039,
           0.01597271256114389
          ],
          [
           0.4901079124804988,
           -0.38000207038277733,
           -0.17001358226018462,
           0.6289548620593374,
           0.830896565207467,
           0.4028317780296217,
           0.47188539620388414,
           0.41508428024055166,
           0.6268752819895351,
           1,
           0.5304658165243575,
           -0.5722733891556543,
           0.26751402735740876,
           0.3737799847859606,
           0.4206702000554324,
           -0.09713326295772462,
           0.2099857367601606,
           -0.09652977549177308,
           0.06452206835348741,
           0.5697343921145657,
           0.5805562824204668,
           0.49622830544934754,
           -0.4032560716278996,
           -0.026424006315317307,
           0.018185443705275396,
           0.05164655463577407,
           0.0391670750255311,
           0.046052935113224204,
           0.029298020625088624,
           0.021606088850609762,
           0.04768998388581155,
           0.18150493114630972,
           0.06624040235876173,
           -0.027414237454630678,
           -0.0004401496476020313,
           0.003014352137771973,
           0.028273297798764342,
           0.12351977326058819,
           -0.01074568175790304,
           0.12204236543600708,
           0.08438756672187149,
           0.0008360941131485987,
           -0.08558459593615393,
           -0.07218642314533871,
           0.0620694651666223,
           0.16007540062761136,
           0.025689862589521825
          ],
          [
           0.20921294101595372,
           -0.3472389686675294,
           0.02254243525430937,
           0.36109008573829454,
           0.3454911774719516,
           0.7750866497456335,
           0.46485816791405526,
           0.5828766609551759,
           0.7233402232351765,
           0.5304658165243575,
           1,
           -0.42133384542535895,
           -0.03564239050862122,
           0.6149193423803991,
           0.3685696821410392,
           0.26653421183385095,
           0.22473344132006015,
           0.26666746222119164,
           0.29769124814215264,
           0.4450690797346187,
           0.16736965276386698,
           0.0682830019073682,
           -0.28126601738540136,
           0.003176913126395315,
           0.014863729419420055,
           0.05091789090024471,
           0.06956982911774487,
           0.11906071405679748,
           0.015069463261249883,
           0.08617502110362739,
           0.11211056473385911,
           -0.004341368102763222,
           0.171785010996424,
           -0.032687949240118516,
           -0.06248970308669562,
           0.12841308668827717,
           0.024280232998116658,
           0.14134422756757517,
           -0.025251553038924995,
           0.14124508179048437,
           0.09610430360667727,
           0.0016377679018863465,
           -0.09275397427886013,
           -0.08124508597152873,
           0.06332033607859261,
           -0.03323980804412247,
           0.0036362611023828453
          ],
          [
           -0.11598244474599587,
           0.3112373056398135,
           0.021148372559156168,
           -0.46262818334951583,
           -0.4027466050011822,
           -0.4739377667925337,
           -0.3675406058543615,
           -0.4313288588117024,
           -0.6059182365800931,
           -0.5722733891556543,
           -0.42133384542535895,
           1,
           -0.11632072646658724,
           -0.5152783122310193,
           -0.571495982593815,
           -0.13922056613384054,
           -0.25602898247926914,
           -0.1399385536351254,
           -0.2827444995797699,
           -0.4522773303309705,
           -0.39149311472258813,
           -0.3282428419073315,
           0.2826238402774109,
           0.03883381274788682,
           -0.023762120255668547,
           -0.017622072571493105,
           -0.027986338772215513,
           -0.033707354462265915,
           0.05066928295424178,
           -0.008684312980443434,
           -0.09923175180724951,
           -0.02054338251286825,
           -0.044314357079856384,
           0.22611439285499696,
           0.03962841281587063,
           -0.024771935795657847,
           -0.03095440826280493,
           -0.0723664772026873,
           0.030660740624027526,
           -0.07194128963375136,
           -0.06578914651575607,
           -0.0020007465215176774,
           0.059619851170643355,
           0.055123511598385896,
           -0.025145431527422928,
           -0.03893723172206494,
           0.0038834314259273577
          ],
          [
           0.021334502065660232,
           -0.02029233871472292,
           -0.06560847657969862,
           0.18773049014518586,
           0.12312468178889908,
           0.2830507492261435,
           0.5975337541434518,
           0.3800852341480383,
           0.1418291604119172,
           0.26751402735740876,
           -0.03564239050862122,
           -0.11632072646658724,
           1,
           0.32266887779618525,
           0.4942265341584606,
           0.15773242903961326,
           0.023319028557947232,
           0.15858727584441337,
           0.265143000161358,
           0.12536054852845288,
           0.2854060524940875,
           0.3066367011156109,
           -0.0016344932614018673,
           -0.02644679829672417,
           0.010671924349129985,
           0.009485567439081358,
           -0.017930293242141963,
           -0.002252173692090839,
           0.057760263615796455,
           0.013022575048214509,
           -0.047290892851809235,
           0.015390112972721687,
           -0.011801396833146988,
           0.050669418866711266,
           0.23247050126018018,
           -0.07806631788610671,
           0.001595649233493235,
           -0.014373558045951097,
           -0.00014190303882170009,
           -0.016266842476170325,
           -0.007887808174611911,
           -0.0067633151859584646,
           0.009539955960932687,
           0.012401529038415003,
           0.005583469509866516,
           0.04720094233708755,
           0.0211918047575988
          ],
          [
           -0.07914157674910043,
           -0.2101857660474404,
           0.04929552840781711,
           0.3594302091383184,
           0.07571427303683281,
           0.8480275320482672,
           0.6809976028706382,
           0.6967128027181702,
           0.6613561251766967,
           0.3737799847859606,
           0.6149193423803991,
           -0.5152783122310193,
           0.32266887779618525,
           1,
           0.8633824723757236,
           0.6392510223731553,
           0.19966980522591482,
           0.6399069795135197,
           0.745523481722791,
           0.34485488054513086,
           0.14342997925612178,
           0.10044844037143862,
           -0.061730711655621655,
           -0.009643094654982384,
           0.01720626945916619,
           0.033170329294956946,
           0.05447506722031474,
           0.0869785545539155,
           -0.006007572346525694,
           0.05524393048465775,
           0.050815898671732196,
           -0.03545640936611118,
           0.08576608533394772,
           -0.009081597129290816,
           -0.06791910335935217,
           0.15223094624766775,
           0.03697566691176971,
           0.12002089614032917,
           -0.045164612959720414,
           0.11908043125877171,
           0.0878572359033193,
           -0.017231506386395926,
           -0.07984808378358152,
           -0.07154515722613364,
           0.05224892752687568,
           -0.04428401887725941,
           -0.004099572349811884
          ],
          [
           -0.12600956675120076,
           -0.19567236609494576,
           -0.016892296489964546,
           0.40993823043267275,
           0.135159623046217,
           0.7239476328807963,
           0.7911139528599753,
           0.7226614116254927,
           0.5797781170827122,
           0.4206702000554324,
           0.3685696821410392,
           -0.571495982593815,
           0.4942265341584606,
           0.8633824723757236,
           1,
           0.5299655808813782,
           0.20311978803395764,
           0.5308691929021822,
           0.681626553143509,
           0.3435754712902579,
           0.33727025988513676,
           0.3125418391936686,
           -0.08136974927155279,
           -0.043891872878009955,
           0.01791819943069933,
           0.013379193598822526,
           0.030488134780201785,
           0.0322037246689028,
           -0.003198395151781461,
           0.04087705825403037,
           0.007703654509963873,
           -0.01564114839562965,
           0.01741395261678984,
           -0.012800441191276636,
           -0.020464453774933767,
           0.024294440885599556,
           0.03709272250130486,
           0.05645901860010627,
           -0.03998776324660537,
           0.0549511319284095,
           0.03467550751368929,
           -0.017729372670994652,
           -0.026011618908143373,
           -0.01831550615395108,
           0.02309047100556967,
           0.018147140772023555,
           0.0013958124740155117
          ],
          [
           -0.34366307316552086,
           0.023366531912337875,
           0.04243579806819547,
           0.05967925045452977,
           -0.35540734835395,
           0.5456998364942727,
           0.38193944254942935,
           0.3650724932945465,
           0.2524525069157357,
           -0.09713326295772462,
           0.26653421183385095,
           -0.13922056613384054,
           0.15773242903961326,
           0.6392510223731553,
           0.5299655808813782,
           1,
           0.06952741493968319,
           0.9999670660359926,
           0.8541244304318242,
           -0.05189506024773666,
           -0.415276467516685,
           -0.39818691783643484,
           0.2387141739247381,
           0.0507150332898066,
           0.008716237262036823,
           0.0108230001046956,
           0.03300682859671934,
           0.04132415049436152,
           -0.002798115429304603,
           0.03705611847495218,
           0.013804545360948278,
           -0.07482056981409395,
           0.02239042906819412,
           0.012379285762105615,
           -0.05495617017611858,
           0.05380531453874851,
           0.03129848605741847,
           0.12982812768489452,
           -0.04104060475914582,
           0.12966876325852716,
           0.08522268104614852,
           -0.04236941417514285,
           -0.08074906848511841,
           -0.07711563595069042,
           0.03489218255213243,
           -0.08692693604495588,
           -0.01733250370516035
          ],
          [
           -0.507908300869994,
           -0.11054298099649372,
           0.0662300519969205,
           0.1795026205535174,
           0.13293195383949435,
           0.20167475566792908,
           0.15706733660834932,
           0.16628868214613,
           0.23269405830668263,
           0.2099857367601606,
           0.22473344132006015,
           -0.25602898247926914,
           0.023319028557947232,
           0.19966980522591482,
           0.20311978803395764,
           0.06952741493968319,
           1,
           0.0701568513774849,
           0.11832466644347238,
           0.15711548486349333,
           0.07629109284971448,
           0.056347395957186845,
           -0.09058959894603097,
           -0.08222658528834337,
           -0.1328401975292917,
           -0.011739668941706942,
           0.013294208313582039,
           0.04237176688765519,
           0.0018836188947264395,
           -0.00277004833292891,
           0.024493315029034738,
           -0.006369889174075609,
           0.02296837070974343,
           -0.006421367606772063,
           -0.04107217666299048,
           0.041404258993778774,
           0.02337120408357143,
           0.07189744681103118,
           0.15148457886388203,
           0.07236150490599469,
           0.061865378202586994,
           -0.005539833022491501,
           -0.060100888584835345,
           -0.069269211480778,
           -0.00557267156484541,
           -0.00502426722659624,
           0.0023866832877290486
          ],
          [
           -0.3435843931617398,
           0.02356876805107867,
           0.042228311971813794,
           0.06032215305624097,
           -0.35493303434017515,
           0.5463682490771068,
           0.38291852854209446,
           0.3657571088399336,
           0.25296212250469563,
           -0.09652977549177308,
           0.26666746222119164,
           -0.1399385536351254,
           0.15858727584441337,
           0.6399069795135197,
           0.5308691929021822,
           0.9999670660359926,
           0.0701568513774849,
           1,
           0.8543284243133075,
           -0.051330581004681144,
           -0.4142648819807468,
           -0.3970206560115383,
           0.23887215461805505,
           0.05055399670108597,
           0.008830619457829038,
           0.010786636842633378,
           0.03303577456917659,
           0.041345122534202174,
           -0.0028330983909462984,
           0.036966169042107117,
           0.013815528346577243,
           -0.07473960023545427,
           0.022394105892056856,
           0.012289604894208892,
           -0.05495037109671628,
           0.05360785208090936,
           0.03134094920891327,
           0.12980822939000078,
           -0.04101211433826943,
           0.12973454754641278,
           0.08539822394710761,
           -0.04247464819327087,
           -0.08092403318108905,
           -0.07727933008982713,
           0.034859108792518766,
           -0.08686559778050677,
           -0.017078348322643527
          ],
          [
           -0.28600125293848666,
           0.07538440721703389,
           0.0454668467102072,
           0.14450607859293826,
           -0.2218053164290292,
           0.6268812875690503,
           0.5168425228227153,
           0.44342280377723997,
           0.33327349388176997,
           0.06452206835348741,
           0.29769124814215264,
           -0.2827444995797699,
           0.265143000161358,
           0.745523481722791,
           0.681626553143509,
           0.8541244304318242,
           0.11832466644347238,
           0.8543284243133075,
           1,
           0.03476841802363687,
           -0.3318252532904986,
           -0.31941267290837555,
           0.26768549353123267,
           0.03768179862801727,
           0.015109353772651032,
           0.013116831939700521,
           0.039306483347504036,
           0.06973920196215436,
           0.014705942314636712,
           0.042032239978532476,
           0.03995177185612142,
           -0.05346678247292502,
           0.062397498528726544,
           0.009130995983334363,
           -0.05124534580677996,
           0.08745137786355776,
           0.03496857905558464,
           0.13817219797568528,
           -0.04646112920517947,
           0.1379859263691785,
           0.1638872988265966,
           -0.047320840998495116,
           -0.15615301695496722,
           -0.15192824770316482,
           0.04010160062777808,
           -0.058248791381498265,
           -0.018163159435976857
          ],
          [
           0.3487210454278246,
           -0.49359471200412613,
           -0.2630400467232602,
           0.33392015913398515,
           0.562210553188283,
           0.3719555703724111,
           0.34801541536086694,
           0.4048818557458987,
           0.44416525383800626,
           0.5697343921145657,
           0.4450690797346187,
           -0.4522773303309705,
           0.12536054852845288,
           0.34485488054513086,
           0.3435754712902579,
           -0.05189506024773666,
           0.15711548486349333,
           -0.051330581004681144,
           0.03476841802363687,
           1,
           0.46638652624897464,
           0.330233069887881,
           -0.4966272738921021,
           -0.019722362691146925,
           0.022859139385099706,
           0.06844496379141081,
           -0.006123436803595107,
           -0.004462965350018888,
           -0.004272587491256082,
           0.008804969206236204,
           -0.009203740452298445,
           0.020475172457521187,
           0.000885692321373195,
           -0.01463584044046195,
           -0.01996129605463429,
           -0.007839751166359977,
           0.00923575315570197,
           0.0063701271877337085,
           -0.021430021961663763,
           0.004374249669116202,
           0.015899224611767505,
           0.2127954345506188,
           -0.011271439588058147,
           -0.0011154082050386558,
           0.061310384288001916,
           0.04523284332449735,
           0.01057713336051734
          ],
          [
           0.3671990004450221,
           -0.3725668277173489,
           -0.17619454124567344,
           0.40752575095113547,
           0.5431218021105394,
           0.13687908238484128,
           0.32647641453676657,
           0.3477450688656509,
           0.3589741829537969,
           0.5805562824204668,
           0.16736965276386698,
           -0.39149311472258813,
           0.2854060524940875,
           0.14342997925612178,
           0.33727025988513676,
           -0.415276467516685,
           0.07629109284971448,
           -0.4142648819807468,
           -0.3318252532904986,
           0.46638652624897464,
           1,
           0.9088193099409093,
           -0.46433706892371035,
           -0.0711314146986099,
           -0.005203886862958215,
           0.013289136695974856,
           -0.0230114554664083,
           -0.04094723694420651,
           -0.0104961602784087,
           0.012986519981584335,
           -0.03297486044581849,
           0.07982152430245447,
           -0.0365445446873922,
           -0.027687708679885938,
           0.039639410341976745,
           -0.06325671740655815,
           -0.0008607236614657105,
           -0.10475844848075284,
           0.017320306455048107,
           -0.10667390012652196,
           -0.16475095719063093,
           0.04008287732988199,
           0.1691845759564137,
           0.17167378171244702,
           -0.0037276250315886558,
           0.12845904583228512,
           0.026459188477771886
          ],
          [
           0.2799319354378347,
           -0.06133418897540524,
           -0.06089508110875799,
           0.3596557326251601,
           0.45323597197938653,
           0.07520500402035861,
           0.294129297220422,
           0.30795560887753487,
           0.27890745399369055,
           0.49622830544934754,
           0.0682830019073682,
           -0.3282428419073315,
           0.3066367011156109,
           0.10044844037143862,
           0.3125418391936686,
           -0.39818691783643484,
           0.056347395957186845,
           -0.3970206560115383,
           -0.31941267290837555,
           0.330233069887881,
           0.9088193099409093,
           1,
           -0.190218072857594,
           -0.07734299445737514,
           0.0027756733533364033,
           0.052232877463627904,
           -0.008570147187232887,
           -0.04552306019694441,
           -0.011074849398097199,
           0.015116141431670425,
           -0.03335145935790151,
           0.08088848489547548,
           -0.030696536250437473,
           -0.02479514450940992,
           0.040251204299964184,
           -0.055806742097707175,
           0.0022373052837766846,
           -0.11305418864456918,
           0.02221799696952611,
           -0.11455643901970729,
           -0.17365654068825903,
           0.0475237186867282,
           0.17532808289278934,
           0.19512588217201676,
           0.035558816498696945,
           0.1230841966600405,
           0.023393414849607535
          ],
          [
           -0.32783895801180724,
           0.9460610210664419,
           0.26741601144376775,
           -0.2242121827159229,
           -0.42317473903474084,
           -0.11981469586446074,
           -0.1158270775747694,
           -0.14259983828089892,
           -0.24900557327260983,
           -0.4032560716278996,
           -0.28126601738540136,
           0.2826238402774109,
           -0.0016344932614018673,
           -0.061730711655621655,
           -0.08136974927155279,
           0.2387141739247381,
           -0.09058959894603097,
           0.23887215461805505,
           0.26768549353123267,
           -0.4966272738921021,
           -0.46433706892371035,
           -0.190218072857594,
           1,
           0.021237606035256977,
           0.00870938340457768,
           0.06733434676532951,
           0.027954498530726072,
           0.012889462940227268,
           -0.01448153343312261,
           -0.009321466970324285,
           0.015203567509563077,
           -0.029769283058544045,
           0.018928753704265798,
           0.014050122910033217,
           -0.00986210254498206,
           0.03800336181423273,
           0.014304020650329334,
           0.011267813404576534,
           -0.006701826246482994,
           0.012227247751423117,
           0.012639552875375283,
           -0.0072842942353094,
           -0.014086611151925093,
           0.0074426240054465175,
           0.08663403573037196,
           -0.03364532622519311,
           -0.014281681759838962
          ],
          [
           0.04224201799013444,
           0.004917535814653603,
           -0.052060279869318035,
           -0.05601829320267546,
           -0.019820492616481132,
           0.002412782738248579,
           -0.025565317184386566,
           -0.022884752136890663,
           -0.04634367545863049,
           -0.026424006315317307,
           0.003176913126395315,
           0.03883381274788682,
           -0.02644679829672417,
           -0.009643094654982384,
           -0.043891872878009955,
           0.0507150332898066,
           -0.08222658528834337,
           0.05055399670108597,
           0.03768179862801727,
           -0.019722362691146925,
           -0.0711314146986099,
           -0.07734299445737514,
           0.021237606035256977,
           1,
           0.00618782769154519,
           0.034474897838553224,
           -0.024529686298197528,
           -0.03684950515158611,
           -0.018738039707401778,
           0.05388218771727495,
           -0.0067537882392507175,
           -0.01090065410215466,
           -0.037431251928148265,
           0.03901696497675989,
           -0.021588737442316396,
           -0.04809709675857478,
           -0.04242392788726717,
           -0.04252645739391551,
           -0.04001807165525356,
           -0.04277165426045854,
           -0.025937918450097228,
           -0.04459439881855148,
           0.03026149403977938,
           0.028335709820103805,
           0.03970160585333629,
           -0.015295749780860754,
           -0.05928046661794892
          ],
          [
           0.13061580951506138,
           0.005981293726318576,
           0.002951357168416601,
           0.009805182763224589,
           0.018214134574444693,
           -0.0017820565006960072,
           0.015321182605674487,
           0.003897804336948356,
           0.006014253568767516,
           0.018185443705275396,
           0.014863729419420055,
           -0.023762120255668547,
           0.010671924349129985,
           0.01720626945916619,
           0.01791819943069933,
           0.008716237262036823,
           -0.1328401975292917,
           0.008830619457829038,
           0.015109353772651032,
           0.022859139385099706,
           -0.005203886862958215,
           0.0027756733533364033,
           0.00870938340457768,
           0.00618782769154519,
           1,
           0.016274994305768155,
           0.04716403197206624,
           0.0010394745946763087,
           0.019073984772036624,
           -0.01753845499710908,
           0.01462368952048585,
           0.02643804580425055,
           0.04336924108971136,
           0.028401748559431325,
           -0.02021268560725531,
           0.024305173040620624,
           -0.004823988307980534,
           0.00804005085040329,
           -0.7139360300041644,
           0.0067095147130856415,
           0.011949320687639651,
           0.02949148370063893,
           -0.019427602194881318,
           -0.01705025240007083,
           0.01907006800493242,
           0.049646351108328456,
           -0.027361454121869726
          ],
          [
           0.04878078369923193,
           0.06593665700034651,
           0.05095684973631668,
           0.031269722072873846,
           0.030921042867208263,
           0.025795802555332217,
           0.01690640027006964,
           0.008411230225658515,
           0.035896077691642644,
           0.05164655463577407,
           0.05091789090024471,
           -0.017622072571493105,
           0.009485567439081358,
           0.033170329294956946,
           0.013379193598822526,
           0.0108230001046956,
           -0.011739668941706942,
           0.010786636842633378,
           0.013116831939700521,
           0.06844496379141081,
           0.013289136695974856,
           0.052232877463627904,
           0.06733434676532951,
           0.034474897838553224,
           0.016274994305768155,
           1,
           0.2908953087266005,
           0.026202291360423322,
           0.0029153489451387957,
           -0.018544679292563607,
           -0.0004426451335819606,
           0.04201644272523545,
           0.07032487235021537,
           0.04296029309225085,
           -0.036815890102031214,
           0.0385404976483458,
           0.011263403698093102,
           0.10426318804959078,
           -0.00865395605822126,
           0.10511171914108716,
           0.10171151721978454,
           0.04621132628037087,
           -0.10552331272419965,
           0.10972179190794495,
           0.9648566311518892,
           0.030030912106358065,
           -0.022953556006342603
          ],
          [
           0.007906975739571383,
           0.01598087320497129,
           0.2964575622547702,
           0.031029661943348722,
           0.013748167420513227,
           0.04316157072113715,
           0.02592054774014414,
           0.019445863225373835,
           0.03588613343974049,
           0.0391670750255311,
           0.06956982911774487,
           -0.027986338772215513,
           -0.017930293242141963,
           0.05447506722031474,
           0.030488134780201785,
           0.03300682859671934,
           0.013294208313582039,
           0.03303577456917659,
           0.039306483347504036,
           -0.006123436803595107,
           -0.0230114554664083,
           -0.008570147187232887,
           0.027954498530726072,
           -0.024529686298197528,
           0.04716403197206624,
           0.2908953087266005,
           1,
           0.12596824851159427,
           -0.04977943586414496,
           0.013535190236499635,
           0.15641446997944916,
           0.06252904209500976,
           0.27602664030581775,
           -0.0744312957932567,
           -0.13829683034979526,
           0.19486297537488956,
           -0.0289645666797657,
           0.10917257855105938,
           -0.024455180256517627,
           0.10899806429077946,
           0.13398197703347622,
           -0.012124125471489403,
           -0.130126320909147,
           -0.04984760905534258,
           0.30081163947839407,
           0.020725944833284028,
           0.016092962977475502
          ],
          [
           -0.004155575135568043,
           0.0007953910200021371,
           0.08731872275525757,
           0.01853671454371452,
           0.018952923775521744,
           0.18492456147653807,
           0.0353439032352327,
           0.00716634709190222,
           0.07228614488237993,
           0.046052935113224204,
           0.11906071405679748,
           -0.033707354462265915,
           -0.002252173692090839,
           0.0869785545539155,
           0.0322037246689028,
           0.04132415049436152,
           0.04237176688765519,
           0.041345122534202174,
           0.06973920196215436,
           -0.004462965350018888,
           -0.04094723694420651,
           -0.04552306019694441,
           0.012889462940227268,
           -0.03684950515158611,
           0.0010394745946763087,
           0.026202291360423322,
           0.12596824851159427,
           1,
           0.07833661068679343,
           0.05913850367841633,
           0.27863830701048914,
           0.04820386726230051,
           0.500003628493654,
           -0.05345458812060657,
           -0.06217895792352147,
           0.3791114969739009,
           0.01968417647117018,
           0.22878570111425123,
           0.017892104937550626,
           0.22837795518104648,
           0.222690121220997,
           -0.05089330211328095,
           -0.21104655755280677,
           -0.22371207801761375,
           0.057040589232686886,
           -0.03359172626373308,
           -0.04584693601873381
          ],
          [
           0.01482739359465457,
           -0.015821524632042727,
           -0.014377205067451437,
           0.026226632355232257,
           0.02791715140629145,
           0.004013546202542145,
           0.15297200572499234,
           -0.012266706523745431,
           0.0012089585079668476,
           0.029298020625088624,
           0.015069463261249883,
           0.05066928295424178,
           0.057760263615796455,
           -0.006007572346525694,
           -0.003198395151781461,
           -0.002798115429304603,
           0.0018836188947264395,
           -0.0028330983909462984,
           0.014705942314636712,
           -0.004272587491256082,
           -0.0104961602784087,
           -0.011074849398097199,
           -0.01448153343312261,
           -0.018738039707401778,
           0.019073984772036624,
           0.0029153489451387957,
           -0.04977943586414496,
           0.07833661068679343,
           1,
           0.030131064947158472,
           -0.05747061742285477,
           0.09022494801984482,
           0.0632171250003589,
           0.2305429621048438,
           0.21408167592499286,
           0.0009116254994350643,
           -0.00916413916517263,
           0.04702834825403688,
           -0.008433557110498762,
           0.046653574298697396,
           0.04700107382012384,
           -0.011984350359781458,
           -0.03403439689632506,
           -0.04100553445057761,
           0.007389811201373717,
           0.09134234516020046,
           0.06306202930484343
          ],
          [
           0.019981227228577744,
           -0.014313789208731246,
           0.022383982539708018,
           0.023388276187562014,
           -0.015491425701291207,
           0.07504238165484844,
           0.050636308259773395,
           0.09882097507109601,
           0.09372978502101934,
           0.021606088850609762,
           0.08617502110362739,
           -0.008684312980443434,
           0.013022575048214509,
           0.05524393048465775,
           0.04087705825403037,
           0.03705611847495218,
           -0.00277004833292891,
           0.036966169042107117,
           0.042032239978532476,
           0.008804969206236204,
           0.012986519981584335,
           0.015116141431670425,
           -0.009321466970324285,
           0.05388218771727495,
           -0.01753845499710908,
           -0.018544679292563607,
           0.013535190236499635,
           0.05913850367841633,
           0.030131064947158472,
           1,
           0.09478618732151595,
           -0.0660977682471563,
           0.08364723299822648,
           0.011592274695119295,
           -0.01641551585695338,
           0.04808648232413501,
           0.00319073769477653,
           0.021145910011192978,
           -0.00123456396002751,
           0.019431113210719313,
           0.0022481901675703523,
           0.001841317832614142,
           0.019025584107621486,
           0.007049051086895857,
           -0.015610325252886175,
           -0.04715696957919542,
           -0.03629691999050567
          ],
          [
           -0.01592695137667101,
           0.014060737254876695,
           0.08203103060183546,
           0.016018800331342908,
           0.03598347863199164,
           0.07357137439787466,
           -0.007263106051140851,
           0.0212336076476264,
           0.1671619503197577,
           0.04768998388581155,
           0.11211056473385911,
           -0.09923175180724951,
           -0.047290892851809235,
           0.050815898671732196,
           0.007703654509963873,
           0.013804545360948278,
           0.024493315029034738,
           0.013815528346577243,
           0.03995177185612142,
           -0.009203740452298445,
           -0.03297486044581849,
           -0.03335145935790151,
           0.015203567509563077,
           -0.0067537882392507175,
           0.01462368952048585,
           -0.0004426451335819606,
           0.15641446997944916,
           0.27863830701048914,
           -0.05747061742285477,
           0.09478618732151595,
           1,
           0.1539313053490519,
           0.4596411708010958,
           -0.3623196454326647,
           -0.08975332766908835,
           0.25446624409883184,
           0.029329015786069557,
           0.16806352088316798,
           0.0022994263253152346,
           0.1699161413828446,
           0.17766573861046397,
           -0.04184200350485807,
           -0.16983782547541107,
           -0.1730772334065235,
           0.018524958285377025,
           0.062069663748930054,
           0.008862285311795181
          ],
          [
           0.03020054846801053,
           -0.007969806163869438,
           -0.0015034507674392234,
           0.035186246163058404,
           0.15665094517770353,
           -0.039186009144153426,
           -0.012777244334876236,
           -0.008672791567486219,
           -0.0010477389874712314,
           0.18150493114630972,
           -0.004341368102763222,
           -0.02054338251286825,
           0.015390112972721687,
           -0.03545640936611118,
           -0.01564114839562965,
           -0.07482056981409395,
           -0.006369889174075609,
           -0.07473960023545427,
           -0.05346678247292502,
           0.020475172457521187,
           0.07982152430245447,
           0.08088848489547548,
           -0.029769283058544045,
           -0.01090065410215466,
           0.02643804580425055,
           0.04201644272523545,
           0.06252904209500976,
           0.04820386726230051,
           0.09022494801984482,
           -0.0660977682471563,
           0.1539313053490519,
           1,
           0.15050500161440084,
           -0.08360503554389873,
           0.07337768192018995,
           -0.008001592548797544,
           -0.034086589385839756,
           0.0822922438654,
           0.0029777897198903862,
           0.08048426435395525,
           0.09355447954660036,
           0.009995582682162567,
           -0.10022682911599085,
           -0.08682016789259274,
           0.05134119532735914,
           0.6124088260500805,
           0.06073327208508669
          ],
          [
           0.0038904170676273705,
           0.018070419262887754,
           0.12586061274975313,
           0.03667784952082724,
           0.044561661269116155,
           0.10165105074218049,
           0.029167937230780223,
           0.018608705961300837,
           0.08445333301047597,
           0.06624040235876173,
           0.171785010996424,
           -0.044314357079856384,
           -0.011801396833146988,
           0.08576608533394772,
           0.01741395261678984,
           0.02239042906819412,
           0.02296837070974343,
           0.022394105892056856,
           0.062397498528726544,
           0.000885692321373195,
           -0.0365445446873922,
           -0.030696536250437473,
           0.018928753704265798,
           -0.037431251928148265,
           0.04336924108971136,
           0.07032487235021537,
           0.27602664030581775,
           0.500003628493654,
           0.0632171250003589,
           0.08364723299822648,
           0.4596411708010958,
           0.15050500161440084,
           1,
           -0.17026728000065214,
           -0.0792929795483906,
           0.5380609889811047,
           -0.022421565597150837,
           0.2721357024848219,
           -0.014222826077391582,
           0.2725174806040628,
           0.2528906336038989,
           -0.08201343468970411,
           -0.24959782418981005,
           -0.2494748759616366,
           0.0990992529483665,
           0.023886251869662537,
           -0.006931025489494139
          ],
          [
           0.0154132079462342,
           0.014888944799882039,
           -0.027586328088697296,
           -0.01505072043256649,
           -0.02948661837357867,
           -0.02643579306216284,
           0.03217611764270899,
           -0.0319330849132197,
           -0.037539034711503036,
           -0.027414237454630678,
           -0.032687949240118516,
           0.22611439285499696,
           0.050669418866711266,
           -0.009081597129290816,
           -0.012800441191276636,
           0.012379285762105615,
           -0.006421367606772063,
           0.012289604894208892,
           0.009130995983334363,
           -0.01463584044046195,
           -0.027687708679885938,
           -0.02479514450940992,
           0.014050122910033217,
           0.03901696497675989,
           0.028401748559431325,
           0.04296029309225085,
           -0.0744312957932567,
           -0.05345458812060657,
           0.2305429621048438,
           0.011592274695119295,
           -0.3623196454326647,
           -0.08360503554389873,
           -0.17026728000065214,
           1,
           0.13433111468221537,
           -0.0954700038974302,
           -0.09635018370334986,
           -0.020221060039159282,
           -0.031224456538423706,
           -0.021970617494798547,
           -0.0648578436380349,
           -0.01748063574635335,
           0.04524696022456377,
           0.05111014030245135,
           0.036624205057352824,
           -0.04836158187553603,
           -0.012998428025193678
          ],
          [
           0.015653281001545786,
           0.0034375241959239394,
           -0.06505700667300554,
           -0.020737390243931224,
           0.02339525376448751,
           -0.05594884986721456,
           0.009882866981403404,
           -0.025009384036520012,
           -0.052833975874122814,
           -0.0004401496476020313,
           -0.06248970308669562,
           0.03962841281587063,
           0.23247050126018018,
           -0.06791910335935217,
           -0.020464453774933767,
           -0.05495617017611858,
           -0.04107217666299048,
           -0.05495037109671628,
           -0.05124534580677996,
           -0.01996129605463429,
           0.039639410341976745,
           0.040251204299964184,
           -0.00986210254498206,
           -0.021588737442316396,
           -0.02021268560725531,
           -0.036815890102031214,
           -0.13829683034979526,
           -0.06217895792352147,
           0.21408167592499286,
           -0.01641551585695338,
           -0.08975332766908835,
           0.07337768192018995,
           -0.0792929795483906,
           0.13433111468221537,
           1,
           -0.20270564845128564,
           0.0013929347220861476,
           -0.08000006233078663,
           -0.000675914565750204,
           -0.08062373131469223,
           -0.07514763801531266,
           0.005588227367401408,
           0.08273736469120532,
           0.06502275496480471,
           -0.05233558245294573,
           0.08828599873123161,
           0.006659914162469775
          ],
          [
           -0.03330479376889154,
           0.02494956103171441,
           0.12567540770033667,
           0.02877709179862191,
           -0.03334628908304658,
           0.09757316191686996,
           0.005075844471877765,
           0.010863873605224629,
           0.06894884599334104,
           0.003014352137771973,
           0.12841308668827717,
           -0.024771935795657847,
           -0.07806631788610671,
           0.15223094624766775,
           0.024294440885599556,
           0.05380531453874851,
           0.041404258993778774,
           0.05360785208090936,
           0.08745137786355776,
           -0.007839751166359977,
           -0.06325671740655815,
           -0.055806742097707175,
           0.03800336181423273,
           -0.04809709675857478,
           0.024305173040620624,
           0.0385404976483458,
           0.19486297537488956,
           0.3791114969739009,
           0.0009116254994350643,
           0.04808648232413501,
           0.25446624409883184,
           -0.008001592548797544,
           0.5380609889811047,
           -0.0954700038974302,
           -0.20270564845128564,
           1,
           0.062364273239911706,
           0.2215500875262649,
           -0.00877075197687576,
           0.223161768320823,
           0.22408964504327775,
           -0.04514349778938451,
           -0.20977088888225712,
           -0.21294395140901495,
           0.07500626671820045,
           -0.16865875447067516,
           0.038076023639597896
          ],
          [
           -0.014117809229702983,
           0.009727137553309558,
           0.015552776479030486,
           0.05610106653206508,
           0.0042688282410960135,
           0.02256443005120492,
           0.022370537971849538,
           0.01189358942122798,
           0.028291252755850215,
           0.028273297798764342,
           0.024280232998116658,
           -0.03095440826280493,
           0.001595649233493235,
           0.03697566691176971,
           0.03709272250130486,
           0.03129848605741847,
           0.02337120408357143,
           0.03134094920891327,
           0.03496857905558464,
           0.00923575315570197,
           -0.0008607236614657105,
           0.0022373052837766846,
           0.014304020650329334,
           -0.04242392788726717,
           -0.004823988307980534,
           0.011263403698093102,
           -0.0289645666797657,
           0.01968417647117018,
           -0.00916413916517263,
           0.00319073769477653,
           0.029329015786069557,
           -0.034086589385839756,
           -0.022421565597150837,
           -0.09635018370334986,
           0.0013929347220861476,
           0.062364273239911706,
           1,
           0.046116455683659914,
           -0.006353279959087435,
           0.04630050300483814,
           0.04081057028735047,
           0.019975550558577304,
           0.03359856143868355,
           0.05047554658198875,
           0.017825768275582417,
           -0.03998723986025342,
           0.014652230290480883
          ],
          [
           0.05358375343813367,
           -0.023613361085819597,
           0.05526793824573158,
           0.05327934963159017,
           0.10583679155937985,
           0.10976108825473044,
           0.0505819734733057,
           0.03741128873819191,
           0.11005712828665105,
           0.12351977326058819,
           0.14134422756757517,
           -0.0723664772026873,
           -0.014373558045951097,
           0.12002089614032917,
           0.05645901860010627,
           0.12982812768489452,
           0.07189744681103118,
           0.12980822939000078,
           0.13817219797568528,
           0.0063701271877337085,
           -0.10475844848075284,
           -0.11305418864456918,
           0.011267813404576534,
           -0.04252645739391551,
           0.00804005085040329,
           0.10426318804959078,
           0.10917257855105938,
           0.22878570111425123,
           0.04702834825403688,
           0.021145910011192978,
           0.16806352088316798,
           0.0822922438654,
           0.2721357024848219,
           -0.020221060039159282,
           -0.08000006233078663,
           0.2215500875262649,
           0.046116455683659914,
           1,
           0.019780185498560338,
           0.998681087929093,
           0.5955873231487446,
           -0.18620431000308932,
           -0.5812101660077673,
           -0.5331374140266161,
           0.19968245279021202,
           0.0312697381943357,
           -0.03271801630349122
          ],
          [
           -0.07396692722960004,
           0.011392762557793066,
           -0.017584981792241248,
           -0.022922594935717803,
           0.005435584442203245,
           -0.023172384615584397,
           -0.021604708067772437,
           -0.01396290462153586,
           -0.03976313575924856,
           -0.01074568175790304,
           -0.025251553038924995,
           0.030660740624027526,
           -0.00014190303882170009,
           -0.045164612959720414,
           -0.03998776324660537,
           -0.04104060475914582,
           0.15148457886388203,
           -0.04101211433826943,
           -0.04646112920517947,
           -0.021430021961663763,
           0.017320306455048107,
           0.02221799696952611,
           -0.006701826246482994,
           -0.04001807165525356,
           -0.7139360300041644,
           -0.00865395605822126,
           -0.024455180256517627,
           0.017892104937550626,
           -0.008433557110498762,
           -0.00123456396002751,
           0.0022994263253152346,
           0.0029777897198903862,
           -0.014222826077391582,
           -0.031224456538423706,
           -0.000675914565750204,
           -0.00877075197687576,
           -0.006353279959087435,
           0.019780185498560338,
           1,
           0.020916107417910074,
           0.0353959795213227,
           -0.05833206856319424,
           -0.032166240382602025,
           -0.03652447507499489,
           -0.011573487183446305,
           -0.01943846316774295,
           0.02082982278935767
          ],
          [
           0.052667671124214256,
           -0.022643690674601667,
           0.05507213358881133,
           0.05305149571311831,
           0.10409610859262843,
           0.10903658696898538,
           0.04892077671169994,
           0.03598438707004922,
           0.10982249408936234,
           0.12204236543600708,
           0.14124508179048437,
           -0.07194128963375136,
           -0.016266842476170325,
           0.11908043125877171,
           0.0549511319284095,
           0.12966876325852716,
           0.07236150490599469,
           0.12973454754641278,
           0.1379859263691785,
           0.004374249669116202,
           -0.10667390012652196,
           -0.11455643901970729,
           0.012227247751423117,
           -0.04277165426045854,
           0.0067095147130856415,
           0.10511171914108716,
           0.10899806429077946,
           0.22837795518104648,
           0.046653574298697396,
           0.019431113210719313,
           0.1699161413828446,
           0.08048426435395525,
           0.2725174806040628,
           -0.021970617494798547,
           -0.08062373131469223,
           0.223161768320823,
           0.04630050300483814,
           0.998681087929093,
           0.020916107417910074,
           1,
           0.5958013182577905,
           -0.1864480909194076,
           -0.581395102510046,
           -0.5330606468573915,
           0.2007442943321066,
           0.02802320319067484,
           -0.032124680566825145
          ],
          [
           0.02952779492905697,
           -0.013533100795448701,
           0.04551893349557979,
           0.03389119685908935,
           0.07682100175213329,
           0.07091600518261697,
           0.03189451848856402,
           0.02652653232487353,
           0.06815374810590866,
           0.08438756672187149,
           0.09610430360667727,
           -0.06578914651575607,
           -0.007887808174611911,
           0.0878572359033193,
           0.03467550751368929,
           0.08522268104614852,
           0.061865378202586994,
           0.08539822394710761,
           0.1638872988265966,
           0.015899224611767505,
           -0.16475095719063093,
           -0.17365654068825903,
           0.012639552875375283,
           -0.025937918450097228,
           0.011949320687639651,
           0.10171151721978454,
           0.13398197703347622,
           0.222690121220997,
           0.04700107382012384,
           0.0022481901675703523,
           0.17766573861046397,
           0.09355447954660036,
           0.2528906336038989,
           -0.0648578436380349,
           -0.07514763801531266,
           0.22408964504327775,
           0.04081057028735047,
           0.5955873231487446,
           0.0353959795213227,
           0.5958013182577905,
           1,
           -0.15022352861445787,
           -0.9791449652396276,
           -0.927749463592866,
           0.17182381128451746,
           0.053312580709156454,
           -0.039338580799176646
          ],
          [
           -0.006587023948491118,
           0.004135292519160878,
           0.009767857489483799,
           0.006999163170893164,
           -0.008804170181905286,
           -0.01670947501342906,
           -0.007164679978170996,
           -0.004707318609884476,
           0.006863497299331385,
           0.0008360941131485987,
           0.0016377679018863465,
           -0.0020007465215176774,
           -0.0067633151859584646,
           -0.017231506386395926,
           -0.017729372670994652,
           -0.04236941417514285,
           -0.005539833022491501,
           -0.04247464819327087,
           -0.047320840998495116,
           0.2127954345506188,
           0.04008287732988199,
           0.0475237186867282,
           -0.0072842942353094,
           -0.04459439881855148,
           0.02949148370063893,
           0.04621132628037087,
           -0.012124125471489403,
           -0.05089330211328095,
           -0.011984350359781458,
           0.001841317832614142,
           -0.04184200350485807,
           0.009995582682162567,
           -0.08201343468970411,
           -0.01748063574635335,
           0.005588227367401408,
           -0.04514349778938451,
           0.019975550558577304,
           -0.18620431000308932,
           -0.05833206856319424,
           -0.1864480909194076,
           -0.15022352861445787,
           1,
           0.16357137754075546,
           0.16807034934533419,
           0.017761832799449737,
           -0.008002665960881195,
           0.0588523876794174
          ],
          [
           -0.03118096922277281,
           0.01091940501239984,
           -0.04453433210063105,
           -0.029859885885239842,
           -0.07668400662057964,
           -0.06304479839861797,
           -0.026851297493369883,
           -0.024257054373020153,
           -0.0628635075474422,
           -0.08558459593615393,
           -0.09275397427886013,
           0.059619851170643355,
           0.009539955960932687,
           -0.07984808378358152,
           -0.026011618908143373,
           -0.08074906848511841,
           -0.060100888584835345,
           -0.08092403318108905,
           -0.15615301695496722,
           -0.011271439588058147,
           0.1691845759564137,
           0.17532808289278934,
           -0.014086611151925093,
           0.03026149403977938,
           -0.019427602194881318,
           -0.10552331272419965,
           -0.130126320909147,
           -0.21104655755280677,
           -0.03403439689632506,
           0.019025584107621486,
           -0.16983782547541107,
           -0.10022682911599085,
           -0.24959782418981005,
           0.04524696022456377,
           0.08273736469120532,
           -0.20977088888225712,
           0.03359856143868355,
           -0.5812101660077673,
           -0.032166240382602025,
           -0.581395102510046,
           -0.9791449652396276,
           0.16357137754075546,
           1,
           0.9433422320194218,
           -0.17407668036838053,
           -0.05624615080885195,
           0.0458816008275894
          ],
          [
           -0.015479041651246727,
           0.03452868632931604,
           -0.02678610088902502,
           -0.030219407181984015,
           -0.06228947790751765,
           -0.056943721840351715,
           -0.018246598712150577,
           -0.0210753865128337,
           -0.060103298265134095,
           -0.07218642314533871,
           -0.08124508597152873,
           0.055123511598385896,
           0.012401529038415003,
           -0.07154515722613364,
           -0.01831550615395108,
           -0.07711563595069042,
           -0.069269211480778,
           -0.07727933008982713,
           -0.15192824770316482,
           -0.0011154082050386558,
           0.17167378171244702,
           0.19512588217201676,
           0.0074426240054465175,
           0.028335709820103805,
           -0.01705025240007083,
           0.10972179190794495,
           -0.04984760905534258,
           -0.22371207801761375,
           -0.04100553445057761,
           0.007049051086895857,
           -0.1730772334065235,
           -0.08682016789259274,
           -0.2494748759616366,
           0.05111014030245135,
           0.06502275496480471,
           -0.21294395140901495,
           0.05047554658198875,
           -0.5331374140266161,
           -0.03652447507499489,
           -0.5330606468573915,
           -0.927749463592866,
           0.16807034934533419,
           0.9433422320194218,
           1,
           0.03684763595952634,
           -0.03253204336595244,
           0.03403240754137335
          ],
          [
           0.04737244230585847,
           0.06868863964441857,
           0.06304627152649124,
           0.03111325328000963,
           0.039438314720226866,
           0.04083063018406565,
           0.02324234774538129,
           0.012716834028042785,
           0.04717520477595123,
           0.0620694651666223,
           0.06332033607859261,
           -0.025145431527422928,
           0.005583469509866516,
           0.05224892752687568,
           0.02309047100556967,
           0.03489218255213243,
           -0.00557267156484541,
           0.034859108792518766,
           0.04010160062777808,
           0.061310384288001916,
           -0.0037276250315886558,
           0.035558816498696945,
           0.08663403573037196,
           0.03970160585333629,
           0.01907006800493242,
           0.9648566311518892,
           0.30081163947839407,
           0.057040589232686886,
           0.007389811201373717,
           -0.015610325252886175,
           0.018524958285377025,
           0.05134119532735914,
           0.0990992529483665,
           0.036624205057352824,
           -0.05233558245294573,
           0.07500626671820045,
           0.017825768275582417,
           0.19968245279021202,
           -0.011573487183446305,
           0.2007442943321066,
           0.17182381128451746,
           0.017761832799449737,
           -0.17407668036838053,
           0.03684763595952634,
           1,
           0.023553677385498517,
           -0.029615787282991603
          ],
          [
           0.04784931576886695,
           -0.008736752140994473,
           -0.043502920175391285,
           0.04369473467787288,
           0.23429729750407788,
           -0.042974465201539164,
           0.013758374548256574,
           0.023288945433353612,
           0.013476731998710039,
           0.16007540062761136,
           -0.03323980804412247,
           -0.03893723172206494,
           0.04720094233708755,
           -0.04428401887725941,
           0.018147140772023555,
           -0.08692693604495588,
           -0.00502426722659624,
           -0.08686559778050677,
           -0.058248791381498265,
           0.04523284332449735,
           0.12845904583228512,
           0.1230841966600405,
           -0.03364532622519311,
           -0.015295749780860754,
           0.049646351108328456,
           0.030030912106358065,
           0.020725944833284028,
           -0.03359172626373308,
           0.09134234516020046,
           -0.04715696957919542,
           0.062069663748930054,
           0.6124088260500805,
           0.023886251869662537,
           -0.04836158187553603,
           0.08828599873123161,
           -0.16865875447067516,
           -0.03998723986025342,
           0.0312697381943357,
           -0.01943846316774295,
           0.02802320319067484,
           0.053312580709156454,
           -0.008002665960881195,
           -0.05624615080885195,
           -0.03253204336595244,
           0.023553677385498517,
           1,
           0.0127734648661728
          ],
          [
           0.017533114226325953,
           -0.01079808259142715,
           -0.002132144380642208,
           0.23495532220125404,
           0.0031812408715235028,
           -0.007055840267073303,
           0.025619971288417843,
           -0.006828501969720216,
           0.01597271256114389,
           0.025689862589521825,
           0.0036362611023828453,
           0.0038834314259273577,
           0.0211918047575988,
           -0.004099572349811884,
           0.0013958124740155117,
           -0.01733250370516035,
           0.0023866832877290486,
           -0.017078348322643527,
           -0.018163159435976857,
           0.01057713336051734,
           0.026459188477771886,
           0.023393414849607535,
           -0.014281681759838962,
           -0.05928046661794892,
           -0.027361454121869726,
           -0.022953556006342603,
           0.016092962977475502,
           -0.04584693601873381,
           0.06306202930484343,
           -0.03629691999050567,
           0.008862285311795181,
           0.06073327208508669,
           -0.006931025489494139,
           -0.012998428025193678,
           0.006659914162469775,
           0.038076023639597896,
           0.014652230290480883,
           -0.03271801630349122,
           0.02082982278935767,
           -0.032124680566825145,
           -0.039338580799176646,
           0.0588523876794174,
           0.0458816008275894,
           0.03403240754137335,
           -0.029615787282991603,
           0.0127734648661728,
           1
          ]
         ]
        }
       ],
       "layout": {
        "coloraxis": {
         "colorscale": [
          [
           0,
           "#0d0887"
          ],
          [
           0.1111111111111111,
           "#46039f"
          ],
          [
           0.2222222222222222,
           "#7201a8"
          ],
          [
           0.3333333333333333,
           "#9c179e"
          ],
          [
           0.4444444444444444,
           "#bd3786"
          ],
          [
           0.5555555555555556,
           "#d8576b"
          ],
          [
           0.6666666666666666,
           "#ed7953"
          ],
          [
           0.7777777777777778,
           "#fb9f3a"
          ],
          [
           0.8888888888888888,
           "#fdca26"
          ],
          [
           1,
           "#f0f921"
          ]
         ]
        },
        "margin": {
         "t": 60
        },
        "template": {
         "data": {
          "bar": [
           {
            "error_x": {
             "color": "#2a3f5f"
            },
            "error_y": {
             "color": "#2a3f5f"
            },
            "marker": {
             "line": {
              "color": "#E5ECF6",
              "width": 0.5
             },
             "pattern": {
              "fillmode": "overlay",
              "size": 10,
              "solidity": 0.2
             }
            },
            "type": "bar"
           }
          ],
          "barpolar": [
           {
            "marker": {
             "line": {
              "color": "#E5ECF6",
              "width": 0.5
             },
             "pattern": {
              "fillmode": "overlay",
              "size": 10,
              "solidity": 0.2
             }
            },
            "type": "barpolar"
           }
          ],
          "carpet": [
           {
            "aaxis": {
             "endlinecolor": "#2a3f5f",
             "gridcolor": "white",
             "linecolor": "white",
             "minorgridcolor": "white",
             "startlinecolor": "#2a3f5f"
            },
            "baxis": {
             "endlinecolor": "#2a3f5f",
             "gridcolor": "white",
             "linecolor": "white",
             "minorgridcolor": "white",
             "startlinecolor": "#2a3f5f"
            },
            "type": "carpet"
           }
          ],
          "choropleth": [
           {
            "colorbar": {
             "outlinewidth": 0,
             "ticks": ""
            },
            "type": "choropleth"
           }
          ],
          "contour": [
           {
            "colorbar": {
             "outlinewidth": 0,
             "ticks": ""
            },
            "colorscale": [
             [
              0,
              "#0d0887"
             ],
             [
              0.1111111111111111,
              "#46039f"
             ],
             [
              0.2222222222222222,
              "#7201a8"
             ],
             [
              0.3333333333333333,
              "#9c179e"
             ],
             [
              0.4444444444444444,
              "#bd3786"
             ],
             [
              0.5555555555555556,
              "#d8576b"
             ],
             [
              0.6666666666666666,
              "#ed7953"
             ],
             [
              0.7777777777777778,
              "#fb9f3a"
             ],
             [
              0.8888888888888888,
              "#fdca26"
             ],
             [
              1,
              "#f0f921"
             ]
            ],
            "type": "contour"
           }
          ],
          "contourcarpet": [
           {
            "colorbar": {
             "outlinewidth": 0,
             "ticks": ""
            },
            "type": "contourcarpet"
           }
          ],
          "heatmap": [
           {
            "colorbar": {
             "outlinewidth": 0,
             "ticks": ""
            },
            "colorscale": [
             [
              0,
              "#0d0887"
             ],
             [
              0.1111111111111111,
              "#46039f"
             ],
             [
              0.2222222222222222,
              "#7201a8"
             ],
             [
              0.3333333333333333,
              "#9c179e"
             ],
             [
              0.4444444444444444,
              "#bd3786"
             ],
             [
              0.5555555555555556,
              "#d8576b"
             ],
             [
              0.6666666666666666,
              "#ed7953"
             ],
             [
              0.7777777777777778,
              "#fb9f3a"
             ],
             [
              0.8888888888888888,
              "#fdca26"
             ],
             [
              1,
              "#f0f921"
             ]
            ],
            "type": "heatmap"
           }
          ],
          "heatmapgl": [
           {
            "colorbar": {
             "outlinewidth": 0,
             "ticks": ""
            },
            "colorscale": [
             [
              0,
              "#0d0887"
             ],
             [
              0.1111111111111111,
              "#46039f"
             ],
             [
              0.2222222222222222,
              "#7201a8"
             ],
             [
              0.3333333333333333,
              "#9c179e"
             ],
             [
              0.4444444444444444,
              "#bd3786"
             ],
             [
              0.5555555555555556,
              "#d8576b"
             ],
             [
              0.6666666666666666,
              "#ed7953"
             ],
             [
              0.7777777777777778,
              "#fb9f3a"
             ],
             [
              0.8888888888888888,
              "#fdca26"
             ],
             [
              1,
              "#f0f921"
             ]
            ],
            "type": "heatmapgl"
           }
          ],
          "histogram": [
           {
            "marker": {
             "pattern": {
              "fillmode": "overlay",
              "size": 10,
              "solidity": 0.2
             }
            },
            "type": "histogram"
           }
          ],
          "histogram2d": [
           {
            "colorbar": {
             "outlinewidth": 0,
             "ticks": ""
            },
            "colorscale": [
             [
              0,
              "#0d0887"
             ],
             [
              0.1111111111111111,
              "#46039f"
             ],
             [
              0.2222222222222222,
              "#7201a8"
             ],
             [
              0.3333333333333333,
              "#9c179e"
             ],
             [
              0.4444444444444444,
              "#bd3786"
             ],
             [
              0.5555555555555556,
              "#d8576b"
             ],
             [
              0.6666666666666666,
              "#ed7953"
             ],
             [
              0.7777777777777778,
              "#fb9f3a"
             ],
             [
              0.8888888888888888,
              "#fdca26"
             ],
             [
              1,
              "#f0f921"
             ]
            ],
            "type": "histogram2d"
           }
          ],
          "histogram2dcontour": [
           {
            "colorbar": {
             "outlinewidth": 0,
             "ticks": ""
            },
            "colorscale": [
             [
              0,
              "#0d0887"
             ],
             [
              0.1111111111111111,
              "#46039f"
             ],
             [
              0.2222222222222222,
              "#7201a8"
             ],
             [
              0.3333333333333333,
              "#9c179e"
             ],
             [
              0.4444444444444444,
              "#bd3786"
             ],
             [
              0.5555555555555556,
              "#d8576b"
             ],
             [
              0.6666666666666666,
              "#ed7953"
             ],
             [
              0.7777777777777778,
              "#fb9f3a"
             ],
             [
              0.8888888888888888,
              "#fdca26"
             ],
             [
              1,
              "#f0f921"
             ]
            ],
            "type": "histogram2dcontour"
           }
          ],
          "mesh3d": [
           {
            "colorbar": {
             "outlinewidth": 0,
             "ticks": ""
            },
            "type": "mesh3d"
           }
          ],
          "parcoords": [
           {
            "line": {
             "colorbar": {
              "outlinewidth": 0,
              "ticks": ""
             }
            },
            "type": "parcoords"
           }
          ],
          "pie": [
           {
            "automargin": true,
            "type": "pie"
           }
          ],
          "scatter": [
           {
            "fillpattern": {
             "fillmode": "overlay",
             "size": 10,
             "solidity": 0.2
            },
            "type": "scatter"
           }
          ],
          "scatter3d": [
           {
            "line": {
             "colorbar": {
              "outlinewidth": 0,
              "ticks": ""
             }
            },
            "marker": {
             "colorbar": {
              "outlinewidth": 0,
              "ticks": ""
             }
            },
            "type": "scatter3d"
           }
          ],
          "scattercarpet": [
           {
            "marker": {
             "colorbar": {
              "outlinewidth": 0,
              "ticks": ""
             }
            },
            "type": "scattercarpet"
           }
          ],
          "scattergeo": [
           {
            "marker": {
             "colorbar": {
              "outlinewidth": 0,
              "ticks": ""
             }
            },
            "type": "scattergeo"
           }
          ],
          "scattergl": [
           {
            "marker": {
             "colorbar": {
              "outlinewidth": 0,
              "ticks": ""
             }
            },
            "type": "scattergl"
           }
          ],
          "scattermapbox": [
           {
            "marker": {
             "colorbar": {
              "outlinewidth": 0,
              "ticks": ""
             }
            },
            "type": "scattermapbox"
           }
          ],
          "scatterpolar": [
           {
            "marker": {
             "colorbar": {
              "outlinewidth": 0,
              "ticks": ""
             }
            },
            "type": "scatterpolar"
           }
          ],
          "scatterpolargl": [
           {
            "marker": {
             "colorbar": {
              "outlinewidth": 0,
              "ticks": ""
             }
            },
            "type": "scatterpolargl"
           }
          ],
          "scatterternary": [
           {
            "marker": {
             "colorbar": {
              "outlinewidth": 0,
              "ticks": ""
             }
            },
            "type": "scatterternary"
           }
          ],
          "surface": [
           {
            "colorbar": {
             "outlinewidth": 0,
             "ticks": ""
            },
            "colorscale": [
             [
              0,
              "#0d0887"
             ],
             [
              0.1111111111111111,
              "#46039f"
             ],
             [
              0.2222222222222222,
              "#7201a8"
             ],
             [
              0.3333333333333333,
              "#9c179e"
             ],
             [
              0.4444444444444444,
              "#bd3786"
             ],
             [
              0.5555555555555556,
              "#d8576b"
             ],
             [
              0.6666666666666666,
              "#ed7953"
             ],
             [
              0.7777777777777778,
              "#fb9f3a"
             ],
             [
              0.8888888888888888,
              "#fdca26"
             ],
             [
              1,
              "#f0f921"
             ]
            ],
            "type": "surface"
           }
          ],
          "table": [
           {
            "cells": {
             "fill": {
              "color": "#EBF0F8"
             },
             "line": {
              "color": "white"
             }
            },
            "header": {
             "fill": {
              "color": "#C8D4E3"
             },
             "line": {
              "color": "white"
             }
            },
            "type": "table"
           }
          ]
         },
         "layout": {
          "annotationdefaults": {
           "arrowcolor": "#2a3f5f",
           "arrowhead": 0,
           "arrowwidth": 1
          },
          "autotypenumbers": "strict",
          "coloraxis": {
           "colorbar": {
            "outlinewidth": 0,
            "ticks": ""
           }
          },
          "colorscale": {
           "diverging": [
            [
             0,
             "#8e0152"
            ],
            [
             0.1,
             "#c51b7d"
            ],
            [
             0.2,
             "#de77ae"
            ],
            [
             0.3,
             "#f1b6da"
            ],
            [
             0.4,
             "#fde0ef"
            ],
            [
             0.5,
             "#f7f7f7"
            ],
            [
             0.6,
             "#e6f5d0"
            ],
            [
             0.7,
             "#b8e186"
            ],
            [
             0.8,
             "#7fbc41"
            ],
            [
             0.9,
             "#4d9221"
            ],
            [
             1,
             "#276419"
            ]
           ],
           "sequential": [
            [
             0,
             "#0d0887"
            ],
            [
             0.1111111111111111,
             "#46039f"
            ],
            [
             0.2222222222222222,
             "#7201a8"
            ],
            [
             0.3333333333333333,
             "#9c179e"
            ],
            [
             0.4444444444444444,
             "#bd3786"
            ],
            [
             0.5555555555555556,
             "#d8576b"
            ],
            [
             0.6666666666666666,
             "#ed7953"
            ],
            [
             0.7777777777777778,
             "#fb9f3a"
            ],
            [
             0.8888888888888888,
             "#fdca26"
            ],
            [
             1,
             "#f0f921"
            ]
           ],
           "sequentialminus": [
            [
             0,
             "#0d0887"
            ],
            [
             0.1111111111111111,
             "#46039f"
            ],
            [
             0.2222222222222222,
             "#7201a8"
            ],
            [
             0.3333333333333333,
             "#9c179e"
            ],
            [
             0.4444444444444444,
             "#bd3786"
            ],
            [
             0.5555555555555556,
             "#d8576b"
            ],
            [
             0.6666666666666666,
             "#ed7953"
            ],
            [
             0.7777777777777778,
             "#fb9f3a"
            ],
            [
             0.8888888888888888,
             "#fdca26"
            ],
            [
             1,
             "#f0f921"
            ]
           ]
          },
          "colorway": [
           "#636efa",
           "#EF553B",
           "#00cc96",
           "#ab63fa",
           "#FFA15A",
           "#19d3f3",
           "#FF6692",
           "#B6E880",
           "#FF97FF",
           "#FECB52"
          ],
          "font": {
           "color": "#2a3f5f"
          },
          "geo": {
           "bgcolor": "white",
           "lakecolor": "white",
           "landcolor": "#E5ECF6",
           "showlakes": true,
           "showland": true,
           "subunitcolor": "white"
          },
          "hoverlabel": {
           "align": "left"
          },
          "hovermode": "closest",
          "mapbox": {
           "style": "light"
          },
          "paper_bgcolor": "white",
          "plot_bgcolor": "#E5ECF6",
          "polar": {
           "angularaxis": {
            "gridcolor": "white",
            "linecolor": "white",
            "ticks": ""
           },
           "bgcolor": "#E5ECF6",
           "radialaxis": {
            "gridcolor": "white",
            "linecolor": "white",
            "ticks": ""
           }
          },
          "scene": {
           "xaxis": {
            "backgroundcolor": "#E5ECF6",
            "gridcolor": "white",
            "gridwidth": 2,
            "linecolor": "white",
            "showbackground": true,
            "ticks": "",
            "zerolinecolor": "white"
           },
           "yaxis": {
            "backgroundcolor": "#E5ECF6",
            "gridcolor": "white",
            "gridwidth": 2,
            "linecolor": "white",
            "showbackground": true,
            "ticks": "",
            "zerolinecolor": "white"
           },
           "zaxis": {
            "backgroundcolor": "#E5ECF6",
            "gridcolor": "white",
            "gridwidth": 2,
            "linecolor": "white",
            "showbackground": true,
            "ticks": "",
            "zerolinecolor": "white"
           }
          },
          "shapedefaults": {
           "line": {
            "color": "#2a3f5f"
           }
          },
          "ternary": {
           "aaxis": {
            "gridcolor": "white",
            "linecolor": "white",
            "ticks": ""
           },
           "baxis": {
            "gridcolor": "white",
            "linecolor": "white",
            "ticks": ""
           },
           "bgcolor": "#E5ECF6",
           "caxis": {
            "gridcolor": "white",
            "linecolor": "white",
            "ticks": ""
           }
          },
          "title": {
           "x": 0.05
          },
          "xaxis": {
           "automargin": true,
           "gridcolor": "white",
           "linecolor": "white",
           "ticks": "",
           "title": {
            "standoff": 15
           },
           "zerolinecolor": "white",
           "zerolinewidth": 2
          },
          "yaxis": {
           "automargin": true,
           "gridcolor": "white",
           "linecolor": "white",
           "ticks": "",
           "title": {
            "standoff": 15
           },
           "zerolinecolor": "white",
           "zerolinewidth": 2
          }
         }
        },
        "xaxis": {
         "anchor": "y",
         "domain": [
          0,
          1
         ]
        },
        "yaxis": {
         "anchor": "x",
         "autorange": "reversed",
         "domain": [
          0,
          1
         ]
        }
       }
      },
      "text/html": [
       "<div>                            <div id=\"74099f3e-e7d4-4aba-aeca-5d29dcaf7651\" class=\"plotly-graph-div\" style=\"height:525px; width:100%;\"></div>            <script type=\"text/javascript\">                require([\"plotly\"], function(Plotly) {                    window.PLOTLYENV=window.PLOTLYENV || {};                                    if (document.getElementById(\"74099f3e-e7d4-4aba-aeca-5d29dcaf7651\")) {                    Plotly.newPlot(                        \"74099f3e-e7d4-4aba-aeca-5d29dcaf7651\",                        [{\"coloraxis\":\"coloraxis\",\"name\":\"0\",\"texttemplate\":\"%{z}\",\"x\":[\"porcentaje_agua\",\"presion_casing\",\"presion_boca_pozo\",\"carrera\",\"gpm\",\"tv\",\"sv\",\"cbe\",\"tmax\",\"vpmax\",\"carga_max_fondo\",\"carga_min_fondo\",\"sobre_recorrido\",\"estiramiento\",\"profundidad_bomba\",\"cuplas\",\"produccion_petroleo\",\"profundidad_gas\",\"profundidad_niveles\",\"velocidad_sonido\",\"sumergencia_efectiva\",\"presion_dinamica\",\"presion_interface\",\"diff_fecha\",\"diff_porcentaje_agua\",\"diff_presion_casing\",\"diff_presion_boca_pozo\",\"diff_tv\",\"diff_sv\",\"diff_cbe\",\"diff_tmax\",\"diff_vpmax\",\"diff_carga_max_fondo\",\"diff_carga_min_fondo\",\"diff_sobre_recorrido\",\"diff_estiramiento\",\"diff_profundidad_bomba\",\"diff_cuplas\",\"diff_produccion_petroleo\",\"diff_profundidad_gas\",\"diff_profundidad_niveles\",\"diff_velocidad_sonido\",\"diff_sumergencia_efectiva\",\"diff_presion_dinamica\",\"diff_presion_interface\",\"diff_gpm\",\"diff_carrera\"],\"y\":[\"porcentaje_agua\",\"presion_casing\",\"presion_boca_pozo\",\"carrera\",\"gpm\",\"tv\",\"sv\",\"cbe\",\"tmax\",\"vpmax\",\"carga_max_fondo\",\"carga_min_fondo\",\"sobre_recorrido\",\"estiramiento\",\"profundidad_bomba\",\"cuplas\",\"produccion_petroleo\",\"profundidad_gas\",\"profundidad_niveles\",\"velocidad_sonido\",\"sumergencia_efectiva\",\"presion_dinamica\",\"presion_interface\",\"diff_fecha\",\"diff_porcentaje_agua\",\"diff_presion_casing\",\"diff_presion_boca_pozo\",\"diff_tv\",\"diff_sv\",\"diff_cbe\",\"diff_tmax\",\"diff_vpmax\",\"diff_carga_max_fondo\",\"diff_carga_min_fondo\",\"diff_sobre_recorrido\",\"diff_estiramiento\",\"diff_profundidad_bomba\",\"diff_cuplas\",\"diff_produccion_petroleo\",\"diff_profundidad_gas\",\"diff_profundidad_niveles\",\"diff_velocidad_sonido\",\"diff_sumergencia_efectiva\",\"diff_presion_dinamica\",\"diff_presion_interface\",\"diff_gpm\",\"diff_carrera\"],\"z\":[[1.0,-0.2674865602988511,-0.2534452022064626,0.242064134855617,0.5759783656785161,-0.023905312730606885,0.007201495627230646,-0.007957179744041433,0.17233831239143932,0.4901079124804988,0.20921294101595372,-0.11598244474599587,0.021334502065660232,-0.07914157674910043,-0.12600956675120076,-0.34366307316552086,-0.507908300869994,-0.3435843931617398,-0.28600125293848666,0.3487210454278246,0.3671990004450221,0.2799319354378347,-0.32783895801180724,0.04224201799013444,0.13061580951506138,0.04878078369923193,0.007906975739571383,-0.004155575135568043,0.01482739359465457,0.019981227228577744,-0.01592695137667101,0.03020054846801053,0.0038904170676273705,0.0154132079462342,0.015653281001545786,-0.03330479376889154,-0.014117809229702983,0.05358375343813367,-0.07396692722960004,0.052667671124214256,0.02952779492905697,-0.006587023948491118,-0.03118096922277281,-0.015479041651246727,0.04737244230585847,0.04784931576886695,0.017533114226325953],[-0.2674865602988511,1.0,0.2615708532380053,-0.2265736048489696,-0.3601073169110974,-0.24361572402919426,-0.1889038964361979,-0.2123139841048377,-0.31054351594144225,-0.38000207038277733,-0.3472389686675294,0.3112373056398135,-0.02029233871472292,-0.2101857660474404,-0.19567236609494576,0.023366531912337875,-0.11054298099649372,0.02356876805107867,0.07538440721703389,-0.49359471200412613,-0.3725668277173489,-0.06133418897540524,0.9460610210664419,0.004917535814653603,0.005981293726318576,0.06593665700034651,0.01598087320497129,0.0007953910200021371,-0.015821524632042727,-0.014313789208731246,0.014060737254876695,-0.007969806163869438,0.018070419262887754,0.014888944799882039,0.0034375241959239394,0.02494956103171441,0.009727137553309558,-0.023613361085819597,0.011392762557793066,-0.022643690674601667,-0.013533100795448701,0.004135292519160878,0.01091940501239984,0.03452868632931604,0.06868863964441857,-0.008736752140994473,-0.01079808259142715],[-0.2534452022064626,0.2615708532380053,1.0,-0.08292540224555699,-0.18134266823291229,0.008126379188565368,-0.09004355671589151,-0.05927386679095541,-0.004782667869869174,-0.17001358226018462,0.02254243525430937,0.021148372559156168,-0.06560847657969862,0.04929552840781711,-0.016892296489964546,0.04243579806819547,0.0662300519969205,0.042228311971813794,0.0454668467102072,-0.2630400467232602,-0.17619454124567344,-0.06089508110875799,0.26741601144376775,-0.052060279869318035,0.002951357168416601,0.05095684973631668,0.2964575622547702,0.08731872275525757,-0.014377205067451437,0.022383982539708018,0.08203103060183546,-0.0015034507674392234,0.12586061274975313,-0.027586328088697296,-0.06505700667300554,0.12567540770033667,0.015552776479030486,0.05526793824573158,-0.017584981792241248,0.05507213358881133,0.04551893349557979,0.009767857489483799,-0.04453433210063105,-0.02678610088902502,0.06304627152649124,-0.043502920175391285,-0.002132144380642208],[0.242064134855617,-0.2265736048489696,-0.08292540224555699,1.0,0.34739306049072877,0.3279166810329997,0.3549527351333469,0.2991670410370678,0.6625866719688795,0.6289548620593374,0.36109008573829454,-0.46262818334951583,0.18773049014518586,0.3594302091383184,0.40993823043267275,0.05967925045452977,0.1795026205535174,0.06032215305624097,0.14450607859293826,0.33392015913398515,0.40752575095113547,0.3596557326251601,-0.2242121827159229,-0.05601829320267546,0.009805182763224589,0.031269722072873846,0.031029661943348722,0.01853671454371452,0.026226632355232257,0.023388276187562014,0.016018800331342908,0.035186246163058404,0.03667784952082724,-0.01505072043256649,-0.020737390243931224,0.02877709179862191,0.05610106653206508,0.05327934963159017,-0.022922594935717803,0.05305149571311831,0.03389119685908935,0.006999163170893164,-0.029859885885239842,-0.030219407181984015,0.03111325328000963,0.04369473467787288,0.23495532220125404],[0.5759783656785161,-0.3601073169110974,-0.18134266823291229,0.34739306049072877,1.0,0.11847533308630526,0.21304881842730444,0.20027829928792723,0.3560696829337566,0.830896565207467,0.3454911774719516,-0.4027466050011822,0.12312468178889908,0.07571427303683281,0.135159623046217,-0.35540734835395,0.13293195383949435,-0.35493303434017515,-0.2218053164290292,0.562210553188283,0.5431218021105394,0.45323597197938653,-0.42317473903474084,-0.019820492616481132,0.018214134574444693,0.030921042867208263,0.013748167420513227,0.018952923775521744,0.02791715140629145,-0.015491425701291207,0.03598347863199164,0.15665094517770353,0.044561661269116155,-0.02948661837357867,0.02339525376448751,-0.03334628908304658,0.0042688282410960135,0.10583679155937985,0.005435584442203245,0.10409610859262843,0.07682100175213329,-0.008804170181905286,-0.07668400662057964,-0.06228947790751765,0.039438314720226866,0.23429729750407788,0.0031812408715235028],[-0.023905312730606885,-0.24361572402919426,0.008126379188565368,0.3279166810329997,0.11847533308630526,1.0,0.7687614453089103,0.7813469380091886,0.6930651727542563,0.4028317780296217,0.7750866497456335,-0.4739377667925337,0.2830507492261435,0.8480275320482672,0.7239476328807963,0.5456998364942727,0.20167475566792908,0.5463682490771068,0.6268812875690503,0.3719555703724111,0.13687908238484128,0.07520500402035861,-0.11981469586446074,0.002412782738248579,-0.0017820565006960072,0.025795802555332217,0.04316157072113715,0.18492456147653807,0.004013546202542145,0.07504238165484844,0.07357137439787466,-0.039186009144153426,0.10165105074218049,-0.02643579306216284,-0.05594884986721456,0.09757316191686996,0.02256443005120492,0.10976108825473044,-0.023172384615584397,0.10903658696898538,0.07091600518261697,-0.01670947501342906,-0.06304479839861797,-0.056943721840351715,0.04083063018406565,-0.042974465201539164,-0.007055840267073303],[0.007201495627230646,-0.1889038964361979,-0.09004355671589151,0.3549527351333469,0.21304881842730444,0.7687614453089103,1.0,0.7666743447067964,0.510754543336695,0.47188539620388414,0.46485816791405526,-0.3675406058543615,0.5975337541434518,0.6809976028706382,0.7911139528599753,0.38193944254942935,0.15706733660834932,0.38291852854209446,0.5168425228227153,0.34801541536086694,0.32647641453676657,0.294129297220422,-0.1158270775747694,-0.025565317184386566,0.015321182605674487,0.01690640027006964,0.02592054774014414,0.0353439032352327,0.15297200572499234,0.050636308259773395,-0.007263106051140851,-0.012777244334876236,0.029167937230780223,0.03217611764270899,0.009882866981403404,0.005075844471877765,0.022370537971849538,0.0505819734733057,-0.021604708067772437,0.04892077671169994,0.03189451848856402,-0.007164679978170996,-0.026851297493369883,-0.018246598712150577,0.02324234774538129,0.013758374548256574,0.025619971288417843],[-0.007957179744041433,-0.2123139841048377,-0.05927386679095541,0.2991670410370678,0.20027829928792723,0.7813469380091886,0.7666743447067964,1.0,0.6229064135833391,0.41508428024055166,0.5828766609551759,-0.4313288588117024,0.3800852341480383,0.6967128027181702,0.7226614116254927,0.3650724932945465,0.16628868214613,0.3657571088399336,0.44342280377723997,0.4048818557458987,0.3477450688656509,0.30795560887753487,-0.14259983828089892,-0.022884752136890663,0.003897804336948356,0.008411230225658515,0.019445863225373835,0.00716634709190222,-0.012266706523745431,0.09882097507109601,0.0212336076476264,-0.008672791567486219,0.018608705961300837,-0.0319330849132197,-0.025009384036520012,0.010863873605224629,0.01189358942122798,0.03741128873819191,-0.01396290462153586,0.03598438707004922,0.02652653232487353,-0.004707318609884476,-0.024257054373020153,-0.0210753865128337,0.012716834028042785,0.023288945433353612,-0.006828501969720216],[0.17233831239143932,-0.31054351594144225,-0.004782667869869174,0.6625866719688795,0.3560696829337566,0.6930651727542563,0.510754543336695,0.6229064135833391,1.0,0.6268752819895351,0.7233402232351765,-0.6059182365800931,0.1418291604119172,0.6613561251766967,0.5797781170827122,0.2524525069157357,0.23269405830668263,0.25296212250469563,0.33327349388176997,0.44416525383800626,0.3589741829537969,0.27890745399369055,-0.24900557327260983,-0.04634367545863049,0.006014253568767516,0.035896077691642644,0.03588613343974049,0.07228614488237993,0.0012089585079668476,0.09372978502101934,0.1671619503197577,-0.0010477389874712314,0.08445333301047597,-0.037539034711503036,-0.052833975874122814,0.06894884599334104,0.028291252755850215,0.11005712828665105,-0.03976313575924856,0.10982249408936234,0.06815374810590866,0.006863497299331385,-0.0628635075474422,-0.060103298265134095,0.04717520477595123,0.013476731998710039,0.01597271256114389],[0.4901079124804988,-0.38000207038277733,-0.17001358226018462,0.6289548620593374,0.830896565207467,0.4028317780296217,0.47188539620388414,0.41508428024055166,0.6268752819895351,1.0,0.5304658165243575,-0.5722733891556543,0.26751402735740876,0.3737799847859606,0.4206702000554324,-0.09713326295772462,0.2099857367601606,-0.09652977549177308,0.06452206835348741,0.5697343921145657,0.5805562824204668,0.49622830544934754,-0.4032560716278996,-0.026424006315317307,0.018185443705275396,0.05164655463577407,0.0391670750255311,0.046052935113224204,0.029298020625088624,0.021606088850609762,0.04768998388581155,0.18150493114630972,0.06624040235876173,-0.027414237454630678,-0.0004401496476020313,0.003014352137771973,0.028273297798764342,0.12351977326058819,-0.01074568175790304,0.12204236543600708,0.08438756672187149,0.0008360941131485987,-0.08558459593615393,-0.07218642314533871,0.0620694651666223,0.16007540062761136,0.025689862589521825],[0.20921294101595372,-0.3472389686675294,0.02254243525430937,0.36109008573829454,0.3454911774719516,0.7750866497456335,0.46485816791405526,0.5828766609551759,0.7233402232351765,0.5304658165243575,1.0,-0.42133384542535895,-0.03564239050862122,0.6149193423803991,0.3685696821410392,0.26653421183385095,0.22473344132006015,0.26666746222119164,0.29769124814215264,0.4450690797346187,0.16736965276386698,0.0682830019073682,-0.28126601738540136,0.003176913126395315,0.014863729419420055,0.05091789090024471,0.06956982911774487,0.11906071405679748,0.015069463261249883,0.08617502110362739,0.11211056473385911,-0.004341368102763222,0.171785010996424,-0.032687949240118516,-0.06248970308669562,0.12841308668827717,0.024280232998116658,0.14134422756757517,-0.025251553038924995,0.14124508179048437,0.09610430360667727,0.0016377679018863465,-0.09275397427886013,-0.08124508597152873,0.06332033607859261,-0.03323980804412247,0.0036362611023828453],[-0.11598244474599587,0.3112373056398135,0.021148372559156168,-0.46262818334951583,-0.4027466050011822,-0.4739377667925337,-0.3675406058543615,-0.4313288588117024,-0.6059182365800931,-0.5722733891556543,-0.42133384542535895,1.0,-0.11632072646658724,-0.5152783122310193,-0.571495982593815,-0.13922056613384054,-0.25602898247926914,-0.1399385536351254,-0.2827444995797699,-0.4522773303309705,-0.39149311472258813,-0.3282428419073315,0.2826238402774109,0.03883381274788682,-0.023762120255668547,-0.017622072571493105,-0.027986338772215513,-0.033707354462265915,0.05066928295424178,-0.008684312980443434,-0.09923175180724951,-0.02054338251286825,-0.044314357079856384,0.22611439285499696,0.03962841281587063,-0.024771935795657847,-0.03095440826280493,-0.0723664772026873,0.030660740624027526,-0.07194128963375136,-0.06578914651575607,-0.0020007465215176774,0.059619851170643355,0.055123511598385896,-0.025145431527422928,-0.03893723172206494,0.0038834314259273577],[0.021334502065660232,-0.02029233871472292,-0.06560847657969862,0.18773049014518586,0.12312468178889908,0.2830507492261435,0.5975337541434518,0.3800852341480383,0.1418291604119172,0.26751402735740876,-0.03564239050862122,-0.11632072646658724,1.0,0.32266887779618525,0.4942265341584606,0.15773242903961326,0.023319028557947232,0.15858727584441337,0.265143000161358,0.12536054852845288,0.2854060524940875,0.3066367011156109,-0.0016344932614018673,-0.02644679829672417,0.010671924349129985,0.009485567439081358,-0.017930293242141963,-0.002252173692090839,0.057760263615796455,0.013022575048214509,-0.047290892851809235,0.015390112972721687,-0.011801396833146988,0.050669418866711266,0.23247050126018018,-0.07806631788610671,0.001595649233493235,-0.014373558045951097,-0.00014190303882170009,-0.016266842476170325,-0.007887808174611911,-0.0067633151859584646,0.009539955960932687,0.012401529038415003,0.005583469509866516,0.04720094233708755,0.0211918047575988],[-0.07914157674910043,-0.2101857660474404,0.04929552840781711,0.3594302091383184,0.07571427303683281,0.8480275320482672,0.6809976028706382,0.6967128027181702,0.6613561251766967,0.3737799847859606,0.6149193423803991,-0.5152783122310193,0.32266887779618525,1.0,0.8633824723757236,0.6392510223731553,0.19966980522591482,0.6399069795135197,0.745523481722791,0.34485488054513086,0.14342997925612178,0.10044844037143862,-0.061730711655621655,-0.009643094654982384,0.01720626945916619,0.033170329294956946,0.05447506722031474,0.0869785545539155,-0.006007572346525694,0.05524393048465775,0.050815898671732196,-0.03545640936611118,0.08576608533394772,-0.009081597129290816,-0.06791910335935217,0.15223094624766775,0.03697566691176971,0.12002089614032917,-0.045164612959720414,0.11908043125877171,0.0878572359033193,-0.017231506386395926,-0.07984808378358152,-0.07154515722613364,0.05224892752687568,-0.04428401887725941,-0.004099572349811884],[-0.12600956675120076,-0.19567236609494576,-0.016892296489964546,0.40993823043267275,0.135159623046217,0.7239476328807963,0.7911139528599753,0.7226614116254927,0.5797781170827122,0.4206702000554324,0.3685696821410392,-0.571495982593815,0.4942265341584606,0.8633824723757236,1.0,0.5299655808813782,0.20311978803395764,0.5308691929021822,0.681626553143509,0.3435754712902579,0.33727025988513676,0.3125418391936686,-0.08136974927155279,-0.043891872878009955,0.01791819943069933,0.013379193598822526,0.030488134780201785,0.0322037246689028,-0.003198395151781461,0.04087705825403037,0.007703654509963873,-0.01564114839562965,0.01741395261678984,-0.012800441191276636,-0.020464453774933767,0.024294440885599556,0.03709272250130486,0.05645901860010627,-0.03998776324660537,0.0549511319284095,0.03467550751368929,-0.017729372670994652,-0.026011618908143373,-0.01831550615395108,0.02309047100556967,0.018147140772023555,0.0013958124740155117],[-0.34366307316552086,0.023366531912337875,0.04243579806819547,0.05967925045452977,-0.35540734835395,0.5456998364942727,0.38193944254942935,0.3650724932945465,0.2524525069157357,-0.09713326295772462,0.26653421183385095,-0.13922056613384054,0.15773242903961326,0.6392510223731553,0.5299655808813782,1.0,0.06952741493968319,0.9999670660359926,0.8541244304318242,-0.05189506024773666,-0.415276467516685,-0.39818691783643484,0.2387141739247381,0.0507150332898066,0.008716237262036823,0.0108230001046956,0.03300682859671934,0.04132415049436152,-0.002798115429304603,0.03705611847495218,0.013804545360948278,-0.07482056981409395,0.02239042906819412,0.012379285762105615,-0.05495617017611858,0.05380531453874851,0.03129848605741847,0.12982812768489452,-0.04104060475914582,0.12966876325852716,0.08522268104614852,-0.04236941417514285,-0.08074906848511841,-0.07711563595069042,0.03489218255213243,-0.08692693604495588,-0.01733250370516035],[-0.507908300869994,-0.11054298099649372,0.0662300519969205,0.1795026205535174,0.13293195383949435,0.20167475566792908,0.15706733660834932,0.16628868214613,0.23269405830668263,0.2099857367601606,0.22473344132006015,-0.25602898247926914,0.023319028557947232,0.19966980522591482,0.20311978803395764,0.06952741493968319,1.0,0.0701568513774849,0.11832466644347238,0.15711548486349333,0.07629109284971448,0.056347395957186845,-0.09058959894603097,-0.08222658528834337,-0.1328401975292917,-0.011739668941706942,0.013294208313582039,0.04237176688765519,0.0018836188947264395,-0.00277004833292891,0.024493315029034738,-0.006369889174075609,0.02296837070974343,-0.006421367606772063,-0.04107217666299048,0.041404258993778774,0.02337120408357143,0.07189744681103118,0.15148457886388203,0.07236150490599469,0.061865378202586994,-0.005539833022491501,-0.060100888584835345,-0.069269211480778,-0.00557267156484541,-0.00502426722659624,0.0023866832877290486],[-0.3435843931617398,0.02356876805107867,0.042228311971813794,0.06032215305624097,-0.35493303434017515,0.5463682490771068,0.38291852854209446,0.3657571088399336,0.25296212250469563,-0.09652977549177308,0.26666746222119164,-0.1399385536351254,0.15858727584441337,0.6399069795135197,0.5308691929021822,0.9999670660359926,0.0701568513774849,1.0,0.8543284243133075,-0.051330581004681144,-0.4142648819807468,-0.3970206560115383,0.23887215461805505,0.05055399670108597,0.008830619457829038,0.010786636842633378,0.03303577456917659,0.041345122534202174,-0.0028330983909462984,0.036966169042107117,0.013815528346577243,-0.07473960023545427,0.022394105892056856,0.012289604894208892,-0.05495037109671628,0.05360785208090936,0.03134094920891327,0.12980822939000078,-0.04101211433826943,0.12973454754641278,0.08539822394710761,-0.04247464819327087,-0.08092403318108905,-0.07727933008982713,0.034859108792518766,-0.08686559778050677,-0.017078348322643527],[-0.28600125293848666,0.07538440721703389,0.0454668467102072,0.14450607859293826,-0.2218053164290292,0.6268812875690503,0.5168425228227153,0.44342280377723997,0.33327349388176997,0.06452206835348741,0.29769124814215264,-0.2827444995797699,0.265143000161358,0.745523481722791,0.681626553143509,0.8541244304318242,0.11832466644347238,0.8543284243133075,1.0,0.03476841802363687,-0.3318252532904986,-0.31941267290837555,0.26768549353123267,0.03768179862801727,0.015109353772651032,0.013116831939700521,0.039306483347504036,0.06973920196215436,0.014705942314636712,0.042032239978532476,0.03995177185612142,-0.05346678247292502,0.062397498528726544,0.009130995983334363,-0.05124534580677996,0.08745137786355776,0.03496857905558464,0.13817219797568528,-0.04646112920517947,0.1379859263691785,0.1638872988265966,-0.047320840998495116,-0.15615301695496722,-0.15192824770316482,0.04010160062777808,-0.058248791381498265,-0.018163159435976857],[0.3487210454278246,-0.49359471200412613,-0.2630400467232602,0.33392015913398515,0.562210553188283,0.3719555703724111,0.34801541536086694,0.4048818557458987,0.44416525383800626,0.5697343921145657,0.4450690797346187,-0.4522773303309705,0.12536054852845288,0.34485488054513086,0.3435754712902579,-0.05189506024773666,0.15711548486349333,-0.051330581004681144,0.03476841802363687,1.0,0.46638652624897464,0.330233069887881,-0.4966272738921021,-0.019722362691146925,0.022859139385099706,0.06844496379141081,-0.006123436803595107,-0.004462965350018888,-0.004272587491256082,0.008804969206236204,-0.009203740452298445,0.020475172457521187,0.000885692321373195,-0.01463584044046195,-0.01996129605463429,-0.007839751166359977,0.00923575315570197,0.0063701271877337085,-0.021430021961663763,0.004374249669116202,0.015899224611767505,0.2127954345506188,-0.011271439588058147,-0.0011154082050386558,0.061310384288001916,0.04523284332449735,0.01057713336051734],[0.3671990004450221,-0.3725668277173489,-0.17619454124567344,0.40752575095113547,0.5431218021105394,0.13687908238484128,0.32647641453676657,0.3477450688656509,0.3589741829537969,0.5805562824204668,0.16736965276386698,-0.39149311472258813,0.2854060524940875,0.14342997925612178,0.33727025988513676,-0.415276467516685,0.07629109284971448,-0.4142648819807468,-0.3318252532904986,0.46638652624897464,1.0,0.9088193099409093,-0.46433706892371035,-0.0711314146986099,-0.005203886862958215,0.013289136695974856,-0.0230114554664083,-0.04094723694420651,-0.0104961602784087,0.012986519981584335,-0.03297486044581849,0.07982152430245447,-0.0365445446873922,-0.027687708679885938,0.039639410341976745,-0.06325671740655815,-0.0008607236614657105,-0.10475844848075284,0.017320306455048107,-0.10667390012652196,-0.16475095719063093,0.04008287732988199,0.1691845759564137,0.17167378171244702,-0.0037276250315886558,0.12845904583228512,0.026459188477771886],[0.2799319354378347,-0.06133418897540524,-0.06089508110875799,0.3596557326251601,0.45323597197938653,0.07520500402035861,0.294129297220422,0.30795560887753487,0.27890745399369055,0.49622830544934754,0.0682830019073682,-0.3282428419073315,0.3066367011156109,0.10044844037143862,0.3125418391936686,-0.39818691783643484,0.056347395957186845,-0.3970206560115383,-0.31941267290837555,0.330233069887881,0.9088193099409093,1.0,-0.190218072857594,-0.07734299445737514,0.0027756733533364033,0.052232877463627904,-0.008570147187232887,-0.04552306019694441,-0.011074849398097199,0.015116141431670425,-0.03335145935790151,0.08088848489547548,-0.030696536250437473,-0.02479514450940992,0.040251204299964184,-0.055806742097707175,0.0022373052837766846,-0.11305418864456918,0.02221799696952611,-0.11455643901970729,-0.17365654068825903,0.0475237186867282,0.17532808289278934,0.19512588217201676,0.035558816498696945,0.1230841966600405,0.023393414849607535],[-0.32783895801180724,0.9460610210664419,0.26741601144376775,-0.2242121827159229,-0.42317473903474084,-0.11981469586446074,-0.1158270775747694,-0.14259983828089892,-0.24900557327260983,-0.4032560716278996,-0.28126601738540136,0.2826238402774109,-0.0016344932614018673,-0.061730711655621655,-0.08136974927155279,0.2387141739247381,-0.09058959894603097,0.23887215461805505,0.26768549353123267,-0.4966272738921021,-0.46433706892371035,-0.190218072857594,1.0,0.021237606035256977,0.00870938340457768,0.06733434676532951,0.027954498530726072,0.012889462940227268,-0.01448153343312261,-0.009321466970324285,0.015203567509563077,-0.029769283058544045,0.018928753704265798,0.014050122910033217,-0.00986210254498206,0.03800336181423273,0.014304020650329334,0.011267813404576534,-0.006701826246482994,0.012227247751423117,0.012639552875375283,-0.0072842942353094,-0.014086611151925093,0.0074426240054465175,0.08663403573037196,-0.03364532622519311,-0.014281681759838962],[0.04224201799013444,0.004917535814653603,-0.052060279869318035,-0.05601829320267546,-0.019820492616481132,0.002412782738248579,-0.025565317184386566,-0.022884752136890663,-0.04634367545863049,-0.026424006315317307,0.003176913126395315,0.03883381274788682,-0.02644679829672417,-0.009643094654982384,-0.043891872878009955,0.0507150332898066,-0.08222658528834337,0.05055399670108597,0.03768179862801727,-0.019722362691146925,-0.0711314146986099,-0.07734299445737514,0.021237606035256977,1.0,0.00618782769154519,0.034474897838553224,-0.024529686298197528,-0.03684950515158611,-0.018738039707401778,0.05388218771727495,-0.0067537882392507175,-0.01090065410215466,-0.037431251928148265,0.03901696497675989,-0.021588737442316396,-0.04809709675857478,-0.04242392788726717,-0.04252645739391551,-0.04001807165525356,-0.04277165426045854,-0.025937918450097228,-0.04459439881855148,0.03026149403977938,0.028335709820103805,0.03970160585333629,-0.015295749780860754,-0.05928046661794892],[0.13061580951506138,0.005981293726318576,0.002951357168416601,0.009805182763224589,0.018214134574444693,-0.0017820565006960072,0.015321182605674487,0.003897804336948356,0.006014253568767516,0.018185443705275396,0.014863729419420055,-0.023762120255668547,0.010671924349129985,0.01720626945916619,0.01791819943069933,0.008716237262036823,-0.1328401975292917,0.008830619457829038,0.015109353772651032,0.022859139385099706,-0.005203886862958215,0.0027756733533364033,0.00870938340457768,0.00618782769154519,1.0,0.016274994305768155,0.04716403197206624,0.0010394745946763087,0.019073984772036624,-0.01753845499710908,0.01462368952048585,0.02643804580425055,0.04336924108971136,0.028401748559431325,-0.02021268560725531,0.024305173040620624,-0.004823988307980534,0.00804005085040329,-0.7139360300041644,0.0067095147130856415,0.011949320687639651,0.02949148370063893,-0.019427602194881318,-0.01705025240007083,0.01907006800493242,0.049646351108328456,-0.027361454121869726],[0.04878078369923193,0.06593665700034651,0.05095684973631668,0.031269722072873846,0.030921042867208263,0.025795802555332217,0.01690640027006964,0.008411230225658515,0.035896077691642644,0.05164655463577407,0.05091789090024471,-0.017622072571493105,0.009485567439081358,0.033170329294956946,0.013379193598822526,0.0108230001046956,-0.011739668941706942,0.010786636842633378,0.013116831939700521,0.06844496379141081,0.013289136695974856,0.052232877463627904,0.06733434676532951,0.034474897838553224,0.016274994305768155,1.0,0.2908953087266005,0.026202291360423322,0.0029153489451387957,-0.018544679292563607,-0.0004426451335819606,0.04201644272523545,0.07032487235021537,0.04296029309225085,-0.036815890102031214,0.0385404976483458,0.011263403698093102,0.10426318804959078,-0.00865395605822126,0.10511171914108716,0.10171151721978454,0.04621132628037087,-0.10552331272419965,0.10972179190794495,0.9648566311518892,0.030030912106358065,-0.022953556006342603],[0.007906975739571383,0.01598087320497129,0.2964575622547702,0.031029661943348722,0.013748167420513227,0.04316157072113715,0.02592054774014414,0.019445863225373835,0.03588613343974049,0.0391670750255311,0.06956982911774487,-0.027986338772215513,-0.017930293242141963,0.05447506722031474,0.030488134780201785,0.03300682859671934,0.013294208313582039,0.03303577456917659,0.039306483347504036,-0.006123436803595107,-0.0230114554664083,-0.008570147187232887,0.027954498530726072,-0.024529686298197528,0.04716403197206624,0.2908953087266005,1.0,0.12596824851159427,-0.04977943586414496,0.013535190236499635,0.15641446997944916,0.06252904209500976,0.27602664030581775,-0.0744312957932567,-0.13829683034979526,0.19486297537488956,-0.0289645666797657,0.10917257855105938,-0.024455180256517627,0.10899806429077946,0.13398197703347622,-0.012124125471489403,-0.130126320909147,-0.04984760905534258,0.30081163947839407,0.020725944833284028,0.016092962977475502],[-0.004155575135568043,0.0007953910200021371,0.08731872275525757,0.01853671454371452,0.018952923775521744,0.18492456147653807,0.0353439032352327,0.00716634709190222,0.07228614488237993,0.046052935113224204,0.11906071405679748,-0.033707354462265915,-0.002252173692090839,0.0869785545539155,0.0322037246689028,0.04132415049436152,0.04237176688765519,0.041345122534202174,0.06973920196215436,-0.004462965350018888,-0.04094723694420651,-0.04552306019694441,0.012889462940227268,-0.03684950515158611,0.0010394745946763087,0.026202291360423322,0.12596824851159427,1.0,0.07833661068679343,0.05913850367841633,0.27863830701048914,0.04820386726230051,0.500003628493654,-0.05345458812060657,-0.06217895792352147,0.3791114969739009,0.01968417647117018,0.22878570111425123,0.017892104937550626,0.22837795518104648,0.222690121220997,-0.05089330211328095,-0.21104655755280677,-0.22371207801761375,0.057040589232686886,-0.03359172626373308,-0.04584693601873381],[0.01482739359465457,-0.015821524632042727,-0.014377205067451437,0.026226632355232257,0.02791715140629145,0.004013546202542145,0.15297200572499234,-0.012266706523745431,0.0012089585079668476,0.029298020625088624,0.015069463261249883,0.05066928295424178,0.057760263615796455,-0.006007572346525694,-0.003198395151781461,-0.002798115429304603,0.0018836188947264395,-0.0028330983909462984,0.014705942314636712,-0.004272587491256082,-0.0104961602784087,-0.011074849398097199,-0.01448153343312261,-0.018738039707401778,0.019073984772036624,0.0029153489451387957,-0.04977943586414496,0.07833661068679343,1.0,0.030131064947158472,-0.05747061742285477,0.09022494801984482,0.0632171250003589,0.2305429621048438,0.21408167592499286,0.0009116254994350643,-0.00916413916517263,0.04702834825403688,-0.008433557110498762,0.046653574298697396,0.04700107382012384,-0.011984350359781458,-0.03403439689632506,-0.04100553445057761,0.007389811201373717,0.09134234516020046,0.06306202930484343],[0.019981227228577744,-0.014313789208731246,0.022383982539708018,0.023388276187562014,-0.015491425701291207,0.07504238165484844,0.050636308259773395,0.09882097507109601,0.09372978502101934,0.021606088850609762,0.08617502110362739,-0.008684312980443434,0.013022575048214509,0.05524393048465775,0.04087705825403037,0.03705611847495218,-0.00277004833292891,0.036966169042107117,0.042032239978532476,0.008804969206236204,0.012986519981584335,0.015116141431670425,-0.009321466970324285,0.05388218771727495,-0.01753845499710908,-0.018544679292563607,0.013535190236499635,0.05913850367841633,0.030131064947158472,1.0,0.09478618732151595,-0.0660977682471563,0.08364723299822648,0.011592274695119295,-0.01641551585695338,0.04808648232413501,0.00319073769477653,0.021145910011192978,-0.00123456396002751,0.019431113210719313,0.0022481901675703523,0.001841317832614142,0.019025584107621486,0.007049051086895857,-0.015610325252886175,-0.04715696957919542,-0.03629691999050567],[-0.01592695137667101,0.014060737254876695,0.08203103060183546,0.016018800331342908,0.03598347863199164,0.07357137439787466,-0.007263106051140851,0.0212336076476264,0.1671619503197577,0.04768998388581155,0.11211056473385911,-0.09923175180724951,-0.047290892851809235,0.050815898671732196,0.007703654509963873,0.013804545360948278,0.024493315029034738,0.013815528346577243,0.03995177185612142,-0.009203740452298445,-0.03297486044581849,-0.03335145935790151,0.015203567509563077,-0.0067537882392507175,0.01462368952048585,-0.0004426451335819606,0.15641446997944916,0.27863830701048914,-0.05747061742285477,0.09478618732151595,1.0,0.1539313053490519,0.4596411708010958,-0.3623196454326647,-0.08975332766908835,0.25446624409883184,0.029329015786069557,0.16806352088316798,0.0022994263253152346,0.1699161413828446,0.17766573861046397,-0.04184200350485807,-0.16983782547541107,-0.1730772334065235,0.018524958285377025,0.062069663748930054,0.008862285311795181],[0.03020054846801053,-0.007969806163869438,-0.0015034507674392234,0.035186246163058404,0.15665094517770353,-0.039186009144153426,-0.012777244334876236,-0.008672791567486219,-0.0010477389874712314,0.18150493114630972,-0.004341368102763222,-0.02054338251286825,0.015390112972721687,-0.03545640936611118,-0.01564114839562965,-0.07482056981409395,-0.006369889174075609,-0.07473960023545427,-0.05346678247292502,0.020475172457521187,0.07982152430245447,0.08088848489547548,-0.029769283058544045,-0.01090065410215466,0.02643804580425055,0.04201644272523545,0.06252904209500976,0.04820386726230051,0.09022494801984482,-0.0660977682471563,0.1539313053490519,1.0,0.15050500161440084,-0.08360503554389873,0.07337768192018995,-0.008001592548797544,-0.034086589385839756,0.0822922438654,0.0029777897198903862,0.08048426435395525,0.09355447954660036,0.009995582682162567,-0.10022682911599085,-0.08682016789259274,0.05134119532735914,0.6124088260500805,0.06073327208508669],[0.0038904170676273705,0.018070419262887754,0.12586061274975313,0.03667784952082724,0.044561661269116155,0.10165105074218049,0.029167937230780223,0.018608705961300837,0.08445333301047597,0.06624040235876173,0.171785010996424,-0.044314357079856384,-0.011801396833146988,0.08576608533394772,0.01741395261678984,0.02239042906819412,0.02296837070974343,0.022394105892056856,0.062397498528726544,0.000885692321373195,-0.0365445446873922,-0.030696536250437473,0.018928753704265798,-0.037431251928148265,0.04336924108971136,0.07032487235021537,0.27602664030581775,0.500003628493654,0.0632171250003589,0.08364723299822648,0.4596411708010958,0.15050500161440084,1.0,-0.17026728000065214,-0.0792929795483906,0.5380609889811047,-0.022421565597150837,0.2721357024848219,-0.014222826077391582,0.2725174806040628,0.2528906336038989,-0.08201343468970411,-0.24959782418981005,-0.2494748759616366,0.0990992529483665,0.023886251869662537,-0.006931025489494139],[0.0154132079462342,0.014888944799882039,-0.027586328088697296,-0.01505072043256649,-0.02948661837357867,-0.02643579306216284,0.03217611764270899,-0.0319330849132197,-0.037539034711503036,-0.027414237454630678,-0.032687949240118516,0.22611439285499696,0.050669418866711266,-0.009081597129290816,-0.012800441191276636,0.012379285762105615,-0.006421367606772063,0.012289604894208892,0.009130995983334363,-0.01463584044046195,-0.027687708679885938,-0.02479514450940992,0.014050122910033217,0.03901696497675989,0.028401748559431325,0.04296029309225085,-0.0744312957932567,-0.05345458812060657,0.2305429621048438,0.011592274695119295,-0.3623196454326647,-0.08360503554389873,-0.17026728000065214,1.0,0.13433111468221537,-0.0954700038974302,-0.09635018370334986,-0.020221060039159282,-0.031224456538423706,-0.021970617494798547,-0.0648578436380349,-0.01748063574635335,0.04524696022456377,0.05111014030245135,0.036624205057352824,-0.04836158187553603,-0.012998428025193678],[0.015653281001545786,0.0034375241959239394,-0.06505700667300554,-0.020737390243931224,0.02339525376448751,-0.05594884986721456,0.009882866981403404,-0.025009384036520012,-0.052833975874122814,-0.0004401496476020313,-0.06248970308669562,0.03962841281587063,0.23247050126018018,-0.06791910335935217,-0.020464453774933767,-0.05495617017611858,-0.04107217666299048,-0.05495037109671628,-0.05124534580677996,-0.01996129605463429,0.039639410341976745,0.040251204299964184,-0.00986210254498206,-0.021588737442316396,-0.02021268560725531,-0.036815890102031214,-0.13829683034979526,-0.06217895792352147,0.21408167592499286,-0.01641551585695338,-0.08975332766908835,0.07337768192018995,-0.0792929795483906,0.13433111468221537,1.0,-0.20270564845128564,0.0013929347220861476,-0.08000006233078663,-0.000675914565750204,-0.08062373131469223,-0.07514763801531266,0.005588227367401408,0.08273736469120532,0.06502275496480471,-0.05233558245294573,0.08828599873123161,0.006659914162469775],[-0.03330479376889154,0.02494956103171441,0.12567540770033667,0.02877709179862191,-0.03334628908304658,0.09757316191686996,0.005075844471877765,0.010863873605224629,0.06894884599334104,0.003014352137771973,0.12841308668827717,-0.024771935795657847,-0.07806631788610671,0.15223094624766775,0.024294440885599556,0.05380531453874851,0.041404258993778774,0.05360785208090936,0.08745137786355776,-0.007839751166359977,-0.06325671740655815,-0.055806742097707175,0.03800336181423273,-0.04809709675857478,0.024305173040620624,0.0385404976483458,0.19486297537488956,0.3791114969739009,0.0009116254994350643,0.04808648232413501,0.25446624409883184,-0.008001592548797544,0.5380609889811047,-0.0954700038974302,-0.20270564845128564,1.0,0.062364273239911706,0.2215500875262649,-0.00877075197687576,0.223161768320823,0.22408964504327775,-0.04514349778938451,-0.20977088888225712,-0.21294395140901495,0.07500626671820045,-0.16865875447067516,0.038076023639597896],[-0.014117809229702983,0.009727137553309558,0.015552776479030486,0.05610106653206508,0.0042688282410960135,0.02256443005120492,0.022370537971849538,0.01189358942122798,0.028291252755850215,0.028273297798764342,0.024280232998116658,-0.03095440826280493,0.001595649233493235,0.03697566691176971,0.03709272250130486,0.03129848605741847,0.02337120408357143,0.03134094920891327,0.03496857905558464,0.00923575315570197,-0.0008607236614657105,0.0022373052837766846,0.014304020650329334,-0.04242392788726717,-0.004823988307980534,0.011263403698093102,-0.0289645666797657,0.01968417647117018,-0.00916413916517263,0.00319073769477653,0.029329015786069557,-0.034086589385839756,-0.022421565597150837,-0.09635018370334986,0.0013929347220861476,0.062364273239911706,1.0,0.046116455683659914,-0.006353279959087435,0.04630050300483814,0.04081057028735047,0.019975550558577304,0.03359856143868355,0.05047554658198875,0.017825768275582417,-0.03998723986025342,0.014652230290480883],[0.05358375343813367,-0.023613361085819597,0.05526793824573158,0.05327934963159017,0.10583679155937985,0.10976108825473044,0.0505819734733057,0.03741128873819191,0.11005712828665105,0.12351977326058819,0.14134422756757517,-0.0723664772026873,-0.014373558045951097,0.12002089614032917,0.05645901860010627,0.12982812768489452,0.07189744681103118,0.12980822939000078,0.13817219797568528,0.0063701271877337085,-0.10475844848075284,-0.11305418864456918,0.011267813404576534,-0.04252645739391551,0.00804005085040329,0.10426318804959078,0.10917257855105938,0.22878570111425123,0.04702834825403688,0.021145910011192978,0.16806352088316798,0.0822922438654,0.2721357024848219,-0.020221060039159282,-0.08000006233078663,0.2215500875262649,0.046116455683659914,1.0,0.019780185498560338,0.998681087929093,0.5955873231487446,-0.18620431000308932,-0.5812101660077673,-0.5331374140266161,0.19968245279021202,0.0312697381943357,-0.03271801630349122],[-0.07396692722960004,0.011392762557793066,-0.017584981792241248,-0.022922594935717803,0.005435584442203245,-0.023172384615584397,-0.021604708067772437,-0.01396290462153586,-0.03976313575924856,-0.01074568175790304,-0.025251553038924995,0.030660740624027526,-0.00014190303882170009,-0.045164612959720414,-0.03998776324660537,-0.04104060475914582,0.15148457886388203,-0.04101211433826943,-0.04646112920517947,-0.021430021961663763,0.017320306455048107,0.02221799696952611,-0.006701826246482994,-0.04001807165525356,-0.7139360300041644,-0.00865395605822126,-0.024455180256517627,0.017892104937550626,-0.008433557110498762,-0.00123456396002751,0.0022994263253152346,0.0029777897198903862,-0.014222826077391582,-0.031224456538423706,-0.000675914565750204,-0.00877075197687576,-0.006353279959087435,0.019780185498560338,1.0,0.020916107417910074,0.0353959795213227,-0.05833206856319424,-0.032166240382602025,-0.03652447507499489,-0.011573487183446305,-0.01943846316774295,0.02082982278935767],[0.052667671124214256,-0.022643690674601667,0.05507213358881133,0.05305149571311831,0.10409610859262843,0.10903658696898538,0.04892077671169994,0.03598438707004922,0.10982249408936234,0.12204236543600708,0.14124508179048437,-0.07194128963375136,-0.016266842476170325,0.11908043125877171,0.0549511319284095,0.12966876325852716,0.07236150490599469,0.12973454754641278,0.1379859263691785,0.004374249669116202,-0.10667390012652196,-0.11455643901970729,0.012227247751423117,-0.04277165426045854,0.0067095147130856415,0.10511171914108716,0.10899806429077946,0.22837795518104648,0.046653574298697396,0.019431113210719313,0.1699161413828446,0.08048426435395525,0.2725174806040628,-0.021970617494798547,-0.08062373131469223,0.223161768320823,0.04630050300483814,0.998681087929093,0.020916107417910074,1.0,0.5958013182577905,-0.1864480909194076,-0.581395102510046,-0.5330606468573915,0.2007442943321066,0.02802320319067484,-0.032124680566825145],[0.02952779492905697,-0.013533100795448701,0.04551893349557979,0.03389119685908935,0.07682100175213329,0.07091600518261697,0.03189451848856402,0.02652653232487353,0.06815374810590866,0.08438756672187149,0.09610430360667727,-0.06578914651575607,-0.007887808174611911,0.0878572359033193,0.03467550751368929,0.08522268104614852,0.061865378202586994,0.08539822394710761,0.1638872988265966,0.015899224611767505,-0.16475095719063093,-0.17365654068825903,0.012639552875375283,-0.025937918450097228,0.011949320687639651,0.10171151721978454,0.13398197703347622,0.222690121220997,0.04700107382012384,0.0022481901675703523,0.17766573861046397,0.09355447954660036,0.2528906336038989,-0.0648578436380349,-0.07514763801531266,0.22408964504327775,0.04081057028735047,0.5955873231487446,0.0353959795213227,0.5958013182577905,1.0,-0.15022352861445787,-0.9791449652396276,-0.927749463592866,0.17182381128451746,0.053312580709156454,-0.039338580799176646],[-0.006587023948491118,0.004135292519160878,0.009767857489483799,0.006999163170893164,-0.008804170181905286,-0.01670947501342906,-0.007164679978170996,-0.004707318609884476,0.006863497299331385,0.0008360941131485987,0.0016377679018863465,-0.0020007465215176774,-0.0067633151859584646,-0.017231506386395926,-0.017729372670994652,-0.04236941417514285,-0.005539833022491501,-0.04247464819327087,-0.047320840998495116,0.2127954345506188,0.04008287732988199,0.0475237186867282,-0.0072842942353094,-0.04459439881855148,0.02949148370063893,0.04621132628037087,-0.012124125471489403,-0.05089330211328095,-0.011984350359781458,0.001841317832614142,-0.04184200350485807,0.009995582682162567,-0.08201343468970411,-0.01748063574635335,0.005588227367401408,-0.04514349778938451,0.019975550558577304,-0.18620431000308932,-0.05833206856319424,-0.1864480909194076,-0.15022352861445787,1.0,0.16357137754075546,0.16807034934533419,0.017761832799449737,-0.008002665960881195,0.0588523876794174],[-0.03118096922277281,0.01091940501239984,-0.04453433210063105,-0.029859885885239842,-0.07668400662057964,-0.06304479839861797,-0.026851297493369883,-0.024257054373020153,-0.0628635075474422,-0.08558459593615393,-0.09275397427886013,0.059619851170643355,0.009539955960932687,-0.07984808378358152,-0.026011618908143373,-0.08074906848511841,-0.060100888584835345,-0.08092403318108905,-0.15615301695496722,-0.011271439588058147,0.1691845759564137,0.17532808289278934,-0.014086611151925093,0.03026149403977938,-0.019427602194881318,-0.10552331272419965,-0.130126320909147,-0.21104655755280677,-0.03403439689632506,0.019025584107621486,-0.16983782547541107,-0.10022682911599085,-0.24959782418981005,0.04524696022456377,0.08273736469120532,-0.20977088888225712,0.03359856143868355,-0.5812101660077673,-0.032166240382602025,-0.581395102510046,-0.9791449652396276,0.16357137754075546,1.0,0.9433422320194218,-0.17407668036838053,-0.05624615080885195,0.0458816008275894],[-0.015479041651246727,0.03452868632931604,-0.02678610088902502,-0.030219407181984015,-0.06228947790751765,-0.056943721840351715,-0.018246598712150577,-0.0210753865128337,-0.060103298265134095,-0.07218642314533871,-0.08124508597152873,0.055123511598385896,0.012401529038415003,-0.07154515722613364,-0.01831550615395108,-0.07711563595069042,-0.069269211480778,-0.07727933008982713,-0.15192824770316482,-0.0011154082050386558,0.17167378171244702,0.19512588217201676,0.0074426240054465175,0.028335709820103805,-0.01705025240007083,0.10972179190794495,-0.04984760905534258,-0.22371207801761375,-0.04100553445057761,0.007049051086895857,-0.1730772334065235,-0.08682016789259274,-0.2494748759616366,0.05111014030245135,0.06502275496480471,-0.21294395140901495,0.05047554658198875,-0.5331374140266161,-0.03652447507499489,-0.5330606468573915,-0.927749463592866,0.16807034934533419,0.9433422320194218,1.0,0.03684763595952634,-0.03253204336595244,0.03403240754137335],[0.04737244230585847,0.06868863964441857,0.06304627152649124,0.03111325328000963,0.039438314720226866,0.04083063018406565,0.02324234774538129,0.012716834028042785,0.04717520477595123,0.0620694651666223,0.06332033607859261,-0.025145431527422928,0.005583469509866516,0.05224892752687568,0.02309047100556967,0.03489218255213243,-0.00557267156484541,0.034859108792518766,0.04010160062777808,0.061310384288001916,-0.0037276250315886558,0.035558816498696945,0.08663403573037196,0.03970160585333629,0.01907006800493242,0.9648566311518892,0.30081163947839407,0.057040589232686886,0.007389811201373717,-0.015610325252886175,0.018524958285377025,0.05134119532735914,0.0990992529483665,0.036624205057352824,-0.05233558245294573,0.07500626671820045,0.017825768275582417,0.19968245279021202,-0.011573487183446305,0.2007442943321066,0.17182381128451746,0.017761832799449737,-0.17407668036838053,0.03684763595952634,1.0,0.023553677385498517,-0.029615787282991603],[0.04784931576886695,-0.008736752140994473,-0.043502920175391285,0.04369473467787288,0.23429729750407788,-0.042974465201539164,0.013758374548256574,0.023288945433353612,0.013476731998710039,0.16007540062761136,-0.03323980804412247,-0.03893723172206494,0.04720094233708755,-0.04428401887725941,0.018147140772023555,-0.08692693604495588,-0.00502426722659624,-0.08686559778050677,-0.058248791381498265,0.04523284332449735,0.12845904583228512,0.1230841966600405,-0.03364532622519311,-0.015295749780860754,0.049646351108328456,0.030030912106358065,0.020725944833284028,-0.03359172626373308,0.09134234516020046,-0.04715696957919542,0.062069663748930054,0.6124088260500805,0.023886251869662537,-0.04836158187553603,0.08828599873123161,-0.16865875447067516,-0.03998723986025342,0.0312697381943357,-0.01943846316774295,0.02802320319067484,0.053312580709156454,-0.008002665960881195,-0.05624615080885195,-0.03253204336595244,0.023553677385498517,1.0,0.0127734648661728],[0.017533114226325953,-0.01079808259142715,-0.002132144380642208,0.23495532220125404,0.0031812408715235028,-0.007055840267073303,0.025619971288417843,-0.006828501969720216,0.01597271256114389,0.025689862589521825,0.0036362611023828453,0.0038834314259273577,0.0211918047575988,-0.004099572349811884,0.0013958124740155117,-0.01733250370516035,0.0023866832877290486,-0.017078348322643527,-0.018163159435976857,0.01057713336051734,0.026459188477771886,0.023393414849607535,-0.014281681759838962,-0.05928046661794892,-0.027361454121869726,-0.022953556006342603,0.016092962977475502,-0.04584693601873381,0.06306202930484343,-0.03629691999050567,0.008862285311795181,0.06073327208508669,-0.006931025489494139,-0.012998428025193678,0.006659914162469775,0.038076023639597896,0.014652230290480883,-0.03271801630349122,0.02082982278935767,-0.032124680566825145,-0.039338580799176646,0.0588523876794174,0.0458816008275894,0.03403240754137335,-0.029615787282991603,0.0127734648661728,1.0]],\"type\":\"heatmap\",\"xaxis\":\"x\",\"yaxis\":\"y\",\"hovertemplate\":\"x: %{x}<br>y: %{y}<br>color: %{z}<extra></extra>\"}],                        {\"template\":{\"data\":{\"histogram2dcontour\":[{\"type\":\"histogram2dcontour\",\"colorbar\":{\"outlinewidth\":0,\"ticks\":\"\"},\"colorscale\":[[0.0,\"#0d0887\"],[0.1111111111111111,\"#46039f\"],[0.2222222222222222,\"#7201a8\"],[0.3333333333333333,\"#9c179e\"],[0.4444444444444444,\"#bd3786\"],[0.5555555555555556,\"#d8576b\"],[0.6666666666666666,\"#ed7953\"],[0.7777777777777778,\"#fb9f3a\"],[0.8888888888888888,\"#fdca26\"],[1.0,\"#f0f921\"]]}],\"choropleth\":[{\"type\":\"choropleth\",\"colorbar\":{\"outlinewidth\":0,\"ticks\":\"\"}}],\"histogram2d\":[{\"type\":\"histogram2d\",\"colorbar\":{\"outlinewidth\":0,\"ticks\":\"\"},\"colorscale\":[[0.0,\"#0d0887\"],[0.1111111111111111,\"#46039f\"],[0.2222222222222222,\"#7201a8\"],[0.3333333333333333,\"#9c179e\"],[0.4444444444444444,\"#bd3786\"],[0.5555555555555556,\"#d8576b\"],[0.6666666666666666,\"#ed7953\"],[0.7777777777777778,\"#fb9f3a\"],[0.8888888888888888,\"#fdca26\"],[1.0,\"#f0f921\"]]}],\"heatmap\":[{\"type\":\"heatmap\",\"colorbar\":{\"outlinewidth\":0,\"ticks\":\"\"},\"colorscale\":[[0.0,\"#0d0887\"],[0.1111111111111111,\"#46039f\"],[0.2222222222222222,\"#7201a8\"],[0.3333333333333333,\"#9c179e\"],[0.4444444444444444,\"#bd3786\"],[0.5555555555555556,\"#d8576b\"],[0.6666666666666666,\"#ed7953\"],[0.7777777777777778,\"#fb9f3a\"],[0.8888888888888888,\"#fdca26\"],[1.0,\"#f0f921\"]]}],\"heatmapgl\":[{\"type\":\"heatmapgl\",\"colorbar\":{\"outlinewidth\":0,\"ticks\":\"\"},\"colorscale\":[[0.0,\"#0d0887\"],[0.1111111111111111,\"#46039f\"],[0.2222222222222222,\"#7201a8\"],[0.3333333333333333,\"#9c179e\"],[0.4444444444444444,\"#bd3786\"],[0.5555555555555556,\"#d8576b\"],[0.6666666666666666,\"#ed7953\"],[0.7777777777777778,\"#fb9f3a\"],[0.8888888888888888,\"#fdca26\"],[1.0,\"#f0f921\"]]}],\"contourcarpet\":[{\"type\":\"contourcarpet\",\"colorbar\":{\"outlinewidth\":0,\"ticks\":\"\"}}],\"contour\":[{\"type\":\"contour\",\"colorbar\":{\"outlinewidth\":0,\"ticks\":\"\"},\"colorscale\":[[0.0,\"#0d0887\"],[0.1111111111111111,\"#46039f\"],[0.2222222222222222,\"#7201a8\"],[0.3333333333333333,\"#9c179e\"],[0.4444444444444444,\"#bd3786\"],[0.5555555555555556,\"#d8576b\"],[0.6666666666666666,\"#ed7953\"],[0.7777777777777778,\"#fb9f3a\"],[0.8888888888888888,\"#fdca26\"],[1.0,\"#f0f921\"]]}],\"surface\":[{\"type\":\"surface\",\"colorbar\":{\"outlinewidth\":0,\"ticks\":\"\"},\"colorscale\":[[0.0,\"#0d0887\"],[0.1111111111111111,\"#46039f\"],[0.2222222222222222,\"#7201a8\"],[0.3333333333333333,\"#9c179e\"],[0.4444444444444444,\"#bd3786\"],[0.5555555555555556,\"#d8576b\"],[0.6666666666666666,\"#ed7953\"],[0.7777777777777778,\"#fb9f3a\"],[0.8888888888888888,\"#fdca26\"],[1.0,\"#f0f921\"]]}],\"mesh3d\":[{\"type\":\"mesh3d\",\"colorbar\":{\"outlinewidth\":0,\"ticks\":\"\"}}],\"scatter\":[{\"fillpattern\":{\"fillmode\":\"overlay\",\"size\":10,\"solidity\":0.2},\"type\":\"scatter\"}],\"parcoords\":[{\"type\":\"parcoords\",\"line\":{\"colorbar\":{\"outlinewidth\":0,\"ticks\":\"\"}}}],\"scatterpolargl\":[{\"type\":\"scatterpolargl\",\"marker\":{\"colorbar\":{\"outlinewidth\":0,\"ticks\":\"\"}}}],\"bar\":[{\"error_x\":{\"color\":\"#2a3f5f\"},\"error_y\":{\"color\":\"#2a3f5f\"},\"marker\":{\"line\":{\"color\":\"#E5ECF6\",\"width\":0.5},\"pattern\":{\"fillmode\":\"overlay\",\"size\":10,\"solidity\":0.2}},\"type\":\"bar\"}],\"scattergeo\":[{\"type\":\"scattergeo\",\"marker\":{\"colorbar\":{\"outlinewidth\":0,\"ticks\":\"\"}}}],\"scatterpolar\":[{\"type\":\"scatterpolar\",\"marker\":{\"colorbar\":{\"outlinewidth\":0,\"ticks\":\"\"}}}],\"histogram\":[{\"marker\":{\"pattern\":{\"fillmode\":\"overlay\",\"size\":10,\"solidity\":0.2}},\"type\":\"histogram\"}],\"scattergl\":[{\"type\":\"scattergl\",\"marker\":{\"colorbar\":{\"outlinewidth\":0,\"ticks\":\"\"}}}],\"scatter3d\":[{\"type\":\"scatter3d\",\"line\":{\"colorbar\":{\"outlinewidth\":0,\"ticks\":\"\"}},\"marker\":{\"colorbar\":{\"outlinewidth\":0,\"ticks\":\"\"}}}],\"scattermapbox\":[{\"type\":\"scattermapbox\",\"marker\":{\"colorbar\":{\"outlinewidth\":0,\"ticks\":\"\"}}}],\"scatterternary\":[{\"type\":\"scatterternary\",\"marker\":{\"colorbar\":{\"outlinewidth\":0,\"ticks\":\"\"}}}],\"scattercarpet\":[{\"type\":\"scattercarpet\",\"marker\":{\"colorbar\":{\"outlinewidth\":0,\"ticks\":\"\"}}}],\"carpet\":[{\"aaxis\":{\"endlinecolor\":\"#2a3f5f\",\"gridcolor\":\"white\",\"linecolor\":\"white\",\"minorgridcolor\":\"white\",\"startlinecolor\":\"#2a3f5f\"},\"baxis\":{\"endlinecolor\":\"#2a3f5f\",\"gridcolor\":\"white\",\"linecolor\":\"white\",\"minorgridcolor\":\"white\",\"startlinecolor\":\"#2a3f5f\"},\"type\":\"carpet\"}],\"table\":[{\"cells\":{\"fill\":{\"color\":\"#EBF0F8\"},\"line\":{\"color\":\"white\"}},\"header\":{\"fill\":{\"color\":\"#C8D4E3\"},\"line\":{\"color\":\"white\"}},\"type\":\"table\"}],\"barpolar\":[{\"marker\":{\"line\":{\"color\":\"#E5ECF6\",\"width\":0.5},\"pattern\":{\"fillmode\":\"overlay\",\"size\":10,\"solidity\":0.2}},\"type\":\"barpolar\"}],\"pie\":[{\"automargin\":true,\"type\":\"pie\"}]},\"layout\":{\"autotypenumbers\":\"strict\",\"colorway\":[\"#636efa\",\"#EF553B\",\"#00cc96\",\"#ab63fa\",\"#FFA15A\",\"#19d3f3\",\"#FF6692\",\"#B6E880\",\"#FF97FF\",\"#FECB52\"],\"font\":{\"color\":\"#2a3f5f\"},\"hovermode\":\"closest\",\"hoverlabel\":{\"align\":\"left\"},\"paper_bgcolor\":\"white\",\"plot_bgcolor\":\"#E5ECF6\",\"polar\":{\"bgcolor\":\"#E5ECF6\",\"angularaxis\":{\"gridcolor\":\"white\",\"linecolor\":\"white\",\"ticks\":\"\"},\"radialaxis\":{\"gridcolor\":\"white\",\"linecolor\":\"white\",\"ticks\":\"\"}},\"ternary\":{\"bgcolor\":\"#E5ECF6\",\"aaxis\":{\"gridcolor\":\"white\",\"linecolor\":\"white\",\"ticks\":\"\"},\"baxis\":{\"gridcolor\":\"white\",\"linecolor\":\"white\",\"ticks\":\"\"},\"caxis\":{\"gridcolor\":\"white\",\"linecolor\":\"white\",\"ticks\":\"\"}},\"coloraxis\":{\"colorbar\":{\"outlinewidth\":0,\"ticks\":\"\"}},\"colorscale\":{\"sequential\":[[0.0,\"#0d0887\"],[0.1111111111111111,\"#46039f\"],[0.2222222222222222,\"#7201a8\"],[0.3333333333333333,\"#9c179e\"],[0.4444444444444444,\"#bd3786\"],[0.5555555555555556,\"#d8576b\"],[0.6666666666666666,\"#ed7953\"],[0.7777777777777778,\"#fb9f3a\"],[0.8888888888888888,\"#fdca26\"],[1.0,\"#f0f921\"]],\"sequentialminus\":[[0.0,\"#0d0887\"],[0.1111111111111111,\"#46039f\"],[0.2222222222222222,\"#7201a8\"],[0.3333333333333333,\"#9c179e\"],[0.4444444444444444,\"#bd3786\"],[0.5555555555555556,\"#d8576b\"],[0.6666666666666666,\"#ed7953\"],[0.7777777777777778,\"#fb9f3a\"],[0.8888888888888888,\"#fdca26\"],[1.0,\"#f0f921\"]],\"diverging\":[[0,\"#8e0152\"],[0.1,\"#c51b7d\"],[0.2,\"#de77ae\"],[0.3,\"#f1b6da\"],[0.4,\"#fde0ef\"],[0.5,\"#f7f7f7\"],[0.6,\"#e6f5d0\"],[0.7,\"#b8e186\"],[0.8,\"#7fbc41\"],[0.9,\"#4d9221\"],[1,\"#276419\"]]},\"xaxis\":{\"gridcolor\":\"white\",\"linecolor\":\"white\",\"ticks\":\"\",\"title\":{\"standoff\":15},\"zerolinecolor\":\"white\",\"automargin\":true,\"zerolinewidth\":2},\"yaxis\":{\"gridcolor\":\"white\",\"linecolor\":\"white\",\"ticks\":\"\",\"title\":{\"standoff\":15},\"zerolinecolor\":\"white\",\"automargin\":true,\"zerolinewidth\":2},\"scene\":{\"xaxis\":{\"backgroundcolor\":\"#E5ECF6\",\"gridcolor\":\"white\",\"linecolor\":\"white\",\"showbackground\":true,\"ticks\":\"\",\"zerolinecolor\":\"white\",\"gridwidth\":2},\"yaxis\":{\"backgroundcolor\":\"#E5ECF6\",\"gridcolor\":\"white\",\"linecolor\":\"white\",\"showbackground\":true,\"ticks\":\"\",\"zerolinecolor\":\"white\",\"gridwidth\":2},\"zaxis\":{\"backgroundcolor\":\"#E5ECF6\",\"gridcolor\":\"white\",\"linecolor\":\"white\",\"showbackground\":true,\"ticks\":\"\",\"zerolinecolor\":\"white\",\"gridwidth\":2}},\"shapedefaults\":{\"line\":{\"color\":\"#2a3f5f\"}},\"annotationdefaults\":{\"arrowcolor\":\"#2a3f5f\",\"arrowhead\":0,\"arrowwidth\":1},\"geo\":{\"bgcolor\":\"white\",\"landcolor\":\"#E5ECF6\",\"subunitcolor\":\"white\",\"showland\":true,\"showlakes\":true,\"lakecolor\":\"white\"},\"title\":{\"x\":0.05},\"mapbox\":{\"style\":\"light\"}}},\"xaxis\":{\"anchor\":\"y\",\"domain\":[0.0,1.0]},\"yaxis\":{\"anchor\":\"x\",\"domain\":[0.0,1.0],\"autorange\":\"reversed\"},\"coloraxis\":{\"colorscale\":[[0.0,\"#0d0887\"],[0.1111111111111111,\"#46039f\"],[0.2222222222222222,\"#7201a8\"],[0.3333333333333333,\"#9c179e\"],[0.4444444444444444,\"#bd3786\"],[0.5555555555555556,\"#d8576b\"],[0.6666666666666666,\"#ed7953\"],[0.7777777777777778,\"#fb9f3a\"],[0.8888888888888888,\"#fdca26\"],[1.0,\"#f0f921\"]]},\"margin\":{\"t\":60}},                        {\"responsive\": true}                    ).then(function(){\n",
       "                            \n",
       "var gd = document.getElementById('74099f3e-e7d4-4aba-aeca-5d29dcaf7651');\n",
       "var x = new MutationObserver(function (mutations, observer) {{\n",
       "        var display = window.getComputedStyle(gd).display;\n",
       "        if (!display || display === 'none') {{\n",
       "            console.log([gd, 'removed!']);\n",
       "            Plotly.purge(gd);\n",
       "            observer.disconnect();\n",
       "        }}\n",
       "}});\n",
       "\n",
       "// Listen for the removal of the full notebook cells\n",
       "var notebookContainer = gd.closest('#notebook-container');\n",
       "if (notebookContainer) {{\n",
       "    x.observe(notebookContainer, {childList: true});\n",
       "}}\n",
       "\n",
       "// Listen for the clearing of the current output cell\n",
       "var outputEl = gd.closest('.output');\n",
       "if (outputEl) {{\n",
       "    x.observe(outputEl, {childList: true});\n",
       "}}\n",
       "\n",
       "                        })                };                });            </script>        </div>"
      ]
     },
     "metadata": {},
     "output_type": "display_data"
    }
   ],
   "source": [
    "col_types = df.dtypes\n",
    "\n",
    "numeric_cols = []\n",
    "for i, v in zip(col_types.index, col_types.values):\n",
    "    if v != 'object' and v != 'datetime64[ns]':\n",
    "        numeric_cols.append(i)\n",
    "\n",
    "fig = px.imshow(df.corr(numeric_only=True, method='spearman'), text_auto=True, aspect=\"auto\")\n",
    "fig.show()"
   ]
  }
 ],
 "metadata": {
  "hide_input": false,
  "kernelspec": {
   "display_name": "Python 3 (ipykernel)",
   "language": "python",
   "name": "python3"
  },
  "language_info": {
   "codemirror_mode": {
    "name": "ipython",
    "version": 3
   },
   "file_extension": ".py",
   "mimetype": "text/x-python",
   "name": "python",
   "nbconvert_exporter": "python",
   "pygments_lexer": "ipython3",
   "version": "3.10.4"
  },
  "toc": {
   "base_numbering": 1,
   "nav_menu": {},
   "number_sections": true,
   "sideBar": true,
   "skip_h1_title": false,
   "title_cell": "Table of Contents",
   "title_sidebar": "Contents",
   "toc_cell": false,
   "toc_position": {},
   "toc_section_display": true,
   "toc_window_display": false
  }
 },
 "nbformat": 4,
 "nbformat_minor": 5
}
