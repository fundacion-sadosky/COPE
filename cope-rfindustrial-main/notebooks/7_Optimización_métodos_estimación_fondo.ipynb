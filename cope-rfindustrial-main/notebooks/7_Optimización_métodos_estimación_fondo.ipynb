{
 "cells": [
  {
   "cell_type": "markdown",
   "id": "372ba11d",
   "metadata": {
    "ExecuteTime": {
     "end_time": "2023-09-05T13:46:51.346456Z",
     "start_time": "2023-09-05T13:46:51.331683Z"
    }
   },
   "source": [
    "<div style=\"background-color:#00000\">\n",
    "    <img src=\"https://fundacionsadosky.org.ar/wp-content/uploads/2022/08/logo.png\" />\n",
    "</div>\n",
    "<div style=\"background-color:#03030a; margin:20px 40%\">\n",
    "    <img src=\"https://www.rfindustrial.com/wp-content/uploads/2023/04/cropped-1080x1080_Mesa-de-trabajo-1.png\" />\n",
    "</div>\n",
    "<div style=\"background-color:#00000;\">\n",
    "    <img src=\"https://sinc.unl.edu.ar/wp-content/themes/sinci/img/sinc-logo.png\" />\n",
    "</div>\n",
    "\n",
    "<p style=\"font-size: 30px\">\n",
    "    <strong>COPE - “Sistema inteligente de medición de nivel y control de velocidad de bombeo para pozos petrolíferos\"</strong>\n",
    "</p>\n",
    "\n",
    "<p style=\"font-size: 20px\">\n",
    "    Objetivo del análisis: Optimización de parámetros de los métodos de estimación de fondo utilizando búsqueda en grilla.\n",
    "</p>\n",
    "\n",
    "04/09/2023"
   ]
  },
  {
   "cell_type": "code",
   "execution_count": 4,
   "id": "910c716f",
   "metadata": {
    "ExecuteTime": {
     "end_time": "2023-11-14T15:01:32.210918Z",
     "start_time": "2023-11-14T15:01:32.203210Z"
    }
   },
   "outputs": [
    {
     "data": {
      "text/html": [
       "<style>.container { width:95% !important; }</style>"
      ],
      "text/plain": [
       "<IPython.core.display.HTML object>"
      ]
     },
     "metadata": {},
     "output_type": "display_data"
    }
   ],
   "source": [
    "import itertools\n",
    "from tqdm import tqdm\n",
    "import random\n",
    "import numpy as np\n",
    "from scipy import signal\n",
    "from scipy.fft import fft, ifft\n",
    "import matplotlib.pyplot as plt\n",
    "from glob import glob\n",
    "\n",
    "import sys\n",
    "sys.path.append(\"../\") # go to parent dir\n",
    "\n",
    "import pandas as pd\n",
    "\n",
    "from src.methods.base import InitialEstimation, InitialEstimationHilbert, CepstrumEstimation\n",
    "from src.methods import base_depth\n",
    "from src.data.utils import load_sample_file\n",
    "from src.data.utils import remove_saturation as remove_saturation_method\n",
    "from src.methods.utils import get_input_signal\n",
    "\n",
    "from IPython.display import display, HTML\n",
    "display(HTML(\"<style>.container { width:95% !important; }</style>\"))"
   ]
  },
  {
   "cell_type": "code",
   "execution_count": 5,
   "id": "625d9882",
   "metadata": {
    "ExecuteTime": {
     "end_time": "2023-11-14T15:01:32.218305Z",
     "start_time": "2023-11-14T15:01:32.215036Z"
    }
   },
   "outputs": [],
   "source": [
    "well_values = {\n",
    "    1: 380.43,\n",
    "    2: 898.54,\n",
    "    3: 715.4,\n",
    "    4: 805.83,\n",
    "    5: 683.26,\n",
    "    6: 915.83,\n",
    "    8: 770.93\n",
    "}"
   ]
  },
  {
   "cell_type": "markdown",
   "id": "876fc9eb",
   "metadata": {},
   "source": [
    "# Optimización para método inicial"
   ]
  },
  {
   "cell_type": "code",
   "execution_count": 6,
   "id": "9adb7c5e",
   "metadata": {
    "ExecuteTime": {
     "end_time": "2023-11-14T15:01:32.226838Z",
     "start_time": "2023-11-14T15:01:32.220814Z"
    }
   },
   "outputs": [],
   "source": [
    "params_grid_dict = {\n",
    "    'f1': [1, 5, 7],\n",
    "    'f2': [50, 55, 60],\n",
    "    'fir_filter_order': [250, 400, 500],\n",
    "    'low_pass_filter_order': [5, 10, 15],\n",
    "    'low_pass_cutoff': [25, 50, 100],\n",
    "    'peak_min_height': [0.1, 0.2, 0.5],\n",
    "    'peak_min_distance': [250, 500, 750]\n",
    "}\n",
    "\n",
    "params_grid = list(itertools.product(*[v for k, v in params_grid_dict.items()]))"
   ]
  },
  {
   "cell_type": "code",
   "execution_count": 7,
   "id": "eaeb4c29",
   "metadata": {
    "ExecuteTime": {
     "end_time": "2023-11-14T15:23:37.502655Z",
     "start_time": "2023-11-14T15:01:32.231294Z"
    },
    "scrolled": true
   },
   "outputs": [
    {
     "name": "stderr",
     "output_type": "stream",
     "text": [
      "100%|████████████████████████████████████████████████████████████████████| 2187/2187 [22:05<00:00,  1.65it/s]\n"
     ]
    }
   ],
   "source": [
    "results = []\n",
    "\n",
    "for params in tqdm(params_grid):\n",
    "    params_config_dict = dict(zip(params_grid_dict.keys(), params))\n",
    "    initial = base_depth.InitialEstimation(**params_config_dict)\n",
    "    \n",
    "    for well_id, well_depth in well_values.items():\n",
    "        ecometries_dir = glob(f'../data/raw/20_10_2021 ( pruebas tiro cuplas largo)/{well_id}/*')\n",
    "        ecometries_dir = [e for e in ecometries_dir if 'Frec1(7)_IncF(1)' in e]\n",
    "        for ecometry_dir in ecometries_dir:\n",
    "            trials = glob(ecometry_dir + '/*.json')\n",
    "            \n",
    "            for ecometry_name in trials:\n",
    "                estimated_speed = InitialEstimation(remove_saturation=True).predict(ecometry_name)\n",
    "\n",
    "                if (estimated_speed is None) or (estimated_speed < 100):\n",
    "                    estimated_speed = 365\n",
    "\n",
    "                df, output_signal = load_sample_file(ecometry_name)\n",
    "                signal_len = len(output_signal)\n",
    "                output_signal = remove_saturation_method(output_signal)\n",
    "                removed_samples = signal_len - len(output_signal)\n",
    "\n",
    "                depth = initial.predict(output_signal_values=output_signal,\n",
    "                                        df_ecometry_params=df,\n",
    "                                        estimated_speed=estimated_speed,\n",
    "                                        removed_samples=removed_samples,\n",
    "                                        use_correlation=True)\n",
    "                \n",
    "                error = abs(well_depth - depth) if (depth) else None\n",
    "\n",
    "                params_str = '__'.join([f'{k}-{v}' for k, v in params_config_dict.items()])\n",
    "                results.append([well_id, ecometry_name, params_str, depth, error])"
   ]
  },
  {
   "cell_type": "code",
   "execution_count": 8,
   "id": "b58b646f",
   "metadata": {
    "ExecuteTime": {
     "end_time": "2023-11-14T15:23:37.575872Z",
     "start_time": "2023-11-14T15:23:37.507760Z"
    }
   },
   "outputs": [],
   "source": [
    "df_initial = pd.DataFrame(results, columns=['pozo', 'ecometria', 'params', 'profundidad_estimada', 'error'])"
   ]
  },
  {
   "cell_type": "code",
   "execution_count": 9,
   "id": "27ef8d22",
   "metadata": {
    "ExecuteTime": {
     "end_time": "2023-11-14T15:23:39.177340Z",
     "start_time": "2023-11-14T15:23:37.578347Z"
    }
   },
   "outputs": [],
   "source": [
    "df_initial['f1'] = df_initial.params.str.split('__').apply(lambda x: x[0]).str.split('-').apply(lambda x: x[-1])\n",
    "df_initial['f2'] = df_initial.params.str.split('__').apply(lambda x: x[1]).str.split('-').apply(lambda x: x[-1])\n",
    "df_initial['fir_filter_order'] = df_initial.params.str.split('__').apply(lambda x: x[2]).str.split('-').apply(lambda x: x[-1])\n",
    "df_initial['low_pass_filter_order'] = df_initial.params.str.split('__').apply(lambda x: x[3]).str.split('-').apply(lambda x: x[-1])\n",
    "df_initial['low_pass_cutoff'] = df_initial.params.str.split('__').apply(lambda x: x[4]).str.split('-').apply(lambda x: x[-1])\n",
    "df_initial['peak_min_height'] = df_initial.params.str.split('__').apply(lambda x: x[5]).str.split('-').apply(lambda x: x[-1])\n",
    "df_initial['peak_min_distance'] = df_initial.params.str.split('__').apply(lambda x: x[6]).str.split('-').apply(lambda x: x[-1])"
   ]
  },
  {
   "cell_type": "code",
   "execution_count": 10,
   "id": "32ea0b67",
   "metadata": {
    "ExecuteTime": {
     "end_time": "2023-11-14T15:23:39.291656Z",
     "start_time": "2023-11-14T15:23:39.179871Z"
    }
   },
   "outputs": [],
   "source": [
    "method_params_cols = ['f1', 'f2',\n",
    "                      'fir_filter_order', 'low_pass_filter_order', \n",
    "                      'low_pass_cutoff', 'peak_min_height',\n",
    "                      'peak_min_distance']\n",
    "method_cols = []\n",
    "df_summary_initial = df_initial.groupby(method_params_cols).agg(\n",
    "    {'pozo': 'nunique',\n",
    "     'ecometria': 'nunique',\n",
    "     'error': ['mean', 'std']}).reset_index()\n",
    "df_summary_initial.rename(columns={'ecometria': 'cantidad_ecometrias'}, inplace=True)"
   ]
  },
  {
   "cell_type": "code",
   "execution_count": 11,
   "id": "efa07153",
   "metadata": {
    "ExecuteTime": {
     "end_time": "2023-11-14T15:23:39.299703Z",
     "start_time": "2023-11-14T15:23:39.294497Z"
    }
   },
   "outputs": [],
   "source": [
    "df_summary_initial.columns = [f'{c}_{s}' if s != '' else c for (c, s) in zip(df_summary_initial.columns.droplevel(1), df_summary_initial.columns.droplevel(0))]"
   ]
  },
  {
   "cell_type": "code",
   "execution_count": 12,
   "id": "019d76b2",
   "metadata": {
    "ExecuteTime": {
     "end_time": "2023-11-14T15:23:39.321139Z",
     "start_time": "2023-11-14T15:23:39.302524Z"
    }
   },
   "outputs": [
    {
     "data": {
      "text/html": [
       "<div>\n",
       "<style scoped>\n",
       "    .dataframe tbody tr th:only-of-type {\n",
       "        vertical-align: middle;\n",
       "    }\n",
       "\n",
       "    .dataframe tbody tr th {\n",
       "        vertical-align: top;\n",
       "    }\n",
       "\n",
       "    .dataframe thead th {\n",
       "        text-align: right;\n",
       "    }\n",
       "</style>\n",
       "<table border=\"1\" class=\"dataframe\">\n",
       "  <thead>\n",
       "    <tr style=\"text-align: right;\">\n",
       "      <th></th>\n",
       "      <th>f1</th>\n",
       "      <th>f2</th>\n",
       "      <th>fir_filter_order</th>\n",
       "      <th>low_pass_filter_order</th>\n",
       "      <th>low_pass_cutoff</th>\n",
       "      <th>peak_min_height</th>\n",
       "      <th>peak_min_distance</th>\n",
       "      <th>pozo_nunique</th>\n",
       "      <th>cantidad_ecometrias_nunique</th>\n",
       "      <th>error_mean</th>\n",
       "      <th>error_std</th>\n",
       "    </tr>\n",
       "  </thead>\n",
       "  <tbody>\n",
       "    <tr>\n",
       "      <th>709</th>\n",
       "      <td>1</td>\n",
       "      <td>60</td>\n",
       "      <td>500</td>\n",
       "      <td>5</td>\n",
       "      <td>100</td>\n",
       "      <td>0.5</td>\n",
       "      <td>500</td>\n",
       "      <td>7</td>\n",
       "      <td>25</td>\n",
       "      <td>43.373420</td>\n",
       "      <td>49.117434</td>\n",
       "    </tr>\n",
       "    <tr>\n",
       "      <th>466</th>\n",
       "      <td>1</td>\n",
       "      <td>55</td>\n",
       "      <td>500</td>\n",
       "      <td>5</td>\n",
       "      <td>100</td>\n",
       "      <td>0.5</td>\n",
       "      <td>500</td>\n",
       "      <td>7</td>\n",
       "      <td>25</td>\n",
       "      <td>43.373420</td>\n",
       "      <td>49.117434</td>\n",
       "    </tr>\n",
       "    <tr>\n",
       "      <th>224</th>\n",
       "      <td>1</td>\n",
       "      <td>50</td>\n",
       "      <td>500</td>\n",
       "      <td>5</td>\n",
       "      <td>100</td>\n",
       "      <td>0.5</td>\n",
       "      <td>750</td>\n",
       "      <td>7</td>\n",
       "      <td>25</td>\n",
       "      <td>43.373420</td>\n",
       "      <td>49.117434</td>\n",
       "    </tr>\n",
       "    <tr>\n",
       "      <th>223</th>\n",
       "      <td>1</td>\n",
       "      <td>50</td>\n",
       "      <td>500</td>\n",
       "      <td>5</td>\n",
       "      <td>100</td>\n",
       "      <td>0.5</td>\n",
       "      <td>500</td>\n",
       "      <td>7</td>\n",
       "      <td>25</td>\n",
       "      <td>43.373420</td>\n",
       "      <td>49.117434</td>\n",
       "    </tr>\n",
       "    <tr>\n",
       "      <th>710</th>\n",
       "      <td>1</td>\n",
       "      <td>60</td>\n",
       "      <td>500</td>\n",
       "      <td>5</td>\n",
       "      <td>100</td>\n",
       "      <td>0.5</td>\n",
       "      <td>750</td>\n",
       "      <td>7</td>\n",
       "      <td>25</td>\n",
       "      <td>43.373420</td>\n",
       "      <td>49.117434</td>\n",
       "    </tr>\n",
       "    <tr>\n",
       "      <th>...</th>\n",
       "      <td>...</td>\n",
       "      <td>...</td>\n",
       "      <td>...</td>\n",
       "      <td>...</td>\n",
       "      <td>...</td>\n",
       "      <td>...</td>\n",
       "      <td>...</td>\n",
       "      <td>...</td>\n",
       "      <td>...</td>\n",
       "      <td>...</td>\n",
       "      <td>...</td>\n",
       "    </tr>\n",
       "    <tr>\n",
       "      <th>928</th>\n",
       "      <td>5</td>\n",
       "      <td>50</td>\n",
       "      <td>500</td>\n",
       "      <td>15</td>\n",
       "      <td>25</td>\n",
       "      <td>0.1</td>\n",
       "      <td>500</td>\n",
       "      <td>7</td>\n",
       "      <td>25</td>\n",
       "      <td>108.653541</td>\n",
       "      <td>145.947477</td>\n",
       "    </tr>\n",
       "    <tr>\n",
       "      <th>1414</th>\n",
       "      <td>5</td>\n",
       "      <td>60</td>\n",
       "      <td>500</td>\n",
       "      <td>15</td>\n",
       "      <td>25</td>\n",
       "      <td>0.1</td>\n",
       "      <td>500</td>\n",
       "      <td>7</td>\n",
       "      <td>25</td>\n",
       "      <td>108.690076</td>\n",
       "      <td>145.803765</td>\n",
       "    </tr>\n",
       "    <tr>\n",
       "      <th>684</th>\n",
       "      <td>1</td>\n",
       "      <td>60</td>\n",
       "      <td>500</td>\n",
       "      <td>15</td>\n",
       "      <td>25</td>\n",
       "      <td>0.1</td>\n",
       "      <td>250</td>\n",
       "      <td>7</td>\n",
       "      <td>25</td>\n",
       "      <td>109.018897</td>\n",
       "      <td>145.409066</td>\n",
       "    </tr>\n",
       "    <tr>\n",
       "      <th>687</th>\n",
       "      <td>1</td>\n",
       "      <td>60</td>\n",
       "      <td>500</td>\n",
       "      <td>15</td>\n",
       "      <td>25</td>\n",
       "      <td>0.2</td>\n",
       "      <td>250</td>\n",
       "      <td>7</td>\n",
       "      <td>25</td>\n",
       "      <td>109.018897</td>\n",
       "      <td>145.409066</td>\n",
       "    </tr>\n",
       "    <tr>\n",
       "      <th>927</th>\n",
       "      <td>5</td>\n",
       "      <td>50</td>\n",
       "      <td>500</td>\n",
       "      <td>15</td>\n",
       "      <td>25</td>\n",
       "      <td>0.1</td>\n",
       "      <td>250</td>\n",
       "      <td>7</td>\n",
       "      <td>25</td>\n",
       "      <td>129.235981</td>\n",
       "      <td>173.424629</td>\n",
       "    </tr>\n",
       "  </tbody>\n",
       "</table>\n",
       "<p>2187 rows × 11 columns</p>\n",
       "</div>"
      ],
      "text/plain": [
       "     f1  f2 fir_filter_order low_pass_filter_order low_pass_cutoff  \\\n",
       "709   1  60              500                     5             100   \n",
       "466   1  55              500                     5             100   \n",
       "224   1  50              500                     5             100   \n",
       "223   1  50              500                     5             100   \n",
       "710   1  60              500                     5             100   \n",
       "...  ..  ..              ...                   ...             ...   \n",
       "928   5  50              500                    15              25   \n",
       "1414  5  60              500                    15              25   \n",
       "684   1  60              500                    15              25   \n",
       "687   1  60              500                    15              25   \n",
       "927   5  50              500                    15              25   \n",
       "\n",
       "     peak_min_height peak_min_distance  pozo_nunique  \\\n",
       "709              0.5               500             7   \n",
       "466              0.5               500             7   \n",
       "224              0.5               750             7   \n",
       "223              0.5               500             7   \n",
       "710              0.5               750             7   \n",
       "...              ...               ...           ...   \n",
       "928              0.1               500             7   \n",
       "1414             0.1               500             7   \n",
       "684              0.1               250             7   \n",
       "687              0.2               250             7   \n",
       "927              0.1               250             7   \n",
       "\n",
       "      cantidad_ecometrias_nunique  error_mean   error_std  \n",
       "709                            25   43.373420   49.117434  \n",
       "466                            25   43.373420   49.117434  \n",
       "224                            25   43.373420   49.117434  \n",
       "223                            25   43.373420   49.117434  \n",
       "710                            25   43.373420   49.117434  \n",
       "...                           ...         ...         ...  \n",
       "928                            25  108.653541  145.947477  \n",
       "1414                           25  108.690076  145.803765  \n",
       "684                            25  109.018897  145.409066  \n",
       "687                            25  109.018897  145.409066  \n",
       "927                            25  129.235981  173.424629  \n",
       "\n",
       "[2187 rows x 11 columns]"
      ]
     },
     "execution_count": 12,
     "metadata": {},
     "output_type": "execute_result"
    }
   ],
   "source": [
    "df_summary_initial.sort_values(by='error_mean')"
   ]
  },
  {
   "cell_type": "markdown",
   "id": "755d0811",
   "metadata": {},
   "source": [
    "# Optimización para método de Hilbert"
   ]
  },
  {
   "cell_type": "code",
   "execution_count": 13,
   "id": "20c2b2c5",
   "metadata": {
    "ExecuteTime": {
     "end_time": "2023-11-14T15:23:39.329960Z",
     "start_time": "2023-11-14T15:23:39.326333Z"
    }
   },
   "outputs": [],
   "source": [
    "params_grid_dict = {\n",
    "    'f1': [1, 5, 7],\n",
    "    'f2': [50, 55, 60],\n",
    "    'order': [50, 100, 150],\n",
    "    'peak_min_height': [0.1, 0.2, 0.5],\n",
    "    'peak_min_distance': [250, 500, 750]\n",
    "}\n",
    "\n",
    "params_grid = list(itertools.product(*[v for k, v in params_grid_dict.items()]))"
   ]
  },
  {
   "cell_type": "code",
   "execution_count": 14,
   "id": "c580313d",
   "metadata": {
    "ExecuteTime": {
     "end_time": "2023-11-14T15:23:39.335589Z",
     "start_time": "2023-11-14T15:23:39.331842Z"
    }
   },
   "outputs": [
    {
     "data": {
      "text/plain": [
       "243"
      ]
     },
     "execution_count": 14,
     "metadata": {},
     "output_type": "execute_result"
    }
   ],
   "source": [
    "len(params_grid)"
   ]
  },
  {
   "cell_type": "code",
   "execution_count": 15,
   "id": "cc3c1f1f",
   "metadata": {
    "ExecuteTime": {
     "end_time": "2023-11-14T15:26:09.942342Z",
     "start_time": "2023-11-14T15:23:39.337748Z"
    }
   },
   "outputs": [
    {
     "name": "stderr",
     "output_type": "stream",
     "text": [
      "100%|██████████████████████████████████████████████████████████████████████| 243/243 [02:30<00:00,  1.61it/s]\n"
     ]
    }
   ],
   "source": [
    "results = []\n",
    "\n",
    "for params in tqdm(params_grid):\n",
    "    params_config_dict = dict(zip(params_grid_dict.keys(), params))\n",
    "    initial = base_depth.InitialEstimationHilbert(**params_config_dict)\n",
    "    \n",
    "    for well_id, well_depth in well_values.items():\n",
    "        ecometries_dir = glob(f'../data/raw/20_10_2021 ( pruebas tiro cuplas largo)/{well_id}/*')\n",
    "        ecometries_dir = [e for e in ecometries_dir if 'Frec1(7)_IncF(1)' in e]\n",
    "        for ecometry_dir in ecometries_dir:\n",
    "            trials = glob(ecometry_dir + '/*.json')\n",
    "            \n",
    "            for ecometry_name in trials:\n",
    "                estimated_speed = InitialEstimation(remove_saturation=True).predict(ecometry_name)\n",
    "\n",
    "                if (estimated_speed is None) or (estimated_speed < 100):\n",
    "                    estimated_speed = 365\n",
    "\n",
    "                df, output_signal = load_sample_file(ecometry_name)\n",
    "                signal_len = len(output_signal)\n",
    "                output_signal = remove_saturation_method(output_signal)\n",
    "                removed_samples = signal_len - len(output_signal)\n",
    "\n",
    "                depth = initial.predict(output_signal_values=output_signal,\n",
    "                                        df_ecometry_params=df,\n",
    "                                        estimated_speed=estimated_speed,\n",
    "                                        removed_samples=removed_samples,\n",
    "                                        use_correlation=True)\n",
    "                \n",
    "                error = abs(well_depth - depth) if (depth) else None\n",
    "\n",
    "                params_str = '__'.join([f'{k}-{v}' for k, v in params_config_dict.items()])\n",
    "                results.append([well_id, ecometry_name, params_str, depth, error])"
   ]
  },
  {
   "cell_type": "code",
   "execution_count": 16,
   "id": "c7cc1a56",
   "metadata": {
    "ExecuteTime": {
     "end_time": "2023-11-14T15:26:09.956327Z",
     "start_time": "2023-11-14T15:26:09.945201Z"
    }
   },
   "outputs": [],
   "source": [
    "df_hilbert = pd.DataFrame(results, columns=['pozo', 'ecometria', 'params', 'profundidad_estimada', 'error'])"
   ]
  },
  {
   "cell_type": "code",
   "execution_count": 17,
   "id": "d1c01b35",
   "metadata": {
    "ExecuteTime": {
     "end_time": "2023-11-14T15:26:10.107414Z",
     "start_time": "2023-11-14T15:26:09.959232Z"
    }
   },
   "outputs": [],
   "source": [
    "df_hilbert['f1'] = df_hilbert.params.str.split('__').apply(lambda x: x[0]).str.split('-').apply(lambda x: x[-1])\n",
    "df_hilbert['f2'] = df_hilbert.params.str.split('__').apply(lambda x: x[1]).str.split('-').apply(lambda x: x[-1])\n",
    "df_hilbert['order'] = df_hilbert.params.str.split('__').apply(lambda x: x[2]).str.split('-').apply(lambda x: x[-1])\n",
    "df_hilbert['peak_min_height'] = df_hilbert.params.str.split('__').apply(lambda x: x[3]).str.split('-').apply(lambda x: x[-1])\n",
    "df_hilbert['peak_min_distance'] = df_hilbert.params.str.split('__').apply(lambda x: x[4]).str.split('-').apply(lambda x: x[-1])"
   ]
  },
  {
   "cell_type": "code",
   "execution_count": 18,
   "id": "11beb4ce",
   "metadata": {
    "ExecuteTime": {
     "end_time": "2023-11-14T15:26:10.126528Z",
     "start_time": "2023-11-14T15:26:10.109988Z"
    }
   },
   "outputs": [],
   "source": [
    "method_params_cols = ['f1', 'f2',\n",
    "                      'order', 'peak_min_height',\n",
    "                      'peak_min_distance']\n",
    "method_cols = []\n",
    "df_summary_hilbert = df_hilbert.groupby(method_params_cols).agg(\n",
    "    {'pozo': 'nunique',\n",
    "     'ecometria': 'nunique',\n",
    "     'error': ['mean', 'std']}).reset_index()\n",
    "df_summary_hilbert.rename(columns={'ecometria': 'cantidad_ecometrias'}, inplace=True)"
   ]
  },
  {
   "cell_type": "code",
   "execution_count": 19,
   "id": "11c5a86a",
   "metadata": {
    "ExecuteTime": {
     "end_time": "2023-11-14T15:26:10.133393Z",
     "start_time": "2023-11-14T15:26:10.129227Z"
    }
   },
   "outputs": [],
   "source": [
    "df_summary_hilbert.columns = [f'{c}_{s}' if s != '' else c for (c, s) in zip(df_summary_hilbert.columns.droplevel(1), df_summary_hilbert.columns.droplevel(0))]"
   ]
  },
  {
   "cell_type": "code",
   "execution_count": 20,
   "id": "88bf96ca",
   "metadata": {
    "ExecuteTime": {
     "end_time": "2023-11-14T15:26:10.148491Z",
     "start_time": "2023-11-14T15:26:10.136478Z"
    }
   },
   "outputs": [
    {
     "data": {
      "text/html": [
       "<div>\n",
       "<style scoped>\n",
       "    .dataframe tbody tr th:only-of-type {\n",
       "        vertical-align: middle;\n",
       "    }\n",
       "\n",
       "    .dataframe tbody tr th {\n",
       "        vertical-align: top;\n",
       "    }\n",
       "\n",
       "    .dataframe thead th {\n",
       "        text-align: right;\n",
       "    }\n",
       "</style>\n",
       "<table border=\"1\" class=\"dataframe\">\n",
       "  <thead>\n",
       "    <tr style=\"text-align: right;\">\n",
       "      <th></th>\n",
       "      <th>f1</th>\n",
       "      <th>f2</th>\n",
       "      <th>order</th>\n",
       "      <th>peak_min_height</th>\n",
       "      <th>peak_min_distance</th>\n",
       "      <th>pozo_nunique</th>\n",
       "      <th>cantidad_ecometrias_nunique</th>\n",
       "      <th>error_mean</th>\n",
       "      <th>error_std</th>\n",
       "    </tr>\n",
       "  </thead>\n",
       "  <tbody>\n",
       "    <tr>\n",
       "      <th>71</th>\n",
       "      <td>1</td>\n",
       "      <td>60</td>\n",
       "      <td>150</td>\n",
       "      <td>0.5</td>\n",
       "      <td>750</td>\n",
       "      <td>7</td>\n",
       "      <td>25</td>\n",
       "      <td>67.843098</td>\n",
       "      <td>38.431100</td>\n",
       "    </tr>\n",
       "    <tr>\n",
       "      <th>70</th>\n",
       "      <td>1</td>\n",
       "      <td>60</td>\n",
       "      <td>150</td>\n",
       "      <td>0.5</td>\n",
       "      <td>500</td>\n",
       "      <td>7</td>\n",
       "      <td>25</td>\n",
       "      <td>67.843098</td>\n",
       "      <td>38.431100</td>\n",
       "    </tr>\n",
       "    <tr>\n",
       "      <th>40</th>\n",
       "      <td>1</td>\n",
       "      <td>55</td>\n",
       "      <td>150</td>\n",
       "      <td>0.2</td>\n",
       "      <td>500</td>\n",
       "      <td>7</td>\n",
       "      <td>25</td>\n",
       "      <td>67.843098</td>\n",
       "      <td>38.431100</td>\n",
       "    </tr>\n",
       "    <tr>\n",
       "      <th>41</th>\n",
       "      <td>1</td>\n",
       "      <td>55</td>\n",
       "      <td>150</td>\n",
       "      <td>0.2</td>\n",
       "      <td>750</td>\n",
       "      <td>7</td>\n",
       "      <td>25</td>\n",
       "      <td>67.843098</td>\n",
       "      <td>38.431100</td>\n",
       "    </tr>\n",
       "    <tr>\n",
       "      <th>43</th>\n",
       "      <td>1</td>\n",
       "      <td>55</td>\n",
       "      <td>150</td>\n",
       "      <td>0.5</td>\n",
       "      <td>500</td>\n",
       "      <td>7</td>\n",
       "      <td>25</td>\n",
       "      <td>67.843098</td>\n",
       "      <td>38.431100</td>\n",
       "    </tr>\n",
       "    <tr>\n",
       "      <th>...</th>\n",
       "      <td>...</td>\n",
       "      <td>...</td>\n",
       "      <td>...</td>\n",
       "      <td>...</td>\n",
       "      <td>...</td>\n",
       "      <td>...</td>\n",
       "      <td>...</td>\n",
       "      <td>...</td>\n",
       "      <td>...</td>\n",
       "    </tr>\n",
       "    <tr>\n",
       "      <th>180</th>\n",
       "      <td>7</td>\n",
       "      <td>50</td>\n",
       "      <td>50</td>\n",
       "      <td>0.1</td>\n",
       "      <td>250</td>\n",
       "      <td>7</td>\n",
       "      <td>25</td>\n",
       "      <td>97.333208</td>\n",
       "      <td>92.220248</td>\n",
       "    </tr>\n",
       "    <tr>\n",
       "      <th>153</th>\n",
       "      <td>5</td>\n",
       "      <td>60</td>\n",
       "      <td>50</td>\n",
       "      <td>0.1</td>\n",
       "      <td>250</td>\n",
       "      <td>7</td>\n",
       "      <td>25</td>\n",
       "      <td>97.342777</td>\n",
       "      <td>92.213880</td>\n",
       "    </tr>\n",
       "    <tr>\n",
       "      <th>18</th>\n",
       "      <td>1</td>\n",
       "      <td>50</td>\n",
       "      <td>50</td>\n",
       "      <td>0.1</td>\n",
       "      <td>250</td>\n",
       "      <td>7</td>\n",
       "      <td>25</td>\n",
       "      <td>97.361915</td>\n",
       "      <td>92.208473</td>\n",
       "    </tr>\n",
       "    <tr>\n",
       "      <th>45</th>\n",
       "      <td>1</td>\n",
       "      <td>55</td>\n",
       "      <td>50</td>\n",
       "      <td>0.1</td>\n",
       "      <td>250</td>\n",
       "      <td>7</td>\n",
       "      <td>25</td>\n",
       "      <td>97.361915</td>\n",
       "      <td>92.208473</td>\n",
       "    </tr>\n",
       "    <tr>\n",
       "      <th>72</th>\n",
       "      <td>1</td>\n",
       "      <td>60</td>\n",
       "      <td>50</td>\n",
       "      <td>0.1</td>\n",
       "      <td>250</td>\n",
       "      <td>7</td>\n",
       "      <td>25</td>\n",
       "      <td>97.361915</td>\n",
       "      <td>92.208473</td>\n",
       "    </tr>\n",
       "  </tbody>\n",
       "</table>\n",
       "<p>243 rows × 9 columns</p>\n",
       "</div>"
      ],
      "text/plain": [
       "    f1  f2 order peak_min_height peak_min_distance  pozo_nunique  \\\n",
       "71   1  60   150             0.5               750             7   \n",
       "70   1  60   150             0.5               500             7   \n",
       "40   1  55   150             0.2               500             7   \n",
       "41   1  55   150             0.2               750             7   \n",
       "43   1  55   150             0.5               500             7   \n",
       "..  ..  ..   ...             ...               ...           ...   \n",
       "180  7  50    50             0.1               250             7   \n",
       "153  5  60    50             0.1               250             7   \n",
       "18   1  50    50             0.1               250             7   \n",
       "45   1  55    50             0.1               250             7   \n",
       "72   1  60    50             0.1               250             7   \n",
       "\n",
       "     cantidad_ecometrias_nunique  error_mean  error_std  \n",
       "71                            25   67.843098  38.431100  \n",
       "70                            25   67.843098  38.431100  \n",
       "40                            25   67.843098  38.431100  \n",
       "41                            25   67.843098  38.431100  \n",
       "43                            25   67.843098  38.431100  \n",
       "..                           ...         ...        ...  \n",
       "180                           25   97.333208  92.220248  \n",
       "153                           25   97.342777  92.213880  \n",
       "18                            25   97.361915  92.208473  \n",
       "45                            25   97.361915  92.208473  \n",
       "72                            25   97.361915  92.208473  \n",
       "\n",
       "[243 rows x 9 columns]"
      ]
     },
     "execution_count": 20,
     "metadata": {},
     "output_type": "execute_result"
    }
   ],
   "source": [
    "df_summary_hilbert.sort_values(by='error_mean')"
   ]
  },
  {
   "cell_type": "markdown",
   "id": "68eeeed8",
   "metadata": {},
   "source": [
    "# Resultados para el método de RF Industrial"
   ]
  },
  {
   "cell_type": "code",
   "execution_count": 21,
   "id": "2e66115c",
   "metadata": {
    "ExecuteTime": {
     "end_time": "2023-11-14T15:26:10.499143Z",
     "start_time": "2023-11-14T15:26:10.150802Z"
    }
   },
   "outputs": [],
   "source": [
    "baseline_method = base_depth.RFIndustrialEstimation()\n",
    "results = []\n",
    "    \n",
    "for well_id, well_depth in well_values.items():\n",
    "    ecometries_dir = glob(f'../data/raw/20_10_2021 ( pruebas tiro cuplas largo)/{well_id}/*')\n",
    "    ecometries_dir = [e for e in ecometries_dir if 'Frec1(7)_IncF(1)' in e]\n",
    "    for ecometry_dir in ecometries_dir:\n",
    "        trials = glob(ecometry_dir + '/*.json')\n",
    "        estimated_speed = InitialEstimation(remove_saturation=True).predict(trials[0])\n",
    "        \n",
    "        if (estimated_speed is None) or (estimated_speed < 100):\n",
    "            estimated_speed = 365\n",
    "        \n",
    "        depth = baseline_method.predict(ecometry_path=ecometry_dir,\n",
    "                                        estimated_speed=estimated_speed)\n",
    "\n",
    "        error = abs(well_depth - depth) if (depth) else None\n",
    "\n",
    "        results.append([well_id, ecometry_dir, depth, error])"
   ]
  },
  {
   "cell_type": "code",
   "execution_count": 22,
   "id": "c99bc031",
   "metadata": {
    "ExecuteTime": {
     "end_time": "2023-11-14T15:26:10.505529Z",
     "start_time": "2023-11-14T15:26:10.501536Z"
    }
   },
   "outputs": [],
   "source": [
    "df_baseline = pd.DataFrame(results, columns=['pozo', 'ecometria', 'profundidad_estimada', 'error'])"
   ]
  },
  {
   "cell_type": "code",
   "execution_count": 23,
   "id": "9d02374b",
   "metadata": {
    "ExecuteTime": {
     "end_time": "2023-11-14T15:26:10.517485Z",
     "start_time": "2023-11-14T15:26:10.507740Z"
    }
   },
   "outputs": [
    {
     "data": {
      "text/plain": [
       "count     11.000000\n",
       "mean      70.305914\n",
       "std       42.373942\n",
       "min       12.340667\n",
       "25%       47.255860\n",
       "50%       67.015333\n",
       "75%       83.026097\n",
       "max      175.662602\n",
       "Name: error, dtype: float64"
      ]
     },
     "execution_count": 23,
     "metadata": {},
     "output_type": "execute_result"
    }
   ],
   "source": [
    "df_baseline.error.describe()"
   ]
  }
 ],
 "metadata": {
  "hide_input": false,
  "kernelspec": {
   "display_name": "Python 3 (ipykernel)",
   "language": "python",
   "name": "python3"
  },
  "language_info": {
   "codemirror_mode": {
    "name": "ipython",
    "version": 3
   },
   "file_extension": ".py",
   "mimetype": "text/x-python",
   "name": "python",
   "nbconvert_exporter": "python",
   "pygments_lexer": "ipython3",
   "version": "3.10.4"
  },
  "toc": {
   "base_numbering": 1,
   "nav_menu": {},
   "number_sections": true,
   "sideBar": true,
   "skip_h1_title": false,
   "title_cell": "Table of Contents",
   "title_sidebar": "Contents",
   "toc_cell": false,
   "toc_position": {},
   "toc_section_display": true,
   "toc_window_display": false
  }
 },
 "nbformat": 4,
 "nbformat_minor": 5
}
